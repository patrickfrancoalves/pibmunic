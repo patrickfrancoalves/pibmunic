{
 "cells": [
  {
   "cell_type": "code",
   "execution_count": 2,
   "metadata": {},
   "outputs": [],
   "source": [
    "import os\n",
    "import sys\n",
    "import math\n",
    "import pandas as pd\n",
    "import numpy as np\n",
    "import matplotlib.pyplot as plt\n",
    "import xgboost as xgb\n",
    "import pickle\n",
    "from sklearn.model_selection import train_test_split\n",
    "from sklearn.metrics import confusion_matrix, precision_score, recall_score, accuracy_score, f1_score\n",
    "from sklearn.metrics import make_scorer, precision_recall_curve, auc\n",
    "from sklearn.preprocessing import MinMaxScaler\n",
    "from sklearn.model_selection import RandomizedSearchCV\n",
    "\n",
    "from bayes_opt import BayesianOptimization\n",
    "#from sklearn.experimental import enable_halving_search_cv \n",
    "#from sklearn.model_selection import HalvingRandomSearchCV\n",
    "#from sklearn.model_selection import HalvingGridSearchCV \n",
    "from collections import Counter\n",
    "from imblearn.over_sampling import SMOTE"
   ]
  },
  {
   "cell_type": "markdown",
   "metadata": {},
   "source": [
    "# Menu\n",
    "\n",
    "<a name=\"navegacao\"></a>\n",
    "\n",
    "## 1) [Preparação dos dados](#parte1)\n",
    "- 1.1 [Leitura base principal](#principal)\n",
    "- 1.2 [Leitura base mes](#mes)\n",
    "- 1.3 [Leitura base hora](#hora)\n",
    "- 1.4 [Merge principal e base mensal](#merge1)\n",
    "- 1.5 [Merge principal e base hora](#merge2)\n",
    "- 1.6 [Confere marcação](#marcacao)\n",
    "\n",
    "\n",
    "## 2 [Salvando as bases de treino](#parte2)\n",
    "- 2.1 [Salvando base com histórico](#comhist)\n",
    "- 2.2 [Salvando base sem histórico](#semhist)\n"
   ]
  },
  {
   "cell_type": "markdown",
   "metadata": {},
   "source": [
    "<a name=\"principal\"></a>\n",
    "\n",
    "## 1.1) Leitura base principal\n"
   ]
  },
  {
   "cell_type": "markdown",
   "metadata": {},
   "source": [
    "## Leitura dos dados"
   ]
  },
  {
   "cell_type": "code",
   "execution_count": 3,
   "metadata": {},
   "outputs": [
    {
     "name": "stdout",
     "output_type": "stream",
     "text": [
      "CPU times: total: 406 ms\n",
      "Wall time: 391 ms\n"
     ]
    }
   ],
   "source": [
    "%%time\n",
    "#df = pd.read_pickle(\"perfilpj.pkl\")\n",
    "df = pd.read_csv(\"BNDES_UNIFICADO.csv\", converters={'CNPJ8': str, 'INTERMEDIARIA': str},\n",
    "                 delimiter=\";\" , encoding='latin-1')\n"
   ]
  },
  {
   "cell_type": "code",
   "execution_count": 4,
   "metadata": {},
   "outputs": [],
   "source": [
    "df.replace([np.inf, -np.inf], np.nan, inplace=True)\n",
    "df.dropna(inplace=True)"
   ]
  },
  {
   "cell_type": "code",
   "execution_count": 5,
   "metadata": {},
   "outputs": [
    {
     "data": {
      "text/plain": [
       "(125516, 27)"
      ]
     },
     "execution_count": 5,
     "metadata": {},
     "output_type": "execute_result"
    }
   ],
   "source": [
    "df.shape"
   ]
  },
  {
   "cell_type": "code",
   "execution_count": 6,
   "metadata": {},
   "outputs": [
    {
     "data": {
      "text/plain": [
       "Index(['CNPJ8', 'ANO', 'EMPRESA_PUBLICA', 'GARANTIA', 'INDIRETA', 'INOVACAO',\n",
       "       'INSTRUMENTO', 'UF', 'INTERMEDIARIA', 'CUSTO', 'MEDIA_JUROS',\n",
       "       'PRAZO_AMORTIZACAO', 'TESOURO', 'PRAZO_CARENCIA', 'VALOR_CONTRATO',\n",
       "       'VALOR_DESENBOLSO', 'Porte_Cliente', 'CAPITAL_SOCIAL', 'IDADE',\n",
       "       'NATJUR', 'NCONTRATOS', 'NFILIAIS', 'PORTE_RECEITA', 'SITUACAO',\n",
       "       'IDADE_SOCIOS', 'QTDSOCIOS', 'SOCIO_PJ'],\n",
       "      dtype='object')"
      ]
     },
     "execution_count": 6,
     "metadata": {},
     "output_type": "execute_result"
    }
   ],
   "source": [
    "df.columns"
   ]
  },
  {
   "cell_type": "code",
   "execution_count": 7,
   "metadata": {},
   "outputs": [
    {
     "name": "stdout",
     "output_type": "stream",
     "text": [
      "CPU times: total: 0 ns\n",
      "Wall time: 0 ns\n"
     ]
    },
    {
     "data": {
      "text/html": [
       "<div>\n",
       "<style scoped>\n",
       "    .dataframe tbody tr th:only-of-type {\n",
       "        vertical-align: middle;\n",
       "    }\n",
       "\n",
       "    .dataframe tbody tr th {\n",
       "        vertical-align: top;\n",
       "    }\n",
       "\n",
       "    .dataframe thead th {\n",
       "        text-align: right;\n",
       "    }\n",
       "</style>\n",
       "<table border=\"1\" class=\"dataframe\">\n",
       "  <thead>\n",
       "    <tr style=\"text-align: right;\">\n",
       "      <th></th>\n",
       "      <th>CNPJ8</th>\n",
       "      <th>ANO</th>\n",
       "      <th>EMPRESA_PUBLICA</th>\n",
       "      <th>GARANTIA</th>\n",
       "      <th>INDIRETA</th>\n",
       "      <th>INOVACAO</th>\n",
       "      <th>INSTRUMENTO</th>\n",
       "      <th>UF</th>\n",
       "      <th>INTERMEDIARIA</th>\n",
       "      <th>CUSTO</th>\n",
       "      <th>...</th>\n",
       "      <th>CAPITAL_SOCIAL</th>\n",
       "      <th>IDADE</th>\n",
       "      <th>NATJUR</th>\n",
       "      <th>NCONTRATOS</th>\n",
       "      <th>NFILIAIS</th>\n",
       "      <th>PORTE_RECEITA</th>\n",
       "      <th>SITUACAO</th>\n",
       "      <th>IDADE_SOCIOS</th>\n",
       "      <th>QTDSOCIOS</th>\n",
       "      <th>SOCIO_PJ</th>\n",
       "    </tr>\n",
       "  </thead>\n",
       "  <tbody>\n",
       "    <tr>\n",
       "      <th>0</th>\n",
       "      <td>00000000</td>\n",
       "      <td>2002</td>\n",
       "      <td>0</td>\n",
       "      <td>OUTROS</td>\n",
       "      <td>0</td>\n",
       "      <td>1</td>\n",
       "      <td>OUTROS</td>\n",
       "      <td>IE</td>\n",
       "      <td>00000000</td>\n",
       "      <td>TJLP</td>\n",
       "      <td>...</td>\n",
       "      <td>9.000002e+10</td>\n",
       "      <td>37.0</td>\n",
       "      <td>2.0</td>\n",
       "      <td>15</td>\n",
       "      <td>5089</td>\n",
       "      <td>5.0</td>\n",
       "      <td>1</td>\n",
       "      <td>1.0</td>\n",
       "      <td>1</td>\n",
       "      <td>0</td>\n",
       "    </tr>\n",
       "    <tr>\n",
       "      <th>1</th>\n",
       "      <td>00000000</td>\n",
       "      <td>2003</td>\n",
       "      <td>0</td>\n",
       "      <td>OUTROS</td>\n",
       "      <td>0</td>\n",
       "      <td>0</td>\n",
       "      <td>OUTROS</td>\n",
       "      <td>IE</td>\n",
       "      <td>92816560</td>\n",
       "      <td>TJLP</td>\n",
       "      <td>...</td>\n",
       "      <td>9.000002e+10</td>\n",
       "      <td>38.0</td>\n",
       "      <td>2.0</td>\n",
       "      <td>2</td>\n",
       "      <td>5123</td>\n",
       "      <td>5.0</td>\n",
       "      <td>1</td>\n",
       "      <td>1.0</td>\n",
       "      <td>1</td>\n",
       "      <td>0</td>\n",
       "    </tr>\n",
       "    <tr>\n",
       "      <th>2</th>\n",
       "      <td>00000000</td>\n",
       "      <td>2009</td>\n",
       "      <td>1</td>\n",
       "      <td>SEM GARANTIA</td>\n",
       "      <td>0</td>\n",
       "      <td>0</td>\n",
       "      <td>OUTROS</td>\n",
       "      <td>RJ</td>\n",
       "      <td></td>\n",
       "      <td>TAXAFIXA</td>\n",
       "      <td>...</td>\n",
       "      <td>9.000002e+10</td>\n",
       "      <td>44.0</td>\n",
       "      <td>2.0</td>\n",
       "      <td>5</td>\n",
       "      <td>6912</td>\n",
       "      <td>5.0</td>\n",
       "      <td>1</td>\n",
       "      <td>1.0</td>\n",
       "      <td>1</td>\n",
       "      <td>0</td>\n",
       "    </tr>\n",
       "    <tr>\n",
       "      <th>3</th>\n",
       "      <td>00000000</td>\n",
       "      <td>2010</td>\n",
       "      <td>1</td>\n",
       "      <td>SEM GARANTIA</td>\n",
       "      <td>0</td>\n",
       "      <td>0</td>\n",
       "      <td>OUTROS</td>\n",
       "      <td>RJ</td>\n",
       "      <td></td>\n",
       "      <td>TAXAFIXA</td>\n",
       "      <td>...</td>\n",
       "      <td>9.000002e+10</td>\n",
       "      <td>45.0</td>\n",
       "      <td>2.0</td>\n",
       "      <td>2</td>\n",
       "      <td>7002</td>\n",
       "      <td>5.0</td>\n",
       "      <td>1</td>\n",
       "      <td>1.0</td>\n",
       "      <td>1</td>\n",
       "      <td>0</td>\n",
       "    </tr>\n",
       "    <tr>\n",
       "      <th>4</th>\n",
       "      <td>00000000</td>\n",
       "      <td>2012</td>\n",
       "      <td>1</td>\n",
       "      <td>MISTA</td>\n",
       "      <td>0</td>\n",
       "      <td>0</td>\n",
       "      <td>OUTROS</td>\n",
       "      <td>IE</td>\n",
       "      <td></td>\n",
       "      <td>TJLP</td>\n",
       "      <td>...</td>\n",
       "      <td>9.000002e+10</td>\n",
       "      <td>47.0</td>\n",
       "      <td>2.0</td>\n",
       "      <td>1</td>\n",
       "      <td>7407</td>\n",
       "      <td>5.0</td>\n",
       "      <td>1</td>\n",
       "      <td>1.0</td>\n",
       "      <td>1</td>\n",
       "      <td>0</td>\n",
       "    </tr>\n",
       "  </tbody>\n",
       "</table>\n",
       "<p>5 rows × 27 columns</p>\n",
       "</div>"
      ],
      "text/plain": [
       "      CNPJ8   ANO  EMPRESA_PUBLICA      GARANTIA  INDIRETA  INOVACAO  \\\n",
       "0  00000000  2002                0        OUTROS         0         1   \n",
       "1  00000000  2003                0        OUTROS         0         0   \n",
       "2  00000000  2009                1  SEM GARANTIA         0         0   \n",
       "3  00000000  2010                1  SEM GARANTIA         0         0   \n",
       "4  00000000  2012                1         MISTA         0         0   \n",
       "\n",
       "  INSTRUMENTO  UF INTERMEDIARIA     CUSTO  ...  CAPITAL_SOCIAL  IDADE  NATJUR  \\\n",
       "0      OUTROS  IE      00000000      TJLP  ...    9.000002e+10   37.0     2.0   \n",
       "1      OUTROS  IE      92816560      TJLP  ...    9.000002e+10   38.0     2.0   \n",
       "2      OUTROS  RJ                TAXAFIXA  ...    9.000002e+10   44.0     2.0   \n",
       "3      OUTROS  RJ                TAXAFIXA  ...    9.000002e+10   45.0     2.0   \n",
       "4      OUTROS  IE                    TJLP  ...    9.000002e+10   47.0     2.0   \n",
       "\n",
       "   NCONTRATOS  NFILIAIS  PORTE_RECEITA SITUACAO  IDADE_SOCIOS  QTDSOCIOS  \\\n",
       "0          15      5089            5.0        1           1.0          1   \n",
       "1           2      5123            5.0        1           1.0          1   \n",
       "2           5      6912            5.0        1           1.0          1   \n",
       "3           2      7002            5.0        1           1.0          1   \n",
       "4           1      7407            5.0        1           1.0          1   \n",
       "\n",
       "   SOCIO_PJ  \n",
       "0         0  \n",
       "1         0  \n",
       "2         0  \n",
       "3         0  \n",
       "4         0  \n",
       "\n",
       "[5 rows x 27 columns]"
      ]
     },
     "execution_count": 7,
     "metadata": {},
     "output_type": "execute_result"
    }
   ],
   "source": [
    "%%time\n",
    "#df.filter(regex='spl_idade', axis=1).describe()\n",
    "df.head()"
   ]
  },
  {
   "cell_type": "code",
   "execution_count": 8,
   "metadata": {},
   "outputs": [
    {
     "name": "stdout",
     "output_type": "stream",
     "text": [
      "CPU times: total: 0 ns\n",
      "Wall time: 0 ns\n"
     ]
    },
    {
     "data": {
      "text/plain": [
       "CNPJ8                 object\n",
       "ANO                    int64\n",
       "EMPRESA_PUBLICA        int64\n",
       "GARANTIA              object\n",
       "INDIRETA               int64\n",
       "INOVACAO               int64\n",
       "INSTRUMENTO           object\n",
       "UF                    object\n",
       "INTERMEDIARIA         object\n",
       "CUSTO                 object\n",
       "MEDIA_JUROS          float64\n",
       "PRAZO_AMORTIZACAO    float64\n",
       "TESOURO                int64\n",
       "PRAZO_CARENCIA       float64\n",
       "VALOR_CONTRATO       float64\n",
       "VALOR_DESENBOLSO     float64\n",
       "Porte_Cliente         object\n",
       "CAPITAL_SOCIAL       float64\n",
       "IDADE                float64\n",
       "NATJUR               float64\n",
       "NCONTRATOS             int64\n",
       "NFILIAIS               int64\n",
       "PORTE_RECEITA        float64\n",
       "SITUACAO               int64\n",
       "IDADE_SOCIOS         float64\n",
       "QTDSOCIOS              int64\n",
       "SOCIO_PJ               int64\n",
       "dtype: object"
      ]
     },
     "execution_count": 8,
     "metadata": {},
     "output_type": "execute_result"
    }
   ],
   "source": [
    "%%time\n",
    "df.dtypes"
   ]
  },
  {
   "cell_type": "code",
   "execution_count": 9,
   "metadata": {},
   "outputs": [
    {
     "data": {
      "text/html": [
       "<div>\n",
       "<style scoped>\n",
       "    .dataframe tbody tr th:only-of-type {\n",
       "        vertical-align: middle;\n",
       "    }\n",
       "\n",
       "    .dataframe tbody tr th {\n",
       "        vertical-align: top;\n",
       "    }\n",
       "\n",
       "    .dataframe thead th {\n",
       "        text-align: right;\n",
       "    }\n",
       "</style>\n",
       "<table border=\"1\" class=\"dataframe\">\n",
       "  <thead>\n",
       "    <tr style=\"text-align: right;\">\n",
       "      <th>SITUACAO</th>\n",
       "      <th>0</th>\n",
       "      <th>1</th>\n",
       "    </tr>\n",
       "    <tr>\n",
       "      <th>PORTE_RECEITA</th>\n",
       "      <th></th>\n",
       "      <th></th>\n",
       "    </tr>\n",
       "  </thead>\n",
       "  <tbody>\n",
       "    <tr>\n",
       "      <th>1.0</th>\n",
       "      <td>72792</td>\n",
       "      <td>2639</td>\n",
       "    </tr>\n",
       "    <tr>\n",
       "      <th>3.0</th>\n",
       "      <td>22618</td>\n",
       "      <td>1864</td>\n",
       "    </tr>\n",
       "    <tr>\n",
       "      <th>5.0</th>\n",
       "      <td>21244</td>\n",
       "      <td>4359</td>\n",
       "    </tr>\n",
       "  </tbody>\n",
       "</table>\n",
       "</div>"
      ],
      "text/plain": [
       "SITUACAO           0     1\n",
       "PORTE_RECEITA             \n",
       "1.0            72792  2639\n",
       "3.0            22618  1864\n",
       "5.0            21244  4359"
      ]
     },
     "execution_count": 9,
     "metadata": {},
     "output_type": "execute_result"
    }
   ],
   "source": [
    "pd.crosstab(df.PORTE_RECEITA , df.SITUACAO)"
   ]
  },
  {
   "cell_type": "code",
   "execution_count": 10,
   "metadata": {},
   "outputs": [
    {
     "name": "stdout",
     "output_type": "stream",
     "text": [
      "CPU times: total: 31.2 ms\n",
      "Wall time: 32 ms\n"
     ]
    },
    {
     "data": {
      "text/html": [
       "<div>\n",
       "<style scoped>\n",
       "    .dataframe tbody tr th:only-of-type {\n",
       "        vertical-align: middle;\n",
       "    }\n",
       "\n",
       "    .dataframe tbody tr th {\n",
       "        vertical-align: top;\n",
       "    }\n",
       "\n",
       "    .dataframe thead th {\n",
       "        text-align: right;\n",
       "    }\n",
       "</style>\n",
       "<table border=\"1\" class=\"dataframe\">\n",
       "  <thead>\n",
       "    <tr style=\"text-align: right;\">\n",
       "      <th>SITUACAO</th>\n",
       "      <th>0</th>\n",
       "      <th>1</th>\n",
       "    </tr>\n",
       "    <tr>\n",
       "      <th>CUSTO</th>\n",
       "      <th></th>\n",
       "      <th></th>\n",
       "    </tr>\n",
       "  </thead>\n",
       "  <tbody>\n",
       "    <tr>\n",
       "      <th>CDI</th>\n",
       "      <td>14</td>\n",
       "      <td>2</td>\n",
       "    </tr>\n",
       "    <tr>\n",
       "      <th>IPCA</th>\n",
       "      <td>48</td>\n",
       "      <td>8</td>\n",
       "    </tr>\n",
       "    <tr>\n",
       "      <th>OUTROS</th>\n",
       "      <td>248</td>\n",
       "      <td>119</td>\n",
       "    </tr>\n",
       "    <tr>\n",
       "      <th>SELIC</th>\n",
       "      <td>28761</td>\n",
       "      <td>1823</td>\n",
       "    </tr>\n",
       "    <tr>\n",
       "      <th>TAXAFIXA</th>\n",
       "      <td>30327</td>\n",
       "      <td>1840</td>\n",
       "    </tr>\n",
       "    <tr>\n",
       "      <th>TJLP</th>\n",
       "      <td>20437</td>\n",
       "      <td>2296</td>\n",
       "    </tr>\n",
       "    <tr>\n",
       "      <th>TLP</th>\n",
       "      <td>36819</td>\n",
       "      <td>2774</td>\n",
       "    </tr>\n",
       "  </tbody>\n",
       "</table>\n",
       "</div>"
      ],
      "text/plain": [
       "SITUACAO      0     1\n",
       "CUSTO                \n",
       "CDI          14     2\n",
       "IPCA         48     8\n",
       "OUTROS      248   119\n",
       "SELIC     28761  1823\n",
       "TAXAFIXA  30327  1840\n",
       "TJLP      20437  2296\n",
       "TLP       36819  2774"
      ]
     },
     "execution_count": 10,
     "metadata": {},
     "output_type": "execute_result"
    }
   ],
   "source": [
    "%%time\n",
    "#df[['SITUACAO','CUSTO']].groupby('FRAUDES').count()\n",
    "pd.crosstab(df.CUSTO, df.SITUACAO )"
   ]
  },
  {
   "cell_type": "code",
   "execution_count": 11,
   "metadata": {},
   "outputs": [
    {
     "name": "stdout",
     "output_type": "stream",
     "text": [
      "CPU times: total: 15.6 ms\n",
      "Wall time: 24 ms\n"
     ]
    },
    {
     "data": {
      "text/html": [
       "<div>\n",
       "<style scoped>\n",
       "    .dataframe tbody tr th:only-of-type {\n",
       "        vertical-align: middle;\n",
       "    }\n",
       "\n",
       "    .dataframe tbody tr th {\n",
       "        vertical-align: top;\n",
       "    }\n",
       "\n",
       "    .dataframe thead th {\n",
       "        text-align: right;\n",
       "    }\n",
       "</style>\n",
       "<table border=\"1\" class=\"dataframe\">\n",
       "  <thead>\n",
       "    <tr style=\"text-align: right;\">\n",
       "      <th>SITUACAO</th>\n",
       "      <th>0</th>\n",
       "      <th>1</th>\n",
       "    </tr>\n",
       "    <tr>\n",
       "      <th>NATJUR</th>\n",
       "      <th></th>\n",
       "      <th></th>\n",
       "    </tr>\n",
       "  </thead>\n",
       "  <tbody>\n",
       "    <tr>\n",
       "      <th>1.0</th>\n",
       "      <td>184</td>\n",
       "      <td>49</td>\n",
       "    </tr>\n",
       "    <tr>\n",
       "      <th>2.0</th>\n",
       "      <td>116254</td>\n",
       "      <td>8786</td>\n",
       "    </tr>\n",
       "    <tr>\n",
       "      <th>3.0</th>\n",
       "      <td>187</td>\n",
       "      <td>21</td>\n",
       "    </tr>\n",
       "    <tr>\n",
       "      <th>4.0</th>\n",
       "      <td>29</td>\n",
       "      <td>6</td>\n",
       "    </tr>\n",
       "  </tbody>\n",
       "</table>\n",
       "</div>"
      ],
      "text/plain": [
       "SITUACAO       0     1\n",
       "NATJUR                \n",
       "1.0          184    49\n",
       "2.0       116254  8786\n",
       "3.0          187    21\n",
       "4.0           29     6"
      ]
     },
     "execution_count": 11,
     "metadata": {},
     "output_type": "execute_result"
    }
   ],
   "source": [
    "%%time\n",
    "pd.crosstab(df.NATJUR, df.SITUACAO)"
   ]
  },
  {
   "cell_type": "code",
   "execution_count": 12,
   "metadata": {},
   "outputs": [
    {
     "data": {
      "text/html": [
       "<div>\n",
       "<style scoped>\n",
       "    .dataframe tbody tr th:only-of-type {\n",
       "        vertical-align: middle;\n",
       "    }\n",
       "\n",
       "    .dataframe tbody tr th {\n",
       "        vertical-align: top;\n",
       "    }\n",
       "\n",
       "    .dataframe thead th {\n",
       "        text-align: right;\n",
       "    }\n",
       "</style>\n",
       "<table border=\"1\" class=\"dataframe\">\n",
       "  <thead>\n",
       "    <tr style=\"text-align: right;\">\n",
       "      <th>SITUACAO</th>\n",
       "      <th>0</th>\n",
       "      <th>1</th>\n",
       "    </tr>\n",
       "    <tr>\n",
       "      <th>EMPRESA_PUBLICA</th>\n",
       "      <th></th>\n",
       "      <th></th>\n",
       "    </tr>\n",
       "  </thead>\n",
       "  <tbody>\n",
       "    <tr>\n",
       "      <th>0</th>\n",
       "      <td>116375</td>\n",
       "      <td>8770</td>\n",
       "    </tr>\n",
       "    <tr>\n",
       "      <th>1</th>\n",
       "      <td>279</td>\n",
       "      <td>92</td>\n",
       "    </tr>\n",
       "  </tbody>\n",
       "</table>\n",
       "</div>"
      ],
      "text/plain": [
       "SITUACAO              0     1\n",
       "EMPRESA_PUBLICA              \n",
       "0                116375  8770\n",
       "1                   279    92"
      ]
     },
     "execution_count": 12,
     "metadata": {},
     "output_type": "execute_result"
    }
   ],
   "source": [
    "pd.crosstab(df.EMPRESA_PUBLICA, df.SITUACAO)"
   ]
  },
  {
   "cell_type": "code",
   "execution_count": 13,
   "metadata": {},
   "outputs": [
    {
     "data": {
      "text/html": [
       "<div>\n",
       "<style scoped>\n",
       "    .dataframe tbody tr th:only-of-type {\n",
       "        vertical-align: middle;\n",
       "    }\n",
       "\n",
       "    .dataframe tbody tr th {\n",
       "        vertical-align: top;\n",
       "    }\n",
       "\n",
       "    .dataframe thead th {\n",
       "        text-align: right;\n",
       "    }\n",
       "</style>\n",
       "<table border=\"1\" class=\"dataframe\">\n",
       "  <thead>\n",
       "    <tr style=\"text-align: right;\">\n",
       "      <th>SITUACAO</th>\n",
       "      <th>0</th>\n",
       "      <th>1</th>\n",
       "    </tr>\n",
       "    <tr>\n",
       "      <th>INDIRETA</th>\n",
       "      <th></th>\n",
       "      <th></th>\n",
       "    </tr>\n",
       "  </thead>\n",
       "  <tbody>\n",
       "    <tr>\n",
       "      <th>0</th>\n",
       "      <td>2711</td>\n",
       "      <td>792</td>\n",
       "    </tr>\n",
       "    <tr>\n",
       "      <th>1</th>\n",
       "      <td>113943</td>\n",
       "      <td>8070</td>\n",
       "    </tr>\n",
       "  </tbody>\n",
       "</table>\n",
       "</div>"
      ],
      "text/plain": [
       "SITUACAO       0     1\n",
       "INDIRETA              \n",
       "0           2711   792\n",
       "1         113943  8070"
      ]
     },
     "execution_count": 13,
     "metadata": {},
     "output_type": "execute_result"
    }
   ],
   "source": [
    "pd.crosstab(df.INDIRETA, df.SITUACAO)"
   ]
  },
  {
   "cell_type": "code",
   "execution_count": 14,
   "metadata": {},
   "outputs": [
    {
     "data": {
      "text/html": [
       "<div>\n",
       "<style scoped>\n",
       "    .dataframe tbody tr th:only-of-type {\n",
       "        vertical-align: middle;\n",
       "    }\n",
       "\n",
       "    .dataframe tbody tr th {\n",
       "        vertical-align: top;\n",
       "    }\n",
       "\n",
       "    .dataframe thead th {\n",
       "        text-align: right;\n",
       "    }\n",
       "</style>\n",
       "<table border=\"1\" class=\"dataframe\">\n",
       "  <thead>\n",
       "    <tr style=\"text-align: right;\">\n",
       "      <th>SITUACAO</th>\n",
       "      <th>0</th>\n",
       "      <th>1</th>\n",
       "    </tr>\n",
       "    <tr>\n",
       "      <th>INOVACAO</th>\n",
       "      <th></th>\n",
       "      <th></th>\n",
       "    </tr>\n",
       "  </thead>\n",
       "  <tbody>\n",
       "    <tr>\n",
       "      <th>0</th>\n",
       "      <td>116310</td>\n",
       "      <td>8730</td>\n",
       "    </tr>\n",
       "    <tr>\n",
       "      <th>1</th>\n",
       "      <td>344</td>\n",
       "      <td>132</td>\n",
       "    </tr>\n",
       "  </tbody>\n",
       "</table>\n",
       "</div>"
      ],
      "text/plain": [
       "SITUACAO       0     1\n",
       "INOVACAO              \n",
       "0         116310  8730\n",
       "1            344   132"
      ]
     },
     "execution_count": 14,
     "metadata": {},
     "output_type": "execute_result"
    }
   ],
   "source": [
    "pd.crosstab(df.INOVACAO, df.SITUACAO)"
   ]
  },
  {
   "cell_type": "code",
   "execution_count": 15,
   "metadata": {},
   "outputs": [
    {
     "data": {
      "text/html": [
       "<div>\n",
       "<style scoped>\n",
       "    .dataframe tbody tr th:only-of-type {\n",
       "        vertical-align: middle;\n",
       "    }\n",
       "\n",
       "    .dataframe tbody tr th {\n",
       "        vertical-align: top;\n",
       "    }\n",
       "\n",
       "    .dataframe thead th {\n",
       "        text-align: right;\n",
       "    }\n",
       "</style>\n",
       "<table border=\"1\" class=\"dataframe\">\n",
       "  <thead>\n",
       "    <tr style=\"text-align: right;\">\n",
       "      <th>SITUACAO</th>\n",
       "      <th>0</th>\n",
       "      <th>1</th>\n",
       "    </tr>\n",
       "    <tr>\n",
       "      <th>TESOURO</th>\n",
       "      <th></th>\n",
       "      <th></th>\n",
       "    </tr>\n",
       "  </thead>\n",
       "  <tbody>\n",
       "    <tr>\n",
       "      <th>0</th>\n",
       "      <td>110155</td>\n",
       "      <td>7886</td>\n",
       "    </tr>\n",
       "    <tr>\n",
       "      <th>1</th>\n",
       "      <td>6499</td>\n",
       "      <td>976</td>\n",
       "    </tr>\n",
       "  </tbody>\n",
       "</table>\n",
       "</div>"
      ],
      "text/plain": [
       "SITUACAO       0     1\n",
       "TESOURO               \n",
       "0         110155  7886\n",
       "1           6499   976"
      ]
     },
     "execution_count": 15,
     "metadata": {},
     "output_type": "execute_result"
    }
   ],
   "source": [
    "pd.crosstab(df.TESOURO, df.SITUACAO)"
   ]
  },
  {
   "cell_type": "code",
   "execution_count": 16,
   "metadata": {},
   "outputs": [
    {
     "data": {
      "text/html": [
       "<div>\n",
       "<style scoped>\n",
       "    .dataframe tbody tr th:only-of-type {\n",
       "        vertical-align: middle;\n",
       "    }\n",
       "\n",
       "    .dataframe tbody tr th {\n",
       "        vertical-align: top;\n",
       "    }\n",
       "\n",
       "    .dataframe thead th {\n",
       "        text-align: right;\n",
       "    }\n",
       "</style>\n",
       "<table border=\"1\" class=\"dataframe\">\n",
       "  <thead>\n",
       "    <tr style=\"text-align: right;\">\n",
       "      <th>SITUACAO</th>\n",
       "      <th>0</th>\n",
       "      <th>1</th>\n",
       "    </tr>\n",
       "    <tr>\n",
       "      <th>SOCIO_PJ</th>\n",
       "      <th></th>\n",
       "      <th></th>\n",
       "    </tr>\n",
       "  </thead>\n",
       "  <tbody>\n",
       "    <tr>\n",
       "      <th>0</th>\n",
       "      <td>116654</td>\n",
       "      <td>8862</td>\n",
       "    </tr>\n",
       "  </tbody>\n",
       "</table>\n",
       "</div>"
      ],
      "text/plain": [
       "SITUACAO       0     1\n",
       "SOCIO_PJ              \n",
       "0         116654  8862"
      ]
     },
     "execution_count": 16,
     "metadata": {},
     "output_type": "execute_result"
    }
   ],
   "source": [
    "pd.crosstab(df.SOCIO_PJ, df.SITUACAO)"
   ]
  },
  {
   "cell_type": "code",
   "execution_count": 17,
   "metadata": {},
   "outputs": [
    {
     "name": "stdout",
     "output_type": "stream",
     "text": [
      "CPU times: total: 31.2 ms\n",
      "Wall time: 7.99 ms\n"
     ]
    }
   ],
   "source": [
    "%%time\n",
    "df.loc[ (df['CAPITAL_SOCIAL']<1)     ,'CAPITAL_SOCIAL']    = 1\n",
    "df.loc[ (df['IDADE']<1)              ,'IDADE']             = 1\n",
    "df.loc[ (df['NCONTRATOS']<1)         ,'NCONTRATOS']        = 1\n",
    "df.loc[ (df['NFILIAIS']<1)           ,'NFILIAIS']          = 1\n",
    "df.loc[ (df['IDADE_SOCIOS']<1)       ,'IDADE_SOCIOS']      = 1\n",
    "df.loc[ (df['QTDSOCIOS']<1)          ,'QTDSOCIOS']         = 1\n",
    "df.loc[ (df['MEDIA_JUROS']<1)        ,'MEDIA_JUROS']       = 1\n",
    "df.loc[ (df['PRAZO_AMORTIZACAO']<1)  ,'PRAZO_AMORTIZACAO'] = 1\n",
    "df.loc[ (df['PRAZO_CARENCIA']<1)     ,'PRAZO_CARENCIA']    = 1\n",
    "df.loc[ (df['VALOR_CONTRATO']<1)     ,'VALOR_CONTRATO']    = 1\n",
    "df.loc[ (df['VALOR_DESENBOLSO']<1)   ,'VALOR_DESENBOLSO']  = 1\n"
   ]
  },
  {
   "cell_type": "code",
   "execution_count": 18,
   "metadata": {},
   "outputs": [
    {
     "name": "stdout",
     "output_type": "stream",
     "text": [
      "CPU times: total: 62.5 ms\n",
      "Wall time: 56 ms\n"
     ]
    }
   ],
   "source": [
    "%%time\n",
    "df['enc_NATJUR']        = df.NATJUR.astype(\"category\").cat.codes\n",
    "df['enc_GARANTIA']      = df.GARANTIA.astype(\"category\").cat.codes\n",
    "df['enc_INSTRUMENTO']   = df.INSTRUMENTO.astype(\"category\").cat.codes\n",
    "df['enc_CUSTO']         = df.CUSTO.astype(\"category\").cat.codes\n",
    "df['enc_PORTE_CLIENTE'] = df.Porte_Cliente.astype(\"category\").cat.codes\n",
    "df['enc_PORTE_RECEITA'] = df.PORTE_RECEITA.astype(\"category\").cat.codes\n",
    "df['enc_SITUACAO']      = df.SITUACAO.astype(\"category\").cat.codes\n",
    "df['enc_UF']            = df.UF.astype(\"category\").cat.codes"
   ]
  },
  {
   "cell_type": "code",
   "execution_count": 19,
   "metadata": {},
   "outputs": [
    {
     "name": "stdout",
     "output_type": "stream",
     "text": [
      "CPU times: total: 31.2 ms\n",
      "Wall time: 32 ms\n"
     ]
    }
   ],
   "source": [
    "%%time\n",
    "df['ln_capsoc']        = np.log(df['CAPITAL_SOCIAL']+1)\n",
    "df['ln_idade']         = np.log(df['IDADE']+1)\n",
    "df['ln_contratos']     = np.log(df['NCONTRATOS']+1)\n",
    "df['ln_filiais']       = np.log(df['NFILIAIS']+1)\n",
    "df['ln_sociosage']     = np.log(df['IDADE_SOCIOS']+1)\n",
    "df['ln_qtdsocios']     = np.log(df['QTDSOCIOS']+1)\n",
    "df['ln_juros']         = np.log(df['MEDIA_JUROS']+1)\n",
    "df['ln_amortizacao']   = np.log(df['PRAZO_AMORTIZACAO']+1)\n",
    "df['ln_carencia']      = np.log(df['PRAZO_CARENCIA']+1)\n",
    "df['ln_vlrcontrato']   = np.log(df['VALOR_CONTRATO']+1)\n",
    "df['ln_vlrdesembolso'] = np.log(df['VALOR_DESENBOLSO']+1)"
   ]
  },
  {
   "cell_type": "markdown",
   "metadata": {},
   "source": [
    "## Modelo sem histórico foi treinado com as variáveis na seguinte ordem:\n",
    "['faixa_hora', 'vl_medio_mes_atual', 'dif_vl_1', 'tres_prim_dig_codbarras', 'pagador_pf', 'dif_vl_4', 'dia_do_mes', 'qtd_operacoes_mes_corrente', 'vl_medio_dia_corrente', 'sec_dig', 'qtd_operacoes_dia_corrente', 'qtd_trn_60min', 'centavos', 'dia_da_semana']"
   ]
  },
  {
   "cell_type": "code",
   "execution_count": 20,
   "metadata": {},
   "outputs": [
    {
     "name": "stdout",
     "output_type": "stream",
     "text": [
      "CPU times: total: 15.6 ms\n",
      "Wall time: 8.02 ms\n"
     ]
    }
   ],
   "source": [
    "%%time\n",
    "files = df.columns\n",
    "selected_files = files.str.contains('ln_|enc_|INDIRETA|EMPRESA_PUBLICA|INOVACAO|TESOURO|SOCIO_PJ')\n",
    "atributes = files[selected_files]"
   ]
  },
  {
   "cell_type": "code",
   "execution_count": 21,
   "metadata": {},
   "outputs": [
    {
     "data": {
      "text/plain": [
       "Index(['EMPRESA_PUBLICA', 'INDIRETA', 'INOVACAO', 'TESOURO', 'SOCIO_PJ',\n",
       "       'enc_NATJUR', 'enc_GARANTIA', 'enc_INSTRUMENTO', 'enc_CUSTO',\n",
       "       'enc_PORTE_CLIENTE', 'enc_PORTE_RECEITA', 'enc_SITUACAO', 'enc_UF',\n",
       "       'ln_capsoc', 'ln_idade', 'ln_contratos', 'ln_filiais', 'ln_sociosage',\n",
       "       'ln_qtdsocios', 'ln_juros', 'ln_amortizacao', 'ln_carencia',\n",
       "       'ln_vlrcontrato', 'ln_vlrdesembolso'],\n",
       "      dtype='object')"
      ]
     },
     "execution_count": 21,
     "metadata": {},
     "output_type": "execute_result"
    }
   ],
   "source": [
    "atributes"
   ]
  },
  {
   "cell_type": "code",
   "execution_count": 22,
   "metadata": {},
   "outputs": [
    {
     "data": {
      "text/plain": [
       "EMPRESA_PUBLICA        int64\n",
       "INDIRETA               int64\n",
       "INOVACAO               int64\n",
       "TESOURO                int64\n",
       "SOCIO_PJ               int64\n",
       "enc_NATJUR              int8\n",
       "enc_GARANTIA            int8\n",
       "enc_INSTRUMENTO         int8\n",
       "enc_CUSTO               int8\n",
       "enc_PORTE_CLIENTE       int8\n",
       "enc_PORTE_RECEITA       int8\n",
       "enc_SITUACAO            int8\n",
       "enc_UF                  int8\n",
       "ln_capsoc            float64\n",
       "ln_idade             float64\n",
       "ln_contratos         float64\n",
       "ln_filiais           float64\n",
       "ln_sociosage         float64\n",
       "ln_qtdsocios         float64\n",
       "ln_juros             float64\n",
       "ln_amortizacao       float64\n",
       "ln_carencia          float64\n",
       "ln_vlrcontrato       float64\n",
       "ln_vlrdesembolso     float64\n",
       "dtype: object"
      ]
     },
     "execution_count": 22,
     "metadata": {},
     "output_type": "execute_result"
    }
   ],
   "source": [
    "df[atributes].dtypes"
   ]
  },
  {
   "cell_type": "markdown",
   "metadata": {},
   "source": [
    "## SMOTE: Synthetic Minority Oversampling Technique"
   ]
  },
  {
   "cell_type": "code",
   "execution_count": 23,
   "metadata": {},
   "outputs": [],
   "source": [
    "y0 = df['SITUACAO']\n",
    "X0 = df[atributes]"
   ]
  },
  {
   "cell_type": "code",
   "execution_count": 24,
   "metadata": {},
   "outputs": [],
   "source": [
    "#import joblib\n",
    "#scaler = joblib.load(\"scaler.saved\") \n",
    "\n",
    "from numpy import asarray\n",
    "from sklearn.preprocessing import MinMaxScaler\n",
    "\n",
    "scaler = MinMaxScaler()\n",
    "# transform data\n",
    "X0 = scaler.fit_transform(df[atributes])"
   ]
  },
  {
   "cell_type": "code",
   "execution_count": 25,
   "metadata": {},
   "outputs": [],
   "source": [
    "# base sintética: treino e teste\n",
    "x_train  , x_test0 , y_train, y_test0 = train_test_split(X0, y0, test_size = 0.5, random_state=123)\n",
    "\n",
    "# base sintética: teste e out of sample\n",
    "x_test , x_out , y_test, y_out = train_test_split(x_test0, y_test0, test_size = 0.5, random_state=123)"
   ]
  },
  {
   "cell_type": "code",
   "execution_count": 27,
   "metadata": {},
   "outputs": [
    {
     "name": "stdout",
     "output_type": "stream",
     "text": [
      "|   iter    |  target   | colsam... | colsam... | colsam... |    eta    |   gamma   | learni... | max_de... | max_depth | min_ch... | n_esti... | reg_alpha | reg_la... | subsample |\n",
      "-------------------------------------------------------------------------------------------------------------------------------------------------------------------------------------\n"
     ]
    },
    {
     "name": "stderr",
     "output_type": "stream",
     "text": [
      "<timed exec>:47: DeprecationWarning: \n",
      "Passing acquisition function parameters or gaussian process parameters to maximize\n",
      "is no longer supported, and will cause an error in future releases. Instead,\n",
      "please use the \"set_gp_params\" method to set the gp params, and pass an instance\n",
      " of bayes_opt.util.UtilityFunction using the acquisition_function argument\n",
      "\n"
     ]
    },
    {
     "ename": "XGBoostError",
     "evalue": "[21:48:36] C:\\buildkite-agent\\builds\\buildkite-windows-cpu-autoscaling-group-i-0fc7796c793e6356f-1\\xgboost\\xgboost-ci-windows\\src\\metric\\metric.cc:49: Unknown metric function Logloss",
     "output_type": "error",
     "traceback": [
      "\u001b[1;31m---------------------------------------------------------------------------\u001b[0m",
      "\u001b[1;31mXGBoostError\u001b[0m                              Traceback (most recent call last)",
      "File \u001b[1;32m<timed exec>:47\u001b[0m\n",
      "File \u001b[1;32mc:\\Users\\patrick.franco\\AppData\\Local\\Programs\\Python\\Python311\\Lib\\site-packages\\bayes_opt\\bayesian_optimization.py:311\u001b[0m, in \u001b[0;36mBayesianOptimization.maximize\u001b[1;34m(self, init_points, n_iter, acquisition_function, acq, kappa, kappa_decay, kappa_decay_delay, xi, **gp_params)\u001b[0m\n\u001b[0;32m    309\u001b[0m     x_probe \u001b[39m=\u001b[39m \u001b[39mself\u001b[39m\u001b[39m.\u001b[39msuggest(util)\n\u001b[0;32m    310\u001b[0m     iteration \u001b[39m+\u001b[39m\u001b[39m=\u001b[39m \u001b[39m1\u001b[39m\n\u001b[1;32m--> 311\u001b[0m \u001b[39mself\u001b[39;49m\u001b[39m.\u001b[39;49mprobe(x_probe, lazy\u001b[39m=\u001b[39;49m\u001b[39mFalse\u001b[39;49;00m)\n\u001b[0;32m    313\u001b[0m \u001b[39mif\u001b[39;00m \u001b[39mself\u001b[39m\u001b[39m.\u001b[39m_bounds_transformer \u001b[39mand\u001b[39;00m iteration \u001b[39m>\u001b[39m \u001b[39m0\u001b[39m:\n\u001b[0;32m    314\u001b[0m     \u001b[39m# The bounds transformer should only modify the bounds after\u001b[39;00m\n\u001b[0;32m    315\u001b[0m     \u001b[39m# the init_points points (only for the true iterations)\u001b[39;00m\n\u001b[0;32m    316\u001b[0m     \u001b[39mself\u001b[39m\u001b[39m.\u001b[39mset_bounds(\n\u001b[0;32m    317\u001b[0m         \u001b[39mself\u001b[39m\u001b[39m.\u001b[39m_bounds_transformer\u001b[39m.\u001b[39mtransform(\u001b[39mself\u001b[39m\u001b[39m.\u001b[39m_space))\n",
      "File \u001b[1;32mc:\\Users\\patrick.franco\\AppData\\Local\\Programs\\Python\\Python311\\Lib\\site-packages\\bayes_opt\\bayesian_optimization.py:208\u001b[0m, in \u001b[0;36mBayesianOptimization.probe\u001b[1;34m(self, params, lazy)\u001b[0m\n\u001b[0;32m    206\u001b[0m     \u001b[39mself\u001b[39m\u001b[39m.\u001b[39m_queue\u001b[39m.\u001b[39madd(params)\n\u001b[0;32m    207\u001b[0m \u001b[39melse\u001b[39;00m:\n\u001b[1;32m--> 208\u001b[0m     \u001b[39mself\u001b[39;49m\u001b[39m.\u001b[39;49m_space\u001b[39m.\u001b[39;49mprobe(params)\n\u001b[0;32m    209\u001b[0m     \u001b[39mself\u001b[39m\u001b[39m.\u001b[39mdispatch(Events\u001b[39m.\u001b[39mOPTIMIZATION_STEP)\n",
      "File \u001b[1;32mc:\\Users\\patrick.franco\\AppData\\Local\\Programs\\Python\\Python311\\Lib\\site-packages\\bayes_opt\\target_space.py:236\u001b[0m, in \u001b[0;36mTargetSpace.probe\u001b[1;34m(self, params)\u001b[0m\n\u001b[0;32m    234\u001b[0m x \u001b[39m=\u001b[39m \u001b[39mself\u001b[39m\u001b[39m.\u001b[39m_as_array(params)\n\u001b[0;32m    235\u001b[0m params \u001b[39m=\u001b[39m \u001b[39mdict\u001b[39m(\u001b[39mzip\u001b[39m(\u001b[39mself\u001b[39m\u001b[39m.\u001b[39m_keys, x))\n\u001b[1;32m--> 236\u001b[0m target \u001b[39m=\u001b[39m \u001b[39mself\u001b[39;49m\u001b[39m.\u001b[39;49mtarget_func(\u001b[39m*\u001b[39;49m\u001b[39m*\u001b[39;49mparams)\n\u001b[0;32m    238\u001b[0m \u001b[39mif\u001b[39;00m \u001b[39mself\u001b[39m\u001b[39m.\u001b[39m_constraint \u001b[39mis\u001b[39;00m \u001b[39mNone\u001b[39;00m:\n\u001b[0;32m    239\u001b[0m     \u001b[39mself\u001b[39m\u001b[39m.\u001b[39mregister(x, target)\n",
      "File \u001b[1;32m<timed exec>:26\u001b[0m, in \u001b[0;36mgbm_xgb\u001b[1;34m(learning_rate, max_depth, gamma, min_child_weight, subsample, colsample_bytree, colsample_bynode, colsample_bylevel, eta, reg_alpha, reg_lambda, n_estimators, max_delta_step)\u001b[0m\n",
      "File \u001b[1;32mc:\\Users\\patrick.franco\\AppData\\Local\\Programs\\Python\\Python311\\Lib\\site-packages\\xgboost\\core.py:620\u001b[0m, in \u001b[0;36mrequire_keyword_args.<locals>.throw_if.<locals>.inner_f\u001b[1;34m(*args, **kwargs)\u001b[0m\n\u001b[0;32m    618\u001b[0m \u001b[39mfor\u001b[39;00m k, arg \u001b[39min\u001b[39;00m \u001b[39mzip\u001b[39m(sig\u001b[39m.\u001b[39mparameters, args):\n\u001b[0;32m    619\u001b[0m     kwargs[k] \u001b[39m=\u001b[39m arg\n\u001b[1;32m--> 620\u001b[0m \u001b[39mreturn\u001b[39;00m func(\u001b[39m*\u001b[39;49m\u001b[39m*\u001b[39;49mkwargs)\n",
      "File \u001b[1;32mc:\\Users\\patrick.franco\\AppData\\Local\\Programs\\Python\\Python311\\Lib\\site-packages\\xgboost\\sklearn.py:1490\u001b[0m, in \u001b[0;36mXGBClassifier.fit\u001b[1;34m(self, X, y, sample_weight, base_margin, eval_set, eval_metric, early_stopping_rounds, verbose, xgb_model, sample_weight_eval_set, base_margin_eval_set, feature_weights, callbacks)\u001b[0m\n\u001b[0;32m   1462\u001b[0m (\n\u001b[0;32m   1463\u001b[0m     model,\n\u001b[0;32m   1464\u001b[0m     metric,\n\u001b[1;32m   (...)\u001b[0m\n\u001b[0;32m   1469\u001b[0m     xgb_model, eval_metric, params, early_stopping_rounds, callbacks\n\u001b[0;32m   1470\u001b[0m )\n\u001b[0;32m   1471\u001b[0m train_dmatrix, evals \u001b[39m=\u001b[39m _wrap_evaluation_matrices(\n\u001b[0;32m   1472\u001b[0m     missing\u001b[39m=\u001b[39m\u001b[39mself\u001b[39m\u001b[39m.\u001b[39mmissing,\n\u001b[0;32m   1473\u001b[0m     X\u001b[39m=\u001b[39mX,\n\u001b[1;32m   (...)\u001b[0m\n\u001b[0;32m   1487\u001b[0m     feature_types\u001b[39m=\u001b[39m\u001b[39mself\u001b[39m\u001b[39m.\u001b[39mfeature_types,\n\u001b[0;32m   1488\u001b[0m )\n\u001b[1;32m-> 1490\u001b[0m \u001b[39mself\u001b[39m\u001b[39m.\u001b[39m_Booster \u001b[39m=\u001b[39m train(\n\u001b[0;32m   1491\u001b[0m     params,\n\u001b[0;32m   1492\u001b[0m     train_dmatrix,\n\u001b[0;32m   1493\u001b[0m     \u001b[39mself\u001b[39;49m\u001b[39m.\u001b[39;49mget_num_boosting_rounds(),\n\u001b[0;32m   1494\u001b[0m     evals\u001b[39m=\u001b[39;49mevals,\n\u001b[0;32m   1495\u001b[0m     early_stopping_rounds\u001b[39m=\u001b[39;49mearly_stopping_rounds,\n\u001b[0;32m   1496\u001b[0m     evals_result\u001b[39m=\u001b[39;49mevals_result,\n\u001b[0;32m   1497\u001b[0m     obj\u001b[39m=\u001b[39;49mobj,\n\u001b[0;32m   1498\u001b[0m     custom_metric\u001b[39m=\u001b[39;49mmetric,\n\u001b[0;32m   1499\u001b[0m     verbose_eval\u001b[39m=\u001b[39;49mverbose,\n\u001b[0;32m   1500\u001b[0m     xgb_model\u001b[39m=\u001b[39;49mmodel,\n\u001b[0;32m   1501\u001b[0m     callbacks\u001b[39m=\u001b[39;49mcallbacks,\n\u001b[0;32m   1502\u001b[0m )\n\u001b[0;32m   1504\u001b[0m \u001b[39mif\u001b[39;00m \u001b[39mnot\u001b[39;00m callable(\u001b[39mself\u001b[39m\u001b[39m.\u001b[39mobjective):\n\u001b[0;32m   1505\u001b[0m     \u001b[39mself\u001b[39m\u001b[39m.\u001b[39mobjective \u001b[39m=\u001b[39m params[\u001b[39m\"\u001b[39m\u001b[39mobjective\u001b[39m\u001b[39m\"\u001b[39m]\n",
      "File \u001b[1;32mc:\\Users\\patrick.franco\\AppData\\Local\\Programs\\Python\\Python311\\Lib\\site-packages\\xgboost\\core.py:620\u001b[0m, in \u001b[0;36mrequire_keyword_args.<locals>.throw_if.<locals>.inner_f\u001b[1;34m(*args, **kwargs)\u001b[0m\n\u001b[0;32m    618\u001b[0m \u001b[39mfor\u001b[39;00m k, arg \u001b[39min\u001b[39;00m \u001b[39mzip\u001b[39m(sig\u001b[39m.\u001b[39mparameters, args):\n\u001b[0;32m    619\u001b[0m     kwargs[k] \u001b[39m=\u001b[39m arg\n\u001b[1;32m--> 620\u001b[0m \u001b[39mreturn\u001b[39;00m func(\u001b[39m*\u001b[39;49m\u001b[39m*\u001b[39;49mkwargs)\n",
      "File \u001b[1;32mc:\\Users\\patrick.franco\\AppData\\Local\\Programs\\Python\\Python311\\Lib\\site-packages\\xgboost\\training.py:185\u001b[0m, in \u001b[0;36mtrain\u001b[1;34m(params, dtrain, num_boost_round, evals, obj, feval, maximize, early_stopping_rounds, evals_result, verbose_eval, xgb_model, callbacks, custom_metric)\u001b[0m\n\u001b[0;32m    183\u001b[0m \u001b[39mif\u001b[39;00m cb_container\u001b[39m.\u001b[39mbefore_iteration(bst, i, dtrain, evals):\n\u001b[0;32m    184\u001b[0m     \u001b[39mbreak\u001b[39;00m\n\u001b[1;32m--> 185\u001b[0m bst\u001b[39m.\u001b[39;49mupdate(dtrain, i, obj)\n\u001b[0;32m    186\u001b[0m \u001b[39mif\u001b[39;00m cb_container\u001b[39m.\u001b[39mafter_iteration(bst, i, dtrain, evals):\n\u001b[0;32m    187\u001b[0m     \u001b[39mbreak\u001b[39;00m\n",
      "File \u001b[1;32mc:\\Users\\patrick.franco\\AppData\\Local\\Programs\\Python\\Python311\\Lib\\site-packages\\xgboost\\core.py:1918\u001b[0m, in \u001b[0;36mBooster.update\u001b[1;34m(self, dtrain, iteration, fobj)\u001b[0m\n\u001b[0;32m   1915\u001b[0m \u001b[39mself\u001b[39m\u001b[39m.\u001b[39m_validate_dmatrix_features(dtrain)\n\u001b[0;32m   1917\u001b[0m \u001b[39mif\u001b[39;00m fobj \u001b[39mis\u001b[39;00m \u001b[39mNone\u001b[39;00m:\n\u001b[1;32m-> 1918\u001b[0m     _check_call(_LIB\u001b[39m.\u001b[39;49mXGBoosterUpdateOneIter(\u001b[39mself\u001b[39;49m\u001b[39m.\u001b[39;49mhandle,\n\u001b[0;32m   1919\u001b[0m                                             ctypes\u001b[39m.\u001b[39;49mc_int(iteration),\n\u001b[0;32m   1920\u001b[0m                                             dtrain\u001b[39m.\u001b[39;49mhandle))\n\u001b[0;32m   1921\u001b[0m \u001b[39melse\u001b[39;00m:\n\u001b[0;32m   1922\u001b[0m     pred \u001b[39m=\u001b[39m \u001b[39mself\u001b[39m\u001b[39m.\u001b[39mpredict(dtrain, output_margin\u001b[39m=\u001b[39m\u001b[39mTrue\u001b[39;00m, training\u001b[39m=\u001b[39m\u001b[39mTrue\u001b[39;00m)\n",
      "File \u001b[1;32mc:\\Users\\patrick.franco\\AppData\\Local\\Programs\\Python\\Python311\\Lib\\site-packages\\xgboost\\core.py:279\u001b[0m, in \u001b[0;36m_check_call\u001b[1;34m(ret)\u001b[0m\n\u001b[0;32m    268\u001b[0m \u001b[39m\u001b[39m\u001b[39m\"\"\"Check the return value of C API call\u001b[39;00m\n\u001b[0;32m    269\u001b[0m \n\u001b[0;32m    270\u001b[0m \u001b[39mThis function will raise exception when error occurs.\u001b[39;00m\n\u001b[1;32m   (...)\u001b[0m\n\u001b[0;32m    276\u001b[0m \u001b[39m    return value from API calls\u001b[39;00m\n\u001b[0;32m    277\u001b[0m \u001b[39m\"\"\"\u001b[39;00m\n\u001b[0;32m    278\u001b[0m \u001b[39mif\u001b[39;00m ret \u001b[39m!=\u001b[39m \u001b[39m0\u001b[39m:\n\u001b[1;32m--> 279\u001b[0m     \u001b[39mraise\u001b[39;00m XGBoostError(py_str(_LIB\u001b[39m.\u001b[39mXGBGetLastError()))\n",
      "\u001b[1;31mXGBoostError\u001b[0m: [21:48:36] C:\\buildkite-agent\\builds\\buildkite-windows-cpu-autoscaling-group-i-0fc7796c793e6356f-1\\xgboost\\xgboost-ci-windows\\src\\metric\\metric.cc:49: Unknown metric function Logloss"
     ]
    }
   ],
   "source": [
    "%%time\n",
    "from bayes_opt import BayesianOptimization\n",
    "from sklearn.svm import SVC\n",
    "\n",
    "lem_range = ['Newton','Gradient']\n",
    "kr_range = ['uniform','poly','rbf','sigmoid','precomputed']\n",
    "\n",
    "def gbm_xgb( learning_rate, max_depth, gamma, min_child_weight, subsample, \n",
    "             colsample_bytree, colsample_bynode, colsample_bylevel, eta,\n",
    "             reg_alpha, reg_lambda, n_estimators, max_delta_step):\n",
    "    model = xgb.XGBClassifier(\n",
    "                  learning_rate      = learning_rate,\n",
    "                  max_depth          = int(max_depth),\n",
    "                  gamma              = gamma,\n",
    "                  min_child_weight   = int(min_child_weight),\n",
    "                  subsample          = subsample,\n",
    "                  colsample_bytree   = int(colsample_bytree),\n",
    "                  colsample_bynode   = int(colsample_bynode),\n",
    "                  colsample_bylevel  = int(colsample_bylevel),\n",
    "                  eta                = eta,\n",
    "                  reg_alpha          = reg_alpha,\n",
    "                  reg_lambda         = reg_lambda,\n",
    "                  n_estimators       = int(n_estimators),\n",
    "                  max_delta_step     = max_delta_step,\n",
    "                  eval_metric        = 'Logloss' ,  random_state=666)\n",
    "    \n",
    "    model.fit(x_train,y_train, verbose=False)\n",
    "    return roc_auc_score(x_test, )\n",
    "\n",
    "\n",
    "params_xgb = {\n",
    "    'learning_rate'           : (0.0001 ,0.666),\n",
    "    'max_depth'               : (1.0000 ,12.00),\n",
    "    'gamma'                   : (0.0001 ,120.0),\n",
    "    'min_child_weight'        : (0.0001 ,20.00),\n",
    "    'subsample'               : (0.0001 ,0.666),\n",
    "    'colsample_bytree'        : (0.0001 ,0.999),\n",
    "    'colsample_bynode'        : (0.0001 ,0.999),\n",
    "    'colsample_bylevel'       : (0.0001 ,0.999),\n",
    "    'eta'                     : (0.0001 ,1.000),\n",
    "    'reg_alpha'               : (0.0001 ,12.00),\n",
    "    'reg_lambda'              : (0.0001 ,12.00),\n",
    "    'n_estimators'            : (1.0000 ,500.0),\n",
    "    'max_delta_step'          : (0.0001 ,100.0),   \n",
    "}\n",
    "\n",
    "xgb0 = BayesianOptimization(f=gbm_xgb, pbounds=params_xgb, random_state=123) \n",
    "xgb0.maximize(init_points=30, n_iter=320, acq='ucb')"
   ]
  },
  {
   "cell_type": "code",
   "execution_count": 62,
   "metadata": {},
   "outputs": [
    {
     "data": {
      "text/plain": [
       "{'bagging_temperature': 69.6469489128676,\n",
       " 'depth': 4.147532684454174,\n",
       " 'eval_metric': 0.22692876841884668,\n",
       " 'iterations': 110.71163904749535,\n",
       " 'l2_leaf_reg': 8.633655690529778,\n",
       " 'leaf_estimation_method': 0.4231641494784485,\n",
       " 'learning_rate': 0.6531908797043154,\n",
       " 'model_size_reg': 68.48300537551248,\n",
       " 'rsm': 0.48050287639272815}"
      ]
     },
     "execution_count": 62,
     "metadata": {},
     "output_type": "execute_result"
    }
   ],
   "source": [
    "params_svm0 = svm0.max['params']\n",
    "params_svm0"
   ]
  },
  {
   "cell_type": "code",
   "execution_count": 63,
   "metadata": {},
   "outputs": [
    {
     "name": "stdout",
     "output_type": "stream",
     "text": [
      "\n",
      " depth: 4 \n",
      " iterations: 110 \n",
      " l2_leaf_reg: 8.633655690529778 \n",
      " leaf_estimation_method: Newton \n",
      " learning_rate: 0.6531908797043154 \n",
      " model_size_reg: 68 \n",
      " rsm: 0.48050287639272815 \n",
      " bagging_temperature: 69.6469489128676\n"
     ]
    }
   ],
   "source": [
    "depth                   = int(svm0.max['params']['depth'])\n",
    "iterations              = int(svm0.max['params']['iterations'])\n",
    "l2_leaf_reg             = svm0.max['params']['l2_leaf_reg']\n",
    "leaf_estimation_method  = lem_range[int(svm0.max['params']['leaf_estimation_method'])]\n",
    "learning_rate           = svm0.max['params']['learning_rate']\n",
    "model_size_reg          = int(svm0.max['params']['model_size_reg'])\n",
    "rsm                     = svm0.max['params']['rsm']\n",
    "bagging_temperature     = svm0.max['params']['bagging_temperature']\n",
    "    \n",
    "\n",
    "print('\\n depth:'                  ,depth,\n",
    "      '\\n iterations:'             ,iterations,\n",
    "      '\\n l2_leaf_reg:'            ,l2_leaf_reg,\n",
    "      '\\n leaf_estimation_method:' ,leaf_estimation_method,\n",
    "      '\\n learning_rate:'          ,learning_rate,\n",
    "      '\\n model_size_reg:'         ,model_size_reg,\n",
    "      '\\n rsm:'                    ,rsm,\n",
    "      '\\n bagging_temperature:'    ,bagging_temperature)"
   ]
  },
  {
   "cell_type": "code",
   "execution_count": null,
   "metadata": {},
   "outputs": [],
   "source": [
    "%%time\n",
    "from catboost import Pool, CatBoost, CatBoostClassifier\n",
    "\n",
    "cbbb= CatBoostClassifier( depth=depth, iterations=iterations, l2_leaf_reg=l2_leaf_reg, \n",
    "                           leaf_estimation_method=leaf_estimation_method, learning_rate=learning_rate, \n",
    "                           model_size_reg=model_size_reg, rsm=rsm, bagging_temperature =bagging_temperature ,  verbose=False)\n",
    "\n",
    "cbbb.fit(x_train, y_train)"
   ]
  },
  {
   "cell_type": "code",
   "execution_count": 65,
   "metadata": {},
   "outputs": [
    {
     "name": "stdout",
     "output_type": "stream",
     "text": [
      "Accuracy: 0.9625158269780042\n",
      "F1 score: 0.9481318502220594\n",
      "Recall: 0.9173697074824568\n",
      "Precision: 0.9810286677908938\n",
      "Wall time: 205 ms\n"
     ]
    }
   ],
   "source": [
    "%%time\n",
    "from sklearn.metrics import accuracy_score, f1_score, recall_score, precision_score\n",
    "print(\"Accuracy:\" ,accuracy_score(  y_train, cbbb.predict(x_train))) #Accuracy: 0.998776450266302\n",
    "print(\"F1 score:\" ,f1_score(        y_train, cbbb.predict(x_train))) #F1 score: 0.37065637065637064\n",
    "print(\"Recall:\"   ,recall_score(    y_train, cbbb.predict(x_train))) #Recall: 0.25\n",
    "print(\"Precision:\",precision_score( y_train, cbbb.predict(x_train))) #Precision: 0.7164179104477612"
   ]
  },
  {
   "cell_type": "code",
   "execution_count": 66,
   "metadata": {},
   "outputs": [
    {
     "name": "stdout",
     "output_type": "stream",
     "text": [
      "Accuracy: 0.9554770318021202\n",
      "F1 score: 0.93890415387102\n",
      "Recall: 0.9085079762277135\n",
      "Precision: 0.9714046822742475\n",
      "Wall time: 166 ms\n"
     ]
    }
   ],
   "source": [
    "%%time\n",
    "from sklearn.metrics import accuracy_score, f1_score, recall_score, precision_score\n",
    "print(\"Accuracy:\" ,accuracy_score(  y_test, cbbb.predict(x_test))) #Accuracy: 0.998776450266302\n",
    "print(\"F1 score:\" ,f1_score(        y_test, cbbb.predict(x_test))) #F1 score: 0.37065637065637064\n",
    "print(\"Recall:\"   ,recall_score(    y_test, cbbb.predict(x_test))) #Recall: 0.25\n",
    "print(\"Precision:\",precision_score( y_test, cbbb.predict(x_test))) #Precision: 0.7164179104477612"
   ]
  },
  {
   "cell_type": "code",
   "execution_count": 67,
   "metadata": {},
   "outputs": [
    {
     "name": "stdout",
     "output_type": "stream",
     "text": [
      "Accuracy: 0.9527707437724515\n",
      "F1 score: 0.9349342852506897\n",
      "Recall: 0.9011573350015639\n",
      "Precision: 0.971341874578557\n",
      "Wall time: 96.1 ms\n"
     ]
    }
   ],
   "source": [
    "%%time\n",
    "from sklearn.metrics import accuracy_score, f1_score, recall_score, precision_score\n",
    "print(\"Accuracy:\" ,accuracy_score(  y_out, cbbb.predict(x_out))) #Accuracy: 0.998776450266302\n",
    "print(\"F1 score:\" ,f1_score(        y_out, cbbb.predict(x_out))) #F1 score: 0.37065637065637064\n",
    "print(\"Recall:\"   ,recall_score(    y_out, cbbb.predict(x_out))) #Recall: 0.25\n",
    "print(\"Precision:\",precision_score( y_out, cbbb.predict(x_out))) #Precision: 0.7164179104477612"
   ]
  },
  {
   "attachments": {},
   "cell_type": "markdown",
   "metadata": {},
   "source": [
    "## Leitura dos dados originais"
   ]
  },
  {
   "cell_type": "code",
   "execution_count": 72,
   "metadata": {},
   "outputs": [],
   "source": [
    "## Dado original\n",
    "#X0_mm = scaler.transform(df[atributes])\n",
    "X0_mm = df_all[atributes]"
   ]
  },
  {
   "cell_type": "code",
   "execution_count": 73,
   "metadata": {},
   "outputs": [
    {
     "name": "stdout",
     "output_type": "stream",
     "text": [
      "(44691, 21) (44691, 202)\n"
     ]
    }
   ],
   "source": [
    "#y0 = df['fraude']\n",
    "print(X0_mm.shape, df.shape)"
   ]
  },
  {
   "cell_type": "code",
   "execution_count": 74,
   "metadata": {},
   "outputs": [
    {
     "name": "stdout",
     "output_type": "stream",
     "text": [
      "Wall time: 55.1 ms\n"
     ]
    }
   ],
   "source": [
    "%%time\n",
    "#df_all['proba'] = cbbb.predict_proba(X0_mm)[:,1]\n",
    "df_all['proba'] = cbbb.predict_proba(df_all[atributes])[:,1]"
   ]
  },
  {
   "cell_type": "code",
   "execution_count": 75,
   "metadata": {},
   "outputs": [
    {
     "data": {
      "text/html": [
       "<div>\n",
       "<style scoped>\n",
       "    .dataframe tbody tr th:only-of-type {\n",
       "        vertical-align: middle;\n",
       "    }\n",
       "\n",
       "    .dataframe tbody tr th {\n",
       "        vertical-align: top;\n",
       "    }\n",
       "\n",
       "    .dataframe thead th {\n",
       "        text-align: right;\n",
       "    }\n",
       "</style>\n",
       "<table border=\"1\" class=\"dataframe\">\n",
       "  <thead>\n",
       "    <tr style=\"text-align: right;\">\n",
       "      <th></th>\n",
       "      <th>proba</th>\n",
       "    </tr>\n",
       "    <tr>\n",
       "      <th>FRAUDES</th>\n",
       "      <th></th>\n",
       "    </tr>\n",
       "  </thead>\n",
       "  <tbody>\n",
       "    <tr>\n",
       "      <th>0.0</th>\n",
       "      <td>42453</td>\n",
       "    </tr>\n",
       "    <tr>\n",
       "      <th>1.0</th>\n",
       "      <td>2238</td>\n",
       "    </tr>\n",
       "  </tbody>\n",
       "</table>\n",
       "</div>"
      ],
      "text/plain": [
       "         proba\n",
       "FRAUDES       \n",
       "0.0      42453\n",
       "1.0       2238"
      ]
     },
     "execution_count": 75,
     "metadata": {},
     "output_type": "execute_result"
    }
   ],
   "source": [
    "df_all[['FRAUDES','proba']].groupby(['FRAUDES']).count()"
   ]
  },
  {
   "cell_type": "code",
   "execution_count": 76,
   "metadata": {},
   "outputs": [
    {
     "name": "stdout",
     "output_type": "stream",
     "text": [
      "Wall time: 29.4 ms\n"
     ]
    },
    {
     "data": {
      "text/html": [
       "<div>\n",
       "<style scoped>\n",
       "    .dataframe tbody tr th:only-of-type {\n",
       "        vertical-align: middle;\n",
       "    }\n",
       "\n",
       "    .dataframe tbody tr th {\n",
       "        vertical-align: top;\n",
       "    }\n",
       "\n",
       "    .dataframe thead tr th {\n",
       "        text-align: left;\n",
       "    }\n",
       "\n",
       "    .dataframe thead tr:last-of-type th {\n",
       "        text-align: right;\n",
       "    }\n",
       "</style>\n",
       "<table border=\"1\" class=\"dataframe\">\n",
       "  <thead>\n",
       "    <tr>\n",
       "      <th></th>\n",
       "      <th colspan=\"8\" halign=\"left\">proba</th>\n",
       "    </tr>\n",
       "    <tr>\n",
       "      <th></th>\n",
       "      <th>count</th>\n",
       "      <th>mean</th>\n",
       "      <th>std</th>\n",
       "      <th>min</th>\n",
       "      <th>25%</th>\n",
       "      <th>50%</th>\n",
       "      <th>75%</th>\n",
       "      <th>max</th>\n",
       "    </tr>\n",
       "    <tr>\n",
       "      <th>FRAUDES</th>\n",
       "      <th></th>\n",
       "      <th></th>\n",
       "      <th></th>\n",
       "      <th></th>\n",
       "      <th></th>\n",
       "      <th></th>\n",
       "      <th></th>\n",
       "      <th></th>\n",
       "    </tr>\n",
       "  </thead>\n",
       "  <tbody>\n",
       "    <tr>\n",
       "      <th>0.0</th>\n",
       "      <td>42453.0</td>\n",
       "      <td>0.066089</td>\n",
       "      <td>0.104925</td>\n",
       "      <td>0.000013</td>\n",
       "      <td>0.012068</td>\n",
       "      <td>0.031692</td>\n",
       "      <td>0.074030</td>\n",
       "      <td>0.996629</td>\n",
       "    </tr>\n",
       "    <tr>\n",
       "      <th>1.0</th>\n",
       "      <td>2238.0</td>\n",
       "      <td>0.594339</td>\n",
       "      <td>0.414987</td>\n",
       "      <td>0.000937</td>\n",
       "      <td>0.101631</td>\n",
       "      <td>0.841280</td>\n",
       "      <td>0.986915</td>\n",
       "      <td>0.999958</td>\n",
       "    </tr>\n",
       "  </tbody>\n",
       "</table>\n",
       "</div>"
      ],
      "text/plain": [
       "           proba                                                              \\\n",
       "           count      mean       std       min       25%       50%       75%   \n",
       "FRAUDES                                                                        \n",
       "0.0      42453.0  0.066089  0.104925  0.000013  0.012068  0.031692  0.074030   \n",
       "1.0       2238.0  0.594339  0.414987  0.000937  0.101631  0.841280  0.986915   \n",
       "\n",
       "                   \n",
       "              max  \n",
       "FRAUDES            \n",
       "0.0      0.996629  \n",
       "1.0      0.999958  "
      ]
     },
     "execution_count": 76,
     "metadata": {},
     "output_type": "execute_result"
    }
   ],
   "source": [
    "%%time\n",
    "df_all[['FRAUDES','proba']].groupby(['FRAUDES']).describe()"
   ]
  },
  {
   "cell_type": "code",
   "execution_count": 129,
   "metadata": {},
   "outputs": [
    {
     "name": "stdout",
     "output_type": "stream",
     "text": [
      "Wall time: 5.98 ms\n"
     ]
    }
   ],
   "source": [
    "%%time\n",
    "df_all.loc[ df_all['proba']>=0.15 ,'fraude_pred'] = 1\n",
    "df_all.loc[ df_all['proba'] <0.15 ,'fraude_pred'] = 0"
   ]
  },
  {
   "cell_type": "markdown",
   "metadata": {},
   "source": [
    "<a name=\"metricas\"></a>\n",
    "\n",
    "\n",
    "# 3) Métricas\n",
    "  \n",
    "- ir para [Menu Principal](#navegacao)\n",
    "\n",
    "<a name=\"amostra\"></a>\n",
    "\n",
    "\n",
    "## 3.1) Métricas na Amostra\n",
    "  \n",
    "- ir para [Menu Principal](#navegacao)"
   ]
  },
  {
   "cell_type": "code",
   "execution_count": 130,
   "metadata": {},
   "outputs": [
    {
     "name": "stdout",
     "output_type": "stream",
     "text": [
      "Confusion matrix for test:\n",
      "[[37964  4489]\n",
      " [  662  1576]]\n"
     ]
    }
   ],
   "source": [
    "from sklearn.metrics import confusion_matrix\n",
    "confusao_pop = confusion_matrix(df_all['FRAUDES'], df_all['fraude_pred'])\n",
    "print(\"Confusion matrix for test:\\n%s\" % confusao_pop )"
   ]
  },
  {
   "cell_type": "code",
   "execution_count": 131,
   "metadata": {},
   "outputs": [
    {
     "name": "stdout",
     "output_type": "stream",
     "text": [
      "Accuracy: 0.8847418943411425\n",
      "F1 score: 0.3796218234373118\n",
      "Recall: 0.7042001787310098\n",
      "Precision: 0.2598516075845012\n",
      "Wall time: 73.8 ms\n"
     ]
    }
   ],
   "source": [
    "%%time\n",
    "from sklearn.metrics import accuracy_score, f1_score, recall_score, precision_score\n",
    "\n",
    "print(\"Accuracy:\" , accuracy_score(df_all['FRAUDES'], df_all['fraude_pred'])) \n",
    "print(\"F1 score:\" , f1_score(df_all['FRAUDES'], df_all['fraude_pred'])) \n",
    "print(\"Recall:\"   , recall_score(df_all['FRAUDES'], df_all['fraude_pred'])) \n",
    "print(\"Precision:\", precision_score(df_all['FRAUDES'], df_all['fraude_pred'])) "
   ]
  },
  {
   "cell_type": "markdown",
   "metadata": {},
   "source": [
    "<a name=\"falsopos\"></a>\n",
    "\n",
    "## 3.2) Taxa de Falso Positivo\n",
    "  \n",
    "- ir para [Menu Principal](#navegacao)"
   ]
  },
  {
   "cell_type": "code",
   "execution_count": 132,
   "metadata": {},
   "outputs": [
    {
     "name": "stdout",
     "output_type": "stream",
     "text": [
      "FPR: 0.10574046592702518\n",
      "TPR: 0.7042001787310098\n",
      "Wall time: 985 µs\n"
     ]
    }
   ],
   "source": [
    "%%time\n",
    "tn, fp, fn, tp = confusao_pop.ravel()\n",
    "print('FPR:', fp/(fp + tn))\n",
    "print('TPR:', tp/(tp + fn))\n",
    "\n",
    "#FPR: 0.10574046592702518\n",
    "#TPR: 0.7042001787310098"
   ]
  },
  {
   "cell_type": "code",
   "execution_count": 30,
   "metadata": {},
   "outputs": [
    {
     "name": "stderr",
     "output_type": "stream",
     "text": [
      "c:\\Users\\patrick.franco\\AppData\\Local\\Programs\\Python\\Python311\\Lib\\site-packages\\sklearn\\model_selection\\_validation.py:378: FitFailedWarning: \n",
      "312 fits failed out of a total of 900.\n",
      "The score on these train-test partitions for these parameters will be set to nan.\n",
      "If these failures are not expected, you can try to debug them by setting error_score='raise'.\n",
      "\n",
      "Below are more details about the failures:\n",
      "--------------------------------------------------------------------------------\n",
      "60 fits failed with the following error:\n",
      "Traceback (most recent call last):\n",
      "  File \"c:\\Users\\patrick.franco\\AppData\\Local\\Programs\\Python\\Python311\\Lib\\site-packages\\sklearn\\model_selection\\_validation.py\", line 686, in _fit_and_score\n",
      "    estimator.fit(X_train, y_train, **fit_params)\n",
      "  File \"c:\\Users\\patrick.franco\\AppData\\Local\\Programs\\Python\\Python311\\Lib\\site-packages\\xgboost\\core.py\", line 620, in inner_f\n",
      "    return func(**kwargs)\n",
      "           ^^^^^^^^^^^^^^\n",
      "  File \"c:\\Users\\patrick.franco\\AppData\\Local\\Programs\\Python\\Python311\\Lib\\site-packages\\xgboost\\sklearn.py\", line 1490, in fit\n",
      "    self._Booster = train(\n",
      "                    ^^^^^^\n",
      "  File \"c:\\Users\\patrick.franco\\AppData\\Local\\Programs\\Python\\Python311\\Lib\\site-packages\\xgboost\\core.py\", line 620, in inner_f\n",
      "    return func(**kwargs)\n",
      "           ^^^^^^^^^^^^^^\n",
      "  File \"c:\\Users\\patrick.franco\\AppData\\Local\\Programs\\Python\\Python311\\Lib\\site-packages\\xgboost\\training.py\", line 185, in train\n",
      "    bst.update(dtrain, i, obj)\n",
      "  File \"c:\\Users\\patrick.franco\\AppData\\Local\\Programs\\Python\\Python311\\Lib\\site-packages\\xgboost\\core.py\", line 1918, in update\n",
      "    _check_call(_LIB.XGBoosterUpdateOneIter(self.handle,\n",
      "  File \"c:\\Users\\patrick.franco\\AppData\\Local\\Programs\\Python\\Python311\\Lib\\site-packages\\xgboost\\core.py\", line 279, in _check_call\n",
      "    raise XGBoostError(py_str(_LIB.XGBGetLastError()))\n",
      "xgboost.core.XGBoostError: value 1.82 for Parameter colsample_bylevel exceed bound [0,1]\n",
      "colsample_bylevel: Subsample ratio of columns, resample on each level.\n",
      "\n",
      "--------------------------------------------------------------------------------\n",
      "78 fits failed with the following error:\n",
      "Traceback (most recent call last):\n",
      "  File \"c:\\Users\\patrick.franco\\AppData\\Local\\Programs\\Python\\Python311\\Lib\\site-packages\\sklearn\\model_selection\\_validation.py\", line 686, in _fit_and_score\n",
      "    estimator.fit(X_train, y_train, **fit_params)\n",
      "  File \"c:\\Users\\patrick.franco\\AppData\\Local\\Programs\\Python\\Python311\\Lib\\site-packages\\xgboost\\core.py\", line 620, in inner_f\n",
      "    return func(**kwargs)\n",
      "           ^^^^^^^^^^^^^^\n",
      "  File \"c:\\Users\\patrick.franco\\AppData\\Local\\Programs\\Python\\Python311\\Lib\\site-packages\\xgboost\\sklearn.py\", line 1490, in fit\n",
      "    self._Booster = train(\n",
      "                    ^^^^^^\n",
      "  File \"c:\\Users\\patrick.franco\\AppData\\Local\\Programs\\Python\\Python311\\Lib\\site-packages\\xgboost\\core.py\", line 620, in inner_f\n",
      "    return func(**kwargs)\n",
      "           ^^^^^^^^^^^^^^\n",
      "  File \"c:\\Users\\patrick.franco\\AppData\\Local\\Programs\\Python\\Python311\\Lib\\site-packages\\xgboost\\training.py\", line 185, in train\n",
      "    bst.update(dtrain, i, obj)\n",
      "  File \"c:\\Users\\patrick.franco\\AppData\\Local\\Programs\\Python\\Python311\\Lib\\site-packages\\xgboost\\core.py\", line 1918, in update\n",
      "    _check_call(_LIB.XGBoosterUpdateOneIter(self.handle,\n",
      "  File \"c:\\Users\\patrick.franco\\AppData\\Local\\Programs\\Python\\Python311\\Lib\\site-packages\\xgboost\\core.py\", line 279, in _check_call\n",
      "    raise XGBoostError(py_str(_LIB.XGBGetLastError()))\n",
      "xgboost.core.XGBoostError: value 1.62 for Parameter colsample_bylevel exceed bound [0,1]\n",
      "colsample_bylevel: Subsample ratio of columns, resample on each level.\n",
      "\n",
      "--------------------------------------------------------------------------------\n",
      "60 fits failed with the following error:\n",
      "Traceback (most recent call last):\n",
      "  File \"c:\\Users\\patrick.franco\\AppData\\Local\\Programs\\Python\\Python311\\Lib\\site-packages\\sklearn\\model_selection\\_validation.py\", line 686, in _fit_and_score\n",
      "    estimator.fit(X_train, y_train, **fit_params)\n",
      "  File \"c:\\Users\\patrick.franco\\AppData\\Local\\Programs\\Python\\Python311\\Lib\\site-packages\\xgboost\\core.py\", line 620, in inner_f\n",
      "    return func(**kwargs)\n",
      "           ^^^^^^^^^^^^^^\n",
      "  File \"c:\\Users\\patrick.franco\\AppData\\Local\\Programs\\Python\\Python311\\Lib\\site-packages\\xgboost\\sklearn.py\", line 1490, in fit\n",
      "    self._Booster = train(\n",
      "                    ^^^^^^\n",
      "  File \"c:\\Users\\patrick.franco\\AppData\\Local\\Programs\\Python\\Python311\\Lib\\site-packages\\xgboost\\core.py\", line 620, in inner_f\n",
      "    return func(**kwargs)\n",
      "           ^^^^^^^^^^^^^^\n",
      "  File \"c:\\Users\\patrick.franco\\AppData\\Local\\Programs\\Python\\Python311\\Lib\\site-packages\\xgboost\\training.py\", line 185, in train\n",
      "    bst.update(dtrain, i, obj)\n",
      "  File \"c:\\Users\\patrick.franco\\AppData\\Local\\Programs\\Python\\Python311\\Lib\\site-packages\\xgboost\\core.py\", line 1918, in update\n",
      "    _check_call(_LIB.XGBoosterUpdateOneIter(self.handle,\n",
      "  File \"c:\\Users\\patrick.franco\\AppData\\Local\\Programs\\Python\\Python311\\Lib\\site-packages\\xgboost\\core.py\", line 279, in _check_call\n",
      "    raise XGBoostError(py_str(_LIB.XGBGetLastError()))\n",
      "xgboost.core.XGBoostError: value 1.02 for Parameter colsample_bylevel exceed bound [0,1]\n",
      "colsample_bylevel: Subsample ratio of columns, resample on each level.\n",
      "\n",
      "--------------------------------------------------------------------------------\n",
      "60 fits failed with the following error:\n",
      "Traceback (most recent call last):\n",
      "  File \"c:\\Users\\patrick.franco\\AppData\\Local\\Programs\\Python\\Python311\\Lib\\site-packages\\sklearn\\model_selection\\_validation.py\", line 686, in _fit_and_score\n",
      "    estimator.fit(X_train, y_train, **fit_params)\n",
      "  File \"c:\\Users\\patrick.franco\\AppData\\Local\\Programs\\Python\\Python311\\Lib\\site-packages\\xgboost\\core.py\", line 620, in inner_f\n",
      "    return func(**kwargs)\n",
      "           ^^^^^^^^^^^^^^\n",
      "  File \"c:\\Users\\patrick.franco\\AppData\\Local\\Programs\\Python\\Python311\\Lib\\site-packages\\xgboost\\sklearn.py\", line 1490, in fit\n",
      "    self._Booster = train(\n",
      "                    ^^^^^^\n",
      "  File \"c:\\Users\\patrick.franco\\AppData\\Local\\Programs\\Python\\Python311\\Lib\\site-packages\\xgboost\\core.py\", line 620, in inner_f\n",
      "    return func(**kwargs)\n",
      "           ^^^^^^^^^^^^^^\n",
      "  File \"c:\\Users\\patrick.franco\\AppData\\Local\\Programs\\Python\\Python311\\Lib\\site-packages\\xgboost\\training.py\", line 185, in train\n",
      "    bst.update(dtrain, i, obj)\n",
      "  File \"c:\\Users\\patrick.franco\\AppData\\Local\\Programs\\Python\\Python311\\Lib\\site-packages\\xgboost\\core.py\", line 1918, in update\n",
      "    _check_call(_LIB.XGBoosterUpdateOneIter(self.handle,\n",
      "  File \"c:\\Users\\patrick.franco\\AppData\\Local\\Programs\\Python\\Python311\\Lib\\site-packages\\xgboost\\core.py\", line 279, in _check_call\n",
      "    raise XGBoostError(py_str(_LIB.XGBGetLastError()))\n",
      "xgboost.core.XGBoostError: value 1.22 for Parameter colsample_bylevel exceed bound [0,1]\n",
      "colsample_bylevel: Subsample ratio of columns, resample on each level.\n",
      "\n",
      "--------------------------------------------------------------------------------\n",
      "54 fits failed with the following error:\n",
      "Traceback (most recent call last):\n",
      "  File \"c:\\Users\\patrick.franco\\AppData\\Local\\Programs\\Python\\Python311\\Lib\\site-packages\\sklearn\\model_selection\\_validation.py\", line 686, in _fit_and_score\n",
      "    estimator.fit(X_train, y_train, **fit_params)\n",
      "  File \"c:\\Users\\patrick.franco\\AppData\\Local\\Programs\\Python\\Python311\\Lib\\site-packages\\xgboost\\core.py\", line 620, in inner_f\n",
      "    return func(**kwargs)\n",
      "           ^^^^^^^^^^^^^^\n",
      "  File \"c:\\Users\\patrick.franco\\AppData\\Local\\Programs\\Python\\Python311\\Lib\\site-packages\\xgboost\\sklearn.py\", line 1490, in fit\n",
      "    self._Booster = train(\n",
      "                    ^^^^^^\n",
      "  File \"c:\\Users\\patrick.franco\\AppData\\Local\\Programs\\Python\\Python311\\Lib\\site-packages\\xgboost\\core.py\", line 620, in inner_f\n",
      "    return func(**kwargs)\n",
      "           ^^^^^^^^^^^^^^\n",
      "  File \"c:\\Users\\patrick.franco\\AppData\\Local\\Programs\\Python\\Python311\\Lib\\site-packages\\xgboost\\training.py\", line 185, in train\n",
      "    bst.update(dtrain, i, obj)\n",
      "  File \"c:\\Users\\patrick.franco\\AppData\\Local\\Programs\\Python\\Python311\\Lib\\site-packages\\xgboost\\core.py\", line 1918, in update\n",
      "    _check_call(_LIB.XGBoosterUpdateOneIter(self.handle,\n",
      "  File \"c:\\Users\\patrick.franco\\AppData\\Local\\Programs\\Python\\Python311\\Lib\\site-packages\\xgboost\\core.py\", line 279, in _check_call\n",
      "    raise XGBoostError(py_str(_LIB.XGBGetLastError()))\n",
      "xgboost.core.XGBoostError: value 1.42 for Parameter colsample_bylevel exceed bound [0,1]\n",
      "colsample_bylevel: Subsample ratio of columns, resample on each level.\n",
      "\n",
      "  warnings.warn(some_fits_failed_message, FitFailedWarning)\n",
      "c:\\Users\\patrick.franco\\AppData\\Local\\Programs\\Python\\Python311\\Lib\\site-packages\\sklearn\\model_selection\\_search.py:952: UserWarning: One or more of the test scores are non-finite: [0.99996813        nan 0.92910864 1.         1.                nan\n",
      " 1.         0.92910864        nan        nan        nan        nan\n",
      " 1.                nan 1.         1.         0.92910864 0.99839062\n",
      " 1.                nan        nan 1.         0.92910864 0.92910864\n",
      "        nan        nan 0.92910864        nan 1.         1.\n",
      "        nan        nan 1.                nan 1.         1.\n",
      "        nan 0.99996813        nan 0.92910864        nan        nan\n",
      " 1.         0.92910864 1.                nan        nan        nan\n",
      "        nan        nan 1.         0.92910864 1.         0.92910864\n",
      " 1.         1.         1.         0.92910864        nan 0.93028776\n",
      " 1.         1.                nan        nan 0.92910864 1.\n",
      "        nan 1.         1.                nan        nan 0.92910864\n",
      "        nan 0.92910864        nan        nan        nan 1.\n",
      " 0.92910864 0.99399294        nan        nan 0.99928298 1.\n",
      " 1.         1.         1.         1.         0.99998407 1.\n",
      "        nan 0.96504033        nan        nan 0.92910864 1.\n",
      " 0.92910864        nan 1.         1.         0.92910864 0.92910864\n",
      " 0.99968132        nan        nan 0.92910864 0.92993722        nan\n",
      " 1.         1.         1.                nan 1.         1.\n",
      " 1.         0.92910864 0.92910864 0.92910864 1.         1.\n",
      " 1.         0.92910864 1.                nan 1.                nan\n",
      " 1.                nan 1.         1.                nan        nan\n",
      "        nan 0.96440296 1.                nan        nan        nan\n",
      " 1.         1.         1.         0.92910864        nan 1.\n",
      " 0.92910864 0.92910864        nan 0.92910864        nan        nan\n",
      " 0.96424412 0.92910864        nan 0.92910864        nan 0.92910864\n",
      " 1.                nan        nan        nan 0.92910864 1.\n",
      "        nan 0.92910864 0.92910864        nan 1.                nan\n",
      " 0.92910864 0.99972913 0.92910864        nan 0.92910864 1.\n",
      " 0.92910864        nan 0.92910864 1.         1.         0.92910864\n",
      "        nan 1.         1.         0.92910864 0.92910864 0.92910864\n",
      "        nan        nan 0.92910864        nan 1.         0.92910864\n",
      " 1.         0.92910864 0.99993626        nan        nan 0.92910864\n",
      " 1.         1.         0.99996813 1.         1.         1.\n",
      " 0.92910864 0.92910864        nan 0.92910864        nan 1.\n",
      " 0.92910864 0.92910864        nan        nan 1.                nan\n",
      " 1.         0.92910864 1.         1.         1.                nan\n",
      " 0.92910864 0.92910864        nan        nan        nan 1.\n",
      "        nan 0.92910864 1.         1.         1.         0.92910864\n",
      " 0.99949011 1.         1.         0.92910864 1.         0.92910864\n",
      "        nan 1.                nan 1.         0.92910864        nan\n",
      " 1.                nan 0.92910864 1.         0.92910864 0.92910864\n",
      "        nan        nan 1.         0.92910864 1.         1.\n",
      " 0.92910864        nan 0.92910864 0.92910864 0.92910864 0.92910864\n",
      "        nan 0.92910864        nan 0.92910864 0.92910864 1.\n",
      " 0.92910864 1.         0.99998407        nan        nan        nan\n",
      " 1.         0.99996813 1.         0.92910864 0.92910864        nan\n",
      " 1.                nan 0.92910864 0.99335546 0.92910864 1.\n",
      "        nan 1.                nan        nan 0.99917141 0.9663788\n",
      " 1.                nan        nan        nan 0.92910864        nan]\n",
      "  warnings.warn(\n"
     ]
    },
    {
     "name": "stdout",
     "output_type": "stream",
     "text": [
      "CPU times: total: 1min 33s\n",
      "Wall time: 18min 9s\n"
     ]
    },
    {
     "data": {
      "text/html": [
       "<style>#sk-container-id-2 {color: black;background-color: white;}#sk-container-id-2 pre{padding: 0;}#sk-container-id-2 div.sk-toggleable {background-color: white;}#sk-container-id-2 label.sk-toggleable__label {cursor: pointer;display: block;width: 100%;margin-bottom: 0;padding: 0.3em;box-sizing: border-box;text-align: center;}#sk-container-id-2 label.sk-toggleable__label-arrow:before {content: \"▸\";float: left;margin-right: 0.25em;color: #696969;}#sk-container-id-2 label.sk-toggleable__label-arrow:hover:before {color: black;}#sk-container-id-2 div.sk-estimator:hover label.sk-toggleable__label-arrow:before {color: black;}#sk-container-id-2 div.sk-toggleable__content {max-height: 0;max-width: 0;overflow: hidden;text-align: left;background-color: #f0f8ff;}#sk-container-id-2 div.sk-toggleable__content pre {margin: 0.2em;color: black;border-radius: 0.25em;background-color: #f0f8ff;}#sk-container-id-2 input.sk-toggleable__control:checked~div.sk-toggleable__content {max-height: 200px;max-width: 100%;overflow: auto;}#sk-container-id-2 input.sk-toggleable__control:checked~label.sk-toggleable__label-arrow:before {content: \"▾\";}#sk-container-id-2 div.sk-estimator input.sk-toggleable__control:checked~label.sk-toggleable__label {background-color: #d4ebff;}#sk-container-id-2 div.sk-label input.sk-toggleable__control:checked~label.sk-toggleable__label {background-color: #d4ebff;}#sk-container-id-2 input.sk-hidden--visually {border: 0;clip: rect(1px 1px 1px 1px);clip: rect(1px, 1px, 1px, 1px);height: 1px;margin: -1px;overflow: hidden;padding: 0;position: absolute;width: 1px;}#sk-container-id-2 div.sk-estimator {font-family: monospace;background-color: #f0f8ff;border: 1px dotted black;border-radius: 0.25em;box-sizing: border-box;margin-bottom: 0.5em;}#sk-container-id-2 div.sk-estimator:hover {background-color: #d4ebff;}#sk-container-id-2 div.sk-parallel-item::after {content: \"\";width: 100%;border-bottom: 1px solid gray;flex-grow: 1;}#sk-container-id-2 div.sk-label:hover label.sk-toggleable__label {background-color: #d4ebff;}#sk-container-id-2 div.sk-serial::before {content: \"\";position: absolute;border-left: 1px solid gray;box-sizing: border-box;top: 0;bottom: 0;left: 50%;z-index: 0;}#sk-container-id-2 div.sk-serial {display: flex;flex-direction: column;align-items: center;background-color: white;padding-right: 0.2em;padding-left: 0.2em;position: relative;}#sk-container-id-2 div.sk-item {position: relative;z-index: 1;}#sk-container-id-2 div.sk-parallel {display: flex;align-items: stretch;justify-content: center;background-color: white;position: relative;}#sk-container-id-2 div.sk-item::before, #sk-container-id-2 div.sk-parallel-item::before {content: \"\";position: absolute;border-left: 1px solid gray;box-sizing: border-box;top: 0;bottom: 0;left: 50%;z-index: -1;}#sk-container-id-2 div.sk-parallel-item {display: flex;flex-direction: column;z-index: 1;position: relative;background-color: white;}#sk-container-id-2 div.sk-parallel-item:first-child::after {align-self: flex-end;width: 50%;}#sk-container-id-2 div.sk-parallel-item:last-child::after {align-self: flex-start;width: 50%;}#sk-container-id-2 div.sk-parallel-item:only-child::after {width: 0;}#sk-container-id-2 div.sk-dashed-wrapped {border: 1px dashed gray;margin: 0 0.4em 0.5em 0.4em;box-sizing: border-box;padding-bottom: 0.4em;background-color: white;}#sk-container-id-2 div.sk-label label {font-family: monospace;font-weight: bold;display: inline-block;line-height: 1.2em;}#sk-container-id-2 div.sk-label-container {text-align: center;}#sk-container-id-2 div.sk-container {/* jupyter's `normalize.less` sets `[hidden] { display: none; }` but bootstrap.min.css set `[hidden] { display: none !important; }` so we also need the `!important` here to be able to override the default hidden behavior on the sphinx rendered scikit-learn.org. See: https://github.com/scikit-learn/scikit-learn/issues/21755 */display: inline-block !important;position: relative;}#sk-container-id-2 div.sk-text-repr-fallback {display: none;}</style><div id=\"sk-container-id-2\" class=\"sk-top-container\"><div class=\"sk-text-repr-fallback\"><pre>RandomizedSearchCV(cv=3,\n",
       "                   estimator=XGBClassifier(base_score=None, booster=None,\n",
       "                                           callbacks=None,\n",
       "                                           colsample_bylevel=None,\n",
       "                                           colsample_bynode=None,\n",
       "                                           colsample_bytree=None,\n",
       "                                           early_stopping_rounds=None,\n",
       "                                           enable_categorical=False,\n",
       "                                           eval_metric=None, feature_types=None,\n",
       "                                           gamma=None, gpu_id=None,\n",
       "                                           grow_policy=None,\n",
       "                                           importance_type=None,\n",
       "                                           interaction_constraints=None,\n",
       "                                           learning_rate...\n",
       "                                        &#x27;max_delta_step&#x27;: [0.02, 0.12, 0.22,\n",
       "                                                           0.32, 0.42, 0.52,\n",
       "                                                           0.62, 0.72, 0.82,\n",
       "                                                           0.92, 1.02, 1.12,\n",
       "                                                           1.22, 1.32, 1.42,\n",
       "                                                           1.52, 1.62, 1.72,\n",
       "                                                           1.82, 1.92],\n",
       "                                        &#x27;max_depth&#x27;: [1, 3, 5, 7, 9],\n",
       "                                        &#x27;min_child_weight&#x27;: [0.001, 0.021,\n",
       "                                                             0.041, 0.061,\n",
       "                                                             0.081],\n",
       "                                        &#x27;objective&#x27;: [&#x27;reg:linear&#x27;],\n",
       "                                        &#x27;reg_alpha&#x27;: [0.001, 0.021, 0.041,\n",
       "                                                      0.061, 0.081],\n",
       "                                        &#x27;reg_lambda&#x27;: [0.001, 0.021, 0.041,\n",
       "                                                       0.061, 0.081],\n",
       "                                        &#x27;subsample&#x27;: [0.005, 0.105, 0.205,\n",
       "                                                      0.305, 0.405]},\n",
       "                   random_state=1)</pre><b>In a Jupyter environment, please rerun this cell to show the HTML representation or trust the notebook. <br />On GitHub, the HTML representation is unable to render, please try loading this page with nbviewer.org.</b></div><div class=\"sk-container\" hidden><div class=\"sk-item sk-dashed-wrapped\"><div class=\"sk-label-container\"><div class=\"sk-label sk-toggleable\"><input class=\"sk-toggleable__control sk-hidden--visually\" id=\"sk-estimator-id-4\" type=\"checkbox\" ><label for=\"sk-estimator-id-4\" class=\"sk-toggleable__label sk-toggleable__label-arrow\">RandomizedSearchCV</label><div class=\"sk-toggleable__content\"><pre>RandomizedSearchCV(cv=3,\n",
       "                   estimator=XGBClassifier(base_score=None, booster=None,\n",
       "                                           callbacks=None,\n",
       "                                           colsample_bylevel=None,\n",
       "                                           colsample_bynode=None,\n",
       "                                           colsample_bytree=None,\n",
       "                                           early_stopping_rounds=None,\n",
       "                                           enable_categorical=False,\n",
       "                                           eval_metric=None, feature_types=None,\n",
       "                                           gamma=None, gpu_id=None,\n",
       "                                           grow_policy=None,\n",
       "                                           importance_type=None,\n",
       "                                           interaction_constraints=None,\n",
       "                                           learning_rate...\n",
       "                                        &#x27;max_delta_step&#x27;: [0.02, 0.12, 0.22,\n",
       "                                                           0.32, 0.42, 0.52,\n",
       "                                                           0.62, 0.72, 0.82,\n",
       "                                                           0.92, 1.02, 1.12,\n",
       "                                                           1.22, 1.32, 1.42,\n",
       "                                                           1.52, 1.62, 1.72,\n",
       "                                                           1.82, 1.92],\n",
       "                                        &#x27;max_depth&#x27;: [1, 3, 5, 7, 9],\n",
       "                                        &#x27;min_child_weight&#x27;: [0.001, 0.021,\n",
       "                                                             0.041, 0.061,\n",
       "                                                             0.081],\n",
       "                                        &#x27;objective&#x27;: [&#x27;reg:linear&#x27;],\n",
       "                                        &#x27;reg_alpha&#x27;: [0.001, 0.021, 0.041,\n",
       "                                                      0.061, 0.081],\n",
       "                                        &#x27;reg_lambda&#x27;: [0.001, 0.021, 0.041,\n",
       "                                                       0.061, 0.081],\n",
       "                                        &#x27;subsample&#x27;: [0.005, 0.105, 0.205,\n",
       "                                                      0.305, 0.405]},\n",
       "                   random_state=1)</pre></div></div></div><div class=\"sk-parallel\"><div class=\"sk-parallel-item\"><div class=\"sk-item\"><div class=\"sk-label-container\"><div class=\"sk-label sk-toggleable\"><input class=\"sk-toggleable__control sk-hidden--visually\" id=\"sk-estimator-id-5\" type=\"checkbox\" ><label for=\"sk-estimator-id-5\" class=\"sk-toggleable__label sk-toggleable__label-arrow\">estimator: XGBClassifier</label><div class=\"sk-toggleable__content\"><pre>XGBClassifier(base_score=None, booster=None, callbacks=None,\n",
       "              colsample_bylevel=None, colsample_bynode=None,\n",
       "              colsample_bytree=None, early_stopping_rounds=None,\n",
       "              enable_categorical=False, eval_metric=None, feature_types=None,\n",
       "              gamma=None, gpu_id=None, grow_policy=None, importance_type=None,\n",
       "              interaction_constraints=None, learning_rate=None, max_bin=None,\n",
       "              max_cat_threshold=None, max_cat_to_onehot=None,\n",
       "              max_delta_step=None, max_depth=None, max_leaves=None,\n",
       "              min_child_weight=None, missing=nan, monotone_constraints=None,\n",
       "              n_estimators=100, n_jobs=None, num_parallel_tree=None,\n",
       "              predictor=None, random_state=None, ...)</pre></div></div></div><div class=\"sk-serial\"><div class=\"sk-item\"><div class=\"sk-estimator sk-toggleable\"><input class=\"sk-toggleable__control sk-hidden--visually\" id=\"sk-estimator-id-6\" type=\"checkbox\" ><label for=\"sk-estimator-id-6\" class=\"sk-toggleable__label sk-toggleable__label-arrow\">XGBClassifier</label><div class=\"sk-toggleable__content\"><pre>XGBClassifier(base_score=None, booster=None, callbacks=None,\n",
       "              colsample_bylevel=None, colsample_bynode=None,\n",
       "              colsample_bytree=None, early_stopping_rounds=None,\n",
       "              enable_categorical=False, eval_metric=None, feature_types=None,\n",
       "              gamma=None, gpu_id=None, grow_policy=None, importance_type=None,\n",
       "              interaction_constraints=None, learning_rate=None, max_bin=None,\n",
       "              max_cat_threshold=None, max_cat_to_onehot=None,\n",
       "              max_delta_step=None, max_depth=None, max_leaves=None,\n",
       "              min_child_weight=None, missing=nan, monotone_constraints=None,\n",
       "              n_estimators=100, n_jobs=None, num_parallel_tree=None,\n",
       "              predictor=None, random_state=None, ...)</pre></div></div></div></div></div></div></div></div></div></div>"
      ],
      "text/plain": [
       "RandomizedSearchCV(cv=3,\n",
       "                   estimator=XGBClassifier(base_score=None, booster=None,\n",
       "                                           callbacks=None,\n",
       "                                           colsample_bylevel=None,\n",
       "                                           colsample_bynode=None,\n",
       "                                           colsample_bytree=None,\n",
       "                                           early_stopping_rounds=None,\n",
       "                                           enable_categorical=False,\n",
       "                                           eval_metric=None, feature_types=None,\n",
       "                                           gamma=None, gpu_id=None,\n",
       "                                           grow_policy=None,\n",
       "                                           importance_type=None,\n",
       "                                           interaction_constraints=None,\n",
       "                                           learning_rate...\n",
       "                                        'max_delta_step': [0.02, 0.12, 0.22,\n",
       "                                                           0.32, 0.42, 0.52,\n",
       "                                                           0.62, 0.72, 0.82,\n",
       "                                                           0.92, 1.02, 1.12,\n",
       "                                                           1.22, 1.32, 1.42,\n",
       "                                                           1.52, 1.62, 1.72,\n",
       "                                                           1.82, 1.92],\n",
       "                                        'max_depth': [1, 3, 5, 7, 9],\n",
       "                                        'min_child_weight': [0.001, 0.021,\n",
       "                                                             0.041, 0.061,\n",
       "                                                             0.081],\n",
       "                                        'objective': ['reg:linear'],\n",
       "                                        'reg_alpha': [0.001, 0.021, 0.041,\n",
       "                                                      0.061, 0.081],\n",
       "                                        'reg_lambda': [0.001, 0.021, 0.041,\n",
       "                                                       0.061, 0.081],\n",
       "                                        'subsample': [0.005, 0.105, 0.205,\n",
       "                                                      0.305, 0.405]},\n",
       "                   random_state=1)"
      ]
     },
     "execution_count": 30,
     "metadata": {},
     "output_type": "execute_result"
    }
   ],
   "source": [
    "%%time\n",
    "import xgboost as xgb\n",
    "space = dict()\n",
    "space['booster']           = ['gbtree','gblinear','dart']\n",
    "space['colsample_bylevel'] = [row/50 for row in range(1,100,10)]\n",
    "#space['colsample_bynode']  = [row/50 for row in range(1,100,10)]\n",
    "#space['colsample_bytree']  = [row/50 for row in range(1,100,10)]\n",
    "space['gamma']             = [row/30 for row in range(1,30,2)]\n",
    "space['importance_type']   = ['gain']\n",
    "space['learning_rate']     = [row/400 for row in range(1,200,10)]\n",
    "space['max_delta_step']    = [row/50 for row in range(1,100,5)]\n",
    "space['max_depth']         = [row for row in range(1,10,2)]\n",
    "space['min_child_weight']  = [row/1000 for row in range(1,100,20)]\n",
    "space['reg_lambda']        = [row/1000 for row in range(1,100,20)]\n",
    "space['reg_alpha']         = [row/1000 for row in range(1,100,20)]\n",
    "space['subsample']         = [row/200  for row in range(1,100,20)]\n",
    "space['objective']         = ['reg:linear']\n",
    "\n",
    "xgboost = xgb.XGBClassifier(n_estimators=100,verbosity=0)\n",
    "xgboost1= RandomizedSearchCV(xgboost, space ,  cv=3, random_state=1, n_iter=300, n_jobs=20)\n",
    "\n",
    "xgboost1.fit(x_train,y_train, verbose=False)"
   ]
  },
  {
   "cell_type": "code",
   "execution_count": null,
   "metadata": {},
   "outputs": [],
   "source": []
  }
 ],
 "metadata": {
  "kernelspec": {
   "display_name": "Python 3",
   "language": "python",
   "name": "python3"
  },
  "language_info": {
   "codemirror_mode": {
    "name": "ipython",
    "version": 3
   },
   "file_extension": ".py",
   "mimetype": "text/x-python",
   "name": "python",
   "nbconvert_exporter": "python",
   "pygments_lexer": "ipython3",
   "version": "3.11.2"
  },
  "vscode": {
   "interpreter": {
    "hash": "417b098a34c1d15f54821650e8824b8f9a13757cdf07902482f1dffeb55d10e4"
   }
  }
 },
 "nbformat": 4,
 "nbformat_minor": 2
}
