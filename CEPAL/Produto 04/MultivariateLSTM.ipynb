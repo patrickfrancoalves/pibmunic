{
 "cells": [
  {
   "attachments": {},
   "cell_type": "markdown",
   "metadata": {},
   "source": [
    "## Multivariate Time Series Forecasting using RNN (LSTM)\n",
    "- https://medium.com/mlearning-ai/multivariate-time-series-forecasting-using-rnn-lstm-8d840f3f9aa7"
   ]
  },
  {
   "cell_type": "code",
   "execution_count": 51,
   "metadata": {},
   "outputs": [],
   "source": [
    "# This Python 3 environment comes with many helpful analytics libraries installed\n",
    "# It is defined by the kaggle/python Docker image: https://github.com/kaggle/docker-python\n",
    "# For example, here's several helpful packages to load\n",
    "\n",
    "import pandas as pd\n",
    "import numpy as np\n",
    "import seaborn as sns\n",
    "from sklearn.preprocessing import MinMaxScaler, StandardScaler\n",
    "from sklearn.preprocessing import LabelEncoder\n",
    "from sklearn.metrics import mean_squared_error\n",
    "\n",
    "%matplotlib inline\n",
    "import matplotlib.pyplot as plt\n",
    "import tensorflow as tf\n",
    "from tensorflow.keras.models import Sequential\n",
    "from tensorflow.keras.layers import LSTM\n",
    "from tensorflow.keras.layers import Dense\n",
    "from tensorflow.keras.layers import Bidirectional\n",
    "from tensorflow.keras.layers import Dropout\n",
    "from tensorflow.keras.layers import Flatten"
   ]
  },
  {
   "attachments": {},
   "cell_type": "markdown",
   "metadata": {},
   "source": [
    "#### Timeseries Multivariant Forecasting with LSTM model\n",
    "- Forecasting Load on Temp, Humidity, Wind and Precipitation.\n",
    "- Train a LSTM model using hourly records from 2015 to 2019. \n",
    "- Then predict the future demand for Jan-2020 and Compare with actual data "
   ]
  },
  {
   "cell_type": "code",
   "execution_count": 52,
   "metadata": {},
   "outputs": [],
   "source": [
    "df1 = pd.read_excel('LSTM.xlsx')[['Data','TJLP','TAXA_JUROS','SPREAD','ICC']]"
   ]
  },
  {
   "cell_type": "code",
   "execution_count": 53,
   "metadata": {},
   "outputs": [
    {
     "name": "stdout",
     "output_type": "stream",
     "text": [
      "Data          datetime64[ns]\n",
      "TJLP                 float64\n",
      "TAXA_JUROS           float64\n",
      "SPREAD               float64\n",
      "ICC                  float64\n",
      "dtype: object\n"
     ]
    }
   ],
   "source": [
    "print(df1.dtypes)"
   ]
  },
  {
   "cell_type": "code",
   "execution_count": 54,
   "metadata": {},
   "outputs": [
    {
     "data": {
      "text/plain": [
       "(124, 5)"
      ]
     },
     "execution_count": 54,
     "metadata": {},
     "output_type": "execute_result"
    }
   ],
   "source": [
    "df1.shape"
   ]
  },
  {
   "cell_type": "code",
   "execution_count": 55,
   "metadata": {},
   "outputs": [],
   "source": [
    "## Splitting the database\n",
    "#df1.rename(columns={'date':'Date','open':'Open','high':'High','low':'Low','close':'Close'},inplace=True)\n",
    "#df1.drop(columns=['vol_fiat','volume','Unnamed: 0','unix'],inplace=True,axis=1)"
   ]
  },
  {
   "cell_type": "code",
   "execution_count": 56,
   "metadata": {},
   "outputs": [],
   "source": [
    "## Splitting the database\n",
    "df2       = df1[['Data','SPREAD','TJLP','TAXA_JUROS','ICC']]\n",
    "df2_date  = df1[['Data']]\n",
    "df2_train = df2.iloc[0:100,1:]"
   ]
  },
  {
   "cell_type": "code",
   "execution_count": 57,
   "metadata": {},
   "outputs": [
    {
     "data": {
      "text/html": [
       "<div>\n",
       "<style scoped>\n",
       "    .dataframe tbody tr th:only-of-type {\n",
       "        vertical-align: middle;\n",
       "    }\n",
       "\n",
       "    .dataframe tbody tr th {\n",
       "        vertical-align: top;\n",
       "    }\n",
       "\n",
       "    .dataframe thead th {\n",
       "        text-align: right;\n",
       "    }\n",
       "</style>\n",
       "<table border=\"1\" class=\"dataframe\">\n",
       "  <thead>\n",
       "    <tr style=\"text-align: right;\">\n",
       "      <th></th>\n",
       "      <th>SPREAD</th>\n",
       "      <th>TJLP</th>\n",
       "      <th>TAXA_JUROS</th>\n",
       "      <th>ICC</th>\n",
       "    </tr>\n",
       "  </thead>\n",
       "  <tbody>\n",
       "    <tr>\n",
       "      <th>0</th>\n",
       "      <td>2.97</td>\n",
       "      <td>5.0</td>\n",
       "      <td>7.140410</td>\n",
       "      <td>8.72</td>\n",
       "    </tr>\n",
       "    <tr>\n",
       "      <th>1</th>\n",
       "      <td>2.83</td>\n",
       "      <td>5.0</td>\n",
       "      <td>6.945279</td>\n",
       "      <td>8.66</td>\n",
       "    </tr>\n",
       "    <tr>\n",
       "      <th>2</th>\n",
       "      <td>2.87</td>\n",
       "      <td>5.0</td>\n",
       "      <td>6.961950</td>\n",
       "      <td>8.56</td>\n",
       "    </tr>\n",
       "    <tr>\n",
       "      <th>3</th>\n",
       "      <td>2.67</td>\n",
       "      <td>5.0</td>\n",
       "      <td>6.516798</td>\n",
       "      <td>8.48</td>\n",
       "    </tr>\n",
       "    <tr>\n",
       "      <th>4</th>\n",
       "      <td>2.51</td>\n",
       "      <td>5.0</td>\n",
       "      <td>6.334514</td>\n",
       "      <td>8.37</td>\n",
       "    </tr>\n",
       "  </tbody>\n",
       "</table>\n",
       "</div>"
      ],
      "text/plain": [
       "   SPREAD  TJLP  TAXA_JUROS   ICC\n",
       "0    2.97   5.0    7.140410  8.72\n",
       "1    2.83   5.0    6.945279  8.66\n",
       "2    2.87   5.0    6.961950  8.56\n",
       "3    2.67   5.0    6.516798  8.48\n",
       "4    2.51   5.0    6.334514  8.37"
      ]
     },
     "execution_count": 57,
     "metadata": {},
     "output_type": "execute_result"
    }
   ],
   "source": [
    "df2_train.head()"
   ]
  },
  {
   "cell_type": "code",
   "execution_count": 58,
   "metadata": {},
   "outputs": [],
   "source": [
    "## Splitting the database\n",
    "df2_test = df2.iloc[100: , 1:]"
   ]
  },
  {
   "cell_type": "code",
   "execution_count": 59,
   "metadata": {},
   "outputs": [],
   "source": [
    "df2       = df1[['Data','SPREAD','TJLP','TAXA_JUROS','ICC']]\n",
    "df2_date  = df1[['Data']]"
   ]
  },
  {
   "cell_type": "code",
   "execution_count": 60,
   "metadata": {},
   "outputs": [
    {
     "data": {
      "text/plain": [
       "Data          0\n",
       "SPREAD        0\n",
       "TJLP          0\n",
       "TAXA_JUROS    0\n",
       "ICC           0\n",
       "dtype: int64"
      ]
     },
     "execution_count": 60,
     "metadata": {},
     "output_type": "execute_result"
    }
   ],
   "source": [
    "df2.isnull().sum()"
   ]
  },
  {
   "cell_type": "code",
   "execution_count": 61,
   "metadata": {},
   "outputs": [
    {
     "name": "stdout",
     "output_type": "stream",
     "text": [
      "treino: (100, 4) teste: (24, 4)\n"
     ]
    }
   ],
   "source": [
    "#df['datetime']=pd.to_datetime(df['datetime'])\n",
    "print('treino:',df2_train.shape,'teste:',df2_test.shape)"
   ]
  },
  {
   "cell_type": "code",
   "execution_count": 62,
   "metadata": {},
   "outputs": [
    {
     "data": {
      "text/html": [
       "<div>\n",
       "<style scoped>\n",
       "    .dataframe tbody tr th:only-of-type {\n",
       "        vertical-align: middle;\n",
       "    }\n",
       "\n",
       "    .dataframe tbody tr th {\n",
       "        vertical-align: top;\n",
       "    }\n",
       "\n",
       "    .dataframe thead th {\n",
       "        text-align: right;\n",
       "    }\n",
       "</style>\n",
       "<table border=\"1\" class=\"dataframe\">\n",
       "  <thead>\n",
       "    <tr style=\"text-align: right;\">\n",
       "      <th></th>\n",
       "      <th>index</th>\n",
       "      <th>SPREAD</th>\n",
       "      <th>TJLP</th>\n",
       "      <th>TAXA_JUROS</th>\n",
       "      <th>ICC</th>\n",
       "    </tr>\n",
       "  </thead>\n",
       "  <tbody>\n",
       "    <tr>\n",
       "      <th>0</th>\n",
       "      <td>100</td>\n",
       "      <td>3.84</td>\n",
       "      <td>4.61</td>\n",
       "      <td>7.967241</td>\n",
       "      <td>8.13</td>\n",
       "    </tr>\n",
       "    <tr>\n",
       "      <th>1</th>\n",
       "      <td>101</td>\n",
       "      <td>3.80</td>\n",
       "      <td>4.61</td>\n",
       "      <td>9.098656</td>\n",
       "      <td>8.11</td>\n",
       "    </tr>\n",
       "    <tr>\n",
       "      <th>2</th>\n",
       "      <td>102</td>\n",
       "      <td>4.04</td>\n",
       "      <td>4.88</td>\n",
       "      <td>9.781375</td>\n",
       "      <td>8.12</td>\n",
       "    </tr>\n",
       "    <tr>\n",
       "      <th>3</th>\n",
       "      <td>103</td>\n",
       "      <td>3.90</td>\n",
       "      <td>4.88</td>\n",
       "      <td>10.797634</td>\n",
       "      <td>8.10</td>\n",
       "    </tr>\n",
       "    <tr>\n",
       "      <th>4</th>\n",
       "      <td>104</td>\n",
       "      <td>3.73</td>\n",
       "      <td>4.88</td>\n",
       "      <td>9.995535</td>\n",
       "      <td>8.10</td>\n",
       "    </tr>\n",
       "  </tbody>\n",
       "</table>\n",
       "</div>"
      ],
      "text/plain": [
       "   index  SPREAD  TJLP  TAXA_JUROS   ICC\n",
       "0    100    3.84  4.61    7.967241  8.13\n",
       "1    101    3.80  4.61    9.098656  8.11\n",
       "2    102    4.04  4.88    9.781375  8.12\n",
       "3    103    3.90  4.88   10.797634  8.10\n",
       "4    104    3.73  4.88    9.995535  8.10"
      ]
     },
     "execution_count": 62,
     "metadata": {},
     "output_type": "execute_result"
    }
   ],
   "source": [
    "df2_test.reset_index(inplace=True)\n",
    "df2_test.head()"
   ]
  },
  {
   "cell_type": "code",
   "execution_count": 63,
   "metadata": {},
   "outputs": [
    {
     "name": "stdout",
     "output_type": "stream",
     "text": [
      "Treino X: (100, 4) Treino y: (100, 1)\n"
     ]
    }
   ],
   "source": [
    "sc = StandardScaler()\n",
    "df2_train_scaled = sc.fit_transform(df2_train)\n",
    "\n",
    "sc2 = StandardScaler()\n",
    "df2_train_scaled_y = sc2.fit_transform(df2_train[['SPREAD']])\n",
    "\n",
    "print(\"Treino X:\", df2_train_scaled.shape, \"Treino y:\", df2_train_scaled_y.shape)"
   ]
  },
  {
   "attachments": {},
   "cell_type": "markdown",
   "metadata": {},
   "source": [
    "#####  Create an array for the previous values for each column."
   ]
  },
  {
   "cell_type": "code",
   "execution_count": 64,
   "metadata": {},
   "outputs": [],
   "source": [
    "hops = 6\n",
    "no_records = df2_train_scaled.shape[0]\n",
    "ncols = 4\n",
    "X_train = []\n",
    "y_train = []\n",
    "\n",
    "for i in  range(14,no_records):\n",
    "    X_train.append(df2_train_scaled[i-6:i])\n",
    "    y_train.append(df2_train_scaled_y[i][0])\n",
    "\n",
    "X_train , y_train = np.array(X_train,dtype=object) , np.array(y_train,dtype=object)"
   ]
  },
  {
   "cell_type": "code",
   "execution_count": 65,
   "metadata": {},
   "outputs": [],
   "source": [
    "X_train = np.asarray(X_train).astype(np.float32)\n",
    "y_train = np.asarray(y_train).astype(np.float32)"
   ]
  },
  {
   "cell_type": "code",
   "execution_count": 66,
   "metadata": {},
   "outputs": [
    {
     "name": "stdout",
     "output_type": "stream",
     "text": [
      "shape df2_train: (100, 4) shape df2_train_scaled: (100, 4)\n"
     ]
    }
   ],
   "source": [
    "print(\"shape df2_train:\", df2_train.shape, \"shape df2_train_scaled:\", df2_train_scaled.shape)"
   ]
  },
  {
   "cell_type": "code",
   "execution_count": 67,
   "metadata": {},
   "outputs": [],
   "source": [
    "X_train_shape = np.reshape(X_train, (X_train.shape[0] , X_train.shape[1], X_train.shape[2]) )"
   ]
  },
  {
   "cell_type": "code",
   "execution_count": 68,
   "metadata": {},
   "outputs": [
    {
     "name": "stdout",
     "output_type": "stream",
     "text": [
      "Treino X: (86, 6, 4) Treino y: (86,)\n"
     ]
    }
   ],
   "source": [
    "print(\"Treino X:\", X_train.shape, \"Treino y:\", y_train.shape)"
   ]
  },
  {
   "attachments": {},
   "cell_type": "markdown",
   "metadata": {},
   "source": [
    "#### The Most Important part...\n",
    "- Past values are import to predict the future demand \n",
    "- Model has to be dynamic to learn from past data and predict the future demand.\n",
    "- Create parts of data having past 2 days (48 hours) \n",
    "- LSTM model will predict the 49th Hour Load prediction."
   ]
  },
  {
   "attachments": {},
   "cell_type": "markdown",
   "metadata": {},
   "source": [
    "### Creating a LSTM Multivariant model\n",
    "- Multistage Neural Network (Long Short Term Memory). "
   ]
  },
  {
   "cell_type": "code",
   "execution_count": 154,
   "metadata": {},
   "outputs": [],
   "source": [
    "model = Sequential()\n",
    "model.add(LSTM(units=75, activation='relu', input_shape=(6, 4), return_sequences=True))\n",
    "model.add(Dropout(0.2))\n",
    "model.add(LSTM(units=75))\n",
    "model.add(Dropout(0.2))\n",
    "model.add(Dense(10, activation='relu'))\n",
    "model.compile(optimizer='adam', loss='mse')"
   ]
  },
  {
   "cell_type": "code",
   "execution_count": 155,
   "metadata": {},
   "outputs": [
    {
     "name": "stdout",
     "output_type": "stream",
     "text": [
      "Epoch 1/50\n",
      "2/2 [==============================] - 4s 7ms/step - loss: 0.7479\n",
      "Epoch 2/50\n",
      "2/2 [==============================] - 0s 35ms/step - loss: 0.7197\n",
      "Epoch 3/50\n",
      "2/2 [==============================] - 0s 10ms/step - loss: 0.6909\n",
      "Epoch 4/50\n",
      "2/2 [==============================] - 0s 8ms/step - loss: 0.6580\n",
      "Epoch 5/50\n",
      "2/2 [==============================] - 0s 10ms/step - loss: 0.6226\n",
      "Epoch 6/50\n",
      "2/2 [==============================] - 0s 10ms/step - loss: 0.5828\n",
      "Epoch 7/50\n",
      "2/2 [==============================] - 0s 9ms/step - loss: 0.5344\n",
      "Epoch 8/50\n",
      "2/2 [==============================] - 0s 12ms/step - loss: 0.4980\n",
      "Epoch 9/50\n",
      "2/2 [==============================] - 0s 17ms/step - loss: 0.4825\n",
      "Epoch 10/50\n",
      "2/2 [==============================] - 0s 10ms/step - loss: 0.4696\n",
      "Epoch 11/50\n",
      "2/2 [==============================] - 0s 8ms/step - loss: 0.4999\n",
      "Epoch 12/50\n",
      "2/2 [==============================] - 0s 8ms/step - loss: 0.4916\n",
      "Epoch 13/50\n",
      "2/2 [==============================] - 0s 8ms/step - loss: 0.4495\n",
      "Epoch 14/50\n",
      "2/2 [==============================] - 0s 8ms/step - loss: 0.4362\n",
      "Epoch 15/50\n",
      "2/2 [==============================] - 0s 8ms/step - loss: 0.4180\n",
      "Epoch 16/50\n",
      "2/2 [==============================] - 0s 8ms/step - loss: 0.4193\n",
      "Epoch 17/50\n",
      "2/2 [==============================] - 0s 9ms/step - loss: 0.4100\n",
      "Epoch 18/50\n",
      "2/2 [==============================] - 0s 8ms/step - loss: 0.4155\n",
      "Epoch 19/50\n",
      "2/2 [==============================] - 0s 7ms/step - loss: 0.4022\n",
      "Epoch 20/50\n",
      "2/2 [==============================] - 0s 9ms/step - loss: 0.3968\n",
      "Epoch 21/50\n",
      "2/2 [==============================] - 0s 8ms/step - loss: 0.3989\n",
      "Epoch 22/50\n",
      "2/2 [==============================] - 0s 9ms/step - loss: 0.3980\n",
      "Epoch 23/50\n",
      "2/2 [==============================] - 0s 8ms/step - loss: 0.3973\n",
      "Epoch 24/50\n",
      "2/2 [==============================] - 0s 7ms/step - loss: 0.4011\n",
      "Epoch 25/50\n",
      "2/2 [==============================] - 0s 28ms/step - loss: 0.3974\n",
      "Epoch 26/50\n",
      "2/2 [==============================] - 0s 11ms/step - loss: 0.3932\n",
      "Epoch 27/50\n",
      "2/2 [==============================] - 0s 10ms/step - loss: 0.3867\n",
      "Epoch 28/50\n",
      "2/2 [==============================] - 0s 8ms/step - loss: 0.3902\n",
      "Epoch 29/50\n",
      "2/2 [==============================] - 0s 9ms/step - loss: 0.3926\n",
      "Epoch 30/50\n",
      "2/2 [==============================] - 0s 9ms/step - loss: 0.3925\n",
      "Epoch 31/50\n",
      "2/2 [==============================] - 0s 9ms/step - loss: 0.3851\n",
      "Epoch 32/50\n",
      "2/2 [==============================] - 0s 8ms/step - loss: 0.3923\n",
      "Epoch 33/50\n",
      "2/2 [==============================] - 0s 8ms/step - loss: 0.3841\n",
      "Epoch 34/50\n",
      "2/2 [==============================] - 0s 10ms/step - loss: 0.3829\n",
      "Epoch 35/50\n",
      "2/2 [==============================] - 0s 9ms/step - loss: 0.3879\n",
      "Epoch 36/50\n",
      "2/2 [==============================] - 0s 10ms/step - loss: 0.3868\n",
      "Epoch 37/50\n",
      "2/2 [==============================] - 0s 11ms/step - loss: 0.3797\n",
      "Epoch 38/50\n",
      "2/2 [==============================] - 0s 9ms/step - loss: 0.3780\n",
      "Epoch 39/50\n",
      "2/2 [==============================] - 0s 10ms/step - loss: 0.3796\n",
      "Epoch 40/50\n",
      "2/2 [==============================] - 0s 9ms/step - loss: 0.3889\n",
      "Epoch 41/50\n",
      "2/2 [==============================] - 0s 8ms/step - loss: 0.3786\n",
      "Epoch 42/50\n",
      "2/2 [==============================] - 0s 10ms/step - loss: 0.3775\n",
      "Epoch 43/50\n",
      "2/2 [==============================] - 0s 9ms/step - loss: 0.3798\n",
      "Epoch 44/50\n",
      "2/2 [==============================] - 0s 8ms/step - loss: 0.3837\n",
      "Epoch 45/50\n",
      "2/2 [==============================] - 0s 8ms/step - loss: 0.3842\n",
      "Epoch 46/50\n",
      "2/2 [==============================] - 0s 9ms/step - loss: 0.3759\n",
      "Epoch 47/50\n",
      "2/2 [==============================] - 0s 8ms/step - loss: 0.3780\n",
      "Epoch 48/50\n",
      "2/2 [==============================] - 0s 9ms/step - loss: 0.3853\n",
      "Epoch 49/50\n",
      "2/2 [==============================] - 0s 8ms/step - loss: 0.3843\n",
      "Epoch 50/50\n",
      "2/2 [==============================] - 0s 9ms/step - loss: 0.3898\n"
     ]
    }
   ],
   "source": [
    "history = model.fit(X_train_shape, y_train, epochs=50, batch_size=75, verbose=1)"
   ]
  },
  {
   "cell_type": "code",
   "execution_count": 156,
   "metadata": {},
   "outputs": [],
   "source": [
    "df1_test_last14 = df2_train.iloc[-6:]\n",
    "df1_test_full   = df2_test\n",
    "\n",
    "full_df = pd.concat( (df1_test_last14 , df1_test_full), axis=0)\n",
    "full_df.drop(columns=['index'],axis=1,inplace=True)"
   ]
  },
  {
   "cell_type": "code",
   "execution_count": 157,
   "metadata": {},
   "outputs": [
    {
     "name": "stdout",
     "output_type": "stream",
     "text": [
      "(30, 4)\n"
     ]
    }
   ],
   "source": [
    "print(full_df.shape)"
   ]
  },
  {
   "cell_type": "code",
   "execution_count": 158,
   "metadata": {},
   "outputs": [
    {
     "data": {
      "text/html": [
       "<div>\n",
       "<style scoped>\n",
       "    .dataframe tbody tr th:only-of-type {\n",
       "        vertical-align: middle;\n",
       "    }\n",
       "\n",
       "    .dataframe tbody tr th {\n",
       "        vertical-align: top;\n",
       "    }\n",
       "\n",
       "    .dataframe thead th {\n",
       "        text-align: right;\n",
       "    }\n",
       "</style>\n",
       "<table border=\"1\" class=\"dataframe\">\n",
       "  <thead>\n",
       "    <tr style=\"text-align: right;\">\n",
       "      <th></th>\n",
       "      <th>SPREAD</th>\n",
       "      <th>TJLP</th>\n",
       "      <th>TAXA_JUROS</th>\n",
       "      <th>ICC</th>\n",
       "    </tr>\n",
       "  </thead>\n",
       "  <tbody>\n",
       "    <tr>\n",
       "      <th>94</th>\n",
       "      <td>4.31</td>\n",
       "      <td>4.55</td>\n",
       "      <td>8.332769</td>\n",
       "      <td>8.25</td>\n",
       "    </tr>\n",
       "    <tr>\n",
       "      <th>95</th>\n",
       "      <td>4.92</td>\n",
       "      <td>4.55</td>\n",
       "      <td>10.872737</td>\n",
       "      <td>8.25</td>\n",
       "    </tr>\n",
       "    <tr>\n",
       "      <th>96</th>\n",
       "      <td>4.46</td>\n",
       "      <td>4.39</td>\n",
       "      <td>10.144571</td>\n",
       "      <td>8.23</td>\n",
       "    </tr>\n",
       "    <tr>\n",
       "      <th>97</th>\n",
       "      <td>4.59</td>\n",
       "      <td>4.39</td>\n",
       "      <td>8.822841</td>\n",
       "      <td>8.20</td>\n",
       "    </tr>\n",
       "    <tr>\n",
       "      <th>98</th>\n",
       "      <td>4.21</td>\n",
       "      <td>4.39</td>\n",
       "      <td>8.716562</td>\n",
       "      <td>8.18</td>\n",
       "    </tr>\n",
       "  </tbody>\n",
       "</table>\n",
       "</div>"
      ],
      "text/plain": [
       "    SPREAD  TJLP  TAXA_JUROS   ICC\n",
       "94    4.31  4.55    8.332769  8.25\n",
       "95    4.92  4.55   10.872737  8.25\n",
       "96    4.46  4.39   10.144571  8.23\n",
       "97    4.59  4.39    8.822841  8.20\n",
       "98    4.21  4.39    8.716562  8.18"
      ]
     },
     "execution_count": 158,
     "metadata": {},
     "output_type": "execute_result"
    }
   ],
   "source": [
    "full_df.head()"
   ]
  },
  {
   "cell_type": "code",
   "execution_count": 159,
   "metadata": {},
   "outputs": [
    {
     "name": "stdout",
     "output_type": "stream",
     "text": [
      "(30, 4)\n"
     ]
    }
   ],
   "source": [
    "full_df = sc.transform(full_df)\n",
    "print(full_df.shape)"
   ]
  },
  {
   "attachments": {},
   "cell_type": "markdown",
   "metadata": {},
   "source": [
    "#### Reshaping the test data frame in similar way as we did for training dataset."
   ]
  },
  {
   "cell_type": "code",
   "execution_count": 160,
   "metadata": {},
   "outputs": [],
   "source": [
    "hops = 6\n",
    "no_records = 30\n",
    "ncols = 4\n",
    "X_train_shape_pred = []\n",
    "\n",
    "\n",
    "for i in  range(6,no_records):\n",
    "    X_train_shape_pred.append(full_df[i-6:i])\n",
    "    \n",
    "\n",
    "X_train_shape_pred = np.array(X_train_shape_pred,dtype=object)"
   ]
  },
  {
   "cell_type": "code",
   "execution_count": 161,
   "metadata": {},
   "outputs": [
    {
     "name": "stdout",
     "output_type": "stream",
     "text": [
      "size teste: (24, 5)\n"
     ]
    }
   ],
   "source": [
    "print('size teste:',df2_test.shape)"
   ]
  },
  {
   "cell_type": "code",
   "execution_count": 162,
   "metadata": {},
   "outputs": [
    {
     "name": "stdout",
     "output_type": "stream",
     "text": [
      "shape: (24, 6, 4) length: 24\n"
     ]
    }
   ],
   "source": [
    "print(\"shape:\", X_train_shape_pred.shape , \"length:\",len(X_train_shape_pred))"
   ]
  },
  {
   "cell_type": "code",
   "execution_count": 163,
   "metadata": {},
   "outputs": [
    {
     "name": "stdout",
     "output_type": "stream",
     "text": [
      "WARNING:tensorflow:5 out of the last 7 calls to <function Model.make_predict_function.<locals>.predict_function at 0x0000020527388EA0> triggered tf.function retracing. Tracing is expensive and the excessive number of tracings could be due to (1) creating @tf.function repeatedly in a loop, (2) passing tensors with different shapes, (3) passing Python objects instead of tensors. For (1), please define your @tf.function outside of the loop. For (2), @tf.function has reduce_retracing=True option that can avoid unnecessary retracing. For (3), please refer to https://www.tensorflow.org/guide/function#controlling_retracing and https://www.tensorflow.org/api_docs/python/tf/function for  more details.\n",
      "1/1 [==============================] - 1s 640ms/step\n"
     ]
    }
   ],
   "source": [
    "X_train_shape_pred = np.asarray(X_train_shape_pred).astype(np.float32)\n",
    "\n",
    "ytest = model.predict(X_train_shape_pred)"
   ]
  },
  {
   "cell_type": "code",
   "execution_count": 164,
   "metadata": {},
   "outputs": [],
   "source": [
    "#X_train_shape_pred"
   ]
  },
  {
   "cell_type": "code",
   "execution_count": 165,
   "metadata": {},
   "outputs": [
    {
     "name": "stdout",
     "output_type": "stream",
     "text": [
      "(24, 10)\n"
     ]
    }
   ],
   "source": [
    "ytest_final_pred = sc2.inverse_transform(ytest)\n",
    "print(ytest_final_pred.shape)\n"
   ]
  },
  {
   "cell_type": "code",
   "execution_count": 166,
   "metadata": {},
   "outputs": [
    {
     "name": "stdout",
     "output_type": "stream",
     "text": [
      "[4.037071  3.9715908 3.9120164 3.883671  3.781357  3.774     3.774\n",
      " 3.774     3.774     3.774     3.774     3.774     3.8181164 3.931697\n",
      " 4.0804477 4.262332  4.3805323 4.4424953 4.343439  4.336755  4.3527718\n",
      " 4.2610865 4.4140906 4.5609975]\n"
     ]
    }
   ],
   "source": [
    "print(ytest_final_pred[:,0])"
   ]
  },
  {
   "cell_type": "code",
   "execution_count": 167,
   "metadata": {},
   "outputs": [],
   "source": [
    "final_open_pred = pd.DataFrame(ytest_final_pred[:,0])\n",
    "final_open_pred.columns=['SPREAD_pred']"
   ]
  },
  {
   "cell_type": "code",
   "execution_count": 168,
   "metadata": {},
   "outputs": [
    {
     "data": {
      "text/html": [
       "<div>\n",
       "<style scoped>\n",
       "    .dataframe tbody tr th:only-of-type {\n",
       "        vertical-align: middle;\n",
       "    }\n",
       "\n",
       "    .dataframe tbody tr th {\n",
       "        vertical-align: top;\n",
       "    }\n",
       "\n",
       "    .dataframe thead th {\n",
       "        text-align: right;\n",
       "    }\n",
       "</style>\n",
       "<table border=\"1\" class=\"dataframe\">\n",
       "  <thead>\n",
       "    <tr style=\"text-align: right;\">\n",
       "      <th></th>\n",
       "      <th>SPREAD_pred</th>\n",
       "    </tr>\n",
       "  </thead>\n",
       "  <tbody>\n",
       "    <tr>\n",
       "      <th>0</th>\n",
       "      <td>4.037071</td>\n",
       "    </tr>\n",
       "    <tr>\n",
       "      <th>1</th>\n",
       "      <td>3.971591</td>\n",
       "    </tr>\n",
       "    <tr>\n",
       "      <th>2</th>\n",
       "      <td>3.912016</td>\n",
       "    </tr>\n",
       "    <tr>\n",
       "      <th>3</th>\n",
       "      <td>3.883671</td>\n",
       "    </tr>\n",
       "    <tr>\n",
       "      <th>4</th>\n",
       "      <td>3.781357</td>\n",
       "    </tr>\n",
       "  </tbody>\n",
       "</table>\n",
       "</div>"
      ],
      "text/plain": [
       "   SPREAD_pred\n",
       "0     4.037071\n",
       "1     3.971591\n",
       "2     3.912016\n",
       "3     3.883671\n",
       "4     3.781357"
      ]
     },
     "execution_count": 168,
     "metadata": {},
     "output_type": "execute_result"
    }
   ],
   "source": [
    "final_open_pred.head()"
   ]
  },
  {
   "cell_type": "code",
   "execution_count": 169,
   "metadata": {},
   "outputs": [],
   "source": [
    "fully_final = pd.concat( (final_open_pred , df2_test ), axis=1)"
   ]
  },
  {
   "cell_type": "code",
   "execution_count": 170,
   "metadata": {},
   "outputs": [
    {
     "data": {
      "text/plain": [
       "(24, 6)"
      ]
     },
     "execution_count": 170,
     "metadata": {},
     "output_type": "execute_result"
    }
   ],
   "source": [
    "fully_final.shape"
   ]
  },
  {
   "cell_type": "code",
   "execution_count": 171,
   "metadata": {},
   "outputs": [
    {
     "data": {
      "text/html": [
       "<div>\n",
       "<style scoped>\n",
       "    .dataframe tbody tr th:only-of-type {\n",
       "        vertical-align: middle;\n",
       "    }\n",
       "\n",
       "    .dataframe tbody tr th {\n",
       "        vertical-align: top;\n",
       "    }\n",
       "\n",
       "    .dataframe thead th {\n",
       "        text-align: right;\n",
       "    }\n",
       "</style>\n",
       "<table border=\"1\" class=\"dataframe\">\n",
       "  <thead>\n",
       "    <tr style=\"text-align: right;\">\n",
       "      <th></th>\n",
       "      <th>SPREAD_pred</th>\n",
       "      <th>index</th>\n",
       "      <th>SPREAD</th>\n",
       "      <th>TJLP</th>\n",
       "      <th>TAXA_JUROS</th>\n",
       "      <th>ICC</th>\n",
       "    </tr>\n",
       "  </thead>\n",
       "  <tbody>\n",
       "    <tr>\n",
       "      <th>0</th>\n",
       "      <td>4.037071</td>\n",
       "      <td>100</td>\n",
       "      <td>3.84</td>\n",
       "      <td>4.61</td>\n",
       "      <td>7.967241</td>\n",
       "      <td>8.13</td>\n",
       "    </tr>\n",
       "    <tr>\n",
       "      <th>1</th>\n",
       "      <td>3.971591</td>\n",
       "      <td>101</td>\n",
       "      <td>3.80</td>\n",
       "      <td>4.61</td>\n",
       "      <td>9.098656</td>\n",
       "      <td>8.11</td>\n",
       "    </tr>\n",
       "    <tr>\n",
       "      <th>2</th>\n",
       "      <td>3.912016</td>\n",
       "      <td>102</td>\n",
       "      <td>4.04</td>\n",
       "      <td>4.88</td>\n",
       "      <td>9.781375</td>\n",
       "      <td>8.12</td>\n",
       "    </tr>\n",
       "    <tr>\n",
       "      <th>3</th>\n",
       "      <td>3.883671</td>\n",
       "      <td>103</td>\n",
       "      <td>3.90</td>\n",
       "      <td>4.88</td>\n",
       "      <td>10.797634</td>\n",
       "      <td>8.10</td>\n",
       "    </tr>\n",
       "    <tr>\n",
       "      <th>4</th>\n",
       "      <td>3.781357</td>\n",
       "      <td>104</td>\n",
       "      <td>3.73</td>\n",
       "      <td>4.88</td>\n",
       "      <td>9.995535</td>\n",
       "      <td>8.10</td>\n",
       "    </tr>\n",
       "  </tbody>\n",
       "</table>\n",
       "</div>"
      ],
      "text/plain": [
       "   SPREAD_pred  index  SPREAD  TJLP  TAXA_JUROS   ICC\n",
       "0     4.037071    100    3.84  4.61    7.967241  8.13\n",
       "1     3.971591    101    3.80  4.61    9.098656  8.11\n",
       "2     3.912016    102    4.04  4.88    9.781375  8.12\n",
       "3     3.883671    103    3.90  4.88   10.797634  8.10\n",
       "4     3.781357    104    3.73  4.88    9.995535  8.10"
      ]
     },
     "execution_count": 171,
     "metadata": {},
     "output_type": "execute_result"
    }
   ],
   "source": [
    "fully_final.head()"
   ]
  },
  {
   "cell_type": "code",
   "execution_count": 172,
   "metadata": {},
   "outputs": [
    {
     "data": {
      "text/plain": [
       "<matplotlib.legend.Legend at 0x205283bb910>"
      ]
     },
     "execution_count": 172,
     "metadata": {},
     "output_type": "execute_result"
    },
    {
     "data": {
      "image/png": "[encoded data removed]",
      "text/plain": [
       "<Figure size 640x480 with 1 Axes>"
      ]
     },
     "metadata": {},
     "output_type": "display_data"
    }
   ],
   "source": [
    "plt.plot(fully_final['SPREAD']      , color='red')\n",
    "plt.plot(fully_final['SPREAD_pred'] , color='blue', label='Predicted')\n",
    "plt.legend()"
   ]
  },
  {
   "cell_type": "code",
   "execution_count": null,
   "metadata": {},
   "outputs": [],
   "source": []
  },
  {
   "cell_type": "code",
   "execution_count": 183,
   "metadata": {},
   "outputs": [
    {
     "name": "stdout",
     "output_type": "stream",
     "text": [
      "[-1854.02472001]\n"
     ]
    }
   ],
   "source": [
    "import numpy as np\n",
    "from scipy.optimize import fsolve\n",
    "\n",
    "fv = 0\n",
    "pv = 200000\n",
    "rate = 0.075 / 12\n",
    "nper = 15 * 12\n",
    "\n",
    "def f(pmt):\n",
    "  return fv + pv*(1 + rate)**nper + pmt*(1 + rate*0) / rate*((1 + rate)**nper - 1)\n",
    "\n",
    "pmt_amt = fsolve(f, [1000], xtol=0.000001)\n",
    "print(pmt_amt)"
   ]
  },
  {
   "cell_type": "code",
   "execution_count": null,
   "metadata": {},
   "outputs": [],
   "source": [
    "#Aplicação em Flask\n",
    "#https://ron.sh/calculating-amortization-with-python/"
   ]
  },
  {
   "cell_type": "code",
   "execution_count": null,
   "metadata": {},
   "outputs": [],
   "source": [
    "import pandas as pd\n",
    "import numpy as np\n",
    "from datetime import date\n",
    "Define the variables for the mortgage:\n",
    "\n",
    "Interest_Rate = 0.04\n",
    "Years = 30\n",
    "Payments_Year = 12\n",
    "Principal = 200000\n",
    "Addl_Princ = 50\n",
    "start_date = (date(2016,1,1))\n",
    "Now, let’s play with the basic formulas so we understand how they work. Calculating the total payment requires us to pass the right values to the numpy pmt function.\n",
    "\n",
    "pmt = np.pmt(Interest_Rate/Payments_Year, Years*Payments_Year, Principal)"
   ]
  }
 ],
 "metadata": {
  "kernelspec": {
   "display_name": "Python 3",
   "language": "python",
   "name": "python3"
  },
  "language_info": {
   "codemirror_mode": {
    "name": "ipython",
    "version": 3
   },
   "file_extension": ".py",
   "mimetype": "text/x-python",
   "name": "python",
   "nbconvert_exporter": "python",
   "pygments_lexer": "ipython3",
   "version": "3.11.2"
  },
  "orig_nbformat": 4
 },
 "nbformat": 4,
 "nbformat_minor": 2
}
