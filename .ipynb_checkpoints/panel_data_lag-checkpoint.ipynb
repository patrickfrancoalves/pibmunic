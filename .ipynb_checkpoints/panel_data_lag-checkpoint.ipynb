{
 "cells": [
  {
   "cell_type": "markdown",
   "metadata": {
    "colab_type": "text",
    "id": "1mHHn889eM-B"
   },
   "source": [
    "# Time Series Data Munging\n",
    "## Lagging Variables that are Distributed Across Multiple Groups\n",
    "\n",
    "1. Lag one or more variables across one group — using shift method\n",
    "2. Lag one variable across multiple groups — using unstack method\n",
    "3. Lag multiple variables across multiple groups — with groupby\n",
    "\n",
    "\n",
    "\n",
    "See the complete tutorial [here](https://towardsdatascience.com/timeseries-data-munging-lagging-variables-that-are-distributed-across-multiple-groups-86e0a038460c)."
   ]
  },
  {
   "cell_type": "code",
   "execution_count": 0,
   "metadata": {
    "colab": {},
    "colab_type": "code",
    "id": "4RGdWkDweZkc"
   },
   "outputs": [],
   "source": [
    "import pandas as pd\n",
    "import numpy as np\n",
    "\n",
    "np.random.seed(0) # ensures the same set of random numbers are generated\n",
    "date = ['2019-01-01']*3 + ['2019-01-02']*3 + ['2019-01-03']*3\n",
    "var1, var2 = np.random.randn(9), np.random.randn(9)*20 \n",
    "group = [\"group1\", \"group2\", \"group3\"]*3 # to assign the groups for the multiple group case\n",
    "\n",
    "df_manygrp = pd.DataFrame({\"date\": date, \"group\":group, \"var1\": var1}) # one var, many groups\n",
    "df_combo = pd.DataFrame({\"date\": date, \"group\":group, \"var1\": var1, \"var2\": var2}) # many vars, many groups\n",
    "df_onegrp = df_manygrp[df_manygrp[\"group\"]==\"group1\"] # one var, one group"
   ]
  },
  {
   "cell_type": "code",
   "execution_count": 5,
   "metadata": {
    "colab": {
     "base_uri": "https://localhost:8080/",
     "height": 168
    },
    "colab_type": "code",
    "executionInfo": {
     "elapsed": 663,
     "status": "ok",
     "timestamp": 1572125071696,
     "user": {
      "displayName": "Patrick Alves",
      "photoUrl": "https://lh3.googleusercontent.com/a-/AAuE7mAFKLC5Ec-9s_cdfWOZnazAq3sYEsd3PBkwoXJcgw=s64",
      "userId": "12803717349743738756"
     },
     "user_tz": 180
    },
    "id": "bEX7jJvKeaGg",
    "outputId": "63bf5b61-972d-43d7-9fdd-47d20c660b72"
   },
   "outputs": [
    {
     "name": "stdout",
     "output_type": "stream",
     "text": [
      "Column changed to:  datetime64[ns]\n",
      "Column changed to:  datetime64[ns]\n",
      "Column changed to:  datetime64[ns]\n"
     ]
    },
    {
     "name": "stderr",
     "output_type": "stream",
     "text": [
      "/usr/local/lib/python3.6/dist-packages/ipykernel_launcher.py:2: SettingWithCopyWarning: \n",
      "A value is trying to be set on a copy of a slice from a DataFrame.\n",
      "Try using .loc[row_indexer,col_indexer] = value instead\n",
      "\n",
      "See the caveats in the documentation: http://pandas.pydata.org/pandas-docs/stable/user_guide/indexing.html#returning-a-view-versus-a-copy\n",
      "  \n"
     ]
    }
   ],
   "source": [
    "for d in [df_onegrp, df_manygrp, df_combo]: # loop to apply the change to both dfs\n",
    "    d[\"date\"] = pd.to_datetime(d['date'])\n",
    "    print(\"Column changed to: \", d.date.dtype.name)"
   ]
  },
  {
   "cell_type": "code",
   "execution_count": 6,
   "metadata": {
    "colab": {
     "base_uri": "https://localhost:8080/",
     "height": 195
    },
    "colab_type": "code",
    "executionInfo": {
     "elapsed": 925,
     "status": "ok",
     "timestamp": 1572125074778,
     "user": {
      "displayName": "Patrick Alves",
      "photoUrl": "https://lh3.googleusercontent.com/a-/AAuE7mAFKLC5Ec-9s_cdfWOZnazAq3sYEsd3PBkwoXJcgw=s64",
      "userId": "12803717349743738756"
     },
     "user_tz": 180
    },
    "id": "_a7NRHqvei-g",
    "outputId": "ae5c4496-2a97-4580-bd5f-1d73fd39e114"
   },
   "outputs": [
    {
     "data": {
      "text/html": [
       "<div>\n",
       "<style scoped>\n",
       "    .dataframe tbody tr th:only-of-type {\n",
       "        vertical-align: middle;\n",
       "    }\n",
       "\n",
       "    .dataframe tbody tr th {\n",
       "        vertical-align: top;\n",
       "    }\n",
       "\n",
       "    .dataframe thead th {\n",
       "        text-align: right;\n",
       "    }\n",
       "</style>\n",
       "<table border=\"1\" class=\"dataframe\">\n",
       "  <thead>\n",
       "    <tr style=\"text-align: right;\">\n",
       "      <th></th>\n",
       "      <th>date</th>\n",
       "      <th>group</th>\n",
       "      <th>var1</th>\n",
       "    </tr>\n",
       "  </thead>\n",
       "  <tbody>\n",
       "    <tr>\n",
       "      <th>0</th>\n",
       "      <td>2019-01-01</td>\n",
       "      <td>group1</td>\n",
       "      <td>1.764052</td>\n",
       "    </tr>\n",
       "    <tr>\n",
       "      <th>1</th>\n",
       "      <td>2019-01-01</td>\n",
       "      <td>group2</td>\n",
       "      <td>0.400157</td>\n",
       "    </tr>\n",
       "    <tr>\n",
       "      <th>2</th>\n",
       "      <td>2019-01-01</td>\n",
       "      <td>group3</td>\n",
       "      <td>0.978738</td>\n",
       "    </tr>\n",
       "    <tr>\n",
       "      <th>3</th>\n",
       "      <td>2019-01-02</td>\n",
       "      <td>group1</td>\n",
       "      <td>2.240893</td>\n",
       "    </tr>\n",
       "    <tr>\n",
       "      <th>4</th>\n",
       "      <td>2019-01-02</td>\n",
       "      <td>group2</td>\n",
       "      <td>1.867558</td>\n",
       "    </tr>\n",
       "  </tbody>\n",
       "</table>\n",
       "</div>"
      ],
      "text/plain": [
       "        date   group      var1\n",
       "0 2019-01-01  group1  1.764052\n",
       "1 2019-01-01  group2  0.400157\n",
       "2 2019-01-01  group3  0.978738\n",
       "3 2019-01-02  group1  2.240893\n",
       "4 2019-01-02  group2  1.867558"
      ]
     },
     "execution_count": 6,
     "metadata": {
      "tags": []
     },
     "output_type": "execute_result"
    }
   ],
   "source": [
    "df_manygrp.head()\n"
   ]
  },
  {
   "cell_type": "code",
   "execution_count": 7,
   "metadata": {
    "colab": {
     "base_uri": "https://localhost:8080/",
     "height": 195
    },
    "colab_type": "code",
    "executionInfo": {
     "elapsed": 556,
     "status": "ok",
     "timestamp": 1572125074782,
     "user": {
      "displayName": "Patrick Alves",
      "photoUrl": "https://lh3.googleusercontent.com/a-/AAuE7mAFKLC5Ec-9s_cdfWOZnazAq3sYEsd3PBkwoXJcgw=s64",
      "userId": "12803717349743738756"
     },
     "user_tz": 180
    },
    "id": "9GSSCpAXenDx",
    "outputId": "39c01489-db0b-40ee-ad1f-238dd6f529a9"
   },
   "outputs": [
    {
     "data": {
      "text/html": [
       "<div>\n",
       "<style scoped>\n",
       "    .dataframe tbody tr th:only-of-type {\n",
       "        vertical-align: middle;\n",
       "    }\n",
       "\n",
       "    .dataframe tbody tr th {\n",
       "        vertical-align: top;\n",
       "    }\n",
       "\n",
       "    .dataframe thead th {\n",
       "        text-align: right;\n",
       "    }\n",
       "</style>\n",
       "<table border=\"1\" class=\"dataframe\">\n",
       "  <thead>\n",
       "    <tr style=\"text-align: right;\">\n",
       "      <th></th>\n",
       "      <th>date</th>\n",
       "      <th>group</th>\n",
       "      <th>var1</th>\n",
       "      <th>var2</th>\n",
       "    </tr>\n",
       "  </thead>\n",
       "  <tbody>\n",
       "    <tr>\n",
       "      <th>0</th>\n",
       "      <td>2019-01-01</td>\n",
       "      <td>group1</td>\n",
       "      <td>1.764052</td>\n",
       "      <td>8.211970</td>\n",
       "    </tr>\n",
       "    <tr>\n",
       "      <th>1</th>\n",
       "      <td>2019-01-01</td>\n",
       "      <td>group2</td>\n",
       "      <td>0.400157</td>\n",
       "      <td>2.880871</td>\n",
       "    </tr>\n",
       "    <tr>\n",
       "      <th>2</th>\n",
       "      <td>2019-01-01</td>\n",
       "      <td>group3</td>\n",
       "      <td>0.978738</td>\n",
       "      <td>29.085470</td>\n",
       "    </tr>\n",
       "    <tr>\n",
       "      <th>3</th>\n",
       "      <td>2019-01-02</td>\n",
       "      <td>group1</td>\n",
       "      <td>2.240893</td>\n",
       "      <td>15.220755</td>\n",
       "    </tr>\n",
       "    <tr>\n",
       "      <th>4</th>\n",
       "      <td>2019-01-02</td>\n",
       "      <td>group2</td>\n",
       "      <td>1.867558</td>\n",
       "      <td>2.433500</td>\n",
       "    </tr>\n",
       "  </tbody>\n",
       "</table>\n",
       "</div>"
      ],
      "text/plain": [
       "        date   group      var1       var2\n",
       "0 2019-01-01  group1  1.764052   8.211970\n",
       "1 2019-01-01  group2  0.400157   2.880871\n",
       "2 2019-01-01  group3  0.978738  29.085470\n",
       "3 2019-01-02  group1  2.240893  15.220755\n",
       "4 2019-01-02  group2  1.867558   2.433500"
      ]
     },
     "execution_count": 7,
     "metadata": {
      "tags": []
     },
     "output_type": "execute_result"
    }
   ],
   "source": [
    "df_combo.head()"
   ]
  },
  {
   "cell_type": "code",
   "execution_count": 8,
   "metadata": {
    "colab": {
     "base_uri": "https://localhost:8080/",
     "height": 136
    },
    "colab_type": "code",
    "executionInfo": {
     "elapsed": 691,
     "status": "ok",
     "timestamp": 1572125075088,
     "user": {
      "displayName": "Patrick Alves",
      "photoUrl": "https://lh3.googleusercontent.com/a-/AAuE7mAFKLC5Ec-9s_cdfWOZnazAq3sYEsd3PBkwoXJcgw=s64",
      "userId": "12803717349743738756"
     },
     "user_tz": 180
    },
    "id": "7V7FUy3Yersc",
    "outputId": "189a376a-0237-4c13-829d-9a0347cc25d3"
   },
   "outputs": [
    {
     "data": {
      "text/html": [
       "<div>\n",
       "<style scoped>\n",
       "    .dataframe tbody tr th:only-of-type {\n",
       "        vertical-align: middle;\n",
       "    }\n",
       "\n",
       "    .dataframe tbody tr th {\n",
       "        vertical-align: top;\n",
       "    }\n",
       "\n",
       "    .dataframe thead th {\n",
       "        text-align: right;\n",
       "    }\n",
       "</style>\n",
       "<table border=\"1\" class=\"dataframe\">\n",
       "  <thead>\n",
       "    <tr style=\"text-align: right;\">\n",
       "      <th></th>\n",
       "      <th>date</th>\n",
       "      <th>group</th>\n",
       "      <th>var1</th>\n",
       "    </tr>\n",
       "  </thead>\n",
       "  <tbody>\n",
       "    <tr>\n",
       "      <th>0</th>\n",
       "      <td>2019-01-01</td>\n",
       "      <td>group1</td>\n",
       "      <td>1.764052</td>\n",
       "    </tr>\n",
       "    <tr>\n",
       "      <th>3</th>\n",
       "      <td>2019-01-02</td>\n",
       "      <td>group1</td>\n",
       "      <td>2.240893</td>\n",
       "    </tr>\n",
       "    <tr>\n",
       "      <th>6</th>\n",
       "      <td>2019-01-03</td>\n",
       "      <td>group1</td>\n",
       "      <td>0.950088</td>\n",
       "    </tr>\n",
       "  </tbody>\n",
       "</table>\n",
       "</div>"
      ],
      "text/plain": [
       "        date   group      var1\n",
       "0 2019-01-01  group1  1.764052\n",
       "3 2019-01-02  group1  2.240893\n",
       "6 2019-01-03  group1  0.950088"
      ]
     },
     "execution_count": 8,
     "metadata": {
      "tags": []
     },
     "output_type": "execute_result"
    }
   ],
   "source": [
    "df_onegrp.head()"
   ]
  },
  {
   "cell_type": "markdown",
   "metadata": {
    "colab_type": "text",
    "id": "TYE6h7xDficR"
   },
   "source": [
    "## Step 1. Lag one or more variables across one group/category\n",
    "### Using “shift” method"
   ]
  },
  {
   "cell_type": "code",
   "execution_count": 9,
   "metadata": {
    "colab": {
     "base_uri": "https://localhost:8080/",
     "height": 166
    },
    "colab_type": "code",
    "executionInfo": {
     "elapsed": 655,
     "status": "ok",
     "timestamp": 1572125106133,
     "user": {
      "displayName": "Patrick Alves",
      "photoUrl": "https://lh3.googleusercontent.com/a-/AAuE7mAFKLC5Ec-9s_cdfWOZnazAq3sYEsd3PBkwoXJcgw=s64",
      "userId": "12803717349743738756"
     },
     "user_tz": 180
    },
    "id": "m2thBcIOesnw",
    "outputId": "24ee6d3f-7b06-4186-d8d7-bf58401fb90a"
   },
   "outputs": [
    {
     "data": {
      "text/html": [
       "<div>\n",
       "<style scoped>\n",
       "    .dataframe tbody tr th:only-of-type {\n",
       "        vertical-align: middle;\n",
       "    }\n",
       "\n",
       "    .dataframe tbody tr th {\n",
       "        vertical-align: top;\n",
       "    }\n",
       "\n",
       "    .dataframe thead th {\n",
       "        text-align: right;\n",
       "    }\n",
       "</style>\n",
       "<table border=\"1\" class=\"dataframe\">\n",
       "  <thead>\n",
       "    <tr style=\"text-align: right;\">\n",
       "      <th></th>\n",
       "      <th>group</th>\n",
       "      <th>var1</th>\n",
       "    </tr>\n",
       "    <tr>\n",
       "      <th>date</th>\n",
       "      <th></th>\n",
       "      <th></th>\n",
       "    </tr>\n",
       "  </thead>\n",
       "  <tbody>\n",
       "    <tr>\n",
       "      <th>2019-01-01</th>\n",
       "      <td>NaN</td>\n",
       "      <td>NaN</td>\n",
       "    </tr>\n",
       "    <tr>\n",
       "      <th>2019-01-02</th>\n",
       "      <td>group1</td>\n",
       "      <td>1.764052</td>\n",
       "    </tr>\n",
       "    <tr>\n",
       "      <th>2019-01-03</th>\n",
       "      <td>group1</td>\n",
       "      <td>2.240893</td>\n",
       "    </tr>\n",
       "  </tbody>\n",
       "</table>\n",
       "</div>"
      ],
      "text/plain": [
       "             group      var1\n",
       "date                        \n",
       "2019-01-01     NaN       NaN\n",
       "2019-01-02  group1  1.764052\n",
       "2019-01-03  group1  2.240893"
      ]
     },
     "execution_count": 9,
     "metadata": {
      "tags": []
     },
     "output_type": "execute_result"
    }
   ],
   "source": [
    "df_onegrp.set_index([\"date\"]).shift(1)"
   ]
  },
  {
   "cell_type": "markdown",
   "metadata": {
    "colab_type": "text",
    "id": "ID-7qkV3fplq"
   },
   "source": [
    "## Step 2. Lag one variable across multiple groups\n",
    "### Using “unstack” method"
   ]
  },
  {
   "cell_type": "code",
   "execution_count": 0,
   "metadata": {
    "colab": {},
    "colab_type": "code",
    "id": "jiIXiREUfkv_"
   },
   "outputs": [],
   "source": [
    "df = df_manygrp.set_index([\"date\", \"group\"]) # index"
   ]
  },
  {
   "cell_type": "code",
   "execution_count": 18,
   "metadata": {
    "colab": {
     "base_uri": "https://localhost:8080/",
     "height": 195
    },
    "colab_type": "code",
    "executionInfo": {
     "elapsed": 422,
     "status": "ok",
     "timestamp": 1572125259664,
     "user": {
      "displayName": "Patrick Alves",
      "photoUrl": "https://lh3.googleusercontent.com/a-/AAuE7mAFKLC5Ec-9s_cdfWOZnazAq3sYEsd3PBkwoXJcgw=s64",
      "userId": "12803717349743738756"
     },
     "user_tz": 180
    },
    "id": "tbIwXMSN9f6j",
    "outputId": "d4f0275f-8acd-4529-9781-61f38fdbe0b8"
   },
   "outputs": [
    {
     "data": {
      "text/html": [
       "<div>\n",
       "<style scoped>\n",
       "    .dataframe tbody tr th:only-of-type {\n",
       "        vertical-align: middle;\n",
       "    }\n",
       "\n",
       "    .dataframe tbody tr th {\n",
       "        vertical-align: top;\n",
       "    }\n",
       "\n",
       "    .dataframe thead tr th {\n",
       "        text-align: left;\n",
       "    }\n",
       "\n",
       "    .dataframe thead tr:last-of-type th {\n",
       "        text-align: right;\n",
       "    }\n",
       "</style>\n",
       "<table border=\"1\" class=\"dataframe\">\n",
       "  <thead>\n",
       "    <tr>\n",
       "      <th></th>\n",
       "      <th colspan=\"3\" halign=\"left\">var1</th>\n",
       "    </tr>\n",
       "    <tr>\n",
       "      <th>group</th>\n",
       "      <th>group1</th>\n",
       "      <th>group2</th>\n",
       "      <th>group3</th>\n",
       "    </tr>\n",
       "    <tr>\n",
       "      <th>date</th>\n",
       "      <th></th>\n",
       "      <th></th>\n",
       "      <th></th>\n",
       "    </tr>\n",
       "  </thead>\n",
       "  <tbody>\n",
       "    <tr>\n",
       "      <th>2019-01-01</th>\n",
       "      <td>NaN</td>\n",
       "      <td>NaN</td>\n",
       "      <td>NaN</td>\n",
       "    </tr>\n",
       "    <tr>\n",
       "      <th>2019-01-02</th>\n",
       "      <td>1.764052</td>\n",
       "      <td>0.400157</td>\n",
       "      <td>0.978738</td>\n",
       "    </tr>\n",
       "    <tr>\n",
       "      <th>2019-01-03</th>\n",
       "      <td>2.240893</td>\n",
       "      <td>1.867558</td>\n",
       "      <td>-0.977278</td>\n",
       "    </tr>\n",
       "  </tbody>\n",
       "</table>\n",
       "</div>"
      ],
      "text/plain": [
       "                var1                    \n",
       "group         group1    group2    group3\n",
       "date                                    \n",
       "2019-01-01       NaN       NaN       NaN\n",
       "2019-01-02  1.764052  0.400157  0.978738\n",
       "2019-01-03  2.240893  1.867558 -0.977278"
      ]
     },
     "execution_count": 18,
     "metadata": {
      "tags": []
     },
     "output_type": "execute_result"
    }
   ],
   "source": [
    "# pull out the groups, shift with lag step=1\n",
    "df = df.unstack().shift(1)\n",
    "df.head()"
   ]
  },
  {
   "cell_type": "code",
   "execution_count": 0,
   "metadata": {
    "colab": {},
    "colab_type": "code",
    "id": "54SrnRnDh0mp"
   },
   "outputs": [],
   "source": [
    "# stack the groups back, keep the missing values\n",
    "df= df.stack(dropna=False)"
   ]
  },
  {
   "cell_type": "code",
   "execution_count": 0,
   "metadata": {
    "colab": {},
    "colab_type": "code",
    "id": "1iVylDEPiiAR"
   },
   "outputs": [],
   "source": [
    "#df2 = df.reset_index().sort_values(\"group\")\n",
    "df.sort_values(\"group\",inplace=True)\n",
    "df.reset_index(inplace=True)"
   ]
  },
  {
   "cell_type": "code",
   "execution_count": 21,
   "metadata": {
    "colab": {
     "base_uri": "https://localhost:8080/",
     "height": 314
    },
    "colab_type": "code",
    "executionInfo": {
     "elapsed": 556,
     "status": "ok",
     "timestamp": 1572125264996,
     "user": {
      "displayName": "Patrick Alves",
      "photoUrl": "https://lh3.googleusercontent.com/a-/AAuE7mAFKLC5Ec-9s_cdfWOZnazAq3sYEsd3PBkwoXJcgw=s64",
      "userId": "12803717349743738756"
     },
     "user_tz": 180
    },
    "id": "7ebZwR19hxed",
    "outputId": "2d8f1b0c-fd80-4f45-9af4-713c71f9e061"
   },
   "outputs": [
    {
     "data": {
      "text/html": [
       "<div>\n",
       "<style scoped>\n",
       "    .dataframe tbody tr th:only-of-type {\n",
       "        vertical-align: middle;\n",
       "    }\n",
       "\n",
       "    .dataframe tbody tr th {\n",
       "        vertical-align: top;\n",
       "    }\n",
       "\n",
       "    .dataframe thead th {\n",
       "        text-align: right;\n",
       "    }\n",
       "</style>\n",
       "<table border=\"1\" class=\"dataframe\">\n",
       "  <thead>\n",
       "    <tr style=\"text-align: right;\">\n",
       "      <th></th>\n",
       "      <th>date</th>\n",
       "      <th>group</th>\n",
       "      <th>var1</th>\n",
       "    </tr>\n",
       "  </thead>\n",
       "  <tbody>\n",
       "    <tr>\n",
       "      <th>0</th>\n",
       "      <td>2019-01-01</td>\n",
       "      <td>group1</td>\n",
       "      <td>NaN</td>\n",
       "    </tr>\n",
       "    <tr>\n",
       "      <th>1</th>\n",
       "      <td>2019-01-02</td>\n",
       "      <td>group1</td>\n",
       "      <td>1.764052</td>\n",
       "    </tr>\n",
       "    <tr>\n",
       "      <th>2</th>\n",
       "      <td>2019-01-03</td>\n",
       "      <td>group1</td>\n",
       "      <td>2.240893</td>\n",
       "    </tr>\n",
       "    <tr>\n",
       "      <th>3</th>\n",
       "      <td>2019-01-01</td>\n",
       "      <td>group2</td>\n",
       "      <td>NaN</td>\n",
       "    </tr>\n",
       "    <tr>\n",
       "      <th>4</th>\n",
       "      <td>2019-01-02</td>\n",
       "      <td>group2</td>\n",
       "      <td>0.400157</td>\n",
       "    </tr>\n",
       "    <tr>\n",
       "      <th>5</th>\n",
       "      <td>2019-01-03</td>\n",
       "      <td>group2</td>\n",
       "      <td>1.867558</td>\n",
       "    </tr>\n",
       "    <tr>\n",
       "      <th>6</th>\n",
       "      <td>2019-01-01</td>\n",
       "      <td>group3</td>\n",
       "      <td>NaN</td>\n",
       "    </tr>\n",
       "    <tr>\n",
       "      <th>7</th>\n",
       "      <td>2019-01-02</td>\n",
       "      <td>group3</td>\n",
       "      <td>0.978738</td>\n",
       "    </tr>\n",
       "    <tr>\n",
       "      <th>8</th>\n",
       "      <td>2019-01-03</td>\n",
       "      <td>group3</td>\n",
       "      <td>-0.977278</td>\n",
       "    </tr>\n",
       "  </tbody>\n",
       "</table>\n",
       "</div>"
      ],
      "text/plain": [
       "        date   group      var1\n",
       "0 2019-01-01  group1       NaN\n",
       "1 2019-01-02  group1  1.764052\n",
       "2 2019-01-03  group1  2.240893\n",
       "3 2019-01-01  group2       NaN\n",
       "4 2019-01-02  group2  0.400157\n",
       "5 2019-01-03  group2  1.867558\n",
       "6 2019-01-01  group3       NaN\n",
       "7 2019-01-02  group3  0.978738\n",
       "8 2019-01-03  group3 -0.977278"
      ]
     },
     "execution_count": 21,
     "metadata": {
      "tags": []
     },
     "output_type": "execute_result"
    }
   ],
   "source": [
    "df.head(20)"
   ]
  },
  {
   "cell_type": "markdown",
   "metadata": {
    "colab_type": "text",
    "id": "DlotXE0TlD4z"
   },
   "source": [
    "3. Lag multiple variables distributed across multiple groups, simultaneously — using “groupby” method\n",
    "\n",
    "\n",
    "Assign:Generate a new column and assign new values to it, and returns a copy of the data.\n",
    "\n",
    "Method-chaining: The function also uses parenthesis in the return statement in order to allow method chaining."
   ]
  },
  {
   "cell_type": "code",
   "execution_count": 0,
   "metadata": {
    "colab": {},
    "colab_type": "code",
    "id": "Ss6LfZ2Jh2vO"
   },
   "outputs": [],
   "source": [
    "grouped_df = df_combo.groupby([\"group\"])"
   ]
  },
  {
   "cell_type": "code",
   "execution_count": 0,
   "metadata": {
    "colab": {},
    "colab_type": "code",
    "id": "pgZ8U9LUl-nd"
   },
   "outputs": [],
   "source": [
    "def lag_by_group(key, value_df):\n",
    "    # this pandas method returns a copy of the df, with group columns assigned the key value\n",
    "    df = value_df.assign(group = key)\n",
    "    return (df.sort_values(by=[\"date\"], ascending=True)\n",
    "        .set_index([\"date\"])\n",
    "        .shift(1)\n",
    "               ) # the parenthesis allow you to chain methods and avoid intermediate variable assignment"
   ]
  },
  {
   "cell_type": "code",
   "execution_count": 0,
   "metadata": {
    "colab": {},
    "colab_type": "code",
    "id": "3MzI5K3QmADt"
   },
   "outputs": [],
   "source": [
    "dflist = [lag_by_group(g, grouped_df.get_group(g)) for g in grouped_df.groups.keys()]"
   ]
  },
  {
   "cell_type": "code",
   "execution_count": 43,
   "metadata": {
    "colab": {
     "base_uri": "https://localhost:8080/",
     "height": 314
    },
    "colab_type": "code",
    "executionInfo": {
     "elapsed": 617,
     "status": "ok",
     "timestamp": 1572126444525,
     "user": {
      "displayName": "Patrick Alves",
      "photoUrl": "https://lh3.googleusercontent.com/a-/AAuE7mAFKLC5Ec-9s_cdfWOZnazAq3sYEsd3PBkwoXJcgw=s64",
      "userId": "12803717349743738756"
     },
     "user_tz": 180
    },
    "id": "09MQXNgLAot6",
    "outputId": "c269f1c9-06d2-4b23-9161-1e7bff8ea81d"
   },
   "outputs": [
    {
     "data": {
      "text/html": [
       "<div>\n",
       "<style scoped>\n",
       "    .dataframe tbody tr th:only-of-type {\n",
       "        vertical-align: middle;\n",
       "    }\n",
       "\n",
       "    .dataframe tbody tr th {\n",
       "        vertical-align: top;\n",
       "    }\n",
       "\n",
       "    .dataframe thead th {\n",
       "        text-align: right;\n",
       "    }\n",
       "</style>\n",
       "<table border=\"1\" class=\"dataframe\">\n",
       "  <thead>\n",
       "    <tr style=\"text-align: right;\">\n",
       "      <th></th>\n",
       "      <th>date</th>\n",
       "      <th>group</th>\n",
       "      <th>var1</th>\n",
       "      <th>var2</th>\n",
       "    </tr>\n",
       "  </thead>\n",
       "  <tbody>\n",
       "    <tr>\n",
       "      <th>0</th>\n",
       "      <td>2019-01-01</td>\n",
       "      <td>NaN</td>\n",
       "      <td>NaN</td>\n",
       "      <td>NaN</td>\n",
       "    </tr>\n",
       "    <tr>\n",
       "      <th>1</th>\n",
       "      <td>2019-01-02</td>\n",
       "      <td>group1</td>\n",
       "      <td>1.764052</td>\n",
       "      <td>8.211970</td>\n",
       "    </tr>\n",
       "    <tr>\n",
       "      <th>2</th>\n",
       "      <td>2019-01-03</td>\n",
       "      <td>group1</td>\n",
       "      <td>2.240893</td>\n",
       "      <td>15.220755</td>\n",
       "    </tr>\n",
       "    <tr>\n",
       "      <th>3</th>\n",
       "      <td>2019-01-01</td>\n",
       "      <td>NaN</td>\n",
       "      <td>NaN</td>\n",
       "      <td>NaN</td>\n",
       "    </tr>\n",
       "    <tr>\n",
       "      <th>4</th>\n",
       "      <td>2019-01-02</td>\n",
       "      <td>group2</td>\n",
       "      <td>0.400157</td>\n",
       "      <td>2.880871</td>\n",
       "    </tr>\n",
       "    <tr>\n",
       "      <th>5</th>\n",
       "      <td>2019-01-03</td>\n",
       "      <td>group2</td>\n",
       "      <td>1.867558</td>\n",
       "      <td>2.433500</td>\n",
       "    </tr>\n",
       "    <tr>\n",
       "      <th>6</th>\n",
       "      <td>2019-01-01</td>\n",
       "      <td>NaN</td>\n",
       "      <td>NaN</td>\n",
       "      <td>NaN</td>\n",
       "    </tr>\n",
       "    <tr>\n",
       "      <th>7</th>\n",
       "      <td>2019-01-02</td>\n",
       "      <td>group3</td>\n",
       "      <td>0.978738</td>\n",
       "      <td>29.085470</td>\n",
       "    </tr>\n",
       "    <tr>\n",
       "      <th>8</th>\n",
       "      <td>2019-01-03</td>\n",
       "      <td>group3</td>\n",
       "      <td>-0.977278</td>\n",
       "      <td>8.877265</td>\n",
       "    </tr>\n",
       "  </tbody>\n",
       "</table>\n",
       "</div>"
      ],
      "text/plain": [
       "        date   group      var1       var2\n",
       "0 2019-01-01     NaN       NaN        NaN\n",
       "1 2019-01-02  group1  1.764052   8.211970\n",
       "2 2019-01-03  group1  2.240893  15.220755\n",
       "3 2019-01-01     NaN       NaN        NaN\n",
       "4 2019-01-02  group2  0.400157   2.880871\n",
       "5 2019-01-03  group2  1.867558   2.433500\n",
       "6 2019-01-01     NaN       NaN        NaN\n",
       "7 2019-01-02  group3  0.978738  29.085470\n",
       "8 2019-01-03  group3 -0.977278   8.877265"
      ]
     },
     "execution_count": 43,
     "metadata": {
      "tags": []
     },
     "output_type": "execute_result"
    }
   ],
   "source": [
    "pd.concat(dflist, axis=0).reset_index()"
   ]
  },
  {
   "cell_type": "code",
   "execution_count": 0,
   "metadata": {
    "colab": {},
    "colab_type": "code",
    "id": "AvP1DwISAwaR"
   },
   "outputs": [],
   "source": []
  }
 ],
 "metadata": {
  "colab": {
   "name": "panel_data_lag.ipynb",
   "provenance": []
  },
  "kernelspec": {
   "display_name": "Python 3",
   "language": "python",
   "name": "python3"
  },
  "language_info": {
   "codemirror_mode": {
    "name": "ipython",
    "version": 3
   },
   "file_extension": ".py",
   "mimetype": "text/x-python",
   "name": "python",
   "nbconvert_exporter": "python",
   "pygments_lexer": "ipython3",
   "version": "3.7.9"
  }
 },
 "nbformat": 4,
 "nbformat_minor": 1
}
