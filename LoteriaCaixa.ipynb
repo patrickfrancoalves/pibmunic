{
 "cells": [
  {
   "cell_type": "code",
   "execution_count": 2,
   "metadata": {},
   "outputs": [
    {
     "name": "stdout",
     "output_type": "stream",
     "text": [
      "CPU times: total: 0 ns\n",
      "Wall time: 0 ns\n"
     ]
    }
   ],
   "source": [
    "%%time\n",
    "import os\n",
    "import sys\n",
    "import math\n",
    "import pandas as pd\n",
    "import numpy as np\n",
    "import matplotlib.pyplot as plt\n",
    "import seaborn as sns\n",
    "from sklearn.preprocessing import StandardScaler, MinMaxScaler\n",
    "from sklearn.cluster import KMeans"
   ]
  },
  {
   "cell_type": "code",
   "execution_count": 3,
   "metadata": {},
   "outputs": [
    {
     "name": "stdout",
     "output_type": "stream",
     "text": [
      "CPU times: total: 922 ms\n",
      "Wall time: 1.02 s\n"
     ]
    }
   ],
   "source": [
    "%%time\n",
    "quina = pd.read_excel(\"HIST_SORTEIOS_QUINA.xlsx\")"
   ]
  },
  {
   "cell_type": "code",
   "execution_count": 22,
   "metadata": {},
   "outputs": [],
   "source": [
    "quina2 = quina[(quina['Data Sorteio']>='2020-01-01') ]"
   ]
  },
  {
   "cell_type": "code",
   "execution_count": 23,
   "metadata": {},
   "outputs": [
    {
     "data": {
      "text/html": [
       "<div>\n",
       "<style scoped>\n",
       "    .dataframe tbody tr th:only-of-type {\n",
       "        vertical-align: middle;\n",
       "    }\n",
       "\n",
       "    .dataframe tbody tr th {\n",
       "        vertical-align: top;\n",
       "    }\n",
       "\n",
       "    .dataframe thead th {\n",
       "        text-align: right;\n",
       "    }\n",
       "</style>\n",
       "<table border=\"1\" class=\"dataframe\">\n",
       "  <thead>\n",
       "    <tr style=\"text-align: right;\">\n",
       "      <th></th>\n",
       "      <th>Concurso</th>\n",
       "      <th>Data Sorteio</th>\n",
       "      <th>1ª Dezena</th>\n",
       "      <th>2ª Dezena</th>\n",
       "      <th>3ª Dezena</th>\n",
       "      <th>4ª Dezena</th>\n",
       "      <th>5ª Dezena</th>\n",
       "      <th>PRIM</th>\n",
       "    </tr>\n",
       "  </thead>\n",
       "  <tbody>\n",
       "    <tr>\n",
       "      <th>0</th>\n",
       "      <td>1</td>\n",
       "      <td>1994-03-13</td>\n",
       "      <td>25</td>\n",
       "      <td>45</td>\n",
       "      <td>60</td>\n",
       "      <td>76</td>\n",
       "      <td>79</td>\n",
       "      <td>25</td>\n",
       "    </tr>\n",
       "    <tr>\n",
       "      <th>1</th>\n",
       "      <td>2</td>\n",
       "      <td>1994-03-17</td>\n",
       "      <td>13</td>\n",
       "      <td>30</td>\n",
       "      <td>58</td>\n",
       "      <td>63</td>\n",
       "      <td>64</td>\n",
       "      <td>13</td>\n",
       "    </tr>\n",
       "    <tr>\n",
       "      <th>2</th>\n",
       "      <td>3</td>\n",
       "      <td>1994-03-20</td>\n",
       "      <td>5</td>\n",
       "      <td>15</td>\n",
       "      <td>32</td>\n",
       "      <td>33</td>\n",
       "      <td>48</td>\n",
       "      <td>5</td>\n",
       "    </tr>\n",
       "    <tr>\n",
       "      <th>3</th>\n",
       "      <td>4</td>\n",
       "      <td>1994-03-24</td>\n",
       "      <td>27</td>\n",
       "      <td>57</td>\n",
       "      <td>60</td>\n",
       "      <td>61</td>\n",
       "      <td>77</td>\n",
       "      <td>27</td>\n",
       "    </tr>\n",
       "    <tr>\n",
       "      <th>4</th>\n",
       "      <td>5</td>\n",
       "      <td>1994-03-27</td>\n",
       "      <td>19</td>\n",
       "      <td>44</td>\n",
       "      <td>53</td>\n",
       "      <td>54</td>\n",
       "      <td>71</td>\n",
       "      <td>19</td>\n",
       "    </tr>\n",
       "  </tbody>\n",
       "</table>\n",
       "</div>"
      ],
      "text/plain": [
       "   Concurso Data Sorteio  1ª Dezena  2ª Dezena  3ª Dezena  4ª Dezena  \\\n",
       "0         1   1994-03-13         25         45         60         76   \n",
       "1         2   1994-03-17         13         30         58         63   \n",
       "2         3   1994-03-20          5         15         32         33   \n",
       "3         4   1994-03-24         27         57         60         61   \n",
       "4         5   1994-03-27         19         44         53         54   \n",
       "\n",
       "   5ª Dezena  PRIM  \n",
       "0         79    25  \n",
       "1         64    13  \n",
       "2         48     5  \n",
       "3         77    27  \n",
       "4         71    19  "
      ]
     },
     "execution_count": 23,
     "metadata": {},
     "output_type": "execute_result"
    }
   ],
   "source": [
    "quina2.head()"
   ]
  },
  {
   "cell_type": "code",
   "execution_count": 24,
   "metadata": {},
   "outputs": [
    {
     "data": {
      "text/plain": [
       "Concurso                 int64\n",
       "Data Sorteio    datetime64[ns]\n",
       "1ª Dezena                int64\n",
       "2ª Dezena                int64\n",
       "3ª Dezena                int64\n",
       "4ª Dezena                int64\n",
       "5ª Dezena                int64\n",
       "PRIM                     int64\n",
       "dtype: object"
      ]
     },
     "execution_count": 24,
     "metadata": {},
     "output_type": "execute_result"
    }
   ],
   "source": [
    "quina2.dtypes"
   ]
  },
  {
   "cell_type": "code",
   "execution_count": 50,
   "metadata": {},
   "outputs": [
    {
     "data": {
      "text/plain": [
       "(1012, 8)"
      ]
     },
     "execution_count": 50,
     "metadata": {},
     "output_type": "execute_result"
    }
   ],
   "source": [
    "quina2.shape"
   ]
  },
  {
   "cell_type": "code",
   "execution_count": 51,
   "metadata": {},
   "outputs": [],
   "source": [
    "#quina['PRIM'] = quina[['1ª Dezena','2ª Dezena','3ª Dezena','4ª Dezena','5ª Dezena']].min(axis=1).round(2)"
   ]
  },
  {
   "cell_type": "code",
   "execution_count": 52,
   "metadata": {},
   "outputs": [],
   "source": [
    "a = quina2[['1ª Dezena','2ª Dezena','3ª Dezena','4ª Dezena','5ª Dezena']].values"
   ]
  },
  {
   "cell_type": "code",
   "execution_count": 53,
   "metadata": {},
   "outputs": [],
   "source": [
    "a.sort(axis=1)  # no ascending argument"
   ]
  },
  {
   "cell_type": "code",
   "execution_count": 54,
   "metadata": {},
   "outputs": [],
   "source": [
    "df = pd.DataFrame(a, quina2.index, ['1ª Dezena','2ª Dezena','3ª Dezena','4ª Dezena','5ª Dezena'])"
   ]
  },
  {
   "cell_type": "code",
   "execution_count": 55,
   "metadata": {},
   "outputs": [
    {
     "data": {
      "text/html": [
       "<div>\n",
       "<style scoped>\n",
       "    .dataframe tbody tr th:only-of-type {\n",
       "        vertical-align: middle;\n",
       "    }\n",
       "\n",
       "    .dataframe tbody tr th {\n",
       "        vertical-align: top;\n",
       "    }\n",
       "\n",
       "    .dataframe thead th {\n",
       "        text-align: right;\n",
       "    }\n",
       "</style>\n",
       "<table border=\"1\" class=\"dataframe\">\n",
       "  <thead>\n",
       "    <tr style=\"text-align: right;\">\n",
       "      <th></th>\n",
       "      <th>1ª Dezena</th>\n",
       "      <th>2ª Dezena</th>\n",
       "      <th>3ª Dezena</th>\n",
       "      <th>4ª Dezena</th>\n",
       "      <th>5ª Dezena</th>\n",
       "    </tr>\n",
       "  </thead>\n",
       "  <tbody>\n",
       "    <tr>\n",
       "      <th>5159</th>\n",
       "      <td>10</td>\n",
       "      <td>29</td>\n",
       "      <td>44</td>\n",
       "      <td>56</td>\n",
       "      <td>69</td>\n",
       "    </tr>\n",
       "    <tr>\n",
       "      <th>5160</th>\n",
       "      <td>11</td>\n",
       "      <td>14</td>\n",
       "      <td>15</td>\n",
       "      <td>47</td>\n",
       "      <td>70</td>\n",
       "    </tr>\n",
       "    <tr>\n",
       "      <th>5161</th>\n",
       "      <td>6</td>\n",
       "      <td>11</td>\n",
       "      <td>13</td>\n",
       "      <td>33</td>\n",
       "      <td>63</td>\n",
       "    </tr>\n",
       "    <tr>\n",
       "      <th>5162</th>\n",
       "      <td>48</td>\n",
       "      <td>56</td>\n",
       "      <td>70</td>\n",
       "      <td>71</td>\n",
       "      <td>75</td>\n",
       "    </tr>\n",
       "    <tr>\n",
       "      <th>5163</th>\n",
       "      <td>11</td>\n",
       "      <td>62</td>\n",
       "      <td>65</td>\n",
       "      <td>74</td>\n",
       "      <td>80</td>\n",
       "    </tr>\n",
       "  </tbody>\n",
       "</table>\n",
       "</div>"
      ],
      "text/plain": [
       "      1ª Dezena  2ª Dezena  3ª Dezena  4ª Dezena  5ª Dezena\n",
       "5159         10         29         44         56         69\n",
       "5160         11         14         15         47         70\n",
       "5161          6         11         13         33         63\n",
       "5162         48         56         70         71         75\n",
       "5163         11         62         65         74         80"
      ]
     },
     "execution_count": 55,
     "metadata": {},
     "output_type": "execute_result"
    }
   ],
   "source": [
    "df.head()"
   ]
  },
  {
   "cell_type": "code",
   "execution_count": 56,
   "metadata": {},
   "outputs": [
    {
     "ename": "ValueError",
     "evalue": "all the input array dimensions except for the concatenation axis must match exactly, but along dimension 1, the array at index 0 has size 2 and the array at index 1 has size 5",
     "output_type": "error",
     "traceback": [
      "\u001b[1;31m---------------------------------------------------------------------------\u001b[0m",
      "\u001b[1;31mValueError\u001b[0m                                Traceback (most recent call last)",
      "Cell \u001b[1;32mIn[56], line 3\u001b[0m\n\u001b[0;32m      1\u001b[0m \u001b[39m#df2 = quina2[['Concurso','Data Sorteio']].merge(df)\u001b[39;00m\n\u001b[1;32m----> 3\u001b[0m np\u001b[39m.\u001b[39;49mconcatenate((quina2[[\u001b[39m'\u001b[39;49m\u001b[39mConcurso\u001b[39;49m\u001b[39m'\u001b[39;49m,\u001b[39m'\u001b[39;49m\u001b[39mData Sorteio\u001b[39;49m\u001b[39m'\u001b[39;49m]]\u001b[39m.\u001b[39;49mvalues, a), axis\u001b[39m=\u001b[39;49m\u001b[39m0\u001b[39;49m, casting\u001b[39m=\u001b[39;49m\u001b[39m\"\u001b[39;49m\u001b[39mno\u001b[39;49m\u001b[39m\"\u001b[39;49m)\n",
      "File \u001b[1;32m<__array_function__ internals>:200\u001b[0m, in \u001b[0;36mconcatenate\u001b[1;34m(*args, **kwargs)\u001b[0m\n",
      "\u001b[1;31mValueError\u001b[0m: all the input array dimensions except for the concatenation axis must match exactly, but along dimension 1, the array at index 0 has size 2 and the array at index 1 has size 5"
     ]
    }
   ],
   "source": [
    "#df2 = quina2[['Concurso','Data Sorteio']].merge(df)\n",
    "\n",
    "np.concatenate((quina2[['Concurso','Data Sorteio']].values, a), axis=0, casting=\"no\")"
   ]
  },
  {
   "cell_type": "code",
   "execution_count": null,
   "metadata": {},
   "outputs": [],
   "source": [
    "quina2['dia']        = quina2['Data Sorteio'].dt.day\n",
    "quina2['mes']        = quina2['Data Sorteio'].dt.month\n",
    "quina2['ano']        = quina2['Data Sorteio'].dt.year\n",
    "quina2['dia_semana'] = quina2['Data Sorteio'].dt.dayofweek\n",
    "quina2['semana_ano'] = quina2['Data Sorteio'].dt.week"
   ]
  },
  {
   "cell_type": "code",
   "execution_count": null,
   "metadata": {},
   "outputs": [],
   "source": [
    "import matplotlib.pyplot as plt\n",
    " \n",
    "# Read data from FRED and print\n",
    "fred_df = pdr.DataReader(['CPIAUCSL','CPILFESL'], 'fred', \"2010-01-01\", \"2021-12-31\")\n",
    "print(fred_df)\n",
    " \n",
    "# Show in plot the data of 2019-2021\n",
    "fig = plt.figure(figsize=(15,7))\n",
    "plt.plot(fred_df.loc[\"2019\":], 'o-')\n",
    "plt.xticks(rotation=90)\n",
    "plt.legend(fred_df.columns)\n",
    "plt.title(\"Consumer Price Index\")\n",
    "plt.show()"
   ]
  },
  {
   "cell_type": "code",
   "execution_count": 34,
   "metadata": {},
   "outputs": [],
   "source": [
    "import calendar\n",
    "import jewishcalendar"
   ]
  },
  {
   "cell_type": "code",
   "execution_count": 35,
   "metadata": {},
   "outputs": [],
   "source": [
    "def getJewishMonthName(month, year):\n",
    "\n",
    "  if month == 1:\n",
    "    return \"Nisan\"\n",
    "  elif month == 2:\n",
    "    return \"Iyyar\"\n",
    "  elif month == 3:\n",
    "    return \"Sivan\"\n",
    "  elif month == 4:\n",
    "    return \"Tammuz\"\n",
    "  elif month == 5:\n",
    "    return \"Av\"\n",
    "  elif month == 6:\n",
    "    return \"Elul\"\n",
    "  elif month == 7:\n",
    "    return \"Tishri\"\n",
    "  elif month == 8:\n",
    "    return \"Heshvan\"\n",
    "  elif month == 9:\n",
    "    return \"Kislev\"\n",
    "  elif month == 10:\n",
    "    return \"Teveth\"\n",
    "  elif month == 11:\n",
    "    return \"Shevat\"\n",
    "  elif month == 12:\n",
    "    if jewishcalendar.hebrew_leap(year):\n",
    "      return \"Adar I\"\n",
    "    else:\n",
    "      return \"Adar\"\n",
    "    \n",
    "  elif month == 13:\n",
    "    return \"Adar II\""
   ]
  },
  {
   "cell_type": "code",
   "execution_count": null,
   "metadata": {},
   "outputs": [],
   "source": []
  },
  {
   "cell_type": "code",
   "execution_count": 36,
   "metadata": {},
   "outputs": [],
   "source": [
    "absdate = jewishcalendar.gregorian_to_absdate(2023, 1, 1)\n",
    "hebYear, hebMonth, hebDay = jewishcalendar.absdate_to_hebrew(absdate)"
   ]
  },
  {
   "cell_type": "code",
   "execution_count": 38,
   "metadata": {},
   "outputs": [
    {
     "data": {
      "text/plain": [
       "738521"
      ]
     },
     "execution_count": 38,
     "metadata": {},
     "output_type": "execute_result"
    }
   ],
   "source": [
    "absdate"
   ]
  },
  {
   "cell_type": "code",
   "execution_count": 37,
   "metadata": {},
   "outputs": [
    {
     "name": "stdout",
     "output_type": "stream",
     "text": [
      "5783 10 8\n"
     ]
    }
   ],
   "source": [
    "print(hebYear, hebMonth, hebDay)"
   ]
  },
  {
   "cell_type": "code",
   "execution_count": null,
   "metadata": {},
   "outputs": [],
   "source": [
    "absdate = jewishcalendar.gregorian_to_absdate(gYear, gMonth, gDay)\n",
    "hebYear, hebMonth, hebDay = jewishcalendar.absdate_to_hebrew(absdate)"
   ]
  }
 ],
 "metadata": {
  "kernelspec": {
   "display_name": "Python 3",
   "language": "python",
   "name": "python3"
  },
  "language_info": {
   "codemirror_mode": {
    "name": "ipython",
    "version": 3
   },
   "file_extension": ".py",
   "mimetype": "text/x-python",
   "name": "python",
   "nbconvert_exporter": "python",
   "pygments_lexer": "ipython3",
   "version": "3.11.2"
  },
  "orig_nbformat": 4
 },
 "nbformat": 4,
 "nbformat_minor": 2
}
