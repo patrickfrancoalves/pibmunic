{
 "cells": [
  {
   "cell_type": "code",
   "execution_count": 2,
   "metadata": {},
   "outputs": [
    {
     "ename": "ModuleNotFoundError",
     "evalue": "No module named 'sklearn.utils.testing'",
     "output_type": "error",
     "traceback": [
      "\u001b[1;31m---------------------------------------------------------------------------\u001b[0m",
      "\u001b[1;31mModuleNotFoundError\u001b[0m                       Traceback (most recent call last)",
      "\u001b[1;32m<ipython-input-2-f207e2740d46>\u001b[0m in \u001b[0;36m<module>\u001b[1;34m\u001b[0m\n\u001b[0;32m      1\u001b[0m \u001b[1;32mfrom\u001b[0m \u001b[0mwarnings\u001b[0m \u001b[1;32mimport\u001b[0m \u001b[0msimplefilter\u001b[0m\u001b[1;33m,\u001b[0m \u001b[0mfilterwarnings\u001b[0m\u001b[1;33m\u001b[0m\u001b[1;33m\u001b[0m\u001b[0m\n\u001b[1;32m----> 2\u001b[1;33m \u001b[1;32mfrom\u001b[0m \u001b[0msklearn\u001b[0m\u001b[1;33m.\u001b[0m\u001b[0mutils\u001b[0m\u001b[1;33m.\u001b[0m\u001b[0mtesting\u001b[0m \u001b[1;32mimport\u001b[0m \u001b[0mignore_warnings\u001b[0m\u001b[1;33m\u001b[0m\u001b[1;33m\u001b[0m\u001b[0m\n\u001b[0m\u001b[0;32m      3\u001b[0m \u001b[1;32mfrom\u001b[0m \u001b[0msklearn\u001b[0m\u001b[1;33m.\u001b[0m\u001b[0mexceptions\u001b[0m \u001b[1;32mimport\u001b[0m \u001b[0mConvergenceWarning\u001b[0m\u001b[1;33m\u001b[0m\u001b[1;33m\u001b[0m\u001b[0m\n\u001b[0;32m      4\u001b[0m \u001b[1;32mimport\u001b[0m \u001b[0mwarnings\u001b[0m\u001b[1;33m\u001b[0m\u001b[1;33m\u001b[0m\u001b[0m\n\u001b[0;32m      5\u001b[0m \u001b[1;33m\u001b[0m\u001b[0m\n",
      "\u001b[1;31mModuleNotFoundError\u001b[0m: No module named 'sklearn.utils.testing'"
     ]
    }
   ],
   "source": [
    "from warnings import simplefilter, filterwarnings\n",
    "from sklearn.utils.testing import ignore_warnings\n",
    "from sklearn.exceptions import ConvergenceWarning\n",
    "import warnings\n",
    "\n",
    "with warnings.catch_warnings():\n",
    "    warnings.filterwarnings(\"ignore\", category=ConvergenceWarning)\n",
    "\n",
    "simplefilter(action='ignore', category=FutureWarning)\n",
    "filterwarnings('ignore')\n",
    "#https://docs.anaconda.com/ae-notebooks/user-guide/adv-tasks/work-with-environments/#:~:text=To%20use%20your%20new%20environment,you%20just%20created%20is%20displayed."
   ]
  },
  {
   "cell_type": "markdown",
   "metadata": {},
   "source": [
    "# Menu\n",
    "<a name=\"navegacao\"></a>\n",
    "\n",
    "## 1) [Data cleaning and feature engineering](#cleaning)\n",
    "- 1.1 [Encoding de Conglomerado e Natureza Jurídica](#encoding)\n",
    "- 1.2 [Descrição dos dados](#descricao)\n",
    "- 1.3 [Feature engineering](#engineering)\n",
    "- 1.4 [Train/Test partition](#partition)\n",
    "\n",
    "    \n",
    "## 2) [Random Search for Hyperparameters](#randomsearch)\n",
    "- 2.1 [Extreme Learning Machine](#elm)\n",
    "- 2.2 [Suport Vector Machine](#svm)\n",
    "- 2.3 [Stochastic Gradient Descent](#sgd)\n",
    "- 2.4 [Multi-Task Elastic-Net](#elastic)\n",
    "- 2.5 [Least Angle Regression Model (LAR)](#LAR)\n",
    "- 2.6 [Ridge Regression](#ridge)\n",
    "- 2.7 [ElasticNet Regression](#ElasNet)\n",
    "- 2.8 [Bayesian Ridge](#bayesian)\n",
    "- 2.9 [Lasso Regression](#lasso)\n",
    "- 2.10 [Multilayer Perceptron Regression](#mlp)\n",
    "- 2.11 [Nearest Neighbors Regression](#nnr)\n",
    "- 2.12 [Resumo dos resultados](#resumo_rs)\n",
    "\n",
    "\n",
    "## 3) [Grid Serach for Hyperparameters](#gridsearch)\n",
    "- 3.1 [Extreme Learning Machine](#elm2)\n",
    "- 3.2 [Suport Vector Machine](#svm2)\n",
    "- 3.3 [Stochastic Gradient Descent](#sgd2)\n",
    "- 3.4 [Multi-Task Elastic-Net](#elastic2)\n",
    "- 3.5 [Least Angle Regression Model (LAR)](#LAR2)\n",
    "- 3.6 [Ridge Regression](#ridge2)\n",
    "- 3.7 [ElasticNet Regression](#ElasNet2)\n",
    "- 3.8 [Bayesian Ridge](#bayesian2)\n",
    "- 3.9 [Lasso Regression](#lasso2)\n",
    "- 3.10 [Multilayer Perceptron Regression](#mlp2)\n",
    "- 3.11 [Nearest Neighbors Regression](#nnr2)\n",
    "- 3.12 [Resumo dos resultados](#resumo_rs2)"
   ]
  },
  {
   "cell_type": "code",
   "execution_count": 3,
   "metadata": {},
   "outputs": [],
   "source": [
    "from time import time\n",
    "import requests\n",
    "import pandas as pd\n",
    "import numpy as np \n",
    "import random \n",
    "import os\n",
    "from sklearn.model_selection import RandomizedSearchCV, GridSearchCV"
   ]
  },
  {
   "cell_type": "code",
   "execution_count": 6,
   "metadata": {},
   "outputs": [
    {
     "name": "stdout",
     "output_type": "stream",
     "text": [
      "Wall time: 1.31 s\n"
     ]
    }
   ],
   "source": [
    "%%time\n",
    "\n",
    "#spread = pd.read_sas('dados bndes/dadospreadpy.sas7bdat' , encoding='utf-8')\n",
    "spread = pd.read_sas('dados bndes/dadospreadpy.sas7bdat' , encoding='latin-1')\n",
    "#https://www.analyticsvidhya.com/blog/2018/03/introduction-regression-splines-python-codes/"
   ]
  },
  {
   "cell_type": "markdown",
   "metadata": {},
   "source": [
    "### Veja tutorial sobre lags em um painel de dados:\n",
    "\n",
    "- https://towardsdatascience.com/timeseries-data-munging-lagging-variables-that-are-distributed-across-multiple-groups-86e0a038460c\n",
    "\n",
    "### Veja tutorial sobre Bayesian Hyperparameter Tunning for ML:\n",
    "\n",
    "- https://towardsdatascience.com/a-conceptual-explanation-of-bayesian-model-based-hyperparameter-optimization-for-machine-learning-b8172278050f\n",
    "\n",
    "<img style=\"float: left;\" src=\"https://miro.medium.com/max/500/1*yVGF2yzXyJetXgSF3IARQw.jpeg\" width=\"30%\"> "
   ]
  },
  {
   "cell_type": "code",
   "execution_count": 7,
   "metadata": {},
   "outputs": [
    {
     "data": {
      "text/plain": [
       "Index(['CNPJ', 'EMPRESA', 'ANO', 'MES', 'ValorOperacao', 'SpreadBNDES',\n",
       "       'SpreadInstituicaoFinanceira', 'CNPJAgente', 'Juros', 'Prazo_Amortiza',\n",
       "       'prazo_carencia', 'TRIM', 'POTOT_FIRMA', 'IDADE_FIRMA', 'MSAL_FIRMA',\n",
       "       'PO3G_FIRMA', 'ROT_FIRMA', 'ENG_FIRMA', 'SHARE_FIRMA', 'NATJUR', 'TCB',\n",
       "       'Conglomerado', 'Ativo_Total', 'Carteira_Credito', 'Passivo_Circulante',\n",
       "       'Captacoes', 'Patrimonio_Liquido', 'Lucro_Liquido', 'Numero_Agencias',\n",
       "       'Numero_Postos'],\n",
       "      dtype='object')"
      ]
     },
     "execution_count": 7,
     "metadata": {},
     "output_type": "execute_result"
    }
   ],
   "source": [
    "spread.columns"
   ]
  },
  {
   "cell_type": "markdown",
   "metadata": {},
   "source": [
    "<a name=\"cleaning\"></a>\n",
    "\n",
    "\n",
    "# 1) Data Cleaning and Feature Engineering\n",
    "\n",
    "- ir para [Menu Principal](#navegacao)\n",
    "- ir para [Random Search Tunning](#randomsearch)\n",
    "- ir para [Train/Test partition](#partition)\n",
    "\n",
    "\n",
    "<a name=\"encoding\"></a>\n",
    "\n",
    "## 1.1) Encoding de Conglomerado e Natureza Jurídica\n"
   ]
  },
  {
   "cell_type": "code",
   "execution_count": 8,
   "metadata": {},
   "outputs": [
    {
     "name": "stdout",
     "output_type": "stream",
     "text": [
      "Wall time: 55.3 ms\n"
     ]
    }
   ],
   "source": [
    "%%time\n",
    "\n",
    "spread.fillna(0,inplace=True)"
   ]
  },
  {
   "cell_type": "code",
   "execution_count": 9,
   "metadata": {},
   "outputs": [
    {
     "name": "stdout",
     "output_type": "stream",
     "text": [
      "Wall time: 18 ms\n"
     ]
    },
    {
     "data": {
      "text/html": [
       "<div>\n",
       "<style scoped>\n",
       "    .dataframe tbody tr th:only-of-type {\n",
       "        vertical-align: middle;\n",
       "    }\n",
       "\n",
       "    .dataframe tbody tr th {\n",
       "        vertical-align: top;\n",
       "    }\n",
       "\n",
       "    .dataframe thead th {\n",
       "        text-align: right;\n",
       "    }\n",
       "</style>\n",
       "<table border=\"1\" class=\"dataframe\">\n",
       "  <thead>\n",
       "    <tr style=\"text-align: right;\">\n",
       "      <th></th>\n",
       "      <th>Conglomerado</th>\n",
       "      <th>banco_enc</th>\n",
       "    </tr>\n",
       "  </thead>\n",
       "  <tbody>\n",
       "    <tr>\n",
       "      <th>0</th>\n",
       "      <td>0</td>\n",
       "      <td>23462</td>\n",
       "    </tr>\n",
       "    <tr>\n",
       "      <th>1</th>\n",
       "      <td>ABC-BRASIL</td>\n",
       "      <td>289</td>\n",
       "    </tr>\n",
       "    <tr>\n",
       "      <th>2</th>\n",
       "      <td>ALFA</td>\n",
       "      <td>435</td>\n",
       "    </tr>\n",
       "    <tr>\n",
       "      <th>3</th>\n",
       "      <td>BANCOOB</td>\n",
       "      <td>389</td>\n",
       "    </tr>\n",
       "    <tr>\n",
       "      <th>4</th>\n",
       "      <td>BANESTES</td>\n",
       "      <td>34</td>\n",
       "    </tr>\n",
       "  </tbody>\n",
       "</table>\n",
       "</div>"
      ],
      "text/plain": [
       "  Conglomerado  banco_enc\n",
       "0            0      23462\n",
       "1   ABC-BRASIL        289\n",
       "2         ALFA        435\n",
       "3      BANCOOB        389\n",
       "4     BANESTES         34"
      ]
     },
     "execution_count": 9,
     "metadata": {},
     "output_type": "execute_result"
    }
   ],
   "source": [
    "%%time\n",
    "\n",
    "enc_congl = spread[['CNPJ','Conglomerado']].groupby(['Conglomerado']).count().reset_index().rename(columns={\"CNPJ\":\"banco_enc\"})\n",
    "enc_congl.head()"
   ]
  },
  {
   "cell_type": "code",
   "execution_count": 10,
   "metadata": {},
   "outputs": [
    {
     "name": "stdout",
     "output_type": "stream",
     "text": [
      "Wall time: 75 ms\n"
     ]
    }
   ],
   "source": [
    "%%time\n",
    "spread = pd.merge( spread, enc_congl, left_on=['Conglomerado'],right_on=['Conglomerado'], how='inner')"
   ]
  },
  {
   "cell_type": "code",
   "execution_count": 11,
   "metadata": {},
   "outputs": [
    {
     "name": "stdout",
     "output_type": "stream",
     "text": [
      "Wall time: 61.8 ms\n"
     ]
    },
    {
     "data": {
      "text/html": [
       "<div>\n",
       "<style scoped>\n",
       "    .dataframe tbody tr th:only-of-type {\n",
       "        vertical-align: middle;\n",
       "    }\n",
       "\n",
       "    .dataframe tbody tr th {\n",
       "        vertical-align: top;\n",
       "    }\n",
       "\n",
       "    .dataframe thead th {\n",
       "        text-align: right;\n",
       "    }\n",
       "</style>\n",
       "<table border=\"1\" class=\"dataframe\">\n",
       "  <thead>\n",
       "    <tr style=\"text-align: right;\">\n",
       "      <th></th>\n",
       "      <th>NATJUR</th>\n",
       "      <th>firma_enc</th>\n",
       "    </tr>\n",
       "  </thead>\n",
       "  <tbody>\n",
       "    <tr>\n",
       "      <th>0</th>\n",
       "      <td>1015</td>\n",
       "      <td>6</td>\n",
       "    </tr>\n",
       "    <tr>\n",
       "      <th>1</th>\n",
       "      <td>1031</td>\n",
       "      <td>65</td>\n",
       "    </tr>\n",
       "    <tr>\n",
       "      <th>2</th>\n",
       "      <td>1112</td>\n",
       "      <td>8</td>\n",
       "    </tr>\n",
       "    <tr>\n",
       "      <th>3</th>\n",
       "      <td>1244</td>\n",
       "      <td>2</td>\n",
       "    </tr>\n",
       "    <tr>\n",
       "      <th>4</th>\n",
       "      <td>2011</td>\n",
       "      <td>28</td>\n",
       "    </tr>\n",
       "  </tbody>\n",
       "</table>\n",
       "</div>"
      ],
      "text/plain": [
       "  NATJUR  firma_enc\n",
       "0   1015          6\n",
       "1   1031         65\n",
       "2   1112          8\n",
       "3   1244          2\n",
       "4   2011         28"
      ]
     },
     "execution_count": 11,
     "metadata": {},
     "output_type": "execute_result"
    }
   ],
   "source": [
    "%%time\n",
    "\n",
    "enc_natjur = spread[['CNPJ','NATJUR']].groupby(['NATJUR']).count().reset_index().rename(columns={\"CNPJ\":\"firma_enc\"})\n",
    "enc_natjur.head()\n",
    "#NATJUR"
   ]
  },
  {
   "cell_type": "code",
   "execution_count": 12,
   "metadata": {},
   "outputs": [
    {
     "name": "stdout",
     "output_type": "stream",
     "text": [
      "Wall time: 95.9 ms\n"
     ]
    }
   ],
   "source": [
    "%%time\n",
    "spread = pd.merge( spread, enc_natjur, left_on=['NATJUR'],right_on=['NATJUR'], how='inner')"
   ]
  },
  {
   "cell_type": "code",
   "execution_count": 13,
   "metadata": {},
   "outputs": [
    {
     "data": {
      "text/html": [
       "<div>\n",
       "<style scoped>\n",
       "    .dataframe tbody tr th:only-of-type {\n",
       "        vertical-align: middle;\n",
       "    }\n",
       "\n",
       "    .dataframe tbody tr th {\n",
       "        vertical-align: top;\n",
       "    }\n",
       "\n",
       "    .dataframe thead th {\n",
       "        text-align: right;\n",
       "    }\n",
       "</style>\n",
       "<table border=\"1\" class=\"dataframe\">\n",
       "  <thead>\n",
       "    <tr style=\"text-align: right;\">\n",
       "      <th></th>\n",
       "      <th>CNPJ</th>\n",
       "      <th>EMPRESA</th>\n",
       "    </tr>\n",
       "    <tr>\n",
       "      <th>seg_b3</th>\n",
       "      <th></th>\n",
       "      <th></th>\n",
       "    </tr>\n",
       "  </thead>\n",
       "  <tbody>\n",
       "    <tr>\n",
       "      <th>0.0</th>\n",
       "      <td>58868</td>\n",
       "      <td>58868</td>\n",
       "    </tr>\n",
       "    <tr>\n",
       "      <th>1.0</th>\n",
       "      <td>229</td>\n",
       "      <td>229</td>\n",
       "    </tr>\n",
       "  </tbody>\n",
       "</table>\n",
       "</div>"
      ],
      "text/plain": [
       "         CNPJ  EMPRESA\n",
       "seg_b3                \n",
       "0.0     58868    58868\n",
       "1.0       229      229"
      ]
     },
     "execution_count": 13,
     "metadata": {},
     "output_type": "execute_result"
    }
   ],
   "source": [
    "spread.loc[ (spread['TCB']=='b1'), 'seg_b1'] = 1\n",
    "spread.loc[~(spread['TCB']=='b1'), 'seg_b1'] = 0\n",
    "\n",
    "spread.loc[ (spread['TCB']=='b2'), 'seg_b2'] = 1\n",
    "spread.loc[~(spread['TCB']=='b2'), 'seg_b2'] = 0\n",
    "\n",
    "spread.loc[ (spread['TCB']=='b3C'), 'seg_b3'] = 1\n",
    "spread.loc[~(spread['TCB']=='b3C'), 'seg_b3'] = 0\n",
    "\n",
    "spread[['CNPJ','EMPRESA','seg_b3']].groupby(['seg_b3']).count()"
   ]
  },
  {
   "cell_type": "code",
   "execution_count": 14,
   "metadata": {},
   "outputs": [
    {
     "data": {
      "text/html": [
       "<div>\n",
       "<style scoped>\n",
       "    .dataframe tbody tr th:only-of-type {\n",
       "        vertical-align: middle;\n",
       "    }\n",
       "\n",
       "    .dataframe tbody tr th {\n",
       "        vertical-align: top;\n",
       "    }\n",
       "\n",
       "    .dataframe thead th {\n",
       "        text-align: right;\n",
       "    }\n",
       "</style>\n",
       "<table border=\"1\" class=\"dataframe\">\n",
       "  <thead>\n",
       "    <tr style=\"text-align: right;\">\n",
       "      <th></th>\n",
       "      <th>CNPJ</th>\n",
       "      <th>EMPRESA</th>\n",
       "    </tr>\n",
       "    <tr>\n",
       "      <th>seg_b3</th>\n",
       "      <th></th>\n",
       "      <th></th>\n",
       "    </tr>\n",
       "  </thead>\n",
       "  <tbody>\n",
       "    <tr>\n",
       "      <th>0.0</th>\n",
       "      <td>58868</td>\n",
       "      <td>58868</td>\n",
       "    </tr>\n",
       "    <tr>\n",
       "      <th>1.0</th>\n",
       "      <td>229</td>\n",
       "      <td>229</td>\n",
       "    </tr>\n",
       "  </tbody>\n",
       "</table>\n",
       "</div>"
      ],
      "text/plain": [
       "         CNPJ  EMPRESA\n",
       "seg_b3                \n",
       "0.0     58868    58868\n",
       "1.0       229      229"
      ]
     },
     "execution_count": 14,
     "metadata": {},
     "output_type": "execute_result"
    }
   ],
   "source": [
    "spread[['CNPJ','EMPRESA','seg_b3']].groupby(['seg_b3']).count()"
   ]
  },
  {
   "cell_type": "code",
   "execution_count": 15,
   "metadata": {},
   "outputs": [
    {
     "data": {
      "text/html": [
       "<div>\n",
       "<style scoped>\n",
       "    .dataframe tbody tr th:only-of-type {\n",
       "        vertical-align: middle;\n",
       "    }\n",
       "\n",
       "    .dataframe tbody tr th {\n",
       "        vertical-align: top;\n",
       "    }\n",
       "\n",
       "    .dataframe thead th {\n",
       "        text-align: right;\n",
       "    }\n",
       "</style>\n",
       "<table border=\"1\" class=\"dataframe\">\n",
       "  <thead>\n",
       "    <tr style=\"text-align: right;\">\n",
       "      <th></th>\n",
       "      <th>CNPJ</th>\n",
       "      <th>EMPRESA</th>\n",
       "    </tr>\n",
       "    <tr>\n",
       "      <th>TCB</th>\n",
       "      <th></th>\n",
       "      <th></th>\n",
       "    </tr>\n",
       "  </thead>\n",
       "  <tbody>\n",
       "    <tr>\n",
       "      <th>b1</th>\n",
       "      <td>34647</td>\n",
       "      <td>34647</td>\n",
       "    </tr>\n",
       "    <tr>\n",
       "      <th>b2</th>\n",
       "      <td>22218</td>\n",
       "      <td>22218</td>\n",
       "    </tr>\n",
       "    <tr>\n",
       "      <th>b3C</th>\n",
       "      <td>229</td>\n",
       "      <td>229</td>\n",
       "    </tr>\n",
       "    <tr>\n",
       "      <th>b4</th>\n",
       "      <td>1447</td>\n",
       "      <td>1447</td>\n",
       "    </tr>\n",
       "    <tr>\n",
       "      <th>n1</th>\n",
       "      <td>556</td>\n",
       "      <td>556</td>\n",
       "    </tr>\n",
       "  </tbody>\n",
       "</table>\n",
       "</div>"
      ],
      "text/plain": [
       "      CNPJ  EMPRESA\n",
       "TCB                \n",
       "b1   34647    34647\n",
       "b2   22218    22218\n",
       "b3C    229      229\n",
       "b4    1447     1447\n",
       "n1     556      556"
      ]
     },
     "execution_count": 15,
     "metadata": {},
     "output_type": "execute_result"
    }
   ],
   "source": [
    "\n",
    "spread[['CNPJ','EMPRESA','TCB']].groupby(['TCB']).count()"
   ]
  },
  {
   "cell_type": "markdown",
   "metadata": {},
   "source": [
    "<a name=\"engineering\"></a>\n",
    "\n",
    "## 1.2) Feature engineering\n",
    "- ir para [Menu Principal](#navegacao)\n",
    "- ir para [Random Search Tunning](#randomsearch)\n",
    "- ir para [Train/Test partition](#partition)\n"
   ]
  },
  {
   "cell_type": "code",
   "execution_count": 16,
   "metadata": {},
   "outputs": [
    {
     "name": "stdout",
     "output_type": "stream",
     "text": [
      "Wall time: 46.7 ms\n"
     ]
    }
   ],
   "source": [
    "%%time\n",
    "spread['target'] = spread['SpreadInstituicaoFinanceira'] \n",
    "\n",
    "# dados da operação\n",
    "spread['oper_valor']                   = np.log(spread['ValorOperacao']) \n",
    "spread['oper_spreadbndes']             = spread['SpreadBNDES'] \n",
    "spread['oper_juros']                   = spread['Juros'] \n",
    "spread['oper_amortizacao']             = np.log(spread['Prazo_Amortiza']) \n",
    "spread['oper_carencia']                = np.log(spread['prazo_carencia']+1) \n",
    "spread['oper_valor_spreadbndes']       = np.log(spread['ValorOperacao']) - spread['SpreadBNDES']\n",
    "spread['oper_valor_juros']             = np.log(spread['ValorOperacao']) - spread['Juros']\n",
    "spread['oper_valor_amortizacao']       = np.log(spread['ValorOperacao']) - spread['Prazo_Amortiza']\n",
    "spread['oper_valor_carencia']          = np.log(spread['ValorOperacao']) - spread['prazo_carencia'] \n",
    "spread['oper_spreadbndes_juros']       = spread['SpreadBNDES']           - spread['Juros'] \n",
    "spread['oper_spreadbndes_amortizacao'] = spread['SpreadBNDES']           - spread['Prazo_Amortiza']\n",
    "spread['oper_spreadbndes_carencia']    = spread['SpreadBNDES']           - spread['prazo_carencia']\n",
    "spread['oper_juros_amortizacao']       = spread['Juros']                 - spread['Prazo_Amortiza']\n",
    "spread['oper_juros_carencia']          = spread['Juros']                 - spread['prazo_carencia']\n",
    "spread['oper_amortizacao_carencia']    = spread['Prazo_Amortiza']        - spread['prazo_carencia']"
   ]
  },
  {
   "cell_type": "code",
   "execution_count": 17,
   "metadata": {},
   "outputs": [
    {
     "name": "stdout",
     "output_type": "stream",
     "text": [
      "Wall time: 32.9 ms\n"
     ]
    }
   ],
   "source": [
    "%%time\n",
    "# dados da firma\n",
    "spread['firma_potot']  = np.log(spread['POTOT_FIRMA']+1) \n",
    "spread['firma_idade']  = np.log(spread['IDADE_FIRMA']+1) \n",
    "spread['firma_massa']  = np.log(spread['MSAL_FIRMA']+1) \n",
    "spread['firma_po3gr']  = np.log(spread['PO3G_FIRMA']+1) \n",
    "spread['firma_rotat']  = np.log(spread['ROT_FIRMA']+1) \n",
    "spread['firma_engen']  = np.log(spread['ENG_FIRMA']+1) \n",
    "spread['firma_share']  = np.log(spread['SHARE_FIRMA']+1) \n",
    "\n",
    "\n",
    "spread['firma_potot_idade'] = np.log(spread['POTOT_FIRMA']+1) / np.log(spread['IDADE_FIRMA']+2) \n",
    "spread['firma_potot_massa'] = np.log(spread['POTOT_FIRMA']+1) / np.log(spread['MSAL_FIRMA']+2) \n",
    "spread['firma_potot_po3gr'] = np.log(spread['POTOT_FIRMA']+1) / np.log(spread['PO3G_FIRMA']+2) \n",
    "#spread['firma_potot_rotat'] = np.log(spread['POTOT_FIRMA']+1) / np.log(spread['ROT_FIRMA']+2) \n",
    "#spread['firma_potot_engen'] = np.log(spread['POTOT_FIRMA']+1) / np.log(spread['ENG_FIRMA']+2) \n",
    "#spread['firma_potot_share'] = np.log(spread['POTOT_FIRMA']+1) / np.log(spread['SHARE_FIRMA']+2) \n",
    "spread['firma_idade_massa'] = np.log(spread['IDADE_FIRMA']+1) / np.log(spread['MSAL_FIRMA']+2) \n",
    "spread['firma_idade_po3gr'] = np.log(spread['IDADE_FIRMA']+1) / np.log(spread['PO3G_FIRMA']+2) \n",
    "#spread['firma_idade_rotat'] = np.log(spread['IDADE_FIRMA']+1) / np.log(spread['ROT_FIRMA']+2) \n",
    "spread['firma_idade_engen'] = np.log(spread['IDADE_FIRMA']+1) / np.log(spread['ENG_FIRMA']+2)\n",
    "#spread['firma_idade_share'] = np.log(spread['IDADE_FIRMA']+1) / np.log(spread['SHARE_FIRMA']+2)\n",
    "spread['firma_massa_po3gr'] = np.log(spread['MSAL_FIRMA']+1)  / np.log(spread['PO3G_FIRMA']+2) \n",
    "#spread['firma_massa_rotat'] = np.log(spread['MSAL_FIRMA']+1)  / np.log(spread['ROT_FIRMA']+2) \n",
    "spread['firma_massa_engen'] = np.log(spread['MSAL_FIRMA']+1)  / np.log(spread['ENG_FIRMA']+2)\n",
    "#spread['firma_massa_share'] = np.log(spread['MSAL_FIRMA']+1)  / np.log(spread['SHARE_FIRMA']+2)\n",
    "#spread['firma_po3gr_rotat'] = np.log(spread['PO3G_FIRMA']+1)  / np.log(spread['ROT_FIRMA']+2) \n",
    "spread['firma_po3gr_engen'] = np.log(spread['PO3G_FIRMA']+1)  / np.log(spread['ENG_FIRMA']+2)\n",
    "#spread['firma_po3gr_share'] = np.log(spread['PO3G_FIRMA']+1)  / np.log(spread['SHARE_FIRMA']+2)\n",
    "spread['firma_rotat_engen'] = np.log(spread['ROT_FIRMA']+1)   / np.log(spread['ENG_FIRMA']+2)\n",
    "spread['firma_rotat_share'] = np.log(spread['ROT_FIRMA']+1)   - np.log(spread['SHARE_FIRMA']+2)\n",
    "spread['firma_engen_share'] = np.log(spread['ENG_FIRMA']+1)   - np.log(spread['SHARE_FIRMA']+2)"
   ]
  },
  {
   "cell_type": "code",
   "execution_count": 18,
   "metadata": {},
   "outputs": [],
   "source": [
    "# dados da instituição financeira\n",
    "spread['banco_ativo']        = np.log(spread['Ativo_Total']) \n",
    "spread['banco_carteira']     = np.log(spread['Carteira_Credito']) \n",
    "spread['banco_passivo']      = np.log(spread['Passivo_Circulante']) \n",
    "spread['banco_captacoes']    = np.log(spread['Captacoes']+1) \n",
    "spread['banco_patrimonio']   = np.log(spread['Patrimonio_Liquido']+1) \n",
    "spread['banco_lucroliquido'] = np.log(spread['Lucro_Liquido']+1) \n",
    "spread['banco_numagencias']  = np.log(spread['Numero_Agencias']+1) \n",
    "spread['banco_numeropostos'] = np.log(spread['Numero_Postos']+1) \n",
    "\n",
    "spread['banco_ativo_carteira']            =np.log(spread['Ativo_Total'])        /np.log(spread['Carteira_Credito'])   \n",
    "spread['banco_ativo_passivo']             =np.log(spread['Ativo_Total'])        /np.log(spread['Passivo_Circulante']) \n",
    "spread['banco_ativo_captacoes']           =np.log(spread['Ativo_Total'])        /np.log(spread['Captacoes']+1)        \n",
    "spread['banco_ativo_patrimonio']          =np.log(spread['Ativo_Total'])        /np.log(spread['Patrimonio_Liquido']) \n",
    "#spread['banco_ativo_lucroliquido']        =np.log(spread['Ativo_Total'])        /np.log(spread['Lucro_Liquido']+1)    \n",
    "#spread['banco_ativo_numagencias']         =np.log(spread['Ativo_Total'])        /np.log(spread['Numero_Agencias']+1)  \n",
    "#spread['banco_ativo_numeropostos']        =np.log(spread['Ativo_Total'])        /np.log(spread['Numero_Postos']+1)    \n",
    "spread['banco_carteira_passivo']          =np.log(spread['Carteira_Credito'])   /np.log(spread['Passivo_Circulante']) \n",
    "spread['banco_carteira_captacoes']        =np.log(spread['Carteira_Credito'])   /np.log(spread['Captacoes']+1) \n",
    "spread['banco_carteira_patrimonio']       =np.log(spread['Carteira_Credito'])   /np.log(spread['Patrimonio_Liquido']) \n",
    "#spread['banco_carteira_lucroliquido']     =np.log(spread['Carteira_Credito'])   /np.log(spread['Lucro_Liquido']+1) \n",
    "#spread['banco_carteira_numagencias']      =np.log(spread['Carteira_Credito'])   /np.log(spread['Numero_Agencias']+1) \n",
    "#spread['banco_carteira_numeropostos']     =np.log(spread['Carteira_Credito'])   /np.log(spread['Numero_Postos']+1) \n",
    "spread['banco_passivo_captacoes']         =np.log(spread['Passivo_Circulante']) /np.log(spread['Captacoes']+1) \n",
    "spread['banco_passivo_patrimonio']        =np.log(spread['Passivo_Circulante']) /np.log(spread['Patrimonio_Liquido']) \n",
    "#spread['banco_passivo_lucroliquido']      =np.log(spread['Passivo_Circulante']) /np.log(spread['Lucro_Liquido']+1) \n",
    "#spread['banco_passivo_numagencias']       =np.log(spread['Passivo_Circulante']) /np.log(spread['Numero_Agencias']+1) \n",
    "#spread['banco_passivo_numeropostos']      =np.log(spread['Passivo_Circulante']) /np.log(spread['Numero_Postos']+1) \n",
    "spread['banco_captacoes_patrimonio']      =np.log(spread['Captacoes']+1)        /np.log(spread['Patrimonio_Liquido']+1) \n",
    "#spread['banco_captacoes_lucroliquido']    =np.log(spread['Captacoes']+1)        /np.log(spread['Lucro_Liquido']+1) \n",
    "#spread['banco_captacoes_numagencias']     =np.log(spread['Captacoes']+1)        /np.log(spread['Numero_Agencias']+1) \n",
    "#spread['banco_captacoes_numeropostos']    =np.log(spread['Captacoes']+1)        /np.log(spread['Numero_Postos']+1) \n",
    "#spread['banco_patrimonio_lucroliquido']   =np.log(spread['Patrimonio_Liquido']) /np.log(spread['Lucro_Liquido']+1) \n",
    "#spread['banco_patrimonio_numagencias']    =np.log(spread['Patrimonio_Liquido']) /np.log(spread['Numero_Agencias']+1) \n",
    "#spread['banco_patrimonio_numeropostos']   =np.log(spread['Patrimonio_Liquido']) /np.log(spread['Numero_Postos']+1) \n",
    "#spread['banco_lucroliquido_numagencias']  =np.log(spread['Lucro_Liquido'])      /np.log(spread['Numero_Agencias']+1) \n",
    "#spread['banco_lucroliquido_numeropostos'] =np.log(spread['Lucro_Liquido'])      /np.log(spread['Numero_Postos']+1) \n",
    "#spread['banco_numagencias_numeropostos']  =np.log(spread['Numero_Agencias']+1)  /np.log(spread['Numero_Postos']+1) \n"
   ]
  },
  {
   "cell_type": "code",
   "execution_count": 19,
   "metadata": {},
   "outputs": [
    {
     "name": "stdout",
     "output_type": "stream",
     "text": [
      "Wall time: 72.4 ms\n"
     ]
    }
   ],
   "source": [
    "%%time\n",
    "\n",
    "spread.fillna(0,inplace=True)\n",
    "\n",
    "#spread.replace([np.inf, -np.inf],0, inplace=True)"
   ]
  },
  {
   "cell_type": "markdown",
   "metadata": {},
   "source": [
    "<a name=\"descricao\"></a>\n",
    "\n",
    "## 1.3) Descrição dos dados\n",
    "- ir para [Menu Principal](#navegacao)\n",
    "- ir para [Random Search Tunning](#randomsearch)\n",
    "- ir para [Train/Test partition](#partition)"
   ]
  },
  {
   "cell_type": "code",
   "execution_count": 20,
   "metadata": {},
   "outputs": [
    {
     "name": "stdout",
     "output_type": "stream",
     "text": [
      "Wall time: 114 ms\n"
     ]
    },
    {
     "data": {
      "text/html": [
       "<div>\n",
       "<style scoped>\n",
       "    .dataframe tbody tr th:only-of-type {\n",
       "        vertical-align: middle;\n",
       "    }\n",
       "\n",
       "    .dataframe tbody tr th {\n",
       "        vertical-align: top;\n",
       "    }\n",
       "\n",
       "    .dataframe thead th {\n",
       "        text-align: right;\n",
       "    }\n",
       "</style>\n",
       "<table border=\"1\" class=\"dataframe\">\n",
       "  <thead>\n",
       "    <tr style=\"text-align: right;\">\n",
       "      <th></th>\n",
       "      <th>count</th>\n",
       "      <th>mean</th>\n",
       "      <th>std</th>\n",
       "      <th>min</th>\n",
       "      <th>25%</th>\n",
       "      <th>50%</th>\n",
       "      <th>75%</th>\n",
       "      <th>max</th>\n",
       "    </tr>\n",
       "  </thead>\n",
       "  <tbody>\n",
       "    <tr>\n",
       "      <th>firma_enc</th>\n",
       "      <td>59097.0</td>\n",
       "      <td>33605.668257</td>\n",
       "      <td>17273.775945</td>\n",
       "      <td>1.000000e+00</td>\n",
       "      <td>6909.000000</td>\n",
       "      <td>43792.000000</td>\n",
       "      <td>43792.000000</td>\n",
       "      <td>43792.000000</td>\n",
       "    </tr>\n",
       "    <tr>\n",
       "      <th>firma_potot</th>\n",
       "      <td>59097.0</td>\n",
       "      <td>3.373903</td>\n",
       "      <td>1.827505</td>\n",
       "      <td>4.987542e-03</td>\n",
       "      <td>1.951040</td>\n",
       "      <td>3.063391</td>\n",
       "      <td>4.617672</td>\n",
       "      <td>9.556813</td>\n",
       "    </tr>\n",
       "    <tr>\n",
       "      <th>firma_idade</th>\n",
       "      <td>59097.0</td>\n",
       "      <td>2.703713</td>\n",
       "      <td>0.840707</td>\n",
       "      <td>0.000000e+00</td>\n",
       "      <td>2.149434</td>\n",
       "      <td>2.761907</td>\n",
       "      <td>3.311273</td>\n",
       "      <td>4.390367</td>\n",
       "    </tr>\n",
       "    <tr>\n",
       "      <th>firma_massa</th>\n",
       "      <td>59097.0</td>\n",
       "      <td>10.781991</td>\n",
       "      <td>2.256507</td>\n",
       "      <td>0.000000e+00</td>\n",
       "      <td>9.172427</td>\n",
       "      <td>10.538891</td>\n",
       "      <td>12.404739</td>\n",
       "      <td>18.422188</td>\n",
       "    </tr>\n",
       "    <tr>\n",
       "      <th>firma_po3gr</th>\n",
       "      <td>59097.0</td>\n",
       "      <td>1.426054</td>\n",
       "      <td>1.609216</td>\n",
       "      <td>0.000000e+00</td>\n",
       "      <td>0.000000</td>\n",
       "      <td>0.747635</td>\n",
       "      <td>2.475277</td>\n",
       "      <td>9.104200</td>\n",
       "    </tr>\n",
       "    <tr>\n",
       "      <th>firma_rotat</th>\n",
       "      <td>59097.0</td>\n",
       "      <td>0.218042</td>\n",
       "      <td>0.103674</td>\n",
       "      <td>0.000000e+00</td>\n",
       "      <td>0.154151</td>\n",
       "      <td>0.223144</td>\n",
       "      <td>0.287682</td>\n",
       "      <td>0.405465</td>\n",
       "    </tr>\n",
       "    <tr>\n",
       "      <th>firma_engen</th>\n",
       "      <td>59097.0</td>\n",
       "      <td>0.240711</td>\n",
       "      <td>0.632251</td>\n",
       "      <td>0.000000e+00</td>\n",
       "      <td>0.000000</td>\n",
       "      <td>0.000000</td>\n",
       "      <td>0.000000</td>\n",
       "      <td>5.568345</td>\n",
       "    </tr>\n",
       "    <tr>\n",
       "      <th>firma_share</th>\n",
       "      <td>59097.0</td>\n",
       "      <td>0.001115</td>\n",
       "      <td>0.004967</td>\n",
       "      <td>5.847944e-09</td>\n",
       "      <td>0.000011</td>\n",
       "      <td>0.000062</td>\n",
       "      <td>0.000378</td>\n",
       "      <td>0.252814</td>\n",
       "    </tr>\n",
       "    <tr>\n",
       "      <th>firma_potot_idade</th>\n",
       "      <td>59097.0</td>\n",
       "      <td>1.203585</td>\n",
       "      <td>0.589484</td>\n",
       "      <td>1.954530e-03</td>\n",
       "      <td>0.783232</td>\n",
       "      <td>1.156933</td>\n",
       "      <td>1.551576</td>\n",
       "      <td>7.214130</td>\n",
       "    </tr>\n",
       "    <tr>\n",
       "      <th>firma_potot_massa</th>\n",
       "      <td>59097.0</td>\n",
       "      <td>0.296870</td>\n",
       "      <td>0.187812</td>\n",
       "      <td>2.096026e-03</td>\n",
       "      <td>0.212821</td>\n",
       "      <td>0.291238</td>\n",
       "      <td>0.376063</td>\n",
       "      <td>6.600389</td>\n",
       "    </tr>\n",
       "    <tr>\n",
       "      <th>firma_potot_po3gr</th>\n",
       "      <td>59097.0</td>\n",
       "      <td>2.244553</td>\n",
       "      <td>1.065487</td>\n",
       "      <td>7.195501e-03</td>\n",
       "      <td>1.485592</td>\n",
       "      <td>1.995981</td>\n",
       "      <td>2.798258</td>\n",
       "      <td>8.540361</td>\n",
       "    </tr>\n",
       "    <tr>\n",
       "      <th>firma_idade_massa</th>\n",
       "      <td>59097.0</td>\n",
       "      <td>0.259019</td>\n",
       "      <td>0.184872</td>\n",
       "      <td>0.000000e+00</td>\n",
       "      <td>0.210693</td>\n",
       "      <td>0.256003</td>\n",
       "      <td>0.295167</td>\n",
       "      <td>5.950235</td>\n",
       "    </tr>\n",
       "    <tr>\n",
       "      <th>firma_idade_po3gr</th>\n",
       "      <td>59097.0</td>\n",
       "      <td>2.163423</td>\n",
       "      <td>1.232437</td>\n",
       "      <td>0.000000e+00</td>\n",
       "      <td>1.100646</td>\n",
       "      <td>1.881195</td>\n",
       "      <td>3.054627</td>\n",
       "      <td>6.228819</td>\n",
       "    </tr>\n",
       "    <tr>\n",
       "      <th>firma_idade_engen</th>\n",
       "      <td>59097.0</td>\n",
       "      <td>3.466077</td>\n",
       "      <td>1.247724</td>\n",
       "      <td>0.000000e+00</td>\n",
       "      <td>2.584963</td>\n",
       "      <td>3.544733</td>\n",
       "      <td>4.375039</td>\n",
       "      <td>6.272956</td>\n",
       "    </tr>\n",
       "    <tr>\n",
       "      <th>firma_massa_po3gr</th>\n",
       "      <td>59097.0</td>\n",
       "      <td>8.550505</td>\n",
       "      <td>4.010864</td>\n",
       "      <td>0.000000e+00</td>\n",
       "      <td>4.792141</td>\n",
       "      <td>8.289234</td>\n",
       "      <td>12.176849</td>\n",
       "      <td>18.824083</td>\n",
       "    </tr>\n",
       "    <tr>\n",
       "      <th>firma_massa_engen</th>\n",
       "      <td>59097.0</td>\n",
       "      <td>13.747274</td>\n",
       "      <td>3.393888</td>\n",
       "      <td>0.000000e+00</td>\n",
       "      <td>11.911988</td>\n",
       "      <td>13.896920</td>\n",
       "      <td>16.050478</td>\n",
       "      <td>26.577599</td>\n",
       "    </tr>\n",
       "    <tr>\n",
       "      <th>firma_po3gr_engen</th>\n",
       "      <td>59097.0</td>\n",
       "      <td>1.543902</td>\n",
       "      <td>1.643610</td>\n",
       "      <td>0.000000e+00</td>\n",
       "      <td>0.000000</td>\n",
       "      <td>1.011496</td>\n",
       "      <td>2.584963</td>\n",
       "      <td>13.134584</td>\n",
       "    </tr>\n",
       "    <tr>\n",
       "      <th>firma_rotat_engen</th>\n",
       "      <td>59097.0</td>\n",
       "      <td>0.287008</td>\n",
       "      <td>0.158149</td>\n",
       "      <td>0.000000e+00</td>\n",
       "      <td>0.169303</td>\n",
       "      <td>0.285402</td>\n",
       "      <td>0.401098</td>\n",
       "      <td>0.584963</td>\n",
       "    </tr>\n",
       "    <tr>\n",
       "      <th>firma_rotat_share</th>\n",
       "      <td>59097.0</td>\n",
       "      <td>-0.475666</td>\n",
       "      <td>0.103906</td>\n",
       "      <td>-7.108087e-01</td>\n",
       "      <td>-0.539124</td>\n",
       "      <td>-0.470047</td>\n",
       "      <td>-0.405467</td>\n",
       "      <td>-0.287682</td>\n",
       "    </tr>\n",
       "    <tr>\n",
       "      <th>firma_engen_share</th>\n",
       "      <td>59097.0</td>\n",
       "      <td>-0.452997</td>\n",
       "      <td>0.631096</td>\n",
       "      <td>-7.194095e-01</td>\n",
       "      <td>-0.693203</td>\n",
       "      <td>-0.693157</td>\n",
       "      <td>-0.693149</td>\n",
       "      <td>4.847264</td>\n",
       "    </tr>\n",
       "  </tbody>\n",
       "</table>\n",
       "</div>"
      ],
      "text/plain": [
       "                     count          mean           std           min  \\\n",
       "firma_enc          59097.0  33605.668257  17273.775945  1.000000e+00   \n",
       "firma_potot        59097.0      3.373903      1.827505  4.987542e-03   \n",
       "firma_idade        59097.0      2.703713      0.840707  0.000000e+00   \n",
       "firma_massa        59097.0     10.781991      2.256507  0.000000e+00   \n",
       "firma_po3gr        59097.0      1.426054      1.609216  0.000000e+00   \n",
       "firma_rotat        59097.0      0.218042      0.103674  0.000000e+00   \n",
       "firma_engen        59097.0      0.240711      0.632251  0.000000e+00   \n",
       "firma_share        59097.0      0.001115      0.004967  5.847944e-09   \n",
       "firma_potot_idade  59097.0      1.203585      0.589484  1.954530e-03   \n",
       "firma_potot_massa  59097.0      0.296870      0.187812  2.096026e-03   \n",
       "firma_potot_po3gr  59097.0      2.244553      1.065487  7.195501e-03   \n",
       "firma_idade_massa  59097.0      0.259019      0.184872  0.000000e+00   \n",
       "firma_idade_po3gr  59097.0      2.163423      1.232437  0.000000e+00   \n",
       "firma_idade_engen  59097.0      3.466077      1.247724  0.000000e+00   \n",
       "firma_massa_po3gr  59097.0      8.550505      4.010864  0.000000e+00   \n",
       "firma_massa_engen  59097.0     13.747274      3.393888  0.000000e+00   \n",
       "firma_po3gr_engen  59097.0      1.543902      1.643610  0.000000e+00   \n",
       "firma_rotat_engen  59097.0      0.287008      0.158149  0.000000e+00   \n",
       "firma_rotat_share  59097.0     -0.475666      0.103906 -7.108087e-01   \n",
       "firma_engen_share  59097.0     -0.452997      0.631096 -7.194095e-01   \n",
       "\n",
       "                           25%           50%           75%           max  \n",
       "firma_enc          6909.000000  43792.000000  43792.000000  43792.000000  \n",
       "firma_potot           1.951040      3.063391      4.617672      9.556813  \n",
       "firma_idade           2.149434      2.761907      3.311273      4.390367  \n",
       "firma_massa           9.172427     10.538891     12.404739     18.422188  \n",
       "firma_po3gr           0.000000      0.747635      2.475277      9.104200  \n",
       "firma_rotat           0.154151      0.223144      0.287682      0.405465  \n",
       "firma_engen           0.000000      0.000000      0.000000      5.568345  \n",
       "firma_share           0.000011      0.000062      0.000378      0.252814  \n",
       "firma_potot_idade     0.783232      1.156933      1.551576      7.214130  \n",
       "firma_potot_massa     0.212821      0.291238      0.376063      6.600389  \n",
       "firma_potot_po3gr     1.485592      1.995981      2.798258      8.540361  \n",
       "firma_idade_massa     0.210693      0.256003      0.295167      5.950235  \n",
       "firma_idade_po3gr     1.100646      1.881195      3.054627      6.228819  \n",
       "firma_idade_engen     2.584963      3.544733      4.375039      6.272956  \n",
       "firma_massa_po3gr     4.792141      8.289234     12.176849     18.824083  \n",
       "firma_massa_engen    11.911988     13.896920     16.050478     26.577599  \n",
       "firma_po3gr_engen     0.000000      1.011496      2.584963     13.134584  \n",
       "firma_rotat_engen     0.169303      0.285402      0.401098      0.584963  \n",
       "firma_rotat_share    -0.539124     -0.470047     -0.405467     -0.287682  \n",
       "firma_engen_share    -0.693203     -0.693157     -0.693149      4.847264  "
      ]
     },
     "execution_count": 20,
     "metadata": {},
     "output_type": "execute_result"
    }
   ],
   "source": [
    "%%time\n",
    "\n",
    "spread.filter(regex='firma', axis=1).describe().transpose()\n",
    "\n",
    "#spread[['POTOT_FIRMA','IDADE_FIRMA','MSAL_FIRMA','PO3G_FIRMA','ROT_FIRMA','ENG_FIRMA','SHARE_FIRMA',\n",
    "#        'firma_potot','firma_idade','firma_massa','firma_po3gr','firma_rotat','firma_engen',\n",
    "#        'firma_share']].describe().transpose()\n"
   ]
  },
  {
   "cell_type": "code",
   "execution_count": 21,
   "metadata": {},
   "outputs": [
    {
     "name": "stdout",
     "output_type": "stream",
     "text": [
      "Wall time: 77.8 ms\n"
     ]
    },
    {
     "data": {
      "text/html": [
       "<div>\n",
       "<style scoped>\n",
       "    .dataframe tbody tr th:only-of-type {\n",
       "        vertical-align: middle;\n",
       "    }\n",
       "\n",
       "    .dataframe tbody tr th {\n",
       "        vertical-align: top;\n",
       "    }\n",
       "\n",
       "    .dataframe thead th {\n",
       "        text-align: right;\n",
       "    }\n",
       "</style>\n",
       "<table border=\"1\" class=\"dataframe\">\n",
       "  <thead>\n",
       "    <tr style=\"text-align: right;\">\n",
       "      <th></th>\n",
       "      <th>firma_enc</th>\n",
       "      <th>firma_potot</th>\n",
       "      <th>firma_idade</th>\n",
       "      <th>firma_massa</th>\n",
       "      <th>firma_po3gr</th>\n",
       "      <th>firma_rotat</th>\n",
       "      <th>firma_engen</th>\n",
       "      <th>firma_share</th>\n",
       "      <th>firma_potot_idade</th>\n",
       "      <th>firma_potot_massa</th>\n",
       "      <th>firma_potot_po3gr</th>\n",
       "      <th>firma_idade_massa</th>\n",
       "      <th>firma_idade_po3gr</th>\n",
       "      <th>firma_idade_engen</th>\n",
       "      <th>firma_massa_po3gr</th>\n",
       "      <th>firma_massa_engen</th>\n",
       "      <th>firma_po3gr_engen</th>\n",
       "      <th>firma_rotat_engen</th>\n",
       "      <th>firma_rotat_share</th>\n",
       "      <th>firma_engen_share</th>\n",
       "    </tr>\n",
       "  </thead>\n",
       "  <tbody>\n",
       "    <tr>\n",
       "      <th>firma_enc</th>\n",
       "      <td>1.000000</td>\n",
       "      <td>-0.010853</td>\n",
       "      <td>0.024123</td>\n",
       "      <td>-0.018079</td>\n",
       "      <td>-0.109492</td>\n",
       "      <td>0.016024</td>\n",
       "      <td>-0.170148</td>\n",
       "      <td>-0.112893</td>\n",
       "      <td>-0.003662</td>\n",
       "      <td>0.034546</td>\n",
       "      <td>0.132270</td>\n",
       "      <td>0.034635</td>\n",
       "      <td>0.077500</td>\n",
       "      <td>0.167406</td>\n",
       "      <td>0.048350</td>\n",
       "      <td>0.191996</td>\n",
       "      <td>0.005869</td>\n",
       "      <td>0.061877</td>\n",
       "      <td>0.018711</td>\n",
       "      <td>-0.170011</td>\n",
       "    </tr>\n",
       "    <tr>\n",
       "      <th>firma_potot</th>\n",
       "      <td>-0.010853</td>\n",
       "      <td>1.000000</td>\n",
       "      <td>0.562861</td>\n",
       "      <td>0.962429</td>\n",
       "      <td>0.852892</td>\n",
       "      <td>-0.104613</td>\n",
       "      <td>0.579890</td>\n",
       "      <td>0.380866</td>\n",
       "      <td>0.791167</td>\n",
       "      <td>0.559746</td>\n",
       "      <td>-0.005352</td>\n",
       "      <td>-0.059488</td>\n",
       "      <td>-0.564839</td>\n",
       "      <td>0.024164</td>\n",
       "      <td>-0.643270</td>\n",
       "      <td>0.115699</td>\n",
       "      <td>0.696688</td>\n",
       "      <td>-0.333911</td>\n",
       "      <td>-0.113546</td>\n",
       "      <td>0.579442</td>\n",
       "    </tr>\n",
       "    <tr>\n",
       "      <th>firma_idade</th>\n",
       "      <td>0.024123</td>\n",
       "      <td>0.562861</td>\n",
       "      <td>1.000000</td>\n",
       "      <td>0.567162</td>\n",
       "      <td>0.520785</td>\n",
       "      <td>-0.286245</td>\n",
       "      <td>0.312902</td>\n",
       "      <td>0.205638</td>\n",
       "      <td>0.020861</td>\n",
       "      <td>0.323991</td>\n",
       "      <td>-0.046446</td>\n",
       "      <td>0.289896</td>\n",
       "      <td>0.059414</td>\n",
       "      <td>0.640809</td>\n",
       "      <td>-0.407415</td>\n",
       "      <td>0.111229</td>\n",
       "      <td>0.457472</td>\n",
       "      <td>-0.385745</td>\n",
       "      <td>-0.290551</td>\n",
       "      <td>0.312660</td>\n",
       "    </tr>\n",
       "    <tr>\n",
       "      <th>firma_massa</th>\n",
       "      <td>-0.018079</td>\n",
       "      <td>0.962429</td>\n",
       "      <td>0.567162</td>\n",
       "      <td>1.000000</td>\n",
       "      <td>0.851508</td>\n",
       "      <td>-0.107659</td>\n",
       "      <td>0.568105</td>\n",
       "      <td>0.361730</td>\n",
       "      <td>0.758583</td>\n",
       "      <td>0.398438</td>\n",
       "      <td>-0.027943</td>\n",
       "      <td>-0.226835</td>\n",
       "      <td>-0.568748</td>\n",
       "      <td>0.040786</td>\n",
       "      <td>-0.614001</td>\n",
       "      <td>0.174741</td>\n",
       "      <td>0.707626</td>\n",
       "      <td>-0.331419</td>\n",
       "      <td>-0.116127</td>\n",
       "      <td>0.567711</td>\n",
       "    </tr>\n",
       "    <tr>\n",
       "      <th>firma_po3gr</th>\n",
       "      <td>-0.109492</td>\n",
       "      <td>0.852892</td>\n",
       "      <td>0.520785</td>\n",
       "      <td>0.851508</td>\n",
       "      <td>1.000000</td>\n",
       "      <td>-0.110849</td>\n",
       "      <td>0.645216</td>\n",
       "      <td>0.403040</td>\n",
       "      <td>0.617129</td>\n",
       "      <td>0.422906</td>\n",
       "      <td>-0.465635</td>\n",
       "      <td>-0.052864</td>\n",
       "      <td>-0.734252</td>\n",
       "      <td>-0.067946</td>\n",
       "      <td>-0.872751</td>\n",
       "      <td>-0.061085</td>\n",
       "      <td>0.831387</td>\n",
       "      <td>-0.359455</td>\n",
       "      <td>-0.120308</td>\n",
       "      <td>0.644799</td>\n",
       "    </tr>\n",
       "    <tr>\n",
       "      <th>firma_rotat</th>\n",
       "      <td>0.016024</td>\n",
       "      <td>-0.104613</td>\n",
       "      <td>-0.286245</td>\n",
       "      <td>-0.107659</td>\n",
       "      <td>-0.110849</td>\n",
       "      <td>1.000000</td>\n",
       "      <td>-0.015660</td>\n",
       "      <td>-0.080389</td>\n",
       "      <td>0.061900</td>\n",
       "      <td>-0.113353</td>\n",
       "      <td>0.013113</td>\n",
       "      <td>-0.158867</td>\n",
       "      <td>-0.089936</td>\n",
       "      <td>-0.240035</td>\n",
       "      <td>0.069102</td>\n",
       "      <td>-0.060350</td>\n",
       "      <td>-0.110475</td>\n",
       "      <td>0.897125</td>\n",
       "      <td>0.999703</td>\n",
       "      <td>-0.015369</td>\n",
       "    </tr>\n",
       "    <tr>\n",
       "      <th>firma_engen</th>\n",
       "      <td>-0.170148</td>\n",
       "      <td>0.579890</td>\n",
       "      <td>0.312902</td>\n",
       "      <td>0.568105</td>\n",
       "      <td>0.645216</td>\n",
       "      <td>-0.015660</td>\n",
       "      <td>1.000000</td>\n",
       "      <td>0.461923</td>\n",
       "      <td>0.413714</td>\n",
       "      <td>0.269926</td>\n",
       "      <td>-0.244399</td>\n",
       "      <td>-0.038798</td>\n",
       "      <td>-0.392859</td>\n",
       "      <td>-0.487368</td>\n",
       "      <td>-0.458596</td>\n",
       "      <td>-0.670774</td>\n",
       "      <td>0.147216</td>\n",
       "      <td>-0.405183</td>\n",
       "      <td>-0.026781</td>\n",
       "      <td>0.999994</td>\n",
       "    </tr>\n",
       "    <tr>\n",
       "      <th>firma_share</th>\n",
       "      <td>-0.112893</td>\n",
       "      <td>0.380866</td>\n",
       "      <td>0.205638</td>\n",
       "      <td>0.361730</td>\n",
       "      <td>0.403040</td>\n",
       "      <td>-0.080389</td>\n",
       "      <td>0.461923</td>\n",
       "      <td>1.000000</td>\n",
       "      <td>0.260255</td>\n",
       "      <td>0.176139</td>\n",
       "      <td>-0.127509</td>\n",
       "      <td>-0.020851</td>\n",
       "      <td>-0.224943</td>\n",
       "      <td>-0.157795</td>\n",
       "      <td>-0.263560</td>\n",
       "      <td>-0.211591</td>\n",
       "      <td>0.172613</td>\n",
       "      <td>-0.200610</td>\n",
       "      <td>-0.104640</td>\n",
       "      <td>0.458746</td>\n",
       "    </tr>\n",
       "    <tr>\n",
       "      <th>firma_potot_idade</th>\n",
       "      <td>-0.003662</td>\n",
       "      <td>0.791167</td>\n",
       "      <td>0.020861</td>\n",
       "      <td>0.758583</td>\n",
       "      <td>0.617129</td>\n",
       "      <td>0.061900</td>\n",
       "      <td>0.413714</td>\n",
       "      <td>0.260255</td>\n",
       "      <td>1.000000</td>\n",
       "      <td>0.455328</td>\n",
       "      <td>0.104352</td>\n",
       "      <td>-0.234812</td>\n",
       "      <td>-0.630278</td>\n",
       "      <td>-0.309826</td>\n",
       "      <td>-0.454173</td>\n",
       "      <td>0.144899</td>\n",
       "      <td>0.516893</td>\n",
       "      <td>-0.127345</td>\n",
       "      <td>0.055498</td>\n",
       "      <td>0.413440</td>\n",
       "    </tr>\n",
       "    <tr>\n",
       "      <th>firma_potot_massa</th>\n",
       "      <td>0.034546</td>\n",
       "      <td>0.559746</td>\n",
       "      <td>0.323991</td>\n",
       "      <td>0.398438</td>\n",
       "      <td>0.422906</td>\n",
       "      <td>-0.113353</td>\n",
       "      <td>0.269926</td>\n",
       "      <td>0.176139</td>\n",
       "      <td>0.455328</td>\n",
       "      <td>1.000000</td>\n",
       "      <td>0.129283</td>\n",
       "      <td>0.597021</td>\n",
       "      <td>-0.250163</td>\n",
       "      <td>0.069659</td>\n",
       "      <td>-0.397954</td>\n",
       "      <td>0.002864</td>\n",
       "      <td>0.362607</td>\n",
       "      <td>-0.220299</td>\n",
       "      <td>-0.117336</td>\n",
       "      <td>0.269722</td>\n",
       "    </tr>\n",
       "    <tr>\n",
       "      <th>firma_potot_po3gr</th>\n",
       "      <td>0.132270</td>\n",
       "      <td>-0.005352</td>\n",
       "      <td>-0.046446</td>\n",
       "      <td>-0.027943</td>\n",
       "      <td>-0.465635</td>\n",
       "      <td>0.013113</td>\n",
       "      <td>-0.244399</td>\n",
       "      <td>-0.127509</td>\n",
       "      <td>0.104352</td>\n",
       "      <td>0.129283</td>\n",
       "      <td>1.000000</td>\n",
       "      <td>0.015078</td>\n",
       "      <td>0.541172</td>\n",
       "      <td>0.172444</td>\n",
       "      <td>0.692835</td>\n",
       "      <td>0.301820</td>\n",
       "      <td>-0.437370</td>\n",
       "      <td>0.112748</td>\n",
       "      <td>0.016155</td>\n",
       "      <td>-0.244341</td>\n",
       "    </tr>\n",
       "    <tr>\n",
       "      <th>firma_idade_massa</th>\n",
       "      <td>0.034635</td>\n",
       "      <td>-0.059488</td>\n",
       "      <td>0.289896</td>\n",
       "      <td>-0.226835</td>\n",
       "      <td>-0.052864</td>\n",
       "      <td>-0.158867</td>\n",
       "      <td>-0.038798</td>\n",
       "      <td>-0.020851</td>\n",
       "      <td>-0.234812</td>\n",
       "      <td>0.597021</td>\n",
       "      <td>0.015078</td>\n",
       "      <td>1.000000</td>\n",
       "      <td>0.273615</td>\n",
       "      <td>0.300330</td>\n",
       "      <td>-0.079831</td>\n",
       "      <td>-0.163854</td>\n",
       "      <td>-0.043646</td>\n",
       "      <td>-0.129524</td>\n",
       "      <td>-0.158008</td>\n",
       "      <td>-0.038786</td>\n",
       "    </tr>\n",
       "    <tr>\n",
       "      <th>firma_idade_po3gr</th>\n",
       "      <td>0.077500</td>\n",
       "      <td>-0.564839</td>\n",
       "      <td>0.059414</td>\n",
       "      <td>-0.568748</td>\n",
       "      <td>-0.734252</td>\n",
       "      <td>-0.089936</td>\n",
       "      <td>-0.392859</td>\n",
       "      <td>-0.224943</td>\n",
       "      <td>-0.630278</td>\n",
       "      <td>-0.250163</td>\n",
       "      <td>0.541172</td>\n",
       "      <td>0.273615</td>\n",
       "      <td>1.000000</td>\n",
       "      <td>0.403521</td>\n",
       "      <td>0.805942</td>\n",
       "      <td>-0.001654</td>\n",
       "      <td>-0.699229</td>\n",
       "      <td>0.086937</td>\n",
       "      <td>-0.084322</td>\n",
       "      <td>-0.392687</td>\n",
       "    </tr>\n",
       "    <tr>\n",
       "      <th>firma_idade_engen</th>\n",
       "      <td>0.167406</td>\n",
       "      <td>0.024164</td>\n",
       "      <td>0.640809</td>\n",
       "      <td>0.040786</td>\n",
       "      <td>-0.067946</td>\n",
       "      <td>-0.240035</td>\n",
       "      <td>-0.487368</td>\n",
       "      <td>-0.157795</td>\n",
       "      <td>-0.309826</td>\n",
       "      <td>0.069659</td>\n",
       "      <td>0.172444</td>\n",
       "      <td>0.300330</td>\n",
       "      <td>0.403521</td>\n",
       "      <td>1.000000</td>\n",
       "      <td>0.019492</td>\n",
       "      <td>0.650666</td>\n",
       "      <td>0.273110</td>\n",
       "      <td>-0.017513</td>\n",
       "      <td>-0.235682</td>\n",
       "      <td>-0.487632</td>\n",
       "    </tr>\n",
       "    <tr>\n",
       "      <th>firma_massa_po3gr</th>\n",
       "      <td>0.048350</td>\n",
       "      <td>-0.643270</td>\n",
       "      <td>-0.407415</td>\n",
       "      <td>-0.614001</td>\n",
       "      <td>-0.872751</td>\n",
       "      <td>0.069102</td>\n",
       "      <td>-0.458596</td>\n",
       "      <td>-0.263560</td>\n",
       "      <td>-0.454173</td>\n",
       "      <td>-0.397954</td>\n",
       "      <td>0.692835</td>\n",
       "      <td>-0.079831</td>\n",
       "      <td>0.805942</td>\n",
       "      <td>0.019492</td>\n",
       "      <td>1.000000</td>\n",
       "      <td>0.045715</td>\n",
       "      <td>-0.835804</td>\n",
       "      <td>0.262582</td>\n",
       "      <td>0.075290</td>\n",
       "      <td>-0.458391</td>\n",
       "    </tr>\n",
       "    <tr>\n",
       "      <th>firma_massa_engen</th>\n",
       "      <td>0.191996</td>\n",
       "      <td>0.115699</td>\n",
       "      <td>0.111229</td>\n",
       "      <td>0.174741</td>\n",
       "      <td>-0.061085</td>\n",
       "      <td>-0.060350</td>\n",
       "      <td>-0.670774</td>\n",
       "      <td>-0.211591</td>\n",
       "      <td>0.144899</td>\n",
       "      <td>0.002864</td>\n",
       "      <td>0.301820</td>\n",
       "      <td>-0.163854</td>\n",
       "      <td>-0.001654</td>\n",
       "      <td>0.650666</td>\n",
       "      <td>0.045715</td>\n",
       "      <td>1.000000</td>\n",
       "      <td>0.418509</td>\n",
       "      <td>0.222859</td>\n",
       "      <td>-0.055098</td>\n",
       "      <td>-0.671159</td>\n",
       "    </tr>\n",
       "    <tr>\n",
       "      <th>firma_po3gr_engen</th>\n",
       "      <td>0.005869</td>\n",
       "      <td>0.696688</td>\n",
       "      <td>0.457472</td>\n",
       "      <td>0.707626</td>\n",
       "      <td>0.831387</td>\n",
       "      <td>-0.110475</td>\n",
       "      <td>0.147216</td>\n",
       "      <td>0.172613</td>\n",
       "      <td>0.516893</td>\n",
       "      <td>0.362607</td>\n",
       "      <td>-0.437370</td>\n",
       "      <td>-0.043646</td>\n",
       "      <td>-0.699229</td>\n",
       "      <td>0.273110</td>\n",
       "      <td>-0.835804</td>\n",
       "      <td>0.418509</td>\n",
       "      <td>1.000000</td>\n",
       "      <td>-0.173678</td>\n",
       "      <td>-0.114367</td>\n",
       "      <td>0.146804</td>\n",
       "    </tr>\n",
       "    <tr>\n",
       "      <th>firma_rotat_engen</th>\n",
       "      <td>0.061877</td>\n",
       "      <td>-0.333911</td>\n",
       "      <td>-0.385745</td>\n",
       "      <td>-0.331419</td>\n",
       "      <td>-0.359455</td>\n",
       "      <td>0.897125</td>\n",
       "      <td>-0.405183</td>\n",
       "      <td>-0.200610</td>\n",
       "      <td>-0.127345</td>\n",
       "      <td>-0.220299</td>\n",
       "      <td>0.112748</td>\n",
       "      <td>-0.129524</td>\n",
       "      <td>0.086937</td>\n",
       "      <td>-0.017513</td>\n",
       "      <td>0.262582</td>\n",
       "      <td>0.222859</td>\n",
       "      <td>-0.173678</td>\n",
       "      <td>1.000000</td>\n",
       "      <td>0.899952</td>\n",
       "      <td>-0.405128</td>\n",
       "    </tr>\n",
       "    <tr>\n",
       "      <th>firma_rotat_share</th>\n",
       "      <td>0.018711</td>\n",
       "      <td>-0.113546</td>\n",
       "      <td>-0.290551</td>\n",
       "      <td>-0.116127</td>\n",
       "      <td>-0.120308</td>\n",
       "      <td>0.999703</td>\n",
       "      <td>-0.026781</td>\n",
       "      <td>-0.104640</td>\n",
       "      <td>0.055498</td>\n",
       "      <td>-0.117336</td>\n",
       "      <td>0.016155</td>\n",
       "      <td>-0.158008</td>\n",
       "      <td>-0.084322</td>\n",
       "      <td>-0.235682</td>\n",
       "      <td>0.075290</td>\n",
       "      <td>-0.055098</td>\n",
       "      <td>-0.114367</td>\n",
       "      <td>0.899952</td>\n",
       "      <td>1.000000</td>\n",
       "      <td>-0.026413</td>\n",
       "    </tr>\n",
       "    <tr>\n",
       "      <th>firma_engen_share</th>\n",
       "      <td>-0.170011</td>\n",
       "      <td>0.579442</td>\n",
       "      <td>0.312660</td>\n",
       "      <td>0.567711</td>\n",
       "      <td>0.644799</td>\n",
       "      <td>-0.015369</td>\n",
       "      <td>0.999994</td>\n",
       "      <td>0.458746</td>\n",
       "      <td>0.413440</td>\n",
       "      <td>0.269722</td>\n",
       "      <td>-0.244341</td>\n",
       "      <td>-0.038786</td>\n",
       "      <td>-0.392687</td>\n",
       "      <td>-0.487632</td>\n",
       "      <td>-0.458391</td>\n",
       "      <td>-0.671159</td>\n",
       "      <td>0.146804</td>\n",
       "      <td>-0.405128</td>\n",
       "      <td>-0.026413</td>\n",
       "      <td>1.000000</td>\n",
       "    </tr>\n",
       "  </tbody>\n",
       "</table>\n",
       "</div>"
      ],
      "text/plain": [
       "                   firma_enc  firma_potot  firma_idade  firma_massa  \\\n",
       "firma_enc           1.000000    -0.010853     0.024123    -0.018079   \n",
       "firma_potot        -0.010853     1.000000     0.562861     0.962429   \n",
       "firma_idade         0.024123     0.562861     1.000000     0.567162   \n",
       "firma_massa        -0.018079     0.962429     0.567162     1.000000   \n",
       "firma_po3gr        -0.109492     0.852892     0.520785     0.851508   \n",
       "firma_rotat         0.016024    -0.104613    -0.286245    -0.107659   \n",
       "firma_engen        -0.170148     0.579890     0.312902     0.568105   \n",
       "firma_share        -0.112893     0.380866     0.205638     0.361730   \n",
       "firma_potot_idade  -0.003662     0.791167     0.020861     0.758583   \n",
       "firma_potot_massa   0.034546     0.559746     0.323991     0.398438   \n",
       "firma_potot_po3gr   0.132270    -0.005352    -0.046446    -0.027943   \n",
       "firma_idade_massa   0.034635    -0.059488     0.289896    -0.226835   \n",
       "firma_idade_po3gr   0.077500    -0.564839     0.059414    -0.568748   \n",
       "firma_idade_engen   0.167406     0.024164     0.640809     0.040786   \n",
       "firma_massa_po3gr   0.048350    -0.643270    -0.407415    -0.614001   \n",
       "firma_massa_engen   0.191996     0.115699     0.111229     0.174741   \n",
       "firma_po3gr_engen   0.005869     0.696688     0.457472     0.707626   \n",
       "firma_rotat_engen   0.061877    -0.333911    -0.385745    -0.331419   \n",
       "firma_rotat_share   0.018711    -0.113546    -0.290551    -0.116127   \n",
       "firma_engen_share  -0.170011     0.579442     0.312660     0.567711   \n",
       "\n",
       "                   firma_po3gr  firma_rotat  firma_engen  firma_share  \\\n",
       "firma_enc            -0.109492     0.016024    -0.170148    -0.112893   \n",
       "firma_potot           0.852892    -0.104613     0.579890     0.380866   \n",
       "firma_idade           0.520785    -0.286245     0.312902     0.205638   \n",
       "firma_massa           0.851508    -0.107659     0.568105     0.361730   \n",
       "firma_po3gr           1.000000    -0.110849     0.645216     0.403040   \n",
       "firma_rotat          -0.110849     1.000000    -0.015660    -0.080389   \n",
       "firma_engen           0.645216    -0.015660     1.000000     0.461923   \n",
       "firma_share           0.403040    -0.080389     0.461923     1.000000   \n",
       "firma_potot_idade     0.617129     0.061900     0.413714     0.260255   \n",
       "firma_potot_massa     0.422906    -0.113353     0.269926     0.176139   \n",
       "firma_potot_po3gr    -0.465635     0.013113    -0.244399    -0.127509   \n",
       "firma_idade_massa    -0.052864    -0.158867    -0.038798    -0.020851   \n",
       "firma_idade_po3gr    -0.734252    -0.089936    -0.392859    -0.224943   \n",
       "firma_idade_engen    -0.067946    -0.240035    -0.487368    -0.157795   \n",
       "firma_massa_po3gr    -0.872751     0.069102    -0.458596    -0.263560   \n",
       "firma_massa_engen    -0.061085    -0.060350    -0.670774    -0.211591   \n",
       "firma_po3gr_engen     0.831387    -0.110475     0.147216     0.172613   \n",
       "firma_rotat_engen    -0.359455     0.897125    -0.405183    -0.200610   \n",
       "firma_rotat_share    -0.120308     0.999703    -0.026781    -0.104640   \n",
       "firma_engen_share     0.644799    -0.015369     0.999994     0.458746   \n",
       "\n",
       "                   firma_potot_idade  firma_potot_massa  firma_potot_po3gr  \\\n",
       "firma_enc                  -0.003662           0.034546           0.132270   \n",
       "firma_potot                 0.791167           0.559746          -0.005352   \n",
       "firma_idade                 0.020861           0.323991          -0.046446   \n",
       "firma_massa                 0.758583           0.398438          -0.027943   \n",
       "firma_po3gr                 0.617129           0.422906          -0.465635   \n",
       "firma_rotat                 0.061900          -0.113353           0.013113   \n",
       "firma_engen                 0.413714           0.269926          -0.244399   \n",
       "firma_share                 0.260255           0.176139          -0.127509   \n",
       "firma_potot_idade           1.000000           0.455328           0.104352   \n",
       "firma_potot_massa           0.455328           1.000000           0.129283   \n",
       "firma_potot_po3gr           0.104352           0.129283           1.000000   \n",
       "firma_idade_massa          -0.234812           0.597021           0.015078   \n",
       "firma_idade_po3gr          -0.630278          -0.250163           0.541172   \n",
       "firma_idade_engen          -0.309826           0.069659           0.172444   \n",
       "firma_massa_po3gr          -0.454173          -0.397954           0.692835   \n",
       "firma_massa_engen           0.144899           0.002864           0.301820   \n",
       "firma_po3gr_engen           0.516893           0.362607          -0.437370   \n",
       "firma_rotat_engen          -0.127345          -0.220299           0.112748   \n",
       "firma_rotat_share           0.055498          -0.117336           0.016155   \n",
       "firma_engen_share           0.413440           0.269722          -0.244341   \n",
       "\n",
       "                   firma_idade_massa  firma_idade_po3gr  firma_idade_engen  \\\n",
       "firma_enc                   0.034635           0.077500           0.167406   \n",
       "firma_potot                -0.059488          -0.564839           0.024164   \n",
       "firma_idade                 0.289896           0.059414           0.640809   \n",
       "firma_massa                -0.226835          -0.568748           0.040786   \n",
       "firma_po3gr                -0.052864          -0.734252          -0.067946   \n",
       "firma_rotat                -0.158867          -0.089936          -0.240035   \n",
       "firma_engen                -0.038798          -0.392859          -0.487368   \n",
       "firma_share                -0.020851          -0.224943          -0.157795   \n",
       "firma_potot_idade          -0.234812          -0.630278          -0.309826   \n",
       "firma_potot_massa           0.597021          -0.250163           0.069659   \n",
       "firma_potot_po3gr           0.015078           0.541172           0.172444   \n",
       "firma_idade_massa           1.000000           0.273615           0.300330   \n",
       "firma_idade_po3gr           0.273615           1.000000           0.403521   \n",
       "firma_idade_engen           0.300330           0.403521           1.000000   \n",
       "firma_massa_po3gr          -0.079831           0.805942           0.019492   \n",
       "firma_massa_engen          -0.163854          -0.001654           0.650666   \n",
       "firma_po3gr_engen          -0.043646          -0.699229           0.273110   \n",
       "firma_rotat_engen          -0.129524           0.086937          -0.017513   \n",
       "firma_rotat_share          -0.158008          -0.084322          -0.235682   \n",
       "firma_engen_share          -0.038786          -0.392687          -0.487632   \n",
       "\n",
       "                   firma_massa_po3gr  firma_massa_engen  firma_po3gr_engen  \\\n",
       "firma_enc                   0.048350           0.191996           0.005869   \n",
       "firma_potot                -0.643270           0.115699           0.696688   \n",
       "firma_idade                -0.407415           0.111229           0.457472   \n",
       "firma_massa                -0.614001           0.174741           0.707626   \n",
       "firma_po3gr                -0.872751          -0.061085           0.831387   \n",
       "firma_rotat                 0.069102          -0.060350          -0.110475   \n",
       "firma_engen                -0.458596          -0.670774           0.147216   \n",
       "firma_share                -0.263560          -0.211591           0.172613   \n",
       "firma_potot_idade          -0.454173           0.144899           0.516893   \n",
       "firma_potot_massa          -0.397954           0.002864           0.362607   \n",
       "firma_potot_po3gr           0.692835           0.301820          -0.437370   \n",
       "firma_idade_massa          -0.079831          -0.163854          -0.043646   \n",
       "firma_idade_po3gr           0.805942          -0.001654          -0.699229   \n",
       "firma_idade_engen           0.019492           0.650666           0.273110   \n",
       "firma_massa_po3gr           1.000000           0.045715          -0.835804   \n",
       "firma_massa_engen           0.045715           1.000000           0.418509   \n",
       "firma_po3gr_engen          -0.835804           0.418509           1.000000   \n",
       "firma_rotat_engen           0.262582           0.222859          -0.173678   \n",
       "firma_rotat_share           0.075290          -0.055098          -0.114367   \n",
       "firma_engen_share          -0.458391          -0.671159           0.146804   \n",
       "\n",
       "                   firma_rotat_engen  firma_rotat_share  firma_engen_share  \n",
       "firma_enc                   0.061877           0.018711          -0.170011  \n",
       "firma_potot                -0.333911          -0.113546           0.579442  \n",
       "firma_idade                -0.385745          -0.290551           0.312660  \n",
       "firma_massa                -0.331419          -0.116127           0.567711  \n",
       "firma_po3gr                -0.359455          -0.120308           0.644799  \n",
       "firma_rotat                 0.897125           0.999703          -0.015369  \n",
       "firma_engen                -0.405183          -0.026781           0.999994  \n",
       "firma_share                -0.200610          -0.104640           0.458746  \n",
       "firma_potot_idade          -0.127345           0.055498           0.413440  \n",
       "firma_potot_massa          -0.220299          -0.117336           0.269722  \n",
       "firma_potot_po3gr           0.112748           0.016155          -0.244341  \n",
       "firma_idade_massa          -0.129524          -0.158008          -0.038786  \n",
       "firma_idade_po3gr           0.086937          -0.084322          -0.392687  \n",
       "firma_idade_engen          -0.017513          -0.235682          -0.487632  \n",
       "firma_massa_po3gr           0.262582           0.075290          -0.458391  \n",
       "firma_massa_engen           0.222859          -0.055098          -0.671159  \n",
       "firma_po3gr_engen          -0.173678          -0.114367           0.146804  \n",
       "firma_rotat_engen           1.000000           0.899952          -0.405128  \n",
       "firma_rotat_share           0.899952           1.000000          -0.026413  \n",
       "firma_engen_share          -0.405128          -0.026413           1.000000  "
      ]
     },
     "execution_count": 21,
     "metadata": {},
     "output_type": "execute_result"
    }
   ],
   "source": [
    "%%time\n",
    "spread.filter(regex='firma', axis=1).corr()"
   ]
  },
  {
   "cell_type": "code",
   "execution_count": 22,
   "metadata": {},
   "outputs": [
    {
     "name": "stdout",
     "output_type": "stream",
     "text": [
      "Wall time: 35.9 ms\n"
     ]
    },
    {
     "data": {
      "text/html": [
       "<div>\n",
       "<style scoped>\n",
       "    .dataframe tbody tr th:only-of-type {\n",
       "        vertical-align: middle;\n",
       "    }\n",
       "\n",
       "    .dataframe tbody tr th {\n",
       "        vertical-align: top;\n",
       "    }\n",
       "\n",
       "    .dataframe thead th {\n",
       "        text-align: right;\n",
       "    }\n",
       "</style>\n",
       "<table border=\"1\" class=\"dataframe\">\n",
       "  <thead>\n",
       "    <tr style=\"text-align: right;\">\n",
       "      <th></th>\n",
       "      <th>oper_valor</th>\n",
       "      <th>oper_spreadbndes</th>\n",
       "      <th>oper_juros</th>\n",
       "      <th>oper_amortizacao</th>\n",
       "      <th>oper_carencia</th>\n",
       "      <th>oper_valor_spreadbndes</th>\n",
       "      <th>oper_valor_juros</th>\n",
       "      <th>oper_valor_amortizacao</th>\n",
       "      <th>oper_valor_carencia</th>\n",
       "      <th>oper_spreadbndes_juros</th>\n",
       "      <th>oper_spreadbndes_amortizacao</th>\n",
       "      <th>oper_spreadbndes_carencia</th>\n",
       "      <th>oper_juros_amortizacao</th>\n",
       "      <th>oper_juros_carencia</th>\n",
       "      <th>oper_amortizacao_carencia</th>\n",
       "    </tr>\n",
       "  </thead>\n",
       "  <tbody>\n",
       "    <tr>\n",
       "      <th>oper_valor</th>\n",
       "      <td>1.000000</td>\n",
       "      <td>0.001894</td>\n",
       "      <td>-0.082998</td>\n",
       "      <td>-0.017999</td>\n",
       "      <td>0.119088</td>\n",
       "      <td>0.963103</td>\n",
       "      <td>0.442593</td>\n",
       "      <td>0.077965</td>\n",
       "      <td>0.171839</td>\n",
       "      <td>0.087102</td>\n",
       "      <td>-0.006925</td>\n",
       "      <td>-0.124685</td>\n",
       "      <td>-0.021884</td>\n",
       "      <td>-0.143618</td>\n",
       "      <td>-0.028519</td>\n",
       "    </tr>\n",
       "    <tr>\n",
       "      <th>oper_spreadbndes</th>\n",
       "      <td>0.001894</td>\n",
       "      <td>1.000000</td>\n",
       "      <td>0.439267</td>\n",
       "      <td>-0.280726</td>\n",
       "      <td>0.078473</td>\n",
       "      <td>-0.267308</td>\n",
       "      <td>-0.394568</td>\n",
       "      <td>0.287715</td>\n",
       "      <td>-0.045006</td>\n",
       "      <td>-0.340261</td>\n",
       "      <td>0.310018</td>\n",
       "      <td>0.037314</td>\n",
       "      <td>0.341931</td>\n",
       "      <td>0.212503</td>\n",
       "      <td>-0.299802</td>\n",
       "    </tr>\n",
       "    <tr>\n",
       "      <th>oper_juros</th>\n",
       "      <td>-0.082998</td>\n",
       "      <td>0.439267</td>\n",
       "      <td>1.000000</td>\n",
       "      <td>-0.468580</td>\n",
       "      <td>-0.037531</td>\n",
       "      <td>-0.198199</td>\n",
       "      <td>-0.930363</td>\n",
       "      <td>0.450964</td>\n",
       "      <td>0.066276</td>\n",
       "      <td>-0.994218</td>\n",
       "      <td>0.466535</td>\n",
       "      <td>0.128063</td>\n",
       "      <td>0.600958</td>\n",
       "      <td>0.635669</td>\n",
       "      <td>-0.430714</td>\n",
       "    </tr>\n",
       "    <tr>\n",
       "      <th>oper_amortizacao</th>\n",
       "      <td>-0.017999</td>\n",
       "      <td>-0.280726</td>\n",
       "      <td>-0.468580</td>\n",
       "      <td>1.000000</td>\n",
       "      <td>0.098544</td>\n",
       "      <td>0.058209</td>\n",
       "      <td>0.415019</td>\n",
       "      <td>-0.946958</td>\n",
       "      <td>-0.102671</td>\n",
       "      <td>0.456919</td>\n",
       "      <td>-0.948220</td>\n",
       "      <td>-0.121443</td>\n",
       "      <td>-0.941217</td>\n",
       "      <td>-0.340641</td>\n",
       "      <td>0.914893</td>\n",
       "    </tr>\n",
       "    <tr>\n",
       "      <th>oper_carencia</th>\n",
       "      <td>0.119088</td>\n",
       "      <td>0.078473</td>\n",
       "      <td>-0.037531</td>\n",
       "      <td>0.098544</td>\n",
       "      <td>1.000000</td>\n",
       "      <td>0.093635</td>\n",
       "      <td>0.077585</td>\n",
       "      <td>-0.098277</td>\n",
       "      <td>-0.879206</td>\n",
       "      <td>0.048665</td>\n",
       "      <td>-0.106100</td>\n",
       "      <td>-0.914776</td>\n",
       "      <td>-0.104875</td>\n",
       "      <td>-0.735148</td>\n",
       "      <td>-0.153872</td>\n",
       "    </tr>\n",
       "    <tr>\n",
       "      <th>oper_valor_spreadbndes</th>\n",
       "      <td>0.963103</td>\n",
       "      <td>-0.267308</td>\n",
       "      <td>-0.198199</td>\n",
       "      <td>0.058209</td>\n",
       "      <td>0.093635</td>\n",
       "      <td>1.000000</td>\n",
       "      <td>0.532680</td>\n",
       "      <td>-0.002305</td>\n",
       "      <td>0.177699</td>\n",
       "      <td>0.175508</td>\n",
       "      <td>-0.090110</td>\n",
       "      <td>-0.130190</td>\n",
       "      <td>-0.113113</td>\n",
       "      <td>-0.195584</td>\n",
       "      <td>0.053206</td>\n",
       "    </tr>\n",
       "    <tr>\n",
       "      <th>oper_valor_juros</th>\n",
       "      <td>0.442593</td>\n",
       "      <td>-0.394568</td>\n",
       "      <td>-0.930363</td>\n",
       "      <td>0.415019</td>\n",
       "      <td>0.077585</td>\n",
       "      <td>0.532680</td>\n",
       "      <td>1.000000</td>\n",
       "      <td>-0.377105</td>\n",
       "      <td>0.003584</td>\n",
       "      <td>0.926670</td>\n",
       "      <td>-0.422349</td>\n",
       "      <td>-0.161107</td>\n",
       "      <td>-0.548810</td>\n",
       "      <td>-0.624831</td>\n",
       "      <td>0.377076</td>\n",
       "    </tr>\n",
       "    <tr>\n",
       "      <th>oper_valor_amortizacao</th>\n",
       "      <td>0.077965</td>\n",
       "      <td>0.287715</td>\n",
       "      <td>0.450964</td>\n",
       "      <td>-0.946958</td>\n",
       "      <td>-0.098277</td>\n",
       "      <td>-0.002305</td>\n",
       "      <td>-0.377105</td>\n",
       "      <td>1.000000</td>\n",
       "      <td>0.133850</td>\n",
       "      <td>-0.437644</td>\n",
       "      <td>0.996137</td>\n",
       "      <td>0.135570</td>\n",
       "      <td>0.981189</td>\n",
       "      <td>0.341188</td>\n",
       "      <td>-0.958854</td>\n",
       "    </tr>\n",
       "    <tr>\n",
       "      <th>oper_valor_carencia</th>\n",
       "      <td>0.171839</td>\n",
       "      <td>-0.045006</td>\n",
       "      <td>0.066276</td>\n",
       "      <td>-0.102671</td>\n",
       "      <td>-0.879206</td>\n",
       "      <td>0.177699</td>\n",
       "      <td>0.003584</td>\n",
       "      <td>0.133850</td>\n",
       "      <td>1.000000</td>\n",
       "      <td>-0.074752</td>\n",
       "      <td>0.117701</td>\n",
       "      <td>0.952575</td>\n",
       "      <td>0.120064</td>\n",
       "      <td>0.778515</td>\n",
       "      <td>0.153003</td>\n",
       "    </tr>\n",
       "    <tr>\n",
       "      <th>oper_spreadbndes_juros</th>\n",
       "      <td>0.087102</td>\n",
       "      <td>-0.340261</td>\n",
       "      <td>-0.994218</td>\n",
       "      <td>0.456919</td>\n",
       "      <td>0.048665</td>\n",
       "      <td>0.175508</td>\n",
       "      <td>0.926670</td>\n",
       "      <td>-0.437644</td>\n",
       "      <td>-0.074752</td>\n",
       "      <td>1.000000</td>\n",
       "      <td>-0.451277</td>\n",
       "      <td>-0.129586</td>\n",
       "      <td>-0.588166</td>\n",
       "      <td>-0.639969</td>\n",
       "      <td>0.415003</td>\n",
       "    </tr>\n",
       "    <tr>\n",
       "      <th>oper_spreadbndes_amortizacao</th>\n",
       "      <td>-0.006925</td>\n",
       "      <td>0.310018</td>\n",
       "      <td>0.466535</td>\n",
       "      <td>-0.948220</td>\n",
       "      <td>-0.106100</td>\n",
       "      <td>-0.090110</td>\n",
       "      <td>-0.422349</td>\n",
       "      <td>0.996137</td>\n",
       "      <td>0.117701</td>\n",
       "      <td>-0.451277</td>\n",
       "      <td>1.000000</td>\n",
       "      <td>0.146451</td>\n",
       "      <td>0.987133</td>\n",
       "      <td>0.356976</td>\n",
       "      <td>-0.959628</td>\n",
       "    </tr>\n",
       "    <tr>\n",
       "      <th>oper_spreadbndes_carencia</th>\n",
       "      <td>-0.124685</td>\n",
       "      <td>0.037314</td>\n",
       "      <td>0.128063</td>\n",
       "      <td>-0.121443</td>\n",
       "      <td>-0.914776</td>\n",
       "      <td>-0.130190</td>\n",
       "      <td>-0.161107</td>\n",
       "      <td>0.135570</td>\n",
       "      <td>0.952575</td>\n",
       "      <td>-0.129586</td>\n",
       "      <td>0.146451</td>\n",
       "      <td>1.000000</td>\n",
       "      <td>0.155945</td>\n",
       "      <td>0.844853</td>\n",
       "      <td>0.137702</td>\n",
       "    </tr>\n",
       "    <tr>\n",
       "      <th>oper_juros_amortizacao</th>\n",
       "      <td>-0.021884</td>\n",
       "      <td>0.341931</td>\n",
       "      <td>0.600958</td>\n",
       "      <td>-0.941217</td>\n",
       "      <td>-0.104875</td>\n",
       "      <td>-0.113113</td>\n",
       "      <td>-0.548810</td>\n",
       "      <td>0.981189</td>\n",
       "      <td>0.120064</td>\n",
       "      <td>-0.588166</td>\n",
       "      <td>0.987133</td>\n",
       "      <td>0.155945</td>\n",
       "      <td>1.000000</td>\n",
       "      <td>0.438191</td>\n",
       "      <td>-0.944045</td>\n",
       "    </tr>\n",
       "    <tr>\n",
       "      <th>oper_juros_carencia</th>\n",
       "      <td>-0.143618</td>\n",
       "      <td>0.212503</td>\n",
       "      <td>0.635669</td>\n",
       "      <td>-0.340641</td>\n",
       "      <td>-0.735148</td>\n",
       "      <td>-0.195584</td>\n",
       "      <td>-0.624831</td>\n",
       "      <td>0.341188</td>\n",
       "      <td>0.778515</td>\n",
       "      <td>-0.639969</td>\n",
       "      <td>0.356976</td>\n",
       "      <td>0.844853</td>\n",
       "      <td>0.438191</td>\n",
       "      <td>1.000000</td>\n",
       "      <td>-0.117204</td>\n",
       "    </tr>\n",
       "    <tr>\n",
       "      <th>oper_amortizacao_carencia</th>\n",
       "      <td>-0.028519</td>\n",
       "      <td>-0.299802</td>\n",
       "      <td>-0.430714</td>\n",
       "      <td>0.914893</td>\n",
       "      <td>-0.153872</td>\n",
       "      <td>0.053206</td>\n",
       "      <td>0.377076</td>\n",
       "      <td>-0.958854</td>\n",
       "      <td>0.153003</td>\n",
       "      <td>0.415003</td>\n",
       "      <td>-0.959628</td>\n",
       "      <td>0.137702</td>\n",
       "      <td>-0.944045</td>\n",
       "      <td>-0.117204</td>\n",
       "      <td>1.000000</td>\n",
       "    </tr>\n",
       "  </tbody>\n",
       "</table>\n",
       "</div>"
      ],
      "text/plain": [
       "                              oper_valor  oper_spreadbndes  oper_juros  \\\n",
       "oper_valor                      1.000000          0.001894   -0.082998   \n",
       "oper_spreadbndes                0.001894          1.000000    0.439267   \n",
       "oper_juros                     -0.082998          0.439267    1.000000   \n",
       "oper_amortizacao               -0.017999         -0.280726   -0.468580   \n",
       "oper_carencia                   0.119088          0.078473   -0.037531   \n",
       "oper_valor_spreadbndes          0.963103         -0.267308   -0.198199   \n",
       "oper_valor_juros                0.442593         -0.394568   -0.930363   \n",
       "oper_valor_amortizacao          0.077965          0.287715    0.450964   \n",
       "oper_valor_carencia             0.171839         -0.045006    0.066276   \n",
       "oper_spreadbndes_juros          0.087102         -0.340261   -0.994218   \n",
       "oper_spreadbndes_amortizacao   -0.006925          0.310018    0.466535   \n",
       "oper_spreadbndes_carencia      -0.124685          0.037314    0.128063   \n",
       "oper_juros_amortizacao         -0.021884          0.341931    0.600958   \n",
       "oper_juros_carencia            -0.143618          0.212503    0.635669   \n",
       "oper_amortizacao_carencia      -0.028519         -0.299802   -0.430714   \n",
       "\n",
       "                              oper_amortizacao  oper_carencia  \\\n",
       "oper_valor                           -0.017999       0.119088   \n",
       "oper_spreadbndes                     -0.280726       0.078473   \n",
       "oper_juros                           -0.468580      -0.037531   \n",
       "oper_amortizacao                      1.000000       0.098544   \n",
       "oper_carencia                         0.098544       1.000000   \n",
       "oper_valor_spreadbndes                0.058209       0.093635   \n",
       "oper_valor_juros                      0.415019       0.077585   \n",
       "oper_valor_amortizacao               -0.946958      -0.098277   \n",
       "oper_valor_carencia                  -0.102671      -0.879206   \n",
       "oper_spreadbndes_juros                0.456919       0.048665   \n",
       "oper_spreadbndes_amortizacao         -0.948220      -0.106100   \n",
       "oper_spreadbndes_carencia            -0.121443      -0.914776   \n",
       "oper_juros_amortizacao               -0.941217      -0.104875   \n",
       "oper_juros_carencia                  -0.340641      -0.735148   \n",
       "oper_amortizacao_carencia             0.914893      -0.153872   \n",
       "\n",
       "                              oper_valor_spreadbndes  oper_valor_juros  \\\n",
       "oper_valor                                  0.963103          0.442593   \n",
       "oper_spreadbndes                           -0.267308         -0.394568   \n",
       "oper_juros                                 -0.198199         -0.930363   \n",
       "oper_amortizacao                            0.058209          0.415019   \n",
       "oper_carencia                               0.093635          0.077585   \n",
       "oper_valor_spreadbndes                      1.000000          0.532680   \n",
       "oper_valor_juros                            0.532680          1.000000   \n",
       "oper_valor_amortizacao                     -0.002305         -0.377105   \n",
       "oper_valor_carencia                         0.177699          0.003584   \n",
       "oper_spreadbndes_juros                      0.175508          0.926670   \n",
       "oper_spreadbndes_amortizacao               -0.090110         -0.422349   \n",
       "oper_spreadbndes_carencia                  -0.130190         -0.161107   \n",
       "oper_juros_amortizacao                     -0.113113         -0.548810   \n",
       "oper_juros_carencia                        -0.195584         -0.624831   \n",
       "oper_amortizacao_carencia                   0.053206          0.377076   \n",
       "\n",
       "                              oper_valor_amortizacao  oper_valor_carencia  \\\n",
       "oper_valor                                  0.077965             0.171839   \n",
       "oper_spreadbndes                            0.287715            -0.045006   \n",
       "oper_juros                                  0.450964             0.066276   \n",
       "oper_amortizacao                           -0.946958            -0.102671   \n",
       "oper_carencia                              -0.098277            -0.879206   \n",
       "oper_valor_spreadbndes                     -0.002305             0.177699   \n",
       "oper_valor_juros                           -0.377105             0.003584   \n",
       "oper_valor_amortizacao                      1.000000             0.133850   \n",
       "oper_valor_carencia                         0.133850             1.000000   \n",
       "oper_spreadbndes_juros                     -0.437644            -0.074752   \n",
       "oper_spreadbndes_amortizacao                0.996137             0.117701   \n",
       "oper_spreadbndes_carencia                   0.135570             0.952575   \n",
       "oper_juros_amortizacao                      0.981189             0.120064   \n",
       "oper_juros_carencia                         0.341188             0.778515   \n",
       "oper_amortizacao_carencia                  -0.958854             0.153003   \n",
       "\n",
       "                              oper_spreadbndes_juros  \\\n",
       "oper_valor                                  0.087102   \n",
       "oper_spreadbndes                           -0.340261   \n",
       "oper_juros                                 -0.994218   \n",
       "oper_amortizacao                            0.456919   \n",
       "oper_carencia                               0.048665   \n",
       "oper_valor_spreadbndes                      0.175508   \n",
       "oper_valor_juros                            0.926670   \n",
       "oper_valor_amortizacao                     -0.437644   \n",
       "oper_valor_carencia                        -0.074752   \n",
       "oper_spreadbndes_juros                      1.000000   \n",
       "oper_spreadbndes_amortizacao               -0.451277   \n",
       "oper_spreadbndes_carencia                  -0.129586   \n",
       "oper_juros_amortizacao                     -0.588166   \n",
       "oper_juros_carencia                        -0.639969   \n",
       "oper_amortizacao_carencia                   0.415003   \n",
       "\n",
       "                              oper_spreadbndes_amortizacao  \\\n",
       "oper_valor                                       -0.006925   \n",
       "oper_spreadbndes                                  0.310018   \n",
       "oper_juros                                        0.466535   \n",
       "oper_amortizacao                                 -0.948220   \n",
       "oper_carencia                                    -0.106100   \n",
       "oper_valor_spreadbndes                           -0.090110   \n",
       "oper_valor_juros                                 -0.422349   \n",
       "oper_valor_amortizacao                            0.996137   \n",
       "oper_valor_carencia                               0.117701   \n",
       "oper_spreadbndes_juros                           -0.451277   \n",
       "oper_spreadbndes_amortizacao                      1.000000   \n",
       "oper_spreadbndes_carencia                         0.146451   \n",
       "oper_juros_amortizacao                            0.987133   \n",
       "oper_juros_carencia                               0.356976   \n",
       "oper_amortizacao_carencia                        -0.959628   \n",
       "\n",
       "                              oper_spreadbndes_carencia  \\\n",
       "oper_valor                                    -0.124685   \n",
       "oper_spreadbndes                               0.037314   \n",
       "oper_juros                                     0.128063   \n",
       "oper_amortizacao                              -0.121443   \n",
       "oper_carencia                                 -0.914776   \n",
       "oper_valor_spreadbndes                        -0.130190   \n",
       "oper_valor_juros                              -0.161107   \n",
       "oper_valor_amortizacao                         0.135570   \n",
       "oper_valor_carencia                            0.952575   \n",
       "oper_spreadbndes_juros                        -0.129586   \n",
       "oper_spreadbndes_amortizacao                   0.146451   \n",
       "oper_spreadbndes_carencia                      1.000000   \n",
       "oper_juros_amortizacao                         0.155945   \n",
       "oper_juros_carencia                            0.844853   \n",
       "oper_amortizacao_carencia                      0.137702   \n",
       "\n",
       "                              oper_juros_amortizacao  oper_juros_carencia  \\\n",
       "oper_valor                                 -0.021884            -0.143618   \n",
       "oper_spreadbndes                            0.341931             0.212503   \n",
       "oper_juros                                  0.600958             0.635669   \n",
       "oper_amortizacao                           -0.941217            -0.340641   \n",
       "oper_carencia                              -0.104875            -0.735148   \n",
       "oper_valor_spreadbndes                     -0.113113            -0.195584   \n",
       "oper_valor_juros                           -0.548810            -0.624831   \n",
       "oper_valor_amortizacao                      0.981189             0.341188   \n",
       "oper_valor_carencia                         0.120064             0.778515   \n",
       "oper_spreadbndes_juros                     -0.588166            -0.639969   \n",
       "oper_spreadbndes_amortizacao                0.987133             0.356976   \n",
       "oper_spreadbndes_carencia                   0.155945             0.844853   \n",
       "oper_juros_amortizacao                      1.000000             0.438191   \n",
       "oper_juros_carencia                         0.438191             1.000000   \n",
       "oper_amortizacao_carencia                  -0.944045            -0.117204   \n",
       "\n",
       "                              oper_amortizacao_carencia  \n",
       "oper_valor                                    -0.028519  \n",
       "oper_spreadbndes                              -0.299802  \n",
       "oper_juros                                    -0.430714  \n",
       "oper_amortizacao                               0.914893  \n",
       "oper_carencia                                 -0.153872  \n",
       "oper_valor_spreadbndes                         0.053206  \n",
       "oper_valor_juros                               0.377076  \n",
       "oper_valor_amortizacao                        -0.958854  \n",
       "oper_valor_carencia                            0.153003  \n",
       "oper_spreadbndes_juros                         0.415003  \n",
       "oper_spreadbndes_amortizacao                  -0.959628  \n",
       "oper_spreadbndes_carencia                      0.137702  \n",
       "oper_juros_amortizacao                        -0.944045  \n",
       "oper_juros_carencia                           -0.117204  \n",
       "oper_amortizacao_carencia                      1.000000  "
      ]
     },
     "execution_count": 22,
     "metadata": {},
     "output_type": "execute_result"
    }
   ],
   "source": [
    "%%time\n",
    "spread.filter(regex='oper', axis=1).corr()"
   ]
  },
  {
   "cell_type": "markdown",
   "metadata": {},
   "source": [
    "<a name=\"partition\"></a>\n",
    "    \n",
    "## 1.4) Train/Test partition \n",
    "\n",
    "- ir para [Menu Principal](#navegacao)\n",
    "- ir para [Train/Test partition](#partition)\n",
    "- ir para [Random Search Tunning](#randomsearch)\n",
    "- ir para [Grid Search Tunning](#gridsearch)"
   ]
  },
  {
   "cell_type": "code",
   "execution_count": 23,
   "metadata": {},
   "outputs": [
    {
     "name": "stdout",
     "output_type": "stream",
     "text": [
      "Wall time: 970 µs\n",
      "Wall time: 1.96 ms\n"
     ]
    }
   ],
   "source": [
    "%%time\n",
    "%%time\n",
    "files = spread.columns\n",
    "selected_files = files.str.contains('firma|oper|banco|seg|enc')\n",
    "features = files[selected_files]\n",
    "lista = list(features)\n",
    "lista.remove('Numero_Agencias')\n",
    "lista.remove('prazo_carencia')\n",
    "lista.sort()"
   ]
  },
  {
   "cell_type": "code",
   "execution_count": 24,
   "metadata": {},
   "outputs": [
    {
     "data": {
      "text/plain": [
       "['banco_ativo',\n",
       " 'banco_ativo_captacoes',\n",
       " 'banco_ativo_carteira',\n",
       " 'banco_ativo_passivo',\n",
       " 'banco_ativo_patrimonio',\n",
       " 'banco_captacoes',\n",
       " 'banco_captacoes_patrimonio',\n",
       " 'banco_carteira',\n",
       " 'banco_carteira_captacoes',\n",
       " 'banco_carteira_passivo',\n",
       " 'banco_carteira_patrimonio',\n",
       " 'banco_enc',\n",
       " 'banco_lucroliquido',\n",
       " 'banco_numagencias',\n",
       " 'banco_numeropostos',\n",
       " 'banco_passivo',\n",
       " 'banco_passivo_captacoes',\n",
       " 'banco_passivo_patrimonio',\n",
       " 'banco_patrimonio',\n",
       " 'firma_enc',\n",
       " 'firma_engen',\n",
       " 'firma_engen_share',\n",
       " 'firma_idade',\n",
       " 'firma_idade_engen',\n",
       " 'firma_idade_massa',\n",
       " 'firma_idade_po3gr',\n",
       " 'firma_massa',\n",
       " 'firma_massa_engen',\n",
       " 'firma_massa_po3gr',\n",
       " 'firma_po3gr',\n",
       " 'firma_po3gr_engen',\n",
       " 'firma_potot',\n",
       " 'firma_potot_idade',\n",
       " 'firma_potot_massa',\n",
       " 'firma_potot_po3gr',\n",
       " 'firma_rotat',\n",
       " 'firma_rotat_engen',\n",
       " 'firma_rotat_share',\n",
       " 'firma_share',\n",
       " 'oper_amortizacao',\n",
       " 'oper_amortizacao_carencia',\n",
       " 'oper_carencia',\n",
       " 'oper_juros',\n",
       " 'oper_juros_amortizacao',\n",
       " 'oper_juros_carencia',\n",
       " 'oper_spreadbndes',\n",
       " 'oper_spreadbndes_amortizacao',\n",
       " 'oper_spreadbndes_carencia',\n",
       " 'oper_spreadbndes_juros',\n",
       " 'oper_valor',\n",
       " 'oper_valor_amortizacao',\n",
       " 'oper_valor_carencia',\n",
       " 'oper_valor_juros',\n",
       " 'oper_valor_spreadbndes',\n",
       " 'seg_b1',\n",
       " 'seg_b2',\n",
       " 'seg_b3']"
      ]
     },
     "execution_count": 24,
     "metadata": {},
     "output_type": "execute_result"
    }
   ],
   "source": [
    "lista"
   ]
  },
  {
   "cell_type": "code",
   "execution_count": 25,
   "metadata": {},
   "outputs": [],
   "source": [
    "from sklearn.preprocessing import StandardScaler\n",
    "from sklearn.preprocessing import MinMaxScaler\n",
    "from sklearn.model_selection import RandomizedSearchCV, GridSearchCV\n",
    "from sklearn.metrics import r2_score, explained_variance_score, mean_absolute_error\n",
    "\n",
    "X, y = spread[lista] , spread[['target']]\n",
    "\n",
    "Xmin_max = MinMaxScaler().fit_transform(X)\n",
    "ymin_max = MinMaxScaler().fit_transform(y)"
   ]
  },
  {
   "cell_type": "code",
   "execution_count": 26,
   "metadata": {},
   "outputs": [],
   "source": [
    "from sklearn.model_selection import train_test_split\n",
    "\n",
    "X_train, X_test, y_train, y_test = train_test_split(X , y , test_size=0.30)\n",
    "\n",
    "X_train0, X_test0, y_train0, y_test0 = train_test_split(Xmin_max , ymin_max , test_size=0.30)"
   ]
  },
  {
   "cell_type": "markdown",
   "metadata": {},
   "source": [
    "<a name=\"randomsearch\"></a>\n",
    "\n",
    "# 2) Random Search for Hyperparameters\n",
    "\n",
    "- [Extreme Learning Machine](#elm)\n",
    "- [Suport Vector Machine](#svm)\n",
    "- [Stochastic Gradient Descent](#sgd)\n",
    "- [Multi-Task Elastic-Net](#elastic)\n",
    "- [Least Angle Regression Model (LAR)](#LAR)\n",
    "- [Ridge Regression](#ridge)\n",
    "- [ElasticNet Regression](#ElasNet)\n",
    "- [Bayesian Ridge](#bayesian)\n",
    "- [Lasso Regression](#lasso)\n",
    "- [Multilayer Perceptron Regression](#mlp)\n",
    "- [Nearest Neighbors Regression](#nnr)\n",
    "- [Resumo dos resultados](#resumo_rs)"
   ]
  },
  {
   "cell_type": "markdown",
   "metadata": {},
   "source": [
    "<a name=\"elm\"></a>\n",
    "\n",
    "## 2.1) Extreme learning machine\n",
    "\n",
    "- ir para [Menu Principal](#navegacao)\n",
    "- ir para [Train/Test partition](#partition)\n",
    "- ir para [Random Search Tunning](#randomsearch)\n",
    "- ir para [Grid Search Tunning](#gridsearch)"
   ]
  },
  {
   "cell_type": "code",
   "execution_count": 6,
   "metadata": {},
   "outputs": [
    {
     "name": "stdout",
     "output_type": "stream",
     "text": [
      "0.24.2\n",
      "Wall time: 1 ms\n"
     ]
    }
   ],
   "source": [
    "%%time\n",
    "from elmx import ELMClassifier, ELMRegressor, GenELMClassifier, GenELMRegressor\n",
    "from random_layer import RandomLayer, MLPRandomLayer, RBFRandomLayer, GRBFRandomLayer\n",
    "from sklearn.svm import SVC\n",
    "from sklearn.experimental import enable_halving_search_cv \n",
    "#from sklearn.model_selection import HalvingRandomSearchCV, HalvingGridSearchC\n",
    "\n",
    "\n",
    "import sklearn\n",
    "print(sklearn.__version__)"
   ]
  },
  {
   "cell_type": "code",
   "execution_count": 30,
   "metadata": {},
   "outputs": [
    {
     "name": "stdout",
     "output_type": "stream",
     "text": [
      "Wall time: 1min 6s\n"
     ]
    },
    {
     "data": {
      "text/plain": [
       "RandomizedSearchCV(cv=3, error_score='raise-deprecating',\n",
       "                   estimator=GenELMRegressor(hidden_layer=RBFRandomLayer(activation_args=None,\n",
       "                                                                         activation_func='gaussian',\n",
       "                                                                         centers=None,\n",
       "                                                                         n_hidden=20,\n",
       "                                                                         radii=None,\n",
       "                                                                         random_state=None,\n",
       "                                                                         rbf_width=1.0),\n",
       "                                             regressor=None),\n",
       "                   iid='warn', n_iter=300, n_jobs=None,\n",
       "                   param_distributions={'hidden_layer__activation_args': [{'power': 1.5},\n",
       "                                                                          {'pow...\n",
       "                                                                          'sigmoid',\n",
       "                                                                          'hardlim',\n",
       "                                                                          'softlim',\n",
       "                                                                          'gaussian',\n",
       "                                                                          'multiquadric',\n",
       "                                                                          'inv_multiquadric'],\n",
       "                                        'hidden_layer__n_hidden': [2, 4, 6, 8,\n",
       "                                                                   10, 12, 14,\n",
       "                                                                   16, 18],\n",
       "                                        'hidden_layer__rbf_width': [0.0125,\n",
       "                                                                    0.075,\n",
       "                                                                    0.1375, 0.2,\n",
       "                                                                    0.2625,\n",
       "                                                                    0.325,\n",
       "                                                                    0.3875,\n",
       "                                                                    0.45,\n",
       "                                                                    0.5125,\n",
       "                                                                    0.575,\n",
       "                                                                    0.6375, 0.7,\n",
       "                                                                    0.7625,\n",
       "                                                                    0.825,\n",
       "                                                                    0.8875,\n",
       "                                                                    0.95]},\n",
       "                   pre_dispatch='2*n_jobs', random_state=1, refit=True,\n",
       "                   return_train_score=False, scoring=None, verbose=0)"
      ]
     },
     "execution_count": 30,
     "metadata": {},
     "output_type": "execute_result"
    }
   ],
   "source": [
    "%%time\n",
    "from elmx import ELMClassifier, ELMRegressor, GenELMClassifier, GenELMRegressor\n",
    "from random_layer import RandomLayer, MLPRandomLayer, RBFRandomLayer, GRBFRandomLayer\n",
    "from sklearn.svm import SVC\n",
    "\n",
    "space = dict()\n",
    "space['hidden_layer__activation_func'] = ['tanh','sine','tribas','sigmoid','hardlim','softlim','gaussian','multiquadric','inv_multiquadric']\n",
    "space['hidden_layer__n_hidden']        = [row for row in range(2,20,2)]\n",
    "space['hidden_layer__rbf_width']       = [row/80 for row in range(1,80,5)]\n",
    "space['hidden_layer__activation_args'] = [{'power':1.5}, {'power':2.5}, {'power':3.0}, {'power':3.5},\n",
    "                                          {'power':4.0}, {'power':4.5}, {'power':5.5}, {'power':6.5}]\n",
    "\n",
    "elm = GenELMRegressor(hidden_layer= RBFRandomLayer() )\n",
    "\n",
    "elm0= RandomizedSearchCV(elm, space ,  cv=3, random_state=1, n_iter=300)\n",
    "#elm0 = HalvingRandomSearchCV(svm, space, n_candidates = 500 , max_resources=50, \n",
    "#                             random_state=666, cv=3, factor=3, n_jobs=20 , scoring='f1')\n",
    "\n",
    "elm0.fit(X_train, y_train)"
   ]
  },
  {
   "cell_type": "code",
   "execution_count": 31,
   "metadata": {},
   "outputs": [
    {
     "name": "stdout",
     "output_type": "stream",
     "text": [
      "Best Score: 0.9904007039802292\n",
      "Best Hyperparameters: {'hidden_layer__rbf_width': 0.0125, 'hidden_layer__n_hidden': 18, 'hidden_layer__activation_func': 'multiquadric', 'hidden_layer__activation_args': {'power': 4.0}}\n"
     ]
    }
   ],
   "source": [
    "# summarize result\n",
    "print('Best Score: %s' % elm0.best_score_) #Random Search Best Score: 0.9530819785561222\n",
    "print('Best Hyperparameters: %s' % elm0.best_params_)"
   ]
  },
  {
   "cell_type": "code",
   "execution_count": 32,
   "metadata": {},
   "outputs": [
    {
     "name": "stdout",
     "output_type": "stream",
     "text": [
      "R2: 0.9877717026607485\n",
      "EVS 0.9877717255345593\n",
      "MAE 0.25533507242057535\n",
      "Wall time: 82.3 ms\n"
     ]
    }
   ],
   "source": [
    "%%time\n",
    "from sklearn.metrics import r2_score, explained_variance_score, mean_absolute_error\n",
    "\n",
    "print(\"R2:\", r2_score(                 y_test,elm0.predict(X_test)))\n",
    "print(\"EVS\", explained_variance_score( y_test,elm0.predict(X_test)))\n",
    "print(\"MAE\", mean_absolute_error(      y_test,elm0.predict(X_test)))"
   ]
  },
  {
   "cell_type": "markdown",
   "metadata": {},
   "source": [
    "<a name=\"svm\"></a>\n",
    "\n",
    "## 2.2) Suport Vector Machine\n",
    "\n",
    "\n",
    "- ir para [Menu Principal](#navegacao)\n",
    "- ir para [Train/Test partition](#partition)\n",
    "- ir para [Random Search Tunning](#randomsearch)\n",
    "- ir para [Grid Search Tunning](#gridsearch)"
   ]
  },
  {
   "cell_type": "code",
   "execution_count": 33,
   "metadata": {},
   "outputs": [
    {
     "name": "stdout",
     "output_type": "stream",
     "text": [
      "Wall time: 15min 12s\n"
     ]
    },
    {
     "data": {
      "text/plain": [
       "RandomizedSearchCV(cv=3, error_score='raise-deprecating',\n",
       "                   estimator=SVR(C=1.0, cache_size=200, coef0=0.0, degree=3,\n",
       "                                 epsilon=0.1, gamma='auto_deprecated',\n",
       "                                 kernel='rbf', max_iter=-1, shrinking=True,\n",
       "                                 tol=0.001, verbose=False),\n",
       "                   iid='warn', n_iter=75, n_jobs=None,\n",
       "                   param_distributions={'C': [0.02, 0.1, 0.18, 0.26, 0.34, 0.42,\n",
       "                                              0.5, 0.58, 0.66, 0.74, 0.82, 0.9,\n",
       "                                              0.98, 1.06, 1.14, 1.22, 1.3...\n",
       "                                                    0.8, 0.84, 0.88, 0.92,\n",
       "                                                    0.96],\n",
       "                                        'gamma': ['scale', 'auto'],\n",
       "                                        'kernel': ['linear', 'poly', 'rbf',\n",
       "                                                   'sigmoid'],\n",
       "                                        'shrinking': [True, False],\n",
       "                                        'tol': [0.0005, 0.0055, 0.0105, 0.0155,\n",
       "                                                0.0205, 0.0255, 0.0305, 0.0355,\n",
       "                                                0.0405, 0.0455, 0.0505, 0.0555,\n",
       "                                                0.0605, 0.0655, 0.0705, 0.0755,\n",
       "                                                0.0805, 0.0855, 0.0905,\n",
       "                                                0.0955]},\n",
       "                   pre_dispatch='2*n_jobs', random_state=1, refit=True,\n",
       "                   return_train_score=False, scoring=None, verbose=0)"
      ]
     },
     "execution_count": 33,
     "metadata": {},
     "output_type": "execute_result"
    }
   ],
   "source": [
    "%%time\n",
    "from sklearn.svm import SVR\n",
    "\n",
    "# define search space\n",
    "space = dict()\n",
    "space['kernel']    = ['linear','poly','rbf','sigmoid']\n",
    "space['gamma']     = ['scale','auto']\n",
    "space['coef0']     = [row/50 for row in range(1,100,4)]\n",
    "space['C']         = [row/50 for row in range(1,100,4)]\n",
    "space['epsilon']   = [row/25 for row in range(5,25)]\n",
    "space['degree']    = [row/500 for row in range(1,250,5)]\n",
    "space['tol']       = [row/2000 for row in range(1,200,10)]\n",
    "space['shrinking'] = [True, False] \n",
    "\n",
    "svm0= RandomizedSearchCV(SVR(), space ,  cv=3, random_state=1, n_iter=75)\n",
    "\n",
    "svm0.fit(X_train0, y_train0.ravel())"
   ]
  },
  {
   "cell_type": "code",
   "execution_count": 34,
   "metadata": {},
   "outputs": [
    {
     "name": "stdout",
     "output_type": "stream",
     "text": [
      "Best Score: 0.6125368009168928\n",
      "Best Hyperparameters: {'tol': 0.0205, 'shrinking': False, 'kernel': 'linear', 'gamma': 'scale', 'epsilon': 0.2, 'degree': 0.452, 'coef0': 0.5, 'C': 1.7}\n"
     ]
    }
   ],
   "source": [
    "# summarize result\n",
    "print('Best Score: %s' % svm0.best_score_) #Best Score: 0.9352753839517703\n",
    "print('Best Hyperparameters: %s' % svm0.best_params_)"
   ]
  },
  {
   "cell_type": "code",
   "execution_count": 35,
   "metadata": {},
   "outputs": [
    {
     "name": "stdout",
     "output_type": "stream",
     "text": [
      "R2: 0.6124562342956525\n",
      "EVS 0.861155976080434\n",
      "MAE 0.08866761310337117\n"
     ]
    }
   ],
   "source": [
    "from sklearn.metrics import r2_score, explained_variance_score, mean_absolute_error\n",
    "\n",
    "print(\"R2:\", r2_score(                 y_test0 ,svm0.predict(X_test0)))\n",
    "print(\"EVS\", explained_variance_score( y_test0 ,svm0.predict(X_test0)))\n",
    "print(\"MAE\", mean_absolute_error(      y_test0 ,svm0.predict(X_test0)))"
   ]
  },
  {
   "cell_type": "markdown",
   "metadata": {},
   "source": [
    "<a name=\"sgd\"></a>\n",
    "\n",
    "## 2.3) Stochastic Gradient Descent \n",
    "\n",
    "- ir para [Menu Principal](#navegacao)\n",
    "- ir para [Train/Test partition](#partition)\n",
    "- ir para [Random Search Tunning](#randomsearch)\n",
    "- ir para [Grid Search Tunning](#gridsearch)"
   ]
  },
  {
   "cell_type": "code",
   "execution_count": 60,
   "metadata": {},
   "outputs": [
    {
     "name": "stdout",
     "output_type": "stream",
     "text": [
      "Wall time: 3min 48s\n"
     ]
    },
    {
     "data": {
      "text/plain": [
       "RandomizedSearchCV(cv=3, error_score='raise-deprecating',\n",
       "                   estimator=SGDRegressor(alpha=0.0001, average=False,\n",
       "                                          early_stopping=False, epsilon=0.1,\n",
       "                                          eta0=0.01, fit_intercept=True,\n",
       "                                          l1_ratio=0.15,\n",
       "                                          learning_rate='invscaling',\n",
       "                                          loss='squared_loss', max_iter=2000,\n",
       "                                          n_iter_no_change=5, penalty='l2',\n",
       "                                          power_t=0.25, random_state=None,\n",
       "                                          shuffle=True, tol=0.001,\n",
       "                                          validation_fraction=0...\n",
       "                                                    0.31666666666666665,\n",
       "                                                    0.3333333333333333, 0.35,\n",
       "                                                    0.36666666666666664,\n",
       "                                                    0.38333333333333336, 0.4,\n",
       "                                                    0.4166666666666667,\n",
       "                                                    0.43333333333333335, 0.45,\n",
       "                                                    0.4666666666666667,\n",
       "                                                    0.48333333333333334],\n",
       "                                        'tol': [0.0002, 0.0012, 0.0022, 0.0032,\n",
       "                                                0.0042, 0.0052, 0.0062, 0.0072,\n",
       "                                                0.0082, 0.0092, 0.0102,\n",
       "                                                0.0112]},\n",
       "                   pre_dispatch='2*n_jobs', random_state=666, refit=True,\n",
       "                   return_train_score=False, scoring=None, verbose=0)"
      ]
     },
     "execution_count": 60,
     "metadata": {},
     "output_type": "execute_result"
    }
   ],
   "source": [
    "%%time\n",
    "from sklearn.linear_model import SGDRegressor\n",
    "\n",
    "# define search space\n",
    "space = dict()\n",
    "space['alpha']          = [row/50 for row in range(40,500,25)]\n",
    "space['l1_ratio']       = [row/400 for row in range(20,100,4)] \n",
    "space['loss']           = ['squared_loss','huber','epsilon_insensitive','squared_epsilon_insensitive']\n",
    "space['penalty']        = ['l1','l2','elasticnet']\n",
    "space['learning_rate']  = ['invscaling','constant','optimal','adaptive']\n",
    "space['epsilon']        = [row/700 for row in range(10,200,20)]\n",
    "space['eta0']           = [row/1200 for row in range(1,200,10)]\n",
    "space['power_t']        = [row/600 for row in range(60,300,10)]\n",
    "space['early_stopping'] = [False,True]\n",
    "space['tol']            = [row/5000 for row in range(1,60,5)]\n",
    "\n",
    "sgd = SGDRegressor(max_iter=2000)\n",
    "\n",
    "sgd0 = RandomizedSearchCV(sgd, space, cv=3, random_state=666, n_iter=300)\n",
    "\n",
    "sgd0.fit(X_train0, y_train0.ravel())"
   ]
  },
  {
   "cell_type": "code",
   "execution_count": 61,
   "metadata": {},
   "outputs": [
    {
     "name": "stdout",
     "output_type": "stream",
     "text": [
      "Best Score: 0.24783362368048545\n",
      "Best Hyperparameters: {'tol': 0.0012, 'power_t': 0.48333333333333334, 'penalty': 'l2', 'loss': 'epsilon_insensitive', 'learning_rate': 'adaptive', 'l1_ratio': 0.2, 'eta0': 0.12583333333333332, 'epsilon': 0.014285714285714285, 'early_stopping': False, 'alpha': 3.8}\n"
     ]
    }
   ],
   "source": [
    "# summarize result\n",
    "print('Best Score: %s' % sgd0.best_score_) \n",
    "print('Best Hyperparameters: %s' % sgd0.best_params_)"
   ]
  },
  {
   "cell_type": "code",
   "execution_count": 62,
   "metadata": {},
   "outputs": [
    {
     "name": "stdout",
     "output_type": "stream",
     "text": [
      "R2: 0.2519237011592609\n",
      "EVS 0.3177865752298399\n",
      "MAE 0.0905236023795528\n"
     ]
    }
   ],
   "source": [
    "from sklearn.metrics import r2_score, explained_variance_score, mean_absolute_error\n",
    "\n",
    "print(\"R2:\", r2_score(                 y_test0.ravel(),sgd0.predict(X_test0)))\n",
    "print(\"EVS\", explained_variance_score( y_test0.ravel(),sgd0.predict(X_test0)))\n",
    "print(\"MAE\", mean_absolute_error(      y_test0.ravel(),sgd0.predict(X_test0)))"
   ]
  },
  {
   "cell_type": "markdown",
   "metadata": {},
   "source": [
    "<a name=\"elastic\"></a>\n",
    "\n",
    "## 2.4) Multi-Task Elastic-Net\n",
    "\n",
    "- ir para [Menu Principal](#navegacao)\n",
    "- ir para [Train/Test partition](#partition)\n",
    "- ir para [Random Search Tunning](#randomsearch)\n",
    "- ir para [Grid Search Tunning](#gridsearch)"
   ]
  },
  {
   "cell_type": "code",
   "execution_count": 63,
   "metadata": {},
   "outputs": [
    {
     "name": "stdout",
     "output_type": "stream",
     "text": [
      "Wall time: 12min 45s\n"
     ]
    },
    {
     "data": {
      "text/plain": [
       "RandomizedSearchCV(cv=3, error_score='raise-deprecating',\n",
       "                   estimator=MultiTaskElasticNet(alpha=1.0, copy_X=True,\n",
       "                                                 fit_intercept=True,\n",
       "                                                 l1_ratio=0.5, max_iter=800,\n",
       "                                                 normalize=False,\n",
       "                                                 random_state=None,\n",
       "                                                 selection='cyclic', tol=0.0001,\n",
       "                                                 warm_start=False),\n",
       "                   iid='warn', n_iter=300, n_jobs=None,\n",
       "                   param_distributions={'alpha': [0.005, 0.305, 0.605, 0.905,\n",
       "                                                  1.205, 1.505, 1.805, 2.105,\n",
       "                                                  2.4...\n",
       "                                                     7.366666666666666, 7.7,\n",
       "                                                     8.033333333333333,\n",
       "                                                     8.366666666666667, 8.7,\n",
       "                                                     9.033333333333333,\n",
       "                                                     9.366666666666667, 9.7],\n",
       "                                        'normalize': [False, True],\n",
       "                                        'selection': ['cyclic', 'random'],\n",
       "                                        'tol': [0.0002, 0.0006, 0.001, 0.0014,\n",
       "                                                0.0018, 0.0022, 0.0026, 0.003,\n",
       "                                                0.0034, 0.0038],\n",
       "                                        'warm_start': [False, True]},\n",
       "                   pre_dispatch='2*n_jobs', random_state=1, refit=True,\n",
       "                   return_train_score=False, scoring=None, verbose=0)"
      ]
     },
     "execution_count": 63,
     "metadata": {},
     "output_type": "execute_result"
    }
   ],
   "source": [
    "%%time\n",
    "from sklearn import linear_model\n",
    "\n",
    "space = dict()\n",
    "space['alpha']         = [row/200 for row in range(1,1200,60)]\n",
    "space['l1_ratio']      = [row/30 for row in range(1,300,10)]\n",
    "space['fit_intercept'] = [False,True]\n",
    "space['normalize']     = [False,True]\n",
    "space['warm_start']    = [False,True]\n",
    "space['copy_X']        = [False,True]\n",
    "space['selection']     = ['cyclic','random']\n",
    "space['tol']           = [row/5000 for row in range(1,20,2)]\n",
    "\n",
    "mtask = linear_model.MultiTaskElasticNet(max_iter=800)\n",
    "\n",
    "mtask0 = RandomizedSearchCV(mtask, space, cv=3,  n_iter=300, random_state=1)\n",
    "\n",
    "mtask0.fit(X_train, y_train)\n",
    "#X_train0, X_test0, y_train0, y_test0 = train_test_split(Xmin_max , ymin_max , test_size=0.30)"
   ]
  },
  {
   "cell_type": "code",
   "execution_count": 64,
   "metadata": {},
   "outputs": [
    {
     "name": "stdout",
     "output_type": "stream",
     "text": [
      "Best Score: 0.991052351294834\n",
      "Best Hyperparameters: {'warm_start': True, 'tol': 0.0006, 'selection': 'cyclic', 'normalize': False, 'l1_ratio': 1.0333333333333334, 'fit_intercept': False, 'copy_X': False, 'alpha': 0.005}\n"
     ]
    }
   ],
   "source": [
    "# summarize result\n",
    "print('Best Score: %s' % mtask0.best_score_)\n",
    "print('Best Hyperparameters: %s' % mtask0.best_params_)"
   ]
  },
  {
   "cell_type": "code",
   "execution_count": 65,
   "metadata": {},
   "outputs": [
    {
     "name": "stdout",
     "output_type": "stream",
     "text": [
      "R2: 0.9907340718253873\n",
      "EVS 0.9907340788900089\n",
      "MAE 0.22493605198946276\n"
     ]
    }
   ],
   "source": [
    "from sklearn.metrics import r2_score, explained_variance_score, mean_absolute_error\n",
    "\n",
    "print(\"R2:\", r2_score(                 y_test,mtask0.predict(X_test)))\n",
    "print(\"EVS\", explained_variance_score( y_test,mtask0.predict(X_test)))\n",
    "print(\"MAE\", mean_absolute_error(      y_test,mtask0.predict(X_test)))"
   ]
  },
  {
   "cell_type": "markdown",
   "metadata": {},
   "source": [
    "<a name=\"LAR\"></a>\n",
    "\n",
    "## 2.5) Least Angle Regression Model (LAR)\n",
    "\n",
    "- ir para [Menu Principal](#navegacao)\n",
    "- ir para [Train/Test partition](#partition)\n",
    "- ir para [Random Search Tunning](#randomsearch)\n",
    "- ir para [Grid Search Tunning](#gridsearch)"
   ]
  },
  {
   "cell_type": "code",
   "execution_count": 66,
   "metadata": {},
   "outputs": [
    {
     "name": "stdout",
     "output_type": "stream",
     "text": [
      "Wall time: 10.2 s\n"
     ]
    },
    {
     "data": {
      "text/plain": [
       "RandomizedSearchCV(cv=3, error_score='raise-deprecating',\n",
       "                   estimator=LassoLars(alpha=1.0, copy_X=True,\n",
       "                                       eps=2.220446049250313e-16,\n",
       "                                       fit_intercept=True, fit_path=True,\n",
       "                                       max_iter=500, normalize=True,\n",
       "                                       positive=False, precompute='auto',\n",
       "                                       verbose=False),\n",
       "                   iid='warn', n_iter=75, n_jobs=None,\n",
       "                   param_distributions={'alpha': [0.0033333333333333335,\n",
       "                                                  0.03666666666666667, 0.07,\n",
       "                                                  0.10333...\n",
       "                                        'eps': [10.0, 11.0, 12.0, 13.0, 14.0,\n",
       "                                                15.0, 16.0, 17.0, 18.0, 19.0,\n",
       "                                                20.0, 21.0, 22.0, 23.0, 24.0,\n",
       "                                                25.0, 26.0, 27.0, 28.0, 29.0,\n",
       "                                                30.0, 31.0, 32.0, 33.0, 34.0,\n",
       "                                                35.0, 36.0, 37.0, 38.0, 39.0, ...],\n",
       "                                        'fit_intercept': [False, True],\n",
       "                                        'fit_path': [False, True],\n",
       "                                        'normalize': [False, True],\n",
       "                                        'positive': [False, True]},\n",
       "                   pre_dispatch='2*n_jobs', random_state=666, refit=True,\n",
       "                   return_train_score=False, scoring=None, verbose=0)"
      ]
     },
     "execution_count": 66,
     "metadata": {},
     "output_type": "execute_result"
    }
   ],
   "source": [
    "%%time\n",
    "from sklearn import linear_model\n",
    "\n",
    "space = dict()\n",
    "space['alpha']          = [row/300 for row in range(1,900,10)]\n",
    "space['fit_intercept']  = [False,True]\n",
    "space['fit_path']       = [False,True]\n",
    "space['normalize']      = [False,True]\n",
    "space['copy_X']         = [False,True]\n",
    "space['positive']       = [False,True]\n",
    "space['eps']            = [row/100 for row in range(1000,10000,100)]\n",
    "\n",
    "lars = linear_model.LassoLars()\n",
    "\n",
    "lars0 = RandomizedSearchCV(lars, space, cv=3,  n_iter=75, random_state=666)\n",
    "\n",
    "lars0.fit(X_train, y_train)"
   ]
  },
  {
   "cell_type": "code",
   "execution_count": 67,
   "metadata": {},
   "outputs": [
    {
     "name": "stdout",
     "output_type": "stream",
     "text": [
      "Best Score: 0.990968527258223\n",
      "Best Hyperparameters: {'positive': False, 'normalize': True, 'fit_path': False, 'fit_intercept': False, 'eps': 22.0, 'copy_X': False, 'alpha': 0.03666666666666667}\n"
     ]
    }
   ],
   "source": [
    "# summarize result\n",
    "print('Best Score: %s' % lars0.best_score_) #Best Score: 0.9471256547797681\n",
    "print('Best Hyperparameters: %s' % lars0.best_params_)"
   ]
  },
  {
   "cell_type": "code",
   "execution_count": 68,
   "metadata": {},
   "outputs": [
    {
     "name": "stdout",
     "output_type": "stream",
     "text": [
      "R2: 0.9906394974188831\n",
      "EVS 0.9906396949717318\n",
      "MAE 0.2293304026831187\n"
     ]
    }
   ],
   "source": [
    "from sklearn.metrics import r2_score, explained_variance_score, mean_absolute_error\n",
    "\n",
    "print(\"R2:\", r2_score(                 y_test,lars0.predict(X_test)))\n",
    "print(\"EVS\", explained_variance_score( y_test,lars0.predict(X_test)))\n",
    "print(\"MAE\", mean_absolute_error(      y_test,lars0.predict(X_test)))"
   ]
  },
  {
   "cell_type": "markdown",
   "metadata": {},
   "source": [
    "<a name=\"ridge\"></a>\n",
    "\n",
    "## 2.6) Ridge Regression\n",
    "\n",
    "- ir para [Menu Principal](#navegacao)\n",
    "- ir para [Train/Test partition](#partition)\n",
    "- ir para [Random Search Tunning](#randomsearch)\n",
    "- ir para [Grid Search Tunning](#gridsearch)"
   ]
  },
  {
   "cell_type": "code",
   "execution_count": 69,
   "metadata": {},
   "outputs": [
    {
     "name": "stdout",
     "output_type": "stream",
     "text": [
      "Wall time: 55 s\n",
      "Parser   : 138 ms\n"
     ]
    },
    {
     "data": {
      "text/plain": [
       "RandomizedSearchCV(cv=3, error_score='raise-deprecating',\n",
       "                   estimator=Ridge(alpha=1.0, copy_X=True, fit_intercept=True,\n",
       "                                   max_iter=None, normalize=False,\n",
       "                                   random_state=None, solver='auto',\n",
       "                                   tol=0.001),\n",
       "                   iid='warn', n_iter=300, n_jobs=None,\n",
       "                   param_distributions={'alpha': [0.016, 0.026, 0.036, 0.046,\n",
       "                                                  0.056, 0.066, 0.076, 0.086,\n",
       "                                                  0.096, 0.106, 0.116, 0.126,\n",
       "                                                  0.136, 0.146, 0.156, 0.166,\n",
       "                                                  0.17...\n",
       "                                        'tol': [1e-05, 0.00011, 0.00021,\n",
       "                                                0.00031, 0.00041, 0.00051,\n",
       "                                                0.00061, 0.00071, 0.00081,\n",
       "                                                0.00091, 0.00101, 0.00111,\n",
       "                                                0.00121, 0.00131, 0.00141,\n",
       "                                                0.00151, 0.00161, 0.00171,\n",
       "                                                0.00181, 0.00191, 0.00201,\n",
       "                                                0.00211, 0.00221, 0.00231,\n",
       "                                                0.00241, 0.00251, 0.00261,\n",
       "                                                0.00271, 0.00281, 0.00291, ...]},\n",
       "                   pre_dispatch='2*n_jobs', random_state=666, refit=True,\n",
       "                   return_train_score=False, scoring=None, verbose=0)"
      ]
     },
     "execution_count": 69,
     "metadata": {},
     "output_type": "execute_result"
    }
   ],
   "source": [
    "%%time\n",
    "from sklearn.linear_model import Ridge\n",
    "   \n",
    "space = dict()\n",
    "space['alpha']         = [row/500 for row in range(8,100,5)]\n",
    "space['copy_X']        = [False,True]\n",
    "space['fit_intercept'] = [False,True]\n",
    "space['normalize']     = [False,True]\n",
    "space['solver']        = ['auto','svd','cholesky','lsqr','sparse_cg']\n",
    "space['tol']           = [row/100000 for row in range(1,1000,10)]\n",
    "\n",
    "ridge = Ridge()\n",
    "\n",
    "ridge0 = RandomizedSearchCV(ridge, space, cv=3,  n_iter=300 , random_state=666)\n",
    "\n",
    "ridge0.fit(X_train, y_train)"
   ]
  },
  {
   "cell_type": "code",
   "execution_count": 70,
   "metadata": {},
   "outputs": [
    {
     "name": "stdout",
     "output_type": "stream",
     "text": [
      "Best Score: 0.9918170169364112\n",
      "Best Hyperparameters: {'tol': 0.00151, 'solver': 'cholesky', 'normalize': True, 'fit_intercept': False, 'copy_X': False, 'alpha': 0.016}\n"
     ]
    }
   ],
   "source": [
    "# summarize result\n",
    "print('Best Score: %s' % ridge0.best_score_) #Best Score: 0.9581611723130965\n",
    "print('Best Hyperparameters: %s' % ridge0.best_params_)"
   ]
  },
  {
   "cell_type": "code",
   "execution_count": 71,
   "metadata": {},
   "outputs": [
    {
     "name": "stdout",
     "output_type": "stream",
     "text": [
      "R2: 0.9915792067560228\n",
      "EVS 0.9915792300898715\n",
      "MAE 0.21841804855791583\n"
     ]
    }
   ],
   "source": [
    "from sklearn.metrics import r2_score, explained_variance_score, mean_absolute_error\n",
    "\n",
    "print(\"R2:\", r2_score(                 y_test, ridge0.predict(X_test)))\n",
    "print(\"EVS\", explained_variance_score( y_test, ridge0.predict(X_test)))\n",
    "print(\"MAE\", mean_absolute_error(      y_test, ridge0.predict(X_test)))"
   ]
  },
  {
   "cell_type": "markdown",
   "metadata": {},
   "source": [
    "<a name=\"ElasNet\"></a>\n",
    "\n",
    "## 2.7) ElasticNet Regression\n",
    "\n",
    "- ir para [Menu Principal](#navegacao)\n",
    "- ir para [Train/Test partition](#partition)\n",
    "- ir para [Random Search Tunning](#randomsearch)\n",
    "- ir para [Grid Search Tunning](#gridsearch)"
   ]
  },
  {
   "cell_type": "code",
   "execution_count": 72,
   "metadata": {},
   "outputs": [
    {
     "name": "stdout",
     "output_type": "stream",
     "text": [
      "Wall time: 42.1 s\n"
     ]
    },
    {
     "data": {
      "text/plain": [
       "RandomizedSearchCV(cv=3, error_score='raise-deprecating',\n",
       "                   estimator=ElasticNet(alpha=1.0, copy_X=True,\n",
       "                                        fit_intercept=True, l1_ratio=0.5,\n",
       "                                        max_iter=1000, normalize=False,\n",
       "                                        positive=False, precompute=False,\n",
       "                                        random_state=None, selection='cyclic',\n",
       "                                        tol=0.0001, warm_start=False),\n",
       "                   iid='warn', n_iter=300, n_jobs=None,\n",
       "                   param_distributions={'alpha': [0.002, 0.012, 0.022, 0.032,\n",
       "                                                  0.0...\n",
       "                                        'precompute': [False, True],\n",
       "                                        'selection': ['cyclic', 'random'],\n",
       "                                        'tol': [0.001, 0.002, 0.003, 0.004,\n",
       "                                                0.005, 0.006, 0.007, 0.008,\n",
       "                                                0.009, 0.01, 0.011, 0.012,\n",
       "                                                0.013, 0.014, 0.015, 0.016,\n",
       "                                                0.017, 0.018, 0.019, 0.02,\n",
       "                                                0.021, 0.022, 0.023, 0.024,\n",
       "                                                0.025, 0.026, 0.027, 0.028,\n",
       "                                                0.029, 0.03, ...],\n",
       "                                        'warm_start': [False, True]},\n",
       "                   pre_dispatch='2*n_jobs', random_state=666, refit=True,\n",
       "                   return_train_score=False, scoring=None, verbose=0)"
      ]
     },
     "execution_count": 72,
     "metadata": {},
     "output_type": "execute_result"
    }
   ],
   "source": [
    "%%time\n",
    "from sklearn.linear_model import ElasticNet\n",
    "\n",
    "space = dict()\n",
    "space['alpha']         = [row/500 for row in range(1,500,5)]\n",
    "space['l1_ratio']      = [row/250 for row in range(5,1000,10)]\n",
    "space['fit_intercept'] = [False,True]\n",
    "space['normalize']     = [False,True]\n",
    "space['precompute']    = [False,True]\n",
    "space['copy_X']        = [False,True]\n",
    "space['warm_start']    = [False,True]\n",
    "space['positive']      = [False,True]\n",
    "space['selection']     = ['cyclic','random']\n",
    "space['tol']           = [row/10000 for row in range(10,10000,10)]\n",
    "\n",
    "elastic = ElasticNet()\n",
    "\n",
    "elastic0 = RandomizedSearchCV(elastic, space, cv=3,  n_iter=300, random_state=666)\n",
    "\n",
    "elastic0.fit(X_train0, y_train0)"
   ]
  },
  {
   "cell_type": "code",
   "execution_count": 73,
   "metadata": {},
   "outputs": [
    {
     "name": "stdout",
     "output_type": "stream",
     "text": [
      "Best Score: 0.9683606923477642\n",
      "Best Hyperparameters: {'warm_start': False, 'tol': 0.43, 'selection': 'random', 'precompute': True, 'positive': False, 'normalize': False, 'l1_ratio': 1.58, 'fit_intercept': True, 'copy_X': False, 'alpha': 0.002}\n"
     ]
    }
   ],
   "source": [
    "# summarize result\n",
    "print('Best Score: %s' % elastic0.best_score_) #Best Score: 0.902707307723327\n",
    "print('Best Hyperparameters: %s' % elastic0.best_params_)"
   ]
  },
  {
   "cell_type": "code",
   "execution_count": 74,
   "metadata": {},
   "outputs": [
    {
     "name": "stdout",
     "output_type": "stream",
     "text": [
      "R2: 0.9231841849747465\n",
      "EVS 0.9231845259415319\n",
      "MAE 0.03299100298768805\n"
     ]
    }
   ],
   "source": [
    "from sklearn.metrics import r2_score, explained_variance_score, mean_absolute_error\n",
    "\n",
    "print(\"R2:\", r2_score(                 y_test0, elastic0.predict(X_test0)))\n",
    "print(\"EVS\", explained_variance_score( y_test0, elastic0.predict(X_test0)))\n",
    "print(\"MAE\", mean_absolute_error(      y_test0, elastic0.predict(X_test0)))"
   ]
  },
  {
   "cell_type": "markdown",
   "metadata": {},
   "source": [
    "<a name=\"bayesian\"></a>\n",
    "\n",
    "## 2.8) Bayesian Ridge Regression\n",
    "\n",
    "- ir para [Menu Principal](#navegacao)\n",
    "- ir para [Train/Test partition](#partition)\n",
    "- ir para [Random Search Tunning](#randomsearch)\n",
    "- ir para [Grid Search Tunning](#gridsearch)"
   ]
  },
  {
   "cell_type": "code",
   "execution_count": 51,
   "metadata": {},
   "outputs": [
    {
     "name": "stdout",
     "output_type": "stream",
     "text": [
      "Wall time: 35.2 s\n"
     ]
    },
    {
     "data": {
      "text/plain": [
       "RandomizedSearchCV(cv=3, error_score='raise-deprecating',\n",
       "                   estimator=BayesianRidge(alpha_1=1e-06, alpha_2=1e-06,\n",
       "                                           compute_score=False, copy_X=True,\n",
       "                                           fit_intercept=True, lambda_1=1e-06,\n",
       "                                           lambda_2=1e-06, n_iter=800,\n",
       "                                           normalize=False, tol=0.001,\n",
       "                                           verbose=False),\n",
       "                   iid='warn', n_iter=75, n_jobs=None,\n",
       "                   param_distributions={'alpha_1': [2.5e-08, 1.275e-06,\n",
       "                                                    2.525e-06, 3.775e-06,\n",
       "                                                    5.025e...\n",
       "                                                     2.7525e-05, 2.8775e-05,\n",
       "                                                     3.0025e-05, 3.1275e-05,\n",
       "                                                     3.2525e-05, 3.3775e-05,\n",
       "                                                     3.5025e-05, 3.6275e-05, ...],\n",
       "                                        'normalize': [False, True],\n",
       "                                        'tol': [0.0002, 0.0012, 0.0022, 0.0032,\n",
       "                                                0.0042, 0.0052, 0.0062, 0.0072,\n",
       "                                                0.0082, 0.0092, 0.0102, 0.0112,\n",
       "                                                0.0122, 0.0132, 0.0142, 0.0152,\n",
       "                                                0.0162, 0.0172, 0.0182,\n",
       "                                                0.0192]},\n",
       "                   pre_dispatch='2*n_jobs', random_state=666, refit=True,\n",
       "                   return_train_score=False, scoring=None, verbose=0)"
      ]
     },
     "execution_count": 51,
     "metadata": {},
     "output_type": "execute_result"
    }
   ],
   "source": [
    "%%time\n",
    "from sklearn.linear_model import BayesianRidge\n",
    "\n",
    "space = dict()\n",
    "space['alpha_1']        = [row/40000000 for row in range(1,2000,50)]\n",
    "space['alpha_2']        = [row/40000000 for row in range(1,2000,50)]\n",
    "space['lambda_1']       = [row/40000000 for row in range(1,2000,50)]\n",
    "space['lambda_2']       = [row/40000000 for row in range(1,2000,50)]\n",
    "space['compute_score']  = [False,True]\n",
    "space['copy_X']         = [False,True]\n",
    "space['fit_intercept']  = [False,True]\n",
    "space['normalize']      = [False,True]\n",
    "space['tol']            = [row/5000 for row in range(1,100,5)]\n",
    "\n",
    "bayes = BayesianRidge(n_iter=800)\n",
    "\n",
    "bayes0 = RandomizedSearchCV(bayes, space, cv=3,  n_iter=75 , random_state=666)\n",
    "\n",
    "bayes0.fit(X_train0, y_train0.ravel())"
   ]
  },
  {
   "cell_type": "code",
   "execution_count": 51,
   "metadata": {},
   "outputs": [
    {
     "name": "stdout",
     "output_type": "stream",
     "text": [
      "Best Score: 0.9544850768185378\n",
      "Best Hyperparameters: {'tol': 0.0192, 'normalize': False, 'lambda_2': 6.275e-06, 'lambda_1': 4.1275e-05, 'fit_intercept': False, 'copy_X': False, 'compute_score': True, 'alpha_2': 4.5025e-05, 'alpha_1': 1.275e-06}\n"
     ]
    }
   ],
   "source": [
    "# summarize result\n",
    "print('Best Score: %s' % bayes0.best_score_)\n",
    "print('Best Hyperparameters: %s' % bayes0.best_params_)"
   ]
  },
  {
   "cell_type": "code",
   "execution_count": 52,
   "metadata": {},
   "outputs": [
    {
     "name": "stdout",
     "output_type": "stream",
     "text": [
      "R2: 0.9590290461883912\n",
      "EVS 0.9591084576233943\n",
      "MAE 0.017742315785688287\n"
     ]
    }
   ],
   "source": [
    "from sklearn.metrics import r2_score, explained_variance_score, mean_absolute_error\n",
    "\n",
    "print(\"R2:\", r2_score(                 y_test0, bayes0.predict(X_test0)))\n",
    "print(\"EVS\", explained_variance_score( y_test0, bayes0.predict(X_test0)))\n",
    "print(\"MAE\", mean_absolute_error(      y_test0, bayes0.predict(X_test0)))"
   ]
  },
  {
   "cell_type": "markdown",
   "metadata": {},
   "source": [
    "<a name=\"lasso\"></a>\n",
    "\n",
    "## 2.9) Lasso Regression\n",
    "\n",
    "- ir para [Menu Principal](#navegacao)\n",
    "- ir para [Train/Test partition](#partition)\n",
    "- ir para [Random Search Tunning](#randomsearch)\n",
    "- ir para [Grid Search Tunning](#gridsearch)"
   ]
  },
  {
   "cell_type": "code",
   "execution_count": 52,
   "metadata": {},
   "outputs": [
    {
     "name": "stdout",
     "output_type": "stream",
     "text": [
      "Wall time: 17.4 s\n"
     ]
    },
    {
     "data": {
      "text/plain": [
       "RandomizedSearchCV(cv=3, error_score='raise-deprecating',\n",
       "                   estimator=Lasso(alpha=1.0, copy_X=True, fit_intercept=True,\n",
       "                                   max_iter=1000, normalize=False,\n",
       "                                   positive=False, precompute=False,\n",
       "                                   random_state=None, selection='cyclic',\n",
       "                                   tol=0.0001, warm_start=False),\n",
       "                   iid='warn', n_iter=75, n_jobs=None,\n",
       "                   param_distributions={'alpha': [0.01, 0.015, 0.02, 0.025,\n",
       "                                                  0.03, 0.035, 0.04, 0.045,\n",
       "                                                  0....\n",
       "                                        'tol': [0.0001, 0.00011, 0.00012,\n",
       "                                                0.00013, 0.00014, 0.00015,\n",
       "                                                0.00016, 0.00017, 0.00018,\n",
       "                                                0.00019, 0.0002, 0.00021,\n",
       "                                                0.00022, 0.00023, 0.00024,\n",
       "                                                0.00025, 0.00026, 0.00027,\n",
       "                                                0.00028, 0.00029, 0.0003,\n",
       "                                                0.00031, 0.00032, 0.00033,\n",
       "                                                0.00034, 0.00035, 0.00036,\n",
       "                                                0.00037, 0.00038, 0.00039, ...]},\n",
       "                   pre_dispatch='2*n_jobs', random_state=666, refit=True,\n",
       "                   return_train_score=False, scoring=None, verbose=0)"
      ]
     },
     "execution_count": 52,
     "metadata": {},
     "output_type": "execute_result"
    }
   ],
   "source": [
    "%%time\n",
    "from sklearn.linear_model import Lasso\n",
    "\n",
    "space = dict()\n",
    "space['alpha']         = [row/1000 for row in range(10,100,5)]\n",
    "space['copy_X']        = [False,True]\n",
    "space['fit_intercept'] = [False,True]\n",
    "space['normalize']     = [False,True]\n",
    "space['precompute']    = [False,True]\n",
    "space['positive']      = [False,True]\n",
    "space['selection']     = ['cyclic','random']\n",
    "space['tol']           = [row/1000000 for row in range(100,10000,10)]\n",
    "\n",
    "lasso = Lasso()\n",
    "\n",
    "lasso0 = RandomizedSearchCV(lasso, space, cv=3, n_iter=75, random_state=666)\n",
    "\n",
    "lasso0.fit(X_train0, y_train0)"
   ]
  },
  {
   "cell_type": "code",
   "execution_count": 53,
   "metadata": {},
   "outputs": [
    {
     "name": "stdout",
     "output_type": "stream",
     "text": [
      "Best Score: 0.9035396626705005\n",
      "Best Hyperparameters: {'tol': 0.00233, 'selection': 'cyclic', 'precompute': True, 'positive': False, 'normalize': False, 'fit_intercept': False, 'copy_X': True, 'alpha': 0.01}\n"
     ]
    }
   ],
   "source": [
    "# summarize result\n",
    "print('Best Score: %s' % lasso0.best_score_) #Best Score: 0.8776039138486295\n",
    "print('Best Hyperparameters: %s' % lasso0.best_params_) "
   ]
  },
  {
   "cell_type": "code",
   "execution_count": 54,
   "metadata": {},
   "outputs": [
    {
     "name": "stdout",
     "output_type": "stream",
     "text": [
      "R2: 0.903587970465622\n",
      "EVS 0.9071484976304887\n",
      "MAE 0.036009073318471196\n"
     ]
    }
   ],
   "source": [
    "from sklearn.metrics import r2_score, explained_variance_score, mean_absolute_error\n",
    "\n",
    "print(\"R2:\", r2_score(                 y_test0, lasso0.predict(X_test0)))\n",
    "print(\"EVS\", explained_variance_score( y_test0, lasso0.predict(X_test0)))\n",
    "print(\"MAE\", mean_absolute_error(      y_test0, lasso0.predict(X_test0)))"
   ]
  },
  {
   "cell_type": "markdown",
   "metadata": {},
   "source": [
    "\n",
    "<a name=\"mlp\"></a>\n",
    "\n",
    "## 2.10) Multilayer Perceptron\n",
    "\n",
    "- ir para [Menu Principal](#navegacao)\n",
    "- ir para [Train/Test partition](#partition)\n",
    "- ir para [Random Search Tunning](#randomsearch)\n",
    "- ir para [Grid Search Tunning](#gridsearch)"
   ]
  },
  {
   "cell_type": "code",
   "execution_count": 75,
   "metadata": {},
   "outputs": [
    {
     "name": "stdout",
     "output_type": "stream",
     "text": [
      "Wall time: 1d 21h 15min 10s\n"
     ]
    },
    {
     "data": {
      "text/plain": [
       "RandomizedSearchCV(cv=3, error_score='raise-deprecating',\n",
       "                   estimator=MLPRegressor(activation='relu', alpha=0.0001,\n",
       "                                          batch_size='auto', beta_1=0.9,\n",
       "                                          beta_2=0.999, early_stopping=False,\n",
       "                                          epsilon=1e-08,\n",
       "                                          hidden_layer_sizes=(100,),\n",
       "                                          learning_rate='constant',\n",
       "                                          learning_rate_init=0.001,\n",
       "                                          max_iter=2000, momentum=0.9,\n",
       "                                          n_iter_no_change=10,\n",
       "                                          nesterovs_momentum=True, power_t=0.5,\n",
       "                                          rand...\n",
       "                                        'momentum': [0.005, 0.055, 0.105, 0.155,\n",
       "                                                     0.205, 0.255, 0.305, 0.355,\n",
       "                                                     0.405, 0.455],\n",
       "                                        'nesterovs_momentum': [False, True],\n",
       "                                        'power_t': [0.02, 0.42, 0.82, 1.22,\n",
       "                                                    1.62, 2.02, 2.42, 2.82,\n",
       "                                                    3.22, 3.62],\n",
       "                                        'solver': ['lbfgs', 'sgd', 'adam'],\n",
       "                                        'tol': [2e-08, 4.02e-06, 8.02e-06,\n",
       "                                                1.202e-05, 1.602e-05],\n",
       "                                        'warm_start': [False, True]},\n",
       "                   pre_dispatch='2*n_jobs', random_state=666, refit=True,\n",
       "                   return_train_score=False, scoring=None, verbose=0)"
      ]
     },
     "execution_count": 75,
     "metadata": {},
     "output_type": "execute_result"
    }
   ],
   "source": [
    "%%time\n",
    "from sklearn.neural_network import MLPRegressor\n",
    "\n",
    "space = dict()\n",
    "space['hidden_layer_sizes']  = [(100,50), (200,25), (25,100,25), (50,50,50), (75,50,75), (80,60,80)]\n",
    "space['activation']          = ['identity','logistic','tanh','relu']\n",
    "space['solver']              = ['lbfgs', 'sgd', 'adam']\n",
    "space['alpha']               = [row/200 for row in range(1,100,10)]\n",
    "space['learning_rate']       = ['constant','invscaling','adaptive']\n",
    "space['learning_rate_init']  = [row/1000 for row in range(1,20,8)]\n",
    "space['warm_start']          = [False,True]\n",
    "space['power_t']             = [row/50 for row in range(1,200,20)]\n",
    "space['tol']                 = [row/50000000 for row in range(1,1000,200)]\n",
    "space['momentum']            = [row/200 for row in range(1,100,10)]\n",
    "space['nesterovs_momentum']  = [False,True]\n",
    "space['early_stopping']      = [False,True]\n",
    "space['beta_1']              = [row/200 for row in range(1,20,6)]\n",
    "space['beta_2']              = [row/200 for row in range(1,20,6)]\n",
    "space['epsilon']             = [row/200 for row in range(1,20,6)]\n",
    "    \n",
    "mpl = MLPRegressor(max_iter=2000)\n",
    "\n",
    "mpl0 = RandomizedSearchCV(mpl, space, cv=3,  n_iter=150, random_state=666)\n",
    "\n",
    "mpl0.fit(X_train0, y_train0.ravel())"
   ]
  },
  {
   "cell_type": "code",
   "execution_count": 76,
   "metadata": {},
   "outputs": [
    {
     "name": "stdout",
     "output_type": "stream",
     "text": [
      "Best Score: 0.9934342418902639\n",
      "Best Hyperparameters: {'warm_start': True, 'tol': 8.02e-06, 'solver': 'lbfgs', 'power_t': 2.02, 'nesterovs_momentum': True, 'momentum': 0.055, 'learning_rate_init': 0.001, 'learning_rate': 'constant', 'hidden_layer_sizes': (200, 25), 'epsilon': 0.035, 'early_stopping': False, 'beta_2': 0.065, 'beta_1': 0.005, 'alpha': 0.005, 'activation': 'relu'}\n"
     ]
    }
   ],
   "source": [
    "# summarize result\n",
    "print('Best Score: %s' % mpl0.best_score_) #Best Score: 0.9550165534562787\n",
    "print('Best Hyperparameters: %s' % mpl0.best_params_)"
   ]
  },
  {
   "cell_type": "code",
   "execution_count": 77,
   "metadata": {},
   "outputs": [
    {
     "name": "stdout",
     "output_type": "stream",
     "text": [
      "R2: 0.9932139931313203\n",
      "EVS 0.9932149339463296\n",
      "MAE 0.010078692422783772\n"
     ]
    }
   ],
   "source": [
    "from sklearn.metrics import r2_score, explained_variance_score, mean_absolute_error\n",
    "\n",
    "print(\"R2:\", r2_score(                 y_test0, mpl0.predict(X_test0)))\n",
    "print(\"EVS\", explained_variance_score( y_test0, mpl0.predict(X_test0)))\n",
    "print(\"MAE\", mean_absolute_error(      y_test0, mpl0.predict(X_test0)))"
   ]
  },
  {
   "cell_type": "markdown",
   "metadata": {},
   "source": [
    "<a name=\"nnr\"></a>\n",
    "\n",
    "## 2.11) Nearest Neighbors Regression\n",
    "\n",
    "- ir para [Menu Principal](#navegacao)\n",
    "- ir para [Train/Test partition](#partition)\n",
    "- ir para [Random Search Tunning](#randomsearch)\n",
    "- ir para [Grid Search Tunning](#gridsearch)"
   ]
  },
  {
   "cell_type": "code",
   "execution_count": null,
   "metadata": {},
   "outputs": [],
   "source": [
    "%%time\n",
    "from sklearn.neighbors import KNeighborsRegressor\n",
    "\n",
    "space = dict()\n",
    "space['n_neighbors'] = [row for row in range(4,10)]\n",
    "space['weights']     = ['uniform', 'distance']\n",
    "space['algorithm']   = ['auto', 'ball_tree', 'kd_tree', 'brute']\n",
    "space['leaf_size']   = [row for row in range(10,50)]\n",
    "space['p']           = [row for row in range(2,8)]\n",
    "    \n",
    "knn = KNeighborsRegressor()\n",
    "\n",
    "knn0 = RandomizedSearchCV(knn, space, cv=3, random_state=666, n_iter=75)\n",
    "\n",
    "knn0.fit(X_train0, y_train0)"
   ]
  },
  {
   "cell_type": "code",
   "execution_count": null,
   "metadata": {},
   "outputs": [],
   "source": [
    "# summarize result\n",
    "print('Best Score: %s' % knn0.best_score_)\n",
    "print('Best Hyperparameters: %s' % knn0.best_params_)"
   ]
  },
  {
   "cell_type": "code",
   "execution_count": null,
   "metadata": {},
   "outputs": [],
   "source": [
    "from sklearn.metrics import r2_score, explained_variance_score, mean_absolute_error\n",
    "\n",
    "print(\"R2:\", r2_score(                 y_test0, knn0.predict(X_test0)))\n",
    "print(\"EVS\", explained_variance_score( y_test0, knn0.predict(X_test0)))\n",
    "print(\"MAE\", mean_absolute_error(      y_test0, knn0.predict(X_test0)))"
   ]
  },
  {
   "cell_type": "markdown",
   "metadata": {},
   "source": [
    "<a name=\"resumo_rs\"></a>\n",
    "\n",
    "## 2.12) Resumo dos resultados\n",
    "\n",
    "- ir para [Menu Principal](#navegacao)\n",
    "- ir para [Train/Test partition](#partition)\n",
    "- ir para [Random Search Tunning](#randomsearch)\n",
    "- ir para [Grid Search Tunning](#gridsearch)"
   ]
  },
  {
   "cell_type": "code",
   "execution_count": 89,
   "metadata": {},
   "outputs": [],
   "source": [
    "R2_mpl      = r2_score(                 y_test0, mpl0.predict(X_test0))\n",
    "EVS_mpl     = explained_variance_score( y_test0, mpl0.predict(X_test0))\n",
    "MAE_mpl     = mean_absolute_error(      y_test0, mpl0.predict(X_test0))\n",
    "\n",
    "R2_lasso    = r2_score(                 y_test0, lasso0.predict(X_test0))\n",
    "EVS_lasso   = explained_variance_score( y_test0, lasso0.predict(X_test0))\n",
    "MAE_lasso   = mean_absolute_error(      y_test0, lasso0.predict(X_test0))\n",
    "\n",
    "R2_bayes    = r2_score(                 y_test0, bayes0.predict(X_test0))\n",
    "EVS_bayes   = explained_variance_score( y_test0, bayes0.predict(X_test0))\n",
    "MAE_bayes   = mean_absolute_error(      y_test0, bayes0.predict(X_test0))\n",
    "\n",
    "R2_elastic  = r2_score(                 y_test0, elastic0.predict(X_test0))\n",
    "EVS_elastic = explained_variance_score( y_test0, elastic0.predict(X_test0))\n",
    "MAE_elastic = mean_absolute_error(      y_test0, elastic0.predict(X_test0))\n",
    "\n",
    "R2_ridge    = r2_score(                 y_test , ridge0.predict(X_test))\n",
    "EVS_ridge   = explained_variance_score( y_test , ridge0.predict(X_test))\n",
    "MAE_ridge   = mean_absolute_error(      y_test , ridge0.predict(X_test))\n",
    "\n",
    "R2_lars     = r2_score(                 y_test ,lars0.predict(X_test))\n",
    "EVS_lars    = explained_variance_score( y_test ,lars0.predict(X_test))\n",
    "MAE_lars    = mean_absolute_error(      y_test ,lars0.predict(X_test))\n",
    "\n",
    "R2_sgd      = r2_score(                 y_test ,sgd0.predict(X_test))\n",
    "EVS_sgd     = explained_variance_score( y_test ,sgd0.predict(X_test))\n",
    "MAE_sgd     = mean_absolute_error(      y_test ,sgd0.predict(X_test))\n",
    "\n",
    "R2_svm      = r2_score(                 y_test ,svm0.predict(X_test))\n",
    "EVS_svm     = explained_variance_score( y_test ,svm0.predict(X_test))\n",
    "MAE_svm     = mean_absolute_error(      y_test ,svm0.predict(X_test))\n",
    "\n",
    "R2_elm      = r2_score(                 y_test ,elm0.predict(X_test))\n",
    "EVS_elm     = explained_variance_score( y_test ,elm0.predict(X_test))\n",
    "MAE_elm     = mean_absolute_error(      y_test ,elm0.predict(X_test))\n",
    "\n",
    "R2_knn      = r2_score(                 y_test0, knn0.predict(X_test0))\n",
    "EVS_knn     = explained_variance_score( y_test0, knn0.predict(X_test0))\n",
    "MAE_knn     = mean_absolute_error(      y_test0, knn0.predict(X_test0))\n"
   ]
  },
  {
   "cell_type": "code",
   "execution_count": 90,
   "metadata": {},
   "outputs": [],
   "source": [
    "RSQ = [R2_mpl , R2_lasso , R2_bayes , R2_elastic   , R2_ridge  , R2_lars  , R2_sgd , R2_svm , R2_elm , R2_knn]\n",
    "EVS = [EVS_mpl, EVS_lasso, EVS_bayes, EVS_elastic  , EVS_ridge , EVS_lars , EVS_sgd, EVS_svm, EVS_elm, EVS_knn]\n",
    "MAE = [MAE_mpl, MAE_lasso, MAE_bayes, MAE_elastic  , MAE_ridge , MAE_lars , MAE_sgd, MAE_svm, MAE_elm, MAE_knn]\n",
    "MOD = ['MLP'  , 'Lasso'  , 'Bayes'  ,'Elastic Net' , 'Ridge'   , 'LARS'   , 'SGD'  ,'SVM Reg', 'ELM' , 'KNN']\n",
    "BHY = [ mpl0.best_params_ ,lasso0.best_params_  ,bayes0.best_params_  ,elastic0.best_params_ ,ridge0.best_params_ ,\n",
    "        lars0.best_params_ ,sgd0.best_params_  ,svm0.best_params_ ,elm0.best_params_  ,knn0.best_params_]"
   ]
  },
  {
   "cell_type": "code",
   "execution_count": 91,
   "metadata": {},
   "outputs": [],
   "source": [
    "resumo_rs = {'Mod' : MOD, \n",
    "             'R2'  : RSQ, \n",
    "             'EVS' : EVS, \n",
    "             'MAE' : MAE,\n",
    "             'BHY' : BHY}"
   ]
  },
  {
   "cell_type": "code",
   "execution_count": 92,
   "metadata": {},
   "outputs": [
    {
     "data": {
      "text/html": [
       "<div>\n",
       "<style scoped>\n",
       "    .dataframe tbody tr th:only-of-type {\n",
       "        vertical-align: middle;\n",
       "    }\n",
       "\n",
       "    .dataframe tbody tr th {\n",
       "        vertical-align: top;\n",
       "    }\n",
       "\n",
       "    .dataframe thead th {\n",
       "        text-align: right;\n",
       "    }\n",
       "</style>\n",
       "<table border=\"1\" class=\"dataframe\">\n",
       "  <thead>\n",
       "    <tr style=\"text-align: right;\">\n",
       "      <th></th>\n",
       "      <th>Mod</th>\n",
       "      <th>R2</th>\n",
       "      <th>EVS</th>\n",
       "      <th>MAE</th>\n",
       "      <th>BHY</th>\n",
       "    </tr>\n",
       "  </thead>\n",
       "  <tbody>\n",
       "    <tr>\n",
       "      <th>0</th>\n",
       "      <td>MLP</td>\n",
       "      <td>0.955204</td>\n",
       "      <td>0.955288</td>\n",
       "      <td>0.017714</td>\n",
       "      <td>{'warm_start': True, 'tol': 8.02e-06, 'solver'...</td>\n",
       "    </tr>\n",
       "    <tr>\n",
       "      <th>1</th>\n",
       "      <td>Lasso</td>\n",
       "      <td>0.908398</td>\n",
       "      <td>0.956472</td>\n",
       "      <td>0.035478</td>\n",
       "      <td>{'tol': 0.00233, 'selection': 'cyclic', 'preco...</td>\n",
       "    </tr>\n",
       "    <tr>\n",
       "      <th>2</th>\n",
       "      <td>Bayes</td>\n",
       "      <td>0.959029</td>\n",
       "      <td>0.959108</td>\n",
       "      <td>0.017742</td>\n",
       "      <td>{'tol': 0.0192, 'normalize': False, 'lambda_2'...</td>\n",
       "    </tr>\n",
       "    <tr>\n",
       "      <th>3</th>\n",
       "      <td>Elastic Net</td>\n",
       "      <td>0.885522</td>\n",
       "      <td>0.954300</td>\n",
       "      <td>0.041032</td>\n",
       "      <td>{'warm_start': False, 'tol': 0.131, 'selection...</td>\n",
       "    </tr>\n",
       "    <tr>\n",
       "      <th>4</th>\n",
       "      <td>Ridge</td>\n",
       "      <td>0.953250</td>\n",
       "      <td>0.953273</td>\n",
       "      <td>0.086062</td>\n",
       "      <td>{'tol': 0.00681, 'solver': 'cholesky', 'normal...</td>\n",
       "    </tr>\n",
       "    <tr>\n",
       "      <th>5</th>\n",
       "      <td>LARS</td>\n",
       "      <td>0.948160</td>\n",
       "      <td>0.948177</td>\n",
       "      <td>0.090254</td>\n",
       "      <td>{'positive': False, 'normalize': True, 'fit_pa...</td>\n",
       "    </tr>\n",
       "    <tr>\n",
       "      <th>6</th>\n",
       "      <td>SGD</td>\n",
       "      <td>0.896835</td>\n",
       "      <td>0.896841</td>\n",
       "      <td>0.145870</td>\n",
       "      <td>{'tol': 0.0012, 'power_t': 0.48333333333333334...</td>\n",
       "    </tr>\n",
       "    <tr>\n",
       "      <th>7</th>\n",
       "      <td>SVM Reg</td>\n",
       "      <td>-494.500742</td>\n",
       "      <td>0.075403</td>\n",
       "      <td>15.077866</td>\n",
       "      <td>{'tol': 0.028, 'shrinking': True, 'kernel': 's...</td>\n",
       "    </tr>\n",
       "    <tr>\n",
       "      <th>8</th>\n",
       "      <td>ELM</td>\n",
       "      <td>0.952405</td>\n",
       "      <td>0.952419</td>\n",
       "      <td>0.086448</td>\n",
       "      <td>{'hidden_layer__rbf_width': 0.0125, 'hidden_la...</td>\n",
       "    </tr>\n",
       "    <tr>\n",
       "      <th>9</th>\n",
       "      <td>KNN</td>\n",
       "      <td>0.955125</td>\n",
       "      <td>0.955190</td>\n",
       "      <td>0.019260</td>\n",
       "      <td>{'weights': 'distance', 'p': 3, 'n_neighbors':...</td>\n",
       "    </tr>\n",
       "  </tbody>\n",
       "</table>\n",
       "</div>"
      ],
      "text/plain": [
       "           Mod          R2       EVS        MAE  \\\n",
       "0          MLP    0.955204  0.955288   0.017714   \n",
       "1        Lasso    0.908398  0.956472   0.035478   \n",
       "2        Bayes    0.959029  0.959108   0.017742   \n",
       "3  Elastic Net    0.885522  0.954300   0.041032   \n",
       "4        Ridge    0.953250  0.953273   0.086062   \n",
       "5         LARS    0.948160  0.948177   0.090254   \n",
       "6          SGD    0.896835  0.896841   0.145870   \n",
       "7      SVM Reg -494.500742  0.075403  15.077866   \n",
       "8          ELM    0.952405  0.952419   0.086448   \n",
       "9          KNN    0.955125  0.955190   0.019260   \n",
       "\n",
       "                                                 BHY  \n",
       "0  {'warm_start': True, 'tol': 8.02e-06, 'solver'...  \n",
       "1  {'tol': 0.00233, 'selection': 'cyclic', 'preco...  \n",
       "2  {'tol': 0.0192, 'normalize': False, 'lambda_2'...  \n",
       "3  {'warm_start': False, 'tol': 0.131, 'selection...  \n",
       "4  {'tol': 0.00681, 'solver': 'cholesky', 'normal...  \n",
       "5  {'positive': False, 'normalize': True, 'fit_pa...  \n",
       "6  {'tol': 0.0012, 'power_t': 0.48333333333333334...  \n",
       "7  {'tol': 0.028, 'shrinking': True, 'kernel': 's...  \n",
       "8  {'hidden_layer__rbf_width': 0.0125, 'hidden_la...  \n",
       "9  {'weights': 'distance', 'p': 3, 'n_neighbors':...  "
      ]
     },
     "execution_count": 92,
     "metadata": {},
     "output_type": "execute_result"
    }
   ],
   "source": [
    "pd_resumo_rs = pd.DataFrame(data=resumo_rs)\n",
    "pd_resumo_rs"
   ]
  },
  {
   "cell_type": "code",
   "execution_count": 66,
   "metadata": {},
   "outputs": [],
   "source": [
    "pd_resumo_rs.to_csv('resumo_rs.csv')"
   ]
  },
  {
   "cell_type": "markdown",
   "metadata": {},
   "source": [
    "<a name=\"gridsearch\"></a>\n",
    "\n",
    "# Grid Serach Hyperparameter Tunning\n",
    "\n",
    "\n",
    "- [Extreme Learning Machine](#elm2)\n",
    "- [Suport Vector Machine](#svm2)\n",
    "- [Stochastic Gradient Descent](#sgd2)\n",
    "- [Multi-Task Elastic-Net](#elastic2)\n",
    "- [Least Angle Regression Model (LAR)](#LAR2)\n",
    "- [Ridge Regression](#ridge2)\n",
    "- [ElasticNet Regression](#ElasNet2)\n",
    "- [Bayesian Ridge](#bayesian2)\n",
    "- [Lasso Regression](#lasso2)\n",
    "- [Multilayer Perceptron Regression](#mlp2)\n",
    "- [Nearest Neighbors Regression](#nnr2)\n"
   ]
  },
  {
   "cell_type": "markdown",
   "metadata": {},
   "source": [
    "<a name=\"elm2\"></a>\n",
    "\n",
    "## 3.1) Extreme learning machine\n",
    "\n",
    "- ir para [Menu Principal](#navegacao)\n",
    "- ir para [Train/Test partition](#partition)\n",
    "- ir para [Random Search Tunning](#randomsearch)\n",
    "- ir para [Grid Search Tunning](#gridsearch)"
   ]
  },
  {
   "cell_type": "code",
   "execution_count": 2,
   "metadata": {},
   "outputs": [
    {
     "data": {
      "text/plain": [
       "0.125"
      ]
     },
     "execution_count": 2,
     "metadata": {},
     "output_type": "execute_result"
    }
   ],
   "source": [
    "0.1375-0.0125"
   ]
  },
  {
   "cell_type": "code",
   "execution_count": 35,
   "metadata": {},
   "outputs": [
    {
     "name": "stdout",
     "output_type": "stream",
     "text": [
      "Wall time: 1min 53s\n"
     ]
    },
    {
     "data": {
      "text/plain": [
       "GridSearchCV(cv=3, estimator=GenELMRegressor(hidden_layer=RBFRandomLayer()),\n",
       "             param_grid={'hidden_layer__activation_args': [{'power': 1.5},\n",
       "                                                           {'power': 2.5},\n",
       "                                                           {'power': 3.0},\n",
       "                                                           {'power': 3.5},\n",
       "                                                           {'power': 4.0},\n",
       "                                                           {'power': 4.5},\n",
       "                                                           {'power': 5.5},\n",
       "                                                           {'power': 6.5}],\n",
       "                         'hidden_layer__activation_func': ['tanh', 'sine',\n",
       "                                                           'tribas', 'sigmoid',\n",
       "                                                           'hardlim', 'softlim',\n",
       "                                                           'gaussian',\n",
       "                                                           'multiquadric',\n",
       "                                                           'inv_multiquadric'],\n",
       "                         'hidden_layer__n_hidden': [2, 6, 10, 14, 18],\n",
       "                         'hidden_layer__rbf_width': [0.0125, 0.1375, 0.2625,\n",
       "                                                     0.3875, 0.5125, 0.6375,\n",
       "                                                     0.7625, 0.8875]})"
      ]
     },
     "execution_count": 35,
     "metadata": {},
     "output_type": "execute_result"
    }
   ],
   "source": [
    "%%time\n",
    "from elmx import ELMClassifier, ELMRegressor, GenELMClassifier, GenELMRegressor\n",
    "from random_layer import RandomLayer, MLPRandomLayer, RBFRandomLayer, GRBFRandomLayer\n",
    "\n",
    "space = dict()\n",
    "space['hidden_layer__activation_func'] = ['tanh','sine','tribas','sigmoid','hardlim','softlim','gaussian','multiquadric','inv_multiquadric']\n",
    "space['hidden_layer__n_hidden']        = [row for row in range(2,20,4)]\n",
    "space['hidden_layer__rbf_width']       = [row/80 for row in range(1,80,10)]\n",
    "space['hidden_layer__activation_args'] = [{'power':1.5}, {'power':2.5}, {'power':3.0}, {'power':3.5},\n",
    "                                          {'power':4.0}, {'power':4.5}, {'power':5.5}, {'power':6.5}]\n",
    "\n",
    "elm = GenELMRegressor(hidden_layer= RBFRandomLayer() )\n",
    "\n",
    "elm1= GridSearchCV(elm, space, cv=3)\n",
    "\n",
    "elm1.fit(X_train, y_train)"
   ]
  },
  {
   "cell_type": "code",
   "execution_count": 36,
   "metadata": {},
   "outputs": [
    {
     "name": "stdout",
     "output_type": "stream",
     "text": [
      "Best Score: 0.9554508542438648\n",
      "Best Hyperparameters: {'hidden_layer__activation_args': {'power': 4.0}, 'hidden_layer__activation_func': 'inv_multiquadric', 'hidden_layer__n_hidden': 14, 'hidden_layer__rbf_width': 0.0125}\n"
     ]
    }
   ],
   "source": [
    "# summarize result\n",
    "print('Best Score: %s' % elm1.best_score_) #Best Score: 0.0.9501519111182998\n",
    "print('Best Hyperparameters: %s' % elm1.best_params_)"
   ]
  },
  {
   "cell_type": "code",
   "execution_count": 37,
   "metadata": {},
   "outputs": [
    {
     "name": "stdout",
     "output_type": "stream",
     "text": [
      "R2: 0.9609808590880473\n",
      "EVS 0.9609811717093774\n",
      "MAE 0.08183364801158495\n",
      "Wall time: 18.4 ms\n"
     ]
    }
   ],
   "source": [
    "%%time\n",
    "from sklearn.metrics import r2_score, explained_variance_score, mean_absolute_error\n",
    "\n",
    "print(\"R2:\", r2_score(                 y_test,elm1.predict(X_test)))\n",
    "print(\"EVS\", explained_variance_score( y_test,elm1.predict(X_test)))\n",
    "print(\"MAE\", mean_absolute_error(      y_test,elm1.predict(X_test)))"
   ]
  },
  {
   "cell_type": "markdown",
   "metadata": {},
   "source": [
    "<a name=\"svm2\"></a>\n",
    "\n",
    "## 3.2) Suport Vector Machine\n",
    "\n",
    "- ir para [Menu Principal](#navegacao)\n",
    "- ir para [Train/Test partition](#partition)\n",
    "- ir para [Random Search Tunning](#randomsearch)\n",
    "- ir para [Grid Search Tunning](#gridsearch)"
   ]
  },
  {
   "cell_type": "code",
   "execution_count": 47,
   "metadata": {},
   "outputs": [
    {
     "name": "stdout",
     "output_type": "stream",
     "text": [
      "Wall time: 37min 2s\n"
     ]
    },
    {
     "data": {
      "text/plain": [
       "GridSearchCV(cv=3, estimator=SVR(),\n",
       "             param_grid={'C': [0.02, 0.18, 0.34, 0.5, 0.66, 0.82, 0.98, 1.14,\n",
       "                               1.3, 1.46, 1.62, 1.78, 1.94],\n",
       "                         'coef0': [0.02, 0.18, 0.34, 0.5, 0.66, 0.82, 0.98,\n",
       "                                   1.14, 1.3, 1.46, 1.62, 1.78, 1.94],\n",
       "                         'degree': [0.002, 0.022, 0.042, 0.062, 0.082, 0.102,\n",
       "                                    0.122, 0.142, 0.162, 0.182, 0.202, 0.222,\n",
       "                                    0.242, 0.262, 0.282, 0.302, 0.322, 0.342,\n",
       "                                    0.362, 0.382, 0.402, 0.422, 0.442, 0.462,\n",
       "                                    0.482],\n",
       "                         'epsilon': [0.2, 0.36, 0.52, 0.68, 0.84],\n",
       "                         'gamma': ['scale'], 'kernel': ['rbf'],\n",
       "                         'shrinking': [True],\n",
       "                         'tol': [0.0005, 0.0105, 0.0205, 0.0305, 0.0405, 0.0505,\n",
       "                                 0.0605, 0.0705, 0.0805, 0.0905]})"
      ]
     },
     "execution_count": 47,
     "metadata": {},
     "output_type": "execute_result"
    }
   ],
   "source": [
    "%%time\n",
    "from sklearn.svm import SVR\n",
    "    \n",
    "# define search space\n",
    "space = dict()\n",
    "space['kernel']    = ['rbf']\n",
    "#space['kernel']    = ['linear','poly','rbf','sigmoid']\n",
    "space['gamma']     = ['scale']\n",
    "space['coef0']     = [row/50 for row in range(1,100,8)]\n",
    "space['C']         = [row/50 for row in range(1,100,8)]\n",
    "space['epsilon']   = [row/25 for row in range(5,25,4)]\n",
    "space['degree']    = [row/500 for row in range(1,250,10)]\n",
    "space['tol']       = [row/2000 for row in range(1,200,20)]\n",
    "space['shrinking'] = [True] \n",
    "\n",
    "svm1= GridSearchCV(SVR(), space,  cv=3)\n",
    "\n",
    "svm1.fit(X_train0, y_train0.ravel())"
   ]
  },
  {
   "cell_type": "code",
   "execution_count": 48,
   "metadata": {},
   "outputs": [
    {
     "name": "stdout",
     "output_type": "stream",
     "text": [
      "Best Score: 0.6649117450062915\n",
      "Best Hyperparameters: {'C': 0.5, 'coef0': 0.02, 'degree': 0.002, 'epsilon': 0.2, 'gamma': 'scale', 'kernel': 'rbf', 'shrinking': True, 'tol': 0.0405}\n"
     ]
    }
   ],
   "source": [
    "# summarize result\n",
    "print('Best Score: %s' % svm1.best_score_)\n",
    "print('Best Hyperparameters: %s' % svm1.best_params_)"
   ]
  },
  {
   "cell_type": "code",
   "execution_count": 49,
   "metadata": {},
   "outputs": [
    {
     "name": "stdout",
     "output_type": "stream",
     "text": [
      "R2: 0.770933849003383\n",
      "EVS 0.8288177144557141\n",
      "MAE 0.05568750525449417\n"
     ]
    }
   ],
   "source": [
    "from sklearn.metrics import r2_score, explained_variance_score, mean_absolute_error\n",
    "\n",
    "print(\"R2:\", r2_score(                 y_test0, svm1.predict(X_test0)))\n",
    "print(\"EVS\", explained_variance_score( y_test0, svm1.predict(X_test0)))\n",
    "print(\"MAE\", mean_absolute_error(      y_test0, svm1.predict(X_test0)))"
   ]
  },
  {
   "cell_type": "markdown",
   "metadata": {},
   "source": [
    "<a name=\"sgd2\"></a>\n",
    "\n",
    "## 3.3) Stochastic Gradient Descent \n",
    "\n",
    "- ir para [Menu Principal](#navegacao)\n",
    "- ir para [Train/Test partition](#partition)\n",
    "- ir para [Random Search Tunning](#randomsearch)\n",
    "- ir para [Grid Search Tunning](#gridsearch)"
   ]
  },
  {
   "cell_type": "code",
   "execution_count": null,
   "metadata": {},
   "outputs": [],
   "source": [
    "%%time\n",
    "from sklearn.linear_model import SGDRegressor\n",
    "\n",
    "# define search space\n",
    "space = dict()\n",
    "space['alpha']          = [row/50 for row in range(40,500,10)]\n",
    "space['l1_ratio']       = [row/400 for row in range(20,100,8)] \n",
    "space['loss']           = ['squared_loss']\n",
    "space['penalty']        = ['l2']\n",
    "space['learning_rate']  = ['invscaling']\n",
    "space['epsilon']        = [row/700 for row in range(10,200,10)]\n",
    "space['eta0']           = [row/1200 for row in range(1,200,10)]\n",
    "space['power_t']        = [row/600 for row in range(60,300,10)]\n",
    "space['early_stopping'] = [False]\n",
    "space['tol']            = [row/5000 for row in range(1,60,20)]\n",
    "\n",
    "sgd = SGDRegressor(max_iter=1500)\n",
    "\n",
    "sgd1 = GridSearchCV(sgd, space, cv=3)\n",
    "\n",
    "sgd1.fit(X_train0, y_train0.ravel())"
   ]
  },
  {
   "cell_type": "code",
   "execution_count": null,
   "metadata": {},
   "outputs": [],
   "source": [
    "# summarize result\n",
    "print('Best Score: %s' % sgd1.best_score_)\n",
    "print('Best Hyperparameters: %s' % sgd1.best_params_)"
   ]
  },
  {
   "cell_type": "code",
   "execution_count": null,
   "metadata": {},
   "outputs": [],
   "source": [
    "from sklearn.metrics import r2_score, explained_variance_score, mean_absolute_error\n",
    "\n",
    "print(\"R2:\", r2_score(                 y_test0, sgd1.predict(X_test0)))\n",
    "print(\"EVS\", explained_variance_score( y_test0, sgd1.predict(X_test0)))\n",
    "print(\"MAE\", mean_absolute_error(      y_test0, sgd1.predict(X_test0)))"
   ]
  },
  {
   "cell_type": "markdown",
   "metadata": {},
   "source": [
    "<a name=\"elastic2\"></a>\n",
    "\n",
    "## 3.4) Multi-Task Elastic-Net\n",
    "\n",
    "- ir para [Menu Principal](#navegacao)\n",
    "- ir para [Train/Test partition](#partition)\n",
    "- ir para [Random Search Tunning](#randomsearch)\n",
    "- ir para [Grid Search Tunning](#gridsearch)"
   ]
  },
  {
   "cell_type": "code",
   "execution_count": 102,
   "metadata": {},
   "outputs": [
    {
     "name": "stdout",
     "output_type": "stream",
     "text": [
      "Wall time: 44.3 s\n"
     ]
    },
    {
     "data": {
      "text/plain": [
       "GridSearchCV(cv=3, estimator=MultiTaskElasticNet(max_iter=800),\n",
       "             param_grid={'alpha': [0.005, 0.605, 1.205, 1.805, 2.405, 3.005,\n",
       "                                   3.605, 4.205, 4.805, 5.405],\n",
       "                         'copy_X': [True], 'fit_intercept': [True],\n",
       "                         'l1_ratio': [0.03333333333333333, 0.7,\n",
       "                                      1.3666666666666667, 2.033333333333333,\n",
       "                                      2.7, 3.3666666666666667,\n",
       "                                      4.033333333333333, 4.7, 5.366666666666666,\n",
       "                                      6.033333333333333, 6.7, 7.366666666666666,\n",
       "                                      8.033333333333333, 8.7,\n",
       "                                      9.366666666666667],\n",
       "                         'normalize': [False],\n",
       "                         'selection': ['cyclic', 'random'],\n",
       "                         'tol': [0.0002, 0.001, 0.0018, 0.0026, 0.0034],\n",
       "                         'warm_start': [False]})"
      ]
     },
     "execution_count": 102,
     "metadata": {},
     "output_type": "execute_result"
    }
   ],
   "source": [
    "%%time\n",
    "from sklearn import linear_model\n",
    "\n",
    "space = dict()\n",
    "space['alpha']         = [row/200 for row in range(1,1200,120)]\n",
    "space['l1_ratio']      = [row/30 for row in range(1,300,20)]\n",
    "space['fit_intercept'] = [True]\n",
    "space['normalize']     = [False]\n",
    "space['warm_start']    = [False]\n",
    "space['copy_X']        = [True]\n",
    "space['selection']     = ['cyclic','random']\n",
    "space['tol']           = [row/5000 for row in range(1,20,4)]\n",
    "\n",
    "mtask = linear_model.MultiTaskElasticNet(max_iter=800)\n",
    "\n",
    "mtask1 = GridSearchCV(mtask, space, cv=3)\n",
    "\n",
    "mtask1.fit(X_train, y_train)"
   ]
  },
  {
   "cell_type": "code",
   "execution_count": 103,
   "metadata": {},
   "outputs": [
    {
     "name": "stdout",
     "output_type": "stream",
     "text": [
      "Best Score: 0.9568539998858528\n",
      "Best Hyperparameters: {'alpha': 0.005, 'copy_X': True, 'fit_intercept': True, 'l1_ratio': 0.03333333333333333, 'normalize': False, 'selection': 'cyclic', 'tol': 0.0002, 'warm_start': False}\n"
     ]
    }
   ],
   "source": [
    "# summarize result\n",
    "print('Best Score: %s' % mtask1.best_score_)\n",
    "print('Best Hyperparameters: %s' % mtask1.best_params_)"
   ]
  },
  {
   "cell_type": "code",
   "execution_count": 104,
   "metadata": {},
   "outputs": [
    {
     "name": "stdout",
     "output_type": "stream",
     "text": [
      "R2: -200.3819292706111\n",
      "EVS 0.952090224751859\n",
      "MAE 9.620150701925867\n"
     ]
    }
   ],
   "source": [
    "from sklearn.metrics import r2_score, explained_variance_score, mean_absolute_error\n",
    "\n",
    "print(\"R2:\", r2_score(                 y_test,mtask1.predict(X_test)))\n",
    "print(\"EVS\", explained_variance_score( y_test,mtask1.predict(X_test)))\n",
    "print(\"MAE\", mean_absolute_error(      y_test,mtask1.predict(X_test)))"
   ]
  },
  {
   "cell_type": "markdown",
   "metadata": {},
   "source": [
    "<a name=\"LAR2\"></a>\n",
    "\n",
    "## 3.5) Least Angle Regression Model (LAR)\n",
    "\n",
    "- ir para [Menu Principal](#navegacao)\n",
    "- ir para [Train/Test partition](#partition)\n",
    "- ir para [Random Search Tunning](#randomsearch)\n",
    "- ir para [Grid Search Tunning](#gridsearch)"
   ]
  },
  {
   "cell_type": "code",
   "execution_count": 59,
   "metadata": {},
   "outputs": [
    {
     "name": "stdout",
     "output_type": "stream",
     "text": [
      "Wall time: 3min 25s\n"
     ]
    },
    {
     "data": {
      "text/plain": [
       "GridSearchCV(cv=3, estimator=LassoLars(),\n",
       "             param_grid={'alpha': [0.0033333333333333335, 0.07,\n",
       "                                   0.13666666666666666, 0.20333333333333334,\n",
       "                                   0.27, 0.33666666666666667,\n",
       "                                   0.4033333333333333, 0.47, 0.5366666666666666,\n",
       "                                   0.6033333333333334, 0.67, 0.7366666666666667,\n",
       "                                   0.8033333333333333, 0.87, 0.9366666666666666,\n",
       "                                   1.0033333333333334, 1.07, 1.1366666666666667,\n",
       "                                   1.2033333333333334, 1.27, 1...\n",
       "                                   1.4033333333333333, 1.47, 1.5366666666666666,\n",
       "                                   1.6033333333333333, 1.67, 1.7366666666666666,\n",
       "                                   1.8033333333333332, 1.87, 1.9366666666666668, ...],\n",
       "                         'copy_X': [True],\n",
       "                         'eps': [10.0, 11.0, 12.0, 13.0, 14.0, 15.0, 16.0, 17.0,\n",
       "                                 18.0, 19.0, 20.0, 21.0, 22.0, 23.0, 24.0, 25.0,\n",
       "                                 26.0, 27.0, 28.0, 29.0, 30.0, 31.0, 32.0, 33.0,\n",
       "                                 34.0, 35.0, 36.0, 37.0, 38.0, 39.0, ...],\n",
       "                         'fit_intercept': [True], 'fit_path': [True],\n",
       "                         'normalize': [True], 'positive': [False]})"
      ]
     },
     "execution_count": 59,
     "metadata": {},
     "output_type": "execute_result"
    }
   ],
   "source": [
    "%%time\n",
    "from sklearn import linear_model\n",
    "\n",
    "space = dict()\n",
    "space['alpha']          = [row/300 for row in range(1,900,20)]\n",
    "space['fit_intercept']  = [True]\n",
    "space['fit_path']       = [True]\n",
    "space['normalize']      = [True]\n",
    "space['copy_X']         = [True]\n",
    "space['positive']       = [False]\n",
    "space['eps']            = [row/100 for row in range(1000,10000,100)]\n",
    "\n",
    "lars = linear_model.LassoLars()\n",
    "\n",
    "lars1 = GridSearchCV(lars, space, cv=3)\n",
    "\n",
    "lars1.fit(X_train, y_train)"
   ]
  },
  {
   "cell_type": "code",
   "execution_count": 60,
   "metadata": {},
   "outputs": [
    {
     "name": "stdout",
     "output_type": "stream",
     "text": [
      "Best Score: 0.13618103863881806\n",
      "Best Hyperparameters: {'alpha': 0.0033333333333333335, 'copy_X': True, 'eps': 10.0, 'fit_intercept': True, 'fit_path': True, 'normalize': True, 'positive': False}\n"
     ]
    }
   ],
   "source": [
    "# summarize result\n",
    "print('Best Score: %s' % lars1.best_score_)\n",
    "print('Best Hyperparameters: %s' % lars1.best_params_)"
   ]
  },
  {
   "cell_type": "code",
   "execution_count": 61,
   "metadata": {},
   "outputs": [
    {
     "name": "stdout",
     "output_type": "stream",
     "text": [
      "R2: 0.12340541855729359\n",
      "EVS 0.12341317784041284\n",
      "MAE 0.52586417452343\n"
     ]
    }
   ],
   "source": [
    "from sklearn.metrics import r2_score, explained_variance_score, mean_absolute_error\n",
    "\n",
    "print(\"R2:\", r2_score(                 y_test,lars1.predict(X_test)))\n",
    "print(\"EVS\", explained_variance_score( y_test,lars1.predict(X_test)))\n",
    "print(\"MAE\", mean_absolute_error(      y_test,lars1.predict(X_test)))"
   ]
  },
  {
   "cell_type": "markdown",
   "metadata": {},
   "source": [
    "<a name=\"ridge2\"></a>\n",
    "\n",
    "## 3.6) Ridge Regression\n",
    "\n",
    "- ir para [Menu Principal](#navegacao)\n",
    "- ir para [Train/Test partition](#partition)\n",
    "- ir para [Random Search Tunning](#randomsearch)\n",
    "- ir para [Grid Search Tunning](#gridsearch)"
   ]
  },
  {
   "cell_type": "code",
   "execution_count": 56,
   "metadata": {},
   "outputs": [
    {
     "name": "stdout",
     "output_type": "stream",
     "text": [
      "Wall time: 7min 44s\n"
     ]
    },
    {
     "data": {
      "text/plain": [
       "GridSearchCV(cv=3, estimator=Ridge(),\n",
       "             param_grid={'alpha': [0.016, 0.026, 0.036, 0.046, 0.056, 0.066,\n",
       "                                   0.076, 0.086, 0.096, 0.106, 0.116, 0.126,\n",
       "                                   0.136, 0.146, 0.156, 0.166, 0.176, 0.186,\n",
       "                                   0.196],\n",
       "                         'copy_X': [True], 'fit_intercept': [True],\n",
       "                         'normalize': [False],\n",
       "                         'solver': ['auto', 'svd', 'cholesky', 'lsqr',\n",
       "                                    'sparse_cg'],\n",
       "                         'tol': [1e-05, 0.00011, 0.00021, 0.00031, 0.00041,\n",
       "                                 0.00051, 0.00061, 0.00071, 0.00081, 0.00091,\n",
       "                                 0.00101, 0.00111, 0.00121, 0.00131, 0.00141,\n",
       "                                 0.00151, 0.00161, 0.00171, 0.00181, 0.00191,\n",
       "                                 0.00201, 0.00211, 0.00221, 0.00231, 0.00241,\n",
       "                                 0.00251, 0.00261, 0.00271, 0.00281, 0.00291, ...]})"
      ]
     },
     "execution_count": 56,
     "metadata": {},
     "output_type": "execute_result"
    }
   ],
   "source": [
    "%%time\n",
    "from sklearn.linear_model import Ridge\n",
    "\n",
    "space = dict()\n",
    "space['alpha']         = [row/500 for row in range(8,100,5)]\n",
    "space['copy_X']        = [True]\n",
    "space['fit_intercept'] = [True]\n",
    "space['normalize']     = [False]\n",
    "space['solver']        = ['auto','svd','cholesky','lsqr','sparse_cg']\n",
    "space['tol']           = [row/100000 for row in range(1,1000,10)]\n",
    "\n",
    "ridge = Ridge()\n",
    "\n",
    "ridge1 = GridSearchCV(ridge, space, cv=3)\n",
    "\n",
    "ridge1.fit(X_train, y_train)"
   ]
  },
  {
   "cell_type": "code",
   "execution_count": 57,
   "metadata": {},
   "outputs": [
    {
     "name": "stdout",
     "output_type": "stream",
     "text": [
      "Best Score: 0.9555557360485869\n",
      "Best Hyperparameters: {'alpha': 0.186, 'copy_X': True, 'fit_intercept': True, 'normalize': False, 'solver': 'svd', 'tol': 1e-05}\n"
     ]
    }
   ],
   "source": [
    "# summarize result\n",
    "print('Best Score: %s' % ridge1.best_score_)\n",
    "print('Best Hyperparameters: %s' % ridge1.best_params_)"
   ]
  },
  {
   "cell_type": "code",
   "execution_count": 58,
   "metadata": {},
   "outputs": [
    {
     "name": "stdout",
     "output_type": "stream",
     "text": [
      "R2: 0.9601717103695852\n",
      "EVS 0.9601992664656231\n",
      "MAE 0.08264653075280715\n"
     ]
    }
   ],
   "source": [
    "from sklearn.metrics import r2_score, explained_variance_score, mean_absolute_error\n",
    "\n",
    "print(\"R2:\", r2_score(                 y_test, ridge1.predict(X_test)))\n",
    "print(\"EVS\", explained_variance_score( y_test, ridge1.predict(X_test)))\n",
    "print(\"MAE\", mean_absolute_error(      y_test, ridge1.predict(X_test)))"
   ]
  },
  {
   "cell_type": "markdown",
   "metadata": {},
   "source": [
    "<a name=\"ElasNet2\"></a>\n",
    "\n",
    "## 3.7) ElasticNet Regression\n",
    "\n",
    "- ir para [Menu Principal](#navegacao)\n",
    "- ir para [Train/Test partition](#partition)\n",
    "- ir para [Random Search Tunning](#randomsearch)\n",
    "- ir para [Grid Search Tunning](#gridsearch)"
   ]
  },
  {
   "cell_type": "code",
   "execution_count": null,
   "metadata": {},
   "outputs": [],
   "source": [
    "%%time\n",
    "from sklearn.linear_model import ElasticNet\n",
    "\n",
    "space = dict()\n",
    "space['alpha']         = [row/500 for row in range(1,500,10)]\n",
    "space['l1_ratio']      = [row/250 for row in range(5,1000,20)]\n",
    "space['fit_intercept'] = [True]\n",
    "space['normalize']     = [False]\n",
    "space['precompute']    = [False]\n",
    "space['copy_X']        = [True]\n",
    "space['warm_start']    = [False]\n",
    "space['positive']      = [False]\n",
    "space['selection']     = ['cyclic','random']\n",
    "space['tol']           = [row/10000 for row in range(10,10000,20)]\n",
    "\n",
    "elastic = ElasticNet()\n",
    "\n",
    "elastic1 = GridSearchCV(elastic, space, cv=3)\n",
    "\n",
    "elastic1.fit(X_train, y_train)"
   ]
  },
  {
   "cell_type": "code",
   "execution_count": null,
   "metadata": {},
   "outputs": [],
   "source": [
    "# summarize result\n",
    "print('Best Score: %s' % elastic0.best_score_)\n",
    "print('Best Hyperparameters: %s' % elastic0.best_params_)"
   ]
  },
  {
   "cell_type": "code",
   "execution_count": null,
   "metadata": {},
   "outputs": [],
   "source": [
    "# summarize result\n",
    "print('Best Score: %s' % elastic0.best_score_)\n",
    "print('Best Hyperparameters: %s' % elastic0.best_params_)"
   ]
  },
  {
   "cell_type": "markdown",
   "metadata": {},
   "source": [
    "<a name=\"bayesian2\"></a>\n",
    "\n",
    "## 3.8) Bayesian Ridge Regression\n",
    "\n",
    "- ir para [Menu Principal](#navegacao)\n",
    "- ir para [Train/Test partition](#partition)\n",
    "- ir para [Random Search Tunning](#randomsearch)\n",
    "- ir para [Grid Search Tunning](#gridsearch)"
   ]
  },
  {
   "cell_type": "code",
   "execution_count": 62,
   "metadata": {},
   "outputs": [
    {
     "name": "stdout",
     "output_type": "stream",
     "text": [
      "Wall time: 1d 1h 14min 36s\n"
     ]
    },
    {
     "data": {
      "text/plain": [
       "GridSearchCV(cv=3, estimator=BayesianRidge(),\n",
       "             param_grid={'alpha_1': [2.5e-08, 2.525e-06, 5.025e-06, 7.525e-06,\n",
       "                                     1.0025e-05, 1.2525e-05, 1.5025e-05,\n",
       "                                     1.7525e-05, 2.0025e-05, 2.2525e-05,\n",
       "                                     2.5025e-05, 2.7525e-05, 3.0025e-05,\n",
       "                                     3.2525e-05, 3.5025e-05, 3.7525e-05,\n",
       "                                     4.0025e-05, 4.2525e-05, 4.5025e-05,\n",
       "                                     4.7525e-05],\n",
       "                         'alpha_2': [2.5e-08, 2.525e-06, 5.025e-06, 7.525e-06,\n",
       "                                     1.0025e-05, 1.2525e-...\n",
       "                                      4.0025e-05, 4.2525e-05, 4.5025e-05,\n",
       "                                      4.7525e-05],\n",
       "                         'lambda_2': [2.5e-08, 2.525e-06, 5.025e-06, 7.525e-06,\n",
       "                                      1.0025e-05, 1.2525e-05, 1.5025e-05,\n",
       "                                      1.7525e-05, 2.0025e-05, 2.2525e-05,\n",
       "                                      2.5025e-05, 2.7525e-05, 3.0025e-05,\n",
       "                                      3.2525e-05, 3.5025e-05, 3.7525e-05,\n",
       "                                      4.0025e-05, 4.2525e-05, 4.5025e-05,\n",
       "                                      4.7525e-05],\n",
       "                         'normalize': [False],\n",
       "                         'tol': [0.0002, 0.0022, 0.0042, 0.0062, 0.0082, 0.0102,\n",
       "                                 0.0122, 0.0142, 0.0162, 0.0182]})"
      ]
     },
     "execution_count": 62,
     "metadata": {},
     "output_type": "execute_result"
    }
   ],
   "source": [
    "%%time   \n",
    "from sklearn.linear_model import BayesianRidge\n",
    "\n",
    "space = dict()\n",
    "space['alpha_1']        = [row/40000000 for row in range(1,2000,100)]\n",
    "space['alpha_2']        = [row/40000000 for row in range(1,2000,100)]\n",
    "space['lambda_1']       = [row/40000000 for row in range(1,2000,100)]\n",
    "space['lambda_2']       = [row/40000000 for row in range(1,2000,100)]\n",
    "space['compute_score']  = [False]\n",
    "space['copy_X']         = [True]\n",
    "space['fit_intercept']  = [True]\n",
    "space['normalize']      = [False]\n",
    "space['tol']            = [row/5000 for row in range(1,100,10)]\n",
    "\n",
    "bayes = BayesianRidge()\n",
    "\n",
    "bayes1 = GridSearchCV(bayes, space, cv=3)\n",
    "\n",
    "bayes1.fit(X_train, y_train.values.ravel())"
   ]
  },
  {
   "cell_type": "code",
   "execution_count": 63,
   "metadata": {},
   "outputs": [
    {
     "name": "stdout",
     "output_type": "stream",
     "text": [
      "Best Score: 0.9553132641296713\n",
      "Best Hyperparameters: {'alpha_1': 2.5e-08, 'alpha_2': 4.7525e-05, 'compute_score': False, 'copy_X': True, 'fit_intercept': True, 'lambda_1': 4.7525e-05, 'lambda_2': 4.7525e-05, 'normalize': False, 'tol': 0.0002}\n"
     ]
    }
   ],
   "source": [
    "# summarize result\n",
    "print('Best Score: %s' % bayes1.best_score_)\n",
    "print('Best Hyperparameters: %s' % bayes1.best_params_)"
   ]
  },
  {
   "cell_type": "code",
   "execution_count": 64,
   "metadata": {},
   "outputs": [
    {
     "name": "stdout",
     "output_type": "stream",
     "text": [
      "R2: 0.9602185288479533\n",
      "EVS 0.9602484101074821\n",
      "MAE 0.08261676986087549\n"
     ]
    }
   ],
   "source": [
    "from sklearn.metrics import r2_score, explained_variance_score, mean_absolute_error\n",
    "\n",
    "print(\"R2:\", r2_score(                 y_test, bayes1.predict(X_test)))\n",
    "print(\"EVS\", explained_variance_score( y_test, bayes1.predict(X_test)))\n",
    "print(\"MAE\", mean_absolute_error(      y_test, bayes1.predict(X_test)))"
   ]
  },
  {
   "cell_type": "markdown",
   "metadata": {},
   "source": [
    "<a name=\"lasso2\"></a>\n",
    "\n",
    "## 3.9) Lasso Regression\n",
    "\n",
    "- ir para [Menu Principal](#navegacao)\n",
    "- ir para [Train/Test partition](#partition)\n",
    "- ir para [Random Search Tunning](#randomsearch)\n",
    "- ir para [Grid Search Tunning](#gridsearch)"
   ]
  },
  {
   "cell_type": "code",
   "execution_count": 50,
   "metadata": {},
   "outputs": [
    {
     "name": "stdout",
     "output_type": "stream",
     "text": [
      "Wall time: 4min 44s\n"
     ]
    },
    {
     "data": {
      "text/plain": [
       "GridSearchCV(cv=3, estimator=Lasso(),\n",
       "             param_grid={'alpha': [0.01, 0.02, 0.03, 0.04, 0.05, 0.06, 0.07,\n",
       "                                   0.08, 0.09],\n",
       "                         'copy_X': [True], 'fit_intercept': [True],\n",
       "                         'normalize': [False], 'positive': [False],\n",
       "                         'precompute': [False],\n",
       "                         'selection': ['cyclic', 'random'],\n",
       "                         'tol': [0.0001, 0.00012, 0.00014, 0.00016, 0.00018,\n",
       "                                 0.0002, 0.00022, 0.00024, 0.00026, 0.00028,\n",
       "                                 0.0003, 0.00032, 0.00034, 0.00036, 0.00038,\n",
       "                                 0.0004, 0.00042, 0.00044, 0.00046, 0.00048,\n",
       "                                 0.0005, 0.00052, 0.00054, 0.00056, 0.00058,\n",
       "                                 0.0006, 0.00062, 0.00064, 0.00066, 0.00068, ...]})"
      ]
     },
     "execution_count": 50,
     "metadata": {},
     "output_type": "execute_result"
    }
   ],
   "source": [
    "%%time\n",
    "from sklearn.linear_model import Lasso\n",
    "\n",
    "space = dict()\n",
    "space['alpha']         = [row/1000 for row in range(10,100,10)]\n",
    "space['copy_X']        = [True]\n",
    "space['fit_intercept'] = [True]\n",
    "space['normalize']     = [False]\n",
    "space['precompute']    = [False]\n",
    "space['positive']      = [False]\n",
    "space['selection']     = ['cyclic','random']\n",
    "space['tol']           = [row/1000000 for row in range(100,10000,20)]\n",
    "\n",
    "lasso = Lasso()\n",
    "\n",
    "lasso1 = GridSearchCV(lasso, space, cv=3)\n",
    "\n",
    "lasso1.fit(X_train, y_train.values.ravel())"
   ]
  },
  {
   "cell_type": "code",
   "execution_count": 51,
   "metadata": {},
   "outputs": [
    {
     "name": "stdout",
     "output_type": "stream",
     "text": [
      "Best Score: 0.948382878285614\n",
      "Best Hyperparameters: {'alpha': 0.01, 'copy_X': True, 'fit_intercept': True, 'normalize': False, 'positive': False, 'precompute': False, 'selection': 'random', 'tol': 0.00658}\n"
     ]
    }
   ],
   "source": [
    "# summarize result\n",
    "print('Best Score: %s' % lasso1.best_score_)\n",
    "print('Best Hyperparameters: %s' % lasso1.best_params_)"
   ]
  },
  {
   "cell_type": "code",
   "execution_count": 52,
   "metadata": {},
   "outputs": [
    {
     "name": "stdout",
     "output_type": "stream",
     "text": [
      "R2: 0.9540382662526427\n",
      "EVS 0.9540442153995186\n",
      "MAE 0.09152546452262968\n"
     ]
    }
   ],
   "source": [
    "from sklearn.metrics import r2_score, explained_variance_score, mean_absolute_error\n",
    "\n",
    "print(\"R2:\", r2_score(                 y_test, lasso1.predict(X_test)))\n",
    "print(\"EVS\", explained_variance_score( y_test, lasso1.predict(X_test)))\n",
    "print(\"MAE\", mean_absolute_error(      y_test, lasso1.predict(X_test)))"
   ]
  },
  {
   "cell_type": "markdown",
   "metadata": {},
   "source": [
    "<a name=\"mlp2\"></a>\n",
    "\n",
    "## 3.10) Multilayer Perceptron\n",
    "\n",
    "- ir para [Menu Principal](#navegacao)\n",
    "- ir para [Train/Test partition](#partition)\n",
    "- ir para [Random Search Tunning](#randomsearch)\n",
    "- ir para [Grid Search Tunning](#gridsearch)"
   ]
  },
  {
   "cell_type": "code",
   "execution_count": null,
   "metadata": {},
   "outputs": [],
   "source": [
    "%%time\n",
    "from sklearn.neural_network import MLPRegressor\n",
    "\n",
    "space = dict()\n",
    "space['hidden_layer_sizes']  = [(100,50), (25,100,25), (75,50,75)]\n",
    "space['activation']          = ['identity','logistic','tanh','relu']\n",
    "space['solver']              = ['lbfgs', 'sgd', 'adam']\n",
    "space['alpha']               = [row/200 for row in range(1,100,20)]\n",
    "space['learning_rate']       = ['constant','invscaling','adaptive']\n",
    "space['learning_rate_init']  = [row/1000 for row in range(1,20,10)]\n",
    "space['warm_start']          = [False]\n",
    "space['power_t']             = [row/50 for row in range(1,200,40)]\n",
    "space['tol']                 = [row/50000000 for row in range(1,1000,400)]\n",
    "space['momentum']            = [row/200 for row in range(1,100,20)]\n",
    "space['nesterovs_momentum']  = [True]\n",
    "space['early_stopping']      = [False]\n",
    "space['beta_1']              = [row/200 for row in range(1,20,12)]\n",
    "space['beta_2']              = [row/200 for row in range(1,20,12)]\n",
    "space['epsilon']             = [row/200 for row in range(1,20,12)]\n",
    "    \n",
    "mpl = MLPRegressor(max_iter=1200)\n",
    "\n",
    "mpl0 = GridSearchCV(mpl, space, cv=3 )\n",
    "\n",
    "mpl0.fit(X_train0, y_train0.ravel())"
   ]
  },
  {
   "cell_type": "code",
   "execution_count": null,
   "metadata": {},
   "outputs": [],
   "source": [
    "# summarize result\n",
    "print('Best Score: %s' % mpl1.best_score_)\n",
    "print('Best Hyperparameters: %s' % mpl1.best_params_)"
   ]
  },
  {
   "cell_type": "code",
   "execution_count": null,
   "metadata": {},
   "outputs": [],
   "source": [
    "from sklearn.metrics import r2_score, explained_variance_score, mean_absolute_error\n",
    "\n",
    "print(\"R2:\", r2_score(                 y_test0, mpl1.predict(X_test0)))\n",
    "print(\"EVS\", explained_variance_score( y_test0, mpl1.predict(X_test0)))\n",
    "print(\"MAE\", mean_absolute_error(      y_test0, mpl1.predict(X_test0)))"
   ]
  },
  {
   "cell_type": "markdown",
   "metadata": {},
   "source": [
    "<a name=\"nnr2\"></a>\n",
    "\n",
    "## 3.11) Nearest Neighbors Regression\n",
    "\n",
    "- ir para [Menu Principal](#navegacao)\n",
    "- ir para [Train/Test partition](#partition)\n",
    "- ir para [Random Search Tunning](#randomsearch)\n",
    "- ir para [Grid Search Tunning](#gridsearch)"
   ]
  },
  {
   "cell_type": "code",
   "execution_count": null,
   "metadata": {},
   "outputs": [],
   "source": [
    "%%time\n",
    "from sklearn.neighbors import KNeighborsRegressor\n",
    "\n",
    "space = dict()\n",
    "space['n_neighbors'] = [row for row in range(4,10,2)]\n",
    "space['weights']     = ['uniform', 'distance']\n",
    "space['algorithm']   = ['auto', 'ball_tree', 'kd_tree', 'brute']\n",
    "space['leaf_size']   = [row for row in range(10,50,2)]\n",
    "space['p']           = [row for row in range(2,8,2)]\n",
    "    \n",
    "knn = KNeighborsRegressor()\n",
    "\n",
    "knn1 = GridSearchCV(knn, space, cv=3)\n",
    "\n",
    "knn1.fit(X_train, y_train)"
   ]
  },
  {
   "cell_type": "code",
   "execution_count": null,
   "metadata": {},
   "outputs": [],
   "source": [
    "# summarize result\n",
    "print('Best Score: %s' % knn1.best_score_)\n",
    "print('Best Hyperparameters: %s' % knn1.best_params_)"
   ]
  },
  {
   "cell_type": "code",
   "execution_count": null,
   "metadata": {},
   "outputs": [],
   "source": [
    "from sklearn.metrics import r2_score, explained_variance_score, mean_absolute_error\n",
    "\n",
    "print(\"R2:\", r2_score(                 y_test, knn1.predict(X_test)))\n",
    "print(\"EVS\", explained_variance_score( y_test, knn1.predict(X_test)))\n",
    "print(\"MAE\", mean_absolute_error(      y_test, knn1.predict(X_test)))"
   ]
  },
  {
   "cell_type": "markdown",
   "metadata": {},
   "source": [
    "<a name=\"resumo_rs2\"></a>\n",
    "\n",
    "## 3.12) Resumo dos resultados\n",
    "\n",
    "- ir para [Menu Principal](#navegacao)\n",
    "- ir para [Train/Test partition](#partition)\n",
    "- ir para [Random Search Tunning](#randomsearch)\n",
    "- ir para [Grid Search Tunning](#gridsearch)"
   ]
  },
  {
   "cell_type": "code",
   "execution_count": null,
   "metadata": {},
   "outputs": [],
   "source": [
    "R2_mpl      = r2_score(                 y_test0, mpl1.predict(X_test0))\n",
    "EVS_mpl     = explained_variance_score( y_test0, mpl1.predict(X_test0))\n",
    "MAE_mpl     = mean_absolute_error(      y_test0, mpl1.predict(X_test0))\n",
    "\n",
    "R2_lasso    = r2_score(                 y_test0, lasso1.predict(X_test0))\n",
    "EVS_lasso   = explained_variance_score( y_test0, lasso1.predict(X_test0))\n",
    "MAE_lasso   = mean_absolute_error(      y_test0, lasso1.predict(X_test0))\n",
    "\n",
    "R2_bayes    = r2_score(                 y_test0, bayes1.predict(X_test0))\n",
    "EVS_bayes   = explained_variance_score( y_test0, bayes1.predict(X_test0))\n",
    "MAE_bayes   = mean_absolute_error(      y_test0, bayes1.predict(X_test0))\n",
    "\n",
    "R2_elastic  = r2_score(                 y_test0, elastic1.predict(X_test0))\n",
    "EVS_elastic = explained_variance_score( y_test0, elastic1.predict(X_test0))\n",
    "MAE_elastic = mean_absolute_error(      y_test0, elastic1.predict(X_test0))\n",
    "\n",
    "R2_ridge    = r2_score(                 y_test , ridge1.predict(X_test))\n",
    "EVS_ridge   = explained_variance_score( y_test , ridge1.predict(X_test))\n",
    "MAE_ridge   = mean_absolute_error(      y_test , ridge1.predict(X_test))\n",
    "\n",
    "R2_lars     = r2_score(                 y_test ,lars1.predict(X_test))\n",
    "EVS_lars    = explained_variance_score( y_test ,lars1.predict(X_test))\n",
    "MAE_lars    = mean_absolute_error(      y_test ,lars1.predict(X_test))\n",
    "\n",
    "R2_sgd      = r2_score(                 y_test ,sgd1.predict(X_test))\n",
    "EVS_sgd     = explained_variance_score( y_test ,sgd1.predict(X_test))\n",
    "MAE_sgd     = mean_absolute_error(      y_test ,sgd1.predict(X_test))\n",
    "\n",
    "R2_svm      = r2_score(                 y_test0 ,svm1.predict(X_test0))\n",
    "EVS_svm     = explained_variance_score( y_test0 ,svm1.predict(X_test0))\n",
    "MAE_svm     = mean_absolute_error(      y_test0 ,svm1.predict(X_test0))\n",
    "\n",
    "R2_elm      = r2_score(                 y_test ,elm1.predict(X_test))\n",
    "EVS_elm     = explained_variance_score( y_test ,elm1.predict(X_test))\n",
    "MAE_elm     = mean_absolute_error(      y_test ,elm1.predict(X_test))\n",
    "\n",
    "R2_knn      = r2_score(                 y_test0, knn1.predict(X_test0))\n",
    "EVS_knn     = explained_variance_score( y_test0, knn1.predict(X_test0))\n",
    "MAE_knn     = mean_absolute_error(      y_test0, knn1.predict(X_test0))"
   ]
  },
  {
   "cell_type": "code",
   "execution_count": null,
   "metadata": {},
   "outputs": [],
   "source": [
    "RSQ = [R2_mpl , R2_lasso , R2_bayes , R2_elastic   , R2_ridge  , R2_lars  , R2_sgd , R2_svm , R2_elm , R2_knn]\n",
    "EVS = [EVS_mpl, EVS_lasso, EVS_bayes, EVS_elastic  , EVS_ridge , EVS_lars , EVS_sgd, EVS_svm, EVS_elm, EVS_knn]\n",
    "MAE = [MAE_mpl, MAE_lasso, MAE_bayes, MAE_elastic  , MAE_ridge , MAE_lars , MAE_sgd, MAE_svm, MAE_elm, MAE_knn]\n",
    "MOD = ['MLP'  , 'Lasso'  , 'Bayes'  ,'Elastic Net' , 'Ridge'   , 'LARS'   , 'SGD'  ,'SVM Reg', 'ELM' , 'KNN']\n",
    "BHY = [ mpl1.best_params_ ,lasso1.best_params_  ,bayes1.best_params_  ,elastic1.best_params_ ,\n",
    "        ridge1.best_params_ ,lars1.best_params_ ,sgd1.best_params_  ,svm1.best_params_ ,\n",
    "        elm1.best_params_  ,knn1.best_params_]"
   ]
  },
  {
   "cell_type": "code",
   "execution_count": null,
   "metadata": {},
   "outputs": [],
   "source": [
    "resumo_gs = {'Mod' : MOD, \n",
    "             'R2'  : RSQ, \n",
    "             'EVS' : EVS, \n",
    "             'MAE' : MAE,\n",
    "             'BHY' : BHY}"
   ]
  },
  {
   "cell_type": "code",
   "execution_count": null,
   "metadata": {},
   "outputs": [],
   "source": [
    "resumo_gs = pd.DataFrame(data=resumo_gs)\n",
    "resumo_gs"
   ]
  },
  {
   "cell_type": "code",
   "execution_count": null,
   "metadata": {},
   "outputs": [],
   "source": [
    "pd_resumo_gs.to_csv('resumo_gs.csv')"
   ]
  },
  {
   "cell_type": "code",
   "execution_count": null,
   "metadata": {},
   "outputs": [],
   "source": []
  }
 ],
 "metadata": {
  "kernelspec": {
   "display_name": "Python 3",
   "language": "python",
   "name": "python3"
  },
  "language_info": {
   "codemirror_mode": {
    "name": "ipython",
    "version": 3
   },
   "file_extension": ".py",
   "mimetype": "text/x-python",
   "name": "python",
   "nbconvert_exporter": "python",
   "pygments_lexer": "ipython3",
   "version": "3.7.9"
  }
 },
 "nbformat": 4,
 "nbformat_minor": 2
}
