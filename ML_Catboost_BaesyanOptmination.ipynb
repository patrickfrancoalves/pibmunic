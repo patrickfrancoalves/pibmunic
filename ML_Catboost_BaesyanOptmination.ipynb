{
 "cells": [
  {
   "cell_type": "code",
   "execution_count": 1,
   "metadata": {},
   "outputs": [
    {
     "name": "stdout",
     "output_type": "stream",
     "text": [
      "0.9.1\n"
     ]
    }
   ],
   "source": [
    "import os\n",
    "import sys\n",
    "import math\n",
    "import pandas as pd\n",
    "import numpy as np\n",
    "#import matplotlib.pyplot as plt\n",
    "import catboost as cb\n",
    "import pickle\n",
    "from sklearn.model_selection import train_test_split\n",
    "from sklearn.metrics import confusion_matrix, precision_score, recall_score, accuracy_score, f1_score\n",
    "from sklearn.metrics import make_scorer, precision_recall_curve, auc\n",
    "#from sklearn.preprocessing import StandardScaler, MinMaxScaler\n",
    "#from sklearn.model_selection import RandomizedSearchCV, GridSearchCV\n",
    "from bayes_opt import BayesianOptimization\n",
    "#from sklearn.experimental import enable_halving_search_cv \n",
    "#from sklearn.model_selection import HalvingRandomSearchCV\n",
    "#from sklearn.model_selection import HalvingGridSearchCV \n",
    "from collections import Counter\n",
    "from imblearn.over_sampling import SMOTE\n",
    "from catboost import Pool, CatBoost, CatBoostClassifier\n",
    "import imblearn\n",
    "print(imblearn.__version__)"
   ]
  },
  {
   "cell_type": "markdown",
   "metadata": {},
   "source": [
    "# Menu\n",
    "\n",
    "<a name=\"navegacao\"></a>\n",
    "\n",
    "## 1) [Preparação dos dados](#parte1)\n",
    "- 1.1 [Leitura base principal](#principal)\n",
    "- 1.2 [Leitura base mes](#mes)\n",
    "- 1.3 [Leitura base hora](#hora)\n",
    "- 1.4 [Merge principal e base mensal](#merge1)\n",
    "- 1.5 [Merge principal e base hora](#merge2)\n",
    "- 1.6 [Confere marcação](#marcacao)\n",
    "\n",
    "\n",
    "## 2 [Salvando as bases de treino](#parte2)\n",
    "- 2.1 [Salvando base com histórico](#comhist)\n",
    "- 2.2 [Salvando base sem histórico](#semhist)\n"
   ]
  },
  {
   "cell_type": "markdown",
   "metadata": {},
   "source": [
    "<a name=\"principal\"></a>\n",
    "\n",
    "## 1.1) Leitura base principal\n"
   ]
  },
  {
   "cell_type": "markdown",
   "metadata": {},
   "source": [
    "## Leitura dos dados"
   ]
  },
  {
   "cell_type": "code",
   "execution_count": 2,
   "metadata": {},
   "outputs": [
    {
     "name": "stdout",
     "output_type": "stream",
     "text": [
      "Wall time: 156 ms\n"
     ]
    }
   ],
   "source": [
    "%%time\n",
    "df = pd.read_pickle(\"perfilpj.pkl\")"
   ]
  },
  {
   "cell_type": "code",
   "execution_count": 3,
   "metadata": {},
   "outputs": [],
   "source": [
    "df.replace([np.inf, -np.inf], np.nan, inplace=True)\n",
    "df.dropna(inplace=True)"
   ]
  },
  {
   "cell_type": "code",
   "execution_count": 4,
   "metadata": {},
   "outputs": [
    {
     "data": {
      "text/plain": [
       "(44691, 202)"
      ]
     },
     "execution_count": 4,
     "metadata": {},
     "output_type": "execute_result"
    }
   ],
   "source": [
    "df.shape"
   ]
  },
  {
   "cell_type": "code",
   "execution_count": 5,
   "metadata": {},
   "outputs": [
    {
     "data": {
      "text/plain": [
       "Index(['NR_CPF_CNPJ', 'DT_MVM_DWM', 'NR_CPR', 'CNAE', 'CD_NVL_RCO', 'VR_CSC',\n",
       "       'VR_ATL_IMV', 'CAPITAL_SOCIAL', 'NATJUR', 'PORTE',\n",
       "       ...\n",
       "       'spl_idade_5_0', 'spl_idade_5_1', 'spl_idade_5_2', 'spl_idade_5_3',\n",
       "       'spl_idade_5_4', 'spl_idade_5_5', 'spl_idade_5_6', 'spl_idade_5_7',\n",
       "       'spl_idade_5_8', 'spl_idade_5_9'],\n",
       "      dtype='object', length=202)"
      ]
     },
     "execution_count": 5,
     "metadata": {},
     "output_type": "execute_result"
    }
   ],
   "source": [
    "df.columns"
   ]
  },
  {
   "cell_type": "code",
   "execution_count": 6,
   "metadata": {},
   "outputs": [
    {
     "name": "stdout",
     "output_type": "stream",
     "text": [
      "Wall time: 290 ms\n"
     ]
    },
    {
     "data": {
      "text/html": [
       "<div>\n",
       "<style scoped>\n",
       "    .dataframe tbody tr th:only-of-type {\n",
       "        vertical-align: middle;\n",
       "    }\n",
       "\n",
       "    .dataframe tbody tr th {\n",
       "        vertical-align: top;\n",
       "    }\n",
       "\n",
       "    .dataframe thead th {\n",
       "        text-align: right;\n",
       "    }\n",
       "</style>\n",
       "<table border=\"1\" class=\"dataframe\">\n",
       "  <thead>\n",
       "    <tr style=\"text-align: right;\">\n",
       "      <th></th>\n",
       "      <th>spl_idade_2_0</th>\n",
       "      <th>spl_idade_2_1</th>\n",
       "      <th>spl_idade_2_2</th>\n",
       "      <th>spl_idade_2_3</th>\n",
       "      <th>spl_idade_2_4</th>\n",
       "      <th>spl_idade_2_5</th>\n",
       "      <th>spl_idade_2_6</th>\n",
       "      <th>spl_idade_2_7</th>\n",
       "      <th>spl_idade_2_8</th>\n",
       "      <th>spl_idade_2_9</th>\n",
       "      <th>...</th>\n",
       "      <th>spl_idade_5_0</th>\n",
       "      <th>spl_idade_5_1</th>\n",
       "      <th>spl_idade_5_2</th>\n",
       "      <th>spl_idade_5_3</th>\n",
       "      <th>spl_idade_5_4</th>\n",
       "      <th>spl_idade_5_5</th>\n",
       "      <th>spl_idade_5_6</th>\n",
       "      <th>spl_idade_5_7</th>\n",
       "      <th>spl_idade_5_8</th>\n",
       "      <th>spl_idade_5_9</th>\n",
       "    </tr>\n",
       "  </thead>\n",
       "  <tbody>\n",
       "    <tr>\n",
       "      <th>count</th>\n",
       "      <td>44691.000000</td>\n",
       "      <td>44691.000000</td>\n",
       "      <td>44691.000000</td>\n",
       "      <td>44691.000000</td>\n",
       "      <td>44691.000000</td>\n",
       "      <td>44691.000000</td>\n",
       "      <td>44691.000000</td>\n",
       "      <td>44691.000000</td>\n",
       "      <td>44691.0</td>\n",
       "      <td>44691.000000</td>\n",
       "      <td>...</td>\n",
       "      <td>44691.000000</td>\n",
       "      <td>44691.000000</td>\n",
       "      <td>44691.000000</td>\n",
       "      <td>44691.000000</td>\n",
       "      <td>44691.000000</td>\n",
       "      <td>44691.000000</td>\n",
       "      <td>44691.000000</td>\n",
       "      <td>44691.000000</td>\n",
       "      <td>44691.0</td>\n",
       "      <td>44691.000000</td>\n",
       "    </tr>\n",
       "    <tr>\n",
       "      <th>mean</th>\n",
       "      <td>1.367465</td>\n",
       "      <td>2.065321</td>\n",
       "      <td>1.976514</td>\n",
       "      <td>2.626068</td>\n",
       "      <td>2.376308</td>\n",
       "      <td>2.263033</td>\n",
       "      <td>3.089134</td>\n",
       "      <td>5.673474</td>\n",
       "      <td>0.0</td>\n",
       "      <td>3.603747</td>\n",
       "      <td>...</td>\n",
       "      <td>96.302340</td>\n",
       "      <td>170.609776</td>\n",
       "      <td>183.911609</td>\n",
       "      <td>273.824571</td>\n",
       "      <td>274.890267</td>\n",
       "      <td>284.840376</td>\n",
       "      <td>430.863617</td>\n",
       "      <td>947.813517</td>\n",
       "      <td>0.0</td>\n",
       "      <td>765.101069</td>\n",
       "    </tr>\n",
       "    <tr>\n",
       "      <th>std</th>\n",
       "      <td>4.625612</td>\n",
       "      <td>5.907901</td>\n",
       "      <td>6.056045</td>\n",
       "      <td>7.160614</td>\n",
       "      <td>7.125054</td>\n",
       "      <td>7.191227</td>\n",
       "      <td>8.574865</td>\n",
       "      <td>11.824995</td>\n",
       "      <td>0.0</td>\n",
       "      <td>10.727324</td>\n",
       "      <td>...</td>\n",
       "      <td>332.277566</td>\n",
       "      <td>488.907964</td>\n",
       "      <td>564.184026</td>\n",
       "      <td>747.772384</td>\n",
       "      <td>824.995540</td>\n",
       "      <td>905.707844</td>\n",
       "      <td>1198.103053</td>\n",
       "      <td>1987.008023</td>\n",
       "      <td>0.0</td>\n",
       "      <td>2320.206077</td>\n",
       "    </tr>\n",
       "    <tr>\n",
       "      <th>min</th>\n",
       "      <td>0.000000</td>\n",
       "      <td>0.000000</td>\n",
       "      <td>0.000000</td>\n",
       "      <td>0.000000</td>\n",
       "      <td>0.000000</td>\n",
       "      <td>0.000000</td>\n",
       "      <td>0.000000</td>\n",
       "      <td>0.000000</td>\n",
       "      <td>0.0</td>\n",
       "      <td>0.000000</td>\n",
       "      <td>...</td>\n",
       "      <td>0.000000</td>\n",
       "      <td>0.000000</td>\n",
       "      <td>0.000000</td>\n",
       "      <td>0.000000</td>\n",
       "      <td>0.000000</td>\n",
       "      <td>0.000000</td>\n",
       "      <td>0.000000</td>\n",
       "      <td>0.000000</td>\n",
       "      <td>0.0</td>\n",
       "      <td>0.000000</td>\n",
       "    </tr>\n",
       "    <tr>\n",
       "      <th>25%</th>\n",
       "      <td>0.000000</td>\n",
       "      <td>0.000000</td>\n",
       "      <td>0.000000</td>\n",
       "      <td>0.000000</td>\n",
       "      <td>0.000000</td>\n",
       "      <td>0.000000</td>\n",
       "      <td>0.000000</td>\n",
       "      <td>0.000000</td>\n",
       "      <td>0.0</td>\n",
       "      <td>0.000000</td>\n",
       "      <td>...</td>\n",
       "      <td>0.000000</td>\n",
       "      <td>0.000000</td>\n",
       "      <td>0.000000</td>\n",
       "      <td>0.000000</td>\n",
       "      <td>0.000000</td>\n",
       "      <td>0.000000</td>\n",
       "      <td>0.000000</td>\n",
       "      <td>0.000000</td>\n",
       "      <td>0.0</td>\n",
       "      <td>0.000000</td>\n",
       "    </tr>\n",
       "    <tr>\n",
       "      <th>50%</th>\n",
       "      <td>0.000000</td>\n",
       "      <td>0.000000</td>\n",
       "      <td>0.000000</td>\n",
       "      <td>0.000000</td>\n",
       "      <td>0.000000</td>\n",
       "      <td>0.000000</td>\n",
       "      <td>0.000000</td>\n",
       "      <td>0.000000</td>\n",
       "      <td>0.0</td>\n",
       "      <td>0.000000</td>\n",
       "      <td>...</td>\n",
       "      <td>0.000000</td>\n",
       "      <td>0.000000</td>\n",
       "      <td>0.000000</td>\n",
       "      <td>0.000000</td>\n",
       "      <td>0.000000</td>\n",
       "      <td>0.000000</td>\n",
       "      <td>0.000000</td>\n",
       "      <td>0.000000</td>\n",
       "      <td>0.0</td>\n",
       "      <td>0.000000</td>\n",
       "    </tr>\n",
       "    <tr>\n",
       "      <th>75%</th>\n",
       "      <td>0.000000</td>\n",
       "      <td>0.000000</td>\n",
       "      <td>0.000000</td>\n",
       "      <td>0.000000</td>\n",
       "      <td>0.000000</td>\n",
       "      <td>0.000000</td>\n",
       "      <td>0.000000</td>\n",
       "      <td>0.000000</td>\n",
       "      <td>0.0</td>\n",
       "      <td>0.000000</td>\n",
       "      <td>...</td>\n",
       "      <td>0.000000</td>\n",
       "      <td>0.000000</td>\n",
       "      <td>0.000000</td>\n",
       "      <td>0.000000</td>\n",
       "      <td>0.000000</td>\n",
       "      <td>0.000000</td>\n",
       "      <td>0.000000</td>\n",
       "      <td>0.000000</td>\n",
       "      <td>0.0</td>\n",
       "      <td>0.000000</td>\n",
       "    </tr>\n",
       "    <tr>\n",
       "      <th>max</th>\n",
       "      <td>18.049712</td>\n",
       "      <td>19.737150</td>\n",
       "      <td>21.207592</td>\n",
       "      <td>22.920077</td>\n",
       "      <td>24.419830</td>\n",
       "      <td>25.757389</td>\n",
       "      <td>28.072167</td>\n",
       "      <td>32.533135</td>\n",
       "      <td>0.0</td>\n",
       "      <td>48.799192</td>\n",
       "      <td>...</td>\n",
       "      <td>1384.126173</td>\n",
       "      <td>1730.657443</td>\n",
       "      <td>2071.230448</td>\n",
       "      <td>2515.012742</td>\n",
       "      <td>2946.840183</td>\n",
       "      <td>3367.089055</td>\n",
       "      <td>4175.320750</td>\n",
       "      <td>6036.910986</td>\n",
       "      <td>0.0</td>\n",
       "      <td>16635.335692</td>\n",
       "    </tr>\n",
       "  </tbody>\n",
       "</table>\n",
       "<p>8 rows × 40 columns</p>\n",
       "</div>"
      ],
      "text/plain": [
       "       spl_idade_2_0  spl_idade_2_1  spl_idade_2_2  spl_idade_2_3  \\\n",
       "count   44691.000000   44691.000000   44691.000000   44691.000000   \n",
       "mean        1.367465       2.065321       1.976514       2.626068   \n",
       "std         4.625612       5.907901       6.056045       7.160614   \n",
       "min         0.000000       0.000000       0.000000       0.000000   \n",
       "25%         0.000000       0.000000       0.000000       0.000000   \n",
       "50%         0.000000       0.000000       0.000000       0.000000   \n",
       "75%         0.000000       0.000000       0.000000       0.000000   \n",
       "max        18.049712      19.737150      21.207592      22.920077   \n",
       "\n",
       "       spl_idade_2_4  spl_idade_2_5  spl_idade_2_6  spl_idade_2_7  \\\n",
       "count   44691.000000   44691.000000   44691.000000   44691.000000   \n",
       "mean        2.376308       2.263033       3.089134       5.673474   \n",
       "std         7.125054       7.191227       8.574865      11.824995   \n",
       "min         0.000000       0.000000       0.000000       0.000000   \n",
       "25%         0.000000       0.000000       0.000000       0.000000   \n",
       "50%         0.000000       0.000000       0.000000       0.000000   \n",
       "75%         0.000000       0.000000       0.000000       0.000000   \n",
       "max        24.419830      25.757389      28.072167      32.533135   \n",
       "\n",
       "       spl_idade_2_8  spl_idade_2_9  ...  spl_idade_5_0  spl_idade_5_1  \\\n",
       "count        44691.0   44691.000000  ...   44691.000000   44691.000000   \n",
       "mean             0.0       3.603747  ...      96.302340     170.609776   \n",
       "std              0.0      10.727324  ...     332.277566     488.907964   \n",
       "min              0.0       0.000000  ...       0.000000       0.000000   \n",
       "25%              0.0       0.000000  ...       0.000000       0.000000   \n",
       "50%              0.0       0.000000  ...       0.000000       0.000000   \n",
       "75%              0.0       0.000000  ...       0.000000       0.000000   \n",
       "max              0.0      48.799192  ...    1384.126173    1730.657443   \n",
       "\n",
       "       spl_idade_5_2  spl_idade_5_3  spl_idade_5_4  spl_idade_5_5  \\\n",
       "count   44691.000000   44691.000000   44691.000000   44691.000000   \n",
       "mean      183.911609     273.824571     274.890267     284.840376   \n",
       "std       564.184026     747.772384     824.995540     905.707844   \n",
       "min         0.000000       0.000000       0.000000       0.000000   \n",
       "25%         0.000000       0.000000       0.000000       0.000000   \n",
       "50%         0.000000       0.000000       0.000000       0.000000   \n",
       "75%         0.000000       0.000000       0.000000       0.000000   \n",
       "max      2071.230448    2515.012742    2946.840183    3367.089055   \n",
       "\n",
       "       spl_idade_5_6  spl_idade_5_7  spl_idade_5_8  spl_idade_5_9  \n",
       "count   44691.000000   44691.000000        44691.0   44691.000000  \n",
       "mean      430.863617     947.813517            0.0     765.101069  \n",
       "std      1198.103053    1987.008023            0.0    2320.206077  \n",
       "min         0.000000       0.000000            0.0       0.000000  \n",
       "25%         0.000000       0.000000            0.0       0.000000  \n",
       "50%         0.000000       0.000000            0.0       0.000000  \n",
       "75%         0.000000       0.000000            0.0       0.000000  \n",
       "max      4175.320750    6036.910986            0.0   16635.335692  \n",
       "\n",
       "[8 rows x 40 columns]"
      ]
     },
     "execution_count": 6,
     "metadata": {},
     "output_type": "execute_result"
    }
   ],
   "source": [
    "%%time\n",
    "df.filter(regex='spl_idade', axis=1).describe()"
   ]
  },
  {
   "cell_type": "code",
   "execution_count": 7,
   "metadata": {},
   "outputs": [
    {
     "name": "stdout",
     "output_type": "stream",
     "text": [
      "Wall time: 0 ns\n"
     ]
    },
    {
     "data": {
      "text/plain": [
       "NR_CPF_CNPJ               object\n",
       "DT_MVM_DWM        datetime64[ns]\n",
       "NR_CPR                   float64\n",
       "CNAE                      object\n",
       "CD_NVL_RCO                object\n",
       "VR_CSC                   float64\n",
       "VR_ATL_IMV               float64\n",
       "CAPITAL_SOCIAL           float64\n",
       "NATJUR                    object\n",
       "PORTE                    float64\n",
       "QTDSOCIOS                float64\n",
       "FRAUDES                  float64\n",
       "IDADE                    float64\n",
       "TEMPO_CONTA              float64\n",
       "RENDA                    float64\n",
       "dtype: object"
      ]
     },
     "execution_count": 7,
     "metadata": {},
     "output_type": "execute_result"
    }
   ],
   "source": [
    "%%time\n",
    "#df.filter(regex='spl_', axis=1).columns[60:]\n",
    "df.dtypes.head(15)"
   ]
  },
  {
   "cell_type": "code",
   "execution_count": 10,
   "metadata": {},
   "outputs": [
    {
     "data": {
      "text/html": [
       "<div>\n",
       "<style scoped>\n",
       "    .dataframe tbody tr th:only-of-type {\n",
       "        vertical-align: middle;\n",
       "    }\n",
       "\n",
       "    .dataframe tbody tr th {\n",
       "        vertical-align: top;\n",
       "    }\n",
       "\n",
       "    .dataframe thead th {\n",
       "        text-align: right;\n",
       "    }\n",
       "</style>\n",
       "<table border=\"1\" class=\"dataframe\">\n",
       "  <thead>\n",
       "    <tr style=\"text-align: right;\">\n",
       "      <th>FRAUDES</th>\n",
       "      <th>0.0</th>\n",
       "      <th>1.0</th>\n",
       "    </tr>\n",
       "    <tr>\n",
       "      <th>DT_MVM_DWM</th>\n",
       "      <th></th>\n",
       "      <th></th>\n",
       "    </tr>\n",
       "  </thead>\n",
       "  <tbody>\n",
       "    <tr>\n",
       "      <th>2022-01-01</th>\n",
       "      <td>17</td>\n",
       "      <td>14</td>\n",
       "    </tr>\n",
       "    <tr>\n",
       "      <th>2022-02-01</th>\n",
       "      <td>9383</td>\n",
       "      <td>1118</td>\n",
       "    </tr>\n",
       "    <tr>\n",
       "      <th>2022-03-01</th>\n",
       "      <td>146</td>\n",
       "      <td>28</td>\n",
       "    </tr>\n",
       "    <tr>\n",
       "      <th>2022-04-01</th>\n",
       "      <td>115</td>\n",
       "      <td>22</td>\n",
       "    </tr>\n",
       "    <tr>\n",
       "      <th>2022-05-01</th>\n",
       "      <td>11075</td>\n",
       "      <td>798</td>\n",
       "    </tr>\n",
       "    <tr>\n",
       "      <th>2022-06-01</th>\n",
       "      <td>951</td>\n",
       "      <td>40</td>\n",
       "    </tr>\n",
       "    <tr>\n",
       "      <th>2022-07-01</th>\n",
       "      <td>717</td>\n",
       "      <td>24</td>\n",
       "    </tr>\n",
       "    <tr>\n",
       "      <th>2022-08-01</th>\n",
       "      <td>11020</td>\n",
       "      <td>181</td>\n",
       "    </tr>\n",
       "    <tr>\n",
       "      <th>2022-09-01</th>\n",
       "      <td>19</td>\n",
       "      <td>10</td>\n",
       "    </tr>\n",
       "    <tr>\n",
       "      <th>2022-10-01</th>\n",
       "      <td>22</td>\n",
       "      <td>3</td>\n",
       "    </tr>\n",
       "    <tr>\n",
       "      <th>2022-11-01</th>\n",
       "      <td>8932</td>\n",
       "      <td>0</td>\n",
       "    </tr>\n",
       "    <tr>\n",
       "      <th>2022-12-01</th>\n",
       "      <td>56</td>\n",
       "      <td>0</td>\n",
       "    </tr>\n",
       "  </tbody>\n",
       "</table>\n",
       "</div>"
      ],
      "text/plain": [
       "FRAUDES       0.0   1.0\n",
       "DT_MVM_DWM             \n",
       "2022-01-01     17    14\n",
       "2022-02-01   9383  1118\n",
       "2022-03-01    146    28\n",
       "2022-04-01    115    22\n",
       "2022-05-01  11075   798\n",
       "2022-06-01    951    40\n",
       "2022-07-01    717    24\n",
       "2022-08-01  11020   181\n",
       "2022-09-01     19    10\n",
       "2022-10-01     22     3\n",
       "2022-11-01   8932     0\n",
       "2022-12-01     56     0"
      ]
     },
     "execution_count": 10,
     "metadata": {},
     "output_type": "execute_result"
    }
   ],
   "source": [
    "pd.crosstab(df.DT_MVM_DWM, df.FRAUDES)"
   ]
  },
  {
   "cell_type": "code",
   "execution_count": 11,
   "metadata": {},
   "outputs": [
    {
     "name": "stdout",
     "output_type": "stream",
     "text": [
      "Wall time: 15 ms\n"
     ]
    },
    {
     "data": {
      "text/html": [
       "<div>\n",
       "<style scoped>\n",
       "    .dataframe tbody tr th:only-of-type {\n",
       "        vertical-align: middle;\n",
       "    }\n",
       "\n",
       "    .dataframe tbody tr th {\n",
       "        vertical-align: top;\n",
       "    }\n",
       "\n",
       "    .dataframe thead th {\n",
       "        text-align: right;\n",
       "    }\n",
       "</style>\n",
       "<table border=\"1\" class=\"dataframe\">\n",
       "  <thead>\n",
       "    <tr style=\"text-align: right;\">\n",
       "      <th></th>\n",
       "      <th>NR_CPF_CNPJ</th>\n",
       "    </tr>\n",
       "    <tr>\n",
       "      <th>FRAUDES</th>\n",
       "      <th></th>\n",
       "    </tr>\n",
       "  </thead>\n",
       "  <tbody>\n",
       "    <tr>\n",
       "      <th>0.0</th>\n",
       "      <td>42453</td>\n",
       "    </tr>\n",
       "    <tr>\n",
       "      <th>1.0</th>\n",
       "      <td>2238</td>\n",
       "    </tr>\n",
       "  </tbody>\n",
       "</table>\n",
       "</div>"
      ],
      "text/plain": [
       "         NR_CPF_CNPJ\n",
       "FRAUDES             \n",
       "0.0            42453\n",
       "1.0             2238"
      ]
     },
     "execution_count": 11,
     "metadata": {},
     "output_type": "execute_result"
    }
   ],
   "source": [
    "%%time\n",
    "df[['FRAUDES','NR_CPF_CNPJ']].groupby('FRAUDES').count()"
   ]
  },
  {
   "cell_type": "code",
   "execution_count": 12,
   "metadata": {},
   "outputs": [
    {
     "name": "stdout",
     "output_type": "stream",
     "text": [
      "Wall time: 18.9 ms\n"
     ]
    },
    {
     "data": {
      "text/html": [
       "<div>\n",
       "<style scoped>\n",
       "    .dataframe tbody tr th:only-of-type {\n",
       "        vertical-align: middle;\n",
       "    }\n",
       "\n",
       "    .dataframe tbody tr th {\n",
       "        vertical-align: top;\n",
       "    }\n",
       "\n",
       "    .dataframe thead th {\n",
       "        text-align: right;\n",
       "    }\n",
       "</style>\n",
       "<table border=\"1\" class=\"dataframe\">\n",
       "  <thead>\n",
       "    <tr style=\"text-align: right;\">\n",
       "      <th></th>\n",
       "      <th>NR_CPF_CNPJ</th>\n",
       "    </tr>\n",
       "    <tr>\n",
       "      <th>CNAE</th>\n",
       "      <th></th>\n",
       "    </tr>\n",
       "  </thead>\n",
       "  <tbody>\n",
       "    <tr>\n",
       "      <th>b'9'</th>\n",
       "      <td>9</td>\n",
       "    </tr>\n",
       "    <tr>\n",
       "      <th>b'A'</th>\n",
       "      <td>331</td>\n",
       "    </tr>\n",
       "    <tr>\n",
       "      <th>b'B'</th>\n",
       "      <td>100</td>\n",
       "    </tr>\n",
       "    <tr>\n",
       "      <th>b'C'</th>\n",
       "      <td>5618</td>\n",
       "    </tr>\n",
       "    <tr>\n",
       "      <th>b'D'</th>\n",
       "      <td>9</td>\n",
       "    </tr>\n",
       "    <tr>\n",
       "      <th>b'E'</th>\n",
       "      <td>122</td>\n",
       "    </tr>\n",
       "    <tr>\n",
       "      <th>b'F'</th>\n",
       "      <td>1737</td>\n",
       "    </tr>\n",
       "    <tr>\n",
       "      <th>b'G'</th>\n",
       "      <td>21920</td>\n",
       "    </tr>\n",
       "    <tr>\n",
       "      <th>b'H'</th>\n",
       "      <td>2475</td>\n",
       "    </tr>\n",
       "    <tr>\n",
       "      <th>b'I'</th>\n",
       "      <td>2276</td>\n",
       "    </tr>\n",
       "    <tr>\n",
       "      <th>b'J'</th>\n",
       "      <td>835</td>\n",
       "    </tr>\n",
       "    <tr>\n",
       "      <th>b'K'</th>\n",
       "      <td>463</td>\n",
       "    </tr>\n",
       "    <tr>\n",
       "      <th>b'L'</th>\n",
       "      <td>528</td>\n",
       "    </tr>\n",
       "    <tr>\n",
       "      <th>b'M'</th>\n",
       "      <td>2066</td>\n",
       "    </tr>\n",
       "    <tr>\n",
       "      <th>b'N'</th>\n",
       "      <td>1798</td>\n",
       "    </tr>\n",
       "    <tr>\n",
       "      <th>b'P'</th>\n",
       "      <td>839</td>\n",
       "    </tr>\n",
       "    <tr>\n",
       "      <th>b'Q'</th>\n",
       "      <td>1570</td>\n",
       "    </tr>\n",
       "    <tr>\n",
       "      <th>b'R'</th>\n",
       "      <td>388</td>\n",
       "    </tr>\n",
       "    <tr>\n",
       "      <th>b'S'</th>\n",
       "      <td>1601</td>\n",
       "    </tr>\n",
       "    <tr>\n",
       "      <th>b'T'</th>\n",
       "      <td>6</td>\n",
       "    </tr>\n",
       "  </tbody>\n",
       "</table>\n",
       "</div>"
      ],
      "text/plain": [
       "      NR_CPF_CNPJ\n",
       "CNAE             \n",
       "b'9'            9\n",
       "b'A'          331\n",
       "b'B'          100\n",
       "b'C'         5618\n",
       "b'D'            9\n",
       "b'E'          122\n",
       "b'F'         1737\n",
       "b'G'        21920\n",
       "b'H'         2475\n",
       "b'I'         2276\n",
       "b'J'          835\n",
       "b'K'          463\n",
       "b'L'          528\n",
       "b'M'         2066\n",
       "b'N'         1798\n",
       "b'P'          839\n",
       "b'Q'         1570\n",
       "b'R'          388\n",
       "b'S'         1601\n",
       "b'T'            6"
      ]
     },
     "execution_count": 12,
     "metadata": {},
     "output_type": "execute_result"
    }
   ],
   "source": [
    "%%time\n",
    "df[['CNAE','NR_CPF_CNPJ']].groupby('CNAE').count()"
   ]
  },
  {
   "cell_type": "code",
   "execution_count": 44,
   "metadata": {},
   "outputs": [],
   "source": [
    "df['NR_CPR']      = df['NR_CPR'].astype(int)\n",
    "df['PORTE']       = df['PORTE'].astype(int)\n",
    "df['NATJUR']      = df['NATJUR'].astype(int) \n",
    "df['CNAE']        = df.CNAE.astype(\"category\").cat.codes\n",
    "df['CD_NVL_RCO']  = df.CD_NVL_RCO.astype(\"category\").cat.codes\n",
    "df['QTDSOCIOS']   = df['QTDSOCIOS'].astype(int) \n",
    "\n",
    "\n",
    "df.loc[ (df['IDADE']<1)          ,'IDADE']          = 1\n",
    "df.loc[ (df['TEMPO_CONTA']<1)    ,'TEMPO_CONTA']    = 1\n",
    "df.loc[ (df['RENDA']<1)          ,'RENDA']          = 1\n",
    "df.loc[ (df['SCORE_SERASA']<1)   ,'SCORE_SERASA']   = 1\n",
    "df.loc[ (df['VR_DSP']<1)         ,'VR_DSP']         = 1\n",
    "df.loc[ (df['VR_TRN']<1)         ,'VR_TRN']         = 1\n",
    "df.loc[ (df['VR_CSC']<1)         ,'VR_CSC']         = 1\n",
    "df.loc[ (df['CAPITAL_SOCIAL']<1) ,'CAPITAL_SOCIAL'] = 1\n",
    "df.loc[ (df['VR_ATL_IMV']<1)     ,'VR_ATL_IMV']     = 1\n",
    "\n",
    "\n",
    "df['ln_idade']      = np.log(df['IDADE'])\n",
    "df['ln_tempo']      = np.log(df['TEMPO_CONTA'])\n",
    "df['ln_renda']      = np.log(df['RENDA'])\n",
    "df['ln_serasa']     = np.log(df['SCORE_SERASA'])\n",
    "df['ln_disponivel'] = np.log(df['VR_DSP'])\n",
    "df['ln_transacao']  = np.log(df['VR_TRN'])\n",
    "df['ln_capsoc_sic'] = np.log(df['VR_CSC'])\n",
    "df['ln_capsoc_rec'] = np.log(df['CAPITAL_SOCIAL'])\n",
    "df['ln_ativoimov']  = np.log(df['VR_ATL_IMV'])\n",
    "\n",
    "\n",
    "df['diff_idade_tempo'] = df['ln_idade']-df['ln_tempo']\n",
    "df['diff_renda_disp']  = df['ln_renda']-df['ln_disponivel']\n",
    "df['diff_renda_tran']  = df['ln_renda']-df['ln_transacao']\n",
    "df['diff_renda_cap']   = df['ln_renda']-df['ln_capsoc_sic']\n",
    "df['diff_renda_ativo'] = df['ln_renda']-df['ln_ativoimov']"
   ]
  },
  {
   "cell_type": "markdown",
   "metadata": {},
   "source": [
    "## Modelo sem histórico foi treinado com as variáveis na seguinte ordem:\n",
    "['faixa_hora', 'vl_medio_mes_atual', 'dif_vl_1', 'tres_prim_dig_codbarras', 'pagador_pf', 'dif_vl_4', 'dia_do_mes', 'qtd_operacoes_mes_corrente', 'vl_medio_dia_corrente', 'sec_dig', 'qtd_operacoes_dia_corrente', 'qtd_trn_60min', 'centavos', 'dia_da_semana']"
   ]
  },
  {
   "cell_type": "code",
   "execution_count": 45,
   "metadata": {},
   "outputs": [
    {
     "name": "stdout",
     "output_type": "stream",
     "text": [
      "Wall time: 991 µs\n"
     ]
    }
   ],
   "source": [
    "%%time\n",
    "files = df.columns\n",
    "selected_files = files.str.contains('ln_|diff_|CNAE|NR_CPR|CD_NVL_RCO|NATJUR|PORTE|QTDSOCIOS')\n",
    "atributes = files[selected_files]"
   ]
  },
  {
   "cell_type": "code",
   "execution_count": 46,
   "metadata": {},
   "outputs": [
    {
     "data": {
      "text/plain": [
       "Index(['NR_CPR', 'CNAE', 'CD_NVL_RCO', 'NATJUR', 'PORTE', 'QTDSOCIOS',\n",
       "       'ln_idade', 'ln_tempo', 'ln_renda', 'ln_serasa', 'ln_disponivel',\n",
       "       'ln_transacao', 'ln_capsoc_sic', 'ln_capsoc_rec', 'ln_ativoimov',\n",
       "       'ln_socios', 'diff_idade_tempo', 'diff_renda_disp', 'diff_renda_tran',\n",
       "       'diff_renda_cap', 'diff_renda_ativo'],\n",
       "      dtype='object')"
      ]
     },
     "execution_count": 46,
     "metadata": {},
     "output_type": "execute_result"
    }
   ],
   "source": [
    "atributes"
   ]
  },
  {
   "cell_type": "code",
   "execution_count": 47,
   "metadata": {},
   "outputs": [
    {
     "data": {
      "text/plain": [
       "NR_CPR                int32\n",
       "CNAE                   int8\n",
       "CD_NVL_RCO             int8\n",
       "NATJUR                int32\n",
       "PORTE                 int32\n",
       "QTDSOCIOS             int32\n",
       "ln_idade            float64\n",
       "ln_tempo            float64\n",
       "ln_renda            float64\n",
       "ln_serasa           float64\n",
       "ln_disponivel       float64\n",
       "ln_transacao        float64\n",
       "ln_capsoc_sic       float64\n",
       "ln_capsoc_rec       float64\n",
       "ln_ativoimov        float64\n",
       "ln_socios           float64\n",
       "diff_idade_tempo    float64\n",
       "diff_renda_disp     float64\n",
       "diff_renda_tran     float64\n",
       "diff_renda_cap      float64\n",
       "diff_renda_ativo    float64\n",
       "dtype: object"
      ]
     },
     "execution_count": 47,
     "metadata": {},
     "output_type": "execute_result"
    }
   ],
   "source": [
    "df[atributes].dtypes"
   ]
  },
  {
   "cell_type": "markdown",
   "metadata": {},
   "source": [
    "## SMOTE: Synthetic Minority Oversampling Technique"
   ]
  },
  {
   "cell_type": "code",
   "execution_count": 48,
   "metadata": {},
   "outputs": [],
   "source": [
    "y0 = df['FRAUDES']\n",
    "X0 = df[atributes]"
   ]
  },
  {
   "cell_type": "code",
   "execution_count": 49,
   "metadata": {},
   "outputs": [],
   "source": [
    "#import joblib\n",
    "#scaler = joblib.load(\"scaler.saved\") \n",
    "\n",
    "# Dado original\n",
    "#X_ = scaler.transform(X)"
   ]
  },
  {
   "cell_type": "code",
   "execution_count": 50,
   "metadata": {},
   "outputs": [],
   "source": [
    "#https://github.com/scikit-learn-contrib/imbalanced-learn\n",
    "from imblearn.under_sampling import RandomUnderSampler\n",
    "from imblearn.pipeline import Pipeline\n",
    "from collections import Counter\n",
    "from imblearn.over_sampling import SMOTE\n",
    "\n",
    "over = SMOTE(sampling_strategy=0.60)\n",
    "under = RandomUnderSampler(sampling_strategy=0.60)\n",
    "steps = [('o', over), ('u', under)]\n",
    "pipeline = Pipeline(steps=steps)"
   ]
  },
  {
   "cell_type": "code",
   "execution_count": 51,
   "metadata": {},
   "outputs": [],
   "source": [
    "# transform the dataset\n",
    "\n",
    "X, y = pipeline.fit_resample(X0, y0)\n"
   ]
  },
  {
   "cell_type": "code",
   "execution_count": 52,
   "metadata": {},
   "outputs": [
    {
     "name": "stdout",
     "output_type": "stream",
     "text": [
      "smote: Counter({0.0: 42453, 1.0: 2238}) Counter({0.0: 42451, 1.0: 25471})\n"
     ]
    }
   ],
   "source": [
    "# summarize the new class distribution\n",
    "counter0 = Counter(df['FRAUDES'])\n",
    "counter1 = Counter(y)\n",
    "\n",
    "print(\"smote:\" , counter0 ,counter1)"
   ]
  },
  {
   "cell_type": "code",
   "execution_count": 53,
   "metadata": {},
   "outputs": [
    {
     "name": "stdout",
     "output_type": "stream",
     "text": [
      "Balanceamento SMOTE: 41.66699383612736\n"
     ]
    }
   ],
   "source": [
    "print(\"Balanceamento SMOTE:\", (21226/(25471 + 25471)) *100 )"
   ]
  },
  {
   "cell_type": "code",
   "execution_count": 54,
   "metadata": {},
   "outputs": [],
   "source": [
    "# base sintética: treino e teste\n",
    "x_train  , x_test0 , y_train, y_test0 = train_test_split(X, y, test_size = 0.5, random_state=123)\n",
    "\n",
    "# base sintética: teste e out of sample\n",
    "x_test , x_out , y_test, y_out = train_test_split(x_test0, y_test0, test_size = 0.5, random_state=123)"
   ]
  },
  {
   "cell_type": "code",
   "execution_count": 55,
   "metadata": {},
   "outputs": [],
   "source": [
    "#x_train.filter(regex='ln_', axis=1)\n"
   ]
  },
  {
   "cell_type": "code",
   "execution_count": 56,
   "metadata": {},
   "outputs": [
    {
     "data": {
      "text/plain": [
       "Index(['NR_CPR', 'CNAE', 'CD_NVL_RCO', 'NATJUR', 'PORTE', 'QTDSOCIOS',\n",
       "       'ln_idade', 'ln_tempo', 'ln_renda', 'ln_serasa', 'ln_disponivel',\n",
       "       'ln_transacao', 'ln_capsoc_sic', 'ln_capsoc_rec', 'ln_ativoimov',\n",
       "       'ln_socios', 'diff_idade_tempo', 'diff_renda_disp', 'diff_renda_tran',\n",
       "       'diff_renda_cap', 'diff_renda_ativo'],\n",
       "      dtype='object')"
      ]
     },
     "execution_count": 56,
     "metadata": {},
     "output_type": "execute_result"
    }
   ],
   "source": [
    "x_train.columns\n"
   ]
  },
  {
   "cell_type": "code",
   "execution_count": 57,
   "metadata": {},
   "outputs": [
    {
     "data": {
      "text/plain": [
       "33961"
      ]
     },
     "execution_count": 57,
     "metadata": {},
     "output_type": "execute_result"
    }
   ],
   "source": [
    "len(y_train)"
   ]
  },
  {
   "cell_type": "code",
   "execution_count": 58,
   "metadata": {},
   "outputs": [],
   "source": [
    "train_data = Pool( data= x_train, \n",
    "                   label= y_train, \n",
    "                   cat_features= [0,1,2,3,4,5])\n",
    "\n",
    "test_data = Pool( data= x_test, \n",
    "                  label= y_test, \n",
    "                  cat_features= [0,1,2,3,4,5])\n",
    "\n",
    "outsam_data = Pool( data=x_out, \n",
    "                    label=y_out, \n",
    "                    cat_features= [0,1,2,3,4,5])"
   ]
  },
  {
   "cell_type": "code",
   "execution_count": 59,
   "metadata": {},
   "outputs": [
    {
     "name": "stdout",
     "output_type": "stream",
     "text": [
      "0:\tlearn: 0.6921496\ttotal: 238ms\tremaining: 2.14s\n",
      "1:\tlearn: 0.6911090\ttotal: 282ms\tremaining: 1.13s\n",
      "2:\tlearn: 0.6901477\ttotal: 335ms\tremaining: 781ms\n",
      "3:\tlearn: 0.6891319\ttotal: 386ms\tremaining: 579ms\n",
      "4:\tlearn: 0.6880991\ttotal: 446ms\tremaining: 446ms\n",
      "5:\tlearn: 0.6870792\ttotal: 516ms\tremaining: 344ms\n",
      "6:\tlearn: 0.6860778\ttotal: 580ms\tremaining: 249ms\n",
      "7:\tlearn: 0.6850521\ttotal: 698ms\tremaining: 175ms\n",
      "8:\tlearn: 0.6840362\ttotal: 763ms\tremaining: 84.8ms\n",
      "9:\tlearn: 0.6829664\ttotal: 829ms\tremaining: 0us\n"
     ]
    },
    {
     "data": {
      "text/plain": [
       "<catboost.core.CatBoostClassifier at 0x1d89b9a1b50>"
      ]
     },
     "execution_count": 59,
     "metadata": {},
     "output_type": "execute_result"
    }
   ],
   "source": [
    "from catboost import Pool, CatBoost, CatBoostClassifier\n",
    "\n",
    "\n",
    "#cb = CatBoost({'iterations': 10, 'learning_rate': 0.001})\n",
    "cb = CatBoostClassifier(iterations=10, learning_rate= 0.001)\n",
    "cb.fit(train_data)"
   ]
  },
  {
   "cell_type": "code",
   "execution_count": 60,
   "metadata": {},
   "outputs": [
    {
     "name": "stdout",
     "output_type": "stream",
     "text": [
      "Accuracy:  0.8836866902237926\n",
      "AUC-ROC:  0.8505438808499444\n"
     ]
    }
   ],
   "source": [
    "from sklearn.metrics import accuracy_score\n",
    "from sklearn.metrics import roc_auc_score\n",
    "\n",
    "# get predicted labels\n",
    "#pred_labels = cb.predict(test_data)\n",
    "\n",
    "pred_labels = cb.predict(test_data,prediction_type='Class')\n",
    "\n",
    "print(\"Accuracy: \", accuracy_score(y_test, pred_labels))\n",
    "print(\"AUC-ROC: \", roc_auc_score(y_test, pred_labels))"
   ]
  },
  {
   "cell_type": "code",
   "execution_count": 61,
   "metadata": {},
   "outputs": [
    {
     "name": "stdout",
     "output_type": "stream",
     "text": [
      "| \u001b[0m 400     \u001b[0m | \u001b[0m 0.8505  \u001b[0m | \u001b[0m 11.61   \u001b[0m | \u001b[0m 7.012   \u001b[0m | \u001b[0m 0.345   \u001b[0m | \u001b[0m 139.5   \u001b[0m | \u001b[0m 10.58   \u001b[0m | \u001b[0m 0.1897  \u001b[0m | \u001b[0m 0.2444  \u001b[0m | \u001b[0m 17.83   \u001b[0m | \u001b[0m 0.7289  \u001b[0m |\n",
      "=====================================================================================================================================\n",
      "Wall time: 54min 44s\n"
     ]
    }
   ],
   "source": [
    "%%time\n",
    "from bayes_opt import BayesianOptimization\n",
    "from sklearn.svm import SVC\n",
    "\n",
    "lem_range = ['Newton','Gradient']\n",
    "\n",
    "def gbm_cat( learning_rate, depth, l2_leaf_reg ,model_size_reg, rsm, leaf_estimation_method,\n",
    "             iterations, bagging_temperature, eval_metric):\n",
    "    model = CatBoostClassifier(\n",
    "                  learning_rate           = learning_rate,\n",
    "                  depth                   = int(depth),\n",
    "                  l2_leaf_reg             = l2_leaf_reg,\n",
    "                  model_size_reg          = model_size_reg,\n",
    "                  rsm                     = rsm,\n",
    "                  leaf_estimation_method  = lem_range[int(leaf_estimation_method)],\n",
    "                  iterations              = int(iterations) ,  \n",
    "                  bagging_temperature     = bagging_temperature,\n",
    "                  eval_metric             = 'Logloss' ,  random_state=666)\n",
    "    \n",
    "    #model.fit(train_data, y_train, eval_set=test_data, verbose=False)\n",
    "    model.fit(train_data, eval_set=test_data, verbose=False)\n",
    "    pred_labels = cb.predict(test_data,prediction_type='Class')\n",
    "    return roc_auc_score(y_test, pred_labels)\n",
    "\n",
    "# scale_pos_weight\n",
    "# semi-supervisionado: isolation forest, local outlier, svm\n",
    "\n",
    "params_cat = {\n",
    "    'learning_rate'           : (0.0001 ,0.666),\n",
    "    'depth'                   : (1.0000 ,12.00),\n",
    "    'l2_leaf_reg'             : (0.0001 ,12.00),\n",
    "    'model_size_reg'          : (0.0001 ,100.0),\n",
    "    'rsm'                     : (0.0001 ,0.999),\n",
    "    'leaf_estimation_method'  : (0.0001 ,1.000),\n",
    "    'iterations'              : (1.0000 ,200.0),\n",
    "    'bagging_temperature'     : (0.0001 ,100.0),\n",
    "    'eval_metric'             : (0.0001 ,1.000)\n",
    "}\n",
    "\n",
    "svm0 = BayesianOptimization(f=gbm_cat, pbounds=params_cat, random_state=123) \n",
    "svm0.maximize(init_points=30, n_iter=320, acq='ucb')"
   ]
  },
  {
   "cell_type": "code",
   "execution_count": 62,
   "metadata": {},
   "outputs": [
    {
     "data": {
      "text/plain": [
       "{'bagging_temperature': 69.6469489128676,\n",
       " 'depth': 4.147532684454174,\n",
       " 'eval_metric': 0.22692876841884668,\n",
       " 'iterations': 110.71163904749535,\n",
       " 'l2_leaf_reg': 8.633655690529778,\n",
       " 'leaf_estimation_method': 0.4231641494784485,\n",
       " 'learning_rate': 0.6531908797043154,\n",
       " 'model_size_reg': 68.48300537551248,\n",
       " 'rsm': 0.48050287639272815}"
      ]
     },
     "execution_count": 62,
     "metadata": {},
     "output_type": "execute_result"
    }
   ],
   "source": [
    "params_svm0 = svm0.max['params']\n",
    "params_svm0"
   ]
  },
  {
   "cell_type": "code",
   "execution_count": 63,
   "metadata": {},
   "outputs": [
    {
     "name": "stdout",
     "output_type": "stream",
     "text": [
      "\n",
      " depth: 4 \n",
      " iterations: 110 \n",
      " l2_leaf_reg: 8.633655690529778 \n",
      " leaf_estimation_method: Newton \n",
      " learning_rate: 0.6531908797043154 \n",
      " model_size_reg: 68 \n",
      " rsm: 0.48050287639272815 \n",
      " bagging_temperature: 69.6469489128676\n"
     ]
    }
   ],
   "source": [
    "depth                   = int(svm0.max['params']['depth'])\n",
    "iterations              = int(svm0.max['params']['iterations'])\n",
    "l2_leaf_reg             = svm0.max['params']['l2_leaf_reg']\n",
    "leaf_estimation_method  = lem_range[int(svm0.max['params']['leaf_estimation_method'])]\n",
    "learning_rate           = svm0.max['params']['learning_rate']\n",
    "model_size_reg          = int(svm0.max['params']['model_size_reg'])\n",
    "rsm                     = svm0.max['params']['rsm']\n",
    "bagging_temperature     = svm0.max['params']['bagging_temperature']\n",
    "    \n",
    "\n",
    "print('\\n depth:'                  ,depth,\n",
    "      '\\n iterations:'             ,iterations,\n",
    "      '\\n l2_leaf_reg:'            ,l2_leaf_reg,\n",
    "      '\\n leaf_estimation_method:' ,leaf_estimation_method,\n",
    "      '\\n learning_rate:'          ,learning_rate,\n",
    "      '\\n model_size_reg:'         ,model_size_reg,\n",
    "      '\\n rsm:'                    ,rsm,\n",
    "      '\\n bagging_temperature:'    ,bagging_temperature)"
   ]
  },
  {
   "cell_type": "code",
   "execution_count": null,
   "metadata": {},
   "outputs": [],
   "source": [
    "%%time\n",
    "from catboost import Pool, CatBoost, CatBoostClassifier\n",
    "\n",
    "cbbb= CatBoostClassifier( depth=depth, iterations=iterations, l2_leaf_reg=l2_leaf_reg, \n",
    "                           leaf_estimation_method=leaf_estimation_method, learning_rate=learning_rate, \n",
    "                           model_size_reg=model_size_reg, rsm=rsm, bagging_temperature =bagging_temperature ,  verbose=False)\n",
    "\n",
    "cbbb.fit(x_train, y_train)"
   ]
  },
  {
   "cell_type": "code",
   "execution_count": 65,
   "metadata": {},
   "outputs": [
    {
     "name": "stdout",
     "output_type": "stream",
     "text": [
      "Accuracy: 0.9625158269780042\n",
      "F1 score: 0.9481318502220594\n",
      "Recall: 0.9173697074824568\n",
      "Precision: 0.9810286677908938\n",
      "Wall time: 205 ms\n"
     ]
    }
   ],
   "source": [
    "%%time\n",
    "from sklearn.metrics import accuracy_score, f1_score, recall_score, precision_score\n",
    "print(\"Accuracy:\" ,accuracy_score(  y_train, cbbb.predict(x_train))) #Accuracy: 0.998776450266302\n",
    "print(\"F1 score:\" ,f1_score(        y_train, cbbb.predict(x_train))) #F1 score: 0.37065637065637064\n",
    "print(\"Recall:\"   ,recall_score(    y_train, cbbb.predict(x_train))) #Recall: 0.25\n",
    "print(\"Precision:\",precision_score( y_train, cbbb.predict(x_train))) #Precision: 0.7164179104477612"
   ]
  },
  {
   "cell_type": "code",
   "execution_count": 66,
   "metadata": {},
   "outputs": [
    {
     "name": "stdout",
     "output_type": "stream",
     "text": [
      "Accuracy: 0.9554770318021202\n",
      "F1 score: 0.93890415387102\n",
      "Recall: 0.9085079762277135\n",
      "Precision: 0.9714046822742475\n",
      "Wall time: 166 ms\n"
     ]
    }
   ],
   "source": [
    "%%time\n",
    "from sklearn.metrics import accuracy_score, f1_score, recall_score, precision_score\n",
    "print(\"Accuracy:\" ,accuracy_score(  y_test, cbbb.predict(x_test))) #Accuracy: 0.998776450266302\n",
    "print(\"F1 score:\" ,f1_score(        y_test, cbbb.predict(x_test))) #F1 score: 0.37065637065637064\n",
    "print(\"Recall:\"   ,recall_score(    y_test, cbbb.predict(x_test))) #Recall: 0.25\n",
    "print(\"Precision:\",precision_score( y_test, cbbb.predict(x_test))) #Precision: 0.7164179104477612"
   ]
  },
  {
   "cell_type": "code",
   "execution_count": 67,
   "metadata": {},
   "outputs": [
    {
     "name": "stdout",
     "output_type": "stream",
     "text": [
      "Accuracy: 0.9527707437724515\n",
      "F1 score: 0.9349342852506897\n",
      "Recall: 0.9011573350015639\n",
      "Precision: 0.971341874578557\n",
      "Wall time: 96.1 ms\n"
     ]
    }
   ],
   "source": [
    "%%time\n",
    "from sklearn.metrics import accuracy_score, f1_score, recall_score, precision_score\n",
    "print(\"Accuracy:\" ,accuracy_score(  y_out, cbbb.predict(x_out))) #Accuracy: 0.998776450266302\n",
    "print(\"F1 score:\" ,f1_score(        y_out, cbbb.predict(x_out))) #F1 score: 0.37065637065637064\n",
    "print(\"Recall:\"   ,recall_score(    y_out, cbbb.predict(x_out))) #Recall: 0.25\n",
    "print(\"Precision:\",precision_score( y_out, cbbb.predict(x_out))) #Precision: 0.7164179104477612"
   ]
  },
  {
   "attachments": {},
   "cell_type": "markdown",
   "metadata": {},
   "source": [
    "## Leitura dos dados originais"
   ]
  },
  {
   "cell_type": "code",
   "execution_count": 68,
   "metadata": {},
   "outputs": [
    {
     "name": "stdout",
     "output_type": "stream",
     "text": [
      "Wall time: 177 ms\n"
     ]
    }
   ],
   "source": [
    "%%time\n",
    "df_all = pd.read_pickle(\"perfilpj.pkl\")"
   ]
  },
  {
   "cell_type": "code",
   "execution_count": 97,
   "metadata": {},
   "outputs": [
    {
     "data": {
      "text/plain": [
       "Index(['NR_CPR', 'CNAE', 'CD_NVL_RCO', 'NATJUR', 'PORTE', 'QTDSOCIOS',\n",
       "       'ln_idade', 'ln_tempo', 'ln_renda', 'ln_serasa', 'ln_disponivel',\n",
       "       'ln_transacao', 'ln_capsoc_sic', 'ln_capsoc_rec', 'ln_ativoimov',\n",
       "       'ln_socios', 'diff_idade_tempo', 'diff_renda_disp', 'diff_renda_tran',\n",
       "       'diff_renda_cap', 'diff_renda_ativo'],\n",
       "      dtype='object')"
      ]
     },
     "execution_count": 97,
     "metadata": {},
     "output_type": "execute_result"
    }
   ],
   "source": [
    "df_all[atributes].columns"
   ]
  },
  {
   "cell_type": "code",
   "execution_count": 98,
   "metadata": {},
   "outputs": [
    {
     "data": {
      "text/plain": [
       "21"
      ]
     },
     "execution_count": 98,
     "metadata": {},
     "output_type": "execute_result"
    }
   ],
   "source": [
    "len(df_all[atributes].columns)"
   ]
  },
  {
   "cell_type": "code",
   "execution_count": 71,
   "metadata": {},
   "outputs": [],
   "source": [
    "df_all['NR_CPR']      = df_all['NR_CPR'].astype(int)\n",
    "df_all['PORTE']       = df_all['PORTE'].astype(int)\n",
    "df_all['NATJUR']      = df_all['NATJUR'].astype(int) \n",
    "df_all['CNAE']        = df_all.CNAE.astype(\"category\").cat.codes\n",
    "df_all['CD_NVL_RCO']  = df_all.CD_NVL_RCO.astype(\"category\").cat.codes\n",
    "df_all['QTDSOCIOS']   = df_all['QTDSOCIOS'].astype(int) "
   ]
  },
  {
   "cell_type": "code",
   "execution_count": 72,
   "metadata": {},
   "outputs": [],
   "source": [
    "## Dado original\n",
    "#X0_mm = scaler.transform(df[atributes])\n",
    "X0_mm = df_all[atributes]"
   ]
  },
  {
   "cell_type": "code",
   "execution_count": 73,
   "metadata": {},
   "outputs": [
    {
     "name": "stdout",
     "output_type": "stream",
     "text": [
      "(44691, 21) (44691, 202)\n"
     ]
    }
   ],
   "source": [
    "#y0 = df['fraude']\n",
    "print(X0_mm.shape, df.shape)"
   ]
  },
  {
   "cell_type": "code",
   "execution_count": 74,
   "metadata": {},
   "outputs": [
    {
     "name": "stdout",
     "output_type": "stream",
     "text": [
      "Wall time: 55.1 ms\n"
     ]
    }
   ],
   "source": [
    "%%time\n",
    "#df_all['proba'] = cbbb.predict_proba(X0_mm)[:,1]\n",
    "df_all['proba'] = cbbb.predict_proba(df_all[atributes])[:,1]"
   ]
  },
  {
   "cell_type": "code",
   "execution_count": 75,
   "metadata": {},
   "outputs": [
    {
     "data": {
      "text/html": [
       "<div>\n",
       "<style scoped>\n",
       "    .dataframe tbody tr th:only-of-type {\n",
       "        vertical-align: middle;\n",
       "    }\n",
       "\n",
       "    .dataframe tbody tr th {\n",
       "        vertical-align: top;\n",
       "    }\n",
       "\n",
       "    .dataframe thead th {\n",
       "        text-align: right;\n",
       "    }\n",
       "</style>\n",
       "<table border=\"1\" class=\"dataframe\">\n",
       "  <thead>\n",
       "    <tr style=\"text-align: right;\">\n",
       "      <th></th>\n",
       "      <th>proba</th>\n",
       "    </tr>\n",
       "    <tr>\n",
       "      <th>FRAUDES</th>\n",
       "      <th></th>\n",
       "    </tr>\n",
       "  </thead>\n",
       "  <tbody>\n",
       "    <tr>\n",
       "      <th>0.0</th>\n",
       "      <td>42453</td>\n",
       "    </tr>\n",
       "    <tr>\n",
       "      <th>1.0</th>\n",
       "      <td>2238</td>\n",
       "    </tr>\n",
       "  </tbody>\n",
       "</table>\n",
       "</div>"
      ],
      "text/plain": [
       "         proba\n",
       "FRAUDES       \n",
       "0.0      42453\n",
       "1.0       2238"
      ]
     },
     "execution_count": 75,
     "metadata": {},
     "output_type": "execute_result"
    }
   ],
   "source": [
    "df_all[['FRAUDES','proba']].groupby(['FRAUDES']).count()"
   ]
  },
  {
   "cell_type": "code",
   "execution_count": 76,
   "metadata": {},
   "outputs": [
    {
     "name": "stdout",
     "output_type": "stream",
     "text": [
      "Wall time: 29.4 ms\n"
     ]
    },
    {
     "data": {
      "text/html": [
       "<div>\n",
       "<style scoped>\n",
       "    .dataframe tbody tr th:only-of-type {\n",
       "        vertical-align: middle;\n",
       "    }\n",
       "\n",
       "    .dataframe tbody tr th {\n",
       "        vertical-align: top;\n",
       "    }\n",
       "\n",
       "    .dataframe thead tr th {\n",
       "        text-align: left;\n",
       "    }\n",
       "\n",
       "    .dataframe thead tr:last-of-type th {\n",
       "        text-align: right;\n",
       "    }\n",
       "</style>\n",
       "<table border=\"1\" class=\"dataframe\">\n",
       "  <thead>\n",
       "    <tr>\n",
       "      <th></th>\n",
       "      <th colspan=\"8\" halign=\"left\">proba</th>\n",
       "    </tr>\n",
       "    <tr>\n",
       "      <th></th>\n",
       "      <th>count</th>\n",
       "      <th>mean</th>\n",
       "      <th>std</th>\n",
       "      <th>min</th>\n",
       "      <th>25%</th>\n",
       "      <th>50%</th>\n",
       "      <th>75%</th>\n",
       "      <th>max</th>\n",
       "    </tr>\n",
       "    <tr>\n",
       "      <th>FRAUDES</th>\n",
       "      <th></th>\n",
       "      <th></th>\n",
       "      <th></th>\n",
       "      <th></th>\n",
       "      <th></th>\n",
       "      <th></th>\n",
       "      <th></th>\n",
       "      <th></th>\n",
       "    </tr>\n",
       "  </thead>\n",
       "  <tbody>\n",
       "    <tr>\n",
       "      <th>0.0</th>\n",
       "      <td>42453.0</td>\n",
       "      <td>0.066089</td>\n",
       "      <td>0.104925</td>\n",
       "      <td>0.000013</td>\n",
       "      <td>0.012068</td>\n",
       "      <td>0.031692</td>\n",
       "      <td>0.074030</td>\n",
       "      <td>0.996629</td>\n",
       "    </tr>\n",
       "    <tr>\n",
       "      <th>1.0</th>\n",
       "      <td>2238.0</td>\n",
       "      <td>0.594339</td>\n",
       "      <td>0.414987</td>\n",
       "      <td>0.000937</td>\n",
       "      <td>0.101631</td>\n",
       "      <td>0.841280</td>\n",
       "      <td>0.986915</td>\n",
       "      <td>0.999958</td>\n",
       "    </tr>\n",
       "  </tbody>\n",
       "</table>\n",
       "</div>"
      ],
      "text/plain": [
       "           proba                                                              \\\n",
       "           count      mean       std       min       25%       50%       75%   \n",
       "FRAUDES                                                                        \n",
       "0.0      42453.0  0.066089  0.104925  0.000013  0.012068  0.031692  0.074030   \n",
       "1.0       2238.0  0.594339  0.414987  0.000937  0.101631  0.841280  0.986915   \n",
       "\n",
       "                   \n",
       "              max  \n",
       "FRAUDES            \n",
       "0.0      0.996629  \n",
       "1.0      0.999958  "
      ]
     },
     "execution_count": 76,
     "metadata": {},
     "output_type": "execute_result"
    }
   ],
   "source": [
    "%%time\n",
    "df_all[['FRAUDES','proba']].groupby(['FRAUDES']).describe()"
   ]
  },
  {
   "cell_type": "code",
   "execution_count": 129,
   "metadata": {},
   "outputs": [
    {
     "name": "stdout",
     "output_type": "stream",
     "text": [
      "Wall time: 5.98 ms\n"
     ]
    }
   ],
   "source": [
    "%%time\n",
    "df_all.loc[ df_all['proba']>=0.15 ,'fraude_pred'] = 1\n",
    "df_all.loc[ df_all['proba'] <0.15 ,'fraude_pred'] = 0"
   ]
  },
  {
   "cell_type": "markdown",
   "metadata": {},
   "source": [
    "<a name=\"metricas\"></a>\n",
    "\n",
    "\n",
    "# 3) Métricas\n",
    "  \n",
    "- ir para [Menu Principal](#navegacao)\n",
    "\n",
    "<a name=\"amostra\"></a>\n",
    "\n",
    "\n",
    "## 3.1) Métricas na Amostra\n",
    "  \n",
    "- ir para [Menu Principal](#navegacao)"
   ]
  },
  {
   "cell_type": "code",
   "execution_count": 130,
   "metadata": {},
   "outputs": [
    {
     "name": "stdout",
     "output_type": "stream",
     "text": [
      "Confusion matrix for test:\n",
      "[[37964  4489]\n",
      " [  662  1576]]\n"
     ]
    }
   ],
   "source": [
    "from sklearn.metrics import confusion_matrix\n",
    "confusao_pop = confusion_matrix(df_all['FRAUDES'], df_all['fraude_pred'])\n",
    "print(\"Confusion matrix for test:\\n%s\" % confusao_pop )"
   ]
  },
  {
   "cell_type": "code",
   "execution_count": 131,
   "metadata": {},
   "outputs": [
    {
     "name": "stdout",
     "output_type": "stream",
     "text": [
      "Accuracy: 0.8847418943411425\n",
      "F1 score: 0.3796218234373118\n",
      "Recall: 0.7042001787310098\n",
      "Precision: 0.2598516075845012\n",
      "Wall time: 73.8 ms\n"
     ]
    }
   ],
   "source": [
    "%%time\n",
    "from sklearn.metrics import accuracy_score, f1_score, recall_score, precision_score\n",
    "\n",
    "print(\"Accuracy:\" , accuracy_score(df_all['FRAUDES'], df_all['fraude_pred'])) \n",
    "print(\"F1 score:\" , f1_score(df_all['FRAUDES'], df_all['fraude_pred'])) \n",
    "print(\"Recall:\"   , recall_score(df_all['FRAUDES'], df_all['fraude_pred'])) \n",
    "print(\"Precision:\", precision_score(df_all['FRAUDES'], df_all['fraude_pred'])) "
   ]
  },
  {
   "cell_type": "markdown",
   "metadata": {},
   "source": [
    "<a name=\"falsopos\"></a>\n",
    "\n",
    "## 3.2) Taxa de Falso Positivo\n",
    "  \n",
    "- ir para [Menu Principal](#navegacao)"
   ]
  },
  {
   "cell_type": "code",
   "execution_count": 132,
   "metadata": {},
   "outputs": [
    {
     "name": "stdout",
     "output_type": "stream",
     "text": [
      "FPR: 0.10574046592702518\n",
      "TPR: 0.7042001787310098\n",
      "Wall time: 985 µs\n"
     ]
    }
   ],
   "source": [
    "%%time\n",
    "tn, fp, fn, tp = confusao_pop.ravel()\n",
    "print('FPR:', fp/(fp + tn))\n",
    "print('TPR:', tp/(tp + fn))\n",
    "\n",
    "#FPR: 0.10574046592702518\n",
    "#TPR: 0.7042001787310098"
   ]
  },
  {
   "cell_type": "code",
   "execution_count": null,
   "metadata": {},
   "outputs": [],
   "source": []
  },
  {
   "cell_type": "code",
   "execution_count": null,
   "metadata": {},
   "outputs": [],
   "source": []
  }
 ],
 "metadata": {
  "kernelspec": {
   "display_name": "Python 3",
   "language": "python",
   "name": "python3"
  },
  "language_info": {
   "codemirror_mode": {
    "name": "ipython",
    "version": 3
   },
   "file_extension": ".py",
   "mimetype": "text/x-python",
   "name": "python",
   "nbconvert_exporter": "python",
   "pygments_lexer": "ipython3",
   "version": "3.9.7 (default, Sep 16 2021, 16:59:28) [MSC v.1916 64 bit (AMD64)]"
  },
  "vscode": {
   "interpreter": {
    "hash": "417b098a34c1d15f54821650e8824b8f9a13757cdf07902482f1dffeb55d10e4"
   }
  }
 },
 "nbformat": 4,
 "nbformat_minor": 2
}
