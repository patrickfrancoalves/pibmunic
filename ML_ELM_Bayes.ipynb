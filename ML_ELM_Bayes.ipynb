{
 "cells": [
  {
   "cell_type": "code",
   "execution_count": 3,
   "metadata": {},
   "outputs": [
    {
     "name": "stderr",
     "output_type": "stream",
     "text": [
      "C:\\Users\\patrick.franco\\AppData\\Roaming\\Python\\Python311\\site-packages\\xgboost\\compat.py:93: FutureWarning: pandas.Int64Index is deprecated and will be removed from pandas in a future version. Use pandas.Index with the appropriate dtype instead.\n",
      "  from pandas import MultiIndex, Int64Index\n"
     ]
    }
   ],
   "source": [
    "import os\n",
    "import sys\n",
    "import math\n",
    "import pandas as pd\n",
    "import numpy as np\n",
    "import matplotlib.pyplot as plt\n",
    "import xgboost as xgb\n",
    "import pickle\n",
    "from sklearn.model_selection import train_test_split\n",
    "from sklearn.metrics import confusion_matrix, precision_score, recall_score, accuracy_score, f1_score\n",
    "from sklearn.metrics import make_scorer, precision_recall_curve, auc\n",
    "from sklearn.preprocessing import MinMaxScaler\n",
    "from sklearn.model_selection import RandomizedSearchCV\n",
    "from bayes_opt import BayesianOptimization\n",
    "#from sklearn.experimental import enable_halving_search_cv \n",
    "#from sklearn.model_selection import HalvingRandomSearchCV\n",
    "#from sklearn.model_selection import HalvingGridSearchCV \n",
    "from collections import Counter\n",
    "from imblearn.over_sampling import SMOTE\n",
    "from sklearn_extensions.extreme_learning_machines.elm import ELMClassifier, ELMRegressor, GenELMClassifier, GenELMRegressor\n",
    "from sklearn_extensions.extreme_learning_machines.random_layer import RBFRandomLayer, MLPRandomLayer, GRBFRandomLayer, RandomLayer\n",
    "from scipy.stats import ks_2samp\n",
    "def ks_stat(y, yhat):\n",
    "    return ks_2samp(yhat[y==1], yhat[y!=1]).statistic"
   ]
  },
  {
   "attachments": {},
   "cell_type": "markdown",
   "metadata": {},
   "source": [
    "# Menu\n",
    "\n",
    "<a name=\"navegacao\"></a>\n",
    "\n",
    "## 1) [Preparação dos dados](#parte1)\n",
    "- 1.1 [Leitura base principal](#principal)\n",
    "- 1.2 [Leitura base mes](#mes)\n",
    "- 1.3 [Leitura base hora](#hora)\n",
    "- 1.4 [Merge principal e base mensal](#merge1)\n",
    "- 1.5 [Merge principal e base hora](#merge2)\n",
    "- 1.6 [Confere marcação](#marcacao)\n",
    "\n",
    "\n",
    "## 2 [Salvando as bases de treino](#parte2)\n",
    "- 2.1 [Salvando base com histórico](#comhist)\n",
    "- 2.2 [Salvando base sem histórico](#semhist)\n"
   ]
  },
  {
   "attachments": {},
   "cell_type": "markdown",
   "metadata": {},
   "source": [
    "<a name=\"principal\"></a>\n",
    "\n",
    "## 1.1) Leitura base principal\n"
   ]
  },
  {
   "attachments": {},
   "cell_type": "markdown",
   "metadata": {},
   "source": [
    "## Leitura dos dados"
   ]
  },
  {
   "cell_type": "code",
   "execution_count": 4,
   "metadata": {},
   "outputs": [
    {
     "name": "stdout",
     "output_type": "stream",
     "text": [
      "CPU times: total: 422 ms\n",
      "Wall time: 418 ms\n"
     ]
    }
   ],
   "source": [
    "%%time\n",
    "df = pd.read_csv(\"BNDES_UNIFICADO.csv\",converters={'CNPJ8': str,'INTERMEDIARIA': str},  delimiter=\";\" , encoding='latin-1')"
   ]
  },
  {
   "cell_type": "code",
   "execution_count": 5,
   "metadata": {},
   "outputs": [],
   "source": [
    "df.replace([np.inf, -np.inf], np.nan, inplace=True)\n",
    "df.dropna(inplace=True)"
   ]
  },
  {
   "cell_type": "code",
   "execution_count": 6,
   "metadata": {},
   "outputs": [
    {
     "data": {
      "text/plain": [
       "(125516, 27)"
      ]
     },
     "execution_count": 6,
     "metadata": {},
     "output_type": "execute_result"
    }
   ],
   "source": [
    "df.shape"
   ]
  },
  {
   "cell_type": "code",
   "execution_count": 7,
   "metadata": {},
   "outputs": [
    {
     "data": {
      "text/plain": [
       "Index(['CNPJ8', 'ANO', 'EMPRESA_PUBLICA', 'GARANTIA', 'INDIRETA', 'INOVACAO',\n",
       "       'INSTRUMENTO', 'UF', 'INTERMEDIARIA', 'CUSTO', 'MEDIA_JUROS',\n",
       "       'PRAZO_AMORTIZACAO', 'TESOURO', 'PRAZO_CARENCIA', 'VALOR_CONTRATO',\n",
       "       'VALOR_DESENBOLSO', 'Porte_Cliente', 'CAPITAL_SOCIAL', 'IDADE',\n",
       "       'NATJUR', 'NCONTRATOS', 'NFILIAIS', 'PORTE_RECEITA', 'SITUACAO',\n",
       "       'IDADE_SOCIOS', 'QTDSOCIOS', 'SOCIO_PJ'],\n",
       "      dtype='object')"
      ]
     },
     "execution_count": 7,
     "metadata": {},
     "output_type": "execute_result"
    }
   ],
   "source": [
    "df.columns"
   ]
  },
  {
   "cell_type": "code",
   "execution_count": 8,
   "metadata": {},
   "outputs": [
    {
     "name": "stdout",
     "output_type": "stream",
     "text": [
      "CPU times: total: 0 ns\n",
      "Wall time: 9.78 µs\n"
     ]
    },
    {
     "data": {
      "text/html": [
       "<div>\n",
       "<style scoped>\n",
       "    .dataframe tbody tr th:only-of-type {\n",
       "        vertical-align: middle;\n",
       "    }\n",
       "\n",
       "    .dataframe tbody tr th {\n",
       "        vertical-align: top;\n",
       "    }\n",
       "\n",
       "    .dataframe thead th {\n",
       "        text-align: right;\n",
       "    }\n",
       "</style>\n",
       "<table border=\"1\" class=\"dataframe\">\n",
       "  <thead>\n",
       "    <tr style=\"text-align: right;\">\n",
       "      <th></th>\n",
       "      <th>CNPJ8</th>\n",
       "      <th>ANO</th>\n",
       "      <th>EMPRESA_PUBLICA</th>\n",
       "      <th>GARANTIA</th>\n",
       "      <th>INDIRETA</th>\n",
       "      <th>INOVACAO</th>\n",
       "      <th>INSTRUMENTO</th>\n",
       "      <th>UF</th>\n",
       "      <th>INTERMEDIARIA</th>\n",
       "      <th>CUSTO</th>\n",
       "      <th>...</th>\n",
       "      <th>CAPITAL_SOCIAL</th>\n",
       "      <th>IDADE</th>\n",
       "      <th>NATJUR</th>\n",
       "      <th>NCONTRATOS</th>\n",
       "      <th>NFILIAIS</th>\n",
       "      <th>PORTE_RECEITA</th>\n",
       "      <th>SITUACAO</th>\n",
       "      <th>IDADE_SOCIOS</th>\n",
       "      <th>QTDSOCIOS</th>\n",
       "      <th>SOCIO_PJ</th>\n",
       "    </tr>\n",
       "  </thead>\n",
       "  <tbody>\n",
       "    <tr>\n",
       "      <th>0</th>\n",
       "      <td>00000000</td>\n",
       "      <td>2002</td>\n",
       "      <td>0</td>\n",
       "      <td>OUTROS</td>\n",
       "      <td>0</td>\n",
       "      <td>1</td>\n",
       "      <td>OUTROS</td>\n",
       "      <td>IE</td>\n",
       "      <td>00000000</td>\n",
       "      <td>TJLP</td>\n",
       "      <td>...</td>\n",
       "      <td>9.000002e+10</td>\n",
       "      <td>37.0</td>\n",
       "      <td>2.0</td>\n",
       "      <td>15</td>\n",
       "      <td>5089</td>\n",
       "      <td>5.0</td>\n",
       "      <td>1</td>\n",
       "      <td>1.0</td>\n",
       "      <td>1</td>\n",
       "      <td>0</td>\n",
       "    </tr>\n",
       "    <tr>\n",
       "      <th>1</th>\n",
       "      <td>00000000</td>\n",
       "      <td>2003</td>\n",
       "      <td>0</td>\n",
       "      <td>OUTROS</td>\n",
       "      <td>0</td>\n",
       "      <td>0</td>\n",
       "      <td>OUTROS</td>\n",
       "      <td>IE</td>\n",
       "      <td>92816560</td>\n",
       "      <td>TJLP</td>\n",
       "      <td>...</td>\n",
       "      <td>9.000002e+10</td>\n",
       "      <td>38.0</td>\n",
       "      <td>2.0</td>\n",
       "      <td>2</td>\n",
       "      <td>5123</td>\n",
       "      <td>5.0</td>\n",
       "      <td>1</td>\n",
       "      <td>1.0</td>\n",
       "      <td>1</td>\n",
       "      <td>0</td>\n",
       "    </tr>\n",
       "    <tr>\n",
       "      <th>2</th>\n",
       "      <td>00000000</td>\n",
       "      <td>2009</td>\n",
       "      <td>1</td>\n",
       "      <td>SEM GARANTIA</td>\n",
       "      <td>0</td>\n",
       "      <td>0</td>\n",
       "      <td>OUTROS</td>\n",
       "      <td>RJ</td>\n",
       "      <td></td>\n",
       "      <td>TAXAFIXA</td>\n",
       "      <td>...</td>\n",
       "      <td>9.000002e+10</td>\n",
       "      <td>44.0</td>\n",
       "      <td>2.0</td>\n",
       "      <td>5</td>\n",
       "      <td>6912</td>\n",
       "      <td>5.0</td>\n",
       "      <td>1</td>\n",
       "      <td>1.0</td>\n",
       "      <td>1</td>\n",
       "      <td>0</td>\n",
       "    </tr>\n",
       "    <tr>\n",
       "      <th>3</th>\n",
       "      <td>00000000</td>\n",
       "      <td>2010</td>\n",
       "      <td>1</td>\n",
       "      <td>SEM GARANTIA</td>\n",
       "      <td>0</td>\n",
       "      <td>0</td>\n",
       "      <td>OUTROS</td>\n",
       "      <td>RJ</td>\n",
       "      <td></td>\n",
       "      <td>TAXAFIXA</td>\n",
       "      <td>...</td>\n",
       "      <td>9.000002e+10</td>\n",
       "      <td>45.0</td>\n",
       "      <td>2.0</td>\n",
       "      <td>2</td>\n",
       "      <td>7002</td>\n",
       "      <td>5.0</td>\n",
       "      <td>1</td>\n",
       "      <td>1.0</td>\n",
       "      <td>1</td>\n",
       "      <td>0</td>\n",
       "    </tr>\n",
       "    <tr>\n",
       "      <th>4</th>\n",
       "      <td>00000000</td>\n",
       "      <td>2012</td>\n",
       "      <td>1</td>\n",
       "      <td>MISTA</td>\n",
       "      <td>0</td>\n",
       "      <td>0</td>\n",
       "      <td>OUTROS</td>\n",
       "      <td>IE</td>\n",
       "      <td></td>\n",
       "      <td>TJLP</td>\n",
       "      <td>...</td>\n",
       "      <td>9.000002e+10</td>\n",
       "      <td>47.0</td>\n",
       "      <td>2.0</td>\n",
       "      <td>1</td>\n",
       "      <td>7407</td>\n",
       "      <td>5.0</td>\n",
       "      <td>1</td>\n",
       "      <td>1.0</td>\n",
       "      <td>1</td>\n",
       "      <td>0</td>\n",
       "    </tr>\n",
       "  </tbody>\n",
       "</table>\n",
       "<p>5 rows × 27 columns</p>\n",
       "</div>"
      ],
      "text/plain": [
       "      CNPJ8   ANO  EMPRESA_PUBLICA      GARANTIA  INDIRETA  INOVACAO  \\\n",
       "0  00000000  2002                0        OUTROS         0         1   \n",
       "1  00000000  2003                0        OUTROS         0         0   \n",
       "2  00000000  2009                1  SEM GARANTIA         0         0   \n",
       "3  00000000  2010                1  SEM GARANTIA         0         0   \n",
       "4  00000000  2012                1         MISTA         0         0   \n",
       "\n",
       "  INSTRUMENTO  UF INTERMEDIARIA     CUSTO  ...  CAPITAL_SOCIAL  IDADE  NATJUR  \\\n",
       "0      OUTROS  IE      00000000      TJLP  ...    9.000002e+10   37.0     2.0   \n",
       "1      OUTROS  IE      92816560      TJLP  ...    9.000002e+10   38.0     2.0   \n",
       "2      OUTROS  RJ                TAXAFIXA  ...    9.000002e+10   44.0     2.0   \n",
       "3      OUTROS  RJ                TAXAFIXA  ...    9.000002e+10   45.0     2.0   \n",
       "4      OUTROS  IE                    TJLP  ...    9.000002e+10   47.0     2.0   \n",
       "\n",
       "   NCONTRATOS  NFILIAIS  PORTE_RECEITA SITUACAO  IDADE_SOCIOS  QTDSOCIOS  \\\n",
       "0          15      5089            5.0        1           1.0          1   \n",
       "1           2      5123            5.0        1           1.0          1   \n",
       "2           5      6912            5.0        1           1.0          1   \n",
       "3           2      7002            5.0        1           1.0          1   \n",
       "4           1      7407            5.0        1           1.0          1   \n",
       "\n",
       "   SOCIO_PJ  \n",
       "0         0  \n",
       "1         0  \n",
       "2         0  \n",
       "3         0  \n",
       "4         0  \n",
       "\n",
       "[5 rows x 27 columns]"
      ]
     },
     "execution_count": 8,
     "metadata": {},
     "output_type": "execute_result"
    }
   ],
   "source": [
    "%%time\n",
    "df.head()"
   ]
  },
  {
   "cell_type": "code",
   "execution_count": 9,
   "metadata": {},
   "outputs": [
    {
     "name": "stdout",
     "output_type": "stream",
     "text": [
      "CPU times: total: 0 ns\n",
      "Wall time: 0 ns\n"
     ]
    },
    {
     "data": {
      "text/plain": [
       "CNPJ8                 object\n",
       "ANO                    int64\n",
       "EMPRESA_PUBLICA        int64\n",
       "GARANTIA              object\n",
       "INDIRETA               int64\n",
       "INOVACAO               int64\n",
       "INSTRUMENTO           object\n",
       "UF                    object\n",
       "INTERMEDIARIA         object\n",
       "CUSTO                 object\n",
       "MEDIA_JUROS          float64\n",
       "PRAZO_AMORTIZACAO    float64\n",
       "TESOURO                int64\n",
       "PRAZO_CARENCIA       float64\n",
       "VALOR_CONTRATO       float64\n",
       "VALOR_DESENBOLSO     float64\n",
       "Porte_Cliente         object\n",
       "CAPITAL_SOCIAL       float64\n",
       "IDADE                float64\n",
       "NATJUR               float64\n",
       "NCONTRATOS             int64\n",
       "NFILIAIS               int64\n",
       "PORTE_RECEITA        float64\n",
       "SITUACAO               int64\n",
       "IDADE_SOCIOS         float64\n",
       "QTDSOCIOS              int64\n",
       "SOCIO_PJ               int64\n",
       "dtype: object"
      ]
     },
     "execution_count": 9,
     "metadata": {},
     "output_type": "execute_result"
    }
   ],
   "source": [
    "%%time\n",
    "df.dtypes"
   ]
  },
  {
   "cell_type": "code",
   "execution_count": 10,
   "metadata": {},
   "outputs": [
    {
     "data": {
      "text/html": [
       "<div>\n",
       "<style scoped>\n",
       "    .dataframe tbody tr th:only-of-type {\n",
       "        vertical-align: middle;\n",
       "    }\n",
       "\n",
       "    .dataframe tbody tr th {\n",
       "        vertical-align: top;\n",
       "    }\n",
       "\n",
       "    .dataframe thead th {\n",
       "        text-align: right;\n",
       "    }\n",
       "</style>\n",
       "<table border=\"1\" class=\"dataframe\">\n",
       "  <thead>\n",
       "    <tr style=\"text-align: right;\">\n",
       "      <th>SITUACAO</th>\n",
       "      <th>0</th>\n",
       "      <th>1</th>\n",
       "    </tr>\n",
       "    <tr>\n",
       "      <th>PORTE_RECEITA</th>\n",
       "      <th></th>\n",
       "      <th></th>\n",
       "    </tr>\n",
       "  </thead>\n",
       "  <tbody>\n",
       "    <tr>\n",
       "      <th>1.0</th>\n",
       "      <td>72792</td>\n",
       "      <td>2639</td>\n",
       "    </tr>\n",
       "    <tr>\n",
       "      <th>3.0</th>\n",
       "      <td>22618</td>\n",
       "      <td>1864</td>\n",
       "    </tr>\n",
       "    <tr>\n",
       "      <th>5.0</th>\n",
       "      <td>21244</td>\n",
       "      <td>4359</td>\n",
       "    </tr>\n",
       "  </tbody>\n",
       "</table>\n",
       "</div>"
      ],
      "text/plain": [
       "SITUACAO           0     1\n",
       "PORTE_RECEITA             \n",
       "1.0            72792  2639\n",
       "3.0            22618  1864\n",
       "5.0            21244  4359"
      ]
     },
     "execution_count": 10,
     "metadata": {},
     "output_type": "execute_result"
    }
   ],
   "source": [
    "pd.crosstab(df.PORTE_RECEITA,df.SITUACAO)"
   ]
  },
  {
   "cell_type": "code",
   "execution_count": 11,
   "metadata": {},
   "outputs": [
    {
     "data": {
      "text/html": [
       "<div>\n",
       "<style scoped>\n",
       "    .dataframe tbody tr th:only-of-type {\n",
       "        vertical-align: middle;\n",
       "    }\n",
       "\n",
       "    .dataframe tbody tr th {\n",
       "        vertical-align: top;\n",
       "    }\n",
       "\n",
       "    .dataframe thead th {\n",
       "        text-align: right;\n",
       "    }\n",
       "</style>\n",
       "<table border=\"1\" class=\"dataframe\">\n",
       "  <thead>\n",
       "    <tr style=\"text-align: right;\">\n",
       "      <th>SITUACAO</th>\n",
       "      <th>0</th>\n",
       "      <th>1</th>\n",
       "    </tr>\n",
       "    <tr>\n",
       "      <th>Porte_Cliente</th>\n",
       "      <th></th>\n",
       "      <th></th>\n",
       "    </tr>\n",
       "  </thead>\n",
       "  <tbody>\n",
       "    <tr>\n",
       "      <th>GRANDE</th>\n",
       "      <td>3692</td>\n",
       "      <td>1219</td>\n",
       "    </tr>\n",
       "    <tr>\n",
       "      <th>MICRO</th>\n",
       "      <td>40280</td>\n",
       "      <td>1110</td>\n",
       "    </tr>\n",
       "    <tr>\n",
       "      <th>MÉDIA</th>\n",
       "      <td>20556</td>\n",
       "      <td>3430</td>\n",
       "    </tr>\n",
       "    <tr>\n",
       "      <th>PEQUENA</th>\n",
       "      <td>52126</td>\n",
       "      <td>3103</td>\n",
       "    </tr>\n",
       "  </tbody>\n",
       "</table>\n",
       "</div>"
      ],
      "text/plain": [
       "SITUACAO           0     1\n",
       "Porte_Cliente             \n",
       "GRANDE          3692  1219\n",
       "MICRO          40280  1110\n",
       "MÉDIA          20556  3430\n",
       "PEQUENA        52126  3103"
      ]
     },
     "execution_count": 11,
     "metadata": {},
     "output_type": "execute_result"
    }
   ],
   "source": [
    "pd.crosstab(df.Porte_Cliente,df.SITUACAO)"
   ]
  },
  {
   "cell_type": "code",
   "execution_count": 12,
   "metadata": {},
   "outputs": [
    {
     "name": "stdout",
     "output_type": "stream",
     "text": [
      "CPU times: total: 46.9 ms\n",
      "Wall time: 53.1 ms\n"
     ]
    },
    {
     "data": {
      "text/html": [
       "<div>\n",
       "<style scoped>\n",
       "    .dataframe tbody tr th:only-of-type {\n",
       "        vertical-align: middle;\n",
       "    }\n",
       "\n",
       "    .dataframe tbody tr th {\n",
       "        vertical-align: top;\n",
       "    }\n",
       "\n",
       "    .dataframe thead th {\n",
       "        text-align: right;\n",
       "    }\n",
       "</style>\n",
       "<table border=\"1\" class=\"dataframe\">\n",
       "  <thead>\n",
       "    <tr style=\"text-align: right;\">\n",
       "      <th>SITUACAO</th>\n",
       "      <th>0</th>\n",
       "      <th>1</th>\n",
       "    </tr>\n",
       "    <tr>\n",
       "      <th>CUSTO</th>\n",
       "      <th></th>\n",
       "      <th></th>\n",
       "    </tr>\n",
       "  </thead>\n",
       "  <tbody>\n",
       "    <tr>\n",
       "      <th>CDI</th>\n",
       "      <td>14</td>\n",
       "      <td>2</td>\n",
       "    </tr>\n",
       "    <tr>\n",
       "      <th>IPCA</th>\n",
       "      <td>48</td>\n",
       "      <td>8</td>\n",
       "    </tr>\n",
       "    <tr>\n",
       "      <th>OUTROS</th>\n",
       "      <td>248</td>\n",
       "      <td>119</td>\n",
       "    </tr>\n",
       "    <tr>\n",
       "      <th>SELIC</th>\n",
       "      <td>28761</td>\n",
       "      <td>1823</td>\n",
       "    </tr>\n",
       "    <tr>\n",
       "      <th>TAXAFIXA</th>\n",
       "      <td>30327</td>\n",
       "      <td>1840</td>\n",
       "    </tr>\n",
       "    <tr>\n",
       "      <th>TJLP</th>\n",
       "      <td>20437</td>\n",
       "      <td>2296</td>\n",
       "    </tr>\n",
       "    <tr>\n",
       "      <th>TLP</th>\n",
       "      <td>36819</td>\n",
       "      <td>2774</td>\n",
       "    </tr>\n",
       "  </tbody>\n",
       "</table>\n",
       "</div>"
      ],
      "text/plain": [
       "SITUACAO      0     1\n",
       "CUSTO                \n",
       "CDI          14     2\n",
       "IPCA         48     8\n",
       "OUTROS      248   119\n",
       "SELIC     28761  1823\n",
       "TAXAFIXA  30327  1840\n",
       "TJLP      20437  2296\n",
       "TLP       36819  2774"
      ]
     },
     "execution_count": 12,
     "metadata": {},
     "output_type": "execute_result"
    }
   ],
   "source": [
    "%%time\n",
    "pd.crosstab(df.CUSTO, df.SITUACAO )"
   ]
  },
  {
   "cell_type": "code",
   "execution_count": 13,
   "metadata": {},
   "outputs": [
    {
     "name": "stdout",
     "output_type": "stream",
     "text": [
      "CPU times: total: 46.9 ms\n",
      "Wall time: 51.8 ms\n"
     ]
    },
    {
     "data": {
      "text/html": [
       "<div>\n",
       "<style scoped>\n",
       "    .dataframe tbody tr th:only-of-type {\n",
       "        vertical-align: middle;\n",
       "    }\n",
       "\n",
       "    .dataframe tbody tr th {\n",
       "        vertical-align: top;\n",
       "    }\n",
       "\n",
       "    .dataframe thead th {\n",
       "        text-align: right;\n",
       "    }\n",
       "</style>\n",
       "<table border=\"1\" class=\"dataframe\">\n",
       "  <thead>\n",
       "    <tr style=\"text-align: right;\">\n",
       "      <th>SITUACAO</th>\n",
       "      <th>0</th>\n",
       "      <th>1</th>\n",
       "    </tr>\n",
       "    <tr>\n",
       "      <th>NATJUR</th>\n",
       "      <th></th>\n",
       "      <th></th>\n",
       "    </tr>\n",
       "  </thead>\n",
       "  <tbody>\n",
       "    <tr>\n",
       "      <th>1.0</th>\n",
       "      <td>184</td>\n",
       "      <td>49</td>\n",
       "    </tr>\n",
       "    <tr>\n",
       "      <th>2.0</th>\n",
       "      <td>116254</td>\n",
       "      <td>8786</td>\n",
       "    </tr>\n",
       "    <tr>\n",
       "      <th>3.0</th>\n",
       "      <td>187</td>\n",
       "      <td>21</td>\n",
       "    </tr>\n",
       "    <tr>\n",
       "      <th>4.0</th>\n",
       "      <td>29</td>\n",
       "      <td>6</td>\n",
       "    </tr>\n",
       "  </tbody>\n",
       "</table>\n",
       "</div>"
      ],
      "text/plain": [
       "SITUACAO       0     1\n",
       "NATJUR                \n",
       "1.0          184    49\n",
       "2.0       116254  8786\n",
       "3.0          187    21\n",
       "4.0           29     6"
      ]
     },
     "execution_count": 13,
     "metadata": {},
     "output_type": "execute_result"
    }
   ],
   "source": [
    "%%time\n",
    "pd.crosstab(df.NATJUR, df.SITUACAO)"
   ]
  },
  {
   "cell_type": "code",
   "execution_count": 14,
   "metadata": {},
   "outputs": [
    {
     "data": {
      "text/html": [
       "<div>\n",
       "<style scoped>\n",
       "    .dataframe tbody tr th:only-of-type {\n",
       "        vertical-align: middle;\n",
       "    }\n",
       "\n",
       "    .dataframe tbody tr th {\n",
       "        vertical-align: top;\n",
       "    }\n",
       "\n",
       "    .dataframe thead th {\n",
       "        text-align: right;\n",
       "    }\n",
       "</style>\n",
       "<table border=\"1\" class=\"dataframe\">\n",
       "  <thead>\n",
       "    <tr style=\"text-align: right;\">\n",
       "      <th>SITUACAO</th>\n",
       "      <th>0</th>\n",
       "      <th>1</th>\n",
       "    </tr>\n",
       "    <tr>\n",
       "      <th>EMPRESA_PUBLICA</th>\n",
       "      <th></th>\n",
       "      <th></th>\n",
       "    </tr>\n",
       "  </thead>\n",
       "  <tbody>\n",
       "    <tr>\n",
       "      <th>0</th>\n",
       "      <td>116375</td>\n",
       "      <td>8770</td>\n",
       "    </tr>\n",
       "    <tr>\n",
       "      <th>1</th>\n",
       "      <td>279</td>\n",
       "      <td>92</td>\n",
       "    </tr>\n",
       "  </tbody>\n",
       "</table>\n",
       "</div>"
      ],
      "text/plain": [
       "SITUACAO              0     1\n",
       "EMPRESA_PUBLICA              \n",
       "0                116375  8770\n",
       "1                   279    92"
      ]
     },
     "execution_count": 14,
     "metadata": {},
     "output_type": "execute_result"
    }
   ],
   "source": [
    "pd.crosstab(df.EMPRESA_PUBLICA, df.SITUACAO)"
   ]
  },
  {
   "cell_type": "code",
   "execution_count": 15,
   "metadata": {},
   "outputs": [
    {
     "data": {
      "text/html": [
       "<div>\n",
       "<style scoped>\n",
       "    .dataframe tbody tr th:only-of-type {\n",
       "        vertical-align: middle;\n",
       "    }\n",
       "\n",
       "    .dataframe tbody tr th {\n",
       "        vertical-align: top;\n",
       "    }\n",
       "\n",
       "    .dataframe thead th {\n",
       "        text-align: right;\n",
       "    }\n",
       "</style>\n",
       "<table border=\"1\" class=\"dataframe\">\n",
       "  <thead>\n",
       "    <tr style=\"text-align: right;\">\n",
       "      <th>SITUACAO</th>\n",
       "      <th>0</th>\n",
       "      <th>1</th>\n",
       "    </tr>\n",
       "    <tr>\n",
       "      <th>INDIRETA</th>\n",
       "      <th></th>\n",
       "      <th></th>\n",
       "    </tr>\n",
       "  </thead>\n",
       "  <tbody>\n",
       "    <tr>\n",
       "      <th>0</th>\n",
       "      <td>2711</td>\n",
       "      <td>792</td>\n",
       "    </tr>\n",
       "    <tr>\n",
       "      <th>1</th>\n",
       "      <td>113943</td>\n",
       "      <td>8070</td>\n",
       "    </tr>\n",
       "  </tbody>\n",
       "</table>\n",
       "</div>"
      ],
      "text/plain": [
       "SITUACAO       0     1\n",
       "INDIRETA              \n",
       "0           2711   792\n",
       "1         113943  8070"
      ]
     },
     "execution_count": 15,
     "metadata": {},
     "output_type": "execute_result"
    }
   ],
   "source": [
    "pd.crosstab(df.INDIRETA, df.SITUACAO)"
   ]
  },
  {
   "cell_type": "code",
   "execution_count": 16,
   "metadata": {},
   "outputs": [
    {
     "data": {
      "text/html": [
       "<div>\n",
       "<style scoped>\n",
       "    .dataframe tbody tr th:only-of-type {\n",
       "        vertical-align: middle;\n",
       "    }\n",
       "\n",
       "    .dataframe tbody tr th {\n",
       "        vertical-align: top;\n",
       "    }\n",
       "\n",
       "    .dataframe thead th {\n",
       "        text-align: right;\n",
       "    }\n",
       "</style>\n",
       "<table border=\"1\" class=\"dataframe\">\n",
       "  <thead>\n",
       "    <tr style=\"text-align: right;\">\n",
       "      <th>SITUACAO</th>\n",
       "      <th>0</th>\n",
       "      <th>1</th>\n",
       "    </tr>\n",
       "    <tr>\n",
       "      <th>INOVACAO</th>\n",
       "      <th></th>\n",
       "      <th></th>\n",
       "    </tr>\n",
       "  </thead>\n",
       "  <tbody>\n",
       "    <tr>\n",
       "      <th>0</th>\n",
       "      <td>116310</td>\n",
       "      <td>8730</td>\n",
       "    </tr>\n",
       "    <tr>\n",
       "      <th>1</th>\n",
       "      <td>344</td>\n",
       "      <td>132</td>\n",
       "    </tr>\n",
       "  </tbody>\n",
       "</table>\n",
       "</div>"
      ],
      "text/plain": [
       "SITUACAO       0     1\n",
       "INOVACAO              \n",
       "0         116310  8730\n",
       "1            344   132"
      ]
     },
     "execution_count": 16,
     "metadata": {},
     "output_type": "execute_result"
    }
   ],
   "source": [
    "pd.crosstab(df.INOVACAO, df.SITUACAO)"
   ]
  },
  {
   "cell_type": "code",
   "execution_count": 17,
   "metadata": {},
   "outputs": [
    {
     "data": {
      "text/html": [
       "<div>\n",
       "<style scoped>\n",
       "    .dataframe tbody tr th:only-of-type {\n",
       "        vertical-align: middle;\n",
       "    }\n",
       "\n",
       "    .dataframe tbody tr th {\n",
       "        vertical-align: top;\n",
       "    }\n",
       "\n",
       "    .dataframe thead th {\n",
       "        text-align: right;\n",
       "    }\n",
       "</style>\n",
       "<table border=\"1\" class=\"dataframe\">\n",
       "  <thead>\n",
       "    <tr style=\"text-align: right;\">\n",
       "      <th>SITUACAO</th>\n",
       "      <th>0</th>\n",
       "      <th>1</th>\n",
       "    </tr>\n",
       "    <tr>\n",
       "      <th>TESOURO</th>\n",
       "      <th></th>\n",
       "      <th></th>\n",
       "    </tr>\n",
       "  </thead>\n",
       "  <tbody>\n",
       "    <tr>\n",
       "      <th>0</th>\n",
       "      <td>110155</td>\n",
       "      <td>7886</td>\n",
       "    </tr>\n",
       "    <tr>\n",
       "      <th>1</th>\n",
       "      <td>6499</td>\n",
       "      <td>976</td>\n",
       "    </tr>\n",
       "  </tbody>\n",
       "</table>\n",
       "</div>"
      ],
      "text/plain": [
       "SITUACAO       0     1\n",
       "TESOURO               \n",
       "0         110155  7886\n",
       "1           6499   976"
      ]
     },
     "execution_count": 17,
     "metadata": {},
     "output_type": "execute_result"
    }
   ],
   "source": [
    "pd.crosstab(df.TESOURO, df.SITUACAO)"
   ]
  },
  {
   "cell_type": "code",
   "execution_count": 18,
   "metadata": {},
   "outputs": [
    {
     "data": {
      "text/html": [
       "<div>\n",
       "<style scoped>\n",
       "    .dataframe tbody tr th:only-of-type {\n",
       "        vertical-align: middle;\n",
       "    }\n",
       "\n",
       "    .dataframe tbody tr th {\n",
       "        vertical-align: top;\n",
       "    }\n",
       "\n",
       "    .dataframe thead th {\n",
       "        text-align: right;\n",
       "    }\n",
       "</style>\n",
       "<table border=\"1\" class=\"dataframe\">\n",
       "  <thead>\n",
       "    <tr style=\"text-align: right;\">\n",
       "      <th>SITUACAO</th>\n",
       "      <th>0</th>\n",
       "      <th>1</th>\n",
       "    </tr>\n",
       "    <tr>\n",
       "      <th>SOCIO_PJ</th>\n",
       "      <th></th>\n",
       "      <th></th>\n",
       "    </tr>\n",
       "  </thead>\n",
       "  <tbody>\n",
       "    <tr>\n",
       "      <th>0</th>\n",
       "      <td>116654</td>\n",
       "      <td>8862</td>\n",
       "    </tr>\n",
       "  </tbody>\n",
       "</table>\n",
       "</div>"
      ],
      "text/plain": [
       "SITUACAO       0     1\n",
       "SOCIO_PJ              \n",
       "0         116654  8862"
      ]
     },
     "execution_count": 18,
     "metadata": {},
     "output_type": "execute_result"
    }
   ],
   "source": [
    "pd.crosstab(df.SOCIO_PJ, df.SITUACAO)"
   ]
  },
  {
   "cell_type": "code",
   "execution_count": 19,
   "metadata": {},
   "outputs": [
    {
     "name": "stdout",
     "output_type": "stream",
     "text": [
      "CPU times: total: 31.2 ms\n",
      "Wall time: 28 ms\n"
     ]
    }
   ],
   "source": [
    "%%time\n",
    "df.loc[ (df['CAPITAL_SOCIAL']<1)     ,'CAPITAL_SOCIAL']    = 1\n",
    "df.loc[ (df['IDADE']<1)              ,'IDADE']             = 1\n",
    "df.loc[ (df['NCONTRATOS']<1)         ,'NCONTRATOS']        = 1\n",
    "df.loc[ (df['NFILIAIS']<1)           ,'NFILIAIS']          = 1\n",
    "df.loc[ (df['IDADE_SOCIOS']<1)       ,'IDADE_SOCIOS']      = 1\n",
    "df.loc[ (df['QTDSOCIOS']<1)          ,'QTDSOCIOS']         = 1\n",
    "df.loc[ (df['MEDIA_JUROS']<1)        ,'MEDIA_JUROS']       = 1\n",
    "df.loc[ (df['PRAZO_AMORTIZACAO']<1)  ,'PRAZO_AMORTIZACAO'] = 1\n",
    "df.loc[ (df['PRAZO_CARENCIA']<1)     ,'PRAZO_CARENCIA']    = 1\n",
    "df.loc[ (df['VALOR_CONTRATO']<1)     ,'VALOR_CONTRATO']    = 1\n",
    "df.loc[ (df['VALOR_DESENBOLSO']<1)   ,'VALOR_DESENBOLSO']  = 1"
   ]
  },
  {
   "cell_type": "code",
   "execution_count": 20,
   "metadata": {},
   "outputs": [
    {
     "name": "stdout",
     "output_type": "stream",
     "text": [
      "CPU times: total: 109 ms\n",
      "Wall time: 98 ms\n"
     ]
    }
   ],
   "source": [
    "%%time\n",
    "df['enc_NATJUR']        = df.NATJUR.astype(\"category\").cat.codes\n",
    "df['enc_GARANTIA']      = df.GARANTIA.astype(\"category\").cat.codes\n",
    "df['enc_INSTRUMENTO']   = df.INSTRUMENTO.astype(\"category\").cat.codes\n",
    "df['enc_CUSTO']         = df.CUSTO.astype(\"category\").cat.codes\n",
    "df['enc_PORTE_CLIENTE'] = df.Porte_Cliente.astype(\"category\").cat.codes\n",
    "df['enc_PORTE_RECEITA'] = df.PORTE_RECEITA.astype(\"category\").cat.codes\n",
    "df['enc_SITUACAO']      = df.SITUACAO.astype(\"category\").cat.codes\n",
    "df['enc_UF']            = df.UF.astype(\"category\").cat.codes"
   ]
  },
  {
   "cell_type": "code",
   "execution_count": 21,
   "metadata": {},
   "outputs": [
    {
     "name": "stdout",
     "output_type": "stream",
     "text": [
      "CPU times: total: 46.9 ms\n",
      "Wall time: 61.5 ms\n"
     ]
    }
   ],
   "source": [
    "%%time\n",
    "df['ln_capsoc']        = np.log(df['CAPITAL_SOCIAL']+1)\n",
    "df['ln_idade']         = np.log(df['IDADE']+1)\n",
    "df['ln_contratos']     = np.log(df['NCONTRATOS']+1)\n",
    "df['ln_filiais']       = np.log(df['NFILIAIS']+1)\n",
    "df['ln_sociosage']     = np.log(df['IDADE_SOCIOS']+1)\n",
    "df['ln_qtdsocios']     = np.log(df['QTDSOCIOS']+1)\n",
    "df['ln_juros']         = np.log(df['MEDIA_JUROS']+1)\n",
    "df['ln_amortizacao']   = np.log(df['PRAZO_AMORTIZACAO']+1)\n",
    "df['ln_carencia']      = np.log(df['PRAZO_CARENCIA']+1)\n",
    "df['ln_vlrcontrato']   = np.log(df['VALOR_CONTRATO']+1)\n",
    "df['ln_vlrdesembolso'] = np.log(df['VALOR_DESENBOLSO']+1)"
   ]
  },
  {
   "cell_type": "code",
   "execution_count": 22,
   "metadata": {},
   "outputs": [
    {
     "data": {
      "text/plain": [
       "0.00        400.00\n",
       "0.10      20000.00\n",
       "0.25      50000.00\n",
       "0.50     130000.00\n",
       "0.75     360275.75\n",
       "0.90    1074983.50\n",
       "Name: VALOR_CONTRATO, dtype: float64"
      ]
     },
     "execution_count": 22,
     "metadata": {},
     "output_type": "execute_result"
    }
   ],
   "source": [
    "import numpy as np\n",
    "df['VALOR_CONTRATO'].dropna().quantile([0.0, 0.10, 0.25, 0.50, 0.75, 0.90])"
   ]
  },
  {
   "cell_type": "code",
   "execution_count": 23,
   "metadata": {},
   "outputs": [],
   "source": [
    "def categ(row):\n",
    "    if row['VALOR_CONTRATO']<=20000:\n",
    "        return 0\n",
    "    elif row['VALOR_CONTRATO']<=50000:\n",
    "        return 1\n",
    "    elif row['VALOR_CONTRATO']<=130000:\n",
    "        return 2\n",
    "    elif row['VALOR_CONTRATO']<=360000:\n",
    "        return 3\n",
    "    elif row['VALOR_CONTRATO']<=1000000:\n",
    "        return 4\n",
    "    else:\n",
    "        return 5"
   ]
  },
  {
   "cell_type": "code",
   "execution_count": 24,
   "metadata": {},
   "outputs": [],
   "source": [
    "df['combo'] = df.apply(categ, axis=1)"
   ]
  },
  {
   "cell_type": "code",
   "execution_count": 25,
   "metadata": {},
   "outputs": [
    {
     "name": "stderr",
     "output_type": "stream",
     "text": [
      "C:\\Users\\patrick.franco\\AppData\\Local\\Temp\\ipykernel_10644\\2922547999.py:1: FutureWarning: The default value of numeric_only in DataFrameGroupBy.mean is deprecated. In a future version, numeric_only will default to False. Either specify numeric_only or select only columns which should be valid for the function.\n",
      "  df[['combo','VALOR_CONTRATO','CNPJ8']].groupby(['combo']).mean()\n"
     ]
    },
    {
     "data": {
      "text/html": [
       "<div>\n",
       "<style scoped>\n",
       "    .dataframe tbody tr th:only-of-type {\n",
       "        vertical-align: middle;\n",
       "    }\n",
       "\n",
       "    .dataframe tbody tr th {\n",
       "        vertical-align: top;\n",
       "    }\n",
       "\n",
       "    .dataframe thead th {\n",
       "        text-align: right;\n",
       "    }\n",
       "</style>\n",
       "<table border=\"1\" class=\"dataframe\">\n",
       "  <thead>\n",
       "    <tr style=\"text-align: right;\">\n",
       "      <th></th>\n",
       "      <th>VALOR_CONTRATO</th>\n",
       "    </tr>\n",
       "    <tr>\n",
       "      <th>combo</th>\n",
       "      <th></th>\n",
       "    </tr>\n",
       "  </thead>\n",
       "  <tbody>\n",
       "    <tr>\n",
       "      <th>0</th>\n",
       "      <td>1.007723e+04</td>\n",
       "    </tr>\n",
       "    <tr>\n",
       "      <th>1</th>\n",
       "      <td>3.672802e+04</td>\n",
       "    </tr>\n",
       "    <tr>\n",
       "      <th>2</th>\n",
       "      <td>9.057020e+04</td>\n",
       "    </tr>\n",
       "    <tr>\n",
       "      <th>3</th>\n",
       "      <td>2.252500e+05</td>\n",
       "    </tr>\n",
       "    <tr>\n",
       "      <th>4</th>\n",
       "      <td>5.884918e+05</td>\n",
       "    </tr>\n",
       "    <tr>\n",
       "      <th>5</th>\n",
       "      <td>6.180824e+07</td>\n",
       "    </tr>\n",
       "  </tbody>\n",
       "</table>\n",
       "</div>"
      ],
      "text/plain": [
       "       VALOR_CONTRATO\n",
       "combo                \n",
       "0        1.007723e+04\n",
       "1        3.672802e+04\n",
       "2        9.057020e+04\n",
       "3        2.252500e+05\n",
       "4        5.884918e+05\n",
       "5        6.180824e+07"
      ]
     },
     "execution_count": 25,
     "metadata": {},
     "output_type": "execute_result"
    }
   ],
   "source": [
    "df[['combo','VALOR_CONTRATO','CNPJ8']].groupby(['combo']).mean()"
   ]
  },
  {
   "cell_type": "code",
   "execution_count": 26,
   "metadata": {},
   "outputs": [
    {
     "name": "stdout",
     "output_type": "stream",
     "text": [
      "CPU times: total: 203 ms\n",
      "Wall time: 206 ms\n"
     ]
    }
   ],
   "source": [
    "%%time\n",
    "for pow in range(2,5):\n",
    "    for spl in range(0,7):\n",
    "        df.loc[ (df['combo']==spl),'spl_contrato_{0}_{1}'.format(pow,spl)] = df['ln_vlrcontrato']**pow\n",
    "        df.loc[~(df['combo']==spl),'spl_contrato_{0}_{1}'.format(pow,spl)] = 0"
   ]
  },
  {
   "attachments": {},
   "cell_type": "markdown",
   "metadata": {},
   "source": [
    "## Modelo sem histórico foi treinado com as variáveis na seguinte ordem:\n",
    "['faixa_hora', 'vl_medio_mes_atual', 'dif_vl_1', 'tres_prim_dig_codbarras', 'pagador_pf', 'dif_vl_4', 'dia_do_mes', 'qtd_operacoes_mes_corrente', 'vl_medio_dia_corrente', 'sec_dig', 'qtd_operacoes_dia_corrente', 'qtd_trn_60min', 'centavos', 'dia_da_semana']"
   ]
  },
  {
   "cell_type": "code",
   "execution_count": 27,
   "metadata": {},
   "outputs": [
    {
     "name": "stdout",
     "output_type": "stream",
     "text": [
      "CPU times: total: 0 ns\n",
      "Wall time: 355 µs\n"
     ]
    }
   ],
   "source": [
    "%%time\n",
    "files = df.columns\n",
    "selected_files = files.str.contains('ln_|spl_|INDIRETA|EMPRESA_PUBLICA|INOVACAO|TESOURO|SOCIO_PJ')\n",
    "atributes = files[selected_files]"
   ]
  },
  {
   "cell_type": "code",
   "execution_count": 28,
   "metadata": {},
   "outputs": [
    {
     "data": {
      "text/plain": [
       "Index(['EMPRESA_PUBLICA', 'INDIRETA', 'INOVACAO', 'TESOURO', 'SOCIO_PJ',\n",
       "       'ln_capsoc', 'ln_idade', 'ln_contratos', 'ln_filiais', 'ln_sociosage',\n",
       "       'ln_qtdsocios', 'ln_juros', 'ln_amortizacao', 'ln_carencia',\n",
       "       'ln_vlrcontrato', 'ln_vlrdesembolso', 'spl_contrato_2_0',\n",
       "       'spl_contrato_2_1', 'spl_contrato_2_2', 'spl_contrato_2_3',\n",
       "       'spl_contrato_2_4', 'spl_contrato_2_5', 'spl_contrato_2_6',\n",
       "       'spl_contrato_3_0', 'spl_contrato_3_1', 'spl_contrato_3_2',\n",
       "       'spl_contrato_3_3', 'spl_contrato_3_4', 'spl_contrato_3_5',\n",
       "       'spl_contrato_3_6', 'spl_contrato_4_0', 'spl_contrato_4_1',\n",
       "       'spl_contrato_4_2', 'spl_contrato_4_3', 'spl_contrato_4_4',\n",
       "       'spl_contrato_4_5', 'spl_contrato_4_6'],\n",
       "      dtype='object')"
      ]
     },
     "execution_count": 28,
     "metadata": {},
     "output_type": "execute_result"
    }
   ],
   "source": [
    "atributes"
   ]
  },
  {
   "cell_type": "code",
   "execution_count": 29,
   "metadata": {},
   "outputs": [
    {
     "data": {
      "text/plain": [
       "EMPRESA_PUBLICA       int64\n",
       "INDIRETA              int64\n",
       "INOVACAO              int64\n",
       "TESOURO               int64\n",
       "SOCIO_PJ              int64\n",
       "ln_capsoc           float64\n",
       "ln_idade            float64\n",
       "ln_contratos        float64\n",
       "ln_filiais          float64\n",
       "ln_sociosage        float64\n",
       "ln_qtdsocios        float64\n",
       "ln_juros            float64\n",
       "ln_amortizacao      float64\n",
       "ln_carencia         float64\n",
       "ln_vlrcontrato      float64\n",
       "ln_vlrdesembolso    float64\n",
       "spl_contrato_2_0    float64\n",
       "spl_contrato_2_1    float64\n",
       "spl_contrato_2_2    float64\n",
       "spl_contrato_2_3    float64\n",
       "spl_contrato_2_4    float64\n",
       "spl_contrato_2_5    float64\n",
       "spl_contrato_2_6    float64\n",
       "spl_contrato_3_0    float64\n",
       "spl_contrato_3_1    float64\n",
       "spl_contrato_3_2    float64\n",
       "spl_contrato_3_3    float64\n",
       "spl_contrato_3_4    float64\n",
       "spl_contrato_3_5    float64\n",
       "spl_contrato_3_6    float64\n",
       "spl_contrato_4_0    float64\n",
       "spl_contrato_4_1    float64\n",
       "spl_contrato_4_2    float64\n",
       "spl_contrato_4_3    float64\n",
       "spl_contrato_4_4    float64\n",
       "spl_contrato_4_5    float64\n",
       "spl_contrato_4_6    float64\n",
       "dtype: object"
      ]
     },
     "execution_count": 29,
     "metadata": {},
     "output_type": "execute_result"
    }
   ],
   "source": [
    "df[atributes].dtypes"
   ]
  },
  {
   "cell_type": "code",
   "execution_count": 30,
   "metadata": {},
   "outputs": [
    {
     "data": {
      "text/html": [
       "<div>\n",
       "<style scoped>\n",
       "    .dataframe tbody tr th:only-of-type {\n",
       "        vertical-align: middle;\n",
       "    }\n",
       "\n",
       "    .dataframe tbody tr th {\n",
       "        vertical-align: top;\n",
       "    }\n",
       "\n",
       "    .dataframe thead th {\n",
       "        text-align: right;\n",
       "    }\n",
       "</style>\n",
       "<table border=\"1\" class=\"dataframe\">\n",
       "  <thead>\n",
       "    <tr style=\"text-align: right;\">\n",
       "      <th></th>\n",
       "      <th>count</th>\n",
       "      <th>mean</th>\n",
       "      <th>std</th>\n",
       "      <th>min</th>\n",
       "      <th>25%</th>\n",
       "      <th>50%</th>\n",
       "      <th>75%</th>\n",
       "      <th>max</th>\n",
       "    </tr>\n",
       "  </thead>\n",
       "  <tbody>\n",
       "    <tr>\n",
       "      <th>EMPRESA_PUBLICA</th>\n",
       "      <td>125516.0</td>\n",
       "      <td>0.002956</td>\n",
       "      <td>0.054287</td>\n",
       "      <td>0.000000</td>\n",
       "      <td>0.000000</td>\n",
       "      <td>0.000000</td>\n",
       "      <td>0.000000</td>\n",
       "      <td>1.000000</td>\n",
       "    </tr>\n",
       "    <tr>\n",
       "      <th>INDIRETA</th>\n",
       "      <td>125516.0</td>\n",
       "      <td>0.972091</td>\n",
       "      <td>0.164712</td>\n",
       "      <td>0.000000</td>\n",
       "      <td>1.000000</td>\n",
       "      <td>1.000000</td>\n",
       "      <td>1.000000</td>\n",
       "      <td>1.000000</td>\n",
       "    </tr>\n",
       "    <tr>\n",
       "      <th>INOVACAO</th>\n",
       "      <td>125516.0</td>\n",
       "      <td>0.003792</td>\n",
       "      <td>0.061465</td>\n",
       "      <td>0.000000</td>\n",
       "      <td>0.000000</td>\n",
       "      <td>0.000000</td>\n",
       "      <td>0.000000</td>\n",
       "      <td>1.000000</td>\n",
       "    </tr>\n",
       "    <tr>\n",
       "      <th>TESOURO</th>\n",
       "      <td>125516.0</td>\n",
       "      <td>0.059554</td>\n",
       "      <td>0.236660</td>\n",
       "      <td>0.000000</td>\n",
       "      <td>0.000000</td>\n",
       "      <td>0.000000</td>\n",
       "      <td>0.000000</td>\n",
       "      <td>1.000000</td>\n",
       "    </tr>\n",
       "    <tr>\n",
       "      <th>SOCIO_PJ</th>\n",
       "      <td>125516.0</td>\n",
       "      <td>0.000000</td>\n",
       "      <td>0.000000</td>\n",
       "      <td>0.000000</td>\n",
       "      <td>0.000000</td>\n",
       "      <td>0.000000</td>\n",
       "      <td>0.000000</td>\n",
       "      <td>0.000000</td>\n",
       "    </tr>\n",
       "    <tr>\n",
       "      <th>ln_capsoc</th>\n",
       "      <td>125516.0</td>\n",
       "      <td>10.674521</td>\n",
       "      <td>3.548741</td>\n",
       "      <td>0.693147</td>\n",
       "      <td>9.615872</td>\n",
       "      <td>11.002117</td>\n",
       "      <td>11.982935</td>\n",
       "      <td>26.048381</td>\n",
       "    </tr>\n",
       "    <tr>\n",
       "      <th>ln_idade</th>\n",
       "      <td>125516.0</td>\n",
       "      <td>1.250731</td>\n",
       "      <td>0.858364</td>\n",
       "      <td>0.693147</td>\n",
       "      <td>0.693147</td>\n",
       "      <td>0.693147</td>\n",
       "      <td>1.791759</td>\n",
       "      <td>4.718499</td>\n",
       "    </tr>\n",
       "    <tr>\n",
       "      <th>ln_contratos</th>\n",
       "      <td>125516.0</td>\n",
       "      <td>0.813766</td>\n",
       "      <td>0.313496</td>\n",
       "      <td>0.693147</td>\n",
       "      <td>0.693147</td>\n",
       "      <td>0.693147</td>\n",
       "      <td>0.693147</td>\n",
       "      <td>5.613128</td>\n",
       "    </tr>\n",
       "    <tr>\n",
       "      <th>ln_filiais</th>\n",
       "      <td>125516.0</td>\n",
       "      <td>0.876072</td>\n",
       "      <td>0.495155</td>\n",
       "      <td>0.693147</td>\n",
       "      <td>0.693147</td>\n",
       "      <td>0.693147</td>\n",
       "      <td>0.693147</td>\n",
       "      <td>8.921591</td>\n",
       "    </tr>\n",
       "    <tr>\n",
       "      <th>ln_sociosage</th>\n",
       "      <td>125516.0</td>\n",
       "      <td>2.572323</td>\n",
       "      <td>1.539442</td>\n",
       "      <td>0.693147</td>\n",
       "      <td>0.693147</td>\n",
       "      <td>3.610918</td>\n",
       "      <td>3.850148</td>\n",
       "      <td>4.510860</td>\n",
       "    </tr>\n",
       "    <tr>\n",
       "      <th>ln_qtdsocios</th>\n",
       "      <td>125516.0</td>\n",
       "      <td>0.800815</td>\n",
       "      <td>0.209399</td>\n",
       "      <td>0.693147</td>\n",
       "      <td>0.693147</td>\n",
       "      <td>0.693147</td>\n",
       "      <td>0.693147</td>\n",
       "      <td>3.663562</td>\n",
       "    </tr>\n",
       "    <tr>\n",
       "      <th>ln_juros</th>\n",
       "      <td>125516.0</td>\n",
       "      <td>11.743486</td>\n",
       "      <td>1.670736</td>\n",
       "      <td>5.993961</td>\n",
       "      <td>10.819798</td>\n",
       "      <td>11.695255</td>\n",
       "      <td>12.611541</td>\n",
       "      <td>22.990224</td>\n",
       "    </tr>\n",
       "    <tr>\n",
       "      <th>ln_amortizacao</th>\n",
       "      <td>125516.0</td>\n",
       "      <td>3.806638</td>\n",
       "      <td>0.459982</td>\n",
       "      <td>0.693147</td>\n",
       "      <td>3.526361</td>\n",
       "      <td>3.891820</td>\n",
       "      <td>4.060443</td>\n",
       "      <td>5.746203</td>\n",
       "    </tr>\n",
       "    <tr>\n",
       "      <th>ln_carencia</th>\n",
       "      <td>125516.0</td>\n",
       "      <td>1.696933</td>\n",
       "      <td>0.574895</td>\n",
       "      <td>0.693147</td>\n",
       "      <td>1.386294</td>\n",
       "      <td>1.386294</td>\n",
       "      <td>1.945910</td>\n",
       "      <td>4.733875</td>\n",
       "    </tr>\n",
       "    <tr>\n",
       "      <th>ln_vlrcontrato</th>\n",
       "      <td>125516.0</td>\n",
       "      <td>11.926054</td>\n",
       "      <td>1.859615</td>\n",
       "      <td>5.993961</td>\n",
       "      <td>10.819798</td>\n",
       "      <td>11.775297</td>\n",
       "      <td>12.794628</td>\n",
       "      <td>23.683371</td>\n",
       "    </tr>\n",
       "    <tr>\n",
       "      <th>ln_vlrdesembolso</th>\n",
       "      <td>125516.0</td>\n",
       "      <td>11.889179</td>\n",
       "      <td>1.886584</td>\n",
       "      <td>0.693147</td>\n",
       "      <td>10.819798</td>\n",
       "      <td>11.775297</td>\n",
       "      <td>12.779876</td>\n",
       "      <td>23.683371</td>\n",
       "    </tr>\n",
       "    <tr>\n",
       "      <th>spl_contrato_2_0</th>\n",
       "      <td>125516.0</td>\n",
       "      <td>8.552664</td>\n",
       "      <td>25.292672</td>\n",
       "      <td>0.000000</td>\n",
       "      <td>0.000000</td>\n",
       "      <td>0.000000</td>\n",
       "      <td>0.000000</td>\n",
       "      <td>98.080056</td>\n",
       "    </tr>\n",
       "    <tr>\n",
       "      <th>spl_contrato_2_1</th>\n",
       "      <td>125516.0</td>\n",
       "      <td>17.023301</td>\n",
       "      <td>39.812621</td>\n",
       "      <td>0.000000</td>\n",
       "      <td>0.000000</td>\n",
       "      <td>0.000000</td>\n",
       "      <td>0.000000</td>\n",
       "      <td>117.068035</td>\n",
       "    </tr>\n",
       "    <tr>\n",
       "      <th>spl_contrato_2_2</th>\n",
       "      <td>125516.0</td>\n",
       "      <td>31.105146</td>\n",
       "      <td>55.430489</td>\n",
       "      <td>0.000000</td>\n",
       "      <td>0.000000</td>\n",
       "      <td>0.000000</td>\n",
       "      <td>0.000000</td>\n",
       "      <td>138.657629</td>\n",
       "    </tr>\n",
       "    <tr>\n",
       "      <th>spl_contrato_2_3</th>\n",
       "      <td>125516.0</td>\n",
       "      <td>37.690629</td>\n",
       "      <td>65.444836</td>\n",
       "      <td>0.000000</td>\n",
       "      <td>0.000000</td>\n",
       "      <td>0.000000</td>\n",
       "      <td>0.000000</td>\n",
       "      <td>163.682907</td>\n",
       "    </tr>\n",
       "    <tr>\n",
       "      <th>spl_contrato_2_4</th>\n",
       "      <td>125516.0</td>\n",
       "      <td>25.339294</td>\n",
       "      <td>61.742232</td>\n",
       "      <td>0.000000</td>\n",
       "      <td>0.000000</td>\n",
       "      <td>0.000000</td>\n",
       "      <td>0.000000</td>\n",
       "      <td>190.868360</td>\n",
       "    </tr>\n",
       "    <tr>\n",
       "      <th>spl_contrato_2_5</th>\n",
       "      <td>125516.0</td>\n",
       "      <td>25.977868</td>\n",
       "      <td>77.952490</td>\n",
       "      <td>0.000000</td>\n",
       "      <td>0.000000</td>\n",
       "      <td>0.000000</td>\n",
       "      <td>0.000000</td>\n",
       "      <td>560.902050</td>\n",
       "    </tr>\n",
       "    <tr>\n",
       "      <th>spl_contrato_2_6</th>\n",
       "      <td>125516.0</td>\n",
       "      <td>0.000000</td>\n",
       "      <td>0.000000</td>\n",
       "      <td>0.000000</td>\n",
       "      <td>0.000000</td>\n",
       "      <td>0.000000</td>\n",
       "      <td>0.000000</td>\n",
       "      <td>0.000000</td>\n",
       "    </tr>\n",
       "    <tr>\n",
       "      <th>spl_contrato_3_0</th>\n",
       "      <td>125516.0</td>\n",
       "      <td>77.838656</td>\n",
       "      <td>233.948407</td>\n",
       "      <td>0.000000</td>\n",
       "      <td>0.000000</td>\n",
       "      <td>0.000000</td>\n",
       "      <td>0.000000</td>\n",
       "      <td>971.339518</td>\n",
       "    </tr>\n",
       "    <tr>\n",
       "      <th>spl_contrato_3_1</th>\n",
       "      <td>125516.0</td>\n",
       "      <td>178.596962</td>\n",
       "      <td>418.415391</td>\n",
       "      <td>0.000000</td>\n",
       "      <td>0.000000</td>\n",
       "      <td>0.000000</td>\n",
       "      <td>0.000000</td>\n",
       "      <td>1266.652523</td>\n",
       "    </tr>\n",
       "    <tr>\n",
       "      <th>spl_contrato_3_2</th>\n",
       "      <td>125516.0</td>\n",
       "      <td>354.405851</td>\n",
       "      <td>632.589143</td>\n",
       "      <td>0.000000</td>\n",
       "      <td>0.000000</td>\n",
       "      <td>0.000000</td>\n",
       "      <td>0.000000</td>\n",
       "      <td>1632.734826</td>\n",
       "    </tr>\n",
       "    <tr>\n",
       "      <th>spl_contrato_3_3</th>\n",
       "      <td>125516.0</td>\n",
       "      <td>463.528135</td>\n",
       "      <td>806.264197</td>\n",
       "      <td>0.000000</td>\n",
       "      <td>0.000000</td>\n",
       "      <td>0.000000</td>\n",
       "      <td>0.000000</td>\n",
       "      <td>2094.136540</td>\n",
       "    </tr>\n",
       "    <tr>\n",
       "      <th>spl_contrato_3_4</th>\n",
       "      <td>125516.0</td>\n",
       "      <td>335.873443</td>\n",
       "      <td>819.549235</td>\n",
       "      <td>0.000000</td>\n",
       "      <td>0.000000</td>\n",
       "      <td>0.000000</td>\n",
       "      <td>0.000000</td>\n",
       "      <td>2636.944028</td>\n",
       "    </tr>\n",
       "    <tr>\n",
       "      <th>spl_contrato_3_5</th>\n",
       "      <td>125516.0</td>\n",
       "      <td>415.678986</td>\n",
       "      <td>1302.606404</td>\n",
       "      <td>0.000000</td>\n",
       "      <td>0.000000</td>\n",
       "      <td>0.000000</td>\n",
       "      <td>0.000000</td>\n",
       "      <td>13284.051206</td>\n",
       "    </tr>\n",
       "    <tr>\n",
       "      <th>spl_contrato_3_6</th>\n",
       "      <td>125516.0</td>\n",
       "      <td>0.000000</td>\n",
       "      <td>0.000000</td>\n",
       "      <td>0.000000</td>\n",
       "      <td>0.000000</td>\n",
       "      <td>0.000000</td>\n",
       "      <td>0.000000</td>\n",
       "      <td>0.000000</td>\n",
       "    </tr>\n",
       "    <tr>\n",
       "      <th>spl_contrato_4_0</th>\n",
       "      <td>125516.0</td>\n",
       "      <td>712.862235</td>\n",
       "      <td>2185.210558</td>\n",
       "      <td>0.000000</td>\n",
       "      <td>0.000000</td>\n",
       "      <td>0.000000</td>\n",
       "      <td>0.000000</td>\n",
       "      <td>9619.697391</td>\n",
       "    </tr>\n",
       "    <tr>\n",
       "      <th>spl_contrato_4_1</th>\n",
       "      <td>125516.0</td>\n",
       "      <td>1874.824980</td>\n",
       "      <td>4402.995783</td>\n",
       "      <td>0.000000</td>\n",
       "      <td>0.000000</td>\n",
       "      <td>0.000000</td>\n",
       "      <td>0.000000</td>\n",
       "      <td>13704.924798</td>\n",
       "    </tr>\n",
       "    <tr>\n",
       "      <th>spl_contrato_4_2</th>\n",
       "      <td>125516.0</td>\n",
       "      <td>4040.044742</td>\n",
       "      <td>7227.235936</td>\n",
       "      <td>0.000000</td>\n",
       "      <td>0.000000</td>\n",
       "      <td>0.000000</td>\n",
       "      <td>0.000000</td>\n",
       "      <td>19225.938182</td>\n",
       "    </tr>\n",
       "    <tr>\n",
       "      <th>spl_contrato_4_3</th>\n",
       "      <td>125516.0</td>\n",
       "      <td>5703.575941</td>\n",
       "      <td>9945.057709</td>\n",
       "      <td>0.000000</td>\n",
       "      <td>0.000000</td>\n",
       "      <td>0.000000</td>\n",
       "      <td>0.000000</td>\n",
       "      <td>26792.094087</td>\n",
       "    </tr>\n",
       "    <tr>\n",
       "      <th>spl_contrato_4_4</th>\n",
       "      <td>125516.0</td>\n",
       "      <td>4454.152696</td>\n",
       "      <td>10890.007147</td>\n",
       "      <td>0.000000</td>\n",
       "      <td>0.000000</td>\n",
       "      <td>0.000000</td>\n",
       "      <td>0.000000</td>\n",
       "      <td>36430.730700</td>\n",
       "    </tr>\n",
       "    <tr>\n",
       "      <th>spl_contrato_4_5</th>\n",
       "      <td>125516.0</td>\n",
       "      <td>6751.392003</td>\n",
       "      <td>22555.756266</td>\n",
       "      <td>0.000000</td>\n",
       "      <td>0.000000</td>\n",
       "      <td>0.000000</td>\n",
       "      <td>0.000000</td>\n",
       "      <td>314611.109778</td>\n",
       "    </tr>\n",
       "    <tr>\n",
       "      <th>spl_contrato_4_6</th>\n",
       "      <td>125516.0</td>\n",
       "      <td>0.000000</td>\n",
       "      <td>0.000000</td>\n",
       "      <td>0.000000</td>\n",
       "      <td>0.000000</td>\n",
       "      <td>0.000000</td>\n",
       "      <td>0.000000</td>\n",
       "      <td>0.000000</td>\n",
       "    </tr>\n",
       "  </tbody>\n",
       "</table>\n",
       "</div>"
      ],
      "text/plain": [
       "                     count         mean           std       min        25%  \\\n",
       "EMPRESA_PUBLICA   125516.0     0.002956      0.054287  0.000000   0.000000   \n",
       "INDIRETA          125516.0     0.972091      0.164712  0.000000   1.000000   \n",
       "INOVACAO          125516.0     0.003792      0.061465  0.000000   0.000000   \n",
       "TESOURO           125516.0     0.059554      0.236660  0.000000   0.000000   \n",
       "SOCIO_PJ          125516.0     0.000000      0.000000  0.000000   0.000000   \n",
       "ln_capsoc         125516.0    10.674521      3.548741  0.693147   9.615872   \n",
       "ln_idade          125516.0     1.250731      0.858364  0.693147   0.693147   \n",
       "ln_contratos      125516.0     0.813766      0.313496  0.693147   0.693147   \n",
       "ln_filiais        125516.0     0.876072      0.495155  0.693147   0.693147   \n",
       "ln_sociosage      125516.0     2.572323      1.539442  0.693147   0.693147   \n",
       "ln_qtdsocios      125516.0     0.800815      0.209399  0.693147   0.693147   \n",
       "ln_juros          125516.0    11.743486      1.670736  5.993961  10.819798   \n",
       "ln_amortizacao    125516.0     3.806638      0.459982  0.693147   3.526361   \n",
       "ln_carencia       125516.0     1.696933      0.574895  0.693147   1.386294   \n",
       "ln_vlrcontrato    125516.0    11.926054      1.859615  5.993961  10.819798   \n",
       "ln_vlrdesembolso  125516.0    11.889179      1.886584  0.693147  10.819798   \n",
       "spl_contrato_2_0  125516.0     8.552664     25.292672  0.000000   0.000000   \n",
       "spl_contrato_2_1  125516.0    17.023301     39.812621  0.000000   0.000000   \n",
       "spl_contrato_2_2  125516.0    31.105146     55.430489  0.000000   0.000000   \n",
       "spl_contrato_2_3  125516.0    37.690629     65.444836  0.000000   0.000000   \n",
       "spl_contrato_2_4  125516.0    25.339294     61.742232  0.000000   0.000000   \n",
       "spl_contrato_2_5  125516.0    25.977868     77.952490  0.000000   0.000000   \n",
       "spl_contrato_2_6  125516.0     0.000000      0.000000  0.000000   0.000000   \n",
       "spl_contrato_3_0  125516.0    77.838656    233.948407  0.000000   0.000000   \n",
       "spl_contrato_3_1  125516.0   178.596962    418.415391  0.000000   0.000000   \n",
       "spl_contrato_3_2  125516.0   354.405851    632.589143  0.000000   0.000000   \n",
       "spl_contrato_3_3  125516.0   463.528135    806.264197  0.000000   0.000000   \n",
       "spl_contrato_3_4  125516.0   335.873443    819.549235  0.000000   0.000000   \n",
       "spl_contrato_3_5  125516.0   415.678986   1302.606404  0.000000   0.000000   \n",
       "spl_contrato_3_6  125516.0     0.000000      0.000000  0.000000   0.000000   \n",
       "spl_contrato_4_0  125516.0   712.862235   2185.210558  0.000000   0.000000   \n",
       "spl_contrato_4_1  125516.0  1874.824980   4402.995783  0.000000   0.000000   \n",
       "spl_contrato_4_2  125516.0  4040.044742   7227.235936  0.000000   0.000000   \n",
       "spl_contrato_4_3  125516.0  5703.575941   9945.057709  0.000000   0.000000   \n",
       "spl_contrato_4_4  125516.0  4454.152696  10890.007147  0.000000   0.000000   \n",
       "spl_contrato_4_5  125516.0  6751.392003  22555.756266  0.000000   0.000000   \n",
       "spl_contrato_4_6  125516.0     0.000000      0.000000  0.000000   0.000000   \n",
       "\n",
       "                        50%        75%            max  \n",
       "EMPRESA_PUBLICA    0.000000   0.000000       1.000000  \n",
       "INDIRETA           1.000000   1.000000       1.000000  \n",
       "INOVACAO           0.000000   0.000000       1.000000  \n",
       "TESOURO            0.000000   0.000000       1.000000  \n",
       "SOCIO_PJ           0.000000   0.000000       0.000000  \n",
       "ln_capsoc         11.002117  11.982935      26.048381  \n",
       "ln_idade           0.693147   1.791759       4.718499  \n",
       "ln_contratos       0.693147   0.693147       5.613128  \n",
       "ln_filiais         0.693147   0.693147       8.921591  \n",
       "ln_sociosage       3.610918   3.850148       4.510860  \n",
       "ln_qtdsocios       0.693147   0.693147       3.663562  \n",
       "ln_juros          11.695255  12.611541      22.990224  \n",
       "ln_amortizacao     3.891820   4.060443       5.746203  \n",
       "ln_carencia        1.386294   1.945910       4.733875  \n",
       "ln_vlrcontrato    11.775297  12.794628      23.683371  \n",
       "ln_vlrdesembolso  11.775297  12.779876      23.683371  \n",
       "spl_contrato_2_0   0.000000   0.000000      98.080056  \n",
       "spl_contrato_2_1   0.000000   0.000000     117.068035  \n",
       "spl_contrato_2_2   0.000000   0.000000     138.657629  \n",
       "spl_contrato_2_3   0.000000   0.000000     163.682907  \n",
       "spl_contrato_2_4   0.000000   0.000000     190.868360  \n",
       "spl_contrato_2_5   0.000000   0.000000     560.902050  \n",
       "spl_contrato_2_6   0.000000   0.000000       0.000000  \n",
       "spl_contrato_3_0   0.000000   0.000000     971.339518  \n",
       "spl_contrato_3_1   0.000000   0.000000    1266.652523  \n",
       "spl_contrato_3_2   0.000000   0.000000    1632.734826  \n",
       "spl_contrato_3_3   0.000000   0.000000    2094.136540  \n",
       "spl_contrato_3_4   0.000000   0.000000    2636.944028  \n",
       "spl_contrato_3_5   0.000000   0.000000   13284.051206  \n",
       "spl_contrato_3_6   0.000000   0.000000       0.000000  \n",
       "spl_contrato_4_0   0.000000   0.000000    9619.697391  \n",
       "spl_contrato_4_1   0.000000   0.000000   13704.924798  \n",
       "spl_contrato_4_2   0.000000   0.000000   19225.938182  \n",
       "spl_contrato_4_3   0.000000   0.000000   26792.094087  \n",
       "spl_contrato_4_4   0.000000   0.000000   36430.730700  \n",
       "spl_contrato_4_5   0.000000   0.000000  314611.109778  \n",
       "spl_contrato_4_6   0.000000   0.000000       0.000000  "
      ]
     },
     "execution_count": 30,
     "metadata": {},
     "output_type": "execute_result"
    }
   ],
   "source": [
    "df[atributes].describe().transpose()"
   ]
  },
  {
   "attachments": {},
   "cell_type": "markdown",
   "metadata": {},
   "source": [
    "## SMOTE: Synthetic Minority Oversampling Technique"
   ]
  },
  {
   "cell_type": "code",
   "execution_count": 31,
   "metadata": {},
   "outputs": [],
   "source": [
    "y0 = df['SITUACAO'].values.reshape(-1, 1)\n",
    "#y0 = df['SITUACAO'].values\n",
    "X0 = df[atributes]"
   ]
  },
  {
   "cell_type": "code",
   "execution_count": 32,
   "metadata": {},
   "outputs": [],
   "source": [
    "#import joblib\n",
    "#scaler = joblib.load(\"scaler.saved\") \n",
    "\n",
    "from numpy import asarray\n",
    "from sklearn.preprocessing import MinMaxScaler\n",
    "\n",
    "scaler = MinMaxScaler()\n",
    "# transform data\n",
    "X0 = scaler.fit_transform(df[atributes])"
   ]
  },
  {
   "cell_type": "code",
   "execution_count": 33,
   "metadata": {},
   "outputs": [],
   "source": [
    "# base sintética: treino e teste\n",
    "x_train  , x_test0 , y_train, y_test0 = train_test_split(X0, y0, test_size = 0.4, random_state=123)\n",
    "\n",
    "# base sintética: teste e out of sample\n",
    "x_test , x_out , y_test, y_out = train_test_split(x_test0, y_test0, test_size = 0.4, random_state=123)"
   ]
  },
  {
   "cell_type": "code",
   "execution_count": 34,
   "metadata": {},
   "outputs": [
    {
     "data": {
      "text/plain": [
       "251"
      ]
     },
     "execution_count": 34,
     "metadata": {},
     "output_type": "execute_result"
    }
   ],
   "source": [
    "len([{'power':pow/10} for pow in range(1,252)])"
   ]
  },
  {
   "attachments": {},
   "cell_type": "markdown",
   "metadata": {},
   "source": [
    "<a name=\"gen_elm_rl\"></a>\n",
    "\n",
    "## 2.1) GEN Random Layer\n",
    "\n",
    "- ir para [Menu Principal](#navegacao)"
   ]
  },
  {
   "cell_type": "code",
   "execution_count": 36,
   "metadata": {},
   "outputs": [
    {
     "name": "stdout",
     "output_type": "stream",
     "text": [
      "CPU times: total: 0 ns\n",
      "Wall time: 2 ms\n"
     ]
    }
   ],
   "source": [
    "%%time\n",
    "from bayes_opt import BayesianOptimization\n",
    "from sklearn.metrics import roc_auc_score\n",
    "from catboost import Pool, CatBoost, CatBoostClassifier\n",
    "import catboost\n",
    "\n",
    "af_range = ['tanh','sine','tribas','sigmoid','hardlim','softlim','gaussian','multiquadric','inv_multiquadric']\n",
    "aa_range = [{'power':pow/10} for pow in range(1,251)]\n",
    "\n",
    "def gbm_xgb(activation_func, n_hidden, rbf_width, alpha, activation_args):\n",
    "    model = GenELMClassifier(\n",
    "                  hidden_layer=RandomLayer( random_state    = 1 ,\n",
    "                                            activation_func = af_range[int(activation_func)],\n",
    "                                            n_hidden        = int(n_hidden),\n",
    "                                            rbf_width       = rbf_width,\n",
    "                                            alpha           = alpha,\n",
    "                                            activation_args = aa_range[int(activation_args )]),\n",
    "                   )\n",
    "    model.fit(x_train, y_train)\n",
    "    pred_labels = model.predict(x_test)\n",
    "    return roc_auc_score(y_test, pred_labels)\n",
    "\n",
    "params_xgb = {\n",
    "    'activation_func'  : (0.000 ,8.0),\n",
    "    'n_hidden'         : (20.00 ,350),\n",
    "    'rbf_width'        : (0.005 ,0.9),\n",
    "    'alpha'            : (0.005 ,0.9),\n",
    "    'activation_args'  : (0.000 ,250)\n",
    "}\n",
    "\n",
    "xgb0 = BayesianOptimization(f=gbm_xgb, pbounds=params_xgb, random_state=123,allow_duplicate_points=True) \n",
    "#xgb0.set_gp_params(alpha=1e-4)\n",
    "#xgb0.maximize(init_points=30, n_iter=370)"
   ]
  },
  {
   "cell_type": "code",
   "execution_count": null,
   "metadata": {},
   "outputs": [],
   "source": [
    "params_xgb = xgb0.max['params']\n",
    "params_xgb"
   ]
  },
  {
   "cell_type": "code",
   "execution_count": null,
   "metadata": {},
   "outputs": [
    {
     "name": "stdout",
     "output_type": "stream",
     "text": [
      "\n",
      " activation_func: gaussian \n",
      " n_hidden: 349 \n",
      " rbf_width: 0.7769668484668575 \n",
      " alpha: 0.1898181118253121 \n",
      " activation_args: {'power': 23.6}\n"
     ]
    }
   ],
   "source": [
    "activation_func = af_range[int(xgb0.max['params']['activation_func'])]\n",
    "n_hidden        = int(xgb0.max['params']['n_hidden'])\n",
    "rbf_width       = xgb0.max['params']['rbf_width']\n",
    "alpha           = xgb0.max['params']['alpha']\n",
    "activation_args = aa_range[int(xgb0.max['params']['activation_args'])]\n",
    "\n",
    "print('\\n activation_func:'    , activation_func,\n",
    "      '\\n n_hidden:'           , n_hidden,\n",
    "      '\\n rbf_width:'          , rbf_width,\n",
    "      '\\n alpha:'              , alpha,\n",
    "      '\\n activation_args:'    , activation_args)"
   ]
  },
  {
   "cell_type": "code",
   "execution_count": null,
   "metadata": {},
   "outputs": [
    {
     "name": "stdout",
     "output_type": "stream",
     "text": [
      "CPU times: total: 27.2 s\n",
      "Wall time: 6.6 s\n"
     ]
    },
    {
     "data": {
      "text/html": [
       "<style>#sk-container-id-3 {color: black;background-color: white;}#sk-container-id-3 pre{padding: 0;}#sk-container-id-3 div.sk-toggleable {background-color: white;}#sk-container-id-3 label.sk-toggleable__label {cursor: pointer;display: block;width: 100%;margin-bottom: 0;padding: 0.3em;box-sizing: border-box;text-align: center;}#sk-container-id-3 label.sk-toggleable__label-arrow:before {content: \"▸\";float: left;margin-right: 0.25em;color: #696969;}#sk-container-id-3 label.sk-toggleable__label-arrow:hover:before {color: black;}#sk-container-id-3 div.sk-estimator:hover label.sk-toggleable__label-arrow:before {color: black;}#sk-container-id-3 div.sk-toggleable__content {max-height: 0;max-width: 0;overflow: hidden;text-align: left;background-color: #f0f8ff;}#sk-container-id-3 div.sk-toggleable__content pre {margin: 0.2em;color: black;border-radius: 0.25em;background-color: #f0f8ff;}#sk-container-id-3 input.sk-toggleable__control:checked~div.sk-toggleable__content {max-height: 200px;max-width: 100%;overflow: auto;}#sk-container-id-3 input.sk-toggleable__control:checked~label.sk-toggleable__label-arrow:before {content: \"▾\";}#sk-container-id-3 div.sk-estimator input.sk-toggleable__control:checked~label.sk-toggleable__label {background-color: #d4ebff;}#sk-container-id-3 div.sk-label input.sk-toggleable__control:checked~label.sk-toggleable__label {background-color: #d4ebff;}#sk-container-id-3 input.sk-hidden--visually {border: 0;clip: rect(1px 1px 1px 1px);clip: rect(1px, 1px, 1px, 1px);height: 1px;margin: -1px;overflow: hidden;padding: 0;position: absolute;width: 1px;}#sk-container-id-3 div.sk-estimator {font-family: monospace;background-color: #f0f8ff;border: 1px dotted black;border-radius: 0.25em;box-sizing: border-box;margin-bottom: 0.5em;}#sk-container-id-3 div.sk-estimator:hover {background-color: #d4ebff;}#sk-container-id-3 div.sk-parallel-item::after {content: \"\";width: 100%;border-bottom: 1px solid gray;flex-grow: 1;}#sk-container-id-3 div.sk-label:hover label.sk-toggleable__label {background-color: #d4ebff;}#sk-container-id-3 div.sk-serial::before {content: \"\";position: absolute;border-left: 1px solid gray;box-sizing: border-box;top: 0;bottom: 0;left: 50%;z-index: 0;}#sk-container-id-3 div.sk-serial {display: flex;flex-direction: column;align-items: center;background-color: white;padding-right: 0.2em;padding-left: 0.2em;position: relative;}#sk-container-id-3 div.sk-item {position: relative;z-index: 1;}#sk-container-id-3 div.sk-parallel {display: flex;align-items: stretch;justify-content: center;background-color: white;position: relative;}#sk-container-id-3 div.sk-item::before, #sk-container-id-3 div.sk-parallel-item::before {content: \"\";position: absolute;border-left: 1px solid gray;box-sizing: border-box;top: 0;bottom: 0;left: 50%;z-index: -1;}#sk-container-id-3 div.sk-parallel-item {display: flex;flex-direction: column;z-index: 1;position: relative;background-color: white;}#sk-container-id-3 div.sk-parallel-item:first-child::after {align-self: flex-end;width: 50%;}#sk-container-id-3 div.sk-parallel-item:last-child::after {align-self: flex-start;width: 50%;}#sk-container-id-3 div.sk-parallel-item:only-child::after {width: 0;}#sk-container-id-3 div.sk-dashed-wrapped {border: 1px dashed gray;margin: 0 0.4em 0.5em 0.4em;box-sizing: border-box;padding-bottom: 0.4em;background-color: white;}#sk-container-id-3 div.sk-label label {font-family: monospace;font-weight: bold;display: inline-block;line-height: 1.2em;}#sk-container-id-3 div.sk-label-container {text-align: center;}#sk-container-id-3 div.sk-container {/* jupyter's `normalize.less` sets `[hidden] { display: none; }` but bootstrap.min.css set `[hidden] { display: none !important; }` so we also need the `!important` here to be able to override the default hidden behavior on the sphinx rendered scikit-learn.org. See: https://github.com/scikit-learn/scikit-learn/issues/21755 */display: inline-block !important;position: relative;}#sk-container-id-3 div.sk-text-repr-fallback {display: none;}</style><div id=\"sk-container-id-3\" class=\"sk-top-container\"><div class=\"sk-text-repr-fallback\"><pre>GenELMClassifier(hidden_layer=RandomLayer(activation_args={&#x27;power&#x27;: 23.6},\n",
       "                                          activation_func=&#x27;gaussian&#x27;,\n",
       "                                          alpha=0.1898181118253121,\n",
       "                                          n_hidden=349, random_state=1,\n",
       "                                          rbf_width=0.7769668484668575))</pre><b>In a Jupyter environment, please rerun this cell to show the HTML representation or trust the notebook. <br />On GitHub, the HTML representation is unable to render, please try loading this page with nbviewer.org.</b></div><div class=\"sk-container\" hidden><div class=\"sk-item sk-dashed-wrapped\"><div class=\"sk-label-container\"><div class=\"sk-label sk-toggleable\"><input class=\"sk-toggleable__control sk-hidden--visually\" id=\"sk-estimator-id-11\" type=\"checkbox\" ><label for=\"sk-estimator-id-11\" class=\"sk-toggleable__label sk-toggleable__label-arrow\">GenELMClassifier</label><div class=\"sk-toggleable__content\"><pre>GenELMClassifier(hidden_layer=RandomLayer(activation_args={&#x27;power&#x27;: 23.6},\n",
       "                                          activation_func=&#x27;gaussian&#x27;,\n",
       "                                          alpha=0.1898181118253121,\n",
       "                                          n_hidden=349, random_state=1,\n",
       "                                          rbf_width=0.7769668484668575))</pre></div></div></div><div class=\"sk-parallel\"><div class=\"sk-parallel-item\"><div class=\"sk-item\"><div class=\"sk-label-container\"><div class=\"sk-label sk-toggleable\"><input class=\"sk-toggleable__control sk-hidden--visually\" id=\"sk-estimator-id-12\" type=\"checkbox\" ><label for=\"sk-estimator-id-12\" class=\"sk-toggleable__label sk-toggleable__label-arrow\">binarizer: LabelBinarizer</label><div class=\"sk-toggleable__content\"><pre>LabelBinarizer(neg_label=-1)</pre></div></div></div><div class=\"sk-serial\"><div class=\"sk-item\"><div class=\"sk-estimator sk-toggleable\"><input class=\"sk-toggleable__control sk-hidden--visually\" id=\"sk-estimator-id-13\" type=\"checkbox\" ><label for=\"sk-estimator-id-13\" class=\"sk-toggleable__label sk-toggleable__label-arrow\">LabelBinarizer</label><div class=\"sk-toggleable__content\"><pre>LabelBinarizer(neg_label=-1)</pre></div></div></div></div></div></div><div class=\"sk-parallel-item\"><div class=\"sk-item\"><div class=\"sk-label-container\"><div class=\"sk-label sk-toggleable\"><input class=\"sk-toggleable__control sk-hidden--visually\" id=\"sk-estimator-id-14\" type=\"checkbox\" ><label for=\"sk-estimator-id-14\" class=\"sk-toggleable__label sk-toggleable__label-arrow\">hidden_layer: RandomLayer</label><div class=\"sk-toggleable__content\"><pre>RandomLayer(activation_args={&#x27;power&#x27;: 23.6}, activation_func=&#x27;gaussian&#x27;,\n",
       "            alpha=0.1898181118253121, n_hidden=349, random_state=1,\n",
       "            rbf_width=0.7769668484668575)</pre></div></div></div><div class=\"sk-serial\"><div class=\"sk-item\"><div class=\"sk-estimator sk-toggleable\"><input class=\"sk-toggleable__control sk-hidden--visually\" id=\"sk-estimator-id-15\" type=\"checkbox\" ><label for=\"sk-estimator-id-15\" class=\"sk-toggleable__label sk-toggleable__label-arrow\">RandomLayer</label><div class=\"sk-toggleable__content\"><pre>RandomLayer(activation_args={&#x27;power&#x27;: 23.6}, activation_func=&#x27;gaussian&#x27;,\n",
       "            alpha=0.1898181118253121, n_hidden=349, random_state=1,\n",
       "            rbf_width=0.7769668484668575)</pre></div></div></div></div></div></div></div></div></div></div>"
      ],
      "text/plain": [
       "GenELMClassifier(hidden_layer=RandomLayer(activation_args={'power': 23.6},\n",
       "                                          activation_func='gaussian',\n",
       "                                          alpha=0.1898181118253121,\n",
       "                                          n_hidden=349, random_state=1,\n",
       "                                          rbf_width=0.7769668484668575))"
      ]
     },
     "execution_count": 99,
     "metadata": {},
     "output_type": "execute_result"
    }
   ],
   "source": [
    "%%time\n",
    "cbbb = GenELMClassifier( hidden_layer=RandomLayer( random_state     =1 ,\n",
    "                         activation_func  = activation_func,\n",
    "                         n_hidden         = n_hidden,\n",
    "                         rbf_width        = rbf_width,\n",
    "                         alpha            = alpha,\n",
    "                         activation_args  = activation_args )  )\n",
    "\n",
    "cbbb.fit(x_train, y_train)"
   ]
  },
  {
   "cell_type": "code",
   "execution_count": 39,
   "metadata": {},
   "outputs": [],
   "source": [
    "#np.exp(cbbb.decision_function(X0))/(1+np.exp(-cbbb.decision_function(X0)))\n",
    "from scipy.stats import ks_2samp\n",
    "def ks_stat(y, yhat):\n",
    "    return ks_2samp(yhat[y==1], yhat[y!=1]).statistic\n",
    "\n",
    "#ks_stat( y_train,  np.exp(cbbb.decision_function(x_train))/(1+np.exp(-cbbb.decision_function(x_train)))   )"
   ]
  },
  {
   "cell_type": "code",
   "execution_count": null,
   "metadata": {},
   "outputs": [
    {
     "name": "stdout",
     "output_type": "stream",
     "text": [
      "Accuracy: 0.8796558180297176\n",
      "F1 score: 0.19404179635393506\n",
      "Recall: 0.2036587642337129\n",
      "Precision: 0.18529211956521738\n",
      "KS score: 0.13863860363205294\n",
      "AUC score: 0.5675415847701044\n",
      "CPU times: total: 16.4 s\n",
      "Wall time: 11.9 s\n"
     ]
    }
   ],
   "source": [
    "%%time\n",
    "from sklearn.metrics import accuracy_score, f1_score, recall_score, precision_score, roc_auc_score\n",
    "print(\"Accuracy:\" , accuracy_score(  y_train, cbbb.predict(x_train))) \n",
    "print(\"F1 score:\" , f1_score(        y_train, cbbb.predict(x_train))) \n",
    "print(\"Recall:\"   , recall_score(    y_train, cbbb.predict(x_train))) \n",
    "print(\"Precision:\", precision_score( y_train, cbbb.predict(x_train))) \n",
    "print(\"KS score:\" , ks_stat(         y_train, cbbb.decision_function(x_train) ))\n",
    "print(\"AUC score:\", roc_auc_score(   y_train, cbbb.predict(x_train)))"
   ]
  },
  {
   "cell_type": "code",
   "execution_count": null,
   "metadata": {},
   "outputs": [
    {
     "name": "stdout",
     "output_type": "stream",
     "text": [
      "Accuracy: 0.8786017793121763\n",
      "F1 score: 0.20100502512562812\n",
      "Recall: 0.21739130434782608\n",
      "Precision: 0.18691588785046728\n",
      "KS score: 0.14926217408042752\n",
      "AUC score: 0.5729737155843672\n",
      "CPU times: total: 6.2 s\n",
      "Wall time: 4.79 s\n"
     ]
    }
   ],
   "source": [
    "%%time\n",
    "from sklearn.metrics import accuracy_score, f1_score, recall_score, precision_score\n",
    "print(\"Accuracy:\" ,accuracy_score(  y_test, cbbb.predict(x_test))) \n",
    "print(\"F1 score:\" ,f1_score(        y_test, cbbb.predict(x_test))) \n",
    "print(\"Recall:\"   ,recall_score(    y_test, cbbb.predict(x_test))) \n",
    "print(\"Precision:\",precision_score( y_test, cbbb.predict(x_test))) \n",
    "print(\"KS score:\" , ks_stat(        y_test, cbbb.decision_function(x_test) ))\n",
    "print(\"AUC score:\", roc_auc_score(  y_test, cbbb.predict(x_test)))"
   ]
  },
  {
   "cell_type": "code",
   "execution_count": null,
   "metadata": {},
   "outputs": [
    {
     "name": "stdout",
     "output_type": "stream",
     "text": [
      "Accuracy: 0.8831847831499278\n",
      "F1 score: 0.19986357435197818\n",
      "Recall: 0.210943124550036\n",
      "Precision: 0.1898898250162022\n",
      "KS score: 0.1471217747107887\n",
      "AUC score: 0.5720383751561563\n",
      "CPU times: total: 4.38 s\n",
      "Wall time: 3.39 s\n"
     ]
    }
   ],
   "source": [
    "%%time\n",
    "from sklearn.metrics import accuracy_score, f1_score, recall_score, precision_score\n",
    "print(\"Accuracy:\" ,accuracy_score(  y_out, cbbb.predict(x_out))) \n",
    "print(\"F1 score:\" ,f1_score(        y_out, cbbb.predict(x_out))) \n",
    "print(\"Recall:\"   ,recall_score(    y_out, cbbb.predict(x_out))) \n",
    "print(\"Precision:\",precision_score( y_out, cbbb.predict(x_out))) \n",
    "print(\"KS score:\" , ks_stat(        y_out, cbbb.decision_function(x_out) ))\n",
    "print(\"AUC score:\", roc_auc_score(  y_out, cbbb.predict(x_out)))\n"
   ]
  },
  {
   "attachments": {},
   "cell_type": "markdown",
   "metadata": {},
   "source": [
    "## Leitura dos dados originais"
   ]
  },
  {
   "cell_type": "code",
   "execution_count": 40,
   "metadata": {},
   "outputs": [],
   "source": [
    "class ELMWrapper(ELMClassifier):\n",
    "    def predict_proba(self, x):\n",
    "        return self.decision_function(x)\n",
    "\n",
    "from sklearn.preprocessing import LabelBinarizer\n",
    "elm = ELMWrapper(binarizer=LabelBinarizer())"
   ]
  },
  {
   "cell_type": "code",
   "execution_count": 42,
   "metadata": {},
   "outputs": [],
   "source": [
    "#max(cbbb.decision_function(X0)), min(cbbb.decision_function(X0))"
   ]
  },
  {
   "cell_type": "code",
   "execution_count": 86,
   "metadata": {},
   "outputs": [
    {
     "name": "stdout",
     "output_type": "stream",
     "text": [
      "CPU times: total: 4.73 s\n",
      "Wall time: 3.37 s\n"
     ]
    }
   ],
   "source": [
    "%%time\n",
    "#df['proba'] = cbbb.predict_proba(X0)[:,1]\n",
    "df['proba'] = np.exp(cbbb.decision_function(X0))/(1+np.exp(-cbbb.decision_function(X0)))\n",
    "#df['proba'] = (cbbb.decision_function(X0)-min(cbbb.decision_function(X0)))/(max(cbbb.decision_function(X0))-min(cbbb.decision_function(X0)))"
   ]
  },
  {
   "cell_type": "code",
   "execution_count": 87,
   "metadata": {},
   "outputs": [
    {
     "data": {
      "text/html": [
       "<div>\n",
       "<style scoped>\n",
       "    .dataframe tbody tr th:only-of-type {\n",
       "        vertical-align: middle;\n",
       "    }\n",
       "\n",
       "    .dataframe tbody tr th {\n",
       "        vertical-align: top;\n",
       "    }\n",
       "\n",
       "    .dataframe thead th {\n",
       "        text-align: right;\n",
       "    }\n",
       "</style>\n",
       "<table border=\"1\" class=\"dataframe\">\n",
       "  <thead>\n",
       "    <tr style=\"text-align: right;\">\n",
       "      <th></th>\n",
       "      <th>proba</th>\n",
       "    </tr>\n",
       "    <tr>\n",
       "      <th>SITUACAO</th>\n",
       "      <th></th>\n",
       "    </tr>\n",
       "  </thead>\n",
       "  <tbody>\n",
       "    <tr>\n",
       "      <th>0</th>\n",
       "      <td>116654</td>\n",
       "    </tr>\n",
       "    <tr>\n",
       "      <th>1</th>\n",
       "      <td>8862</td>\n",
       "    </tr>\n",
       "  </tbody>\n",
       "</table>\n",
       "</div>"
      ],
      "text/plain": [
       "           proba\n",
       "SITUACAO        \n",
       "0         116654\n",
       "1           8862"
      ]
     },
     "execution_count": 87,
     "metadata": {},
     "output_type": "execute_result"
    }
   ],
   "source": [
    "df[['SITUACAO','proba']].groupby(['SITUACAO']).count()"
   ]
  },
  {
   "cell_type": "code",
   "execution_count": 88,
   "metadata": {},
   "outputs": [
    {
     "name": "stdout",
     "output_type": "stream",
     "text": [
      "CPU times: total: 31.2 ms\n",
      "Wall time: 43.9 ms\n"
     ]
    },
    {
     "data": {
      "text/html": [
       "<div>\n",
       "<style scoped>\n",
       "    .dataframe tbody tr th:only-of-type {\n",
       "        vertical-align: middle;\n",
       "    }\n",
       "\n",
       "    .dataframe tbody tr th {\n",
       "        vertical-align: top;\n",
       "    }\n",
       "\n",
       "    .dataframe thead tr th {\n",
       "        text-align: left;\n",
       "    }\n",
       "\n",
       "    .dataframe thead tr:last-of-type th {\n",
       "        text-align: right;\n",
       "    }\n",
       "</style>\n",
       "<table border=\"1\" class=\"dataframe\">\n",
       "  <thead>\n",
       "    <tr>\n",
       "      <th></th>\n",
       "      <th colspan=\"8\" halign=\"left\">proba</th>\n",
       "    </tr>\n",
       "    <tr>\n",
       "      <th></th>\n",
       "      <th>count</th>\n",
       "      <th>mean</th>\n",
       "      <th>std</th>\n",
       "      <th>min</th>\n",
       "      <th>25%</th>\n",
       "      <th>50%</th>\n",
       "      <th>75%</th>\n",
       "      <th>max</th>\n",
       "    </tr>\n",
       "    <tr>\n",
       "      <th>SITUACAO</th>\n",
       "      <th></th>\n",
       "      <th></th>\n",
       "      <th></th>\n",
       "      <th></th>\n",
       "      <th></th>\n",
       "      <th></th>\n",
       "      <th></th>\n",
       "      <th></th>\n",
       "    </tr>\n",
       "  </thead>\n",
       "  <tbody>\n",
       "    <tr>\n",
       "      <th>0</th>\n",
       "      <td>116654.0</td>\n",
       "      <td>0.499951</td>\n",
       "      <td>0.004306</td>\n",
       "      <td>0.008972</td>\n",
       "      <td>0.5</td>\n",
       "      <td>0.5</td>\n",
       "      <td>0.5</td>\n",
       "      <td>1.117434</td>\n",
       "    </tr>\n",
       "    <tr>\n",
       "      <th>1</th>\n",
       "      <td>8862.0</td>\n",
       "      <td>0.500606</td>\n",
       "      <td>0.025107</td>\n",
       "      <td>0.131470</td>\n",
       "      <td>0.5</td>\n",
       "      <td>0.5</td>\n",
       "      <td>0.5</td>\n",
       "      <td>2.156292</td>\n",
       "    </tr>\n",
       "  </tbody>\n",
       "</table>\n",
       "</div>"
      ],
      "text/plain": [
       "             proba                                                       \n",
       "             count      mean       std       min  25%  50%  75%       max\n",
       "SITUACAO                                                                 \n",
       "0         116654.0  0.499951  0.004306  0.008972  0.5  0.5  0.5  1.117434\n",
       "1           8862.0  0.500606  0.025107  0.131470  0.5  0.5  0.5  2.156292"
      ]
     },
     "execution_count": 88,
     "metadata": {},
     "output_type": "execute_result"
    }
   ],
   "source": [
    "%%time\n",
    "df[['SITUACAO','proba']].groupby(['SITUACAO']).describe()"
   ]
  },
  {
   "cell_type": "code",
   "execution_count": 207,
   "metadata": {},
   "outputs": [
    {
     "name": "stdout",
     "output_type": "stream",
     "text": [
      "CPU times: user 2.55 ms, sys: 4.13 ms, total: 6.68 ms\n",
      "Wall time: 4.9 ms\n"
     ]
    }
   ],
   "source": [
    "%%time\n",
    "df.loc[ df['proba']>=0.75 ,'PRED'] = 1\n",
    "df.loc[ df['proba'] <0.75 ,'PRED'] = 0"
   ]
  },
  {
   "attachments": {},
   "cell_type": "markdown",
   "metadata": {},
   "source": [
    "<a name=\"gen_mlpr\"></a>\n",
    "\n",
    "## 2.2) GEN MLPR Random Layer\n",
    "\n",
    "- ir para [Menu Principal](#navegacao)"
   ]
  },
  {
   "cell_type": "code",
   "execution_count": 81,
   "metadata": {},
   "outputs": [
    {
     "name": "stdout",
     "output_type": "stream",
     "text": [
      "CPU times: total: 0 ns\n",
      "Wall time: 999 µs\n"
     ]
    }
   ],
   "source": [
    "%%time\n",
    "from bayes_opt import BayesianOptimization\n",
    "from sklearn.metrics import roc_auc_score\n",
    "from catboost import Pool, CatBoost, CatBoostClassifier\n",
    "import catboost\n",
    "\n",
    "af_range = ['tanh','sine','tribas','sigmoid','hardlim','softlim','gaussian','multiquadric','inv_multiquadric']\n",
    "aa_range = [{'power':pow/10} for pow in range(1,252)]\n",
    "\n",
    "def gbm_xgb(activation_func, n_hidden, activation_args):\n",
    "    model = GenELMClassifier(\n",
    "              hidden_layer=MLPRandomLayer( random_state    = 1 ,\n",
    "                                           activation_func = af_range[int(activation_func)],\n",
    "                                           n_hidden        = int(n_hidden),\n",
    "                                           activation_args = aa_range[int(activation_args )]) )\n",
    "    model.fit(x_train, y_train)\n",
    "    pred_labels = model.predict(x_test)\n",
    "    return roc_auc_score(y_test, pred_labels)\n",
    "\n",
    "params_xgb = {\n",
    "    'activation_func'  : (0.001 ,8.0),\n",
    "    'n_hidden'         : (0.001 ,0.9),\n",
    "    'activation_args'  : (0.000 ,250)\n",
    "}\n",
    "\n",
    "xgb0 = BayesianOptimization(f=gbm_xgb, pbounds=params_xgb, random_state=123,allow_duplicate_points=True) \n",
    "xgb0.set_gp_params(alpha=1e-4)\n",
    "#xgb0.maximize(init_points=5, n_iter=15)"
   ]
  },
  {
   "cell_type": "code",
   "execution_count": 82,
   "metadata": {},
   "outputs": [],
   "source": [
    "#params_xgb = xgb0.max['params']\n",
    "params_xgb = { 'activation_args': 47.10748745136126,\n",
    "               'activation_func': 3.674010999171463,\n",
    "               'n_hidden': 348.7326283636427}"
   ]
  },
  {
   "cell_type": "code",
   "execution_count": 83,
   "metadata": {},
   "outputs": [
    {
     "data": {
      "text/plain": [
       "3"
      ]
     },
     "execution_count": 83,
     "metadata": {},
     "output_type": "execute_result"
    }
   ],
   "source": [
    "#int(params_xgb['activation_func'])"
   ]
  },
  {
   "cell_type": "code",
   "execution_count": null,
   "metadata": {},
   "outputs": [],
   "source": [
    "activation_func = af_range[int(xgb0.max['params']['activation_func'])]\n",
    "n_hidden        = int(xgb0.max['params']['n_hidden'])\n",
    "activation_args = aa_range[int(xgb0.max['params']['activation_args'])]\n",
    "\n",
    "print('\\n activation_func:'    , activation_func,\n",
    "      '\\n n_hidden:'           , n_hidden,\n",
    "      '\\n activation_args:'    , activation_args)"
   ]
  },
  {
   "cell_type": "code",
   "execution_count": 57,
   "metadata": {},
   "outputs": [
    {
     "name": "stdout",
     "output_type": "stream",
     "text": [
      "CPU times: total: 30.7 s\n",
      "Wall time: 8.46 s\n"
     ]
    },
    {
     "data": {
      "text/html": [
       "<style>#sk-container-id-1 {color: black;background-color: white;}#sk-container-id-1 pre{padding: 0;}#sk-container-id-1 div.sk-toggleable {background-color: white;}#sk-container-id-1 label.sk-toggleable__label {cursor: pointer;display: block;width: 100%;margin-bottom: 0;padding: 0.3em;box-sizing: border-box;text-align: center;}#sk-container-id-1 label.sk-toggleable__label-arrow:before {content: \"▸\";float: left;margin-right: 0.25em;color: #696969;}#sk-container-id-1 label.sk-toggleable__label-arrow:hover:before {color: black;}#sk-container-id-1 div.sk-estimator:hover label.sk-toggleable__label-arrow:before {color: black;}#sk-container-id-1 div.sk-toggleable__content {max-height: 0;max-width: 0;overflow: hidden;text-align: left;background-color: #f0f8ff;}#sk-container-id-1 div.sk-toggleable__content pre {margin: 0.2em;color: black;border-radius: 0.25em;background-color: #f0f8ff;}#sk-container-id-1 input.sk-toggleable__control:checked~div.sk-toggleable__content {max-height: 200px;max-width: 100%;overflow: auto;}#sk-container-id-1 input.sk-toggleable__control:checked~label.sk-toggleable__label-arrow:before {content: \"▾\";}#sk-container-id-1 div.sk-estimator input.sk-toggleable__control:checked~label.sk-toggleable__label {background-color: #d4ebff;}#sk-container-id-1 div.sk-label input.sk-toggleable__control:checked~label.sk-toggleable__label {background-color: #d4ebff;}#sk-container-id-1 input.sk-hidden--visually {border: 0;clip: rect(1px 1px 1px 1px);clip: rect(1px, 1px, 1px, 1px);height: 1px;margin: -1px;overflow: hidden;padding: 0;position: absolute;width: 1px;}#sk-container-id-1 div.sk-estimator {font-family: monospace;background-color: #f0f8ff;border: 1px dotted black;border-radius: 0.25em;box-sizing: border-box;margin-bottom: 0.5em;}#sk-container-id-1 div.sk-estimator:hover {background-color: #d4ebff;}#sk-container-id-1 div.sk-parallel-item::after {content: \"\";width: 100%;border-bottom: 1px solid gray;flex-grow: 1;}#sk-container-id-1 div.sk-label:hover label.sk-toggleable__label {background-color: #d4ebff;}#sk-container-id-1 div.sk-serial::before {content: \"\";position: absolute;border-left: 1px solid gray;box-sizing: border-box;top: 0;bottom: 0;left: 50%;z-index: 0;}#sk-container-id-1 div.sk-serial {display: flex;flex-direction: column;align-items: center;background-color: white;padding-right: 0.2em;padding-left: 0.2em;position: relative;}#sk-container-id-1 div.sk-item {position: relative;z-index: 1;}#sk-container-id-1 div.sk-parallel {display: flex;align-items: stretch;justify-content: center;background-color: white;position: relative;}#sk-container-id-1 div.sk-item::before, #sk-container-id-1 div.sk-parallel-item::before {content: \"\";position: absolute;border-left: 1px solid gray;box-sizing: border-box;top: 0;bottom: 0;left: 50%;z-index: -1;}#sk-container-id-1 div.sk-parallel-item {display: flex;flex-direction: column;z-index: 1;position: relative;background-color: white;}#sk-container-id-1 div.sk-parallel-item:first-child::after {align-self: flex-end;width: 50%;}#sk-container-id-1 div.sk-parallel-item:last-child::after {align-self: flex-start;width: 50%;}#sk-container-id-1 div.sk-parallel-item:only-child::after {width: 0;}#sk-container-id-1 div.sk-dashed-wrapped {border: 1px dashed gray;margin: 0 0.4em 0.5em 0.4em;box-sizing: border-box;padding-bottom: 0.4em;background-color: white;}#sk-container-id-1 div.sk-label label {font-family: monospace;font-weight: bold;display: inline-block;line-height: 1.2em;}#sk-container-id-1 div.sk-label-container {text-align: center;}#sk-container-id-1 div.sk-container {/* jupyter's `normalize.less` sets `[hidden] { display: none; }` but bootstrap.min.css set `[hidden] { display: none !important; }` so we also need the `!important` here to be able to override the default hidden behavior on the sphinx rendered scikit-learn.org. See: https://github.com/scikit-learn/scikit-learn/issues/21755 */display: inline-block !important;position: relative;}#sk-container-id-1 div.sk-text-repr-fallback {display: none;}</style><div id=\"sk-container-id-1\" class=\"sk-top-container\"><div class=\"sk-text-repr-fallback\"><pre>GenELMClassifier(hidden_layer=RandomLayer(activation_args={&#x27;power&#x27;: 4.8},\n",
       "                                          activation_func=&#x27;sigmoid&#x27;,\n",
       "                                          n_hidden=348, random_state=1))</pre><b>In a Jupyter environment, please rerun this cell to show the HTML representation or trust the notebook. <br />On GitHub, the HTML representation is unable to render, please try loading this page with nbviewer.org.</b></div><div class=\"sk-container\" hidden><div class=\"sk-item sk-dashed-wrapped\"><div class=\"sk-label-container\"><div class=\"sk-label sk-toggleable\"><input class=\"sk-toggleable__control sk-hidden--visually\" id=\"sk-estimator-id-1\" type=\"checkbox\" ><label for=\"sk-estimator-id-1\" class=\"sk-toggleable__label sk-toggleable__label-arrow\">GenELMClassifier</label><div class=\"sk-toggleable__content\"><pre>GenELMClassifier(hidden_layer=RandomLayer(activation_args={&#x27;power&#x27;: 4.8},\n",
       "                                          activation_func=&#x27;sigmoid&#x27;,\n",
       "                                          n_hidden=348, random_state=1))</pre></div></div></div><div class=\"sk-parallel\"><div class=\"sk-parallel-item\"><div class=\"sk-item\"><div class=\"sk-label-container\"><div class=\"sk-label sk-toggleable\"><input class=\"sk-toggleable__control sk-hidden--visually\" id=\"sk-estimator-id-2\" type=\"checkbox\" ><label for=\"sk-estimator-id-2\" class=\"sk-toggleable__label sk-toggleable__label-arrow\">binarizer: LabelBinarizer</label><div class=\"sk-toggleable__content\"><pre>LabelBinarizer(neg_label=-1)</pre></div></div></div><div class=\"sk-serial\"><div class=\"sk-item\"><div class=\"sk-estimator sk-toggleable\"><input class=\"sk-toggleable__control sk-hidden--visually\" id=\"sk-estimator-id-3\" type=\"checkbox\" ><label for=\"sk-estimator-id-3\" class=\"sk-toggleable__label sk-toggleable__label-arrow\">LabelBinarizer</label><div class=\"sk-toggleable__content\"><pre>LabelBinarizer(neg_label=-1)</pre></div></div></div></div></div></div><div class=\"sk-parallel-item\"><div class=\"sk-item\"><div class=\"sk-label-container\"><div class=\"sk-label sk-toggleable\"><input class=\"sk-toggleable__control sk-hidden--visually\" id=\"sk-estimator-id-4\" type=\"checkbox\" ><label for=\"sk-estimator-id-4\" class=\"sk-toggleable__label sk-toggleable__label-arrow\">hidden_layer: RandomLayer</label><div class=\"sk-toggleable__content\"><pre>RandomLayer(activation_args={&#x27;power&#x27;: 4.8}, activation_func=&#x27;sigmoid&#x27;,\n",
       "            n_hidden=348, random_state=1)</pre></div></div></div><div class=\"sk-serial\"><div class=\"sk-item\"><div class=\"sk-estimator sk-toggleable\"><input class=\"sk-toggleable__control sk-hidden--visually\" id=\"sk-estimator-id-5\" type=\"checkbox\" ><label for=\"sk-estimator-id-5\" class=\"sk-toggleable__label sk-toggleable__label-arrow\">RandomLayer</label><div class=\"sk-toggleable__content\"><pre>RandomLayer(activation_args={&#x27;power&#x27;: 4.8}, activation_func=&#x27;sigmoid&#x27;,\n",
       "            n_hidden=348, random_state=1)</pre></div></div></div></div></div></div></div></div></div></div>"
      ],
      "text/plain": [
       "GenELMClassifier(hidden_layer=RandomLayer(activation_args={'power': 4.8},\n",
       "                                          activation_func='sigmoid',\n",
       "                                          n_hidden=348, random_state=1))"
      ]
     },
     "execution_count": 57,
     "metadata": {},
     "output_type": "execute_result"
    }
   ],
   "source": [
    "%%time\n",
    "cbbb = GenELMClassifier( hidden_layer=RandomLayer( random_state  =1 ,\n",
    "                         activation_func = af_range[int(params_xgb['activation_func'])] ,\n",
    "                         n_hidden        = int(params_xgb['n_hidden']) ,\n",
    "                         activation_args = aa_range[int(params_xgb['activation_args'])]\n",
    "                          ) )\n",
    "\n",
    "cbbb.fit(x_train, y_train)"
   ]
  },
  {
   "cell_type": "code",
   "execution_count": 61,
   "metadata": {},
   "outputs": [
    {
     "name": "stdout",
     "output_type": "stream",
     "text": [
      "Accuracy: 0.9284547663625862\n",
      "F1 score: 0.11352418558736427\n",
      "Recall: 0.06440171737913011\n",
      "Precision: 0.478502080443828\n",
      "KS score: 0.7790013101172787\n",
      "AUC score: 0.5295133015074973\n",
      "CPU times: total: 17.3 s\n",
      "Wall time: 12.7 s\n"
     ]
    }
   ],
   "source": [
    "%%time\n",
    "from sklearn.metrics import accuracy_score, f1_score, recall_score, precision_score, roc_auc_score\n",
    "print(\"Accuracy:\" , accuracy_score(  y_train, cbbb.predict(x_train))) \n",
    "print(\"F1 score:\" , f1_score(        y_train, cbbb.predict(x_train))) \n",
    "print(\"Recall:\"   , recall_score(    y_train, cbbb.predict(x_train))) \n",
    "print(\"Precision:\", precision_score( y_train, cbbb.predict(x_train))) \n",
    "print(\"KS score:\" , ks_stat(         y_train, cbbb.decision_function(x_train) ))\n",
    "print(\"AUC score:\", roc_auc_score(   y_train, cbbb.predict(x_train)))"
   ]
  },
  {
   "cell_type": "code",
   "execution_count": 62,
   "metadata": {},
   "outputs": [
    {
     "name": "stdout",
     "output_type": "stream",
     "text": [
      "Accuracy: 0.9283959633514806\n",
      "F1 score: 0.10978126289723485\n",
      "Recall: 0.06285444234404537\n",
      "Precision: 0.43322475570032576\n",
      "KS score: 0.7795320699621875\n",
      "AUC score: 0.52832096581641\n",
      "CPU times: total: 5.88 s\n",
      "Wall time: 4.27 s\n"
     ]
    }
   ],
   "source": [
    "%%time\n",
    "from sklearn.metrics import accuracy_score, f1_score, recall_score, precision_score\n",
    "print(\"Accuracy:\" ,accuracy_score(  y_test, cbbb.predict(x_test))) \n",
    "print(\"F1 score:\" ,f1_score(        y_test, cbbb.predict(x_test))) \n",
    "print(\"Recall:\"   ,recall_score(    y_test, cbbb.predict(x_test))) \n",
    "print(\"Precision:\",precision_score( y_test, cbbb.predict(x_test))) \n",
    "print(\"KS score:\" , ks_stat(        y_test, cbbb.decision_function(x_test) ))\n",
    "print(\"AUC score:\", roc_auc_score(  y_test, cbbb.predict(x_test)))"
   ]
  },
  {
   "cell_type": "code",
   "execution_count": 63,
   "metadata": {},
   "outputs": [
    {
     "name": "stdout",
     "output_type": "stream",
     "text": [
      "Accuracy: 0.9286461186077777\n",
      "F1 score: 0.11379097093382808\n",
      "Recall: 0.06623470122390208\n",
      "Precision: 0.40350877192982454\n",
      "KS score: 0.7712198729675607\n",
      "AUC score: 0.918362501899602\n",
      "CPU times: total: 5.25 s\n",
      "Wall time: 3.84 s\n"
     ]
    }
   ],
   "source": [
    "%%time\n",
    "from sklearn.metrics import accuracy_score, f1_score, recall_score, precision_score\n",
    "print(\"Accuracy:\" ,accuracy_score(  y_out, cbbb.predict(x_out))) \n",
    "print(\"F1 score:\" ,f1_score(        y_out, cbbb.predict(x_out))) \n",
    "print(\"Recall:\"   ,recall_score(    y_out, cbbb.predict(x_out))) \n",
    "print(\"Precision:\",precision_score( y_out, cbbb.predict(x_out))) \n",
    "print(\"KS score:\" , ks_stat(        y_out, cbbb.decision_function(x_out)))\n",
    "print(\"AUC score:\", roc_auc_score(  y_out, cbbb.decision_function(x_out)))"
   ]
  },
  {
   "attachments": {},
   "cell_type": "markdown",
   "metadata": {},
   "source": [
    "<a name=\"falsopos\"></a>\n",
    "\n",
    "## 3.2) Taxa de Falso Positivo\n",
    "  \n",
    "- ir para [Menu Principal](#navegacao)"
   ]
  },
  {
   "cell_type": "code",
   "execution_count": 64,
   "metadata": {},
   "outputs": [
    {
     "name": "stdout",
     "output_type": "stream",
     "text": [
      "CPU times: total: 8.75 s\n",
      "Wall time: 6.31 s\n"
     ]
    }
   ],
   "source": [
    "%%time\n",
    "#df['proba'] = cbbb.predict_proba(X0)[:,1]\n",
    "df['proba'] = np.exp(cbbb.decision_function(X0))/(1+np.exp(-cbbb.decision_function(X0)))\n"
   ]
  },
  {
   "cell_type": "code",
   "execution_count": 85,
   "metadata": {},
   "outputs": [
    {
     "name": "stdout",
     "output_type": "stream",
     "text": [
      "CPU times: total: 46.9 ms\n",
      "Wall time: 38.4 ms\n"
     ]
    },
    {
     "data": {
      "text/html": [
       "<div>\n",
       "<style scoped>\n",
       "    .dataframe tbody tr th:only-of-type {\n",
       "        vertical-align: middle;\n",
       "    }\n",
       "\n",
       "    .dataframe tbody tr th {\n",
       "        vertical-align: top;\n",
       "    }\n",
       "\n",
       "    .dataframe thead tr th {\n",
       "        text-align: left;\n",
       "    }\n",
       "\n",
       "    .dataframe thead tr:last-of-type th {\n",
       "        text-align: right;\n",
       "    }\n",
       "</style>\n",
       "<table border=\"1\" class=\"dataframe\">\n",
       "  <thead>\n",
       "    <tr>\n",
       "      <th></th>\n",
       "      <th colspan=\"8\" halign=\"left\">proba</th>\n",
       "    </tr>\n",
       "    <tr>\n",
       "      <th></th>\n",
       "      <th>count</th>\n",
       "      <th>mean</th>\n",
       "      <th>std</th>\n",
       "      <th>min</th>\n",
       "      <th>25%</th>\n",
       "      <th>50%</th>\n",
       "      <th>75%</th>\n",
       "      <th>max</th>\n",
       "    </tr>\n",
       "    <tr>\n",
       "      <th>SITUACAO</th>\n",
       "      <th></th>\n",
       "      <th></th>\n",
       "      <th></th>\n",
       "      <th></th>\n",
       "      <th></th>\n",
       "      <th></th>\n",
       "      <th></th>\n",
       "      <th></th>\n",
       "    </tr>\n",
       "  </thead>\n",
       "  <tbody>\n",
       "    <tr>\n",
       "      <th>0</th>\n",
       "      <td>116654.0</td>\n",
       "      <td>0.129582</td>\n",
       "      <td>0.081057</td>\n",
       "      <td>0.002502</td>\n",
       "      <td>0.097595</td>\n",
       "      <td>0.100824</td>\n",
       "      <td>0.126025</td>\n",
       "      <td>5.384550</td>\n",
       "    </tr>\n",
       "    <tr>\n",
       "      <th>1</th>\n",
       "      <td>8862.0</td>\n",
       "      <td>0.291836</td>\n",
       "      <td>0.247643</td>\n",
       "      <td>0.042775</td>\n",
       "      <td>0.203410</td>\n",
       "      <td>0.248162</td>\n",
       "      <td>0.318468</td>\n",
       "      <td>13.275781</td>\n",
       "    </tr>\n",
       "  </tbody>\n",
       "</table>\n",
       "</div>"
      ],
      "text/plain": [
       "             proba                                                    \\\n",
       "             count      mean       std       min       25%       50%   \n",
       "SITUACAO                                                               \n",
       "0         116654.0  0.129582  0.081057  0.002502  0.097595  0.100824   \n",
       "1           8862.0  0.291836  0.247643  0.042775  0.203410  0.248162   \n",
       "\n",
       "                               \n",
       "               75%        max  \n",
       "SITUACAO                       \n",
       "0         0.126025   5.384550  \n",
       "1         0.318468  13.275781  "
      ]
     },
     "execution_count": 85,
     "metadata": {},
     "output_type": "execute_result"
    }
   ],
   "source": [
    "%%time\n",
    "df[['SITUACAO','proba']].groupby(['SITUACAO']).describe()"
   ]
  },
  {
   "cell_type": "code",
   "execution_count": 86,
   "metadata": {},
   "outputs": [
    {
     "name": "stdout",
     "output_type": "stream",
     "text": [
      "CPU times: total: 15.6 ms\n",
      "Wall time: 2.87 ms\n"
     ]
    }
   ],
   "source": [
    "%%time\n",
    "df.loc[ df['proba']>=0.20 ,'PRED'] = 1\n",
    "df.loc[ df['proba'] <0.20 ,'PRED'] = 0"
   ]
  },
  {
   "cell_type": "code",
   "execution_count": 87,
   "metadata": {},
   "outputs": [
    {
     "name": "stdout",
     "output_type": "stream",
     "text": [
      "CPU times: total: 31.2 ms\n",
      "Wall time: 6.98 ms\n"
     ]
    },
    {
     "data": {
      "text/html": [
       "<div>\n",
       "<style scoped>\n",
       "    .dataframe tbody tr th:only-of-type {\n",
       "        vertical-align: middle;\n",
       "    }\n",
       "\n",
       "    .dataframe tbody tr th {\n",
       "        vertical-align: top;\n",
       "    }\n",
       "\n",
       "    .dataframe thead th {\n",
       "        text-align: right;\n",
       "    }\n",
       "</style>\n",
       "<table border=\"1\" class=\"dataframe\">\n",
       "  <thead>\n",
       "    <tr style=\"text-align: right;\">\n",
       "      <th></th>\n",
       "      <th>SITUACAO</th>\n",
       "    </tr>\n",
       "    <tr>\n",
       "      <th>PRED</th>\n",
       "      <th></th>\n",
       "    </tr>\n",
       "  </thead>\n",
       "  <tbody>\n",
       "    <tr>\n",
       "      <th>0.0</th>\n",
       "      <td>106087</td>\n",
       "    </tr>\n",
       "    <tr>\n",
       "      <th>1.0</th>\n",
       "      <td>19429</td>\n",
       "    </tr>\n",
       "  </tbody>\n",
       "</table>\n",
       "</div>"
      ],
      "text/plain": [
       "      SITUACAO\n",
       "PRED          \n",
       "0.0     106087\n",
       "1.0      19429"
      ]
     },
     "execution_count": 87,
     "metadata": {},
     "output_type": "execute_result"
    }
   ],
   "source": [
    "%%time\n",
    "df[['SITUACAO','PRED']].groupby(['PRED']).count()"
   ]
  },
  {
   "cell_type": "code",
   "execution_count": 88,
   "metadata": {},
   "outputs": [
    {
     "data": {
      "text/html": [
       "<div>\n",
       "<style scoped>\n",
       "    .dataframe tbody tr th:only-of-type {\n",
       "        vertical-align: middle;\n",
       "    }\n",
       "\n",
       "    .dataframe tbody tr th {\n",
       "        vertical-align: top;\n",
       "    }\n",
       "\n",
       "    .dataframe thead th {\n",
       "        text-align: right;\n",
       "    }\n",
       "</style>\n",
       "<table border=\"1\" class=\"dataframe\">\n",
       "  <thead>\n",
       "    <tr style=\"text-align: right;\">\n",
       "      <th>PRED</th>\n",
       "      <th>0.0</th>\n",
       "      <th>1.0</th>\n",
       "    </tr>\n",
       "    <tr>\n",
       "      <th>SITUACAO</th>\n",
       "      <th></th>\n",
       "      <th></th>\n",
       "    </tr>\n",
       "  </thead>\n",
       "  <tbody>\n",
       "    <tr>\n",
       "      <th>0</th>\n",
       "      <td>104031</td>\n",
       "      <td>12623</td>\n",
       "    </tr>\n",
       "    <tr>\n",
       "      <th>1</th>\n",
       "      <td>2056</td>\n",
       "      <td>6806</td>\n",
       "    </tr>\n",
       "  </tbody>\n",
       "</table>\n",
       "</div>"
      ],
      "text/plain": [
       "PRED         0.0    1.0\n",
       "SITUACAO               \n",
       "0         104031  12623\n",
       "1           2056   6806"
      ]
     },
     "execution_count": 88,
     "metadata": {},
     "output_type": "execute_result"
    }
   ],
   "source": [
    "pd.crosstab(df.SITUACAO, df.PRED)"
   ]
  },
  {
   "cell_type": "code",
   "execution_count": 89,
   "metadata": {},
   "outputs": [
    {
     "name": "stdout",
     "output_type": "stream",
     "text": [
      "2002\n",
      "2003\n",
      "2004\n",
      "2005\n",
      "2006\n",
      "2007\n",
      "2008\n",
      "2009\n",
      "2010\n",
      "2011\n",
      "2012\n",
      "2013\n",
      "2014\n",
      "2015\n",
      "2016\n",
      "2017\n",
      "2018\n",
      "2019\n",
      "2020\n",
      "2021\n",
      "2022\n"
     ]
    }
   ],
   "source": [
    "metrics_list_safra = []\n",
    "safras = df['ANO'].unique()\n",
    "safras.sort()\n",
    "i=0\n",
    "for ano in safras:\n",
    "    metrics = dict()\n",
    "    metrics['Model Index']=i\n",
    "    metrics['ANO']=ano\n",
    "    valid_hue = df[df['ANO']==ano]\n",
    "    print(ano)\n",
    "    confusao_pop = confusion_matrix(valid_hue['SITUACAO'], valid_hue['PRED'])\n",
    "    \n",
    "    metrics[\"Accuracy\"]  = accuracy_score(valid_hue['SITUACAO'] , valid_hue['PRED'])\n",
    "    metrics['AUC']       = roc_auc_score(valid_hue['SITUACAO']  , valid_hue['proba'])\n",
    "    metrics['KS Score']  = ks_stat(valid_hue['SITUACAO']        , valid_hue['proba'])\n",
    "    metrics[\"F1 score\"]  = f1_score(valid_hue['SITUACAO']       , valid_hue['PRED'])\n",
    "    metrics[\"Recall\"]    = recall_score(valid_hue['SITUACAO']   , valid_hue['PRED']) \n",
    "    metrics[\"Precision\"] = precision_score(valid_hue['SITUACAO'], valid_hue['PRED'])\n",
    "    metrics[\"False positive rate\"] = confusao_pop[0][1]/(confusao_pop[0][0]+confusao_pop[0][1])\n",
    "    metrics[\"True positive rate\"]  = confusao_pop[1][1]/(confusao_pop[1][0]+confusao_pop[1][1])\n",
    "    metrics_list_safra.append(metrics)\n",
    "    del valid_hue, confusao_pop"
   ]
  },
  {
   "cell_type": "code",
   "execution_count": 90,
   "metadata": {},
   "outputs": [],
   "source": [
    "df_metrics = pd.DataFrame(metrics_list_safra)"
   ]
  },
  {
   "cell_type": "code",
   "execution_count": 91,
   "metadata": {},
   "outputs": [],
   "source": [
    "df_metrics.to_csv('df_metrics_elm.csv')"
   ]
  },
  {
   "cell_type": "code",
   "execution_count": 92,
   "metadata": {},
   "outputs": [
    {
     "data": {
      "text/html": [
       "<div>\n",
       "<style scoped>\n",
       "    .dataframe tbody tr th:only-of-type {\n",
       "        vertical-align: middle;\n",
       "    }\n",
       "\n",
       "    .dataframe tbody tr th {\n",
       "        vertical-align: top;\n",
       "    }\n",
       "\n",
       "    .dataframe thead th {\n",
       "        text-align: right;\n",
       "    }\n",
       "</style>\n",
       "<table border=\"1\" class=\"dataframe\">\n",
       "  <thead>\n",
       "    <tr style=\"text-align: right;\">\n",
       "      <th></th>\n",
       "      <th>Model Index</th>\n",
       "      <th>ANO</th>\n",
       "      <th>Accuracy</th>\n",
       "      <th>AUC</th>\n",
       "      <th>KS Score</th>\n",
       "      <th>F1 score</th>\n",
       "      <th>Recall</th>\n",
       "      <th>Precision</th>\n",
       "      <th>False positive rate</th>\n",
       "      <th>True positive rate</th>\n",
       "    </tr>\n",
       "  </thead>\n",
       "  <tbody>\n",
       "    <tr>\n",
       "      <th>0</th>\n",
       "      <td>0</td>\n",
       "      <td>2002</td>\n",
       "      <td>0.881579</td>\n",
       "      <td>0.934848</td>\n",
       "      <td>0.793939</td>\n",
       "      <td>0.929134</td>\n",
       "      <td>0.893939</td>\n",
       "      <td>0.967213</td>\n",
       "      <td>0.200000</td>\n",
       "      <td>0.893939</td>\n",
       "    </tr>\n",
       "    <tr>\n",
       "      <th>1</th>\n",
       "      <td>0</td>\n",
       "      <td>2003</td>\n",
       "      <td>0.708333</td>\n",
       "      <td>0.814453</td>\n",
       "      <td>0.562500</td>\n",
       "      <td>0.794118</td>\n",
       "      <td>0.843750</td>\n",
       "      <td>0.750000</td>\n",
       "      <td>0.562500</td>\n",
       "      <td>0.843750</td>\n",
       "    </tr>\n",
       "    <tr>\n",
       "      <th>2</th>\n",
       "      <td>0</td>\n",
       "      <td>2004</td>\n",
       "      <td>0.876923</td>\n",
       "      <td>0.919048</td>\n",
       "      <td>0.819048</td>\n",
       "      <td>0.888889</td>\n",
       "      <td>0.914286</td>\n",
       "      <td>0.864865</td>\n",
       "      <td>0.166667</td>\n",
       "      <td>0.914286</td>\n",
       "    </tr>\n",
       "    <tr>\n",
       "      <th>3</th>\n",
       "      <td>0</td>\n",
       "      <td>2005</td>\n",
       "      <td>0.546296</td>\n",
       "      <td>0.676560</td>\n",
       "      <td>0.366216</td>\n",
       "      <td>0.473118</td>\n",
       "      <td>0.758621</td>\n",
       "      <td>0.343750</td>\n",
       "      <td>0.531646</td>\n",
       "      <td>0.758621</td>\n",
       "    </tr>\n",
       "    <tr>\n",
       "      <th>4</th>\n",
       "      <td>0</td>\n",
       "      <td>2006</td>\n",
       "      <td>0.791367</td>\n",
       "      <td>0.883594</td>\n",
       "      <td>0.725664</td>\n",
       "      <td>0.632911</td>\n",
       "      <td>0.961538</td>\n",
       "      <td>0.471698</td>\n",
       "      <td>0.247788</td>\n",
       "      <td>0.961538</td>\n",
       "    </tr>\n",
       "    <tr>\n",
       "      <th>5</th>\n",
       "      <td>0</td>\n",
       "      <td>2007</td>\n",
       "      <td>0.680473</td>\n",
       "      <td>0.836675</td>\n",
       "      <td>0.574770</td>\n",
       "      <td>0.550000</td>\n",
       "      <td>0.916667</td>\n",
       "      <td>0.392857</td>\n",
       "      <td>0.383459</td>\n",
       "      <td>0.916667</td>\n",
       "    </tr>\n",
       "    <tr>\n",
       "      <th>6</th>\n",
       "      <td>0</td>\n",
       "      <td>2008</td>\n",
       "      <td>0.730769</td>\n",
       "      <td>0.868593</td>\n",
       "      <td>0.670643</td>\n",
       "      <td>0.588235</td>\n",
       "      <td>0.945946</td>\n",
       "      <td>0.426829</td>\n",
       "      <td>0.324138</td>\n",
       "      <td>0.945946</td>\n",
       "    </tr>\n",
       "    <tr>\n",
       "      <th>7</th>\n",
       "      <td>0</td>\n",
       "      <td>2009</td>\n",
       "      <td>0.670498</td>\n",
       "      <td>0.833916</td>\n",
       "      <td>0.568366</td>\n",
       "      <td>0.516854</td>\n",
       "      <td>0.884615</td>\n",
       "      <td>0.365079</td>\n",
       "      <td>0.382775</td>\n",
       "      <td>0.884615</td>\n",
       "    </tr>\n",
       "    <tr>\n",
       "      <th>8</th>\n",
       "      <td>0</td>\n",
       "      <td>2010</td>\n",
       "      <td>0.637615</td>\n",
       "      <td>0.806097</td>\n",
       "      <td>0.487368</td>\n",
       "      <td>0.558659</td>\n",
       "      <td>0.847458</td>\n",
       "      <td>0.416667</td>\n",
       "      <td>0.440252</td>\n",
       "      <td>0.847458</td>\n",
       "    </tr>\n",
       "    <tr>\n",
       "      <th>9</th>\n",
       "      <td>0</td>\n",
       "      <td>2011</td>\n",
       "      <td>0.678431</td>\n",
       "      <td>0.822953</td>\n",
       "      <td>0.529412</td>\n",
       "      <td>0.500000</td>\n",
       "      <td>0.803922</td>\n",
       "      <td>0.362832</td>\n",
       "      <td>0.352941</td>\n",
       "      <td>0.803922</td>\n",
       "    </tr>\n",
       "    <tr>\n",
       "      <th>10</th>\n",
       "      <td>0</td>\n",
       "      <td>2012</td>\n",
       "      <td>0.743590</td>\n",
       "      <td>0.840534</td>\n",
       "      <td>0.629108</td>\n",
       "      <td>0.593023</td>\n",
       "      <td>0.927273</td>\n",
       "      <td>0.435897</td>\n",
       "      <td>0.302752</td>\n",
       "      <td>0.927273</td>\n",
       "    </tr>\n",
       "    <tr>\n",
       "      <th>11</th>\n",
       "      <td>0</td>\n",
       "      <td>2013</td>\n",
       "      <td>0.693662</td>\n",
       "      <td>0.846503</td>\n",
       "      <td>0.558333</td>\n",
       "      <td>0.544503</td>\n",
       "      <td>0.866667</td>\n",
       "      <td>0.396947</td>\n",
       "      <td>0.352679</td>\n",
       "      <td>0.866667</td>\n",
       "    </tr>\n",
       "    <tr>\n",
       "      <th>12</th>\n",
       "      <td>0</td>\n",
       "      <td>2014</td>\n",
       "      <td>0.689243</td>\n",
       "      <td>0.841834</td>\n",
       "      <td>0.559685</td>\n",
       "      <td>0.566667</td>\n",
       "      <td>0.894737</td>\n",
       "      <td>0.414634</td>\n",
       "      <td>0.371134</td>\n",
       "      <td>0.894737</td>\n",
       "    </tr>\n",
       "    <tr>\n",
       "      <th>13</th>\n",
       "      <td>0</td>\n",
       "      <td>2015</td>\n",
       "      <td>0.713147</td>\n",
       "      <td>0.843554</td>\n",
       "      <td>0.557143</td>\n",
       "      <td>0.478261</td>\n",
       "      <td>0.804878</td>\n",
       "      <td>0.340206</td>\n",
       "      <td>0.304762</td>\n",
       "      <td>0.804878</td>\n",
       "    </tr>\n",
       "    <tr>\n",
       "      <th>14</th>\n",
       "      <td>0</td>\n",
       "      <td>2016</td>\n",
       "      <td>0.775362</td>\n",
       "      <td>0.854369</td>\n",
       "      <td>0.689875</td>\n",
       "      <td>0.626506</td>\n",
       "      <td>0.742857</td>\n",
       "      <td>0.541667</td>\n",
       "      <td>0.213592</td>\n",
       "      <td>0.742857</td>\n",
       "    </tr>\n",
       "    <tr>\n",
       "      <th>15</th>\n",
       "      <td>0</td>\n",
       "      <td>2017</td>\n",
       "      <td>0.859885</td>\n",
       "      <td>0.909141</td>\n",
       "      <td>0.747790</td>\n",
       "      <td>0.504858</td>\n",
       "      <td>0.790331</td>\n",
       "      <td>0.370890</td>\n",
       "      <td>0.133204</td>\n",
       "      <td>0.790331</td>\n",
       "    </tr>\n",
       "    <tr>\n",
       "      <th>16</th>\n",
       "      <td>0</td>\n",
       "      <td>2018</td>\n",
       "      <td>0.861277</td>\n",
       "      <td>0.910312</td>\n",
       "      <td>0.751146</td>\n",
       "      <td>0.470880</td>\n",
       "      <td>0.748744</td>\n",
       "      <td>0.343431</td>\n",
       "      <td>0.128612</td>\n",
       "      <td>0.748744</td>\n",
       "    </tr>\n",
       "    <tr>\n",
       "      <th>17</th>\n",
       "      <td>0</td>\n",
       "      <td>2019</td>\n",
       "      <td>0.891799</td>\n",
       "      <td>0.925278</td>\n",
       "      <td>0.783445</td>\n",
       "      <td>0.474672</td>\n",
       "      <td>0.750280</td>\n",
       "      <td>0.347150</td>\n",
       "      <td>0.098338</td>\n",
       "      <td>0.750280</td>\n",
       "    </tr>\n",
       "    <tr>\n",
       "      <th>18</th>\n",
       "      <td>0</td>\n",
       "      <td>2020</td>\n",
       "      <td>0.906467</td>\n",
       "      <td>0.934875</td>\n",
       "      <td>0.800844</td>\n",
       "      <td>0.486966</td>\n",
       "      <td>0.755569</td>\n",
       "      <td>0.359253</td>\n",
       "      <td>0.084114</td>\n",
       "      <td>0.755569</td>\n",
       "    </tr>\n",
       "    <tr>\n",
       "      <th>19</th>\n",
       "      <td>0</td>\n",
       "      <td>2021</td>\n",
       "      <td>0.890214</td>\n",
       "      <td>0.922664</td>\n",
       "      <td>0.781066</td>\n",
       "      <td>0.438620</td>\n",
       "      <td>0.736086</td>\n",
       "      <td>0.312381</td>\n",
       "      <td>0.100250</td>\n",
       "      <td>0.736086</td>\n",
       "    </tr>\n",
       "    <tr>\n",
       "      <th>20</th>\n",
       "      <td>0</td>\n",
       "      <td>2022</td>\n",
       "      <td>0.899193</td>\n",
       "      <td>0.934553</td>\n",
       "      <td>0.814837</td>\n",
       "      <td>0.442263</td>\n",
       "      <td>0.760450</td>\n",
       "      <td>0.311800</td>\n",
       "      <td>0.093110</td>\n",
       "      <td>0.760450</td>\n",
       "    </tr>\n",
       "  </tbody>\n",
       "</table>\n",
       "</div>"
      ],
      "text/plain": [
       "    Model Index   ANO  Accuracy       AUC  KS Score  F1 score    Recall  \\\n",
       "0             0  2002  0.881579  0.934848  0.793939  0.929134  0.893939   \n",
       "1             0  2003  0.708333  0.814453  0.562500  0.794118  0.843750   \n",
       "2             0  2004  0.876923  0.919048  0.819048  0.888889  0.914286   \n",
       "3             0  2005  0.546296  0.676560  0.366216  0.473118  0.758621   \n",
       "4             0  2006  0.791367  0.883594  0.725664  0.632911  0.961538   \n",
       "5             0  2007  0.680473  0.836675  0.574770  0.550000  0.916667   \n",
       "6             0  2008  0.730769  0.868593  0.670643  0.588235  0.945946   \n",
       "7             0  2009  0.670498  0.833916  0.568366  0.516854  0.884615   \n",
       "8             0  2010  0.637615  0.806097  0.487368  0.558659  0.847458   \n",
       "9             0  2011  0.678431  0.822953  0.529412  0.500000  0.803922   \n",
       "10            0  2012  0.743590  0.840534  0.629108  0.593023  0.927273   \n",
       "11            0  2013  0.693662  0.846503  0.558333  0.544503  0.866667   \n",
       "12            0  2014  0.689243  0.841834  0.559685  0.566667  0.894737   \n",
       "13            0  2015  0.713147  0.843554  0.557143  0.478261  0.804878   \n",
       "14            0  2016  0.775362  0.854369  0.689875  0.626506  0.742857   \n",
       "15            0  2017  0.859885  0.909141  0.747790  0.504858  0.790331   \n",
       "16            0  2018  0.861277  0.910312  0.751146  0.470880  0.748744   \n",
       "17            0  2019  0.891799  0.925278  0.783445  0.474672  0.750280   \n",
       "18            0  2020  0.906467  0.934875  0.800844  0.486966  0.755569   \n",
       "19            0  2021  0.890214  0.922664  0.781066  0.438620  0.736086   \n",
       "20            0  2022  0.899193  0.934553  0.814837  0.442263  0.760450   \n",
       "\n",
       "    Precision  False positive rate  True positive rate  \n",
       "0    0.967213             0.200000            0.893939  \n",
       "1    0.750000             0.562500            0.843750  \n",
       "2    0.864865             0.166667            0.914286  \n",
       "3    0.343750             0.531646            0.758621  \n",
       "4    0.471698             0.247788            0.961538  \n",
       "5    0.392857             0.383459            0.916667  \n",
       "6    0.426829             0.324138            0.945946  \n",
       "7    0.365079             0.382775            0.884615  \n",
       "8    0.416667             0.440252            0.847458  \n",
       "9    0.362832             0.352941            0.803922  \n",
       "10   0.435897             0.302752            0.927273  \n",
       "11   0.396947             0.352679            0.866667  \n",
       "12   0.414634             0.371134            0.894737  \n",
       "13   0.340206             0.304762            0.804878  \n",
       "14   0.541667             0.213592            0.742857  \n",
       "15   0.370890             0.133204            0.790331  \n",
       "16   0.343431             0.128612            0.748744  \n",
       "17   0.347150             0.098338            0.750280  \n",
       "18   0.359253             0.084114            0.755569  \n",
       "19   0.312381             0.100250            0.736086  \n",
       "20   0.311800             0.093110            0.760450  "
      ]
     },
     "execution_count": 92,
     "metadata": {},
     "output_type": "execute_result"
    }
   ],
   "source": [
    "df_metrics"
   ]
  }
 ],
 "metadata": {
  "kernelspec": {
   "display_name": "Python 3 (ipykernel)",
   "language": "python",
   "name": "python3"
  },
  "language_info": {
   "codemirror_mode": {
    "name": "ipython",
    "version": 3
   },
   "file_extension": ".py",
   "mimetype": "text/x-python",
   "name": "python",
   "nbconvert_exporter": "python",
   "pygments_lexer": "ipython3",
   "version": "3.11.2"
  },
  "vscode": {
   "interpreter": {
    "hash": "417b098a34c1d15f54821650e8824b8f9a13757cdf07902482f1dffeb55d10e4"
   }
  }
 },
 "nbformat": 4,
 "nbformat_minor": 4
}
