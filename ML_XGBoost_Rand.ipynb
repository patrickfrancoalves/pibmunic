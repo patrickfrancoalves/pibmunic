{
 "cells": [
  {
   "cell_type": "code",
   "execution_count": 1,
   "metadata": {},
   "outputs": [
    {
     "name": "stderr",
     "output_type": "stream",
     "text": [
      "C:\\Users\\patrick.franco\\AppData\\Roaming\\Python\\Python311\\site-packages\\xgboost\\compat.py:93: FutureWarning: pandas.Int64Index is deprecated and will be removed from pandas in a future version. Use pandas.Index with the appropriate dtype instead.\n",
      "  from pandas import MultiIndex, Int64Index\n"
     ]
    }
   ],
   "source": [
    "import os\n",
    "import sys\n",
    "import math\n",
    "import pandas as pd\n",
    "import numpy as np\n",
    "import matplotlib.pyplot as plt\n",
    "import xgboost as xgb\n",
    "import pickle\n",
    "from sklearn.model_selection import train_test_split\n",
    "from sklearn.metrics import confusion_matrix, precision_score, recall_score, accuracy_score, f1_score\n",
    "from sklearn.metrics import make_scorer, precision_recall_curve, auc\n",
    "from sklearn.preprocessing import MinMaxScaler\n",
    "from sklearn.model_selection import RandomizedSearchCV\n",
    "from bayes_opt import BayesianOptimization\n",
    "#from sklearn.experimental import enable_halving_search_cv \n",
    "#from sklearn.model_selection import HalvingRandomSearchCV\n",
    "#from sklearn.model_selection import HalvingGridSearchCV \n",
    "from collections import Counter\n",
    "from imblearn.over_sampling import SMOTE"
   ]
  },
  {
   "attachments": {},
   "cell_type": "markdown",
   "metadata": {},
   "source": [
    "# Menu\n",
    "\n",
    "<a name=\"navegacao\"></a>\n",
    "\n",
    "## 1) [Preparação dos dados](#parte1)\n",
    "- 1.1 [Leitura base principal](#principal)\n",
    "- 1.2 [Leitura base mes](#mes)\n",
    "- 1.3 [Leitura base hora](#hora)\n",
    "- 1.4 [Merge principal e base mensal](#merge1)\n",
    "- 1.5 [Merge principal e base hora](#merge2)\n",
    "- 1.6 [Confere marcação](#marcacao)\n",
    "\n",
    "\n",
    "## 2 [Salvando as bases de treino](#parte2)\n",
    "- 2.1 [Salvando base com histórico](#comhist)\n",
    "- 2.2 [Salvando base sem histórico](#semhist)\n"
   ]
  },
  {
   "attachments": {},
   "cell_type": "markdown",
   "metadata": {},
   "source": [
    "<a name=\"principal\"></a>\n",
    "\n",
    "## 1.1) Leitura base principal\n"
   ]
  },
  {
   "attachments": {},
   "cell_type": "markdown",
   "metadata": {},
   "source": [
    "## Leitura dos dados"
   ]
  },
  {
   "cell_type": "code",
   "execution_count": 2,
   "metadata": {},
   "outputs": [
    {
     "name": "stdout",
     "output_type": "stream",
     "text": [
      "CPU times: total: 422 ms\n",
      "Wall time: 444 ms\n"
     ]
    }
   ],
   "source": [
    "%%time\n",
    "df = pd.read_csv(\"BNDES_UNIFICADO.csv\",converters={'CNPJ8': str,'INTERMEDIARIA': str},\n",
    "                 delimiter=\";\" , encoding='latin-1')"
   ]
  },
  {
   "cell_type": "code",
   "execution_count": 3,
   "metadata": {},
   "outputs": [],
   "source": [
    "df.replace([np.inf, -np.inf], np.nan, inplace=True)\n",
    "df.dropna(inplace=True)"
   ]
  },
  {
   "cell_type": "code",
   "execution_count": 4,
   "metadata": {},
   "outputs": [
    {
     "data": {
      "text/plain": [
       "(125516, 27)"
      ]
     },
     "execution_count": 4,
     "metadata": {},
     "output_type": "execute_result"
    }
   ],
   "source": [
    "df.shape"
   ]
  },
  {
   "cell_type": "code",
   "execution_count": 5,
   "metadata": {},
   "outputs": [
    {
     "data": {
      "text/plain": [
       "Index(['CNPJ8', 'ANO', 'EMPRESA_PUBLICA', 'GARANTIA', 'INDIRETA', 'INOVACAO',\n",
       "       'INSTRUMENTO', 'UF', 'INTERMEDIARIA', 'CUSTO', 'MEDIA_JUROS',\n",
       "       'PRAZO_AMORTIZACAO', 'TESOURO', 'PRAZO_CARENCIA', 'VALOR_CONTRATO',\n",
       "       'VALOR_DESENBOLSO', 'Porte_Cliente', 'CAPITAL_SOCIAL', 'IDADE',\n",
       "       'NATJUR', 'NCONTRATOS', 'NFILIAIS', 'PORTE_RECEITA', 'SITUACAO',\n",
       "       'IDADE_SOCIOS', 'QTDSOCIOS', 'SOCIO_PJ'],\n",
       "      dtype='object')"
      ]
     },
     "execution_count": 5,
     "metadata": {},
     "output_type": "execute_result"
    }
   ],
   "source": [
    "df.columns"
   ]
  },
  {
   "cell_type": "code",
   "execution_count": 6,
   "metadata": {},
   "outputs": [
    {
     "name": "stdout",
     "output_type": "stream",
     "text": [
      "CPU times: total: 0 ns\n",
      "Wall time: 0 ns\n"
     ]
    },
    {
     "data": {
      "text/html": [
       "<div>\n",
       "<style scoped>\n",
       "    .dataframe tbody tr th:only-of-type {\n",
       "        vertical-align: middle;\n",
       "    }\n",
       "\n",
       "    .dataframe tbody tr th {\n",
       "        vertical-align: top;\n",
       "    }\n",
       "\n",
       "    .dataframe thead th {\n",
       "        text-align: right;\n",
       "    }\n",
       "</style>\n",
       "<table border=\"1\" class=\"dataframe\">\n",
       "  <thead>\n",
       "    <tr style=\"text-align: right;\">\n",
       "      <th></th>\n",
       "      <th>CNPJ8</th>\n",
       "      <th>ANO</th>\n",
       "      <th>EMPRESA_PUBLICA</th>\n",
       "      <th>GARANTIA</th>\n",
       "      <th>INDIRETA</th>\n",
       "      <th>INOVACAO</th>\n",
       "      <th>INSTRUMENTO</th>\n",
       "      <th>UF</th>\n",
       "      <th>INTERMEDIARIA</th>\n",
       "      <th>CUSTO</th>\n",
       "      <th>...</th>\n",
       "      <th>CAPITAL_SOCIAL</th>\n",
       "      <th>IDADE</th>\n",
       "      <th>NATJUR</th>\n",
       "      <th>NCONTRATOS</th>\n",
       "      <th>NFILIAIS</th>\n",
       "      <th>PORTE_RECEITA</th>\n",
       "      <th>SITUACAO</th>\n",
       "      <th>IDADE_SOCIOS</th>\n",
       "      <th>QTDSOCIOS</th>\n",
       "      <th>SOCIO_PJ</th>\n",
       "    </tr>\n",
       "  </thead>\n",
       "  <tbody>\n",
       "    <tr>\n",
       "      <th>0</th>\n",
       "      <td>00000000</td>\n",
       "      <td>2002</td>\n",
       "      <td>0</td>\n",
       "      <td>OUTROS</td>\n",
       "      <td>0</td>\n",
       "      <td>1</td>\n",
       "      <td>OUTROS</td>\n",
       "      <td>IE</td>\n",
       "      <td>00000000</td>\n",
       "      <td>TJLP</td>\n",
       "      <td>...</td>\n",
       "      <td>9.000002e+10</td>\n",
       "      <td>37.0</td>\n",
       "      <td>2.0</td>\n",
       "      <td>15</td>\n",
       "      <td>5089</td>\n",
       "      <td>5.0</td>\n",
       "      <td>1</td>\n",
       "      <td>1.0</td>\n",
       "      <td>1</td>\n",
       "      <td>0</td>\n",
       "    </tr>\n",
       "    <tr>\n",
       "      <th>1</th>\n",
       "      <td>00000000</td>\n",
       "      <td>2003</td>\n",
       "      <td>0</td>\n",
       "      <td>OUTROS</td>\n",
       "      <td>0</td>\n",
       "      <td>0</td>\n",
       "      <td>OUTROS</td>\n",
       "      <td>IE</td>\n",
       "      <td>92816560</td>\n",
       "      <td>TJLP</td>\n",
       "      <td>...</td>\n",
       "      <td>9.000002e+10</td>\n",
       "      <td>38.0</td>\n",
       "      <td>2.0</td>\n",
       "      <td>2</td>\n",
       "      <td>5123</td>\n",
       "      <td>5.0</td>\n",
       "      <td>1</td>\n",
       "      <td>1.0</td>\n",
       "      <td>1</td>\n",
       "      <td>0</td>\n",
       "    </tr>\n",
       "    <tr>\n",
       "      <th>2</th>\n",
       "      <td>00000000</td>\n",
       "      <td>2009</td>\n",
       "      <td>1</td>\n",
       "      <td>SEM GARANTIA</td>\n",
       "      <td>0</td>\n",
       "      <td>0</td>\n",
       "      <td>OUTROS</td>\n",
       "      <td>RJ</td>\n",
       "      <td></td>\n",
       "      <td>TAXAFIXA</td>\n",
       "      <td>...</td>\n",
       "      <td>9.000002e+10</td>\n",
       "      <td>44.0</td>\n",
       "      <td>2.0</td>\n",
       "      <td>5</td>\n",
       "      <td>6912</td>\n",
       "      <td>5.0</td>\n",
       "      <td>1</td>\n",
       "      <td>1.0</td>\n",
       "      <td>1</td>\n",
       "      <td>0</td>\n",
       "    </tr>\n",
       "    <tr>\n",
       "      <th>3</th>\n",
       "      <td>00000000</td>\n",
       "      <td>2010</td>\n",
       "      <td>1</td>\n",
       "      <td>SEM GARANTIA</td>\n",
       "      <td>0</td>\n",
       "      <td>0</td>\n",
       "      <td>OUTROS</td>\n",
       "      <td>RJ</td>\n",
       "      <td></td>\n",
       "      <td>TAXAFIXA</td>\n",
       "      <td>...</td>\n",
       "      <td>9.000002e+10</td>\n",
       "      <td>45.0</td>\n",
       "      <td>2.0</td>\n",
       "      <td>2</td>\n",
       "      <td>7002</td>\n",
       "      <td>5.0</td>\n",
       "      <td>1</td>\n",
       "      <td>1.0</td>\n",
       "      <td>1</td>\n",
       "      <td>0</td>\n",
       "    </tr>\n",
       "    <tr>\n",
       "      <th>4</th>\n",
       "      <td>00000000</td>\n",
       "      <td>2012</td>\n",
       "      <td>1</td>\n",
       "      <td>MISTA</td>\n",
       "      <td>0</td>\n",
       "      <td>0</td>\n",
       "      <td>OUTROS</td>\n",
       "      <td>IE</td>\n",
       "      <td></td>\n",
       "      <td>TJLP</td>\n",
       "      <td>...</td>\n",
       "      <td>9.000002e+10</td>\n",
       "      <td>47.0</td>\n",
       "      <td>2.0</td>\n",
       "      <td>1</td>\n",
       "      <td>7407</td>\n",
       "      <td>5.0</td>\n",
       "      <td>1</td>\n",
       "      <td>1.0</td>\n",
       "      <td>1</td>\n",
       "      <td>0</td>\n",
       "    </tr>\n",
       "  </tbody>\n",
       "</table>\n",
       "<p>5 rows × 27 columns</p>\n",
       "</div>"
      ],
      "text/plain": [
       "      CNPJ8   ANO  EMPRESA_PUBLICA      GARANTIA  INDIRETA  INOVACAO  \\\n",
       "0  00000000  2002                0        OUTROS         0         1   \n",
       "1  00000000  2003                0        OUTROS         0         0   \n",
       "2  00000000  2009                1  SEM GARANTIA         0         0   \n",
       "3  00000000  2010                1  SEM GARANTIA         0         0   \n",
       "4  00000000  2012                1         MISTA         0         0   \n",
       "\n",
       "  INSTRUMENTO  UF INTERMEDIARIA     CUSTO  ...  CAPITAL_SOCIAL  IDADE  NATJUR  \\\n",
       "0      OUTROS  IE      00000000      TJLP  ...    9.000002e+10   37.0     2.0   \n",
       "1      OUTROS  IE      92816560      TJLP  ...    9.000002e+10   38.0     2.0   \n",
       "2      OUTROS  RJ                TAXAFIXA  ...    9.000002e+10   44.0     2.0   \n",
       "3      OUTROS  RJ                TAXAFIXA  ...    9.000002e+10   45.0     2.0   \n",
       "4      OUTROS  IE                    TJLP  ...    9.000002e+10   47.0     2.0   \n",
       "\n",
       "   NCONTRATOS  NFILIAIS  PORTE_RECEITA SITUACAO  IDADE_SOCIOS  QTDSOCIOS  \\\n",
       "0          15      5089            5.0        1           1.0          1   \n",
       "1           2      5123            5.0        1           1.0          1   \n",
       "2           5      6912            5.0        1           1.0          1   \n",
       "3           2      7002            5.0        1           1.0          1   \n",
       "4           1      7407            5.0        1           1.0          1   \n",
       "\n",
       "   SOCIO_PJ  \n",
       "0         0  \n",
       "1         0  \n",
       "2         0  \n",
       "3         0  \n",
       "4         0  \n",
       "\n",
       "[5 rows x 27 columns]"
      ]
     },
     "execution_count": 6,
     "metadata": {},
     "output_type": "execute_result"
    }
   ],
   "source": [
    "%%time\n",
    "df.head()"
   ]
  },
  {
   "cell_type": "code",
   "execution_count": 8,
   "metadata": {},
   "outputs": [
    {
     "name": "stdout",
     "output_type": "stream",
     "text": [
      "CPU times: total: 0 ns\n",
      "Wall time: 999 µs\n"
     ]
    },
    {
     "data": {
      "text/plain": [
       "CNPJ8                 object\n",
       "ANO                    int64\n",
       "EMPRESA_PUBLICA        int64\n",
       "GARANTIA              object\n",
       "INDIRETA               int64\n",
       "INOVACAO               int64\n",
       "INSTRUMENTO           object\n",
       "UF                    object\n",
       "INTERMEDIARIA         object\n",
       "CUSTO                 object\n",
       "MEDIA_JUROS          float64\n",
       "PRAZO_AMORTIZACAO    float64\n",
       "TESOURO                int64\n",
       "PRAZO_CARENCIA       float64\n",
       "VALOR_CONTRATO       float64\n",
       "VALOR_DESENBOLSO     float64\n",
       "Porte_Cliente         object\n",
       "CAPITAL_SOCIAL       float64\n",
       "IDADE                float64\n",
       "NATJUR               float64\n",
       "NCONTRATOS             int64\n",
       "NFILIAIS               int64\n",
       "PORTE_RECEITA        float64\n",
       "SITUACAO               int64\n",
       "IDADE_SOCIOS         float64\n",
       "QTDSOCIOS              int64\n",
       "SOCIO_PJ               int64\n",
       "dtype: object"
      ]
     },
     "execution_count": 8,
     "metadata": {},
     "output_type": "execute_result"
    }
   ],
   "source": [
    "%%time\n",
    "df.dtypes"
   ]
  },
  {
   "cell_type": "code",
   "execution_count": 9,
   "metadata": {},
   "outputs": [
    {
     "data": {
      "text/html": [
       "<div>\n",
       "<style scoped>\n",
       "    .dataframe tbody tr th:only-of-type {\n",
       "        vertical-align: middle;\n",
       "    }\n",
       "\n",
       "    .dataframe tbody tr th {\n",
       "        vertical-align: top;\n",
       "    }\n",
       "\n",
       "    .dataframe thead th {\n",
       "        text-align: right;\n",
       "    }\n",
       "</style>\n",
       "<table border=\"1\" class=\"dataframe\">\n",
       "  <thead>\n",
       "    <tr style=\"text-align: right;\">\n",
       "      <th>SITUACAO</th>\n",
       "      <th>0</th>\n",
       "      <th>1</th>\n",
       "    </tr>\n",
       "    <tr>\n",
       "      <th>PORTE_RECEITA</th>\n",
       "      <th></th>\n",
       "      <th></th>\n",
       "    </tr>\n",
       "  </thead>\n",
       "  <tbody>\n",
       "    <tr>\n",
       "      <th>1.0</th>\n",
       "      <td>72792</td>\n",
       "      <td>2639</td>\n",
       "    </tr>\n",
       "    <tr>\n",
       "      <th>3.0</th>\n",
       "      <td>22618</td>\n",
       "      <td>1864</td>\n",
       "    </tr>\n",
       "    <tr>\n",
       "      <th>5.0</th>\n",
       "      <td>21244</td>\n",
       "      <td>4359</td>\n",
       "    </tr>\n",
       "  </tbody>\n",
       "</table>\n",
       "</div>"
      ],
      "text/plain": [
       "SITUACAO           0     1\n",
       "PORTE_RECEITA             \n",
       "1.0            72792  2639\n",
       "3.0            22618  1864\n",
       "5.0            21244  4359"
      ]
     },
     "execution_count": 9,
     "metadata": {},
     "output_type": "execute_result"
    }
   ],
   "source": [
    "pd.crosstab(df.PORTE_RECEITA,df.SITUACAO)"
   ]
  },
  {
   "cell_type": "code",
   "execution_count": 10,
   "metadata": {},
   "outputs": [
    {
     "data": {
      "text/html": [
       "<div>\n",
       "<style scoped>\n",
       "    .dataframe tbody tr th:only-of-type {\n",
       "        vertical-align: middle;\n",
       "    }\n",
       "\n",
       "    .dataframe tbody tr th {\n",
       "        vertical-align: top;\n",
       "    }\n",
       "\n",
       "    .dataframe thead th {\n",
       "        text-align: right;\n",
       "    }\n",
       "</style>\n",
       "<table border=\"1\" class=\"dataframe\">\n",
       "  <thead>\n",
       "    <tr style=\"text-align: right;\">\n",
       "      <th>SITUACAO</th>\n",
       "      <th>0</th>\n",
       "      <th>1</th>\n",
       "    </tr>\n",
       "    <tr>\n",
       "      <th>Porte_Cliente</th>\n",
       "      <th></th>\n",
       "      <th></th>\n",
       "    </tr>\n",
       "  </thead>\n",
       "  <tbody>\n",
       "    <tr>\n",
       "      <th>GRANDE</th>\n",
       "      <td>3692</td>\n",
       "      <td>1219</td>\n",
       "    </tr>\n",
       "    <tr>\n",
       "      <th>MICRO</th>\n",
       "      <td>40280</td>\n",
       "      <td>1110</td>\n",
       "    </tr>\n",
       "    <tr>\n",
       "      <th>MÉDIA</th>\n",
       "      <td>20556</td>\n",
       "      <td>3430</td>\n",
       "    </tr>\n",
       "    <tr>\n",
       "      <th>PEQUENA</th>\n",
       "      <td>52126</td>\n",
       "      <td>3103</td>\n",
       "    </tr>\n",
       "  </tbody>\n",
       "</table>\n",
       "</div>"
      ],
      "text/plain": [
       "SITUACAO           0     1\n",
       "Porte_Cliente             \n",
       "GRANDE          3692  1219\n",
       "MICRO          40280  1110\n",
       "MÉDIA          20556  3430\n",
       "PEQUENA        52126  3103"
      ]
     },
     "execution_count": 10,
     "metadata": {},
     "output_type": "execute_result"
    }
   ],
   "source": [
    "pd.crosstab(df.Porte_Cliente,df.SITUACAO)"
   ]
  },
  {
   "cell_type": "code",
   "execution_count": 11,
   "metadata": {},
   "outputs": [
    {
     "name": "stdout",
     "output_type": "stream",
     "text": [
      "CPU times: total: 46.9 ms\n",
      "Wall time: 57.8 ms\n"
     ]
    },
    {
     "data": {
      "text/html": [
       "<div>\n",
       "<style scoped>\n",
       "    .dataframe tbody tr th:only-of-type {\n",
       "        vertical-align: middle;\n",
       "    }\n",
       "\n",
       "    .dataframe tbody tr th {\n",
       "        vertical-align: top;\n",
       "    }\n",
       "\n",
       "    .dataframe thead th {\n",
       "        text-align: right;\n",
       "    }\n",
       "</style>\n",
       "<table border=\"1\" class=\"dataframe\">\n",
       "  <thead>\n",
       "    <tr style=\"text-align: right;\">\n",
       "      <th>SITUACAO</th>\n",
       "      <th>0</th>\n",
       "      <th>1</th>\n",
       "    </tr>\n",
       "    <tr>\n",
       "      <th>CUSTO</th>\n",
       "      <th></th>\n",
       "      <th></th>\n",
       "    </tr>\n",
       "  </thead>\n",
       "  <tbody>\n",
       "    <tr>\n",
       "      <th>CDI</th>\n",
       "      <td>14</td>\n",
       "      <td>2</td>\n",
       "    </tr>\n",
       "    <tr>\n",
       "      <th>IPCA</th>\n",
       "      <td>48</td>\n",
       "      <td>8</td>\n",
       "    </tr>\n",
       "    <tr>\n",
       "      <th>OUTROS</th>\n",
       "      <td>248</td>\n",
       "      <td>119</td>\n",
       "    </tr>\n",
       "    <tr>\n",
       "      <th>SELIC</th>\n",
       "      <td>28761</td>\n",
       "      <td>1823</td>\n",
       "    </tr>\n",
       "    <tr>\n",
       "      <th>TAXAFIXA</th>\n",
       "      <td>30327</td>\n",
       "      <td>1840</td>\n",
       "    </tr>\n",
       "    <tr>\n",
       "      <th>TJLP</th>\n",
       "      <td>20437</td>\n",
       "      <td>2296</td>\n",
       "    </tr>\n",
       "    <tr>\n",
       "      <th>TLP</th>\n",
       "      <td>36819</td>\n",
       "      <td>2774</td>\n",
       "    </tr>\n",
       "  </tbody>\n",
       "</table>\n",
       "</div>"
      ],
      "text/plain": [
       "SITUACAO      0     1\n",
       "CUSTO                \n",
       "CDI          14     2\n",
       "IPCA         48     8\n",
       "OUTROS      248   119\n",
       "SELIC     28761  1823\n",
       "TAXAFIXA  30327  1840\n",
       "TJLP      20437  2296\n",
       "TLP       36819  2774"
      ]
     },
     "execution_count": 11,
     "metadata": {},
     "output_type": "execute_result"
    }
   ],
   "source": [
    "%%time\n",
    "pd.crosstab(df.CUSTO, df.SITUACAO )"
   ]
  },
  {
   "cell_type": "code",
   "execution_count": 12,
   "metadata": {},
   "outputs": [
    {
     "name": "stdout",
     "output_type": "stream",
     "text": [
      "CPU times: total: 31.2 ms\n",
      "Wall time: 27.2 ms\n"
     ]
    },
    {
     "data": {
      "text/html": [
       "<div>\n",
       "<style scoped>\n",
       "    .dataframe tbody tr th:only-of-type {\n",
       "        vertical-align: middle;\n",
       "    }\n",
       "\n",
       "    .dataframe tbody tr th {\n",
       "        vertical-align: top;\n",
       "    }\n",
       "\n",
       "    .dataframe thead th {\n",
       "        text-align: right;\n",
       "    }\n",
       "</style>\n",
       "<table border=\"1\" class=\"dataframe\">\n",
       "  <thead>\n",
       "    <tr style=\"text-align: right;\">\n",
       "      <th>SITUACAO</th>\n",
       "      <th>0</th>\n",
       "      <th>1</th>\n",
       "    </tr>\n",
       "    <tr>\n",
       "      <th>NATJUR</th>\n",
       "      <th></th>\n",
       "      <th></th>\n",
       "    </tr>\n",
       "  </thead>\n",
       "  <tbody>\n",
       "    <tr>\n",
       "      <th>1.0</th>\n",
       "      <td>184</td>\n",
       "      <td>49</td>\n",
       "    </tr>\n",
       "    <tr>\n",
       "      <th>2.0</th>\n",
       "      <td>116254</td>\n",
       "      <td>8786</td>\n",
       "    </tr>\n",
       "    <tr>\n",
       "      <th>3.0</th>\n",
       "      <td>187</td>\n",
       "      <td>21</td>\n",
       "    </tr>\n",
       "    <tr>\n",
       "      <th>4.0</th>\n",
       "      <td>29</td>\n",
       "      <td>6</td>\n",
       "    </tr>\n",
       "  </tbody>\n",
       "</table>\n",
       "</div>"
      ],
      "text/plain": [
       "SITUACAO       0     1\n",
       "NATJUR                \n",
       "1.0          184    49\n",
       "2.0       116254  8786\n",
       "3.0          187    21\n",
       "4.0           29     6"
      ]
     },
     "execution_count": 12,
     "metadata": {},
     "output_type": "execute_result"
    }
   ],
   "source": [
    "%%time\n",
    "pd.crosstab(df.NATJUR, df.SITUACAO)"
   ]
  },
  {
   "cell_type": "code",
   "execution_count": 13,
   "metadata": {},
   "outputs": [
    {
     "data": {
      "text/html": [
       "<div>\n",
       "<style scoped>\n",
       "    .dataframe tbody tr th:only-of-type {\n",
       "        vertical-align: middle;\n",
       "    }\n",
       "\n",
       "    .dataframe tbody tr th {\n",
       "        vertical-align: top;\n",
       "    }\n",
       "\n",
       "    .dataframe thead th {\n",
       "        text-align: right;\n",
       "    }\n",
       "</style>\n",
       "<table border=\"1\" class=\"dataframe\">\n",
       "  <thead>\n",
       "    <tr style=\"text-align: right;\">\n",
       "      <th>SITUACAO</th>\n",
       "      <th>0</th>\n",
       "      <th>1</th>\n",
       "    </tr>\n",
       "    <tr>\n",
       "      <th>EMPRESA_PUBLICA</th>\n",
       "      <th></th>\n",
       "      <th></th>\n",
       "    </tr>\n",
       "  </thead>\n",
       "  <tbody>\n",
       "    <tr>\n",
       "      <th>0</th>\n",
       "      <td>116375</td>\n",
       "      <td>8770</td>\n",
       "    </tr>\n",
       "    <tr>\n",
       "      <th>1</th>\n",
       "      <td>279</td>\n",
       "      <td>92</td>\n",
       "    </tr>\n",
       "  </tbody>\n",
       "</table>\n",
       "</div>"
      ],
      "text/plain": [
       "SITUACAO              0     1\n",
       "EMPRESA_PUBLICA              \n",
       "0                116375  8770\n",
       "1                   279    92"
      ]
     },
     "execution_count": 13,
     "metadata": {},
     "output_type": "execute_result"
    }
   ],
   "source": [
    "pd.crosstab(df.EMPRESA_PUBLICA, df.SITUACAO)"
   ]
  },
  {
   "cell_type": "code",
   "execution_count": 14,
   "metadata": {},
   "outputs": [
    {
     "data": {
      "text/html": [
       "<div>\n",
       "<style scoped>\n",
       "    .dataframe tbody tr th:only-of-type {\n",
       "        vertical-align: middle;\n",
       "    }\n",
       "\n",
       "    .dataframe tbody tr th {\n",
       "        vertical-align: top;\n",
       "    }\n",
       "\n",
       "    .dataframe thead th {\n",
       "        text-align: right;\n",
       "    }\n",
       "</style>\n",
       "<table border=\"1\" class=\"dataframe\">\n",
       "  <thead>\n",
       "    <tr style=\"text-align: right;\">\n",
       "      <th>SITUACAO</th>\n",
       "      <th>0</th>\n",
       "      <th>1</th>\n",
       "    </tr>\n",
       "    <tr>\n",
       "      <th>INDIRETA</th>\n",
       "      <th></th>\n",
       "      <th></th>\n",
       "    </tr>\n",
       "  </thead>\n",
       "  <tbody>\n",
       "    <tr>\n",
       "      <th>0</th>\n",
       "      <td>2711</td>\n",
       "      <td>792</td>\n",
       "    </tr>\n",
       "    <tr>\n",
       "      <th>1</th>\n",
       "      <td>113943</td>\n",
       "      <td>8070</td>\n",
       "    </tr>\n",
       "  </tbody>\n",
       "</table>\n",
       "</div>"
      ],
      "text/plain": [
       "SITUACAO       0     1\n",
       "INDIRETA              \n",
       "0           2711   792\n",
       "1         113943  8070"
      ]
     },
     "execution_count": 14,
     "metadata": {},
     "output_type": "execute_result"
    }
   ],
   "source": [
    "pd.crosstab(df.INDIRETA, df.SITUACAO)"
   ]
  },
  {
   "cell_type": "code",
   "execution_count": 15,
   "metadata": {},
   "outputs": [
    {
     "data": {
      "text/html": [
       "<div>\n",
       "<style scoped>\n",
       "    .dataframe tbody tr th:only-of-type {\n",
       "        vertical-align: middle;\n",
       "    }\n",
       "\n",
       "    .dataframe tbody tr th {\n",
       "        vertical-align: top;\n",
       "    }\n",
       "\n",
       "    .dataframe thead th {\n",
       "        text-align: right;\n",
       "    }\n",
       "</style>\n",
       "<table border=\"1\" class=\"dataframe\">\n",
       "  <thead>\n",
       "    <tr style=\"text-align: right;\">\n",
       "      <th>SITUACAO</th>\n",
       "      <th>0</th>\n",
       "      <th>1</th>\n",
       "    </tr>\n",
       "    <tr>\n",
       "      <th>INOVACAO</th>\n",
       "      <th></th>\n",
       "      <th></th>\n",
       "    </tr>\n",
       "  </thead>\n",
       "  <tbody>\n",
       "    <tr>\n",
       "      <th>0</th>\n",
       "      <td>116310</td>\n",
       "      <td>8730</td>\n",
       "    </tr>\n",
       "    <tr>\n",
       "      <th>1</th>\n",
       "      <td>344</td>\n",
       "      <td>132</td>\n",
       "    </tr>\n",
       "  </tbody>\n",
       "</table>\n",
       "</div>"
      ],
      "text/plain": [
       "SITUACAO       0     1\n",
       "INOVACAO              \n",
       "0         116310  8730\n",
       "1            344   132"
      ]
     },
     "execution_count": 15,
     "metadata": {},
     "output_type": "execute_result"
    }
   ],
   "source": [
    "pd.crosstab(df.INOVACAO, df.SITUACAO)"
   ]
  },
  {
   "cell_type": "code",
   "execution_count": 16,
   "metadata": {},
   "outputs": [
    {
     "data": {
      "text/html": [
       "<div>\n",
       "<style scoped>\n",
       "    .dataframe tbody tr th:only-of-type {\n",
       "        vertical-align: middle;\n",
       "    }\n",
       "\n",
       "    .dataframe tbody tr th {\n",
       "        vertical-align: top;\n",
       "    }\n",
       "\n",
       "    .dataframe thead th {\n",
       "        text-align: right;\n",
       "    }\n",
       "</style>\n",
       "<table border=\"1\" class=\"dataframe\">\n",
       "  <thead>\n",
       "    <tr style=\"text-align: right;\">\n",
       "      <th>SITUACAO</th>\n",
       "      <th>0</th>\n",
       "      <th>1</th>\n",
       "    </tr>\n",
       "    <tr>\n",
       "      <th>TESOURO</th>\n",
       "      <th></th>\n",
       "      <th></th>\n",
       "    </tr>\n",
       "  </thead>\n",
       "  <tbody>\n",
       "    <tr>\n",
       "      <th>0</th>\n",
       "      <td>110155</td>\n",
       "      <td>7886</td>\n",
       "    </tr>\n",
       "    <tr>\n",
       "      <th>1</th>\n",
       "      <td>6499</td>\n",
       "      <td>976</td>\n",
       "    </tr>\n",
       "  </tbody>\n",
       "</table>\n",
       "</div>"
      ],
      "text/plain": [
       "SITUACAO       0     1\n",
       "TESOURO               \n",
       "0         110155  7886\n",
       "1           6499   976"
      ]
     },
     "execution_count": 16,
     "metadata": {},
     "output_type": "execute_result"
    }
   ],
   "source": [
    "pd.crosstab(df.TESOURO, df.SITUACAO)"
   ]
  },
  {
   "cell_type": "code",
   "execution_count": 17,
   "metadata": {},
   "outputs": [
    {
     "data": {
      "text/html": [
       "<div>\n",
       "<style scoped>\n",
       "    .dataframe tbody tr th:only-of-type {\n",
       "        vertical-align: middle;\n",
       "    }\n",
       "\n",
       "    .dataframe tbody tr th {\n",
       "        vertical-align: top;\n",
       "    }\n",
       "\n",
       "    .dataframe thead th {\n",
       "        text-align: right;\n",
       "    }\n",
       "</style>\n",
       "<table border=\"1\" class=\"dataframe\">\n",
       "  <thead>\n",
       "    <tr style=\"text-align: right;\">\n",
       "      <th>SITUACAO</th>\n",
       "      <th>0</th>\n",
       "      <th>1</th>\n",
       "    </tr>\n",
       "    <tr>\n",
       "      <th>SOCIO_PJ</th>\n",
       "      <th></th>\n",
       "      <th></th>\n",
       "    </tr>\n",
       "  </thead>\n",
       "  <tbody>\n",
       "    <tr>\n",
       "      <th>0</th>\n",
       "      <td>116654</td>\n",
       "      <td>8862</td>\n",
       "    </tr>\n",
       "  </tbody>\n",
       "</table>\n",
       "</div>"
      ],
      "text/plain": [
       "SITUACAO       0     1\n",
       "SOCIO_PJ              \n",
       "0         116654  8862"
      ]
     },
     "execution_count": 17,
     "metadata": {},
     "output_type": "execute_result"
    }
   ],
   "source": [
    "pd.crosstab(df.SOCIO_PJ, df.SITUACAO)"
   ]
  },
  {
   "cell_type": "code",
   "execution_count": 18,
   "metadata": {},
   "outputs": [
    {
     "name": "stdout",
     "output_type": "stream",
     "text": [
      "CPU times: total: 15.6 ms\n",
      "Wall time: 11 ms\n"
     ]
    }
   ],
   "source": [
    "%%time\n",
    "df.loc[ (df['CAPITAL_SOCIAL']<1)     ,'CAPITAL_SOCIAL']    = 1\n",
    "df.loc[ (df['IDADE']<1)              ,'IDADE']             = 1\n",
    "df.loc[ (df['NCONTRATOS']<1)         ,'NCONTRATOS']        = 1\n",
    "df.loc[ (df['NFILIAIS']<1)           ,'NFILIAIS']          = 1\n",
    "df.loc[ (df['IDADE_SOCIOS']<1)       ,'IDADE_SOCIOS']      = 1\n",
    "df.loc[ (df['QTDSOCIOS']<1)          ,'QTDSOCIOS']         = 1\n",
    "df.loc[ (df['MEDIA_JUROS']<1)        ,'MEDIA_JUROS']       = 1\n",
    "df.loc[ (df['PRAZO_AMORTIZACAO']<1)  ,'PRAZO_AMORTIZACAO'] = 1\n",
    "df.loc[ (df['PRAZO_CARENCIA']<1)     ,'PRAZO_CARENCIA']    = 1\n",
    "df.loc[ (df['VALOR_CONTRATO']<1)     ,'VALOR_CONTRATO']    = 1\n",
    "df.loc[ (df['VALOR_DESENBOLSO']<1)   ,'VALOR_DESENBOLSO']  = 1"
   ]
  },
  {
   "cell_type": "code",
   "execution_count": 19,
   "metadata": {},
   "outputs": [
    {
     "name": "stdout",
     "output_type": "stream",
     "text": [
      "CPU times: total: 46.9 ms\n",
      "Wall time: 54.7 ms\n"
     ]
    }
   ],
   "source": [
    "%%time\n",
    "df['enc_NATJUR']        = df.NATJUR.astype(\"category\").cat.codes\n",
    "df['enc_GARANTIA']      = df.GARANTIA.astype(\"category\").cat.codes\n",
    "df['enc_INSTRUMENTO']   = df.INSTRUMENTO.astype(\"category\").cat.codes\n",
    "df['enc_CUSTO']         = df.CUSTO.astype(\"category\").cat.codes\n",
    "df['enc_PORTE_CLIENTE'] = df.Porte_Cliente.astype(\"category\").cat.codes\n",
    "df['enc_PORTE_RECEITA'] = df.PORTE_RECEITA.astype(\"category\").cat.codes\n",
    "df['enc_SITUACAO']      = df.SITUACAO.astype(\"category\").cat.codes\n",
    "df['enc_UF']            = df.UF.astype(\"category\").cat.codes"
   ]
  },
  {
   "cell_type": "code",
   "execution_count": 20,
   "metadata": {},
   "outputs": [
    {
     "name": "stdout",
     "output_type": "stream",
     "text": [
      "CPU times: total: 46.9 ms\n",
      "Wall time: 26.7 ms\n"
     ]
    }
   ],
   "source": [
    "%%time\n",
    "df['ln_capsoc']        = np.log(df['CAPITAL_SOCIAL']+1)\n",
    "df['ln_idade']         = np.log(df['IDADE']+1)\n",
    "df['ln_contratos']     = np.log(df['NCONTRATOS']+1)\n",
    "df['ln_filiais']       = np.log(df['NFILIAIS']+1)\n",
    "df['ln_sociosage']     = np.log(df['IDADE_SOCIOS']+1)\n",
    "df['ln_qtdsocios']     = np.log(df['QTDSOCIOS']+1)\n",
    "df['ln_juros']         = np.log(df['MEDIA_JUROS']+1)\n",
    "df['ln_amortizacao']   = np.log(df['PRAZO_AMORTIZACAO']+1)\n",
    "df['ln_carencia']      = np.log(df['PRAZO_CARENCIA']+1)\n",
    "df['ln_vlrcontrato']   = np.log(df['VALOR_CONTRATO']+1)\n",
    "df['ln_vlrdesembolso'] = np.log(df['VALOR_DESENBOLSO']+1)"
   ]
  },
  {
   "attachments": {},
   "cell_type": "markdown",
   "metadata": {},
   "source": [
    "## Modelo sem histórico foi treinado com as variáveis na seguinte ordem:\n",
    "['faixa_hora', 'vl_medio_mes_atual', 'dif_vl_1', 'tres_prim_dig_codbarras', 'pagador_pf', 'dif_vl_4', 'dia_do_mes', 'qtd_operacoes_mes_corrente', 'vl_medio_dia_corrente', 'sec_dig', 'qtd_operacoes_dia_corrente', 'qtd_trn_60min', 'centavos', 'dia_da_semana']"
   ]
  },
  {
   "cell_type": "code",
   "execution_count": 21,
   "metadata": {},
   "outputs": [
    {
     "name": "stdout",
     "output_type": "stream",
     "text": [
      "CPU times: total: 0 ns\n",
      "Wall time: 997 µs\n"
     ]
    }
   ],
   "source": [
    "%%time\n",
    "files = df.columns\n",
    "#selected_files = files.str.contains('ln_|enc_|INDIRETA|EMPRESA_PUBLICA|INOVACAO|TESOURO|SOCIO_PJ')\n",
    "selected_files = files.str.contains('ln_|INDIRETA|EMPRESA_PUBLICA|INOVACAO|TESOURO|SOCIO_PJ')\n",
    "atributes = files[selected_files]"
   ]
  },
  {
   "cell_type": "code",
   "execution_count": 22,
   "metadata": {},
   "outputs": [
    {
     "data": {
      "text/plain": [
       "Index(['EMPRESA_PUBLICA', 'INDIRETA', 'INOVACAO', 'TESOURO', 'SOCIO_PJ',\n",
       "       'ln_capsoc', 'ln_idade', 'ln_contratos', 'ln_filiais', 'ln_sociosage',\n",
       "       'ln_qtdsocios', 'ln_juros', 'ln_amortizacao', 'ln_carencia',\n",
       "       'ln_vlrcontrato', 'ln_vlrdesembolso'],\n",
       "      dtype='object')"
      ]
     },
     "execution_count": 22,
     "metadata": {},
     "output_type": "execute_result"
    }
   ],
   "source": [
    "atributes"
   ]
  },
  {
   "cell_type": "code",
   "execution_count": 23,
   "metadata": {},
   "outputs": [
    {
     "data": {
      "text/plain": [
       "EMPRESA_PUBLICA       int64\n",
       "INDIRETA              int64\n",
       "INOVACAO              int64\n",
       "TESOURO               int64\n",
       "SOCIO_PJ              int64\n",
       "ln_capsoc           float64\n",
       "ln_idade            float64\n",
       "ln_contratos        float64\n",
       "ln_filiais          float64\n",
       "ln_sociosage        float64\n",
       "ln_qtdsocios        float64\n",
       "ln_juros            float64\n",
       "ln_amortizacao      float64\n",
       "ln_carencia         float64\n",
       "ln_vlrcontrato      float64\n",
       "ln_vlrdesembolso    float64\n",
       "dtype: object"
      ]
     },
     "execution_count": 23,
     "metadata": {},
     "output_type": "execute_result"
    }
   ],
   "source": [
    "df[atributes].dtypes"
   ]
  },
  {
   "cell_type": "code",
   "execution_count": 24,
   "metadata": {},
   "outputs": [
    {
     "data": {
      "text/html": [
       "<div>\n",
       "<style scoped>\n",
       "    .dataframe tbody tr th:only-of-type {\n",
       "        vertical-align: middle;\n",
       "    }\n",
       "\n",
       "    .dataframe tbody tr th {\n",
       "        vertical-align: top;\n",
       "    }\n",
       "\n",
       "    .dataframe thead th {\n",
       "        text-align: right;\n",
       "    }\n",
       "</style>\n",
       "<table border=\"1\" class=\"dataframe\">\n",
       "  <thead>\n",
       "    <tr style=\"text-align: right;\">\n",
       "      <th></th>\n",
       "      <th>count</th>\n",
       "      <th>mean</th>\n",
       "      <th>std</th>\n",
       "      <th>min</th>\n",
       "      <th>25%</th>\n",
       "      <th>50%</th>\n",
       "      <th>75%</th>\n",
       "      <th>max</th>\n",
       "    </tr>\n",
       "  </thead>\n",
       "  <tbody>\n",
       "    <tr>\n",
       "      <th>EMPRESA_PUBLICA</th>\n",
       "      <td>125516.0</td>\n",
       "      <td>0.002956</td>\n",
       "      <td>0.054287</td>\n",
       "      <td>0.000000</td>\n",
       "      <td>0.000000</td>\n",
       "      <td>0.000000</td>\n",
       "      <td>0.000000</td>\n",
       "      <td>1.000000</td>\n",
       "    </tr>\n",
       "    <tr>\n",
       "      <th>INDIRETA</th>\n",
       "      <td>125516.0</td>\n",
       "      <td>0.972091</td>\n",
       "      <td>0.164712</td>\n",
       "      <td>0.000000</td>\n",
       "      <td>1.000000</td>\n",
       "      <td>1.000000</td>\n",
       "      <td>1.000000</td>\n",
       "      <td>1.000000</td>\n",
       "    </tr>\n",
       "    <tr>\n",
       "      <th>INOVACAO</th>\n",
       "      <td>125516.0</td>\n",
       "      <td>0.003792</td>\n",
       "      <td>0.061465</td>\n",
       "      <td>0.000000</td>\n",
       "      <td>0.000000</td>\n",
       "      <td>0.000000</td>\n",
       "      <td>0.000000</td>\n",
       "      <td>1.000000</td>\n",
       "    </tr>\n",
       "    <tr>\n",
       "      <th>TESOURO</th>\n",
       "      <td>125516.0</td>\n",
       "      <td>0.059554</td>\n",
       "      <td>0.236660</td>\n",
       "      <td>0.000000</td>\n",
       "      <td>0.000000</td>\n",
       "      <td>0.000000</td>\n",
       "      <td>0.000000</td>\n",
       "      <td>1.000000</td>\n",
       "    </tr>\n",
       "    <tr>\n",
       "      <th>SOCIO_PJ</th>\n",
       "      <td>125516.0</td>\n",
       "      <td>0.000000</td>\n",
       "      <td>0.000000</td>\n",
       "      <td>0.000000</td>\n",
       "      <td>0.000000</td>\n",
       "      <td>0.000000</td>\n",
       "      <td>0.000000</td>\n",
       "      <td>0.000000</td>\n",
       "    </tr>\n",
       "    <tr>\n",
       "      <th>ln_capsoc</th>\n",
       "      <td>125516.0</td>\n",
       "      <td>10.674521</td>\n",
       "      <td>3.548741</td>\n",
       "      <td>0.693147</td>\n",
       "      <td>9.615872</td>\n",
       "      <td>11.002117</td>\n",
       "      <td>11.982935</td>\n",
       "      <td>26.048381</td>\n",
       "    </tr>\n",
       "    <tr>\n",
       "      <th>ln_idade</th>\n",
       "      <td>125516.0</td>\n",
       "      <td>1.250731</td>\n",
       "      <td>0.858364</td>\n",
       "      <td>0.693147</td>\n",
       "      <td>0.693147</td>\n",
       "      <td>0.693147</td>\n",
       "      <td>1.791759</td>\n",
       "      <td>4.718499</td>\n",
       "    </tr>\n",
       "    <tr>\n",
       "      <th>ln_contratos</th>\n",
       "      <td>125516.0</td>\n",
       "      <td>0.813766</td>\n",
       "      <td>0.313496</td>\n",
       "      <td>0.693147</td>\n",
       "      <td>0.693147</td>\n",
       "      <td>0.693147</td>\n",
       "      <td>0.693147</td>\n",
       "      <td>5.613128</td>\n",
       "    </tr>\n",
       "    <tr>\n",
       "      <th>ln_filiais</th>\n",
       "      <td>125516.0</td>\n",
       "      <td>0.876072</td>\n",
       "      <td>0.495155</td>\n",
       "      <td>0.693147</td>\n",
       "      <td>0.693147</td>\n",
       "      <td>0.693147</td>\n",
       "      <td>0.693147</td>\n",
       "      <td>8.921591</td>\n",
       "    </tr>\n",
       "    <tr>\n",
       "      <th>ln_sociosage</th>\n",
       "      <td>125516.0</td>\n",
       "      <td>2.572323</td>\n",
       "      <td>1.539442</td>\n",
       "      <td>0.693147</td>\n",
       "      <td>0.693147</td>\n",
       "      <td>3.610918</td>\n",
       "      <td>3.850148</td>\n",
       "      <td>4.510860</td>\n",
       "    </tr>\n",
       "    <tr>\n",
       "      <th>ln_qtdsocios</th>\n",
       "      <td>125516.0</td>\n",
       "      <td>0.800815</td>\n",
       "      <td>0.209399</td>\n",
       "      <td>0.693147</td>\n",
       "      <td>0.693147</td>\n",
       "      <td>0.693147</td>\n",
       "      <td>0.693147</td>\n",
       "      <td>3.663562</td>\n",
       "    </tr>\n",
       "    <tr>\n",
       "      <th>ln_juros</th>\n",
       "      <td>125516.0</td>\n",
       "      <td>11.743486</td>\n",
       "      <td>1.670736</td>\n",
       "      <td>5.993961</td>\n",
       "      <td>10.819798</td>\n",
       "      <td>11.695255</td>\n",
       "      <td>12.611541</td>\n",
       "      <td>22.990224</td>\n",
       "    </tr>\n",
       "    <tr>\n",
       "      <th>ln_amortizacao</th>\n",
       "      <td>125516.0</td>\n",
       "      <td>3.806638</td>\n",
       "      <td>0.459982</td>\n",
       "      <td>0.693147</td>\n",
       "      <td>3.526361</td>\n",
       "      <td>3.891820</td>\n",
       "      <td>4.060443</td>\n",
       "      <td>5.746203</td>\n",
       "    </tr>\n",
       "    <tr>\n",
       "      <th>ln_carencia</th>\n",
       "      <td>125516.0</td>\n",
       "      <td>1.696933</td>\n",
       "      <td>0.574895</td>\n",
       "      <td>0.693147</td>\n",
       "      <td>1.386294</td>\n",
       "      <td>1.386294</td>\n",
       "      <td>1.945910</td>\n",
       "      <td>4.733875</td>\n",
       "    </tr>\n",
       "    <tr>\n",
       "      <th>ln_vlrcontrato</th>\n",
       "      <td>125516.0</td>\n",
       "      <td>11.926054</td>\n",
       "      <td>1.859615</td>\n",
       "      <td>5.993961</td>\n",
       "      <td>10.819798</td>\n",
       "      <td>11.775297</td>\n",
       "      <td>12.794628</td>\n",
       "      <td>23.683371</td>\n",
       "    </tr>\n",
       "    <tr>\n",
       "      <th>ln_vlrdesembolso</th>\n",
       "      <td>125516.0</td>\n",
       "      <td>11.889179</td>\n",
       "      <td>1.886584</td>\n",
       "      <td>0.693147</td>\n",
       "      <td>10.819798</td>\n",
       "      <td>11.775297</td>\n",
       "      <td>12.779876</td>\n",
       "      <td>23.683371</td>\n",
       "    </tr>\n",
       "  </tbody>\n",
       "</table>\n",
       "</div>"
      ],
      "text/plain": [
       "                     count       mean       std       min        25%  \\\n",
       "EMPRESA_PUBLICA   125516.0   0.002956  0.054287  0.000000   0.000000   \n",
       "INDIRETA          125516.0   0.972091  0.164712  0.000000   1.000000   \n",
       "INOVACAO          125516.0   0.003792  0.061465  0.000000   0.000000   \n",
       "TESOURO           125516.0   0.059554  0.236660  0.000000   0.000000   \n",
       "SOCIO_PJ          125516.0   0.000000  0.000000  0.000000   0.000000   \n",
       "ln_capsoc         125516.0  10.674521  3.548741  0.693147   9.615872   \n",
       "ln_idade          125516.0   1.250731  0.858364  0.693147   0.693147   \n",
       "ln_contratos      125516.0   0.813766  0.313496  0.693147   0.693147   \n",
       "ln_filiais        125516.0   0.876072  0.495155  0.693147   0.693147   \n",
       "ln_sociosage      125516.0   2.572323  1.539442  0.693147   0.693147   \n",
       "ln_qtdsocios      125516.0   0.800815  0.209399  0.693147   0.693147   \n",
       "ln_juros          125516.0  11.743486  1.670736  5.993961  10.819798   \n",
       "ln_amortizacao    125516.0   3.806638  0.459982  0.693147   3.526361   \n",
       "ln_carencia       125516.0   1.696933  0.574895  0.693147   1.386294   \n",
       "ln_vlrcontrato    125516.0  11.926054  1.859615  5.993961  10.819798   \n",
       "ln_vlrdesembolso  125516.0  11.889179  1.886584  0.693147  10.819798   \n",
       "\n",
       "                        50%        75%        max  \n",
       "EMPRESA_PUBLICA    0.000000   0.000000   1.000000  \n",
       "INDIRETA           1.000000   1.000000   1.000000  \n",
       "INOVACAO           0.000000   0.000000   1.000000  \n",
       "TESOURO            0.000000   0.000000   1.000000  \n",
       "SOCIO_PJ           0.000000   0.000000   0.000000  \n",
       "ln_capsoc         11.002117  11.982935  26.048381  \n",
       "ln_idade           0.693147   1.791759   4.718499  \n",
       "ln_contratos       0.693147   0.693147   5.613128  \n",
       "ln_filiais         0.693147   0.693147   8.921591  \n",
       "ln_sociosage       3.610918   3.850148   4.510860  \n",
       "ln_qtdsocios       0.693147   0.693147   3.663562  \n",
       "ln_juros          11.695255  12.611541  22.990224  \n",
       "ln_amortizacao     3.891820   4.060443   5.746203  \n",
       "ln_carencia        1.386294   1.945910   4.733875  \n",
       "ln_vlrcontrato    11.775297  12.794628  23.683371  \n",
       "ln_vlrdesembolso  11.775297  12.779876  23.683371  "
      ]
     },
     "execution_count": 24,
     "metadata": {},
     "output_type": "execute_result"
    }
   ],
   "source": [
    "df[atributes].describe().transpose()"
   ]
  },
  {
   "attachments": {},
   "cell_type": "markdown",
   "metadata": {},
   "source": [
    "## SMOTE: Synthetic Minority Oversampling Technique"
   ]
  },
  {
   "cell_type": "code",
   "execution_count": 25,
   "metadata": {},
   "outputs": [],
   "source": [
    "y0 = df['SITUACAO'].values.reshape(-1, 1)\n",
    "#y0 = df['SITUACAO'].values\n",
    "X0 = df[atributes]"
   ]
  },
  {
   "cell_type": "code",
   "execution_count": 26,
   "metadata": {},
   "outputs": [],
   "source": [
    "#import joblib\n",
    "#scaler = joblib.load(\"scaler.saved\") \n",
    "\n",
    "from numpy import asarray\n",
    "from sklearn.preprocessing import MinMaxScaler\n",
    "\n",
    "scaler = MinMaxScaler()\n",
    "# transform data\n",
    "X0 = scaler.fit_transform(df[atributes])"
   ]
  },
  {
   "cell_type": "code",
   "execution_count": 27,
   "metadata": {},
   "outputs": [],
   "source": [
    "# base sintética: treino e teste\n",
    "x_train  , x_test0 , y_train, y_test0 = train_test_split(X0, y0, test_size = 0.4, random_state=123)\n",
    "\n",
    "# base sintética: teste e out of sample\n",
    "x_test , x_out , y_test, y_out = train_test_split(x_test0, y_test0, test_size = 0.4, random_state=123)"
   ]
  },
  {
   "cell_type": "code",
   "execution_count": 28,
   "metadata": {},
   "outputs": [],
   "source": [
    "# summarize the new class distribution\n",
    "#counter0 = Counter(y_train)\n",
    "#counter1 = Counter(y_test)\n",
    "#counter2 = Counter(y_out)\n",
    "#print(counter0, counter1, counter2)"
   ]
  },
  {
   "cell_type": "code",
   "execution_count": 34,
   "metadata": {},
   "outputs": [
    {
     "name": "stdout",
     "output_type": "stream",
     "text": [
      "|   iter    |  target   |  booster  |    eta    |   gamma   | grow_p... | learni... |  max_bin  | max_de... | max_depth | max_le... | min_ch... | n_esti... | reg_alpha | reg_la... | scale_... | subsample |\n",
      "-------------------------------------------------------------------------------------------------------------------------------------------------------------------------------------------------------------\n"
     ]
    }
   ],
   "source": [
    "%%time\n",
    "from bayes_opt import BayesianOptimization\n",
    "from sklearn.metrics import roc_auc_score\n",
    "\n",
    "gr_range = ['depthwise','lossguide']\n",
    "bs_range = ['gbtree','dart']\n",
    "\n",
    "def gbm_xgb(learning_rate, max_depth, gamma, min_child_weight, subsample, eta, reg_alpha, reg_lambda,\n",
    "            n_estimators, max_delta_step, max_leaves, grow_policy, scale_pos_weight, booster , max_bin):\n",
    "    model = xgb.XGBClassifier(\n",
    "                  learning_rate       = learning_rate,\n",
    "                  max_depth           = int(max_depth),\n",
    "                  gamma               = gamma,\n",
    "                  min_child_weight    = int(min_child_weight),\n",
    "                  subsample           = subsample,\n",
    "                  eta                 = eta,\n",
    "                  reg_alpha           = reg_alpha,\n",
    "                  reg_lambda          = reg_lambda,\n",
    "                  n_estimators        = int(n_estimators),\n",
    "                  max_delta_step      = max_delta_step,\n",
    "                  max_leaves          = int(max_leaves),\n",
    "                  max_bin             = int(max_bin),\n",
    "                  booster             = bs_range[int(booster)],\n",
    "                  grow_policy         = gr_range[int(grow_policy)],\n",
    "                  scale_pos_weight    = scale_pos_weight,\n",
    "                  missing             = 0,\n",
    "                  random_state        = 666,\n",
    "                  nthread =10 )\n",
    "    \n",
    "    model.fit(x_train, y_train.ravel(), verbose=False)\n",
    "    pred_labels = model.predict(x_test)\n",
    "    return roc_auc_score(y_test, pred_labels)\n",
    "\n",
    "params_xgb = {\n",
    "    'learning_rate'          : (0.010 ,0.500),\n",
    "    'max_depth'              : (2.000 ,11.00),\n",
    "    'gamma'                  : (1.000 ,100.0),\n",
    "    'min_child_weight'       : (1.000 ,100.0),\n",
    "    'subsample'              : (0.222 ,0.999),\n",
    "    'eta'                    : (0.005 ,0.500),\n",
    "    'reg_alpha'              : (0.050 ,10.00),\n",
    "    'reg_lambda'             : (0.050 ,10.00),\n",
    "    'n_estimators'           : (50.00 ,500.0),\n",
    "    'max_delta_step'         : (0.005 ,5.000),\n",
    "    'max_leaves'             : (2.000 ,50.00),\n",
    "    'max_bin'                : (2.000 ,100.0),\n",
    "    'booster'                : (0.001 ,1.000),\n",
    "    'grow_policy'            : (0.001 ,1.000),\n",
    "    'scale_pos_weight'       : (0.222 ,100.0),\n",
    "}\n",
    "   \n",
    "xgb0 = BayesianOptimization(f=gbm_xgb, pbounds=params_xgb, random_state=123, allow_duplicate_points=True) \n",
    "xgb0.set_gp_params(alpha=1e-4)\n",
    "xgb0.maximize(init_points=30, n_iter=270)"
   ]
  },
  {
   "cell_type": "code",
   "execution_count": null,
   "metadata": {},
   "outputs": [],
   "source": [
    "params_xgb = xgb0.max['params']\n",
    "params_xgb"
   ]
  },
  {
   "cell_type": "code",
   "execution_count": null,
   "metadata": {},
   "outputs": [],
   "source": [
    "learning_rate       = xgb0.max['params']['learning_rate']\n",
    "max_depth           = int(xgb0.max['params']['max_depth'])\n",
    "gamma               = xgb0.max['params']['gamma']\n",
    "min_child_weight    = int(xgb0.max['params']['min_child_weight'])\n",
    "subsample           = xgb0.max['params']['subsample']\n",
    "eta                 = xgb0.max['params']['eta']\n",
    "reg_alpha           = xgb0.max['params']['reg_alpha']\n",
    "reg_lambda          = xgb0.max['params']['reg_lambda']\n",
    "n_estimators        = int(xgb0.max['params']['n_estimators'])\n",
    "max_delta_step      = xgb0.max['params']['max_delta_step']\n",
    "max_leaves          = int(xgb0.max['params']['max_leaves'])\n",
    "max_bin             = int(xgb0.max['params']['max_bin'])\n",
    "max_cat_threshold   = int(xgb0.max['params']['max_cat_threshold'])\n",
    "booster             = bs_range[int(xgb0.max['params']['booster'])]\n",
    "grow_policy         = gr_range[int(xgb0.max['params']['grow_policy'])]\n",
    "scale_pos_weight    = xgb0.max['params']['scale_pos_weight']\n",
    "\n",
    "print('\\n learning_rate:'     , learning_rate,\n",
    "      '\\n max_depth:'         , max_depth,\n",
    "      '\\n gamma:'             , gamma,\n",
    "      '\\n min_child_weight:'  , min_child_weight,\n",
    "      '\\n subsample:'         , subsample,\n",
    "      '\\n eta:'               , eta,\n",
    "      '\\n reg_alpha:'         , reg_alpha,\n",
    "      '\\n reg_lambda:'        , reg_lambda,\n",
    "      '\\n n_estimators:'      , n_estimators,\n",
    "      '\\n max_delta_step:'    , max_delta_step,\n",
    "      '\\n max_leaves:'        , max_leaves,\n",
    "      '\\n max_bin:'           , max_bin,\n",
    "      '\\n max_cat_threshold:' , max_cat_threshold,\n",
    "      '\\n grow_policy:'       , grow_policy,\n",
    "      '\\n booster:'           , booster,\n",
    "      '\\n scale_pos_weight:'  , scale_pos_weight)"
   ]
  },
  {
   "cell_type": "code",
   "execution_count": null,
   "metadata": {},
   "outputs": [
    {
     "name": "stdout",
     "output_type": "stream",
     "text": [
      "CPU times: user 3min 18s, sys: 10.7 s, total: 3min 28s\n",
      "Wall time: 6.54 s\n"
     ]
    },
    {
     "data": {
      "text/html": [
       "<style>#sk-container-id-13 {color: black;background-color: white;}#sk-container-id-13 pre{padding: 0;}#sk-container-id-13 div.sk-toggleable {background-color: white;}#sk-container-id-13 label.sk-toggleable__label {cursor: pointer;display: block;width: 100%;margin-bottom: 0;padding: 0.3em;box-sizing: border-box;text-align: center;}#sk-container-id-13 label.sk-toggleable__label-arrow:before {content: \"▸\";float: left;margin-right: 0.25em;color: #696969;}#sk-container-id-13 label.sk-toggleable__label-arrow:hover:before {color: black;}#sk-container-id-13 div.sk-estimator:hover label.sk-toggleable__label-arrow:before {color: black;}#sk-container-id-13 div.sk-toggleable__content {max-height: 0;max-width: 0;overflow: hidden;text-align: left;background-color: #f0f8ff;}#sk-container-id-13 div.sk-toggleable__content pre {margin: 0.2em;color: black;border-radius: 0.25em;background-color: #f0f8ff;}#sk-container-id-13 input.sk-toggleable__control:checked~div.sk-toggleable__content {max-height: 200px;max-width: 100%;overflow: auto;}#sk-container-id-13 input.sk-toggleable__control:checked~label.sk-toggleable__label-arrow:before {content: \"▾\";}#sk-container-id-13 div.sk-estimator input.sk-toggleable__control:checked~label.sk-toggleable__label {background-color: #d4ebff;}#sk-container-id-13 div.sk-label input.sk-toggleable__control:checked~label.sk-toggleable__label {background-color: #d4ebff;}#sk-container-id-13 input.sk-hidden--visually {border: 0;clip: rect(1px 1px 1px 1px);clip: rect(1px, 1px, 1px, 1px);height: 1px;margin: -1px;overflow: hidden;padding: 0;position: absolute;width: 1px;}#sk-container-id-13 div.sk-estimator {font-family: monospace;background-color: #f0f8ff;border: 1px dotted black;border-radius: 0.25em;box-sizing: border-box;margin-bottom: 0.5em;}#sk-container-id-13 div.sk-estimator:hover {background-color: #d4ebff;}#sk-container-id-13 div.sk-parallel-item::after {content: \"\";width: 100%;border-bottom: 1px solid gray;flex-grow: 1;}#sk-container-id-13 div.sk-label:hover label.sk-toggleable__label {background-color: #d4ebff;}#sk-container-id-13 div.sk-serial::before {content: \"\";position: absolute;border-left: 1px solid gray;box-sizing: border-box;top: 0;bottom: 0;left: 50%;z-index: 0;}#sk-container-id-13 div.sk-serial {display: flex;flex-direction: column;align-items: center;background-color: white;padding-right: 0.2em;padding-left: 0.2em;position: relative;}#sk-container-id-13 div.sk-item {position: relative;z-index: 1;}#sk-container-id-13 div.sk-parallel {display: flex;align-items: stretch;justify-content: center;background-color: white;position: relative;}#sk-container-id-13 div.sk-item::before, #sk-container-id-13 div.sk-parallel-item::before {content: \"\";position: absolute;border-left: 1px solid gray;box-sizing: border-box;top: 0;bottom: 0;left: 50%;z-index: -1;}#sk-container-id-13 div.sk-parallel-item {display: flex;flex-direction: column;z-index: 1;position: relative;background-color: white;}#sk-container-id-13 div.sk-parallel-item:first-child::after {align-self: flex-end;width: 50%;}#sk-container-id-13 div.sk-parallel-item:last-child::after {align-self: flex-start;width: 50%;}#sk-container-id-13 div.sk-parallel-item:only-child::after {width: 0;}#sk-container-id-13 div.sk-dashed-wrapped {border: 1px dashed gray;margin: 0 0.4em 0.5em 0.4em;box-sizing: border-box;padding-bottom: 0.4em;background-color: white;}#sk-container-id-13 div.sk-label label {font-family: monospace;font-weight: bold;display: inline-block;line-height: 1.2em;}#sk-container-id-13 div.sk-label-container {text-align: center;}#sk-container-id-13 div.sk-container {/* jupyter's `normalize.less` sets `[hidden] { display: none; }` but bootstrap.min.css set `[hidden] { display: none !important; }` so we also need the `!important` here to be able to override the default hidden behavior on the sphinx rendered scikit-learn.org. See: https://github.com/scikit-learn/scikit-learn/issues/21755 */display: inline-block !important;position: relative;}#sk-container-id-13 div.sk-text-repr-fallback {display: none;}</style><div id=\"sk-container-id-13\" class=\"sk-top-container\"><div class=\"sk-text-repr-fallback\"><pre>XGBClassifier(base_score=None, booster=&#x27;gbtree&#x27;, callbacks=None,\n",
       "              colsample_bylevel=None, colsample_bynode=None,\n",
       "              colsample_bytree=None, early_stopping_rounds=None,\n",
       "              enable_categorical=False, eta=0.04618151922455719,\n",
       "              eval_metric=None, feature_types=None, gamma=76.60460130289049,\n",
       "              gpu_id=None, grow_policy=&#x27;depthwise&#x27;, importance_type=None,\n",
       "              interaction_constraints=None, learning_rate=0.10516925068359771,\n",
       "              max_bin=58, max_cat_threshold=9, max_cat_to_onehot=None,\n",
       "              max_delta_step=4.427207497244322, max_depth=7, max_leaves=36,\n",
       "              min_child_weight=2, missing=nan, monotone_constraints=None,\n",
       "              n_estimators=317, n_jobs=None, num_parallel_tree=None,\n",
       "              predictor=None, ...)</pre><b>In a Jupyter environment, please rerun this cell to show the HTML representation or trust the notebook. <br />On GitHub, the HTML representation is unable to render, please try loading this page with nbviewer.org.</b></div><div class=\"sk-container\" hidden><div class=\"sk-item\"><div class=\"sk-estimator sk-toggleable\"><input class=\"sk-toggleable__control sk-hidden--visually\" id=\"sk-estimator-id-13\" type=\"checkbox\" checked><label for=\"sk-estimator-id-13\" class=\"sk-toggleable__label sk-toggleable__label-arrow\">XGBClassifier</label><div class=\"sk-toggleable__content\"><pre>XGBClassifier(base_score=None, booster=&#x27;gbtree&#x27;, callbacks=None,\n",
       "              colsample_bylevel=None, colsample_bynode=None,\n",
       "              colsample_bytree=None, early_stopping_rounds=None,\n",
       "              enable_categorical=False, eta=0.04618151922455719,\n",
       "              eval_metric=None, feature_types=None, gamma=76.60460130289049,\n",
       "              gpu_id=None, grow_policy=&#x27;depthwise&#x27;, importance_type=None,\n",
       "              interaction_constraints=None, learning_rate=0.10516925068359771,\n",
       "              max_bin=58, max_cat_threshold=9, max_cat_to_onehot=None,\n",
       "              max_delta_step=4.427207497244322, max_depth=7, max_leaves=36,\n",
       "              min_child_weight=2, missing=nan, monotone_constraints=None,\n",
       "              n_estimators=317, n_jobs=None, num_parallel_tree=None,\n",
       "              predictor=None, ...)</pre></div></div></div></div></div>"
      ],
      "text/plain": [
       "XGBClassifier(base_score=None, booster='gbtree', callbacks=None,\n",
       "              colsample_bylevel=None, colsample_bynode=None,\n",
       "              colsample_bytree=None, early_stopping_rounds=None,\n",
       "              enable_categorical=False, eta=0.04618151922455719,\n",
       "              eval_metric=None, feature_types=None, gamma=76.60460130289049,\n",
       "              gpu_id=None, grow_policy='depthwise', importance_type=None,\n",
       "              interaction_constraints=None, learning_rate=0.10516925068359771,\n",
       "              max_bin=58, max_cat_threshold=9, max_cat_to_onehot=None,\n",
       "              max_delta_step=4.427207497244322, max_depth=7, max_leaves=36,\n",
       "              min_child_weight=2, missing=nan, monotone_constraints=None,\n",
       "              n_estimators=317, n_jobs=None, num_parallel_tree=None,\n",
       "              predictor=None, ...)"
      ]
     },
     "execution_count": 177,
     "metadata": {},
     "output_type": "execute_result"
    }
   ],
   "source": [
    "%%time\n",
    "cbbb= xgb.XGBClassifier(learning_rate     = learning_rate,\n",
    "                        max_depth         = max_depth,\n",
    "                        gamma             = gamma,\n",
    "                        min_child_weight  = min_child_weight,\n",
    "                        subsample         = subsample,\n",
    "                        eta               = eta,\n",
    "                        reg_alpha         = reg_alpha,\n",
    "                        reg_lambda        = reg_lambda,\n",
    "                        n_estimators      = n_estimators,\n",
    "                        max_delta_step    = max_delta_step,\n",
    "                        max_leaves        = max_leaves,\n",
    "                        max_bin           = max_bin,\n",
    "                        max_cat_threshold = max_cat_threshold,\n",
    "                        grow_policy       = grow_policy,\n",
    "                        booster           = booster,\n",
    "                        scale_pos_weight  = scale_pos_weight)\n",
    "cbbb.fit(x_train, y_train)"
   ]
  },
  {
   "cell_type": "code",
   "execution_count": null,
   "metadata": {},
   "outputs": [
    {
     "name": "stdout",
     "output_type": "stream",
     "text": [
      "Accuracy: 0.8571883838585029\n",
      "F1 score: 0.49228154652315537\n",
      "Recall: 0.973305954825462\n",
      "Precision: 0.3294578541640339\n",
      "CPU times: user 4.27 s, sys: 237 ms, total: 4.51 s\n",
      "Wall time: 141 ms\n"
     ]
    }
   ],
   "source": [
    "%%time\n",
    "from sklearn.metrics import accuracy_score, f1_score, recall_score, precision_score, roc_auc_score\n",
    "print(\"Accuracy:\" , accuracy_score(  y_train, cbbb.predict(x_train))) \n",
    "print(\"F1 score:\" , f1_score(        y_train, cbbb.predict(x_train))) \n",
    "print(\"Recall:\"   , recall_score(    y_train, cbbb.predict(x_train))) \n",
    "print(\"Precision:\", precision_score( y_train, cbbb.predict(x_train))) \n",
    "print(\"KS score:\" , ks_stat(         y_train, cbbb.decision_function(x_train) ))\n",
    "print(\"AUC score:\", roc_auc_score(   y_train, cbbb.predict(x_train)))"
   ]
  },
  {
   "cell_type": "code",
   "execution_count": null,
   "metadata": {},
   "outputs": [
    {
     "name": "stdout",
     "output_type": "stream",
     "text": [
      "Accuracy: 0.8529743725932811\n",
      "F1 score: 0.48265389557294713\n",
      "Recall: 0.9763705103969754\n",
      "Precision: 0.3205585725368503\n",
      "CPU times: user 1.89 s, sys: 114 ms, total: 2 s\n",
      "Wall time: 63.1 ms\n"
     ]
    }
   ],
   "source": [
    "%%time\n",
    "from sklearn.metrics import accuracy_score, f1_score, recall_score, precision_score\n",
    "print(\"Accuracy:\" ,accuracy_score(  y_test, cbbb.predict(x_test))) \n",
    "print(\"F1 score:\" ,f1_score(        y_test, cbbb.predict(x_test))) \n",
    "print(\"Recall:\"   ,recall_score(    y_test, cbbb.predict(x_test))) \n",
    "print(\"Precision:\",precision_score( y_test, cbbb.predict(x_test))) \n",
    "print(\"KS score:\" , ks_stat(        y_test, cbbb.decision_function(x_test) ))\n",
    "print(\"AUC score:\", roc_auc_score(  y_test, cbbb.predict(x_test)))"
   ]
  },
  {
   "cell_type": "code",
   "execution_count": null,
   "metadata": {},
   "outputs": [
    {
     "name": "stdout",
     "output_type": "stream",
     "text": [
      "Accuracy: 0.8564457501369317\n",
      "F1 score: 0.48379588182632055\n",
      "Recall: 0.97264218862491\n",
      "Precision: 0.32197330791229745\n",
      "CPU times: user 1.72 s, sys: 107 ms, total: 1.83 s\n",
      "Wall time: 60.4 ms\n"
     ]
    }
   ],
   "source": [
    "%%time\n",
    "from sklearn.metrics import accuracy_score, f1_score, recall_score, precision_score\n",
    "print(\"Accuracy:\" ,accuracy_score(  y_out, cbbb.predict(x_out))) \n",
    "print(\"F1 score:\" ,f1_score(        y_out, cbbb.predict(x_out))) \n",
    "print(\"Recall:\"   ,recall_score(    y_out, cbbb.predict(x_out))) \n",
    "print(\"Precision:\",precision_score( y_out, cbbb.predict(x_out))) \n",
    "print(\"KS score:\" , ks_stat(        y_out, cbbb.decision_function(x_out)))\n",
    "print(\"AUC score:\", roc_auc_score(  y_out, cbbb.decision_function(x_out)))"
   ]
  },
  {
   "attachments": {},
   "cell_type": "markdown",
   "metadata": {},
   "source": [
    "## Leitura dos dados originais"
   ]
  },
  {
   "cell_type": "code",
   "execution_count": 181,
   "metadata": {},
   "outputs": [
    {
     "name": "stdout",
     "output_type": "stream",
     "text": [
      "CPU times: user 1.02 s, sys: 24.9 ms, total: 1.05 s\n",
      "Wall time: 35.9 ms\n"
     ]
    }
   ],
   "source": [
    "%%time\n",
    "df['proba'] = cbbb.predict_proba(X0)[:,1]"
   ]
  },
  {
   "cell_type": "code",
   "execution_count": 182,
   "metadata": {},
   "outputs": [
    {
     "data": {
      "text/html": [
       "<div>\n",
       "<style scoped>\n",
       "    .dataframe tbody tr th:only-of-type {\n",
       "        vertical-align: middle;\n",
       "    }\n",
       "\n",
       "    .dataframe tbody tr th {\n",
       "        vertical-align: top;\n",
       "    }\n",
       "\n",
       "    .dataframe thead th {\n",
       "        text-align: right;\n",
       "    }\n",
       "</style>\n",
       "<table border=\"1\" class=\"dataframe\">\n",
       "  <thead>\n",
       "    <tr style=\"text-align: right;\">\n",
       "      <th></th>\n",
       "      <th>proba</th>\n",
       "    </tr>\n",
       "    <tr>\n",
       "      <th>SITUACAO</th>\n",
       "      <th></th>\n",
       "    </tr>\n",
       "  </thead>\n",
       "  <tbody>\n",
       "    <tr>\n",
       "      <th>0</th>\n",
       "      <td>116654</td>\n",
       "    </tr>\n",
       "    <tr>\n",
       "      <th>1</th>\n",
       "      <td>8862</td>\n",
       "    </tr>\n",
       "  </tbody>\n",
       "</table>\n",
       "</div>"
      ],
      "text/plain": [
       "           proba\n",
       "SITUACAO        \n",
       "0         116654\n",
       "1           8862"
      ]
     },
     "execution_count": 182,
     "metadata": {},
     "output_type": "execute_result"
    }
   ],
   "source": [
    "df[['SITUACAO','proba']].groupby(['SITUACAO']).count()"
   ]
  },
  {
   "cell_type": "code",
   "execution_count": 183,
   "metadata": {},
   "outputs": [
    {
     "name": "stdout",
     "output_type": "stream",
     "text": [
      "CPU times: user 24.3 ms, sys: 15 µs, total: 24.3 ms\n",
      "Wall time: 22.5 ms\n"
     ]
    },
    {
     "data": {
      "text/html": [
       "<div>\n",
       "<style scoped>\n",
       "    .dataframe tbody tr th:only-of-type {\n",
       "        vertical-align: middle;\n",
       "    }\n",
       "\n",
       "    .dataframe tbody tr th {\n",
       "        vertical-align: top;\n",
       "    }\n",
       "\n",
       "    .dataframe thead tr th {\n",
       "        text-align: left;\n",
       "    }\n",
       "\n",
       "    .dataframe thead tr:last-of-type th {\n",
       "        text-align: right;\n",
       "    }\n",
       "</style>\n",
       "<table border=\"1\" class=\"dataframe\">\n",
       "  <thead>\n",
       "    <tr>\n",
       "      <th></th>\n",
       "      <th colspan=\"8\" halign=\"left\">proba</th>\n",
       "    </tr>\n",
       "    <tr>\n",
       "      <th></th>\n",
       "      <th>count</th>\n",
       "      <th>mean</th>\n",
       "      <th>std</th>\n",
       "      <th>min</th>\n",
       "      <th>25%</th>\n",
       "      <th>50%</th>\n",
       "      <th>75%</th>\n",
       "      <th>max</th>\n",
       "    </tr>\n",
       "    <tr>\n",
       "      <th>SITUACAO</th>\n",
       "      <th></th>\n",
       "      <th></th>\n",
       "      <th></th>\n",
       "      <th></th>\n",
       "      <th></th>\n",
       "      <th></th>\n",
       "      <th></th>\n",
       "      <th></th>\n",
       "    </tr>\n",
       "  </thead>\n",
       "  <tbody>\n",
       "    <tr>\n",
       "      <th>0</th>\n",
       "      <td>116654.0</td>\n",
       "      <td>0.155548</td>\n",
       "      <td>0.298783</td>\n",
       "      <td>0.001258</td>\n",
       "      <td>0.005333</td>\n",
       "      <td>0.010202</td>\n",
       "      <td>0.077631</td>\n",
       "      <td>0.966269</td>\n",
       "    </tr>\n",
       "    <tr>\n",
       "      <th>1</th>\n",
       "      <td>8862.0</td>\n",
       "      <td>0.867053</td>\n",
       "      <td>0.122412</td>\n",
       "      <td>0.002886</td>\n",
       "      <td>0.866077</td>\n",
       "      <td>0.898643</td>\n",
       "      <td>0.920186</td>\n",
       "      <td>0.968509</td>\n",
       "    </tr>\n",
       "  </tbody>\n",
       "</table>\n",
       "</div>"
      ],
      "text/plain": [
       "             proba                                                    \\\n",
       "             count      mean       std       min       25%       50%   \n",
       "SITUACAO                                                               \n",
       "0         116654.0  0.155548  0.298783  0.001258  0.005333  0.010202   \n",
       "1           8862.0  0.867053  0.122412  0.002886  0.866077  0.898643   \n",
       "\n",
       "                              \n",
       "               75%       max  \n",
       "SITUACAO                      \n",
       "0         0.077631  0.966269  \n",
       "1         0.920186  0.968509  "
      ]
     },
     "execution_count": 183,
     "metadata": {},
     "output_type": "execute_result"
    }
   ],
   "source": [
    "%%time\n",
    "df[['SITUACAO','proba']].groupby(['SITUACAO']).describe()"
   ]
  },
  {
   "cell_type": "code",
   "execution_count": 207,
   "metadata": {},
   "outputs": [
    {
     "name": "stdout",
     "output_type": "stream",
     "text": [
      "CPU times: user 2.55 ms, sys: 4.13 ms, total: 6.68 ms\n",
      "Wall time: 4.9 ms\n"
     ]
    }
   ],
   "source": [
    "%%time\n",
    "df.loc[ df['proba']>=0.75 ,'PRED'] = 1\n",
    "df.loc[ df['proba'] <0.75 ,'PRED'] = 0"
   ]
  },
  {
   "attachments": {},
   "cell_type": "markdown",
   "metadata": {},
   "source": [
    "<a name=\"metricas\"></a>\n",
    "\n",
    "\n",
    "# 3) Métricas\n",
    "  \n",
    "- ir para [Menu Principal](#navegacao)\n",
    "\n",
    "<a name=\"amostra\"></a>\n",
    "\n",
    "\n",
    "## 3.1) Métricas na Amostra\n",
    "  \n",
    "- ir para [Menu Principal](#navegacao)"
   ]
  },
  {
   "cell_type": "code",
   "execution_count": 208,
   "metadata": {},
   "outputs": [
    {
     "name": "stdout",
     "output_type": "stream",
     "text": [
      "Confusion matrix for test:\n",
      "[[101582  15072]\n",
      " [   571   8291]]\n"
     ]
    }
   ],
   "source": [
    "from sklearn.metrics import confusion_matrix\n",
    "confusao_pop = confusion_matrix(df['SITUACAO'], df['PRED'])\n",
    "print(\"Confusion matrix for test:\\n%s\" % confusao_pop )"
   ]
  },
  {
   "cell_type": "code",
   "execution_count": 209,
   "metadata": {},
   "outputs": [
    {
     "name": "stdout",
     "output_type": "stream",
     "text": [
      "Accuracy: 0.8753704706969629\n",
      "F1 score: 0.5145694336695112\n",
      "Recall: 0.9355675919656963\n",
      "Precision: 0.3548773702007448\n",
      "CPU times: user 175 ms, sys: 18 µs, total: 175 ms\n",
      "Wall time: 171 ms\n"
     ]
    }
   ],
   "source": [
    "%%time\n",
    "from sklearn.metrics import accuracy_score, f1_score, recall_score, precision_score\n",
    "\n",
    "print(\"Accuracy:\" , accuracy_score(df['SITUACAO'], df['PRED'])) \n",
    "print(\"F1 score:\" , f1_score(df['SITUACAO'], df['PRED'])) \n",
    "print(\"Recall:\"   , recall_score(df['SITUACAO'], df['PRED'])) \n",
    "print(\"Precision:\", precision_score(df['SITUACAO'], df['PRED'])) "
   ]
  },
  {
   "attachments": {},
   "cell_type": "markdown",
   "metadata": {},
   "source": [
    "<a name=\"falsopos\"></a>\n",
    "\n",
    "## 3.2) Taxa de Falso Positivo\n",
    "  \n",
    "- ir para [Menu Principal](#navegacao)"
   ]
  },
  {
   "cell_type": "code",
   "execution_count": 210,
   "metadata": {},
   "outputs": [
    {
     "name": "stdout",
     "output_type": "stream",
     "text": [
      "FPR: 0.12920259913933513\n",
      "TPR: 0.9355675919656963\n",
      "CPU times: user 138 µs, sys: 7 µs, total: 145 µs\n",
      "Wall time: 152 µs\n"
     ]
    }
   ],
   "source": [
    "%%time\n",
    "tn, fp, fn, tp = confusao_pop.ravel()\n",
    "print('FPR:', fp/(fp + tn))\n",
    "print('TPR:', tp/(tp + fn))"
   ]
  },
  {
   "cell_type": "code",
   "execution_count": null,
   "metadata": {},
   "outputs": [],
   "source": []
  },
  {
   "cell_type": "code",
   "execution_count": null,
   "metadata": {},
   "outputs": [],
   "source": []
  }
 ],
 "metadata": {
  "kernelspec": {
   "display_name": "Python 3 (ipykernel)",
   "language": "python",
   "name": "python3"
  },
  "language_info": {
   "codemirror_mode": {
    "name": "ipython",
    "version": 3
   },
   "file_extension": ".py",
   "mimetype": "text/x-python",
   "name": "python",
   "nbconvert_exporter": "python",
   "pygments_lexer": "ipython3",
   "version": "3.11.2"
  },
  "vscode": {
   "interpreter": {
    "hash": "417b098a34c1d15f54821650e8824b8f9a13757cdf07902482f1dffeb55d10e4"
   }
  }
 },
 "nbformat": 4,
 "nbformat_minor": 4
}
