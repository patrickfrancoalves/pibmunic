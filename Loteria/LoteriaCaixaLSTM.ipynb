{
 "cells": [
  {
   "cell_type": "code",
   "execution_count": 1,
   "metadata": {},
   "outputs": [
    {
     "name": "stdout",
     "output_type": "stream",
     "text": [
      "CPU times: total: 11.5 s\n",
      "Wall time: 13.7 s\n"
     ]
    }
   ],
   "source": [
    "%%time\n",
    "import os\n",
    "import sys\n",
    "import math\n",
    "from math import sqrt\n",
    "import pandas as pd\n",
    "from pandas import read_csv\n",
    "from pandas import DataFrame\n",
    "from pandas import concat\n",
    "import numpy as np\n",
    "from numpy import concatenate\n",
    "import matplotlib.pyplot as plt\n",
    "import seaborn as sns\n",
    "from sklearn.preprocessing import StandardScaler, MinMaxScaler\n",
    "from sklearn.preprocessing import LabelEncoder\n",
    "from sklearn.metrics import mean_squared_error\n",
    "from keras.models import Sequential\n",
    "from keras.layers import Dense\n",
    "from keras.layers import LSTM"
   ]
  },
  {
   "cell_type": "code",
   "execution_count": 2,
   "metadata": {},
   "outputs": [
    {
     "name": "stdout",
     "output_type": "stream",
     "text": [
      "CPU times: total: 1.45 s\n",
      "Wall time: 1.68 s\n"
     ]
    }
   ],
   "source": [
    "%%time\n",
    "quina = pd.read_excel(\"HIST_SORTEIOS_QUINA.xlsx\")"
   ]
  },
  {
   "cell_type": "code",
   "execution_count": 3,
   "metadata": {},
   "outputs": [],
   "source": [
    "quina2 = quina[(quina['Data Sorteio']>='2013-01-01') ]"
   ]
  },
  {
   "cell_type": "code",
   "execution_count": 4,
   "metadata": {},
   "outputs": [
    {
     "data": {
      "text/html": [
       "<div>\n",
       "<style scoped>\n",
       "    .dataframe tbody tr th:only-of-type {\n",
       "        vertical-align: middle;\n",
       "    }\n",
       "\n",
       "    .dataframe tbody tr th {\n",
       "        vertical-align: top;\n",
       "    }\n",
       "\n",
       "    .dataframe thead th {\n",
       "        text-align: right;\n",
       "    }\n",
       "</style>\n",
       "<table border=\"1\" class=\"dataframe\">\n",
       "  <thead>\n",
       "    <tr style=\"text-align: right;\">\n",
       "      <th></th>\n",
       "      <th>Concurso</th>\n",
       "      <th>Data Sorteio</th>\n",
       "      <th>1ª Dezena</th>\n",
       "      <th>2ª Dezena</th>\n",
       "      <th>3ª Dezena</th>\n",
       "      <th>4ª Dezena</th>\n",
       "      <th>5ª Dezena</th>\n",
       "    </tr>\n",
       "  </thead>\n",
       "  <tbody>\n",
       "    <tr>\n",
       "      <th>3083</th>\n",
       "      <td>3084</td>\n",
       "      <td>2013-01-02</td>\n",
       "      <td>17</td>\n",
       "      <td>28</td>\n",
       "      <td>30</td>\n",
       "      <td>31</td>\n",
       "      <td>47</td>\n",
       "    </tr>\n",
       "    <tr>\n",
       "      <th>3084</th>\n",
       "      <td>3085</td>\n",
       "      <td>2013-01-03</td>\n",
       "      <td>12</td>\n",
       "      <td>28</td>\n",
       "      <td>30</td>\n",
       "      <td>36</td>\n",
       "      <td>39</td>\n",
       "    </tr>\n",
       "    <tr>\n",
       "      <th>3085</th>\n",
       "      <td>3086</td>\n",
       "      <td>2013-01-04</td>\n",
       "      <td>12</td>\n",
       "      <td>14</td>\n",
       "      <td>27</td>\n",
       "      <td>53</td>\n",
       "      <td>74</td>\n",
       "    </tr>\n",
       "    <tr>\n",
       "      <th>3086</th>\n",
       "      <td>3087</td>\n",
       "      <td>2013-01-05</td>\n",
       "      <td>15</td>\n",
       "      <td>16</td>\n",
       "      <td>41</td>\n",
       "      <td>46</td>\n",
       "      <td>47</td>\n",
       "    </tr>\n",
       "    <tr>\n",
       "      <th>3087</th>\n",
       "      <td>3088</td>\n",
       "      <td>2013-01-07</td>\n",
       "      <td>38</td>\n",
       "      <td>42</td>\n",
       "      <td>47</td>\n",
       "      <td>64</td>\n",
       "      <td>66</td>\n",
       "    </tr>\n",
       "  </tbody>\n",
       "</table>\n",
       "</div>"
      ],
      "text/plain": [
       "      Concurso Data Sorteio  1ª Dezena  2ª Dezena  3ª Dezena  4ª Dezena  \\\n",
       "3083      3084   2013-01-02         17         28         30         31   \n",
       "3084      3085   2013-01-03         12         28         30         36   \n",
       "3085      3086   2013-01-04         12         14         27         53   \n",
       "3086      3087   2013-01-05         15         16         41         46   \n",
       "3087      3088   2013-01-07         38         42         47         64   \n",
       "\n",
       "      5ª Dezena  \n",
       "3083         47  \n",
       "3084         39  \n",
       "3085         74  \n",
       "3086         47  \n",
       "3087         66  "
      ]
     },
     "execution_count": 4,
     "metadata": {},
     "output_type": "execute_result"
    }
   ],
   "source": [
    "quina2.head()"
   ]
  },
  {
   "cell_type": "code",
   "execution_count": 5,
   "metadata": {},
   "outputs": [
    {
     "data": {
      "text/plain": [
       "Concurso                 int64\n",
       "Data Sorteio    datetime64[ns]\n",
       "1ª Dezena                int64\n",
       "2ª Dezena                int64\n",
       "3ª Dezena                int64\n",
       "4ª Dezena                int64\n",
       "5ª Dezena                int64\n",
       "dtype: object"
      ]
     },
     "execution_count": 5,
     "metadata": {},
     "output_type": "execute_result"
    }
   ],
   "source": [
    "quina2.dtypes"
   ]
  },
  {
   "cell_type": "code",
   "execution_count": 6,
   "metadata": {},
   "outputs": [
    {
     "data": {
      "text/plain": [
       "(3088, 7)"
      ]
     },
     "execution_count": 6,
     "metadata": {},
     "output_type": "execute_result"
    }
   ],
   "source": [
    "quina2.shape"
   ]
  },
  {
   "cell_type": "code",
   "execution_count": 22,
   "metadata": {},
   "outputs": [],
   "source": [
    "# Colocar os valores em ordem crescente em cada linha\n",
    "# A ideia é ter uma série dos menores valores, dos seguindos menores valores, e etc ...\n",
    "a = quina2[['1ª Dezena','2ª Dezena','3ª Dezena','4ª Dezena','5ª Dezena']].values"
   ]
  },
  {
   "cell_type": "code",
   "execution_count": 23,
   "metadata": {},
   "outputs": [],
   "source": [
    "a.sort(axis=1)  # no ascending argument"
   ]
  },
  {
   "cell_type": "code",
   "execution_count": 24,
   "metadata": {},
   "outputs": [],
   "source": [
    "df = pd.DataFrame(a, quina2.index, ['1ª Dezena','2ª Dezena','3ª Dezena','4ª Dezena','5ª Dezena'])"
   ]
  },
  {
   "cell_type": "code",
   "execution_count": 25,
   "metadata": {},
   "outputs": [
    {
     "data": {
      "text/html": [
       "<div>\n",
       "<style scoped>\n",
       "    .dataframe tbody tr th:only-of-type {\n",
       "        vertical-align: middle;\n",
       "    }\n",
       "\n",
       "    .dataframe tbody tr th {\n",
       "        vertical-align: top;\n",
       "    }\n",
       "\n",
       "    .dataframe thead th {\n",
       "        text-align: right;\n",
       "    }\n",
       "</style>\n",
       "<table border=\"1\" class=\"dataframe\">\n",
       "  <thead>\n",
       "    <tr style=\"text-align: right;\">\n",
       "      <th></th>\n",
       "      <th>1ª Dezena</th>\n",
       "      <th>2ª Dezena</th>\n",
       "      <th>3ª Dezena</th>\n",
       "      <th>4ª Dezena</th>\n",
       "      <th>5ª Dezena</th>\n",
       "    </tr>\n",
       "  </thead>\n",
       "  <tbody>\n",
       "    <tr>\n",
       "      <th>3083</th>\n",
       "      <td>17</td>\n",
       "      <td>28</td>\n",
       "      <td>30</td>\n",
       "      <td>31</td>\n",
       "      <td>47</td>\n",
       "    </tr>\n",
       "    <tr>\n",
       "      <th>3084</th>\n",
       "      <td>12</td>\n",
       "      <td>28</td>\n",
       "      <td>30</td>\n",
       "      <td>36</td>\n",
       "      <td>39</td>\n",
       "    </tr>\n",
       "    <tr>\n",
       "      <th>3085</th>\n",
       "      <td>12</td>\n",
       "      <td>14</td>\n",
       "      <td>27</td>\n",
       "      <td>53</td>\n",
       "      <td>74</td>\n",
       "    </tr>\n",
       "    <tr>\n",
       "      <th>3086</th>\n",
       "      <td>15</td>\n",
       "      <td>16</td>\n",
       "      <td>41</td>\n",
       "      <td>46</td>\n",
       "      <td>47</td>\n",
       "    </tr>\n",
       "    <tr>\n",
       "      <th>3087</th>\n",
       "      <td>38</td>\n",
       "      <td>42</td>\n",
       "      <td>47</td>\n",
       "      <td>64</td>\n",
       "      <td>66</td>\n",
       "    </tr>\n",
       "  </tbody>\n",
       "</table>\n",
       "</div>"
      ],
      "text/plain": [
       "      1ª Dezena  2ª Dezena  3ª Dezena  4ª Dezena  5ª Dezena\n",
       "3083         17         28         30         31         47\n",
       "3084         12         28         30         36         39\n",
       "3085         12         14         27         53         74\n",
       "3086         15         16         41         46         47\n",
       "3087         38         42         47         64         66"
      ]
     },
     "execution_count": 25,
     "metadata": {},
     "output_type": "execute_result"
    }
   ],
   "source": [
    "df.head()"
   ]
  },
  {
   "cell_type": "code",
   "execution_count": 26,
   "metadata": {},
   "outputs": [],
   "source": [
    "df.reset_index(inplace=True)\n",
    "df.rename(columns={'index':'Concurso'},inplace=True)\n",
    "df2 = quina2[['Concurso','Data Sorteio']].merge(df, on='Concurso')"
   ]
  },
  {
   "cell_type": "code",
   "execution_count": 27,
   "metadata": {},
   "outputs": [],
   "source": [
    "# convert series to supervised learning\n",
    "def series_to_supervised(data, n_in=1, n_out=1, dropnan=True):\n",
    "    n_vars = 1 if type(data) is list else data.shape[1]\n",
    "    df = DataFrame(data)\n",
    "    cols, names = list(), list()\n",
    "    # input sequence (t-n, ... t-1)\n",
    "    for i in range(n_in, 0, -1):\n",
    "         cols.append(df.shift(i))\n",
    "         names += [('var%d(t-%d)' % (j+1, i)) for j in range(n_vars)]\n",
    "    # forecast sequence (t, t+1, ... t+n)\n",
    "    for i in range(0, n_out):\n",
    "        cols.append(df.shift(-i))\n",
    "        if i == 0:\n",
    "            names += [('var%d(t)' % (j+1)) for j in range(n_vars)]\n",
    "        else:\n",
    "            names += [('var%d(t+%d)' % (j+1, i)) for j in range(n_vars)]\n",
    "    # put it all together\n",
    "    agg = concat(cols, axis=1)\n",
    "    agg.columns = names\n",
    "    # drop rows with NaN values\n",
    "    if dropnan:\n",
    "        agg.dropna(inplace=True)\n",
    "    return agg"
   ]
  },
  {
   "cell_type": "code",
   "execution_count": 37,
   "metadata": {},
   "outputs": [],
   "source": [
    "values = values.reshape(-1,5)"
   ]
  },
  {
   "cell_type": "code",
   "execution_count": 38,
   "metadata": {},
   "outputs": [
    {
     "data": {
      "text/plain": [
       "array([[16., 27., 29., 30., 46.],\n",
       "       [11., 27., 29., 35., 38.],\n",
       "       [11., 13., 26., 52., 73.],\n",
       "       ...,\n",
       "       [ 0., 19., 30., 45., 57.],\n",
       "       [31., 49., 55., 64., 69.],\n",
       "       [18., 32., 51., 60., 77.]], dtype=float32)"
      ]
     },
     "execution_count": 38,
     "metadata": {},
     "output_type": "execute_result"
    }
   ],
   "source": [
    "values"
   ]
  },
  {
   "cell_type": "code",
   "execution_count": 39,
   "metadata": {},
   "outputs": [],
   "source": [
    "# integer encode direction\n",
    "encoder = LabelEncoder()\n",
    "values[:,4] = encoder.fit_transform(values[:,4])"
   ]
  },
  {
   "cell_type": "code",
   "execution_count": 48,
   "metadata": {},
   "outputs": [
    {
     "name": "stdout",
     "output_type": "stream",
     "text": [
      "   var1(t-2)  var2(t-2)  var3(t-2)  var4(t-2)  var5(t-2)  var6(t-2)  \\\n",
      "2   1.269841   1.830986   1.805556   1.619718   2.053571   0.873016   \n",
      "3   0.873016   1.830986   1.805556   1.971831   1.339286   0.873016   \n",
      "4   0.873016   0.845070   1.597222   3.169014   4.464286   1.111111   \n",
      "5   1.111111   0.985916   2.569445   2.676056   2.053571   2.936508   \n",
      "6   2.936508   2.816901   2.986111   3.943661   3.750000   0.238095   \n",
      "\n",
      "   var7(t-2)  var8(t-2)  var9(t-2)  var10(t-2)  ...   var6(t)   var7(t)  \\\n",
      "2   1.830986   1.805556   1.971831    1.339286  ...  1.111111  0.985916   \n",
      "3   0.845070   1.597222   3.169014    4.464286  ...  2.936508  2.816901   \n",
      "4   0.985916   2.569445   2.676056    2.053571  ...  0.238095  1.478873   \n",
      "5   2.816901   2.986111   3.943661    3.750000  ...  0.158730  0.704225   \n",
      "6   1.478873   1.666667   2.183098    4.910715  ...  1.031746  1.760563   \n",
      "\n",
      "    var8(t)   var9(t)  var10(t)  var11(t)  var12(t)  var13(t)  var14(t)  \\\n",
      "2  2.569445  2.676056  2.053571  2.936508  2.816901  2.986111  3.943661   \n",
      "3  2.986111  3.943661  3.750000  0.238095  1.478873  1.666667  2.183098   \n",
      "4  1.666667  2.183098  4.910715  0.158730  0.704225  3.472223  3.802817   \n",
      "5  3.472223  3.802817  3.839286  1.031746  1.760563  2.708333  3.591549   \n",
      "6  2.708333  3.591549  3.750000  0.793651  1.478873  1.666667  1.901408   \n",
      "\n",
      "   var15(t)  \n",
      "2  3.750000  \n",
      "3  4.910715  \n",
      "4  3.839286  \n",
      "5  3.750000  \n",
      "6  1.160714  \n",
      "\n",
      "[5 rows x 45 columns]\n"
     ]
    }
   ],
   "source": [
    "# ensure all data is float\n",
    "values = values.astype('float32')\n",
    "# normalize features\n",
    "scaler = MinMaxScaler(feature_range=(0, 5))\n",
    "scaled = scaler.fit_transform(values)\n",
    "\n",
    "n_hours = 3\n",
    "n_features = 10\n",
    "\n",
    "# frame as supervised learning\n",
    "reframed = series_to_supervised(scaled, 2, 1)\n",
    "\n",
    "# drop columns we don't want to predict\n",
    "#reframed.drop(reframed.columns[[9,10,11,12,13,14,15]], axis=1, inplace=True)\n",
    "print(reframed.head())"
   ]
  },
  {
   "cell_type": "code",
   "execution_count": 49,
   "metadata": {},
   "outputs": [
    {
     "name": "stdout",
     "output_type": "stream",
     "text": [
      "(3084, 45)\n"
     ]
    }
   ],
   "source": [
    "print(reframed.shape)"
   ]
  },
  {
   "cell_type": "code",
   "execution_count": 50,
   "metadata": {},
   "outputs": [
    {
     "name": "stdout",
     "output_type": "stream",
     "text": [
      "(2000, 30) 2000 (2000,)\n",
      "(2000, 3, 10) (2000,) (1084, 3, 10) (1084,)\n"
     ]
    }
   ],
   "source": [
    "# split into train and test sets\n",
    "values = reframed.values\n",
    "n_train_hours = 2000\n",
    "train = values[:n_train_hours, :]\n",
    "test = values[n_train_hours:, :]\n",
    "# split into input and outputs\n",
    "n_obs = n_hours * n_features\n",
    "train_X, train_y = train[:, :n_obs], train[:, -n_features]\n",
    "test_X, test_y = test[:, :n_obs], test[:, -n_features]\n",
    "print(train_X.shape, len(train_X), train_y.shape)\n",
    "# reshape input to be 3D [samples, timesteps, features]\n",
    "train_X = train_X.reshape((train_X.shape[0], n_hours, n_features))\n",
    "test_X = test_X.reshape((test_X.shape[0], n_hours, n_features))\n",
    "print(train_X.shape, train_y.shape, test_X.shape, test_y.shape)"
   ]
  },
  {
   "cell_type": "code",
   "execution_count": 51,
   "metadata": {},
   "outputs": [
    {
     "name": "stdout",
     "output_type": "stream",
     "text": [
      "Epoch 1/50\n",
      "28/28 - 3s - loss: 0.6413 - val_loss: 0.5592 - 3s/epoch - 112ms/step\n",
      "Epoch 2/50\n",
      "28/28 - 0s - loss: 0.5240 - val_loss: 0.4514 - 155ms/epoch - 6ms/step\n",
      "Epoch 3/50\n",
      "28/28 - 0s - loss: 0.3927 - val_loss: 0.3256 - 153ms/epoch - 5ms/step\n",
      "Epoch 4/50\n",
      "28/28 - 0s - loss: 0.2694 - val_loss: 0.2215 - 146ms/epoch - 5ms/step\n",
      "Epoch 5/50\n",
      "28/28 - 0s - loss: 0.1646 - val_loss: 0.1240 - 141ms/epoch - 5ms/step\n",
      "Epoch 6/50\n",
      "28/28 - 0s - loss: 0.0871 - val_loss: 0.0543 - 136ms/epoch - 5ms/step\n",
      "Epoch 7/50\n",
      "28/28 - 0s - loss: 0.0447 - val_loss: 0.0616 - 133ms/epoch - 5ms/step\n",
      "Epoch 8/50\n",
      "28/28 - 0s - loss: 0.0360 - val_loss: 0.0457 - 131ms/epoch - 5ms/step\n",
      "Epoch 9/50\n",
      "28/28 - 0s - loss: 0.0315 - val_loss: 0.0450 - 128ms/epoch - 5ms/step\n",
      "Epoch 10/50\n",
      "28/28 - 0s - loss: 0.0286 - val_loss: 0.0387 - 139ms/epoch - 5ms/step\n",
      "Epoch 11/50\n",
      "28/28 - 0s - loss: 0.0260 - val_loss: 0.0252 - 140ms/epoch - 5ms/step\n",
      "Epoch 12/50\n",
      "28/28 - 0s - loss: 0.0263 - val_loss: 0.0249 - 140ms/epoch - 5ms/step\n",
      "Epoch 13/50\n",
      "28/28 - 0s - loss: 0.0239 - val_loss: 0.0271 - 140ms/epoch - 5ms/step\n",
      "Epoch 14/50\n",
      "28/28 - 0s - loss: 0.0221 - val_loss: 0.0236 - 158ms/epoch - 6ms/step\n",
      "Epoch 15/50\n",
      "28/28 - 0s - loss: 0.0266 - val_loss: 0.0299 - 147ms/epoch - 5ms/step\n",
      "Epoch 16/50\n",
      "28/28 - 0s - loss: 0.0219 - val_loss: 0.0190 - 137ms/epoch - 5ms/step\n",
      "Epoch 17/50\n",
      "28/28 - 0s - loss: 0.0201 - val_loss: 0.0192 - 137ms/epoch - 5ms/step\n",
      "Epoch 18/50\n",
      "28/28 - 0s - loss: 0.0211 - val_loss: 0.0218 - 153ms/epoch - 5ms/step\n",
      "Epoch 19/50\n",
      "28/28 - 0s - loss: 0.0197 - val_loss: 0.0184 - 142ms/epoch - 5ms/step\n",
      "Epoch 20/50\n",
      "28/28 - 0s - loss: 0.0192 - val_loss: 0.0181 - 151ms/epoch - 5ms/step\n",
      "Epoch 21/50\n",
      "28/28 - 0s - loss: 0.0180 - val_loss: 0.0257 - 337ms/epoch - 12ms/step\n",
      "Epoch 22/50\n",
      "28/28 - 0s - loss: 0.0226 - val_loss: 0.0164 - 187ms/epoch - 7ms/step\n",
      "Epoch 23/50\n",
      "28/28 - 0s - loss: 0.0160 - val_loss: 0.0158 - 163ms/epoch - 6ms/step\n",
      "Epoch 24/50\n",
      "28/28 - 0s - loss: 0.0199 - val_loss: 0.0270 - 169ms/epoch - 6ms/step\n",
      "Epoch 25/50\n",
      "28/28 - 0s - loss: 0.0172 - val_loss: 0.0151 - 164ms/epoch - 6ms/step\n",
      "Epoch 26/50\n",
      "28/28 - 0s - loss: 0.0200 - val_loss: 0.0150 - 130ms/epoch - 5ms/step\n",
      "Epoch 27/50\n",
      "28/28 - 0s - loss: 0.0155 - val_loss: 0.0157 - 140ms/epoch - 5ms/step\n",
      "Epoch 28/50\n",
      "28/28 - 0s - loss: 0.0154 - val_loss: 0.0172 - 150ms/epoch - 5ms/step\n",
      "Epoch 29/50\n",
      "28/28 - 0s - loss: 0.0205 - val_loss: 0.0208 - 138ms/epoch - 5ms/step\n",
      "Epoch 30/50\n",
      "28/28 - 0s - loss: 0.0163 - val_loss: 0.0136 - 139ms/epoch - 5ms/step\n",
      "Epoch 31/50\n",
      "28/28 - 0s - loss: 0.0140 - val_loss: 0.0140 - 169ms/epoch - 6ms/step\n",
      "Epoch 32/50\n",
      "28/28 - 0s - loss: 0.0132 - val_loss: 0.0137 - 199ms/epoch - 7ms/step\n",
      "Epoch 33/50\n",
      "28/28 - 0s - loss: 0.0155 - val_loss: 0.0133 - 168ms/epoch - 6ms/step\n",
      "Epoch 34/50\n",
      "28/28 - 0s - loss: 0.0179 - val_loss: 0.0188 - 141ms/epoch - 5ms/step\n",
      "Epoch 35/50\n",
      "28/28 - 0s - loss: 0.0150 - val_loss: 0.0156 - 154ms/epoch - 5ms/step\n",
      "Epoch 36/50\n",
      "28/28 - 0s - loss: 0.0137 - val_loss: 0.0170 - 149ms/epoch - 5ms/step\n",
      "Epoch 37/50\n",
      "28/28 - 0s - loss: 0.0157 - val_loss: 0.0143 - 147ms/epoch - 5ms/step\n",
      "Epoch 38/50\n",
      "28/28 - 0s - loss: 0.0184 - val_loss: 0.0143 - 138ms/epoch - 5ms/step\n",
      "Epoch 39/50\n",
      "28/28 - 0s - loss: 0.0142 - val_loss: 0.0134 - 135ms/epoch - 5ms/step\n",
      "Epoch 40/50\n",
      "28/28 - 0s - loss: 0.0138 - val_loss: 0.0211 - 131ms/epoch - 5ms/step\n",
      "Epoch 41/50\n",
      "28/28 - 0s - loss: 0.0140 - val_loss: 0.0136 - 160ms/epoch - 6ms/step\n",
      "Epoch 42/50\n",
      "28/28 - 0s - loss: 0.0147 - val_loss: 0.0122 - 131ms/epoch - 5ms/step\n",
      "Epoch 43/50\n",
      "28/28 - 0s - loss: 0.0149 - val_loss: 0.0188 - 145ms/epoch - 5ms/step\n",
      "Epoch 44/50\n",
      "28/28 - 0s - loss: 0.0158 - val_loss: 0.0120 - 141ms/epoch - 5ms/step\n",
      "Epoch 45/50\n",
      "28/28 - 0s - loss: 0.0133 - val_loss: 0.0118 - 153ms/epoch - 5ms/step\n",
      "Epoch 46/50\n",
      "28/28 - 0s - loss: 0.0115 - val_loss: 0.0122 - 144ms/epoch - 5ms/step\n",
      "Epoch 47/50\n",
      "28/28 - 0s - loss: 0.0107 - val_loss: 0.0106 - 134ms/epoch - 5ms/step\n",
      "Epoch 48/50\n",
      "28/28 - 0s - loss: 0.0132 - val_loss: 0.0112 - 211ms/epoch - 8ms/step\n",
      "Epoch 49/50\n",
      "28/28 - 0s - loss: 0.0137 - val_loss: 0.0216 - 137ms/epoch - 5ms/step\n",
      "Epoch 50/50\n",
      "28/28 - 0s - loss: 0.0190 - val_loss: 0.0221 - 129ms/epoch - 5ms/step\n"
     ]
    }
   ],
   "source": [
    "# design network\n",
    "model = Sequential()\n",
    "model.add(LSTM(50, input_shape=(train_X.shape[1], train_X.shape[2])))\n",
    "model.add(Dense(1))\n",
    "model.compile(loss='mae', optimizer='adam')\n",
    "# fit network\n",
    "history = model.fit(train_X, train_y, epochs=50, batch_size=72, validation_data=(test_X, test_y), verbose=2, shuffle=False)"
   ]
  },
  {
   "cell_type": "code",
   "execution_count": 52,
   "metadata": {},
   "outputs": [
    {
     "data": {
      "image/png": "[encoded data removed]",
      "text/plain": [
       "<Figure size 640x480 with 1 Axes>"
      ]
     },
     "metadata": {},
     "output_type": "display_data"
    }
   ],
   "source": [
    "# plot history\n",
    "plt.plot(history.history['loss'], label='train')\n",
    "plt.plot(history.history['val_loss'], label='test')\n",
    "plt.legend()\n",
    "plt.show()"
   ]
  },
  {
   "cell_type": "code",
   "execution_count": 53,
   "metadata": {},
   "outputs": [
    {
     "name": "stdout",
     "output_type": "stream",
     "text": [
      "34/34 [==============================] - 0s 1ms/step\n"
     ]
    }
   ],
   "source": [
    "# make a prediction\n",
    "yhat = model.predict(test_X)"
   ]
  },
  {
   "cell_type": "code",
   "execution_count": 54,
   "metadata": {},
   "outputs": [],
   "source": [
    "test_X = test_X.reshape((test_X.shape[0], n_hours*n_features))"
   ]
  },
  {
   "cell_type": "code",
   "execution_count": 55,
   "metadata": {},
   "outputs": [],
   "source": [
    "# invert scaling for forecast\n",
    "inv_yhat = concatenate((yhat, test_X[:, -10:]), axis=1)"
   ]
  },
  {
   "cell_type": "code",
   "execution_count": 56,
   "metadata": {},
   "outputs": [
    {
     "data": {
      "text/plain": [
       "(1084, 11)"
      ]
     },
     "execution_count": 56,
     "metadata": {},
     "output_type": "execute_result"
    }
   ],
   "source": [
    "inv_yhat.shape"
   ]
  },
  {
   "cell_type": "code",
   "execution_count": 57,
   "metadata": {},
   "outputs": [
    {
     "ename": "ValueError",
     "evalue": "operands could not be broadcast together with shapes (1084,11) (15,) (1084,11) ",
     "output_type": "error",
     "traceback": [
      "\u001b[1;31m---------------------------------------------------------------------------\u001b[0m",
      "\u001b[1;31mValueError\u001b[0m                                Traceback (most recent call last)",
      "Cell \u001b[1;32mIn[57], line 2\u001b[0m\n\u001b[0;32m      1\u001b[0m \u001b[39m# invert scaling for forecast\u001b[39;00m\n\u001b[1;32m----> 2\u001b[0m inv_yhat \u001b[39m=\u001b[39m scaler\u001b[39m.\u001b[39;49minverse_transform(inv_yhat)\n",
      "File \u001b[1;32mc:\\Users\\patrick.franco\\AppData\\Local\\Programs\\Python\\Python311\\Lib\\site-packages\\sklearn\\preprocessing\\_data.py:541\u001b[0m, in \u001b[0;36mMinMaxScaler.inverse_transform\u001b[1;34m(self, X)\u001b[0m\n\u001b[0;32m    535\u001b[0m check_is_fitted(\u001b[39mself\u001b[39m)\n\u001b[0;32m    537\u001b[0m X \u001b[39m=\u001b[39m check_array(\n\u001b[0;32m    538\u001b[0m     X, copy\u001b[39m=\u001b[39m\u001b[39mself\u001b[39m\u001b[39m.\u001b[39mcopy, dtype\u001b[39m=\u001b[39mFLOAT_DTYPES, force_all_finite\u001b[39m=\u001b[39m\u001b[39m\"\u001b[39m\u001b[39mallow-nan\u001b[39m\u001b[39m\"\u001b[39m\n\u001b[0;32m    539\u001b[0m )\n\u001b[1;32m--> 541\u001b[0m X \u001b[39m-\u001b[39;49m\u001b[39m=\u001b[39;49m \u001b[39mself\u001b[39;49m\u001b[39m.\u001b[39;49mmin_\n\u001b[0;32m    542\u001b[0m X \u001b[39m/\u001b[39m\u001b[39m=\u001b[39m \u001b[39mself\u001b[39m\u001b[39m.\u001b[39mscale_\n\u001b[0;32m    543\u001b[0m \u001b[39mreturn\u001b[39;00m X\n",
      "\u001b[1;31mValueError\u001b[0m: operands could not be broadcast together with shapes (1084,11) (15,) (1084,11) "
     ]
    }
   ],
   "source": [
    "# invert scaling for forecast\n",
    "inv_yhat = scaler.inverse_transform(inv_yhat)"
   ]
  },
  {
   "cell_type": "code",
   "execution_count": null,
   "metadata": {},
   "outputs": [],
   "source": [
    "inv_yhat = scaler.inverse_transform(inv_yhat)\n",
    "inv_yhat = inv_yhat[:,0]\n",
    "# invert scaling for actual\n",
    "test_y = test_y.reshape((len(test_y), 1))\n",
    "inv_y = concatenate((test_y, test_X[:, 1:]), axis=1)\n",
    "inv_y = scaler.inverse_transform(inv_y)\n",
    "inv_y = inv_y[:,0]\n",
    "# calculate RMSE\n",
    "rmse = sqrt(mean_squared_error(inv_y, inv_yhat))\n",
    "print('Test RMSE: %.3f' % rmse)"
   ]
  },
  {
   "cell_type": "code",
   "execution_count": 123,
   "metadata": {},
   "outputs": [
    {
     "name": "stdout",
     "output_type": "stream",
     "text": [
      "(700, 1, 9) (700,) (311, 9) (311,)\n"
     ]
    }
   ],
   "source": [
    "print(train_X.shape, train_y.shape, test_X.shape, test_y.shape )"
   ]
  }
 ],
 "metadata": {
  "kernelspec": {
   "display_name": "Python 3",
   "language": "python",
   "name": "python3"
  },
  "language_info": {
   "codemirror_mode": {
    "name": "ipython",
    "version": 3
   },
   "file_extension": ".py",
   "mimetype": "text/x-python",
   "name": "python",
   "nbconvert_exporter": "python",
   "pygments_lexer": "ipython3",
   "version": "3.11.2"
  },
  "orig_nbformat": 4
 },
 "nbformat": 4,
 "nbformat_minor": 2
}
