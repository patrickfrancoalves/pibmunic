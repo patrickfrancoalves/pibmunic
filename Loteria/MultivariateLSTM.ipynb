{
 "cells": [
  {
   "attachments": {},
   "cell_type": "markdown",
   "metadata": {},
   "source": [
    "## Multivariate Time Series Forecasting using RNN (LSTM)\n",
    "- https://medium.com/mlearning-ai/multivariate-time-series-forecasting-using-rnn-lstm-8d840f3f9aa7"
   ]
  },
  {
   "cell_type": "code",
   "execution_count": 96,
   "metadata": {},
   "outputs": [],
   "source": [
    "# This Python 3 environment comes with many helpful analytics libraries installed\n",
    "# It is defined by the kaggle/python Docker image: https://github.com/kaggle/docker-python\n",
    "# For example, here's several helpful packages to load\n",
    "\n",
    "import pandas as pd\n",
    "import numpy as np\n",
    "import seaborn as sns\n",
    "from sklearn.preprocessing import MinMaxScaler, StandardScaler\n",
    "from sklearn.preprocessing import LabelEncoder\n",
    "from sklearn.metrics import mean_squared_error\n",
    "\n",
    "%matplotlib inline\n",
    "import matplotlib.pyplot as plt\n",
    "import tensorflow as tf\n",
    "from tensorflow.keras.models import Sequential\n",
    "from tensorflow.keras.layers import LSTM\n",
    "from tensorflow.keras.layers import Dense\n",
    "from tensorflow.keras.layers import Bidirectional\n",
    "from tensorflow.keras.layers import Dropout\n",
    "from tensorflow.keras.layers import Flatten"
   ]
  },
  {
   "attachments": {},
   "cell_type": "markdown",
   "metadata": {},
   "source": [
    "#### Timeseries Multivariant Forecasting with LSTM model\n",
    "- Forecasting Load on Temp, Humidity, Wind and Precipitation.\n",
    "- Train a LSTM model using hourly records from 2015 to 2019. \n",
    "- Then predict the future demand for Jan-2020 and Compare with actual data "
   ]
  },
  {
   "cell_type": "code",
   "execution_count": 182,
   "metadata": {},
   "outputs": [],
   "source": [
    "df1 = pd.read_csv('BTC_2022-01-01_2022-03-24_g300.csv')"
   ]
  },
  {
   "cell_type": "code",
   "execution_count": 183,
   "metadata": {},
   "outputs": [
    {
     "name": "stdout",
     "output_type": "stream",
     "text": [
      "Unnamed: 0      int64\n",
      "unix            int64\n",
      "date           object\n",
      "low           float64\n",
      "high          float64\n",
      "open          float64\n",
      "close         float64\n",
      "volume        float64\n",
      "vol_fiat      float64\n",
      "dtype: object\n"
     ]
    }
   ],
   "source": [
    "print(df1.dtypes)"
   ]
  },
  {
   "cell_type": "code",
   "execution_count": 184,
   "metadata": {},
   "outputs": [
    {
     "data": {
      "text/plain": [
       "(23678, 9)"
      ]
     },
     "execution_count": 184,
     "metadata": {},
     "output_type": "execute_result"
    }
   ],
   "source": [
    "df1.shape"
   ]
  },
  {
   "cell_type": "code",
   "execution_count": 185,
   "metadata": {},
   "outputs": [],
   "source": [
    "## Splitting the database\n",
    "df1.rename(columns={'date':'Date','open':'Open','high':'High','low':'Low','close':'Close'},inplace=True)\n",
    "df1.drop(columns=['vol_fiat','volume','Unnamed: 0','unix'],inplace=True,axis=1)"
   ]
  },
  {
   "cell_type": "code",
   "execution_count": 187,
   "metadata": {},
   "outputs": [],
   "source": [
    "## Splitting the database\n",
    "df2       = df1[['Date','Open','High','Low','Close']]\n",
    "df2_date  = df1[['Date']]\n",
    "df2_train = df2.iloc[0:20000,1:]"
   ]
  },
  {
   "cell_type": "code",
   "execution_count": 188,
   "metadata": {},
   "outputs": [
    {
     "data": {
      "text/html": [
       "<div>\n",
       "<style scoped>\n",
       "    .dataframe tbody tr th:only-of-type {\n",
       "        vertical-align: middle;\n",
       "    }\n",
       "\n",
       "    .dataframe tbody tr th {\n",
       "        vertical-align: top;\n",
       "    }\n",
       "\n",
       "    .dataframe thead th {\n",
       "        text-align: right;\n",
       "    }\n",
       "</style>\n",
       "<table border=\"1\" class=\"dataframe\">\n",
       "  <thead>\n",
       "    <tr style=\"text-align: right;\">\n",
       "      <th></th>\n",
       "      <th>Open</th>\n",
       "      <th>High</th>\n",
       "      <th>Low</th>\n",
       "      <th>Close</th>\n",
       "    </tr>\n",
       "  </thead>\n",
       "  <tbody>\n",
       "    <tr>\n",
       "      <th>0</th>\n",
       "      <td>47718.04</td>\n",
       "      <td>47757.99</td>\n",
       "      <td>47665.90</td>\n",
       "      <td>47665.90</td>\n",
       "    </tr>\n",
       "    <tr>\n",
       "      <th>1</th>\n",
       "      <td>47691.42</td>\n",
       "      <td>47808.03</td>\n",
       "      <td>47660.86</td>\n",
       "      <td>47728.93</td>\n",
       "    </tr>\n",
       "    <tr>\n",
       "      <th>2</th>\n",
       "      <td>47556.44</td>\n",
       "      <td>47813.14</td>\n",
       "      <td>47543.19</td>\n",
       "      <td>47708.01</td>\n",
       "    </tr>\n",
       "    <tr>\n",
       "      <th>3</th>\n",
       "      <td>47537.32</td>\n",
       "      <td>47576.06</td>\n",
       "      <td>47511.94</td>\n",
       "      <td>47560.09</td>\n",
       "    </tr>\n",
       "    <tr>\n",
       "      <th>4</th>\n",
       "      <td>47538.02</td>\n",
       "      <td>47568.90</td>\n",
       "      <td>47496.52</td>\n",
       "      <td>47502.79</td>\n",
       "    </tr>\n",
       "  </tbody>\n",
       "</table>\n",
       "</div>"
      ],
      "text/plain": [
       "       Open      High       Low     Close\n",
       "0  47718.04  47757.99  47665.90  47665.90\n",
       "1  47691.42  47808.03  47660.86  47728.93\n",
       "2  47556.44  47813.14  47543.19  47708.01\n",
       "3  47537.32  47576.06  47511.94  47560.09\n",
       "4  47538.02  47568.90  47496.52  47502.79"
      ]
     },
     "execution_count": 188,
     "metadata": {},
     "output_type": "execute_result"
    }
   ],
   "source": [
    "df2_train.head()"
   ]
  },
  {
   "cell_type": "code",
   "execution_count": 189,
   "metadata": {},
   "outputs": [],
   "source": [
    "## Splitting the database\n",
    "df2_test = df2.iloc[20000: , 1:]"
   ]
  },
  {
   "cell_type": "code",
   "execution_count": 190,
   "metadata": {},
   "outputs": [],
   "source": [
    "df2       = df1[['Date','Open','High','Low','Close']]\n",
    "df2_date  = df1[['Date']]"
   ]
  },
  {
   "cell_type": "code",
   "execution_count": 191,
   "metadata": {},
   "outputs": [
    {
     "data": {
      "text/plain": [
       "Date     0\n",
       "Open     0\n",
       "High     0\n",
       "Low      0\n",
       "Close    0\n",
       "dtype: int64"
      ]
     },
     "execution_count": 191,
     "metadata": {},
     "output_type": "execute_result"
    }
   ],
   "source": [
    "df2.isnull().sum()"
   ]
  },
  {
   "cell_type": "code",
   "execution_count": 192,
   "metadata": {},
   "outputs": [
    {
     "name": "stdout",
     "output_type": "stream",
     "text": [
      "treino: (20000, 4) teste: (3678, 4)\n"
     ]
    }
   ],
   "source": [
    "#df['datetime']=pd.to_datetime(df['datetime'])\n",
    "print('treino:',df2_train.shape,'teste:',df2_test.shape)"
   ]
  },
  {
   "cell_type": "code",
   "execution_count": 193,
   "metadata": {},
   "outputs": [
    {
     "data": {
      "text/html": [
       "<div>\n",
       "<style scoped>\n",
       "    .dataframe tbody tr th:only-of-type {\n",
       "        vertical-align: middle;\n",
       "    }\n",
       "\n",
       "    .dataframe tbody tr th {\n",
       "        vertical-align: top;\n",
       "    }\n",
       "\n",
       "    .dataframe thead th {\n",
       "        text-align: right;\n",
       "    }\n",
       "</style>\n",
       "<table border=\"1\" class=\"dataframe\">\n",
       "  <thead>\n",
       "    <tr style=\"text-align: right;\">\n",
       "      <th></th>\n",
       "      <th>index</th>\n",
       "      <th>Open</th>\n",
       "      <th>High</th>\n",
       "      <th>Low</th>\n",
       "      <th>Close</th>\n",
       "    </tr>\n",
       "  </thead>\n",
       "  <tbody>\n",
       "    <tr>\n",
       "      <th>0</th>\n",
       "      <td>20000</td>\n",
       "      <td>38805.02</td>\n",
       "      <td>38822.27</td>\n",
       "      <td>38634.43</td>\n",
       "      <td>38663.37</td>\n",
       "    </tr>\n",
       "    <tr>\n",
       "      <th>1</th>\n",
       "      <td>20001</td>\n",
       "      <td>38805.03</td>\n",
       "      <td>38805.03</td>\n",
       "      <td>38771.27</td>\n",
       "      <td>38787.26</td>\n",
       "    </tr>\n",
       "    <tr>\n",
       "      <th>2</th>\n",
       "      <td>20002</td>\n",
       "      <td>38869.75</td>\n",
       "      <td>38869.75</td>\n",
       "      <td>38827.66</td>\n",
       "      <td>38851.48</td>\n",
       "    </tr>\n",
       "    <tr>\n",
       "      <th>3</th>\n",
       "      <td>20003</td>\n",
       "      <td>38795.04</td>\n",
       "      <td>38869.38</td>\n",
       "      <td>38795.04</td>\n",
       "      <td>38860.03</td>\n",
       "    </tr>\n",
       "    <tr>\n",
       "      <th>4</th>\n",
       "      <td>20004</td>\n",
       "      <td>38838.41</td>\n",
       "      <td>38838.41</td>\n",
       "      <td>38768.17</td>\n",
       "      <td>38783.78</td>\n",
       "    </tr>\n",
       "  </tbody>\n",
       "</table>\n",
       "</div>"
      ],
      "text/plain": [
       "   index      Open      High       Low     Close\n",
       "0  20000  38805.02  38822.27  38634.43  38663.37\n",
       "1  20001  38805.03  38805.03  38771.27  38787.26\n",
       "2  20002  38869.75  38869.75  38827.66  38851.48\n",
       "3  20003  38795.04  38869.38  38795.04  38860.03\n",
       "4  20004  38838.41  38838.41  38768.17  38783.78"
      ]
     },
     "execution_count": 193,
     "metadata": {},
     "output_type": "execute_result"
    }
   ],
   "source": [
    "df2_test.reset_index(inplace=True)\n",
    "df2_test.head()"
   ]
  },
  {
   "cell_type": "code",
   "execution_count": 195,
   "metadata": {},
   "outputs": [
    {
     "name": "stdout",
     "output_type": "stream",
     "text": [
      "Treino X: (20000, 4) Treino y: (20000, 1)\n"
     ]
    }
   ],
   "source": [
    "sc = StandardScaler()\n",
    "df2_train_scaled = sc.fit_transform(df2_train)\n",
    "\n",
    "sc2 = StandardScaler()\n",
    "df2_train_scaled_y = sc2.fit_transform(df2_train[['Open']])\n",
    "\n",
    "print(\"Treino X:\", df2_train_scaled.shape, \"Treino y:\", df2_train_scaled_y.shape)"
   ]
  },
  {
   "attachments": {},
   "cell_type": "markdown",
   "metadata": {},
   "source": [
    "#####  Create an array for the previous values for each column."
   ]
  },
  {
   "cell_type": "code",
   "execution_count": 196,
   "metadata": {},
   "outputs": [],
   "source": [
    "hops = 14\n",
    "no_records = df2_train_scaled.shape[0]\n",
    "ncols = 4\n",
    "X_train = []\n",
    "y_train = []\n",
    "\n",
    "for i in  range(14,no_records):\n",
    "    X_train.append(df2_train_scaled[i-14:i])\n",
    "    y_train.append(df2_train_scaled_y[i][0])\n",
    "\n",
    "X_train , y_train = np.array(X_train,dtype=object) , np.array(y_train,dtype=object)"
   ]
  },
  {
   "cell_type": "code",
   "execution_count": 197,
   "metadata": {},
   "outputs": [],
   "source": [
    "X_train = np.asarray(X_train).astype(np.float32)\n",
    "y_train = np.asarray(y_train).astype(np.float32)"
   ]
  },
  {
   "cell_type": "code",
   "execution_count": 198,
   "metadata": {},
   "outputs": [
    {
     "name": "stdout",
     "output_type": "stream",
     "text": [
      "shape df2_train: (20000, 4) shape df2_train_scaled: (20000, 4)\n"
     ]
    }
   ],
   "source": [
    "print(\"shape df2_train:\", df2_train.shape, \"shape df2_train_scaled:\", df2_train_scaled.shape)"
   ]
  },
  {
   "cell_type": "code",
   "execution_count": 199,
   "metadata": {},
   "outputs": [],
   "source": [
    "X_train_shape = np.reshape(X_train, (X_train.shape[0] , X_train.shape[1], X_train.shape[2]) )"
   ]
  },
  {
   "cell_type": "code",
   "execution_count": 200,
   "metadata": {},
   "outputs": [
    {
     "name": "stdout",
     "output_type": "stream",
     "text": [
      "Treino X: (19986, 14, 4) Treino y: (19986,)\n"
     ]
    }
   ],
   "source": [
    "print(\"Treino X:\", X_train.shape, \"Treino y:\", y_train.shape)"
   ]
  },
  {
   "attachments": {},
   "cell_type": "markdown",
   "metadata": {},
   "source": [
    "#### The Most Important part...\n",
    "- Past values are import to predict the future demand \n",
    "- Model has to be dynamic to learn from past data and predict the future demand.\n",
    "- Create parts of data having past 2 days (48 hours) \n",
    "- LSTM model will predict the 49th Hour Load prediction."
   ]
  },
  {
   "attachments": {},
   "cell_type": "markdown",
   "metadata": {},
   "source": [
    "### Creating a LSTM Multivariant model\n",
    "- Multistage Neural Network (Long Short Term Memory). "
   ]
  },
  {
   "cell_type": "code",
   "execution_count": 201,
   "metadata": {},
   "outputs": [],
   "source": [
    "model = Sequential()\n",
    "model.add(LSTM(units=75, activation='relu', input_shape=(14, 4), return_sequences=True))\n",
    "model.add(Dropout(0.25))\n",
    "model.add(LSTM(units=75))\n",
    "model.add(Dropout(0.25))\n",
    "model.add(Dense(10, activation='relu'))\n",
    "model.compile(optimizer='adam', loss='mse')"
   ]
  },
  {
   "cell_type": "code",
   "execution_count": 202,
   "metadata": {},
   "outputs": [
    {
     "name": "stdout",
     "output_type": "stream",
     "text": [
      "Epoch 1/100\n",
      "400/400 [==============================] - 9s 16ms/step - loss: 0.5379\n",
      "Epoch 2/100\n",
      "400/400 [==============================] - 7s 18ms/step - loss: 0.5175\n",
      "Epoch 3/100\n",
      "400/400 [==============================] - 7s 17ms/step - loss: 0.5153\n",
      "Epoch 4/100\n",
      "400/400 [==============================] - 7s 17ms/step - loss: 0.5138\n",
      "Epoch 5/100\n",
      "400/400 [==============================] - 7s 18ms/step - loss: 0.5133\n",
      "Epoch 6/100\n",
      "400/400 [==============================] - 7s 18ms/step - loss: 0.5127\n",
      "Epoch 7/100\n",
      "400/400 [==============================] - 7s 18ms/step - loss: 0.5121\n",
      "Epoch 8/100\n",
      "400/400 [==============================] - 7s 18ms/step - loss: 0.5118\n",
      "Epoch 9/100\n",
      "400/400 [==============================] - 7s 18ms/step - loss: 0.5117\n",
      "Epoch 10/100\n",
      "400/400 [==============================] - 7s 18ms/step - loss: 0.5114\n",
      "Epoch 11/100\n",
      "400/400 [==============================] - 7s 18ms/step - loss: 0.5112\n",
      "Epoch 12/100\n",
      "400/400 [==============================] - 7s 18ms/step - loss: 0.5110\n",
      "Epoch 13/100\n",
      "400/400 [==============================] - 7s 18ms/step - loss: 0.5110\n",
      "Epoch 14/100\n",
      "400/400 [==============================] - 7s 18ms/step - loss: 0.5108\n",
      "Epoch 15/100\n",
      "400/400 [==============================] - 8s 20ms/step - loss: 0.5106\n",
      "Epoch 16/100\n",
      "400/400 [==============================] - 8s 21ms/step - loss: 0.5108\n",
      "Epoch 17/100\n",
      "400/400 [==============================] - 9s 21ms/step - loss: 0.5106\n",
      "Epoch 18/100\n",
      "400/400 [==============================] - 8s 20ms/step - loss: 0.5105\n",
      "Epoch 19/100\n",
      "400/400 [==============================] - 8s 21ms/step - loss: 0.5105\n",
      "Epoch 20/100\n",
      "400/400 [==============================] - 7s 18ms/step - loss: 0.5104\n",
      "Epoch 21/100\n",
      "400/400 [==============================] - 7s 18ms/step - loss: 0.5105\n",
      "Epoch 22/100\n",
      "400/400 [==============================] - 8s 19ms/step - loss: 0.5104\n",
      "Epoch 23/100\n",
      "400/400 [==============================] - 8s 21ms/step - loss: 0.5104\n",
      "Epoch 24/100\n",
      "400/400 [==============================] - 8s 20ms/step - loss: 0.5104\n",
      "Epoch 25/100\n",
      "400/400 [==============================] - 7s 18ms/step - loss: 0.5103\n",
      "Epoch 26/100\n",
      "400/400 [==============================] - 7s 18ms/step - loss: 0.5103\n",
      "Epoch 27/100\n",
      "400/400 [==============================] - 9s 22ms/step - loss: 0.5104\n",
      "Epoch 28/100\n",
      "400/400 [==============================] - 9s 22ms/step - loss: 0.5102\n",
      "Epoch 29/100\n",
      "400/400 [==============================] - 8s 20ms/step - loss: 0.5102\n",
      "Epoch 30/100\n",
      "400/400 [==============================] - 8s 20ms/step - loss: 0.5103\n",
      "Epoch 31/100\n",
      "400/400 [==============================] - 7s 19ms/step - loss: 0.5102\n",
      "Epoch 32/100\n",
      "400/400 [==============================] - 11s 29ms/step - loss: 0.5102\n",
      "Epoch 33/100\n",
      "400/400 [==============================] - 9s 22ms/step - loss: 0.5103\n",
      "Epoch 34/100\n",
      "400/400 [==============================] - 8s 21ms/step - loss: 0.5102\n",
      "Epoch 35/100\n",
      "400/400 [==============================] - 8s 20ms/step - loss: 0.5103\n",
      "Epoch 36/100\n",
      "400/400 [==============================] - 8s 21ms/step - loss: 0.5102\n",
      "Epoch 37/100\n",
      "400/400 [==============================] - 7s 18ms/step - loss: 0.5102\n",
      "Epoch 38/100\n",
      "400/400 [==============================] - 8s 21ms/step - loss: 0.5101\n",
      "Epoch 39/100\n",
      "400/400 [==============================] - 8s 19ms/step - loss: 0.5101\n",
      "Epoch 40/100\n",
      "400/400 [==============================] - 8s 19ms/step - loss: 0.5102\n",
      "Epoch 41/100\n",
      "400/400 [==============================] - 7s 19ms/step - loss: 0.5102\n",
      "Epoch 42/100\n",
      "400/400 [==============================] - 8s 19ms/step - loss: 0.5102\n",
      "Epoch 43/100\n",
      "400/400 [==============================] - 8s 19ms/step - loss: 0.5102\n",
      "Epoch 44/100\n",
      "400/400 [==============================] - 8s 19ms/step - loss: 0.5102\n",
      "Epoch 45/100\n",
      "400/400 [==============================] - 8s 19ms/step - loss: 0.5101\n",
      "Epoch 46/100\n",
      "400/400 [==============================] - 8s 19ms/step - loss: 0.5102\n",
      "Epoch 47/100\n",
      "400/400 [==============================] - 8s 19ms/step - loss: 0.5101\n",
      "Epoch 48/100\n",
      "400/400 [==============================] - 8s 20ms/step - loss: 0.5101\n",
      "Epoch 49/100\n",
      "400/400 [==============================] - 8s 20ms/step - loss: 0.5101\n",
      "Epoch 50/100\n",
      "400/400 [==============================] - 9s 23ms/step - loss: 0.5101\n",
      "Epoch 51/100\n",
      "400/400 [==============================] - 9s 23ms/step - loss: 0.5101\n",
      "Epoch 52/100\n",
      "400/400 [==============================] - 8s 21ms/step - loss: 0.5101\n",
      "Epoch 53/100\n",
      "400/400 [==============================] - 7s 18ms/step - loss: 0.5101\n",
      "Epoch 54/100\n",
      "400/400 [==============================] - 7s 18ms/step - loss: 0.5101\n",
      "Epoch 55/100\n",
      "400/400 [==============================] - 7s 19ms/step - loss: 0.5101\n",
      "Epoch 56/100\n",
      "400/400 [==============================] - 8s 19ms/step - loss: 0.5101\n",
      "Epoch 57/100\n",
      "400/400 [==============================] - 8s 19ms/step - loss: 0.5101\n",
      "Epoch 58/100\n",
      "400/400 [==============================] - 7s 19ms/step - loss: 0.5101\n",
      "Epoch 59/100\n",
      "400/400 [==============================] - 7s 18ms/step - loss: 0.5101\n",
      "Epoch 60/100\n",
      "400/400 [==============================] - 8s 19ms/step - loss: 0.5102\n",
      "Epoch 61/100\n",
      "400/400 [==============================] - 8s 20ms/step - loss: 0.5101\n",
      "Epoch 62/100\n",
      "400/400 [==============================] - 8s 19ms/step - loss: 0.5101\n",
      "Epoch 63/100\n",
      "400/400 [==============================] - 8s 21ms/step - loss: 0.5101\n",
      "Epoch 64/100\n",
      "400/400 [==============================] - 7s 19ms/step - loss: 0.5101\n",
      "Epoch 65/100\n",
      "400/400 [==============================] - 8s 20ms/step - loss: 0.5101\n",
      "Epoch 66/100\n",
      "400/400 [==============================] - 8s 20ms/step - loss: 0.5101\n",
      "Epoch 67/100\n",
      "400/400 [==============================] - 7s 19ms/step - loss: 0.5100\n",
      "Epoch 68/100\n",
      "400/400 [==============================] - 8s 19ms/step - loss: 0.5101\n",
      "Epoch 69/100\n",
      "400/400 [==============================] - 8s 19ms/step - loss: 0.5101\n",
      "Epoch 70/100\n",
      "400/400 [==============================] - 7s 19ms/step - loss: 0.5101\n",
      "Epoch 71/100\n",
      "400/400 [==============================] - 7s 18ms/step - loss: 0.5101\n",
      "Epoch 72/100\n",
      "400/400 [==============================] - 8s 19ms/step - loss: 0.5101\n",
      "Epoch 73/100\n",
      "400/400 [==============================] - 9s 23ms/step - loss: 0.5101\n",
      "Epoch 74/100\n",
      "400/400 [==============================] - 9s 21ms/step - loss: 0.5101\n",
      "Epoch 75/100\n",
      "400/400 [==============================] - 9s 23ms/step - loss: 0.5100\n",
      "Epoch 76/100\n",
      "400/400 [==============================] - 8s 21ms/step - loss: 0.5101\n",
      "Epoch 77/100\n",
      "400/400 [==============================] - 8s 20ms/step - loss: 0.5100\n",
      "Epoch 78/100\n",
      "400/400 [==============================] - 8s 19ms/step - loss: 0.5100\n",
      "Epoch 79/100\n",
      "400/400 [==============================] - 7s 18ms/step - loss: 0.5101\n",
      "Epoch 80/100\n",
      "400/400 [==============================] - 7s 19ms/step - loss: 0.5100\n",
      "Epoch 81/100\n",
      "400/400 [==============================] - 8s 19ms/step - loss: 0.5101\n",
      "Epoch 82/100\n",
      "400/400 [==============================] - 9s 22ms/step - loss: 0.5100\n",
      "Epoch 83/100\n",
      "400/400 [==============================] - 8s 21ms/step - loss: 0.5101\n",
      "Epoch 84/100\n",
      "400/400 [==============================] - 8s 19ms/step - loss: 0.5101\n",
      "Epoch 85/100\n",
      "400/400 [==============================] - 8s 20ms/step - loss: 0.5100\n",
      "Epoch 86/100\n",
      "400/400 [==============================] - 8s 20ms/step - loss: 0.5100\n",
      "Epoch 87/100\n",
      "400/400 [==============================] - 8s 21ms/step - loss: 0.5101\n",
      "Epoch 88/100\n",
      "400/400 [==============================] - 9s 22ms/step - loss: 0.5100\n",
      "Epoch 89/100\n",
      "400/400 [==============================] - 9s 21ms/step - loss: 0.5100\n",
      "Epoch 90/100\n",
      "400/400 [==============================] - 8s 20ms/step - loss: 0.5100\n",
      "Epoch 91/100\n",
      "400/400 [==============================] - 8s 19ms/step - loss: 0.5100\n",
      "Epoch 92/100\n",
      "400/400 [==============================] - 9s 22ms/step - loss: 0.5101\n",
      "Epoch 93/100\n",
      "400/400 [==============================] - 9s 21ms/step - loss: 0.5100\n",
      "Epoch 94/100\n",
      "400/400 [==============================] - 8s 19ms/step - loss: 0.5100\n",
      "Epoch 95/100\n",
      "400/400 [==============================] - 7s 19ms/step - loss: 0.5101\n",
      "Epoch 96/100\n",
      "400/400 [==============================] - 7s 19ms/step - loss: 0.5100\n",
      "Epoch 97/100\n",
      "400/400 [==============================] - 8s 20ms/step - loss: 0.5100\n",
      "Epoch 98/100\n",
      "400/400 [==============================] - 8s 19ms/step - loss: 0.5100\n",
      "Epoch 99/100\n",
      "400/400 [==============================] - 8s 19ms/step - loss: 0.5100\n",
      "Epoch 100/100\n",
      "400/400 [==============================] - 8s 19ms/step - loss: 0.5100\n"
     ]
    }
   ],
   "source": [
    "history = model.fit(X_train_shape, y_train, epochs=100, batch_size=50, verbose=1)"
   ]
  },
  {
   "cell_type": "code",
   "execution_count": 203,
   "metadata": {},
   "outputs": [],
   "source": [
    "df1_test_last14 = df2_train.iloc[-14:]\n",
    "df1_test_full   = df2_test\n",
    "\n",
    "full_df = pd.concat( (df1_test_last14 , df1_test_full), axis=0)\n",
    "full_df.drop(columns=['index'],axis=1,inplace=True)"
   ]
  },
  {
   "cell_type": "code",
   "execution_count": 204,
   "metadata": {},
   "outputs": [
    {
     "name": "stdout",
     "output_type": "stream",
     "text": [
      "(3692, 4)\n"
     ]
    }
   ],
   "source": [
    "print(full_df.shape)"
   ]
  },
  {
   "cell_type": "code",
   "execution_count": 205,
   "metadata": {},
   "outputs": [
    {
     "data": {
      "text/html": [
       "<div>\n",
       "<style scoped>\n",
       "    .dataframe tbody tr th:only-of-type {\n",
       "        vertical-align: middle;\n",
       "    }\n",
       "\n",
       "    .dataframe tbody tr th {\n",
       "        vertical-align: top;\n",
       "    }\n",
       "\n",
       "    .dataframe thead th {\n",
       "        text-align: right;\n",
       "    }\n",
       "</style>\n",
       "<table border=\"1\" class=\"dataframe\">\n",
       "  <thead>\n",
       "    <tr style=\"text-align: right;\">\n",
       "      <th></th>\n",
       "      <th>Open</th>\n",
       "      <th>High</th>\n",
       "      <th>Low</th>\n",
       "      <th>Close</th>\n",
       "    </tr>\n",
       "  </thead>\n",
       "  <tbody>\n",
       "    <tr>\n",
       "      <th>19986</th>\n",
       "      <td>38799.87</td>\n",
       "      <td>38817.00</td>\n",
       "      <td>38773.78</td>\n",
       "      <td>38803.99</td>\n",
       "    </tr>\n",
       "    <tr>\n",
       "      <th>19987</th>\n",
       "      <td>38811.91</td>\n",
       "      <td>38848.86</td>\n",
       "      <td>38782.88</td>\n",
       "      <td>38788.77</td>\n",
       "    </tr>\n",
       "    <tr>\n",
       "      <th>19988</th>\n",
       "      <td>38783.56</td>\n",
       "      <td>38871.26</td>\n",
       "      <td>38764.15</td>\n",
       "      <td>38845.65</td>\n",
       "    </tr>\n",
       "    <tr>\n",
       "      <th>19989</th>\n",
       "      <td>38825.21</td>\n",
       "      <td>38853.32</td>\n",
       "      <td>38782.54</td>\n",
       "      <td>38790.67</td>\n",
       "    </tr>\n",
       "    <tr>\n",
       "      <th>19990</th>\n",
       "      <td>38812.76</td>\n",
       "      <td>38845.15</td>\n",
       "      <td>38755.09</td>\n",
       "      <td>38830.66</td>\n",
       "    </tr>\n",
       "  </tbody>\n",
       "</table>\n",
       "</div>"
      ],
      "text/plain": [
       "           Open      High       Low     Close\n",
       "19986  38799.87  38817.00  38773.78  38803.99\n",
       "19987  38811.91  38848.86  38782.88  38788.77\n",
       "19988  38783.56  38871.26  38764.15  38845.65\n",
       "19989  38825.21  38853.32  38782.54  38790.67\n",
       "19990  38812.76  38845.15  38755.09  38830.66"
      ]
     },
     "execution_count": 205,
     "metadata": {},
     "output_type": "execute_result"
    }
   ],
   "source": [
    "full_df.head()"
   ]
  },
  {
   "cell_type": "code",
   "execution_count": 206,
   "metadata": {},
   "outputs": [
    {
     "name": "stdout",
     "output_type": "stream",
     "text": [
      "(3692, 4)\n"
     ]
    }
   ],
   "source": [
    "full_df = sc.transform(full_df)\n",
    "print(full_df.shape)"
   ]
  },
  {
   "attachments": {},
   "cell_type": "markdown",
   "metadata": {},
   "source": [
    "#### Reshaping the test data frame in similar way as we did for training dataset."
   ]
  },
  {
   "cell_type": "code",
   "execution_count": 209,
   "metadata": {},
   "outputs": [],
   "source": [
    "hops = 14\n",
    "no_records = 3678\n",
    "ncols = 4\n",
    "X_train_shape_pred = []\n",
    "\n",
    "\n",
    "for i in  range(14,no_records):\n",
    "    X_train_shape_pred.append(full_df[i-14:i])\n",
    "    \n",
    "\n",
    "X_train_shape_pred = np.array(X_train_shape_pred,dtype=object)"
   ]
  },
  {
   "cell_type": "code",
   "execution_count": 210,
   "metadata": {},
   "outputs": [
    {
     "name": "stdout",
     "output_type": "stream",
     "text": [
      "size teste: (3678, 5)\n"
     ]
    }
   ],
   "source": [
    "print('size teste:',df2_test.shape)"
   ]
  },
  {
   "cell_type": "code",
   "execution_count": 211,
   "metadata": {},
   "outputs": [
    {
     "name": "stdout",
     "output_type": "stream",
     "text": [
      "shape: (3664, 14, 4) length: 3664\n"
     ]
    }
   ],
   "source": [
    "print(\"shape:\", X_train_shape_pred.shape , \"length:\",len(X_train_shape_pred))"
   ]
  },
  {
   "cell_type": "code",
   "execution_count": 212,
   "metadata": {},
   "outputs": [
    {
     "name": "stdout",
     "output_type": "stream",
     "text": [
      "115/115 [==============================] - 1s 4ms/step\n"
     ]
    }
   ],
   "source": [
    "X_train_shape_pred = np.asarray(X_train_shape_pred).astype(np.float32)\n",
    "\n",
    "ytest = model.predict(X_train_shape_pred)"
   ]
  },
  {
   "cell_type": "code",
   "execution_count": 213,
   "metadata": {},
   "outputs": [
    {
     "data": {
      "text/plain": [
       "array([[[-0.676, -0.688, -0.666, -0.674],\n",
       "        [-0.672, -0.678, -0.663, -0.679],\n",
       "        [-0.681, -0.67 , -0.669, -0.66 ],\n",
       "        ...,\n",
       "        [-0.688, -0.702, -0.699, -0.717],\n",
       "        [-0.705, -0.707, -0.689, -0.691],\n",
       "        [-0.713, -0.72 , -0.696, -0.705]],\n",
       "\n",
       "       [[-0.672, -0.678, -0.663, -0.679],\n",
       "        [-0.681, -0.67 , -0.669, -0.66 ],\n",
       "        [-0.667, -0.676, -0.663, -0.678],\n",
       "        ...,\n",
       "        [-0.705, -0.707, -0.689, -0.691],\n",
       "        [-0.713, -0.72 , -0.696, -0.705],\n",
       "        [-0.674, -0.687, -0.712, -0.72 ]],\n",
       "\n",
       "       [[-0.681, -0.67 , -0.669, -0.66 ],\n",
       "        [-0.667, -0.676, -0.663, -0.678],\n",
       "        [-0.671, -0.679, -0.672, -0.665],\n",
       "        ...,\n",
       "        [-0.713, -0.72 , -0.696, -0.705],\n",
       "        [-0.674, -0.687, -0.712, -0.72 ],\n",
       "        [-0.674, -0.692, -0.667, -0.68 ]],\n",
       "\n",
       "       ...,\n",
       "\n",
       "       [[ 0.545,  0.529,  0.544,  0.531],\n",
       "        [ 0.538,  0.531,  0.55 ,  0.547],\n",
       "        [ 0.499,  0.53 ,  0.513,  0.539],\n",
       "        ...,\n",
       "        [ 0.422,  0.415,  0.438,  0.423],\n",
       "        [ 0.413,  0.4  ,  0.398,  0.417],\n",
       "        [ 0.407,  0.401,  0.417,  0.417]],\n",
       "\n",
       "       [[ 0.538,  0.531,  0.55 ,  0.547],\n",
       "        [ 0.499,  0.53 ,  0.513,  0.539],\n",
       "        [ 0.47 ,  0.484,  0.486,  0.492],\n",
       "        ...,\n",
       "        [ 0.413,  0.4  ,  0.398,  0.417],\n",
       "        [ 0.407,  0.401,  0.417,  0.417],\n",
       "        [ 0.429,  0.423,  0.42 ,  0.41 ]],\n",
       "\n",
       "       [[ 0.499,  0.53 ,  0.513,  0.539],\n",
       "        [ 0.47 ,  0.484,  0.486,  0.492],\n",
       "        [ 0.461,  0.462,  0.478,  0.466],\n",
       "        ...,\n",
       "        [ 0.407,  0.401,  0.417,  0.417],\n",
       "        [ 0.429,  0.423,  0.42 ,  0.41 ],\n",
       "        [ 0.425,  0.418,  0.426,  0.429]]], dtype=float32)"
      ]
     },
     "execution_count": 213,
     "metadata": {},
     "output_type": "execute_result"
    }
   ],
   "source": [
    "X_train_shape_pred"
   ]
  },
  {
   "cell_type": "code",
   "execution_count": 214,
   "metadata": {},
   "outputs": [
    {
     "name": "stdout",
     "output_type": "stream",
     "text": [
      "(3664, 10)\n"
     ]
    }
   ],
   "source": [
    "ytest_final_pred = sc2.inverse_transform(ytest)\n",
    "print(ytest_final_pred.shape)\n"
   ]
  },
  {
   "cell_type": "code",
   "execution_count": 220,
   "metadata": {},
   "outputs": [
    {
     "name": "stdout",
     "output_type": "stream",
     "text": [
      "(3664, 10) [40858.656 40858.656 40858.656 ... 42140.402 42191.613 42193.895]\n"
     ]
    }
   ],
   "source": [
    "print(ytest_final_pred[:,0])"
   ]
  },
  {
   "cell_type": "code",
   "execution_count": 221,
   "metadata": {},
   "outputs": [],
   "source": [
    "final_open_pred = pd.DataFrame(ytest_final_pred[:,0])\n",
    "final_open_pred.columns=['final_open_pred']"
   ]
  },
  {
   "cell_type": "code",
   "execution_count": 229,
   "metadata": {},
   "outputs": [
    {
     "data": {
      "text/html": [
       "<div>\n",
       "<style scoped>\n",
       "    .dataframe tbody tr th:only-of-type {\n",
       "        vertical-align: middle;\n",
       "    }\n",
       "\n",
       "    .dataframe tbody tr th {\n",
       "        vertical-align: top;\n",
       "    }\n",
       "\n",
       "    .dataframe thead th {\n",
       "        text-align: right;\n",
       "    }\n",
       "</style>\n",
       "<table border=\"1\" class=\"dataframe\">\n",
       "  <thead>\n",
       "    <tr style=\"text-align: right;\">\n",
       "      <th></th>\n",
       "      <th>final_open_pred</th>\n",
       "    </tr>\n",
       "  </thead>\n",
       "  <tbody>\n",
       "    <tr>\n",
       "      <th>0</th>\n",
       "      <td>40858.65625</td>\n",
       "    </tr>\n",
       "    <tr>\n",
       "      <th>1</th>\n",
       "      <td>40858.65625</td>\n",
       "    </tr>\n",
       "    <tr>\n",
       "      <th>2</th>\n",
       "      <td>40858.65625</td>\n",
       "    </tr>\n",
       "    <tr>\n",
       "      <th>3</th>\n",
       "      <td>40858.65625</td>\n",
       "    </tr>\n",
       "    <tr>\n",
       "      <th>4</th>\n",
       "      <td>40858.65625</td>\n",
       "    </tr>\n",
       "  </tbody>\n",
       "</table>\n",
       "</div>"
      ],
      "text/plain": [
       "   final_open_pred\n",
       "0      40858.65625\n",
       "1      40858.65625\n",
       "2      40858.65625\n",
       "3      40858.65625\n",
       "4      40858.65625"
      ]
     },
     "execution_count": 229,
     "metadata": {},
     "output_type": "execute_result"
    }
   ],
   "source": [
    "final_open_pred.head()"
   ]
  },
  {
   "cell_type": "code",
   "execution_count": 223,
   "metadata": {},
   "outputs": [],
   "source": [
    "fully_final = pd.concat( (final_open_pred , df2_test ), axis=1)"
   ]
  },
  {
   "cell_type": "code",
   "execution_count": 226,
   "metadata": {},
   "outputs": [
    {
     "data": {
      "text/plain": [
       "(3678, 6)"
      ]
     },
     "execution_count": 226,
     "metadata": {},
     "output_type": "execute_result"
    }
   ],
   "source": [
    "fully_final.shape"
   ]
  },
  {
   "cell_type": "code",
   "execution_count": 224,
   "metadata": {},
   "outputs": [
    {
     "data": {
      "text/html": [
       "<div>\n",
       "<style scoped>\n",
       "    .dataframe tbody tr th:only-of-type {\n",
       "        vertical-align: middle;\n",
       "    }\n",
       "\n",
       "    .dataframe tbody tr th {\n",
       "        vertical-align: top;\n",
       "    }\n",
       "\n",
       "    .dataframe thead th {\n",
       "        text-align: right;\n",
       "    }\n",
       "</style>\n",
       "<table border=\"1\" class=\"dataframe\">\n",
       "  <thead>\n",
       "    <tr style=\"text-align: right;\">\n",
       "      <th></th>\n",
       "      <th>final_open_pred</th>\n",
       "      <th>index</th>\n",
       "      <th>Open</th>\n",
       "      <th>High</th>\n",
       "      <th>Low</th>\n",
       "      <th>Close</th>\n",
       "    </tr>\n",
       "  </thead>\n",
       "  <tbody>\n",
       "    <tr>\n",
       "      <th>0</th>\n",
       "      <td>40858.65625</td>\n",
       "      <td>20000</td>\n",
       "      <td>38805.02</td>\n",
       "      <td>38822.27</td>\n",
       "      <td>38634.43</td>\n",
       "      <td>38663.37</td>\n",
       "    </tr>\n",
       "    <tr>\n",
       "      <th>1</th>\n",
       "      <td>40858.65625</td>\n",
       "      <td>20001</td>\n",
       "      <td>38805.03</td>\n",
       "      <td>38805.03</td>\n",
       "      <td>38771.27</td>\n",
       "      <td>38787.26</td>\n",
       "    </tr>\n",
       "    <tr>\n",
       "      <th>2</th>\n",
       "      <td>40858.65625</td>\n",
       "      <td>20002</td>\n",
       "      <td>38869.75</td>\n",
       "      <td>38869.75</td>\n",
       "      <td>38827.66</td>\n",
       "      <td>38851.48</td>\n",
       "    </tr>\n",
       "    <tr>\n",
       "      <th>3</th>\n",
       "      <td>40858.65625</td>\n",
       "      <td>20003</td>\n",
       "      <td>38795.04</td>\n",
       "      <td>38869.38</td>\n",
       "      <td>38795.04</td>\n",
       "      <td>38860.03</td>\n",
       "    </tr>\n",
       "    <tr>\n",
       "      <th>4</th>\n",
       "      <td>40858.65625</td>\n",
       "      <td>20004</td>\n",
       "      <td>38838.41</td>\n",
       "      <td>38838.41</td>\n",
       "      <td>38768.17</td>\n",
       "      <td>38783.78</td>\n",
       "    </tr>\n",
       "  </tbody>\n",
       "</table>\n",
       "</div>"
      ],
      "text/plain": [
       "   final_open_pred  index      Open      High       Low     Close\n",
       "0      40858.65625  20000  38805.02  38822.27  38634.43  38663.37\n",
       "1      40858.65625  20001  38805.03  38805.03  38771.27  38787.26\n",
       "2      40858.65625  20002  38869.75  38869.75  38827.66  38851.48\n",
       "3      40858.65625  20003  38795.04  38869.38  38795.04  38860.03\n",
       "4      40858.65625  20004  38838.41  38838.41  38768.17  38783.78"
      ]
     },
     "execution_count": 224,
     "metadata": {},
     "output_type": "execute_result"
    }
   ],
   "source": [
    "fully_final.head()"
   ]
  },
  {
   "cell_type": "code",
   "execution_count": 238,
   "metadata": {},
   "outputs": [
    {
     "data": {
      "text/plain": [
       "<matplotlib.legend.Legend at 0x1b404464210>"
      ]
     },
     "execution_count": 238,
     "metadata": {},
     "output_type": "execute_result"
    },
    {
     "data": {
      "image/png": "[encoded data removed]",
      "text/plain": [
       "<Figure size 640x480 with 1 Axes>"
      ]
     },
     "metadata": {},
     "output_type": "display_data"
    }
   ],
   "source": [
    "plt.plot(fully_final['Open'][fully_final['index']>=22000] , color='red')\n",
    "plt.plot(fully_final['final_open_pred'][fully_final['index']>=22000] , color='blue', label='Predicted')\n",
    "plt.legend()"
   ]
  }
 ],
 "metadata": {
  "kernelspec": {
   "display_name": "Python 3",
   "language": "python",
   "name": "python3"
  },
  "language_info": {
   "codemirror_mode": {
    "name": "ipython",
    "version": 3
   },
   "file_extension": ".py",
   "mimetype": "text/x-python",
   "name": "python",
   "nbconvert_exporter": "python",
   "pygments_lexer": "ipython3",
   "version": "3.11.2"
  },
  "orig_nbformat": 4
 },
 "nbformat": 4,
 "nbformat_minor": 2
}
