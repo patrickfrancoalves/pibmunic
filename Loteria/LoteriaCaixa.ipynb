{
 "cells": [
  {
   "cell_type": "code",
   "execution_count": 1,
   "metadata": {},
   "outputs": [
    {
     "name": "stdout",
     "output_type": "stream",
     "text": [
      "CPU times: total: 3.08 s\n",
      "Wall time: 4.53 s\n"
     ]
    }
   ],
   "source": [
    "%%time\n",
    "import os\n",
    "import sys\n",
    "import math\n",
    "import pandas as pd\n",
    "import numpy as np\n",
    "import matplotlib.pyplot as plt\n",
    "import seaborn as sns\n",
    "from sklearn.cluster import KMeans"
   ]
  },
  {
   "cell_type": "code",
   "execution_count": 2,
   "metadata": {},
   "outputs": [],
   "source": [
    "#! pip install tensorflow"
   ]
  },
  {
   "cell_type": "code",
   "execution_count": 3,
   "metadata": {},
   "outputs": [
    {
     "name": "stdout",
     "output_type": "stream",
     "text": [
      "CPU times: total: 1.08 s\n",
      "Wall time: 1.27 s\n"
     ]
    }
   ],
   "source": [
    "%%time\n",
    "quina = pd.read_excel(\"HIST_SORTEIOS_QUINA.xlsx\")"
   ]
  },
  {
   "cell_type": "code",
   "execution_count": 4,
   "metadata": {},
   "outputs": [],
   "source": [
    "quina2 = quina[(quina['Data Sorteio']>='2000-01-01') ]"
   ]
  },
  {
   "cell_type": "code",
   "execution_count": 5,
   "metadata": {},
   "outputs": [
    {
     "data": {
      "text/html": [
       "<div>\n",
       "<style scoped>\n",
       "    .dataframe tbody tr th:only-of-type {\n",
       "        vertical-align: middle;\n",
       "    }\n",
       "\n",
       "    .dataframe tbody tr th {\n",
       "        vertical-align: top;\n",
       "    }\n",
       "\n",
       "    .dataframe thead th {\n",
       "        text-align: right;\n",
       "    }\n",
       "</style>\n",
       "<table border=\"1\" class=\"dataframe\">\n",
       "  <thead>\n",
       "    <tr style=\"text-align: right;\">\n",
       "      <th></th>\n",
       "      <th>Concurso</th>\n",
       "      <th>Data Sorteio</th>\n",
       "      <th>1ª Dezena</th>\n",
       "      <th>2ª Dezena</th>\n",
       "      <th>3ª Dezena</th>\n",
       "      <th>4ª Dezena</th>\n",
       "      <th>5ª Dezena</th>\n",
       "    </tr>\n",
       "  </thead>\n",
       "  <tbody>\n",
       "    <tr>\n",
       "      <th>643</th>\n",
       "      <td>644</td>\n",
       "      <td>2000-01-04</td>\n",
       "      <td>12</td>\n",
       "      <td>27</td>\n",
       "      <td>28</td>\n",
       "      <td>34</td>\n",
       "      <td>49</td>\n",
       "    </tr>\n",
       "    <tr>\n",
       "      <th>644</th>\n",
       "      <td>645</td>\n",
       "      <td>2000-01-06</td>\n",
       "      <td>2</td>\n",
       "      <td>15</td>\n",
       "      <td>22</td>\n",
       "      <td>25</td>\n",
       "      <td>74</td>\n",
       "    </tr>\n",
       "    <tr>\n",
       "      <th>645</th>\n",
       "      <td>646</td>\n",
       "      <td>2000-01-08</td>\n",
       "      <td>3</td>\n",
       "      <td>8</td>\n",
       "      <td>36</td>\n",
       "      <td>44</td>\n",
       "      <td>63</td>\n",
       "    </tr>\n",
       "    <tr>\n",
       "      <th>646</th>\n",
       "      <td>647</td>\n",
       "      <td>2000-01-11</td>\n",
       "      <td>19</td>\n",
       "      <td>43</td>\n",
       "      <td>52</td>\n",
       "      <td>59</td>\n",
       "      <td>74</td>\n",
       "    </tr>\n",
       "    <tr>\n",
       "      <th>647</th>\n",
       "      <td>648</td>\n",
       "      <td>2000-01-13</td>\n",
       "      <td>24</td>\n",
       "      <td>31</td>\n",
       "      <td>39</td>\n",
       "      <td>60</td>\n",
       "      <td>72</td>\n",
       "    </tr>\n",
       "  </tbody>\n",
       "</table>\n",
       "</div>"
      ],
      "text/plain": [
       "     Concurso Data Sorteio  1ª Dezena  2ª Dezena  3ª Dezena  4ª Dezena  \\\n",
       "643       644   2000-01-04         12         27         28         34   \n",
       "644       645   2000-01-06          2         15         22         25   \n",
       "645       646   2000-01-08          3          8         36         44   \n",
       "646       647   2000-01-11         19         43         52         59   \n",
       "647       648   2000-01-13         24         31         39         60   \n",
       "\n",
       "     5ª Dezena  \n",
       "643         49  \n",
       "644         74  \n",
       "645         63  \n",
       "646         74  \n",
       "647         72  "
      ]
     },
     "execution_count": 5,
     "metadata": {},
     "output_type": "execute_result"
    }
   ],
   "source": [
    "quina2.head()"
   ]
  },
  {
   "cell_type": "code",
   "execution_count": 6,
   "metadata": {},
   "outputs": [
    {
     "data": {
      "text/plain": [
       "Concurso                 int64\n",
       "Data Sorteio    datetime64[ns]\n",
       "1ª Dezena                int64\n",
       "2ª Dezena                int64\n",
       "3ª Dezena                int64\n",
       "4ª Dezena                int64\n",
       "5ª Dezena                int64\n",
       "dtype: object"
      ]
     },
     "execution_count": 6,
     "metadata": {},
     "output_type": "execute_result"
    }
   ],
   "source": [
    "quina2.dtypes"
   ]
  },
  {
   "cell_type": "code",
   "execution_count": 7,
   "metadata": {},
   "outputs": [
    {
     "data": {
      "text/plain": [
       "(5528, 7)"
      ]
     },
     "execution_count": 7,
     "metadata": {},
     "output_type": "execute_result"
    }
   ],
   "source": [
    "quina2.shape"
   ]
  },
  {
   "cell_type": "code",
   "execution_count": 8,
   "metadata": {},
   "outputs": [],
   "source": [
    "a = quina2[['1ª Dezena','2ª Dezena','3ª Dezena','4ª Dezena','5ª Dezena']].values"
   ]
  },
  {
   "cell_type": "code",
   "execution_count": 9,
   "metadata": {},
   "outputs": [],
   "source": [
    "a.sort(axis=1)  # no ascending argument"
   ]
  },
  {
   "cell_type": "code",
   "execution_count": 10,
   "metadata": {},
   "outputs": [],
   "source": [
    "df = pd.DataFrame(a, quina2.index, ['1ª Dezena','2ª Dezena','3ª Dezena','4ª Dezena','5ª Dezena'])"
   ]
  },
  {
   "cell_type": "code",
   "execution_count": 11,
   "metadata": {},
   "outputs": [
    {
     "data": {
      "text/html": [
       "<div>\n",
       "<style scoped>\n",
       "    .dataframe tbody tr th:only-of-type {\n",
       "        vertical-align: middle;\n",
       "    }\n",
       "\n",
       "    .dataframe tbody tr th {\n",
       "        vertical-align: top;\n",
       "    }\n",
       "\n",
       "    .dataframe thead th {\n",
       "        text-align: right;\n",
       "    }\n",
       "</style>\n",
       "<table border=\"1\" class=\"dataframe\">\n",
       "  <thead>\n",
       "    <tr style=\"text-align: right;\">\n",
       "      <th></th>\n",
       "      <th>1ª Dezena</th>\n",
       "      <th>2ª Dezena</th>\n",
       "      <th>3ª Dezena</th>\n",
       "      <th>4ª Dezena</th>\n",
       "      <th>5ª Dezena</th>\n",
       "    </tr>\n",
       "  </thead>\n",
       "  <tbody>\n",
       "    <tr>\n",
       "      <th>643</th>\n",
       "      <td>12</td>\n",
       "      <td>27</td>\n",
       "      <td>28</td>\n",
       "      <td>34</td>\n",
       "      <td>49</td>\n",
       "    </tr>\n",
       "    <tr>\n",
       "      <th>644</th>\n",
       "      <td>2</td>\n",
       "      <td>15</td>\n",
       "      <td>22</td>\n",
       "      <td>25</td>\n",
       "      <td>74</td>\n",
       "    </tr>\n",
       "    <tr>\n",
       "      <th>645</th>\n",
       "      <td>3</td>\n",
       "      <td>8</td>\n",
       "      <td>36</td>\n",
       "      <td>44</td>\n",
       "      <td>63</td>\n",
       "    </tr>\n",
       "    <tr>\n",
       "      <th>646</th>\n",
       "      <td>19</td>\n",
       "      <td>43</td>\n",
       "      <td>52</td>\n",
       "      <td>59</td>\n",
       "      <td>74</td>\n",
       "    </tr>\n",
       "    <tr>\n",
       "      <th>647</th>\n",
       "      <td>24</td>\n",
       "      <td>31</td>\n",
       "      <td>39</td>\n",
       "      <td>60</td>\n",
       "      <td>72</td>\n",
       "    </tr>\n",
       "  </tbody>\n",
       "</table>\n",
       "</div>"
      ],
      "text/plain": [
       "     1ª Dezena  2ª Dezena  3ª Dezena  4ª Dezena  5ª Dezena\n",
       "643         12         27         28         34         49\n",
       "644          2         15         22         25         74\n",
       "645          3          8         36         44         63\n",
       "646         19         43         52         59         74\n",
       "647         24         31         39         60         72"
      ]
     },
     "execution_count": 11,
     "metadata": {},
     "output_type": "execute_result"
    }
   ],
   "source": [
    "df.head()"
   ]
  },
  {
   "cell_type": "code",
   "execution_count": 12,
   "metadata": {},
   "outputs": [],
   "source": [
    "df.reset_index(inplace=True)"
   ]
  },
  {
   "cell_type": "code",
   "execution_count": 13,
   "metadata": {},
   "outputs": [],
   "source": [
    "df.rename(columns={'index':'Concurso'},inplace=True)"
   ]
  },
  {
   "cell_type": "code",
   "execution_count": 14,
   "metadata": {},
   "outputs": [],
   "source": [
    "df2 = quina2[['Concurso','Data Sorteio']].merge(df, on='Concurso')"
   ]
  },
  {
   "cell_type": "code",
   "execution_count": 15,
   "metadata": {},
   "outputs": [
    {
     "data": {
      "text/html": [
       "<div>\n",
       "<style scoped>\n",
       "    .dataframe tbody tr th:only-of-type {\n",
       "        vertical-align: middle;\n",
       "    }\n",
       "\n",
       "    .dataframe tbody tr th {\n",
       "        vertical-align: top;\n",
       "    }\n",
       "\n",
       "    .dataframe thead th {\n",
       "        text-align: right;\n",
       "    }\n",
       "</style>\n",
       "<table border=\"1\" class=\"dataframe\">\n",
       "  <thead>\n",
       "    <tr style=\"text-align: right;\">\n",
       "      <th></th>\n",
       "      <th>Concurso</th>\n",
       "      <th>Data Sorteio</th>\n",
       "      <th>1ª Dezena</th>\n",
       "      <th>2ª Dezena</th>\n",
       "      <th>3ª Dezena</th>\n",
       "      <th>4ª Dezena</th>\n",
       "      <th>5ª Dezena</th>\n",
       "    </tr>\n",
       "  </thead>\n",
       "  <tbody>\n",
       "    <tr>\n",
       "      <th>0</th>\n",
       "      <td>644</td>\n",
       "      <td>2000-01-04</td>\n",
       "      <td>2</td>\n",
       "      <td>15</td>\n",
       "      <td>22</td>\n",
       "      <td>25</td>\n",
       "      <td>74</td>\n",
       "    </tr>\n",
       "    <tr>\n",
       "      <th>1</th>\n",
       "      <td>645</td>\n",
       "      <td>2000-01-06</td>\n",
       "      <td>3</td>\n",
       "      <td>8</td>\n",
       "      <td>36</td>\n",
       "      <td>44</td>\n",
       "      <td>63</td>\n",
       "    </tr>\n",
       "    <tr>\n",
       "      <th>2</th>\n",
       "      <td>646</td>\n",
       "      <td>2000-01-08</td>\n",
       "      <td>19</td>\n",
       "      <td>43</td>\n",
       "      <td>52</td>\n",
       "      <td>59</td>\n",
       "      <td>74</td>\n",
       "    </tr>\n",
       "    <tr>\n",
       "      <th>3</th>\n",
       "      <td>647</td>\n",
       "      <td>2000-01-11</td>\n",
       "      <td>24</td>\n",
       "      <td>31</td>\n",
       "      <td>39</td>\n",
       "      <td>60</td>\n",
       "      <td>72</td>\n",
       "    </tr>\n",
       "    <tr>\n",
       "      <th>4</th>\n",
       "      <td>648</td>\n",
       "      <td>2000-01-13</td>\n",
       "      <td>29</td>\n",
       "      <td>38</td>\n",
       "      <td>71</td>\n",
       "      <td>73</td>\n",
       "      <td>78</td>\n",
       "    </tr>\n",
       "  </tbody>\n",
       "</table>\n",
       "</div>"
      ],
      "text/plain": [
       "   Concurso Data Sorteio  1ª Dezena  2ª Dezena  3ª Dezena  4ª Dezena  \\\n",
       "0       644   2000-01-04          2         15         22         25   \n",
       "1       645   2000-01-06          3          8         36         44   \n",
       "2       646   2000-01-08         19         43         52         59   \n",
       "3       647   2000-01-11         24         31         39         60   \n",
       "4       648   2000-01-13         29         38         71         73   \n",
       "\n",
       "   5ª Dezena  \n",
       "0         74  \n",
       "1         63  \n",
       "2         74  \n",
       "3         72  \n",
       "4         78  "
      ]
     },
     "execution_count": 15,
     "metadata": {},
     "output_type": "execute_result"
    }
   ],
   "source": [
    "df2.head()"
   ]
  },
  {
   "cell_type": "code",
   "execution_count": 16,
   "metadata": {},
   "outputs": [],
   "source": [
    "df2['dia']        = df2['Data Sorteio'].dt.day\n",
    "df2['mes']        = df2['Data Sorteio'].dt.month\n",
    "df2['ano']        = df2['Data Sorteio'].dt.year\n",
    "df2['semana_ano'] = df2['Data Sorteio'].dt.isocalendar().week\n",
    "df2['dia_semana'] = df2['Data Sorteio'].dt.dayofweek\n",
    "\n",
    "#applying leads and lags by shifting dataframe column up and down respectively\n",
    "#df2['1ª Dez Lag'] = df2['1ª Dezena'].shift(1)\n",
    "#df2['2ª Dez Lag'] = df2['2ª Dezena'].shift(1)\n",
    "#df2['3ª Dez Lag'] = df2['3ª Dezena'].shift(1)\n",
    "#df2['4ª Dez Lag'] = df2['4ª Dezena'].shift(1)\n",
    "#df2['5ª Dez Lag'] = df2['5ª Dezena'].shift(1)"
   ]
  },
  {
   "cell_type": "code",
   "execution_count": 17,
   "metadata": {},
   "outputs": [
    {
     "data": {
      "text/plain": [
       "<Axes: xlabel='Data Sorteio'>"
      ]
     },
     "execution_count": 17,
     "metadata": {},
     "output_type": "execute_result"
    },
    {
     "data": {
      "image/png": "[encoded data removed]",
      "text/plain": [
       "<Figure size 640x480 with 1 Axes>"
      ]
     },
     "metadata": {},
     "output_type": "display_data"
    }
   ],
   "source": [
    "import matplotlib.pyplot as plt\n",
    "df2.plot( 'Data Sorteio' , '1ª Dezena' )"
   ]
  },
  {
   "cell_type": "code",
   "execution_count": 18,
   "metadata": {},
   "outputs": [],
   "source": [
    "import calendar\n",
    "import jewishcalendar"
   ]
  },
  {
   "cell_type": "code",
   "execution_count": 19,
   "metadata": {},
   "outputs": [],
   "source": [
    "def getJewishMonthName(month, year):\n",
    "  if month == 1:\n",
    "    return \"Nisan\"\n",
    "  elif month == 2:\n",
    "    return \"Iyyar\"\n",
    "  elif month == 3:\n",
    "    return \"Sivan\"\n",
    "  elif month == 4:\n",
    "    return \"Tammuz\"\n",
    "  elif month == 5:\n",
    "    return \"Av\"\n",
    "  elif month == 6:\n",
    "    return \"Elul\"\n",
    "  elif month == 7:\n",
    "    return \"Tishri\"\n",
    "  elif month == 8:\n",
    "    return \"Heshvan\"\n",
    "  elif month == 9:\n",
    "    return \"Kislev\"\n",
    "  elif month == 10:\n",
    "    return \"Teveth\"\n",
    "  elif month == 11:\n",
    "    return \"Shevat\"\n",
    "  elif month == 12:\n",
    "    if jewishcalendar.hebrew_leap(year):\n",
    "      return \"Adar I\"\n",
    "    else:\n",
    "      return \"Adar\"\n",
    "    \n",
    "  elif month == 13:\n",
    "    return \"Adar II\""
   ]
  },
  {
   "cell_type": "code",
   "execution_count": 20,
   "metadata": {},
   "outputs": [],
   "source": [
    "absdate = jewishcalendar.gregorian_to_absdate(2023, 1, 1)\n",
    "hebYear, hebMonth, hebDay = jewishcalendar.absdate_to_hebrew(absdate)"
   ]
  },
  {
   "cell_type": "code",
   "execution_count": 21,
   "metadata": {},
   "outputs": [
    {
     "name": "stdout",
     "output_type": "stream",
     "text": [
      "5783 10 8\n"
     ]
    }
   ],
   "source": [
    "print(hebYear, hebMonth, hebDay)"
   ]
  },
  {
   "cell_type": "code",
   "execution_count": 22,
   "metadata": {},
   "outputs": [],
   "source": [
    "#df2['absdate'] = jewishcalendar.gregorian_to_absdate(df2['ano'], df2['mes'], df2['dia'])\n",
    "#df2['hebYear'], df2['hebMonth'], df2['hebDay'] = jewishcalendar.absdate_to_hebrew(df2['absdate'] )\n",
    "#df2['absdate'] = df2[['ano','mes','dia']].applymap(jewishcalendar.gregorian_to_absdate, args=(1,2) ) "
   ]
  },
  {
   "cell_type": "code",
   "execution_count": 23,
   "metadata": {},
   "outputs": [],
   "source": [
    "hebYear  = [] \n",
    "hebMonth = [] \n",
    "hebDay  = [] \n",
    "\n",
    "for index, row in df2[['ano','mes','dia']].iterrows():\n",
    "    valor = jewishcalendar.gregorian_to_absdate(row['ano'],row['mes'],row['dia'])\n",
    "    df2.at[index, 'hebYear'], df2.at[index, 'hebMonth'] , df2.at[index, 'hebDay'] = jewishcalendar.absdate_to_hebrew(valor)\n"
   ]
  },
  {
   "cell_type": "code",
   "execution_count": 24,
   "metadata": {},
   "outputs": [],
   "source": [
    "#df3 = pd.DataFrame( [hebYear,hebMonth,hebDay], df2.index, ['hebYear','hebMonth','hebDay'])"
   ]
  },
  {
   "cell_type": "code",
   "execution_count": 25,
   "metadata": {},
   "outputs": [
    {
     "data": {
      "text/html": [
       "<div>\n",
       "<style scoped>\n",
       "    .dataframe tbody tr th:only-of-type {\n",
       "        vertical-align: middle;\n",
       "    }\n",
       "\n",
       "    .dataframe tbody tr th {\n",
       "        vertical-align: top;\n",
       "    }\n",
       "\n",
       "    .dataframe thead th {\n",
       "        text-align: right;\n",
       "    }\n",
       "</style>\n",
       "<table border=\"1\" class=\"dataframe\">\n",
       "  <thead>\n",
       "    <tr style=\"text-align: right;\">\n",
       "      <th></th>\n",
       "      <th>Concurso</th>\n",
       "      <th>Data Sorteio</th>\n",
       "      <th>1ª Dezena</th>\n",
       "      <th>2ª Dezena</th>\n",
       "      <th>3ª Dezena</th>\n",
       "      <th>4ª Dezena</th>\n",
       "      <th>5ª Dezena</th>\n",
       "      <th>dia</th>\n",
       "      <th>mes</th>\n",
       "      <th>ano</th>\n",
       "      <th>semana_ano</th>\n",
       "      <th>dia_semana</th>\n",
       "      <th>hebYear</th>\n",
       "      <th>hebMonth</th>\n",
       "      <th>hebDay</th>\n",
       "    </tr>\n",
       "  </thead>\n",
       "  <tbody>\n",
       "    <tr>\n",
       "      <th>0</th>\n",
       "      <td>644</td>\n",
       "      <td>2000-01-04</td>\n",
       "      <td>2</td>\n",
       "      <td>15</td>\n",
       "      <td>22</td>\n",
       "      <td>25</td>\n",
       "      <td>74</td>\n",
       "      <td>4</td>\n",
       "      <td>1</td>\n",
       "      <td>2000</td>\n",
       "      <td>1</td>\n",
       "      <td>1</td>\n",
       "      <td>5760.0</td>\n",
       "      <td>10.0</td>\n",
       "      <td>26.0</td>\n",
       "    </tr>\n",
       "    <tr>\n",
       "      <th>1</th>\n",
       "      <td>645</td>\n",
       "      <td>2000-01-06</td>\n",
       "      <td>3</td>\n",
       "      <td>8</td>\n",
       "      <td>36</td>\n",
       "      <td>44</td>\n",
       "      <td>63</td>\n",
       "      <td>6</td>\n",
       "      <td>1</td>\n",
       "      <td>2000</td>\n",
       "      <td>1</td>\n",
       "      <td>3</td>\n",
       "      <td>5760.0</td>\n",
       "      <td>10.0</td>\n",
       "      <td>28.0</td>\n",
       "    </tr>\n",
       "    <tr>\n",
       "      <th>2</th>\n",
       "      <td>646</td>\n",
       "      <td>2000-01-08</td>\n",
       "      <td>19</td>\n",
       "      <td>43</td>\n",
       "      <td>52</td>\n",
       "      <td>59</td>\n",
       "      <td>74</td>\n",
       "      <td>8</td>\n",
       "      <td>1</td>\n",
       "      <td>2000</td>\n",
       "      <td>1</td>\n",
       "      <td>5</td>\n",
       "      <td>5760.0</td>\n",
       "      <td>11.0</td>\n",
       "      <td>1.0</td>\n",
       "    </tr>\n",
       "    <tr>\n",
       "      <th>3</th>\n",
       "      <td>647</td>\n",
       "      <td>2000-01-11</td>\n",
       "      <td>24</td>\n",
       "      <td>31</td>\n",
       "      <td>39</td>\n",
       "      <td>60</td>\n",
       "      <td>72</td>\n",
       "      <td>11</td>\n",
       "      <td>1</td>\n",
       "      <td>2000</td>\n",
       "      <td>2</td>\n",
       "      <td>1</td>\n",
       "      <td>5760.0</td>\n",
       "      <td>11.0</td>\n",
       "      <td>4.0</td>\n",
       "    </tr>\n",
       "    <tr>\n",
       "      <th>4</th>\n",
       "      <td>648</td>\n",
       "      <td>2000-01-13</td>\n",
       "      <td>29</td>\n",
       "      <td>38</td>\n",
       "      <td>71</td>\n",
       "      <td>73</td>\n",
       "      <td>78</td>\n",
       "      <td>13</td>\n",
       "      <td>1</td>\n",
       "      <td>2000</td>\n",
       "      <td>2</td>\n",
       "      <td>3</td>\n",
       "      <td>5760.0</td>\n",
       "      <td>11.0</td>\n",
       "      <td>6.0</td>\n",
       "    </tr>\n",
       "  </tbody>\n",
       "</table>\n",
       "</div>"
      ],
      "text/plain": [
       "   Concurso Data Sorteio  1ª Dezena  2ª Dezena  3ª Dezena  4ª Dezena  \\\n",
       "0       644   2000-01-04          2         15         22         25   \n",
       "1       645   2000-01-06          3          8         36         44   \n",
       "2       646   2000-01-08         19         43         52         59   \n",
       "3       647   2000-01-11         24         31         39         60   \n",
       "4       648   2000-01-13         29         38         71         73   \n",
       "\n",
       "   5ª Dezena  dia  mes   ano  semana_ano  dia_semana  hebYear  hebMonth  \\\n",
       "0         74    4    1  2000           1           1   5760.0      10.0   \n",
       "1         63    6    1  2000           1           3   5760.0      10.0   \n",
       "2         74    8    1  2000           1           5   5760.0      11.0   \n",
       "3         72   11    1  2000           2           1   5760.0      11.0   \n",
       "4         78   13    1  2000           2           3   5760.0      11.0   \n",
       "\n",
       "   hebDay  \n",
       "0    26.0  \n",
       "1    28.0  \n",
       "2     1.0  \n",
       "3     4.0  \n",
       "4     6.0  "
      ]
     },
     "execution_count": 25,
     "metadata": {},
     "output_type": "execute_result"
    }
   ],
   "source": [
    "df2.head()"
   ]
  },
  {
   "cell_type": "code",
   "execution_count": 84,
   "metadata": {},
   "outputs": [],
   "source": [
    "#df2 = quina2[['Concurso','Data Sorteio']].merge(df, on='Concurso')\n",
    "#df.rename(columns={'index':'Concurso'},inplace=True)\n",
    "#df.reset_index(inplace=True)"
   ]
  },
  {
   "cell_type": "code",
   "execution_count": 101,
   "metadata": {},
   "outputs": [
    {
     "data": {
      "text/html": [
       "<div>\n",
       "<style scoped>\n",
       "    .dataframe tbody tr th:only-of-type {\n",
       "        vertical-align: middle;\n",
       "    }\n",
       "\n",
       "    .dataframe tbody tr th {\n",
       "        vertical-align: top;\n",
       "    }\n",
       "\n",
       "    .dataframe thead th {\n",
       "        text-align: right;\n",
       "    }\n",
       "</style>\n",
       "<table border=\"1\" class=\"dataframe\">\n",
       "  <thead>\n",
       "    <tr style=\"text-align: right;\">\n",
       "      <th></th>\n",
       "      <th>hebMonth</th>\n",
       "    </tr>\n",
       "    <tr>\n",
       "      <th>1ª Dezena</th>\n",
       "      <th></th>\n",
       "    </tr>\n",
       "  </thead>\n",
       "  <tbody>\n",
       "    <tr>\n",
       "      <th>4</th>\n",
       "      <td>40</td>\n",
       "    </tr>\n",
       "    <tr>\n",
       "      <th>5</th>\n",
       "      <td>38</td>\n",
       "    </tr>\n",
       "    <tr>\n",
       "      <th>2</th>\n",
       "      <td>35</td>\n",
       "    </tr>\n",
       "    <tr>\n",
       "      <th>3</th>\n",
       "      <td>34</td>\n",
       "    </tr>\n",
       "    <tr>\n",
       "      <th>1</th>\n",
       "      <td>31</td>\n",
       "    </tr>\n",
       "  </tbody>\n",
       "</table>\n",
       "</div>"
      ],
      "text/plain": [
       "           hebMonth\n",
       "1ª Dezena          \n",
       "4                40\n",
       "5                38\n",
       "2                35\n",
       "3                34\n",
       "1                31"
      ]
     },
     "execution_count": 101,
     "metadata": {},
     "output_type": "execute_result"
    }
   ],
   "source": [
    "df2[['1ª Dezena','hebMonth']][(df2['hebMonth']==5) | (df2['hebDay']==5)].groupby('1ª Dezena').count().sort_values(by='hebMonth',ascending=False).head()"
   ]
  },
  {
   "cell_type": "code",
   "execution_count": 97,
   "metadata": {},
   "outputs": [
    {
     "data": {
      "text/html": [
       "<div>\n",
       "<style scoped>\n",
       "    .dataframe tbody tr th:only-of-type {\n",
       "        vertical-align: middle;\n",
       "    }\n",
       "\n",
       "    .dataframe tbody tr th {\n",
       "        vertical-align: top;\n",
       "    }\n",
       "\n",
       "    .dataframe thead th {\n",
       "        text-align: right;\n",
       "    }\n",
       "</style>\n",
       "<table border=\"1\" class=\"dataframe\">\n",
       "  <thead>\n",
       "    <tr style=\"text-align: right;\">\n",
       "      <th></th>\n",
       "      <th>hebMonth</th>\n",
       "    </tr>\n",
       "    <tr>\n",
       "      <th>2ª Dezena</th>\n",
       "      <th></th>\n",
       "    </tr>\n",
       "  </thead>\n",
       "  <tbody>\n",
       "    <tr>\n",
       "      <th>16</th>\n",
       "      <td>25</td>\n",
       "    </tr>\n",
       "    <tr>\n",
       "      <th>13</th>\n",
       "      <td>21</td>\n",
       "    </tr>\n",
       "    <tr>\n",
       "      <th>19</th>\n",
       "      <td>20</td>\n",
       "    </tr>\n",
       "    <tr>\n",
       "      <th>17</th>\n",
       "      <td>20</td>\n",
       "    </tr>\n",
       "    <tr>\n",
       "      <th>15</th>\n",
       "      <td>19</td>\n",
       "    </tr>\n",
       "  </tbody>\n",
       "</table>\n",
       "</div>"
      ],
      "text/plain": [
       "           hebMonth\n",
       "2ª Dezena          \n",
       "16               25\n",
       "13               21\n",
       "19               20\n",
       "17               20\n",
       "15               19"
      ]
     },
     "execution_count": 97,
     "metadata": {},
     "output_type": "execute_result"
    }
   ],
   "source": [
    "df2[['2ª Dezena','hebMonth']][(df2['hebMonth']==5) | (df2['hebDay']==5)].groupby('2ª Dezena').count().sort_values(by='hebMonth',ascending=False).head()"
   ]
  },
  {
   "cell_type": "code",
   "execution_count": 98,
   "metadata": {},
   "outputs": [
    {
     "data": {
      "text/html": [
       "<div>\n",
       "<style scoped>\n",
       "    .dataframe tbody tr th:only-of-type {\n",
       "        vertical-align: middle;\n",
       "    }\n",
       "\n",
       "    .dataframe tbody tr th {\n",
       "        vertical-align: top;\n",
       "    }\n",
       "\n",
       "    .dataframe thead th {\n",
       "        text-align: right;\n",
       "    }\n",
       "</style>\n",
       "<table border=\"1\" class=\"dataframe\">\n",
       "  <thead>\n",
       "    <tr style=\"text-align: right;\">\n",
       "      <th></th>\n",
       "      <th>hebMonth</th>\n",
       "    </tr>\n",
       "    <tr>\n",
       "      <th>3ª Dezena</th>\n",
       "      <th></th>\n",
       "    </tr>\n",
       "  </thead>\n",
       "  <tbody>\n",
       "    <tr>\n",
       "      <th>44</th>\n",
       "      <td>24</td>\n",
       "    </tr>\n",
       "    <tr>\n",
       "      <th>42</th>\n",
       "      <td>22</td>\n",
       "    </tr>\n",
       "    <tr>\n",
       "      <th>36</th>\n",
       "      <td>21</td>\n",
       "    </tr>\n",
       "    <tr>\n",
       "      <th>46</th>\n",
       "      <td>20</td>\n",
       "    </tr>\n",
       "    <tr>\n",
       "      <th>38</th>\n",
       "      <td>18</td>\n",
       "    </tr>\n",
       "  </tbody>\n",
       "</table>\n",
       "</div>"
      ],
      "text/plain": [
       "           hebMonth\n",
       "3ª Dezena          \n",
       "44               24\n",
       "42               22\n",
       "36               21\n",
       "46               20\n",
       "38               18"
      ]
     },
     "execution_count": 98,
     "metadata": {},
     "output_type": "execute_result"
    }
   ],
   "source": [
    "df2[['3ª Dezena','hebMonth']][(df2['hebMonth']==5) | (df2['hebDay']==5)].groupby('3ª Dezena').count().sort_values(by='hebMonth',ascending=False).head()"
   ]
  },
  {
   "cell_type": "code",
   "execution_count": 99,
   "metadata": {},
   "outputs": [
    {
     "data": {
      "text/html": [
       "<div>\n",
       "<style scoped>\n",
       "    .dataframe tbody tr th:only-of-type {\n",
       "        vertical-align: middle;\n",
       "    }\n",
       "\n",
       "    .dataframe tbody tr th {\n",
       "        vertical-align: top;\n",
       "    }\n",
       "\n",
       "    .dataframe thead th {\n",
       "        text-align: right;\n",
       "    }\n",
       "</style>\n",
       "<table border=\"1\" class=\"dataframe\">\n",
       "  <thead>\n",
       "    <tr style=\"text-align: right;\">\n",
       "      <th></th>\n",
       "      <th>hebMonth</th>\n",
       "    </tr>\n",
       "    <tr>\n",
       "      <th>4ª Dezena</th>\n",
       "      <th></th>\n",
       "    </tr>\n",
       "  </thead>\n",
       "  <tbody>\n",
       "    <tr>\n",
       "      <th>55</th>\n",
       "      <td>25</td>\n",
       "    </tr>\n",
       "    <tr>\n",
       "      <th>54</th>\n",
       "      <td>24</td>\n",
       "    </tr>\n",
       "    <tr>\n",
       "      <th>66</th>\n",
       "      <td>20</td>\n",
       "    </tr>\n",
       "    <tr>\n",
       "      <th>64</th>\n",
       "      <td>20</td>\n",
       "    </tr>\n",
       "    <tr>\n",
       "      <th>49</th>\n",
       "      <td>19</td>\n",
       "    </tr>\n",
       "  </tbody>\n",
       "</table>\n",
       "</div>"
      ],
      "text/plain": [
       "           hebMonth\n",
       "4ª Dezena          \n",
       "55               25\n",
       "54               24\n",
       "66               20\n",
       "64               20\n",
       "49               19"
      ]
     },
     "execution_count": 99,
     "metadata": {},
     "output_type": "execute_result"
    }
   ],
   "source": [
    "df2[['4ª Dezena','hebMonth']][(df2['hebMonth']==5) | (df2['hebDay']==5)].groupby('4ª Dezena').count().sort_values(by='hebMonth',ascending=False).head()"
   ]
  },
  {
   "cell_type": "code",
   "execution_count": 100,
   "metadata": {},
   "outputs": [
    {
     "data": {
      "text/html": [
       "<div>\n",
       "<style scoped>\n",
       "    .dataframe tbody tr th:only-of-type {\n",
       "        vertical-align: middle;\n",
       "    }\n",
       "\n",
       "    .dataframe tbody tr th {\n",
       "        vertical-align: top;\n",
       "    }\n",
       "\n",
       "    .dataframe thead th {\n",
       "        text-align: right;\n",
       "    }\n",
       "</style>\n",
       "<table border=\"1\" class=\"dataframe\">\n",
       "  <thead>\n",
       "    <tr style=\"text-align: right;\">\n",
       "      <th></th>\n",
       "      <th>hebMonth</th>\n",
       "    </tr>\n",
       "    <tr>\n",
       "      <th>5ª Dezena</th>\n",
       "      <th></th>\n",
       "    </tr>\n",
       "  </thead>\n",
       "  <tbody>\n",
       "    <tr>\n",
       "      <th>80</th>\n",
       "      <td>40</td>\n",
       "    </tr>\n",
       "    <tr>\n",
       "      <th>74</th>\n",
       "      <td>37</td>\n",
       "    </tr>\n",
       "    <tr>\n",
       "      <th>79</th>\n",
       "      <td>36</td>\n",
       "    </tr>\n",
       "    <tr>\n",
       "      <th>75</th>\n",
       "      <td>33</td>\n",
       "    </tr>\n",
       "    <tr>\n",
       "      <th>72</th>\n",
       "      <td>32</td>\n",
       "    </tr>\n",
       "  </tbody>\n",
       "</table>\n",
       "</div>"
      ],
      "text/plain": [
       "           hebMonth\n",
       "5ª Dezena          \n",
       "80               40\n",
       "74               37\n",
       "79               36\n",
       "75               33\n",
       "72               32"
      ]
     },
     "execution_count": 100,
     "metadata": {},
     "output_type": "execute_result"
    }
   ],
   "source": [
    "df2[['5ª Dezena','hebMonth']][(df2['hebMonth']==5) | (df2['hebDay']==5)].groupby('5ª Dezena').count().sort_values(by='hebMonth',ascending=False).head()"
   ]
  },
  {
   "cell_type": "code",
   "execution_count": 102,
   "metadata": {},
   "outputs": [
    {
     "data": {
      "text/plain": [
       "23"
      ]
     },
     "execution_count": 102,
     "metadata": {},
     "output_type": "execute_result"
    }
   ],
   "source": [
    "5+7+8+3"
   ]
  }
 ],
 "metadata": {
  "kernelspec": {
   "display_name": "Python 3",
   "language": "python",
   "name": "python3"
  },
  "language_info": {
   "codemirror_mode": {
    "name": "ipython",
    "version": 3
   },
   "file_extension": ".py",
   "mimetype": "text/x-python",
   "name": "python",
   "nbconvert_exporter": "python",
   "pygments_lexer": "ipython3",
   "version": "3.11.2"
  },
  "orig_nbformat": 4
 },
 "nbformat": 4,
 "nbformat_minor": 2
}
