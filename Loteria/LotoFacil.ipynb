{
 "cells": [
  {
   "cell_type": "code",
   "execution_count": 3,
   "metadata": {},
   "outputs": [
    {
     "name": "stdout",
     "output_type": "stream",
     "text": [
      "CPU times: total: 4.61 s\n",
      "Wall time: 7.88 s\n"
     ]
    }
   ],
   "source": [
    "%%time\n",
    "import os\n",
    "import sys\n",
    "import math\n",
    "import pandas as pd\n",
    "import numpy as np\n",
    "import matplotlib.pyplot as plt\n",
    "import seaborn as sns\n",
    "from sklearn.cluster import KMeans"
   ]
  },
  {
   "cell_type": "code",
   "execution_count": 4,
   "metadata": {},
   "outputs": [
    {
     "name": "stdout",
     "output_type": "stream",
     "text": [
      "CPU times: total: 1.3 s\n",
      "Wall time: 1.43 s\n"
     ]
    }
   ],
   "source": [
    "%%time\n",
    "facil = pd.read_excel(\"Lotofacil2.xlsx\")"
   ]
  },
  {
   "cell_type": "code",
   "execution_count": 5,
   "metadata": {},
   "outputs": [
    {
     "data": {
      "text/plain": [
       "Concurso                                                  int64\n",
       "Data Sorteio                                             object\n",
       "Bola1                                                     int64\n",
       "Bola2                                                     int64\n",
       "Bola3                                                     int64\n",
       "Bola4                                                     int64\n",
       "Bola5                                                     int64\n",
       "Bola6                                                     int64\n",
       "Bola7                                                     int64\n",
       "Bola8                                                     int64\n",
       "Bola9                                                     int64\n",
       "Bola10                                                    int64\n",
       "Bola11                                                    int64\n",
       "Bola12                                                    int64\n",
       "Bola13                                                    int64\n",
       "Bola14                                                    int64\n",
       "Bola15                                                    int64\n",
       "Ganhadores 15 acertos                                     int64\n",
       "Cidade / UF                                              object\n",
       "Rateio 15 acertos                                        object\n",
       "Ganhadores 14 acertos                                     int64\n",
       "Rateio 14 acertos                                        object\n",
       "Ganhadores 13 acertos                                     int64\n",
       "Rateio 13 acertos                                        object\n",
       "Ganhadores 12 acertos                                     int64\n",
       "Rateio 12 acertos                                        object\n",
       "Ganhadores 11 acertos                                     int64\n",
       "Rateio 11 acertos                                        object\n",
       "Acumulado 15 acertos                                     object\n",
       "Arrecadacao Total                                        object\n",
       "Estimativa Prêmio                                        object\n",
       "Acumulado sorteio especial Lotofácil da Independência    object\n",
       "Observação                                               object\n",
       "dtype: object"
      ]
     },
     "execution_count": 5,
     "metadata": {},
     "output_type": "execute_result"
    }
   ],
   "source": [
    "facil.dtypes"
   ]
  },
  {
   "cell_type": "code",
   "execution_count": 15,
   "metadata": {},
   "outputs": [],
   "source": [
    "facil['Data Sorteio'] = pd.to_datetime(facil['Data Sorteio'], infer_datetime_format=True)"
   ]
  },
  {
   "cell_type": "code",
   "execution_count": 6,
   "metadata": {},
   "outputs": [],
   "source": [
    "facil2 = facil[(facil['Data Sorteio']>='2023-06-01') ]"
   ]
  },
  {
   "cell_type": "code",
   "execution_count": 51,
   "metadata": {},
   "outputs": [],
   "source": [
    "colunas = ['Data Sorteio','Concurso','Bola1','Bola2','Bola3','Bola4','Bola5','Bola6','Bola7',\n",
    "           'Bola8','Bola9','Bola10','Bola11','Bola12','Bola13','Bola14','Bola15']"
   ]
  },
  {
   "cell_type": "code",
   "execution_count": 52,
   "metadata": {},
   "outputs": [
    {
     "data": {
      "text/plain": [
       "['Data Sorteio',\n",
       " 'Concurso',\n",
       " 'Bola1',\n",
       " 'Bola2',\n",
       " 'Bola3',\n",
       " 'Bola4',\n",
       " 'Bola5',\n",
       " 'Bola6',\n",
       " 'Bola7',\n",
       " 'Bola8',\n",
       " 'Bola9',\n",
       " 'Bola10',\n",
       " 'Bola11',\n",
       " 'Bola12',\n",
       " 'Bola13',\n",
       " 'Bola14',\n",
       " 'Bola15']"
      ]
     },
     "execution_count": 52,
     "metadata": {},
     "output_type": "execute_result"
    }
   ],
   "source": [
    "colunas"
   ]
  },
  {
   "cell_type": "code",
   "execution_count": 53,
   "metadata": {},
   "outputs": [
    {
     "data": {
      "text/html": [
       "<div>\n",
       "<style scoped>\n",
       "    .dataframe tbody tr th:only-of-type {\n",
       "        vertical-align: middle;\n",
       "    }\n",
       "\n",
       "    .dataframe tbody tr th {\n",
       "        vertical-align: top;\n",
       "    }\n",
       "\n",
       "    .dataframe thead th {\n",
       "        text-align: right;\n",
       "    }\n",
       "</style>\n",
       "<table border=\"1\" class=\"dataframe\">\n",
       "  <thead>\n",
       "    <tr style=\"text-align: right;\">\n",
       "      <th></th>\n",
       "      <th>Data Sorteio</th>\n",
       "      <th>Concurso</th>\n",
       "      <th>Bola1</th>\n",
       "      <th>Bola2</th>\n",
       "      <th>Bola3</th>\n",
       "      <th>Bola4</th>\n",
       "      <th>Bola5</th>\n",
       "      <th>Bola6</th>\n",
       "      <th>Bola7</th>\n",
       "      <th>Bola8</th>\n",
       "      <th>Bola9</th>\n",
       "      <th>Bola10</th>\n",
       "      <th>Bola11</th>\n",
       "      <th>Bola12</th>\n",
       "      <th>Bola13</th>\n",
       "      <th>Bola14</th>\n",
       "      <th>Bola15</th>\n",
       "    </tr>\n",
       "  </thead>\n",
       "  <tbody>\n",
       "    <tr>\n",
       "      <th>0</th>\n",
       "      <td>29/09/2003</td>\n",
       "      <td>1</td>\n",
       "      <td>2</td>\n",
       "      <td>3</td>\n",
       "      <td>5</td>\n",
       "      <td>6</td>\n",
       "      <td>9</td>\n",
       "      <td>10</td>\n",
       "      <td>11</td>\n",
       "      <td>13</td>\n",
       "      <td>14</td>\n",
       "      <td>16</td>\n",
       "      <td>18</td>\n",
       "      <td>20</td>\n",
       "      <td>23</td>\n",
       "      <td>24</td>\n",
       "      <td>25</td>\n",
       "    </tr>\n",
       "    <tr>\n",
       "      <th>4</th>\n",
       "      <td>27/10/2003</td>\n",
       "      <td>5</td>\n",
       "      <td>1</td>\n",
       "      <td>2</td>\n",
       "      <td>4</td>\n",
       "      <td>8</td>\n",
       "      <td>9</td>\n",
       "      <td>11</td>\n",
       "      <td>12</td>\n",
       "      <td>13</td>\n",
       "      <td>15</td>\n",
       "      <td>16</td>\n",
       "      <td>19</td>\n",
       "      <td>20</td>\n",
       "      <td>23</td>\n",
       "      <td>24</td>\n",
       "      <td>25</td>\n",
       "    </tr>\n",
       "    <tr>\n",
       "      <th>8</th>\n",
       "      <td>24/11/2003</td>\n",
       "      <td>9</td>\n",
       "      <td>3</td>\n",
       "      <td>4</td>\n",
       "      <td>5</td>\n",
       "      <td>9</td>\n",
       "      <td>10</td>\n",
       "      <td>11</td>\n",
       "      <td>13</td>\n",
       "      <td>15</td>\n",
       "      <td>16</td>\n",
       "      <td>17</td>\n",
       "      <td>19</td>\n",
       "      <td>20</td>\n",
       "      <td>21</td>\n",
       "      <td>24</td>\n",
       "      <td>25</td>\n",
       "    </tr>\n",
       "    <tr>\n",
       "      <th>12</th>\n",
       "      <td>22/12/2003</td>\n",
       "      <td>13</td>\n",
       "      <td>3</td>\n",
       "      <td>5</td>\n",
       "      <td>6</td>\n",
       "      <td>7</td>\n",
       "      <td>8</td>\n",
       "      <td>9</td>\n",
       "      <td>10</td>\n",
       "      <td>11</td>\n",
       "      <td>13</td>\n",
       "      <td>14</td>\n",
       "      <td>15</td>\n",
       "      <td>16</td>\n",
       "      <td>17</td>\n",
       "      <td>19</td>\n",
       "      <td>23</td>\n",
       "    </tr>\n",
       "    <tr>\n",
       "      <th>13</th>\n",
       "      <td>29/12/2003</td>\n",
       "      <td>14</td>\n",
       "      <td>1</td>\n",
       "      <td>2</td>\n",
       "      <td>5</td>\n",
       "      <td>6</td>\n",
       "      <td>7</td>\n",
       "      <td>9</td>\n",
       "      <td>13</td>\n",
       "      <td>14</td>\n",
       "      <td>15</td>\n",
       "      <td>18</td>\n",
       "      <td>19</td>\n",
       "      <td>20</td>\n",
       "      <td>21</td>\n",
       "      <td>23</td>\n",
       "      <td>25</td>\n",
       "    </tr>\n",
       "  </tbody>\n",
       "</table>\n",
       "</div>"
      ],
      "text/plain": [
       "   Data Sorteio  Concurso  Bola1  Bola2  Bola3  Bola4  Bola5  Bola6  Bola7  \\\n",
       "0    29/09/2003         1      2      3      5      6      9     10     11   \n",
       "4    27/10/2003         5      1      2      4      8      9     11     12   \n",
       "8    24/11/2003         9      3      4      5      9     10     11     13   \n",
       "12   22/12/2003        13      3      5      6      7      8      9     10   \n",
       "13   29/12/2003        14      1      2      5      6      7      9     13   \n",
       "\n",
       "    Bola8  Bola9  Bola10  Bola11  Bola12  Bola13  Bola14  Bola15  \n",
       "0      13     14      16      18      20      23      24      25  \n",
       "4      13     15      16      19      20      23      24      25  \n",
       "8      15     16      17      19      20      21      24      25  \n",
       "12     11     13      14      15      16      17      19      23  \n",
       "13     14     15      18      19      20      21      23      25  "
      ]
     },
     "execution_count": 53,
     "metadata": {},
     "output_type": "execute_result"
    }
   ],
   "source": [
    "facil2[colunas].head()"
   ]
  },
  {
   "cell_type": "code",
   "execution_count": 54,
   "metadata": {},
   "outputs": [
    {
     "name": "stdout",
     "output_type": "stream",
     "text": [
      "(2899, 33) (999, 33)\n"
     ]
    }
   ],
   "source": [
    "print(facil.shape , facil2.shape)\n"
   ]
  },
  {
   "cell_type": "code",
   "execution_count": 55,
   "metadata": {},
   "outputs": [
    {
     "name": "stdout",
     "output_type": "stream",
     "text": [
      "Bola1\n",
      "Bola2\n",
      "Bola3\n",
      "Bola4\n",
      "Bola5\n",
      "Bola6\n",
      "Bola7\n",
      "Bola8\n",
      "Bola9\n",
      "Bola10\n",
      "Bola11\n",
      "Bola12\n",
      "Bola13\n",
      "Bola14\n",
      "Bola15\n",
      "Bola16\n"
     ]
    }
   ],
   "source": [
    "for bolas in range(1,17):\n",
    "    print('Bola{0}'.format(bolas))"
   ]
  },
  {
   "cell_type": "code",
   "execution_count": 56,
   "metadata": {},
   "outputs": [
    {
     "data": {
      "text/html": [
       "<div>\n",
       "<style scoped>\n",
       "    .dataframe tbody tr th:only-of-type {\n",
       "        vertical-align: middle;\n",
       "    }\n",
       "\n",
       "    .dataframe tbody tr th {\n",
       "        vertical-align: top;\n",
       "    }\n",
       "\n",
       "    .dataframe thead th {\n",
       "        text-align: right;\n",
       "    }\n",
       "</style>\n",
       "<table border=\"1\" class=\"dataframe\">\n",
       "  <thead>\n",
       "    <tr style=\"text-align: right;\">\n",
       "      <th></th>\n",
       "      <th>Concurso</th>\n",
       "    </tr>\n",
       "    <tr>\n",
       "      <th>Bola4</th>\n",
       "      <th></th>\n",
       "    </tr>\n",
       "  </thead>\n",
       "  <tbody>\n",
       "    <tr>\n",
       "      <th>5</th>\n",
       "      <td>211</td>\n",
       "    </tr>\n",
       "    <tr>\n",
       "      <th>6</th>\n",
       "      <td>207</td>\n",
       "    </tr>\n",
       "    <tr>\n",
       "      <th>7</th>\n",
       "      <td>195</td>\n",
       "    </tr>\n",
       "    <tr>\n",
       "      <th>8</th>\n",
       "      <td>139</td>\n",
       "    </tr>\n",
       "    <tr>\n",
       "      <th>4</th>\n",
       "      <td>109</td>\n",
       "    </tr>\n",
       "  </tbody>\n",
       "</table>\n",
       "</div>"
      ],
      "text/plain": [
       "       Concurso\n",
       "Bola4          \n",
       "5           211\n",
       "6           207\n",
       "7           195\n",
       "8           139\n",
       "4           109"
      ]
     },
     "execution_count": 56,
     "metadata": {},
     "output_type": "execute_result"
    }
   ],
   "source": [
    "facil2[['Concurso','Bola4']].groupby('Bola4').count().sort_values(by='Concurso',ascending=False).head()"
   ]
  },
  {
   "cell_type": "code",
   "execution_count": 68,
   "metadata": {},
   "outputs": [],
   "source": [
    "lista = []\n",
    "for bolas in range(1,16):\n",
    "    ele = facil2[['Concurso','Bola{0}'.format(bolas)]].groupby('Bola{0}'.format(bolas)\n",
    "    ).count()\n",
    "    ele.sort_values(by='Concurso',ascending=False,inplace=True)\n",
    "    ele.reset_index(inplace=True)\n",
    "    ele.rename(columns={'Bola{0}'.format(bolas):'Bola','Concurso':'Freq'},inplace=True)\n",
    "    lista.append(ele.head(1))\n"
   ]
  },
  {
   "cell_type": "code",
   "execution_count": 69,
   "metadata": {},
   "outputs": [],
   "source": [
    "#freq = pd.DataFrame(lista)\n",
    "#df = lista[0].append(lista[0], ignore_index = True)"
   ]
  },
  {
   "cell_type": "code",
   "execution_count": 70,
   "metadata": {},
   "outputs": [],
   "source": [
    "df = pd.concat(lista)"
   ]
  },
  {
   "cell_type": "code",
   "execution_count": 71,
   "metadata": {},
   "outputs": [
    {
     "data": {
      "text/html": [
       "<div>\n",
       "<style scoped>\n",
       "    .dataframe tbody tr th:only-of-type {\n",
       "        vertical-align: middle;\n",
       "    }\n",
       "\n",
       "    .dataframe tbody tr th {\n",
       "        vertical-align: top;\n",
       "    }\n",
       "\n",
       "    .dataframe thead th {\n",
       "        text-align: right;\n",
       "    }\n",
       "</style>\n",
       "<table border=\"1\" class=\"dataframe\">\n",
       "  <thead>\n",
       "    <tr style=\"text-align: right;\">\n",
       "      <th></th>\n",
       "      <th>index</th>\n",
       "      <th>Bola</th>\n",
       "      <th>Freq</th>\n",
       "    </tr>\n",
       "  </thead>\n",
       "  <tbody>\n",
       "    <tr>\n",
       "      <th>0</th>\n",
       "      <td>0</td>\n",
       "      <td>1</td>\n",
       "      <td>599</td>\n",
       "    </tr>\n",
       "    <tr>\n",
       "      <th>1</th>\n",
       "      <td>0</td>\n",
       "      <td>2</td>\n",
       "      <td>378</td>\n",
       "    </tr>\n",
       "    <tr>\n",
       "      <th>2</th>\n",
       "      <td>0</td>\n",
       "      <td>4</td>\n",
       "      <td>265</td>\n",
       "    </tr>\n",
       "    <tr>\n",
       "      <th>3</th>\n",
       "      <td>0</td>\n",
       "      <td>5</td>\n",
       "      <td>211</td>\n",
       "    </tr>\n",
       "    <tr>\n",
       "      <th>4</th>\n",
       "      <td>0</td>\n",
       "      <td>8</td>\n",
       "      <td>194</td>\n",
       "    </tr>\n",
       "    <tr>\n",
       "      <th>5</th>\n",
       "      <td>0</td>\n",
       "      <td>10</td>\n",
       "      <td>192</td>\n",
       "    </tr>\n",
       "    <tr>\n",
       "      <th>6</th>\n",
       "      <td>0</td>\n",
       "      <td>11</td>\n",
       "      <td>197</td>\n",
       "    </tr>\n",
       "    <tr>\n",
       "      <th>7</th>\n",
       "      <td>0</td>\n",
       "      <td>14</td>\n",
       "      <td>195</td>\n",
       "    </tr>\n",
       "    <tr>\n",
       "      <th>8</th>\n",
       "      <td>0</td>\n",
       "      <td>15</td>\n",
       "      <td>204</td>\n",
       "    </tr>\n",
       "    <tr>\n",
       "      <th>9</th>\n",
       "      <td>0</td>\n",
       "      <td>16</td>\n",
       "      <td>204</td>\n",
       "    </tr>\n",
       "    <tr>\n",
       "      <th>10</th>\n",
       "      <td>0</td>\n",
       "      <td>19</td>\n",
       "      <td>209</td>\n",
       "    </tr>\n",
       "    <tr>\n",
       "      <th>11</th>\n",
       "      <td>0</td>\n",
       "      <td>20</td>\n",
       "      <td>248</td>\n",
       "    </tr>\n",
       "    <tr>\n",
       "      <th>12</th>\n",
       "      <td>0</td>\n",
       "      <td>22</td>\n",
       "      <td>284</td>\n",
       "    </tr>\n",
       "    <tr>\n",
       "      <th>13</th>\n",
       "      <td>0</td>\n",
       "      <td>24</td>\n",
       "      <td>364</td>\n",
       "    </tr>\n",
       "    <tr>\n",
       "      <th>14</th>\n",
       "      <td>0</td>\n",
       "      <td>25</td>\n",
       "      <td>619</td>\n",
       "    </tr>\n",
       "  </tbody>\n",
       "</table>\n",
       "</div>"
      ],
      "text/plain": [
       "    index  Bola  Freq\n",
       "0       0     1   599\n",
       "1       0     2   378\n",
       "2       0     4   265\n",
       "3       0     5   211\n",
       "4       0     8   194\n",
       "5       0    10   192\n",
       "6       0    11   197\n",
       "7       0    14   195\n",
       "8       0    15   204\n",
       "9       0    16   204\n",
       "10      0    19   209\n",
       "11      0    20   248\n",
       "12      0    22   284\n",
       "13      0    24   364\n",
       "14      0    25   619"
      ]
     },
     "execution_count": 71,
     "metadata": {},
     "output_type": "execute_result"
    }
   ],
   "source": [
    "df.reset_index().head(33)"
   ]
  },
  {
   "cell_type": "code",
   "execution_count": 75,
   "metadata": {},
   "outputs": [],
   "source": [
    "lista = []\n",
    "for bolas in range(1,16):\n",
    "    ele = facil2[['Concurso','Bola{0}'.format(bolas)]][\n",
    "        facil2['Bola{0}'.format(bolas)].isin(~df.Bola.unique())].groupby('Bola{0}'.format(bolas)\n",
    "    ).count()\n",
    "    ele.sort_values(by='Concurso',ascending=False,inplace=True)\n",
    "    ele.reset_index(inplace=True)\n",
    "    ele.rename(columns={'Bola{0}'.format(bolas):'Bola','Concurso':'Freq'},inplace=True)\n",
    "    lista.append(ele.head(1))"
   ]
  },
  {
   "cell_type": "code",
   "execution_count": 76,
   "metadata": {},
   "outputs": [],
   "source": [
    "#facil2[['Concurso','Bola4']][facil2['Bola4'].isin(~df.Bola.unique())].groupby('Bola4').count().sort_values(by='Concurso',ascending=False).head()"
   ]
  },
  {
   "cell_type": "code",
   "execution_count": 74,
   "metadata": {},
   "outputs": [
    {
     "data": {
      "text/plain": [
       "array([ 1,  2,  4,  5,  8, 10, 11, 14, 15, 16, 19, 20, 22, 24, 25],\n",
       "      dtype=int64)"
      ]
     },
     "execution_count": 74,
     "metadata": {},
     "output_type": "execute_result"
    }
   ],
   "source": [
    "df.Bola.unique()"
   ]
  },
  {
   "cell_type": "code",
   "execution_count": 77,
   "metadata": {},
   "outputs": [],
   "source": [
    "df2 = pd.concat(lista)"
   ]
  },
  {
   "cell_type": "code",
   "execution_count": 78,
   "metadata": {},
   "outputs": [
    {
     "data": {
      "text/html": [
       "<div>\n",
       "<style scoped>\n",
       "    .dataframe tbody tr th:only-of-type {\n",
       "        vertical-align: middle;\n",
       "    }\n",
       "\n",
       "    .dataframe tbody tr th {\n",
       "        vertical-align: top;\n",
       "    }\n",
       "\n",
       "    .dataframe thead th {\n",
       "        text-align: right;\n",
       "    }\n",
       "</style>\n",
       "<table border=\"1\" class=\"dataframe\">\n",
       "  <thead>\n",
       "    <tr style=\"text-align: right;\">\n",
       "      <th></th>\n",
       "      <th>index</th>\n",
       "      <th>Bola</th>\n",
       "      <th>Freq</th>\n",
       "    </tr>\n",
       "  </thead>\n",
       "  <tbody>\n",
       "  </tbody>\n",
       "</table>\n",
       "</div>"
      ],
      "text/plain": [
       "Empty DataFrame\n",
       "Columns: [index, Bola, Freq]\n",
       "Index: []"
      ]
     },
     "execution_count": 78,
     "metadata": {},
     "output_type": "execute_result"
    }
   ],
   "source": [
    "df2.reset_index().head(33)"
   ]
  }
 ],
 "metadata": {
  "kernelspec": {
   "display_name": "Python 3",
   "language": "python",
   "name": "python3"
  },
  "language_info": {
   "codemirror_mode": {
    "name": "ipython",
    "version": 3
   },
   "file_extension": ".py",
   "mimetype": "text/x-python",
   "name": "python",
   "nbconvert_exporter": "python",
   "pygments_lexer": "ipython3",
   "version": "3.11.2"
  },
  "orig_nbformat": 4
 },
 "nbformat": 4,
 "nbformat_minor": 2
}
