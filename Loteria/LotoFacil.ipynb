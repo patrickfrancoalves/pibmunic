{
 "cells": [
  {
   "cell_type": "code",
   "execution_count": 150,
   "metadata": {},
   "outputs": [
    {
     "name": "stdout",
     "output_type": "stream",
     "text": [
      "CPU times: total: 0 ns\n",
      "Wall time: 0 ns\n"
     ]
    }
   ],
   "source": [
    "%%time\n",
    "import os\n",
    "import sys\n",
    "import math\n",
    "import pandas as pd\n",
    "import numpy as np\n",
    "import matplotlib.pyplot as plt\n",
    "import seaborn as sns\n",
    "from sklearn.cluster import KMeans\n",
    "import glob \n",
    "import openpyxl "
   ]
  },
  {
   "cell_type": "code",
   "execution_count": 163,
   "metadata": {},
   "outputs": [
    {
     "name": "stdout",
     "output_type": "stream",
     "text": [
      "CPU times: total: 1.05 s\n",
      "Wall time: 1.06 s\n"
     ]
    }
   ],
   "source": [
    "%%time\n",
    "mega = pd.read_excel(\"Mega-Sena.xlsx\")"
   ]
  },
  {
   "cell_type": "code",
   "execution_count": 168,
   "metadata": {},
   "outputs": [
    {
     "data": {
      "text/plain": [
       "Concurso                                       int64\n",
       "Data do Sorteio                               object\n",
       "Bola1                                          int64\n",
       "Bola2                                          int64\n",
       "0                                              int64\n",
       "Bola4                                          int64\n",
       "Bola5                                          int64\n",
       "Bola6                                          int64\n",
       "Ganhadores 6 acertos                           int64\n",
       "Cidade / UF                                   object\n",
       "Rateio 6 acertos                             float64\n",
       "Ganhadores 5 acertos                           int64\n",
       "Rateio 5 acertos                             float64\n",
       "Ganhadores 4 acertos                           int64\n",
       "Rateio 4 acertos                             float64\n",
       "Acumulado 6 acertos                          float64\n",
       "Arrecadação Total                            float64\n",
       "Estimativa prêmio                            float64\n",
       "Acumulado Sorteio Especial Mega da Virada    float64\n",
       "Observação                                    object\n",
       "dtype: object"
      ]
     },
     "execution_count": 168,
     "metadata": {},
     "output_type": "execute_result"
    }
   ],
   "source": [
    "mega.dtypes"
   ]
  },
  {
   "cell_type": "code",
   "execution_count": 165,
   "metadata": {},
   "outputs": [
    {
     "data": {
      "text/html": [
       "<div>\n",
       "<style scoped>\n",
       "    .dataframe tbody tr th:only-of-type {\n",
       "        vertical-align: middle;\n",
       "    }\n",
       "\n",
       "    .dataframe tbody tr th {\n",
       "        vertical-align: top;\n",
       "    }\n",
       "\n",
       "    .dataframe thead th {\n",
       "        text-align: right;\n",
       "    }\n",
       "</style>\n",
       "<table border=\"1\" class=\"dataframe\">\n",
       "  <thead>\n",
       "    <tr style=\"text-align: right;\">\n",
       "      <th></th>\n",
       "      <th>Rateio 6 acertos</th>\n",
       "      <th>Rateio 5 acertos</th>\n",
       "      <th>Rateio 4 acertos</th>\n",
       "      <th>Acumulado 6 acertos</th>\n",
       "      <th>Arrecadação Total</th>\n",
       "      <th>Estimativa prêmio</th>\n",
       "      <th>Acumulado Sorteio Especial Mega da Virada</th>\n",
       "    </tr>\n",
       "  </thead>\n",
       "  <tbody>\n",
       "    <tr>\n",
       "      <th>0</th>\n",
       "      <td>R$0,00</td>\n",
       "      <td>R$39.158,92</td>\n",
       "      <td>R$330,21</td>\n",
       "      <td>R$1.714.650,23</td>\n",
       "      <td>R$0,00</td>\n",
       "      <td>R$0,00</td>\n",
       "      <td>R$0,00</td>\n",
       "    </tr>\n",
       "    <tr>\n",
       "      <th>1</th>\n",
       "      <td>R$2.307.162,23</td>\n",
       "      <td>R$14.424,02</td>\n",
       "      <td>R$208,91</td>\n",
       "      <td>R$0,00</td>\n",
       "      <td>R$0,00</td>\n",
       "      <td>R$0,00</td>\n",
       "      <td>R$0,00</td>\n",
       "    </tr>\n",
       "    <tr>\n",
       "      <th>2</th>\n",
       "      <td>R$391.192,51</td>\n",
       "      <td>R$10.515,93</td>\n",
       "      <td>R$153,01</td>\n",
       "      <td>R$0,00</td>\n",
       "      <td>R$0,00</td>\n",
       "      <td>R$0,00</td>\n",
       "      <td>R$0,00</td>\n",
       "    </tr>\n",
       "    <tr>\n",
       "      <th>3</th>\n",
       "      <td>R$0,00</td>\n",
       "      <td>R$15.322,24</td>\n",
       "      <td>R$180,48</td>\n",
       "      <td>R$717.080,75</td>\n",
       "      <td>R$0,00</td>\n",
       "      <td>R$0,00</td>\n",
       "      <td>R$0,00</td>\n",
       "    </tr>\n",
       "    <tr>\n",
       "      <th>4</th>\n",
       "      <td>R$0,00</td>\n",
       "      <td>R$5.318,10</td>\n",
       "      <td>R$96,53</td>\n",
       "      <td>R$1.342.488,85</td>\n",
       "      <td>R$0,00</td>\n",
       "      <td>R$0,00</td>\n",
       "      <td>R$0,00</td>\n",
       "    </tr>\n",
       "  </tbody>\n",
       "</table>\n",
       "</div>"
      ],
      "text/plain": [
       "  Rateio 6 acertos Rateio 5 acertos Rateio 4 acertos Acumulado 6 acertos  \\\n",
       "0           R$0,00      R$39.158,92         R$330,21      R$1.714.650,23   \n",
       "1   R$2.307.162,23      R$14.424,02         R$208,91              R$0,00   \n",
       "2     R$391.192,51      R$10.515,93         R$153,01              R$0,00   \n",
       "3           R$0,00      R$15.322,24         R$180,48        R$717.080,75   \n",
       "4           R$0,00       R$5.318,10          R$96,53      R$1.342.488,85   \n",
       "\n",
       "  Arrecadação Total Estimativa prêmio  \\\n",
       "0            R$0,00            R$0,00   \n",
       "1            R$0,00            R$0,00   \n",
       "2            R$0,00            R$0,00   \n",
       "3            R$0,00            R$0,00   \n",
       "4            R$0,00            R$0,00   \n",
       "\n",
       "  Acumulado Sorteio Especial Mega da Virada  \n",
       "0                                    R$0,00  \n",
       "1                                    R$0,00  \n",
       "2                                    R$0,00  \n",
       "3                                    R$0,00  \n",
       "4                                    R$0,00  "
      ]
     },
     "execution_count": 165,
     "metadata": {},
     "output_type": "execute_result"
    }
   ],
   "source": [
    "mega[['Rateio 6 acertos','Rateio 5 acertos','Rateio 4 acertos','Acumulado 6 acertos',\n",
    "      'Arrecadação Total','Estimativa prêmio','Acumulado Sorteio Especial Mega da Virada']].head()"
   ]
  },
  {
   "cell_type": "code",
   "execution_count": 166,
   "metadata": {},
   "outputs": [
    {
     "name": "stderr",
     "output_type": "stream",
     "text": [
      "C:\\Users\\patrick.franco\\AppData\\Local\\Temp\\ipykernel_10304\\1400610911.py:6: FutureWarning: The default value of regex will change from True to False in a future version. In addition, single character regular expressions will *not* be treated as literal strings when regex=True.\n",
      "  mega[id] = mega[id].str.replace('.', '')\n"
     ]
    }
   ],
   "source": [
    "lista = ['Rateio 6 acertos','Rateio 5 acertos','Rateio 4 acertos','Acumulado 6 acertos',\n",
    "      'Arrecadação Total','Estimativa prêmio','Acumulado Sorteio Especial Mega da Virada']\n",
    "      \n",
    "for id in lista:\n",
    "    mega[id] = mega[id].map( lambda x: x.lstrip('R$') )\n",
    "    mega[id] = mega[id].str.replace('.', '')\n",
    "    mega[id] = mega[id].str.replace(',', '.')\n",
    "    mega[id] = mega[id].astype(float)"
   ]
  },
  {
   "cell_type": "code",
   "execution_count": 169,
   "metadata": {},
   "outputs": [
    {
     "name": "stderr",
     "output_type": "stream",
     "text": [
      "C:\\Users\\patrick.franco\\AppData\\Local\\Temp\\ipykernel_10304\\3433565119.py:1: UserWarning: Parsing dates in DD/MM/YYYY format when dayfirst=False (the default) was specified. This may lead to inconsistently parsed dates! Specify a format to ensure consistent parsing.\n",
      "  mega['Data do Sorteio'] = pd.to_datetime(mega['Data do Sorteio'], infer_datetime_format=True)\n"
     ]
    }
   ],
   "source": [
    "mega['Data do Sorteio'] = pd.to_datetime(mega['Data do Sorteio'], infer_datetime_format=True)\n",
    "mega['Ano'] = mega['Data do Sorteio'].dt.year\n",
    "mega['Mes'] = mega['Data do Sorteio'].dt.month"
   ]
  },
  {
   "cell_type": "code",
   "execution_count": 103,
   "metadata": {},
   "outputs": [
    {
     "data": {
      "text/html": [
       "<div>\n",
       "<style scoped>\n",
       "    .dataframe tbody tr th:only-of-type {\n",
       "        vertical-align: middle;\n",
       "    }\n",
       "\n",
       "    .dataframe tbody tr th {\n",
       "        vertical-align: top;\n",
       "    }\n",
       "\n",
       "    .dataframe thead th {\n",
       "        text-align: right;\n",
       "    }\n",
       "</style>\n",
       "<table border=\"1\" class=\"dataframe\">\n",
       "  <thead>\n",
       "    <tr style=\"text-align: right;\">\n",
       "      <th></th>\n",
       "      <th>Data do Sorteio</th>\n",
       "    </tr>\n",
       "    <tr>\n",
       "      <th>Ano</th>\n",
       "      <th></th>\n",
       "    </tr>\n",
       "  </thead>\n",
       "  <tbody>\n",
       "    <tr>\n",
       "      <th>1996</th>\n",
       "      <td>43</td>\n",
       "    </tr>\n",
       "    <tr>\n",
       "      <th>1997</th>\n",
       "      <td>52</td>\n",
       "    </tr>\n",
       "    <tr>\n",
       "      <th>1998</th>\n",
       "      <td>53</td>\n",
       "    </tr>\n",
       "    <tr>\n",
       "      <th>1999</th>\n",
       "      <td>52</td>\n",
       "    </tr>\n",
       "    <tr>\n",
       "      <th>2000</th>\n",
       "      <td>52</td>\n",
       "    </tr>\n",
       "    <tr>\n",
       "      <th>2001</th>\n",
       "      <td>73</td>\n",
       "    </tr>\n",
       "    <tr>\n",
       "      <th>2002</th>\n",
       "      <td>100</td>\n",
       "    </tr>\n",
       "    <tr>\n",
       "      <th>2003</th>\n",
       "      <td>100</td>\n",
       "    </tr>\n",
       "    <tr>\n",
       "      <th>2004</th>\n",
       "      <td>102</td>\n",
       "    </tr>\n",
       "    <tr>\n",
       "      <th>2005</th>\n",
       "      <td>98</td>\n",
       "    </tr>\n",
       "    <tr>\n",
       "      <th>2006</th>\n",
       "      <td>104</td>\n",
       "    </tr>\n",
       "    <tr>\n",
       "      <th>2007</th>\n",
       "      <td>102</td>\n",
       "    </tr>\n",
       "    <tr>\n",
       "      <th>2008</th>\n",
       "      <td>104</td>\n",
       "    </tr>\n",
       "    <tr>\n",
       "      <th>2009</th>\n",
       "      <td>105</td>\n",
       "    </tr>\n",
       "    <tr>\n",
       "      <th>2010</th>\n",
       "      <td>105</td>\n",
       "    </tr>\n",
       "    <tr>\n",
       "      <th>2011</th>\n",
       "      <td>105</td>\n",
       "    </tr>\n",
       "    <tr>\n",
       "      <th>2012</th>\n",
       "      <td>105</td>\n",
       "    </tr>\n",
       "    <tr>\n",
       "      <th>2013</th>\n",
       "      <td>105</td>\n",
       "    </tr>\n",
       "    <tr>\n",
       "      <th>2014</th>\n",
       "      <td>105</td>\n",
       "    </tr>\n",
       "    <tr>\n",
       "      <th>2015</th>\n",
       "      <td>110</td>\n",
       "    </tr>\n",
       "    <tr>\n",
       "      <th>2016</th>\n",
       "      <td>115</td>\n",
       "    </tr>\n",
       "    <tr>\n",
       "      <th>2017</th>\n",
       "      <td>110</td>\n",
       "    </tr>\n",
       "    <tr>\n",
       "      <th>2018</th>\n",
       "      <td>110</td>\n",
       "    </tr>\n",
       "    <tr>\n",
       "      <th>2019</th>\n",
       "      <td>110</td>\n",
       "    </tr>\n",
       "    <tr>\n",
       "      <th>2020</th>\n",
       "      <td>110</td>\n",
       "    </tr>\n",
       "    <tr>\n",
       "      <th>2021</th>\n",
       "      <td>110</td>\n",
       "    </tr>\n",
       "    <tr>\n",
       "      <th>2022</th>\n",
       "      <td>110</td>\n",
       "    </tr>\n",
       "    <tr>\n",
       "      <th>2023</th>\n",
       "      <td>120</td>\n",
       "    </tr>\n",
       "    <tr>\n",
       "      <th>2024</th>\n",
       "      <td>95</td>\n",
       "    </tr>\n",
       "  </tbody>\n",
       "</table>\n",
       "</div>"
      ],
      "text/plain": [
       "      Data do Sorteio\n",
       "Ano                  \n",
       "1996               43\n",
       "1997               52\n",
       "1998               53\n",
       "1999               52\n",
       "2000               52\n",
       "2001               73\n",
       "2002              100\n",
       "2003              100\n",
       "2004              102\n",
       "2005               98\n",
       "2006              104\n",
       "2007              102\n",
       "2008              104\n",
       "2009              105\n",
       "2010              105\n",
       "2011              105\n",
       "2012              105\n",
       "2013              105\n",
       "2014              105\n",
       "2015              110\n",
       "2016              115\n",
       "2017              110\n",
       "2018              110\n",
       "2019              110\n",
       "2020              110\n",
       "2021              110\n",
       "2022              110\n",
       "2023              120\n",
       "2024               95"
      ]
     },
     "execution_count": 103,
     "metadata": {},
     "output_type": "execute_result"
    }
   ],
   "source": [
    "mega[['Data do Sorteio','Ano']].groupby('Ano').count()"
   ]
  },
  {
   "cell_type": "code",
   "execution_count": 104,
   "metadata": {},
   "outputs": [
    {
     "data": {
      "text/html": [
       "<div>\n",
       "<style scoped>\n",
       "    .dataframe tbody tr th:only-of-type {\n",
       "        vertical-align: middle;\n",
       "    }\n",
       "\n",
       "    .dataframe tbody tr th {\n",
       "        vertical-align: top;\n",
       "    }\n",
       "\n",
       "    .dataframe thead th {\n",
       "        text-align: right;\n",
       "    }\n",
       "</style>\n",
       "<table border=\"1\" class=\"dataframe\">\n",
       "  <thead>\n",
       "    <tr style=\"text-align: right;\">\n",
       "      <th></th>\n",
       "      <th>Concurso</th>\n",
       "      <th>Data do Sorteio</th>\n",
       "      <th>Bola1</th>\n",
       "      <th>Bola2</th>\n",
       "      <th>Bola3</th>\n",
       "      <th>Bola4</th>\n",
       "      <th>Bola5</th>\n",
       "      <th>Bola6</th>\n",
       "    </tr>\n",
       "  </thead>\n",
       "  <tbody>\n",
       "    <tr>\n",
       "      <th>2760</th>\n",
       "      <td>2762</td>\n",
       "      <td>2024-08-15</td>\n",
       "      <td>1</td>\n",
       "      <td>17</td>\n",
       "      <td>30</td>\n",
       "      <td>40</td>\n",
       "      <td>48</td>\n",
       "      <td>50</td>\n",
       "    </tr>\n",
       "    <tr>\n",
       "      <th>2761</th>\n",
       "      <td>2764</td>\n",
       "      <td>2024-08-20</td>\n",
       "      <td>20</td>\n",
       "      <td>31</td>\n",
       "      <td>34</td>\n",
       "      <td>38</td>\n",
       "      <td>42</td>\n",
       "      <td>51</td>\n",
       "    </tr>\n",
       "    <tr>\n",
       "      <th>2762</th>\n",
       "      <td>2765</td>\n",
       "      <td>2024-08-22</td>\n",
       "      <td>8</td>\n",
       "      <td>12</td>\n",
       "      <td>34</td>\n",
       "      <td>39</td>\n",
       "      <td>43</td>\n",
       "      <td>47</td>\n",
       "    </tr>\n",
       "    <tr>\n",
       "      <th>2763</th>\n",
       "      <td>2766</td>\n",
       "      <td>2024-08-24</td>\n",
       "      <td>9</td>\n",
       "      <td>10</td>\n",
       "      <td>34</td>\n",
       "      <td>36</td>\n",
       "      <td>38</td>\n",
       "      <td>44</td>\n",
       "    </tr>\n",
       "    <tr>\n",
       "      <th>2764</th>\n",
       "      <td>2767</td>\n",
       "      <td>2024-08-27</td>\n",
       "      <td>14</td>\n",
       "      <td>21</td>\n",
       "      <td>42</td>\n",
       "      <td>47</td>\n",
       "      <td>50</td>\n",
       "      <td>59</td>\n",
       "    </tr>\n",
       "  </tbody>\n",
       "</table>\n",
       "</div>"
      ],
      "text/plain": [
       "      Concurso Data do Sorteio  Bola1  Bola2  Bola3  Bola4  Bola5  Bola6\n",
       "2760      2762      2024-08-15      1     17     30     40     48     50\n",
       "2761      2764      2024-08-20     20     31     34     38     42     51\n",
       "2762      2765      2024-08-22      8     12     34     39     43     47\n",
       "2763      2766      2024-08-24      9     10     34     36     38     44\n",
       "2764      2767      2024-08-27     14     21     42     47     50     59"
      ]
     },
     "execution_count": 104,
     "metadata": {},
     "output_type": "execute_result"
    }
   ],
   "source": [
    "#facil[['Cidade / UF','Ano']].tail()\n",
    "#%%time\n",
    "\n",
    "mega.filter(regex='Concurso|Data|Bola', axis=1).tail()"
   ]
  },
  {
   "cell_type": "code",
   "execution_count": 105,
   "metadata": {},
   "outputs": [],
   "source": [
    "mega = mega[( mega['Ano']>=2019) ].copy() "
   ]
  },
  {
   "cell_type": "code",
   "execution_count": 106,
   "metadata": {},
   "outputs": [],
   "source": [
    "mega.rename(columns={'Ganhadores 6 acertos':'ganhdores6',\n",
    "                     'Ganhadores 5 acertos':'ganhdores5',\n",
    "                     'Ganhadores 4 acertos':'ganhdores4',\n",
    "                     'Rateio 6 acertos':'rateio6',\n",
    "                     'Rateio 5 acertos':'rateio5',\n",
    "                     'Rateio 4 acertos':'rateio4',\n",
    "                     'Acumulado 6 acertos':'acumulado6',\n",
    "                     'Arrecadação Total':'arrecadacao',\n",
    "                     'Estimativa prêmio':'estimativa',\n",
    "                     'Acumulado Sorteio Especial Mega da Virada':'acumulado_especial'},inplace=True)\n",
    "\n",
    "mega.drop(columns=['Observação'],axis=1,inplace=True)"
   ]
  },
  {
   "cell_type": "code",
   "execution_count": 107,
   "metadata": {},
   "outputs": [],
   "source": [
    "mega['CANAL_ELETRONICO'] = mega['Cidade / UF'].str.contains('CANAL ELETRONICO', na=False)\n",
    "\n",
    "mega['UF_MG'] = mega['Cidade / UF'].str.contains('/MG', na=False)\n",
    "mega['UF_RJ'] = mega['Cidade / UF'].str.contains('/RJ', na=False)\n",
    "mega['UF_SP'] = mega['Cidade / UF'].str.contains('/SP', na=False)\n",
    "mega['UF_ES'] = mega['Cidade / UF'].str.contains('/ES', na=False)\n",
    "\n",
    "mega['UF_DF'] = mega['Cidade / UF'].str.contains('/DF', na=False)\n",
    "mega['UF_GO'] = mega['Cidade / UF'].str.contains('/GO', na=False)\n",
    "mega['UF_MT'] = mega['Cidade / UF'].str.contains('/MT', na=False)\n",
    "mega['UF_MS'] = mega['Cidade / UF'].str.contains('/MS', na=False)\n",
    "\n",
    "mega['UF_RS'] = mega['Cidade / UF'].str.contains('/RS', na=False)\n",
    "mega['UF_SC'] = mega['Cidade / UF'].str.contains('/SC', na=False)\n",
    "mega['UF_PR'] = mega['Cidade / UF'].str.contains('/PR', na=False)\n",
    "\n",
    "mega['UF_PB'] = mega['Cidade / UF'].str.contains('/PB', na=False)\n",
    "mega['UF_BA'] = mega['Cidade / UF'].str.contains('/BA', na=False)\n",
    "mega['UF_RN'] = mega['Cidade / UF'].str.contains('/RN', na=False)\n",
    "mega['UF_PE'] = mega['Cidade / UF'].str.contains('/PE', na=False)\n",
    "mega['UF_MA'] = mega['Cidade / UF'].str.contains('/MA', na=False)\n",
    "mega['UF_SE'] = mega['Cidade / UF'].str.contains('/SE', na=False)\n",
    "mega['UF_CE'] = mega['Cidade / UF'].str.contains('/CE', na=False)\n",
    "\n",
    "mega['UF_AM'] = mega['Cidade / UF'].str.contains('/AM', na=False)\n",
    "mega['UF_RR'] = mega['Cidade / UF'].str.contains('/RR', na=False)\n",
    "mega['UF_PA'] = mega['Cidade / UF'].str.contains('/PA', na=False)\n"
   ]
  },
  {
   "cell_type": "code",
   "execution_count": 109,
   "metadata": {},
   "outputs": [
    {
     "data": {
      "text/html": [
       "<div>\n",
       "<style scoped>\n",
       "    .dataframe tbody tr th:only-of-type {\n",
       "        vertical-align: middle;\n",
       "    }\n",
       "\n",
       "    .dataframe tbody tr th {\n",
       "        vertical-align: top;\n",
       "    }\n",
       "\n",
       "    .dataframe thead th {\n",
       "        text-align: right;\n",
       "    }\n",
       "</style>\n",
       "<table border=\"1\" class=\"dataframe\">\n",
       "  <thead>\n",
       "    <tr style=\"text-align: right;\">\n",
       "      <th></th>\n",
       "      <th>Cidade / UF</th>\n",
       "      <th>Ano</th>\n",
       "    </tr>\n",
       "  </thead>\n",
       "  <tbody>\n",
       "    <tr>\n",
       "      <th>2760</th>\n",
       "      <td>NaN</td>\n",
       "      <td>2024</td>\n",
       "    </tr>\n",
       "    <tr>\n",
       "      <th>2761</th>\n",
       "      <td>VARZEA PAULISTA/SP</td>\n",
       "      <td>2024</td>\n",
       "    </tr>\n",
       "    <tr>\n",
       "      <th>2762</th>\n",
       "      <td>NaN</td>\n",
       "      <td>2024</td>\n",
       "    </tr>\n",
       "    <tr>\n",
       "      <th>2763</th>\n",
       "      <td>CANAL ELETRONICO; RIO DE JANEIRO/RJ</td>\n",
       "      <td>2024</td>\n",
       "    </tr>\n",
       "    <tr>\n",
       "      <th>2764</th>\n",
       "      <td>NaN</td>\n",
       "      <td>2024</td>\n",
       "    </tr>\n",
       "  </tbody>\n",
       "</table>\n",
       "</div>"
      ],
      "text/plain": [
       "                              Cidade / UF   Ano\n",
       "2760                                  NaN  2024\n",
       "2761                   VARZEA PAULISTA/SP  2024\n",
       "2762                                  NaN  2024\n",
       "2763  CANAL ELETRONICO; RIO DE JANEIRO/RJ  2024\n",
       "2764                                  NaN  2024"
      ]
     },
     "execution_count": 109,
     "metadata": {},
     "output_type": "execute_result"
    }
   ],
   "source": [
    "mega[['Cidade / UF','Ano']].tail()\n"
   ]
  },
  {
   "cell_type": "code",
   "execution_count": 110,
   "metadata": {},
   "outputs": [
    {
     "data": {
      "image/png": "[encoded data removed]",
      "text/latex": [
       "$\\displaystyle \\left( 655, \\  43\\right)$"
      ],
      "text/plain": [
       "(655, 43)"
      ]
     },
     "execution_count": 110,
     "metadata": {},
     "output_type": "execute_result"
    }
   ],
   "source": [
    "mega.shape"
   ]
  },
  {
   "cell_type": "code",
   "execution_count": 111,
   "metadata": {},
   "outputs": [
    {
     "data": {
      "text/plain": [
       "Concurso                       int64\n",
       "Data do Sorteio       datetime64[ns]\n",
       "Bola1                          int64\n",
       "Bola2                          int64\n",
       "Bola3                          int64\n",
       "Bola4                          int64\n",
       "Bola5                          int64\n",
       "Bola6                          int64\n",
       "ganhdores6                     int64\n",
       "Cidade / UF                   object\n",
       "rateio6                       object\n",
       "ganhdores5                     int64\n",
       "rateio5                       object\n",
       "ganhdores4                     int64\n",
       "rateio4                       object\n",
       "acumulado6                    object\n",
       "Arrecadação Total             object\n",
       "Estimativa prêmio             object\n",
       "acumulado_especial            object\n",
       "Ano                            int64\n",
       "Mes                            int64\n",
       "CANAL_ELETRONICO                bool\n",
       "UF_MG                           bool\n",
       "UF_RJ                           bool\n",
       "UF_SP                           bool\n",
       "UF_ES                           bool\n",
       "UF_DF                           bool\n",
       "UF_GO                           bool\n",
       "UF_MT                           bool\n",
       "UF_MS                           bool\n",
       "UF_RS                           bool\n",
       "UF_SC                           bool\n",
       "UF_PR                           bool\n",
       "UF_PB                           bool\n",
       "UF_BA                           bool\n",
       "UF_RN                           bool\n",
       "UF_PE                           bool\n",
       "UF_MA                           bool\n",
       "UF_SE                           bool\n",
       "UF_CE                           bool\n",
       "UF_AM                           bool\n",
       "UF_RR                           bool\n",
       "UF_PA                           bool\n",
       "dtype: object"
      ]
     },
     "execution_count": 111,
     "metadata": {},
     "output_type": "execute_result"
    }
   ],
   "source": [
    "mega.dtypes"
   ]
  },
  {
   "cell_type": "code",
   "execution_count": 42,
   "metadata": {},
   "outputs": [],
   "source": [
    "colunas = ['Data Sorteio','Concurso','Bola1','Bola2','Bola3','Bola4','Bola5','Bola6','Bola7',\n",
    "           'Bola8','Bola9','Bola10','Bola11','Bola12','Bola13','Bola14','Bola15']"
   ]
  },
  {
   "cell_type": "code",
   "execution_count": 43,
   "metadata": {},
   "outputs": [
    {
     "data": {
      "text/plain": [
       "['Data Sorteio',\n",
       " 'Concurso',\n",
       " 'Bola1',\n",
       " 'Bola2',\n",
       " 'Bola3',\n",
       " 'Bola4',\n",
       " 'Bola5',\n",
       " 'Bola6',\n",
       " 'Bola7',\n",
       " 'Bola8',\n",
       " 'Bola9',\n",
       " 'Bola10',\n",
       " 'Bola11',\n",
       " 'Bola12',\n",
       " 'Bola13',\n",
       " 'Bola14',\n",
       " 'Bola15']"
      ]
     },
     "execution_count": 43,
     "metadata": {},
     "output_type": "execute_result"
    }
   ],
   "source": [
    "colunas"
   ]
  },
  {
   "cell_type": "code",
   "execution_count": 44,
   "metadata": {},
   "outputs": [
    {
     "data": {
      "text/html": [
       "<div>\n",
       "<style scoped>\n",
       "    .dataframe tbody tr th:only-of-type {\n",
       "        vertical-align: middle;\n",
       "    }\n",
       "\n",
       "    .dataframe tbody tr th {\n",
       "        vertical-align: top;\n",
       "    }\n",
       "\n",
       "    .dataframe thead th {\n",
       "        text-align: right;\n",
       "    }\n",
       "</style>\n",
       "<table border=\"1\" class=\"dataframe\">\n",
       "  <thead>\n",
       "    <tr style=\"text-align: right;\">\n",
       "      <th></th>\n",
       "      <th>Data Sorteio</th>\n",
       "      <th>Concurso</th>\n",
       "      <th>Bola1</th>\n",
       "      <th>Bola2</th>\n",
       "      <th>Bola3</th>\n",
       "      <th>Bola4</th>\n",
       "      <th>Bola5</th>\n",
       "      <th>Bola6</th>\n",
       "      <th>Bola7</th>\n",
       "      <th>Bola8</th>\n",
       "      <th>Bola9</th>\n",
       "      <th>Bola10</th>\n",
       "      <th>Bola11</th>\n",
       "      <th>Bola12</th>\n",
       "      <th>Bola13</th>\n",
       "      <th>Bola14</th>\n",
       "      <th>Bola15</th>\n",
       "    </tr>\n",
       "  </thead>\n",
       "  <tbody>\n",
       "    <tr>\n",
       "      <th>1910</th>\n",
       "      <td>2020-01-03</td>\n",
       "      <td>1911</td>\n",
       "      <td>1</td>\n",
       "      <td>2</td>\n",
       "      <td>4</td>\n",
       "      <td>5</td>\n",
       "      <td>8</td>\n",
       "      <td>11</td>\n",
       "      <td>12</td>\n",
       "      <td>13</td>\n",
       "      <td>14</td>\n",
       "      <td>15</td>\n",
       "      <td>19</td>\n",
       "      <td>21</td>\n",
       "      <td>22</td>\n",
       "      <td>24</td>\n",
       "      <td>25</td>\n",
       "    </tr>\n",
       "    <tr>\n",
       "      <th>1911</th>\n",
       "      <td>2020-01-06</td>\n",
       "      <td>1912</td>\n",
       "      <td>2</td>\n",
       "      <td>5</td>\n",
       "      <td>6</td>\n",
       "      <td>7</td>\n",
       "      <td>8</td>\n",
       "      <td>9</td>\n",
       "      <td>10</td>\n",
       "      <td>14</td>\n",
       "      <td>16</td>\n",
       "      <td>18</td>\n",
       "      <td>20</td>\n",
       "      <td>21</td>\n",
       "      <td>22</td>\n",
       "      <td>23</td>\n",
       "      <td>24</td>\n",
       "    </tr>\n",
       "    <tr>\n",
       "      <th>1912</th>\n",
       "      <td>2020-01-08</td>\n",
       "      <td>1913</td>\n",
       "      <td>2</td>\n",
       "      <td>5</td>\n",
       "      <td>6</td>\n",
       "      <td>7</td>\n",
       "      <td>8</td>\n",
       "      <td>9</td>\n",
       "      <td>10</td>\n",
       "      <td>11</td>\n",
       "      <td>12</td>\n",
       "      <td>14</td>\n",
       "      <td>16</td>\n",
       "      <td>19</td>\n",
       "      <td>20</td>\n",
       "      <td>24</td>\n",
       "      <td>25</td>\n",
       "    </tr>\n",
       "    <tr>\n",
       "      <th>1913</th>\n",
       "      <td>2020-01-10</td>\n",
       "      <td>1914</td>\n",
       "      <td>2</td>\n",
       "      <td>4</td>\n",
       "      <td>5</td>\n",
       "      <td>8</td>\n",
       "      <td>10</td>\n",
       "      <td>12</td>\n",
       "      <td>13</td>\n",
       "      <td>14</td>\n",
       "      <td>15</td>\n",
       "      <td>17</td>\n",
       "      <td>18</td>\n",
       "      <td>19</td>\n",
       "      <td>20</td>\n",
       "      <td>21</td>\n",
       "      <td>25</td>\n",
       "    </tr>\n",
       "    <tr>\n",
       "      <th>1914</th>\n",
       "      <td>2020-01-13</td>\n",
       "      <td>1915</td>\n",
       "      <td>2</td>\n",
       "      <td>4</td>\n",
       "      <td>8</td>\n",
       "      <td>10</td>\n",
       "      <td>11</td>\n",
       "      <td>12</td>\n",
       "      <td>13</td>\n",
       "      <td>15</td>\n",
       "      <td>16</td>\n",
       "      <td>17</td>\n",
       "      <td>19</td>\n",
       "      <td>20</td>\n",
       "      <td>21</td>\n",
       "      <td>22</td>\n",
       "      <td>25</td>\n",
       "    </tr>\n",
       "  </tbody>\n",
       "</table>\n",
       "</div>"
      ],
      "text/plain": [
       "     Data Sorteio  Concurso  Bola1  Bola2  Bola3  Bola4  Bola5  Bola6  Bola7  \\\n",
       "1910   2020-01-03      1911      1      2      4      5      8     11     12   \n",
       "1911   2020-01-06      1912      2      5      6      7      8      9     10   \n",
       "1912   2020-01-08      1913      2      5      6      7      8      9     10   \n",
       "1913   2020-01-10      1914      2      4      5      8     10     12     13   \n",
       "1914   2020-01-13      1915      2      4      8     10     11     12     13   \n",
       "\n",
       "      Bola8  Bola9  Bola10  Bola11  Bola12  Bola13  Bola14  Bola15  \n",
       "1910     13     14      15      19      21      22      24      25  \n",
       "1911     14     16      18      20      21      22      23      24  \n",
       "1912     11     12      14      16      19      20      24      25  \n",
       "1913     14     15      17      18      19      20      21      25  \n",
       "1914     15     16      17      19      20      21      22      25  "
      ]
     },
     "execution_count": 44,
     "metadata": {},
     "output_type": "execute_result"
    }
   ],
   "source": [
    "facil2[colunas].head()"
   ]
  },
  {
   "cell_type": "code",
   "execution_count": 45,
   "metadata": {},
   "outputs": [
    {
     "name": "stdout",
     "output_type": "stream",
     "text": [
      "(2899, 35) (989, 56)\n"
     ]
    }
   ],
   "source": [
    "print(facil.shape , facil2.shape)\n"
   ]
  },
  {
   "cell_type": "code",
   "execution_count": 46,
   "metadata": {},
   "outputs": [
    {
     "name": "stdout",
     "output_type": "stream",
     "text": [
      "Bola1\n",
      "Bola2\n",
      "Bola3\n",
      "Bola4\n",
      "Bola5\n",
      "Bola6\n",
      "Bola7\n",
      "Bola8\n",
      "Bola9\n",
      "Bola10\n",
      "Bola11\n",
      "Bola12\n",
      "Bola13\n",
      "Bola14\n",
      "Bola15\n",
      "Bola16\n"
     ]
    }
   ],
   "source": [
    "for bolas in range(1,17):\n",
    "    print('Bola{0}'.format(bolas))"
   ]
  },
  {
   "cell_type": "code",
   "execution_count": 47,
   "metadata": {},
   "outputs": [
    {
     "data": {
      "text/html": [
       "<div>\n",
       "<style scoped>\n",
       "    .dataframe tbody tr th:only-of-type {\n",
       "        vertical-align: middle;\n",
       "    }\n",
       "\n",
       "    .dataframe tbody tr th {\n",
       "        vertical-align: top;\n",
       "    }\n",
       "\n",
       "    .dataframe thead th {\n",
       "        text-align: right;\n",
       "    }\n",
       "</style>\n",
       "<table border=\"1\" class=\"dataframe\">\n",
       "  <thead>\n",
       "    <tr style=\"text-align: right;\">\n",
       "      <th></th>\n",
       "      <th>Concurso</th>\n",
       "    </tr>\n",
       "    <tr>\n",
       "      <th>Bola4</th>\n",
       "      <th></th>\n",
       "    </tr>\n",
       "  </thead>\n",
       "  <tbody>\n",
       "    <tr>\n",
       "      <th>6</th>\n",
       "      <td>221</td>\n",
       "    </tr>\n",
       "    <tr>\n",
       "      <th>7</th>\n",
       "      <td>209</td>\n",
       "    </tr>\n",
       "    <tr>\n",
       "      <th>5</th>\n",
       "      <td>180</td>\n",
       "    </tr>\n",
       "    <tr>\n",
       "      <th>8</th>\n",
       "      <td>128</td>\n",
       "    </tr>\n",
       "    <tr>\n",
       "      <th>4</th>\n",
       "      <td>106</td>\n",
       "    </tr>\n",
       "  </tbody>\n",
       "</table>\n",
       "</div>"
      ],
      "text/plain": [
       "       Concurso\n",
       "Bola4          \n",
       "6           221\n",
       "7           209\n",
       "5           180\n",
       "8           128\n",
       "4           106"
      ]
     },
     "execution_count": 47,
     "metadata": {},
     "output_type": "execute_result"
    }
   ],
   "source": [
    "facil2[['Concurso','Bola4']].groupby('Bola4').count().sort_values(by='Concurso',ascending=False).head()"
   ]
  },
  {
   "cell_type": "code",
   "execution_count": 48,
   "metadata": {},
   "outputs": [],
   "source": [
    "lista = []\n",
    "for bolas in range(1,16):\n",
    "    ele = facil2[['Concurso','Bola{0}'.format(bolas)]].groupby('Bola{0}'.format(bolas)\n",
    "    ).count()\n",
    "    ele.sort_values(by='Concurso',ascending=False,inplace=True)\n",
    "    ele.reset_index(inplace=True)\n",
    "    ele.rename(columns={'Bola{0}'.format(bolas):'Bola','Concurso':'Freq'},inplace=True)\n",
    "    lista.append(ele.head(1))\n"
   ]
  },
  {
   "cell_type": "code",
   "execution_count": 49,
   "metadata": {},
   "outputs": [],
   "source": [
    "#freq = pd.DataFrame(lista)\n",
    "#df = lista[0].append(lista[0], ignore_index = True)"
   ]
  },
  {
   "cell_type": "code",
   "execution_count": 50,
   "metadata": {},
   "outputs": [],
   "source": [
    "df = pd.concat(lista)"
   ]
  },
  {
   "cell_type": "code",
   "execution_count": 51,
   "metadata": {},
   "outputs": [
    {
     "data": {
      "text/html": [
       "<div>\n",
       "<style scoped>\n",
       "    .dataframe tbody tr th:only-of-type {\n",
       "        vertical-align: middle;\n",
       "    }\n",
       "\n",
       "    .dataframe tbody tr th {\n",
       "        vertical-align: top;\n",
       "    }\n",
       "\n",
       "    .dataframe thead th {\n",
       "        text-align: right;\n",
       "    }\n",
       "</style>\n",
       "<table border=\"1\" class=\"dataframe\">\n",
       "  <thead>\n",
       "    <tr style=\"text-align: right;\">\n",
       "      <th></th>\n",
       "      <th>Freq</th>\n",
       "    </tr>\n",
       "    <tr>\n",
       "      <th>Bola</th>\n",
       "      <th></th>\n",
       "    </tr>\n",
       "  </thead>\n",
       "  <tbody>\n",
       "    <tr>\n",
       "      <th>1</th>\n",
       "      <td>572</td>\n",
       "    </tr>\n",
       "    <tr>\n",
       "      <th>2</th>\n",
       "      <td>331</td>\n",
       "    </tr>\n",
       "    <tr>\n",
       "      <th>5</th>\n",
       "      <td>259</td>\n",
       "    </tr>\n",
       "    <tr>\n",
       "      <th>6</th>\n",
       "      <td>221</td>\n",
       "    </tr>\n",
       "    <tr>\n",
       "      <th>8</th>\n",
       "      <td>217</td>\n",
       "    </tr>\n",
       "    <tr>\n",
       "      <th>10</th>\n",
       "      <td>205</td>\n",
       "    </tr>\n",
       "    <tr>\n",
       "      <th>11</th>\n",
       "      <td>189</td>\n",
       "    </tr>\n",
       "    <tr>\n",
       "      <th>13</th>\n",
       "      <td>178</td>\n",
       "    </tr>\n",
       "    <tr>\n",
       "      <th>15</th>\n",
       "      <td>180</td>\n",
       "    </tr>\n",
       "    <tr>\n",
       "      <th>16</th>\n",
       "      <td>185</td>\n",
       "    </tr>\n",
       "    <tr>\n",
       "      <th>18</th>\n",
       "      <td>197</td>\n",
       "    </tr>\n",
       "    <tr>\n",
       "      <th>20</th>\n",
       "      <td>243</td>\n",
       "    </tr>\n",
       "    <tr>\n",
       "      <th>22</th>\n",
       "      <td>266</td>\n",
       "    </tr>\n",
       "    <tr>\n",
       "      <th>24</th>\n",
       "      <td>356</td>\n",
       "    </tr>\n",
       "    <tr>\n",
       "      <th>25</th>\n",
       "      <td>630</td>\n",
       "    </tr>\n",
       "  </tbody>\n",
       "</table>\n",
       "</div>"
      ],
      "text/plain": [
       "      Freq\n",
       "Bola      \n",
       "1      572\n",
       "2      331\n",
       "5      259\n",
       "6      221\n",
       "8      217\n",
       "10     205\n",
       "11     189\n",
       "13     178\n",
       "15     180\n",
       "16     185\n",
       "18     197\n",
       "20     243\n",
       "22     266\n",
       "24     356\n",
       "25     630"
      ]
     },
     "execution_count": 51,
     "metadata": {},
     "output_type": "execute_result"
    }
   ],
   "source": [
    "df[['Bola','Freq']].groupby('Bola').sum()"
   ]
  },
  {
   "cell_type": "code",
   "execution_count": 52,
   "metadata": {},
   "outputs": [],
   "source": [
    "lista = []\n",
    "for bolas in range(1,16):\n",
    "    ele = facil2[['Concurso','Bola{0}'.format(bolas)]][\n",
    "        facil2['Bola{0}'.format(bolas)].isin(~df.Bola.unique())].groupby('Bola{0}'.format(bolas)\n",
    "    ).count()\n",
    "    ele.sort_values(by='Concurso',ascending=False,inplace=True)\n",
    "    ele.reset_index(inplace=True)\n",
    "    ele.rename(columns={'Bola{0}'.format(bolas):'Bola','Concurso':'Freq'},inplace=True)\n",
    "    lista.append(ele.head(1))"
   ]
  },
  {
   "cell_type": "code",
   "execution_count": 53,
   "metadata": {},
   "outputs": [],
   "source": [
    "#facil2[['Concurso','Bola4']][facil2['Bola4'].isin(~df.Bola.unique())].groupby('Bola4').count().sort_values(by='Concurso',ascending=False).head()"
   ]
  },
  {
   "cell_type": "code",
   "execution_count": 54,
   "metadata": {},
   "outputs": [
    {
     "data": {
      "text/plain": [
       "array([ 1,  2,  5,  6,  8, 10, 11, 13, 15, 16, 18, 20, 22, 24, 25],\n",
       "      dtype=int64)"
      ]
     },
     "execution_count": 54,
     "metadata": {},
     "output_type": "execute_result"
    }
   ],
   "source": [
    "df.Bola.unique()"
   ]
  },
  {
   "cell_type": "code",
   "execution_count": 55,
   "metadata": {},
   "outputs": [],
   "source": [
    "df2 = pd.concat(lista)"
   ]
  },
  {
   "cell_type": "code",
   "execution_count": 56,
   "metadata": {},
   "outputs": [
    {
     "data": {
      "text/html": [
       "<div>\n",
       "<style scoped>\n",
       "    .dataframe tbody tr th:only-of-type {\n",
       "        vertical-align: middle;\n",
       "    }\n",
       "\n",
       "    .dataframe tbody tr th {\n",
       "        vertical-align: top;\n",
       "    }\n",
       "\n",
       "    .dataframe thead th {\n",
       "        text-align: right;\n",
       "    }\n",
       "</style>\n",
       "<table border=\"1\" class=\"dataframe\">\n",
       "  <thead>\n",
       "    <tr style=\"text-align: right;\">\n",
       "      <th></th>\n",
       "      <th>index</th>\n",
       "      <th>Bola</th>\n",
       "      <th>Freq</th>\n",
       "    </tr>\n",
       "  </thead>\n",
       "  <tbody>\n",
       "  </tbody>\n",
       "</table>\n",
       "</div>"
      ],
      "text/plain": [
       "Empty DataFrame\n",
       "Columns: [index, Bola, Freq]\n",
       "Index: []"
      ]
     },
     "execution_count": 56,
     "metadata": {},
     "output_type": "execute_result"
    }
   ],
   "source": [
    "df2.reset_index().head(33)"
   ]
  },
  {
   "cell_type": "markdown",
   "metadata": {},
   "source": []
  },
  {
   "cell_type": "code",
   "execution_count": null,
   "metadata": {},
   "outputs": [],
   "source": []
  },
  {
   "cell_type": "code",
   "execution_count": 57,
   "metadata": {},
   "outputs": [
    {
     "name": "stdout",
     "output_type": "stream",
     "text": [
      "Location: c:\\Users\\patrick.franco\\Documents\\GitHub\\pibmunic\\Loteria\\hebcal_5776h_usa.csv\n",
      "File Name: hebcal_5776h_usa.csv\n",
      "Location: c:\\Users\\patrick.franco\\Documents\\GitHub\\pibmunic\\Loteria\\hebcal_5777h_usa.csv\n",
      "File Name: hebcal_5777h_usa.csv\n",
      "Location: c:\\Users\\patrick.franco\\Documents\\GitHub\\pibmunic\\Loteria\\hebcal_5778h_usa.csv\n",
      "File Name: hebcal_5778h_usa.csv\n",
      "Location: c:\\Users\\patrick.franco\\Documents\\GitHub\\pibmunic\\Loteria\\hebcal_5779h_usa.csv\n",
      "File Name: hebcal_5779h_usa.csv\n",
      "Location: c:\\Users\\patrick.franco\\Documents\\GitHub\\pibmunic\\Loteria\\hebcal_5780h_usa.csv\n",
      "File Name: hebcal_5780h_usa.csv\n",
      "Location: c:\\Users\\patrick.franco\\Documents\\GitHub\\pibmunic\\Loteria\\hebcal_5781h_usa.csv\n",
      "File Name: hebcal_5781h_usa.csv\n",
      "Location: c:\\Users\\patrick.franco\\Documents\\GitHub\\pibmunic\\Loteria\\hebcal_5782h_usa.csv\n",
      "File Name: hebcal_5782h_usa.csv\n",
      "Location: c:\\Users\\patrick.franco\\Documents\\GitHub\\pibmunic\\Loteria\\hebcal_5783h_usa.csv\n",
      "File Name: hebcal_5783h_usa.csv\n",
      "Location: c:\\Users\\patrick.franco\\Documents\\GitHub\\pibmunic\\Loteria\\hebcal_5784h_usa.csv\n",
      "File Name: hebcal_5784h_usa.csv\n"
     ]
    }
   ],
   "source": [
    "# use glob to get all the csv files \n",
    "# in the folder \n",
    "path = os.getcwd() \n",
    "csv_files = glob.glob(os.path.join(path, \"hebcal_*.csv\")) \n",
    "  \n",
    "frame_de_dados = []\n",
    "# loop over the list of csv files \n",
    "for f in csv_files:    \n",
    "    # read the csv file \n",
    "    df = pd.read_csv(f)[['Subject','Start Date']]\n",
    "\n",
    "    # print the location and filename \n",
    "    print('Location:', f) \n",
    "    print('File Name:', f.split(\"\\\\\")[-1]) \n",
    "\n",
    "    frame_de_dados.append(df)"
   ]
  },
  {
   "cell_type": "code",
   "execution_count": 58,
   "metadata": {},
   "outputs": [],
   "source": [
    "#df = pd.read_csv('hebcal_5784h_usa.csv')[['Subject','Start Date']]"
   ]
  },
  {
   "cell_type": "code",
   "execution_count": 59,
   "metadata": {},
   "outputs": [
    {
     "data": {
      "text/html": [
       "<div>\n",
       "<style scoped>\n",
       "    .dataframe tbody tr th:only-of-type {\n",
       "        vertical-align: middle;\n",
       "    }\n",
       "\n",
       "    .dataframe tbody tr th {\n",
       "        vertical-align: top;\n",
       "    }\n",
       "\n",
       "    .dataframe thead th {\n",
       "        text-align: right;\n",
       "    }\n",
       "</style>\n",
       "<table border=\"1\" class=\"dataframe\">\n",
       "  <thead>\n",
       "    <tr style=\"text-align: right;\">\n",
       "      <th></th>\n",
       "      <th>Subject</th>\n",
       "      <th>Start Date</th>\n",
       "    </tr>\n",
       "  </thead>\n",
       "  <tbody>\n",
       "    <tr>\n",
       "      <th>0</th>\n",
       "      <td>Parashat Vayeilech</td>\n",
       "      <td>10/8/2016</td>\n",
       "    </tr>\n",
       "    <tr>\n",
       "      <th>1</th>\n",
       "      <td>Parashat Ha’azinu</td>\n",
       "      <td>10/15/2016</td>\n",
       "    </tr>\n",
       "    <tr>\n",
       "      <th>2</th>\n",
       "      <td>Parashat Bereshit</td>\n",
       "      <td>10/29/2016</td>\n",
       "    </tr>\n",
       "    <tr>\n",
       "      <th>3</th>\n",
       "      <td>Parashat Noach</td>\n",
       "      <td>11/5/2016</td>\n",
       "    </tr>\n",
       "    <tr>\n",
       "      <th>4</th>\n",
       "      <td>Parashat Lech-Lecha</td>\n",
       "      <td>11/12/2016</td>\n",
       "    </tr>\n",
       "  </tbody>\n",
       "</table>\n",
       "</div>"
      ],
      "text/plain": [
       "               Subject  Start Date\n",
       "0   Parashat Vayeilech   10/8/2016\n",
       "1    Parashat Ha’azinu  10/15/2016\n",
       "2    Parashat Bereshit  10/29/2016\n",
       "3       Parashat Noach   11/5/2016\n",
       "4  Parashat Lech-Lecha  11/12/2016"
      ]
     },
     "execution_count": 59,
     "metadata": {},
     "output_type": "execute_result"
    }
   ],
   "source": [
    "frame_de_dados[1].head()"
   ]
  },
  {
   "cell_type": "code",
   "execution_count": 60,
   "metadata": {},
   "outputs": [
    {
     "name": "stdout",
     "output_type": "stream",
     "text": [
      "CPU times: total: 0 ns\n",
      "Wall time: 997 µs\n"
     ]
    }
   ],
   "source": [
    "%%time\n",
    "df = pd.concat(frame_de_dados)"
   ]
  },
  {
   "cell_type": "code",
   "execution_count": 80,
   "metadata": {},
   "outputs": [],
   "source": [
    "df['Start Date'] = pd.to_datetime(df['Start Date'], infer_datetime_format=True)\n",
    "df['Ano'] = df['Start Date'].dt.year\n",
    "df['Mes'] = df['Start Date'].dt.month"
   ]
  },
  {
   "cell_type": "code",
   "execution_count": 81,
   "metadata": {},
   "outputs": [
    {
     "data": {
      "text/html": [
       "<div>\n",
       "<style scoped>\n",
       "    .dataframe tbody tr th:only-of-type {\n",
       "        vertical-align: middle;\n",
       "    }\n",
       "\n",
       "    .dataframe tbody tr th {\n",
       "        vertical-align: top;\n",
       "    }\n",
       "\n",
       "    .dataframe thead th {\n",
       "        text-align: right;\n",
       "    }\n",
       "</style>\n",
       "<table border=\"1\" class=\"dataframe\">\n",
       "  <thead>\n",
       "    <tr style=\"text-align: right;\">\n",
       "      <th></th>\n",
       "      <th>Subject</th>\n",
       "      <th>Start Date</th>\n",
       "      <th>Ano</th>\n",
       "      <th>Mes</th>\n",
       "    </tr>\n",
       "  </thead>\n",
       "  <tbody>\n",
       "    <tr>\n",
       "      <th>0</th>\n",
       "      <td>Parashat Vayeilech</td>\n",
       "      <td>2015-09-19</td>\n",
       "      <td>2015</td>\n",
       "      <td>9</td>\n",
       "    </tr>\n",
       "    <tr>\n",
       "      <th>1</th>\n",
       "      <td>Parashat Ha’azinu</td>\n",
       "      <td>2015-09-26</td>\n",
       "      <td>2015</td>\n",
       "      <td>9</td>\n",
       "    </tr>\n",
       "    <tr>\n",
       "      <th>2</th>\n",
       "      <td>Parashat Bereshit</td>\n",
       "      <td>2015-10-10</td>\n",
       "      <td>2015</td>\n",
       "      <td>10</td>\n",
       "    </tr>\n",
       "    <tr>\n",
       "      <th>3</th>\n",
       "      <td>Parashat Noach</td>\n",
       "      <td>2015-10-17</td>\n",
       "      <td>2015</td>\n",
       "      <td>10</td>\n",
       "    </tr>\n",
       "    <tr>\n",
       "      <th>4</th>\n",
       "      <td>Parashat Lech-Lecha</td>\n",
       "      <td>2015-10-24</td>\n",
       "      <td>2015</td>\n",
       "      <td>10</td>\n",
       "    </tr>\n",
       "  </tbody>\n",
       "</table>\n",
       "</div>"
      ],
      "text/plain": [
       "               Subject Start Date   Ano  Mes\n",
       "0   Parashat Vayeilech 2015-09-19  2015    9\n",
       "1    Parashat Ha’azinu 2015-09-26  2015    9\n",
       "2    Parashat Bereshit 2015-10-10  2015   10\n",
       "3       Parashat Noach 2015-10-17  2015   10\n",
       "4  Parashat Lech-Lecha 2015-10-24  2015   10"
      ]
     },
     "execution_count": 81,
     "metadata": {},
     "output_type": "execute_result"
    }
   ],
   "source": [
    "df.head()"
   ]
  },
  {
   "cell_type": "code",
   "execution_count": 82,
   "metadata": {},
   "outputs": [
    {
     "data": {
      "image/png": "[encoded data removed]",
      "text/latex": [
       "$\\displaystyle \\left( 449, \\  4\\right)$"
      ],
      "text/plain": [
       "(449, 4)"
      ]
     },
     "execution_count": 82,
     "metadata": {},
     "output_type": "execute_result"
    }
   ],
   "source": [
    "df.shape"
   ]
  },
  {
   "cell_type": "code",
   "execution_count": 83,
   "metadata": {},
   "outputs": [
    {
     "data": {
      "text/plain": [
       "Subject               object\n",
       "Start Date    datetime64[ns]\n",
       "Ano                    int64\n",
       "Mes                    int64\n",
       "dtype: object"
      ]
     },
     "execution_count": 83,
     "metadata": {},
     "output_type": "execute_result"
    }
   ],
   "source": [
    "#facil2[colunas].head()\n",
    "df.dtypes"
   ]
  },
  {
   "cell_type": "code",
   "execution_count": 84,
   "metadata": {},
   "outputs": [],
   "source": [
    "#https://dynamics-and-control.readthedocs.io/en/latest/1_Dynamics/3_Linear_systems/Laplace%20transforms.html"
   ]
  },
  {
   "cell_type": "code",
   "execution_count": 85,
   "metadata": {},
   "outputs": [],
   "source": [
    "import sympy\n",
    "sympy.init_printing()"
   ]
  },
  {
   "cell_type": "code",
   "execution_count": 68,
   "metadata": {},
   "outputs": [],
   "source": [
    "import matplotlib.pyplot as plt\n",
    "%matplotlib inline"
   ]
  },
  {
   "cell_type": "code",
   "execution_count": 69,
   "metadata": {},
   "outputs": [],
   "source": [
    "t, s = sympy.symbols('t, s')\n",
    "a = sympy.symbols('a', real=True, positive=True)"
   ]
  },
  {
   "cell_type": "code",
   "execution_count": 73,
   "metadata": {},
   "outputs": [
    {
     "data": {
      "image/png": "[encoded data removed]",
      "text/latex": [
       "$\\displaystyle e^{- a t}$"
      ],
      "text/plain": [
       " -a⋅t\n",
       "ℯ    "
      ]
     },
     "execution_count": 73,
     "metadata": {},
     "output_type": "execute_result"
    }
   ],
   "source": [
    "f = sympy.exp(-a*t)\n",
    "f"
   ]
  },
  {
   "cell_type": "code",
   "execution_count": 74,
   "metadata": {},
   "outputs": [
    {
     "data": {
      "text/latex": [
       "$\\displaystyle \\begin{cases} \\frac{1}{s \\left(\\frac{a}{s} + 1\\right)} & \\text{for}\\: \\left|{\\arg{\\left(s \\right)}}\\right| \\leq \\frac{\\pi}{2} \\\\\\int\\limits_{0}^{\\infty} e^{- a t} e^{- s t}\\, dt & \\text{otherwise} \\end{cases}$"
      ],
      "text/plain": [
       "⎧       1                         π\n",
       "⎪   ─────────      for │arg(s)│ ≤ ─\n",
       "⎪     ⎛a    ⎞                     2\n",
       "⎪   s⋅⎜─ + 1⎟                      \n",
       "⎪     ⎝s    ⎠                      \n",
       "⎪                                  \n",
       "⎨∞                                 \n",
       "⎪⌠                                 \n",
       "⎪⎮  -a⋅t  -s⋅t                     \n",
       "⎪⎮ ℯ    ⋅ℯ     dt     otherwise    \n",
       "⎪⌡                                 \n",
       "⎪0                                 \n",
       "⎩                                  "
      ]
     },
     "execution_count": 74,
     "metadata": {},
     "output_type": "execute_result"
    }
   ],
   "source": [
    "sympy.integrate(f*sympy.exp(-s*t), (t, 0, sympy.oo))\n"
   ]
  },
  {
   "cell_type": "code",
   "execution_count": 75,
   "metadata": {},
   "outputs": [
    {
     "data": {
      "text/latex": [
       "$\\displaystyle \\left( \\frac{1}{a + s}, \\  - a, \\  \\text{True}\\right)$"
      ],
      "text/plain": [
       "⎛  1            ⎞\n",
       "⎜─────, -a, True⎟\n",
       "⎝a + s          ⎠"
      ]
     },
     "execution_count": 75,
     "metadata": {},
     "output_type": "execute_result"
    }
   ],
   "source": [
    "sympy.laplace_transform(f, t, s)\n"
   ]
  },
  {
   "cell_type": "code",
   "execution_count": 76,
   "metadata": {},
   "outputs": [
    {
     "data": {
      "image/png": "[encoded data removed]",
      "text/latex": [
       "$\\displaystyle \\frac{1}{a + s}$"
      ],
      "text/plain": [
       "  1  \n",
       "─────\n",
       "a + s"
      ]
     },
     "execution_count": 76,
     "metadata": {},
     "output_type": "execute_result"
    }
   ],
   "source": [
    "F = sympy.laplace_transform(f, t, s, noconds=True)\n",
    "F"
   ]
  },
  {
   "cell_type": "code",
   "execution_count": 77,
   "metadata": {},
   "outputs": [
    {
     "data": {
      "image/png": "[encoded data removed]",
      "text/latex": [
       "$\\displaystyle e^{- a t} \\theta\\left(t\\right)$"
      ],
      "text/plain": [
       " -a⋅t     \n",
       "ℯ    ⋅θ(t)"
      ]
     },
     "execution_count": 77,
     "metadata": {},
     "output_type": "execute_result"
    }
   ],
   "source": [
    "def invL(F):\n",
    "    return sympy.inverse_laplace_transform(F, s, t)\n",
    "invL(F)"
   ]
  },
  {
   "cell_type": "code",
   "execution_count": 78,
   "metadata": {},
   "outputs": [
    {
     "data": {
      "image/png": "[encoded data removed]",
      "text/latex": [
       "$\\displaystyle \\theta\\left(t\\right)$"
      ],
      "text/plain": [
       "θ(t)"
      ]
     },
     "execution_count": 78,
     "metadata": {},
     "output_type": "execute_result"
    }
   ],
   "source": [
    "sympy.Heaviside(t)\n"
   ]
  },
  {
   "cell_type": "code",
   "execution_count": 79,
   "metadata": {},
   "outputs": [
    {
     "data": {
      "image/png": "[encoded data removed]",
      "text/plain": [
       "<Figure size 640x480 with 1 Axes>"
      ]
     },
     "metadata": {},
     "output_type": "display_data"
    }
   ],
   "source": [
    "sympy.plot(sympy.Heaviside(t));\n"
   ]
  },
  {
   "cell_type": "code",
   "execution_count": null,
   "metadata": {},
   "outputs": [],
   "source": [
    "#https://www.mazusoft.com.br/mega/tabela-cor.php"
   ]
  },
  {
   "cell_type": "code",
   "execution_count": null,
   "metadata": {},
   "outputs": [],
   "source": [
    "# Vermelha - Dezenas: 01,11,21,31,41,51\n",
    "# Amarela  - Dezenas: 02,12,22,32,42,52\n",
    "# Verde    - Dezenas: 03,13,23,33,43,53\n",
    "# Marrom   - Dezenas: 04,14,24,34,44,54\n",
    "# Azul     - Dezenas: 05,15,25,35,45,55\n",
    "# Rosa     - Dezenas: 06,16,26,36,46,56\n",
    "# Preta    - Dezenas: 07,17,27,37,47,57\n",
    "# Cinza    - Dezenas: 08,18,28,38,48,58\n",
    "# Laranja  - Dezenas: 09,19,29,39,49,59\n",
    "# Branca   - Dezenas: 10,20,30,40,50,60"
   ]
  },
  {
   "cell_type": "code",
   "execution_count": 87,
   "metadata": {},
   "outputs": [
    {
     "ename": "ModuleNotFoundError",
     "evalue": "No module named 'mechanize'",
     "output_type": "error",
     "traceback": [
      "\u001b[1;31m---------------------------------------------------------------------------\u001b[0m",
      "\u001b[1;31mModuleNotFoundError\u001b[0m                       Traceback (most recent call last)",
      "Cell \u001b[1;32mIn[87], line 2\u001b[0m\n\u001b[0;32m      1\u001b[0m \u001b[38;5;28;01mimport\u001b[39;00m \u001b[38;5;21;01mre\u001b[39;00m\n\u001b[1;32m----> 2\u001b[0m \u001b[38;5;28;01mimport\u001b[39;00m \u001b[38;5;21;01mmechanize\u001b[39;00m\n\u001b[0;32m      3\u001b[0m \u001b[38;5;28;01mfrom\u001b[39;00m \u001b[38;5;21;01mbs4\u001b[39;00m \u001b[38;5;28;01mimport\u001b[39;00m BeautifulSoup\n",
      "\u001b[1;31mModuleNotFoundError\u001b[0m: No module named 'mechanize'"
     ]
    }
   ],
   "source": [
    "import re\n",
    "import mechanize\n",
    "from bs4 import BeautifulSoup\n",
    "\n"
   ]
  },
  {
   "cell_type": "code",
   "execution_count": null,
   "metadata": {},
   "outputs": [],
   "source": []
  }
 ],
 "metadata": {
  "kernelspec": {
   "display_name": "Python 3",
   "language": "python",
   "name": "python3"
  },
  "language_info": {
   "codemirror_mode": {
    "name": "ipython",
    "version": 3
   },
   "file_extension": ".py",
   "mimetype": "text/x-python",
   "name": "python",
   "nbconvert_exporter": "python",
   "pygments_lexer": "ipython3",
   "version": "3.11.2"
  },
  "orig_nbformat": 4
 },
 "nbformat": 4,
 "nbformat_minor": 2
}
