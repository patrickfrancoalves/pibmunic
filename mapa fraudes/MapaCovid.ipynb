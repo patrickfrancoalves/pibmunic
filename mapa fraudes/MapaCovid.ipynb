{
 "cells": [
  {
   "cell_type": "code",
   "execution_count": null,
   "metadata": {},
   "outputs": [],
   "source": [
    "# Antes instalar matplotlib (os, sys, numpy e pandas ja estao instalados)\n",
    "! pip install matplotlib"
   ]
  },
  {
   "cell_type": "code",
   "execution_count": 2,
   "metadata": {},
   "outputs": [],
   "source": [
    "# Importando bibliotecas necessárias\n",
    "import os\n",
    "import sys\n",
    "import math\n",
    "import pandas as pd\n",
    "import numpy as np\n",
    "import matplotlib.pyplot as plt"
   ]
  },
  {
   "cell_type": "markdown",
   "metadata": {},
   "source": [
    "# Menu\n",
    "<a name=\"navegacao\"></a>\n",
    "\n",
    "## 1) [Preparação dos dados](#parte1)\n",
    "- 1.1 [Leitura dos Dados de Exemplo](#exemplo)\n",
    "- 1.2 [Leitura das Coordenadas](#coordenadas)\n",
    "- 1.3 [Mapa do Exemplo](#mapaexemplo)\n"
   ]
  },
  {
   "cell_type": "markdown",
   "metadata": {},
   "source": [
    "<a name=\"exemplo\"></a>\n",
    "\n",
    "## 1.1) Leitura dos Dados de Exemplo"
   ]
  },
  {
   "cell_type": "code",
   "execution_count": 3,
   "metadata": {},
   "outputs": [],
   "source": [
    "# Carregar dados da COVID no Python. Para tanto utilizamos o read_csv do pandas:\n",
    "# Os dados estao na web\n",
    "\n",
    "covid = pd.read_csv(\n",
    "    filepath_or_buffer = 'https://raw.githubusercontent.com/jonates/opendata/master/covid19_brasil/cases-brazil-cities-20220811.csv', \n",
    "    sep=',',\n",
    "    decimal='.'\n",
    ")"
   ]
  },
  {
   "cell_type": "code",
   "execution_count": null,
   "metadata": {},
   "outputs": [],
   "source": [
    "# Tail permite visualizacao do final da tabela. Tente covid.tail(15)\n",
    "covid.tail()"
   ]
  },
  {
   "cell_type": "code",
   "execution_count": null,
   "metadata": {},
   "outputs": [],
   "source": [
    "# head permite visualizacao do inicio da tabela. Tente covid.head(15)\n",
    "covid.head()"
   ]
  },
  {
   "cell_type": "code",
   "execution_count": null,
   "metadata": {},
   "outputs": [],
   "source": [
    "# O describe traz um sumario das variaveis quantitativas \n",
    "covid.describe()"
   ]
  },
  {
   "cell_type": "code",
   "execution_count": null,
   "metadata": {},
   "outputs": [],
   "source": [
    "# Covid no Distrito Federal\n",
    "covid[covid['state']=='DF'].describe()"
   ]
  },
  {
   "cell_type": "code",
   "execution_count": null,
   "metadata": {},
   "outputs": [],
   "source": [
    "# Covid no Rio de Janeiro\n",
    "covid[covid['state']=='RJ'].describe()"
   ]
  },
  {
   "cell_type": "markdown",
   "metadata": {},
   "source": [
    "<a name=\"coordenadas\"></a>\n",
    "\n",
    "## 1.2) Leitura das Coordenadas"
   ]
  },
  {
   "cell_type": "code",
   "execution_count": 11,
   "metadata": {},
   "outputs": [],
   "source": [
    "# Deve ser necessario instalar a biblioteca json antes\n",
    "#! pip install json"
   ]
  },
  {
   "cell_type": "code",
   "execution_count": 17,
   "metadata": {},
   "outputs": [],
   "source": [
    "import json\n",
    "# Arquivo de coordenadas (geojs-100-mun.json) precisa estar salvo no mesmo local do script jupyter (.ipynb)\n",
    "# Abra o arquivo JSON e carregue os dados de coordrenadas\n",
    "with open('geojs-100-mun.json', 'r', encoding='utf-8') as f:\n",
    "    geo_cidades = json.load(f)"
   ]
  },
  {
   "cell_type": "code",
   "execution_count": null,
   "metadata": {},
   "outputs": [],
   "source": [
    "# So uma visualizacao da estrutura das coordenadas\n",
    "geo_cidades['features'][1]"
   ]
  },
  {
   "cell_type": "code",
   "execution_count": null,
   "metadata": {},
   "outputs": [],
   "source": [
    "# Renomeando o ibgeID para id igual ao do arquivo geoespacial\n",
    "covid = covid.rename(columns={'ibgeID':'id'})\n",
    "\n",
    "# transformando o 'id' para tipo object, o mesmo do geoespacial\n",
    "covid['id'] = covid['id'].astype('str')\n",
    "\n",
    "# Espiando resultado da estrutura\n",
    "covid.info()"
   ]
  },
  {
   "cell_type": "markdown",
   "metadata": {},
   "source": [
    "<a name=\"mapaexemplo\"></a>\n",
    "\n",
    "## 1.3) Mapa do Exemplo\n"
   ]
  },
  {
   "cell_type": "code",
   "execution_count": 10,
   "metadata": {},
   "outputs": [],
   "source": [
    "# Deve ser necessario instalar a biblioteca plotly antes\n",
    "#! pip install plotly"
   ]
  },
  {
   "cell_type": "code",
   "execution_count": 2,
   "metadata": {},
   "outputs": [],
   "source": [
    "# Importando biblioteca necessaria\n",
    "import plotly.express as px"
   ]
  },
  {
   "cell_type": "code",
   "execution_count": null,
   "metadata": {},
   "outputs": [],
   "source": [
    "# Criando o mapa\n",
    "mapa_mortalidade_covid = px.choropleth_mapbox(\n",
    "    data_frame = covid, \n",
    "    geojson = geo_cidades, \n",
    "    locations='id', \n",
    "    featureidkey='properties.id',\n",
    "    color='deaths_per_100k_inhabitants',\n",
    "    color_continuous_scale= 'reds',\n",
    "    range_color=(150, 450),\n",
    "    mapbox_style='open-street-map',\n",
    "    zoom=2.5, \n",
    "    center = {\"lat\": -17.14, \"lon\": -57.33},\n",
    "    opacity=1,\n",
    "    labels={'deaths_per_100k_inhabitants':'Tx. Mortalidade (/ 100 mil hab.)', \n",
    "            'id' : 'Código do município'\n",
    "    },\n",
    "    width = 1000,\n",
    "    height = 800,\n",
    "    title = 'Taxa de Mortalidade por Covid-19, por municípios, 11/08/2022'\n",
    ")\n",
    "\n",
    "# Ajustando as margens\n",
    "#mapa_mortalidade_covid.update_layout(margin={'r':0,'t':0,'l':0, 'b':0})\n",
    "\n",
    "# Reduzindo a largura das bordas dos municípios\n",
    "#mapa_mortalidade_covid.update_traces(marker_line_width=0.01)\n",
    "\n",
    "# Exibindo o mapa\n",
    "#mapa_mortalidade_covid.show()\n"
   ]
  },
  {
   "cell_type": "markdown",
   "metadata": {},
   "source": [
    "## Fazer Zoom no Distrito Federal\n",
    "- Alteramos _center_ = {\"lat\": -15.795, \"lon\": -47.757778},\n",
    "- Alteramos _zoom_=7.5, "
   ]
  },
  {
   "cell_type": "code",
   "execution_count": null,
   "metadata": {},
   "outputs": [],
   "source": [
    "# Criando o mapa\n",
    "mapa_mortalidade_covid = px.choropleth_mapbox(\n",
    "    data_frame = covid, \n",
    "    geojson = geo_cidades, \n",
    "    locations='id', \n",
    "    featureidkey='properties.id',\n",
    "    color='deaths_per_100k_inhabitants',\n",
    "    color_continuous_scale= 'reds',\n",
    "    range_color=(150, 450),\n",
    "    mapbox_style='open-street-map',\n",
    "    zoom=7.5, \n",
    "    center = {\"lat\": -15.795, \"lon\": -47.757778},\n",
    "    opacity=1,\n",
    "    labels={'deaths_per_100k_inhabitants':'Tx. Mortalidade (/ 100 mil hab.)', \n",
    "            'id' : 'Código do município'\n",
    "    },\n",
    "    width = 1000,\n",
    "    height = 800,\n",
    "    title = 'Taxa de Mortalidade por Covid-19, por municípios, 11/08/2022'\n",
    ")\n",
    "\n",
    "# Ajustando as margens\n",
    "#mapa_mortalidade_covid.update_layout(margin={'r':0,'t':0,'l':0, 'b':0})\n",
    "\n",
    "# Reduzindo a largura das bordas dos municípios\n",
    "#mapa_mortalidade_covid.update_traces(marker_line_width=0.01)\n",
    "\n",
    "# Exibindo o mapa\n",
    "#mapa_mortalidade_covid.show()"
   ]
  },
  {
   "cell_type": "markdown",
   "metadata": {},
   "source": [
    "\n",
    "## Fazer Zoom no Rio de Janeiro\n",
    "- As coordenadas do RJ são: -43.2147 e \t-43.1637\n",
    "- _center_ = {\"lat\": -43.2147, \"lon\": -43.1637}\n",
    "- Para mostrar o numero de mortes por total de casos de COVID (deaths_by_totalCases): color='deaths_by_totalCases',"
   ]
  },
  {
   "cell_type": "markdown",
   "metadata": {},
   "source": []
  }
 ],
 "metadata": {
  "kernelspec": {
   "display_name": "Python 3",
   "language": "python",
   "name": "python3"
  },
  "language_info": {
   "codemirror_mode": {
    "name": "ipython",
    "version": 3
   },
   "file_extension": ".py",
   "mimetype": "text/x-python",
   "name": "python",
   "nbconvert_exporter": "python",
   "pygments_lexer": "ipython3",
   "version": "3.11.2"
  }
 },
 "nbformat": 4,
 "nbformat_minor": 4
}
