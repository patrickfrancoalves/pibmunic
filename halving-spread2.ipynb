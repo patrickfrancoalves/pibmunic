{
 "cells": [
  {
   "cell_type": "code",
   "execution_count": 7,
   "metadata": {},
   "outputs": [
    {
     "name": "stderr",
     "output_type": "stream",
     "text": [
      "ERROR: Could not find a version that satisfies the requirement bayes_opt (from versions: none)\n",
      "ERROR: No matching distribution found for bayes_opt\n",
      "WARNING: You are using pip version 21.1.2; however, version 21.3.1 is available.\n",
      "You should consider upgrading via the 'c:\\users\\patri\\appdata\\local\\programs\\python\\python37\\python.exe -m pip install --upgrade pip' command.\n"
     ]
    }
   ],
   "source": [
    "! pip install bayes_opt"
   ]
  },
  {
   "cell_type": "code",
   "execution_count": 9,
   "metadata": {},
   "outputs": [],
   "source": [
    "from warnings import simplefilter, filterwarnings\n",
    "from sklearn.exceptions import ConvergenceWarning\n",
    "import warnings\n",
    "#from bayes_opt import BayesianOptimization\n",
    "\n",
    "with warnings.catch_warnings():\n",
    "    warnings.filterwarnings(\"ignore\", category=ConvergenceWarning)\n",
    "\n",
    "simplefilter(action='ignore', category=FutureWarning)\n",
    "filterwarnings('ignore')"
   ]
  },
  {
   "cell_type": "markdown",
   "metadata": {},
   "source": [
    "# Menu\n",
    "<a name=\"navegacao\"></a>\n",
    "\n",
    "## 1) [Data cleaning and feature engineering](#cleaning)\n",
    "- 1.1 [Encoding de Conglomerado e Natureza Jurídica](#encoding)\n",
    "- 1.2 [Descrição dos dados](#descricao)\n",
    "- 1.3 [Feature engineering](#engineering)\n",
    "- 1.4 [Train/Test partition](#partition)\n",
    "\n",
    "\n",
    "## 2) [Baysian Optimization for Hyperparameters Tunning](#bayesian)\n",
    "- 2.1 [Suport Vector Machine](#svm0)\n",
    "- 2.2 [Stochastic Gradient Descent](#sgd0)\n",
    "- 2.3 [Multi-Task Elastic-Net](#elastic0)\n",
    "- 2.4 [Least Angle Regression Model (LAR)](#LAR0)\n",
    "- 2.5 [Ridge Regression](#ridge0)\n",
    "- 2.6 [ElasticNet Regression](#ElasNet0)\n",
    "- 2.7 [Bayesian Ridge](#bayesian0)\n",
    "- 2.8 [Lasso Regression](#lasso0)\n",
    "- 2.9 [Multilayer Perceptron Regression](#mlp0)\n",
    "- 2.10 [Nearest Neighbors Regression](#nnr0)\n",
    "- 2.11 [Resumo dos resultados](#resumo_rs0)\n",
    "\n",
    "\n",
    "## 3) [Random Search for Hyperparameters Tunning](#randomsearch)\n",
    "- 3.1 [Suport Vector Machine](#svm1)\n",
    "- 3.2 [Stochastic Gradient Descent](#sgd1)\n",
    "- 3.3 [Multi-Task Elastic-Net](#elastic1)\n",
    "- 3.4 [Least Angle Regression Model (LAR)](#LAR1)\n",
    "- 3.5 [Ridge Regression](#ridge1)\n",
    "- 3.6 [ElasticNet Regression](#ElasNet1)\n",
    "- 3.7 [Bayesian Ridge](#bayesian1)\n",
    "- 3.8 [Lasso Regression](#lasso1)\n",
    "- 3.9 [Multilayer Perceptron Regression](#mlp1)\n",
    "- 3.10 [Nearest Neighbors Regression](#nnr1)\n",
    "- 3.11 [Resumo dos resultados](#resumo_rs1)\n",
    "\n",
    "\n",
    "## 4) [Random Halving Serach for Hyperparameters Tunning](#halving)\n",
    "- 4.1 [Suport Vector Machine](#svm2)\n",
    "- 4.2 [Stochastic Gradient Descent](#sgd2)\n",
    "- 4.3 [Multi-Task Elastic-Net](#elastic2)\n",
    "- 4.4 [Least Angle Regression Model (LAR)](#LAR2)\n",
    "- 4.5 [Ridge Regression](#ridge2)\n",
    "- 4.6 [ElasticNet Regression](#ElasNet2)\n",
    "- 4.7 [Bayesian Ridge](#bayesian2)\n",
    "- 4.8 [Lasso Regression](#lasso2)\n",
    "- 4.9 [Multilayer Perceptron Regression](#mlp2)\n",
    "- 4.10 [Nearest Neighbors Regression](#nnr2)\n",
    "- 4.11 [Resumo dos resultados](#resumo_rs2)"
   ]
  },
  {
   "cell_type": "code",
   "execution_count": 10,
   "metadata": {},
   "outputs": [],
   "source": [
    "from time import time\n",
    "import requests\n",
    "import pandas as pd\n",
    "import numpy as np \n",
    "import random \n",
    "import os\n",
    "import pickle\n",
    "from sklearn.model_selection import RandomizedSearchCV, GridSearchCV"
   ]
  },
  {
   "cell_type": "code",
   "execution_count": 12,
   "metadata": {},
   "outputs": [
    {
     "name": "stdout",
     "output_type": "stream",
     "text": [
      "Wall time: 1.25 s\n"
     ]
    }
   ],
   "source": [
    "%%time\n",
    "\n",
    "spread = pd.read_sas('dados bndes/dadospreadpy.sas7bdat' , encoding='latin-1')\n",
    "#https://www.analyticsvidhya.com/blog/2018/03/introduction-regression-splines-python-codes/"
   ]
  },
  {
   "cell_type": "markdown",
   "metadata": {},
   "source": [
    "### Veja tutorial sobre lags em um painel de dados:\n",
    "\n",
    "- https://towardsdatascience.com/timeseries-data-munging-lagging-variables-that-are-distributed-across-multiple-groups-86e0a038460c\n",
    "\n",
    "### Veja tutorial sobre Bayesian Hyperparameter Tunning for ML:\n",
    "\n",
    "- https://towardsdatascience.com/a-conceptual-explanation-of-bayesian-model-based-hyperparameter-optimization-for-machine-learning-b8172278050f"
   ]
  },
  {
   "cell_type": "code",
   "execution_count": 13,
   "metadata": {},
   "outputs": [],
   "source": [
    "#spread.columns"
   ]
  },
  {
   "cell_type": "markdown",
   "metadata": {},
   "source": [
    "<a name=\"cleaning\"></a>\n",
    "\n",
    "\n",
    "# 1) Data Cleaning and Feature Engineering\n",
    "\n",
    "- ir para [Menu Principal](#navegacao)\n",
    "- ir para [Random Search Tunning](#randomsearch)\n",
    "- ir para [Train/Test partition](#partition)\n",
    "\n",
    "\n",
    "<a name=\"encoding\"></a>\n",
    "\n",
    "## 1.1) Encoding de Conglomerado e Natureza Jurídica\n"
   ]
  },
  {
   "cell_type": "code",
   "execution_count": 14,
   "metadata": {},
   "outputs": [
    {
     "name": "stdout",
     "output_type": "stream",
     "text": [
      "Wall time: 27 ms\n"
     ]
    }
   ],
   "source": [
    "%%time\n",
    "\n",
    "spread.fillna(0,inplace=True)"
   ]
  },
  {
   "cell_type": "code",
   "execution_count": 15,
   "metadata": {},
   "outputs": [
    {
     "name": "stdout",
     "output_type": "stream",
     "text": [
      "Wall time: 52 ms\n"
     ]
    },
    {
     "data": {
      "text/html": [
       "<div>\n",
       "<style scoped>\n",
       "    .dataframe tbody tr th:only-of-type {\n",
       "        vertical-align: middle;\n",
       "    }\n",
       "\n",
       "    .dataframe tbody tr th {\n",
       "        vertical-align: top;\n",
       "    }\n",
       "\n",
       "    .dataframe thead th {\n",
       "        text-align: right;\n",
       "    }\n",
       "</style>\n",
       "<table border=\"1\" class=\"dataframe\">\n",
       "  <thead>\n",
       "    <tr style=\"text-align: right;\">\n",
       "      <th></th>\n",
       "      <th>Conglomerado</th>\n",
       "      <th>banco_enc</th>\n",
       "    </tr>\n",
       "  </thead>\n",
       "  <tbody>\n",
       "    <tr>\n",
       "      <th>0</th>\n",
       "      <td>0</td>\n",
       "      <td>23462</td>\n",
       "    </tr>\n",
       "    <tr>\n",
       "      <th>1</th>\n",
       "      <td>ABC-BRASIL</td>\n",
       "      <td>289</td>\n",
       "    </tr>\n",
       "    <tr>\n",
       "      <th>2</th>\n",
       "      <td>ALFA</td>\n",
       "      <td>435</td>\n",
       "    </tr>\n",
       "    <tr>\n",
       "      <th>3</th>\n",
       "      <td>BANCOOB</td>\n",
       "      <td>389</td>\n",
       "    </tr>\n",
       "    <tr>\n",
       "      <th>4</th>\n",
       "      <td>BANESTES</td>\n",
       "      <td>34</td>\n",
       "    </tr>\n",
       "  </tbody>\n",
       "</table>\n",
       "</div>"
      ],
      "text/plain": [
       "  Conglomerado  banco_enc\n",
       "0            0      23462\n",
       "1   ABC-BRASIL        289\n",
       "2         ALFA        435\n",
       "3      BANCOOB        389\n",
       "4     BANESTES         34"
      ]
     },
     "execution_count": 15,
     "metadata": {},
     "output_type": "execute_result"
    }
   ],
   "source": [
    "%%time\n",
    "\n",
    "enc_congl = spread[['CNPJ','Conglomerado']].groupby(['Conglomerado']).count().reset_index().rename(columns={\"CNPJ\":\"banco_enc\"})\n",
    "enc_congl.head()"
   ]
  },
  {
   "cell_type": "code",
   "execution_count": 16,
   "metadata": {},
   "outputs": [
    {
     "name": "stdout",
     "output_type": "stream",
     "text": [
      "Wall time: 120 ms\n"
     ]
    }
   ],
   "source": [
    "%%time\n",
    "spread = pd.merge( spread, enc_congl, left_on=['Conglomerado'],right_on=['Conglomerado'], how='inner')"
   ]
  },
  {
   "cell_type": "code",
   "execution_count": 17,
   "metadata": {},
   "outputs": [
    {
     "name": "stdout",
     "output_type": "stream",
     "text": [
      "Wall time: 59 ms\n"
     ]
    },
    {
     "data": {
      "text/html": [
       "<div>\n",
       "<style scoped>\n",
       "    .dataframe tbody tr th:only-of-type {\n",
       "        vertical-align: middle;\n",
       "    }\n",
       "\n",
       "    .dataframe tbody tr th {\n",
       "        vertical-align: top;\n",
       "    }\n",
       "\n",
       "    .dataframe thead th {\n",
       "        text-align: right;\n",
       "    }\n",
       "</style>\n",
       "<table border=\"1\" class=\"dataframe\">\n",
       "  <thead>\n",
       "    <tr style=\"text-align: right;\">\n",
       "      <th></th>\n",
       "      <th>NATJUR</th>\n",
       "      <th>firma_enc</th>\n",
       "    </tr>\n",
       "  </thead>\n",
       "  <tbody>\n",
       "    <tr>\n",
       "      <th>0</th>\n",
       "      <td>1015</td>\n",
       "      <td>6</td>\n",
       "    </tr>\n",
       "    <tr>\n",
       "      <th>1</th>\n",
       "      <td>1031</td>\n",
       "      <td>65</td>\n",
       "    </tr>\n",
       "    <tr>\n",
       "      <th>2</th>\n",
       "      <td>1112</td>\n",
       "      <td>8</td>\n",
       "    </tr>\n",
       "    <tr>\n",
       "      <th>3</th>\n",
       "      <td>1244</td>\n",
       "      <td>2</td>\n",
       "    </tr>\n",
       "    <tr>\n",
       "      <th>4</th>\n",
       "      <td>2011</td>\n",
       "      <td>28</td>\n",
       "    </tr>\n",
       "  </tbody>\n",
       "</table>\n",
       "</div>"
      ],
      "text/plain": [
       "  NATJUR  firma_enc\n",
       "0   1015          6\n",
       "1   1031         65\n",
       "2   1112          8\n",
       "3   1244          2\n",
       "4   2011         28"
      ]
     },
     "execution_count": 17,
     "metadata": {},
     "output_type": "execute_result"
    }
   ],
   "source": [
    "%%time\n",
    "\n",
    "enc_natjur = spread[['CNPJ','NATJUR']].groupby(['NATJUR']).count().reset_index().rename(columns={\"CNPJ\":\"firma_enc\"})\n",
    "enc_natjur.head()"
   ]
  },
  {
   "cell_type": "code",
   "execution_count": 18,
   "metadata": {},
   "outputs": [
    {
     "name": "stdout",
     "output_type": "stream",
     "text": [
      "Wall time: 114 ms\n"
     ]
    }
   ],
   "source": [
    "%%time\n",
    "spread = pd.merge( spread, enc_natjur, left_on=['NATJUR'],right_on=['NATJUR'], how='inner')"
   ]
  },
  {
   "cell_type": "code",
   "execution_count": 19,
   "metadata": {},
   "outputs": [
    {
     "data": {
      "text/html": [
       "<div>\n",
       "<style scoped>\n",
       "    .dataframe tbody tr th:only-of-type {\n",
       "        vertical-align: middle;\n",
       "    }\n",
       "\n",
       "    .dataframe tbody tr th {\n",
       "        vertical-align: top;\n",
       "    }\n",
       "\n",
       "    .dataframe thead th {\n",
       "        text-align: right;\n",
       "    }\n",
       "</style>\n",
       "<table border=\"1\" class=\"dataframe\">\n",
       "  <thead>\n",
       "    <tr style=\"text-align: right;\">\n",
       "      <th></th>\n",
       "      <th>CNPJ</th>\n",
       "      <th>EMPRESA</th>\n",
       "    </tr>\n",
       "    <tr>\n",
       "      <th>banco_b1</th>\n",
       "      <th></th>\n",
       "      <th></th>\n",
       "    </tr>\n",
       "  </thead>\n",
       "  <tbody>\n",
       "    <tr>\n",
       "      <th>0.0</th>\n",
       "      <td>24450</td>\n",
       "      <td>24450</td>\n",
       "    </tr>\n",
       "    <tr>\n",
       "      <th>1.0</th>\n",
       "      <td>34647</td>\n",
       "      <td>34647</td>\n",
       "    </tr>\n",
       "  </tbody>\n",
       "</table>\n",
       "</div>"
      ],
      "text/plain": [
       "           CNPJ  EMPRESA\n",
       "banco_b1                \n",
       "0.0       24450    24450\n",
       "1.0       34647    34647"
      ]
     },
     "execution_count": 19,
     "metadata": {},
     "output_type": "execute_result"
    }
   ],
   "source": [
    "spread.loc[ (spread['TCB']=='b1'), 'banco_b1'] = 1\n",
    "spread.loc[~(spread['TCB']=='b1'), 'banco_b1'] = 0\n",
    "\n",
    "spread.loc[ (spread['TCB']=='b2'), 'banco_b2'] = 1\n",
    "spread.loc[~(spread['TCB']=='b2'), 'banco_b2'] = 0\n",
    "\n",
    "spread.loc[ (spread['TCB']=='b3C'), 'banco_b3'] = 1\n",
    "spread.loc[~(spread['TCB']=='b3C'), 'banco_b3'] = 0\n",
    "\n",
    "spread[['CNPJ','EMPRESA','banco_b1']].groupby(['banco_b1']).count()"
   ]
  },
  {
   "cell_type": "code",
   "execution_count": 20,
   "metadata": {},
   "outputs": [
    {
     "data": {
      "text/html": [
       "<div>\n",
       "<style scoped>\n",
       "    .dataframe tbody tr th:only-of-type {\n",
       "        vertical-align: middle;\n",
       "    }\n",
       "\n",
       "    .dataframe tbody tr th {\n",
       "        vertical-align: top;\n",
       "    }\n",
       "\n",
       "    .dataframe thead th {\n",
       "        text-align: right;\n",
       "    }\n",
       "</style>\n",
       "<table border=\"1\" class=\"dataframe\">\n",
       "  <thead>\n",
       "    <tr style=\"text-align: right;\">\n",
       "      <th></th>\n",
       "      <th>CNPJ</th>\n",
       "      <th>EMPRESA</th>\n",
       "    </tr>\n",
       "    <tr>\n",
       "      <th>banco_b3</th>\n",
       "      <th></th>\n",
       "      <th></th>\n",
       "    </tr>\n",
       "  </thead>\n",
       "  <tbody>\n",
       "    <tr>\n",
       "      <th>0.0</th>\n",
       "      <td>58868</td>\n",
       "      <td>58868</td>\n",
       "    </tr>\n",
       "    <tr>\n",
       "      <th>1.0</th>\n",
       "      <td>229</td>\n",
       "      <td>229</td>\n",
       "    </tr>\n",
       "  </tbody>\n",
       "</table>\n",
       "</div>"
      ],
      "text/plain": [
       "           CNPJ  EMPRESA\n",
       "banco_b3                \n",
       "0.0       58868    58868\n",
       "1.0         229      229"
      ]
     },
     "execution_count": 20,
     "metadata": {},
     "output_type": "execute_result"
    }
   ],
   "source": [
    "spread[['CNPJ','EMPRESA','banco_b3']].groupby(['banco_b3']).count()"
   ]
  },
  {
   "cell_type": "code",
   "execution_count": 21,
   "metadata": {},
   "outputs": [
    {
     "data": {
      "text/html": [
       "<div>\n",
       "<style scoped>\n",
       "    .dataframe tbody tr th:only-of-type {\n",
       "        vertical-align: middle;\n",
       "    }\n",
       "\n",
       "    .dataframe tbody tr th {\n",
       "        vertical-align: top;\n",
       "    }\n",
       "\n",
       "    .dataframe thead th {\n",
       "        text-align: right;\n",
       "    }\n",
       "</style>\n",
       "<table border=\"1\" class=\"dataframe\">\n",
       "  <thead>\n",
       "    <tr style=\"text-align: right;\">\n",
       "      <th></th>\n",
       "      <th>CNPJ</th>\n",
       "      <th>EMPRESA</th>\n",
       "    </tr>\n",
       "    <tr>\n",
       "      <th>TCB</th>\n",
       "      <th></th>\n",
       "      <th></th>\n",
       "    </tr>\n",
       "  </thead>\n",
       "  <tbody>\n",
       "    <tr>\n",
       "      <th>b1</th>\n",
       "      <td>34647</td>\n",
       "      <td>34647</td>\n",
       "    </tr>\n",
       "    <tr>\n",
       "      <th>b2</th>\n",
       "      <td>22218</td>\n",
       "      <td>22218</td>\n",
       "    </tr>\n",
       "    <tr>\n",
       "      <th>b3C</th>\n",
       "      <td>229</td>\n",
       "      <td>229</td>\n",
       "    </tr>\n",
       "    <tr>\n",
       "      <th>b4</th>\n",
       "      <td>1447</td>\n",
       "      <td>1447</td>\n",
       "    </tr>\n",
       "    <tr>\n",
       "      <th>n1</th>\n",
       "      <td>556</td>\n",
       "      <td>556</td>\n",
       "    </tr>\n",
       "  </tbody>\n",
       "</table>\n",
       "</div>"
      ],
      "text/plain": [
       "      CNPJ  EMPRESA\n",
       "TCB                \n",
       "b1   34647    34647\n",
       "b2   22218    22218\n",
       "b3C    229      229\n",
       "b4    1447     1447\n",
       "n1     556      556"
      ]
     },
     "execution_count": 21,
     "metadata": {},
     "output_type": "execute_result"
    }
   ],
   "source": [
    "\n",
    "spread[['CNPJ','EMPRESA','TCB']].groupby(['TCB']).count()"
   ]
  },
  {
   "cell_type": "markdown",
   "metadata": {},
   "source": [
    "<a name=\"engineering\"></a>\n",
    "\n",
    "## 1.2) Feature engineering\n",
    "- ir para [Menu Principal](#navegacao)\n",
    "- ir para [Random Search Tunning](#randomsearch)\n",
    "- ir para [Train/Test partition](#partition)\n"
   ]
  },
  {
   "cell_type": "code",
   "execution_count": 22,
   "metadata": {},
   "outputs": [
    {
     "name": "stdout",
     "output_type": "stream",
     "text": [
      "Wall time: 23 ms\n"
     ]
    }
   ],
   "source": [
    "%%time\n",
    "spread['target'] = spread['SpreadInstituicaoFinanceira'] \n",
    "\n",
    "# dados da operação\n",
    "spread['oper_valor']                   = np.log(spread['ValorOperacao']) \n",
    "spread['oper_spreadbndes']             = spread['SpreadBNDES'] \n",
    "spread['oper_juros']                   = spread['Juros'] \n",
    "spread['oper_amortizacao']             = np.log(spread['Prazo_Amortiza']) \n",
    "spread['oper_carencia']                = np.log(spread['prazo_carencia']+1) \n",
    "spread['oper_valor_spreadbndes']       = np.log(spread['ValorOperacao']) - spread['SpreadBNDES']\n",
    "spread['oper_valor_juros']             = np.log(spread['ValorOperacao']) - spread['Juros']\n",
    "spread['oper_valor_amortizacao']       = np.log(spread['ValorOperacao']) - spread['Prazo_Amortiza']\n",
    "spread['oper_valor_carencia']          = np.log(spread['ValorOperacao']) - spread['prazo_carencia'] \n",
    "spread['oper_spreadbndes_juros']       = spread['SpreadBNDES']           - spread['Juros'] \n",
    "spread['oper_spreadbndes_amortizacao'] = spread['SpreadBNDES']           - spread['Prazo_Amortiza']\n",
    "spread['oper_spreadbndes_carencia']    = spread['SpreadBNDES']           - spread['prazo_carencia']\n",
    "spread['oper_juros_amortizacao']       = spread['Juros']                 - spread['Prazo_Amortiza']\n",
    "spread['oper_juros_carencia']          = spread['Juros']                 - spread['prazo_carencia']\n",
    "spread['oper_amortizacao_carencia']    = spread['Prazo_Amortiza']        - spread['prazo_carencia']"
   ]
  },
  {
   "cell_type": "code",
   "execution_count": 23,
   "metadata": {},
   "outputs": [
    {
     "name": "stdout",
     "output_type": "stream",
     "text": [
      "Wall time: 33 ms\n"
     ]
    }
   ],
   "source": [
    "%%time\n",
    "# dados da firma\n",
    "spread['firma_potot']  = np.log(spread['POTOT_FIRMA']+1) \n",
    "spread['firma_idade']  = np.log(spread['IDADE_FIRMA']+1) \n",
    "spread['firma_massa']  = np.log(spread['MSAL_FIRMA']+1) \n",
    "spread['firma_po3gr']  = np.log(spread['PO3G_FIRMA']+1) \n",
    "spread['firma_rotat']  = np.log(spread['ROT_FIRMA']+1) \n",
    "spread['firma_engen']  = np.log(spread['ENG_FIRMA']+1) \n",
    "spread['firma_share']  = np.log(spread['SHARE_FIRMA']+1) \n",
    "\n",
    "spread['firma_potot_idade'] = np.log(spread['POTOT_FIRMA']+1) / np.log(spread['IDADE_FIRMA']+2) \n",
    "spread['firma_potot_massa'] = np.log(spread['POTOT_FIRMA']+1) / np.log(spread['MSAL_FIRMA']+2) \n",
    "spread['firma_potot_po3gr'] = np.log(spread['POTOT_FIRMA']+1) / np.log(spread['PO3G_FIRMA']+2) \n",
    "spread['firma_idade_massa'] = np.log(spread['IDADE_FIRMA']+1) / np.log(spread['MSAL_FIRMA']+2) \n",
    "spread['firma_idade_po3gr'] = np.log(spread['IDADE_FIRMA']+1) / np.log(spread['PO3G_FIRMA']+2) \n",
    "spread['firma_idade_engen'] = np.log(spread['IDADE_FIRMA']+1) / np.log(spread['ENG_FIRMA']+2)\n",
    "spread['firma_massa_po3gr'] = np.log(spread['MSAL_FIRMA']+1)  / np.log(spread['PO3G_FIRMA']+2) \n"
   ]
  },
  {
   "cell_type": "code",
   "execution_count": 24,
   "metadata": {},
   "outputs": [],
   "source": [
    "# dados da instituição financeira\n",
    "spread['banco_ativo']            =np.log(spread['Ativo_Total']) \n",
    "spread['banco_carteira']         =np.log(spread['Carteira_Credito']) \n",
    "spread['banco_passivo']          =np.log(spread['Passivo_Circulante']) \n",
    "spread['banco_captacoes']        =np.log(spread['Captacoes']+1) \n",
    "spread['banco_patrimonio']       =np.log(spread['Patrimonio_Liquido']+1) \n",
    "spread['banco_lucroliquido']     =np.log(spread['Lucro_Liquido']+1) \n",
    "spread['banco_numagencias']      =np.log(spread['Numero_Agencias']+1) \n",
    "spread['banco_numeropostos']     =np.log(spread['Numero_Postos']+1) \n",
    "spread['banco_ativo_carteira']   =np.log(spread['Ativo_Total'])        /np.log(spread['Carteira_Credito'])   \n",
    "spread['banco_ativo_passivo']    =np.log(spread['Ativo_Total'])        /np.log(spread['Passivo_Circulante']) \n",
    "spread['banco_ativo_captacoes']  =np.log(spread['Ativo_Total'])        /np.log(spread['Captacoes']+1)        \n",
    "spread['banco_ativo_patrimonio'] =np.log(spread['Ativo_Total'])        /np.log(spread['Patrimonio_Liquido']) \n",
    "spread['banco_carteira_passivo'] =np.log(spread['Carteira_Credito'])   /np.log(spread['Passivo_Circulante']) "
   ]
  },
  {
   "cell_type": "code",
   "execution_count": 25,
   "metadata": {},
   "outputs": [
    {
     "name": "stdout",
     "output_type": "stream",
     "text": [
      "Wall time: 42 ms\n"
     ]
    }
   ],
   "source": [
    "%%time\n",
    "\n",
    "spread.fillna(0,inplace=True)"
   ]
  },
  {
   "cell_type": "markdown",
   "metadata": {},
   "source": [
    "<a name=\"descricao\"></a>\n",
    "\n",
    "## 1.3) Descrição dos dados\n",
    "- ir para [Menu Principal](#navegacao)\n",
    "- ir para [Random Search Tunning](#randomsearch)\n",
    "- ir para [Train/Test partition](#partition)"
   ]
  },
  {
   "cell_type": "code",
   "execution_count": 26,
   "metadata": {},
   "outputs": [
    {
     "name": "stdout",
     "output_type": "stream",
     "text": [
      "Wall time: 140 ms\n"
     ]
    },
    {
     "data": {
      "text/html": [
       "<div>\n",
       "<style scoped>\n",
       "    .dataframe tbody tr th:only-of-type {\n",
       "        vertical-align: middle;\n",
       "    }\n",
       "\n",
       "    .dataframe tbody tr th {\n",
       "        vertical-align: top;\n",
       "    }\n",
       "\n",
       "    .dataframe thead th {\n",
       "        text-align: right;\n",
       "    }\n",
       "</style>\n",
       "<table border=\"1\" class=\"dataframe\">\n",
       "  <thead>\n",
       "    <tr style=\"text-align: right;\">\n",
       "      <th></th>\n",
       "      <th>count</th>\n",
       "      <th>mean</th>\n",
       "      <th>std</th>\n",
       "      <th>min</th>\n",
       "      <th>25%</th>\n",
       "      <th>50%</th>\n",
       "      <th>75%</th>\n",
       "      <th>max</th>\n",
       "    </tr>\n",
       "  </thead>\n",
       "  <tbody>\n",
       "    <tr>\n",
       "      <th>firma_enc</th>\n",
       "      <td>59097.0</td>\n",
       "      <td>33605.668257</td>\n",
       "      <td>17273.775945</td>\n",
       "      <td>1.000000e+00</td>\n",
       "      <td>6909.000000</td>\n",
       "      <td>43792.000000</td>\n",
       "      <td>43792.000000</td>\n",
       "      <td>43792.000000</td>\n",
       "    </tr>\n",
       "    <tr>\n",
       "      <th>firma_potot</th>\n",
       "      <td>59097.0</td>\n",
       "      <td>3.373903</td>\n",
       "      <td>1.827505</td>\n",
       "      <td>4.987542e-03</td>\n",
       "      <td>1.951040</td>\n",
       "      <td>3.063391</td>\n",
       "      <td>4.617672</td>\n",
       "      <td>9.556813</td>\n",
       "    </tr>\n",
       "    <tr>\n",
       "      <th>firma_idade</th>\n",
       "      <td>59097.0</td>\n",
       "      <td>2.703713</td>\n",
       "      <td>0.840707</td>\n",
       "      <td>0.000000e+00</td>\n",
       "      <td>2.149434</td>\n",
       "      <td>2.761907</td>\n",
       "      <td>3.311273</td>\n",
       "      <td>4.390367</td>\n",
       "    </tr>\n",
       "    <tr>\n",
       "      <th>firma_massa</th>\n",
       "      <td>59097.0</td>\n",
       "      <td>10.781991</td>\n",
       "      <td>2.256507</td>\n",
       "      <td>0.000000e+00</td>\n",
       "      <td>9.172427</td>\n",
       "      <td>10.538891</td>\n",
       "      <td>12.404739</td>\n",
       "      <td>18.422188</td>\n",
       "    </tr>\n",
       "    <tr>\n",
       "      <th>firma_po3gr</th>\n",
       "      <td>59097.0</td>\n",
       "      <td>1.426054</td>\n",
       "      <td>1.609216</td>\n",
       "      <td>0.000000e+00</td>\n",
       "      <td>0.000000</td>\n",
       "      <td>0.747635</td>\n",
       "      <td>2.475277</td>\n",
       "      <td>9.104200</td>\n",
       "    </tr>\n",
       "    <tr>\n",
       "      <th>firma_rotat</th>\n",
       "      <td>59097.0</td>\n",
       "      <td>0.218042</td>\n",
       "      <td>0.103674</td>\n",
       "      <td>0.000000e+00</td>\n",
       "      <td>0.154151</td>\n",
       "      <td>0.223144</td>\n",
       "      <td>0.287682</td>\n",
       "      <td>0.405465</td>\n",
       "    </tr>\n",
       "    <tr>\n",
       "      <th>firma_engen</th>\n",
       "      <td>59097.0</td>\n",
       "      <td>0.240711</td>\n",
       "      <td>0.632251</td>\n",
       "      <td>0.000000e+00</td>\n",
       "      <td>0.000000</td>\n",
       "      <td>0.000000</td>\n",
       "      <td>0.000000</td>\n",
       "      <td>5.568345</td>\n",
       "    </tr>\n",
       "    <tr>\n",
       "      <th>firma_share</th>\n",
       "      <td>59097.0</td>\n",
       "      <td>0.001115</td>\n",
       "      <td>0.004967</td>\n",
       "      <td>5.847944e-09</td>\n",
       "      <td>0.000011</td>\n",
       "      <td>0.000062</td>\n",
       "      <td>0.000378</td>\n",
       "      <td>0.252814</td>\n",
       "    </tr>\n",
       "    <tr>\n",
       "      <th>firma_potot_idade</th>\n",
       "      <td>59097.0</td>\n",
       "      <td>1.203585</td>\n",
       "      <td>0.589484</td>\n",
       "      <td>1.954530e-03</td>\n",
       "      <td>0.783232</td>\n",
       "      <td>1.156933</td>\n",
       "      <td>1.551576</td>\n",
       "      <td>7.214130</td>\n",
       "    </tr>\n",
       "    <tr>\n",
       "      <th>firma_potot_massa</th>\n",
       "      <td>59097.0</td>\n",
       "      <td>0.296870</td>\n",
       "      <td>0.187812</td>\n",
       "      <td>2.096026e-03</td>\n",
       "      <td>0.212821</td>\n",
       "      <td>0.291238</td>\n",
       "      <td>0.376063</td>\n",
       "      <td>6.600389</td>\n",
       "    </tr>\n",
       "    <tr>\n",
       "      <th>firma_potot_po3gr</th>\n",
       "      <td>59097.0</td>\n",
       "      <td>2.244553</td>\n",
       "      <td>1.065487</td>\n",
       "      <td>7.195501e-03</td>\n",
       "      <td>1.485592</td>\n",
       "      <td>1.995981</td>\n",
       "      <td>2.798258</td>\n",
       "      <td>8.540361</td>\n",
       "    </tr>\n",
       "    <tr>\n",
       "      <th>firma_idade_massa</th>\n",
       "      <td>59097.0</td>\n",
       "      <td>0.259019</td>\n",
       "      <td>0.184872</td>\n",
       "      <td>0.000000e+00</td>\n",
       "      <td>0.210693</td>\n",
       "      <td>0.256003</td>\n",
       "      <td>0.295167</td>\n",
       "      <td>5.950235</td>\n",
       "    </tr>\n",
       "    <tr>\n",
       "      <th>firma_idade_po3gr</th>\n",
       "      <td>59097.0</td>\n",
       "      <td>2.163423</td>\n",
       "      <td>1.232437</td>\n",
       "      <td>0.000000e+00</td>\n",
       "      <td>1.100646</td>\n",
       "      <td>1.881195</td>\n",
       "      <td>3.054627</td>\n",
       "      <td>6.228819</td>\n",
       "    </tr>\n",
       "    <tr>\n",
       "      <th>firma_idade_engen</th>\n",
       "      <td>59097.0</td>\n",
       "      <td>3.466077</td>\n",
       "      <td>1.247724</td>\n",
       "      <td>0.000000e+00</td>\n",
       "      <td>2.584963</td>\n",
       "      <td>3.544733</td>\n",
       "      <td>4.375039</td>\n",
       "      <td>6.272956</td>\n",
       "    </tr>\n",
       "    <tr>\n",
       "      <th>firma_massa_po3gr</th>\n",
       "      <td>59097.0</td>\n",
       "      <td>8.550505</td>\n",
       "      <td>4.010864</td>\n",
       "      <td>0.000000e+00</td>\n",
       "      <td>4.792141</td>\n",
       "      <td>8.289234</td>\n",
       "      <td>12.176849</td>\n",
       "      <td>18.824083</td>\n",
       "    </tr>\n",
       "  </tbody>\n",
       "</table>\n",
       "</div>"
      ],
      "text/plain": [
       "                     count          mean           std           min  \\\n",
       "firma_enc          59097.0  33605.668257  17273.775945  1.000000e+00   \n",
       "firma_potot        59097.0      3.373903      1.827505  4.987542e-03   \n",
       "firma_idade        59097.0      2.703713      0.840707  0.000000e+00   \n",
       "firma_massa        59097.0     10.781991      2.256507  0.000000e+00   \n",
       "firma_po3gr        59097.0      1.426054      1.609216  0.000000e+00   \n",
       "firma_rotat        59097.0      0.218042      0.103674  0.000000e+00   \n",
       "firma_engen        59097.0      0.240711      0.632251  0.000000e+00   \n",
       "firma_share        59097.0      0.001115      0.004967  5.847944e-09   \n",
       "firma_potot_idade  59097.0      1.203585      0.589484  1.954530e-03   \n",
       "firma_potot_massa  59097.0      0.296870      0.187812  2.096026e-03   \n",
       "firma_potot_po3gr  59097.0      2.244553      1.065487  7.195501e-03   \n",
       "firma_idade_massa  59097.0      0.259019      0.184872  0.000000e+00   \n",
       "firma_idade_po3gr  59097.0      2.163423      1.232437  0.000000e+00   \n",
       "firma_idade_engen  59097.0      3.466077      1.247724  0.000000e+00   \n",
       "firma_massa_po3gr  59097.0      8.550505      4.010864  0.000000e+00   \n",
       "\n",
       "                           25%           50%           75%           max  \n",
       "firma_enc          6909.000000  43792.000000  43792.000000  43792.000000  \n",
       "firma_potot           1.951040      3.063391      4.617672      9.556813  \n",
       "firma_idade           2.149434      2.761907      3.311273      4.390367  \n",
       "firma_massa           9.172427     10.538891     12.404739     18.422188  \n",
       "firma_po3gr           0.000000      0.747635      2.475277      9.104200  \n",
       "firma_rotat           0.154151      0.223144      0.287682      0.405465  \n",
       "firma_engen           0.000000      0.000000      0.000000      5.568345  \n",
       "firma_share           0.000011      0.000062      0.000378      0.252814  \n",
       "firma_potot_idade     0.783232      1.156933      1.551576      7.214130  \n",
       "firma_potot_massa     0.212821      0.291238      0.376063      6.600389  \n",
       "firma_potot_po3gr     1.485592      1.995981      2.798258      8.540361  \n",
       "firma_idade_massa     0.210693      0.256003      0.295167      5.950235  \n",
       "firma_idade_po3gr     1.100646      1.881195      3.054627      6.228819  \n",
       "firma_idade_engen     2.584963      3.544733      4.375039      6.272956  \n",
       "firma_massa_po3gr     4.792141      8.289234     12.176849     18.824083  "
      ]
     },
     "execution_count": 26,
     "metadata": {},
     "output_type": "execute_result"
    }
   ],
   "source": [
    "%%time\n",
    "\n",
    "spread.filter(regex='firma', axis=1).describe().transpose()"
   ]
  },
  {
   "cell_type": "code",
   "execution_count": 27,
   "metadata": {},
   "outputs": [
    {
     "name": "stdout",
     "output_type": "stream",
     "text": [
      "Wall time: 70 ms\n"
     ]
    },
    {
     "data": {
      "text/html": [
       "<div>\n",
       "<style scoped>\n",
       "    .dataframe tbody tr th:only-of-type {\n",
       "        vertical-align: middle;\n",
       "    }\n",
       "\n",
       "    .dataframe tbody tr th {\n",
       "        vertical-align: top;\n",
       "    }\n",
       "\n",
       "    .dataframe thead th {\n",
       "        text-align: right;\n",
       "    }\n",
       "</style>\n",
       "<table border=\"1\" class=\"dataframe\">\n",
       "  <thead>\n",
       "    <tr style=\"text-align: right;\">\n",
       "      <th></th>\n",
       "      <th>banco_enc</th>\n",
       "      <th>banco_b1</th>\n",
       "      <th>banco_b2</th>\n",
       "      <th>banco_b3</th>\n",
       "      <th>banco_ativo</th>\n",
       "      <th>banco_carteira</th>\n",
       "      <th>banco_passivo</th>\n",
       "      <th>banco_captacoes</th>\n",
       "      <th>banco_patrimonio</th>\n",
       "      <th>banco_lucroliquido</th>\n",
       "      <th>banco_numagencias</th>\n",
       "      <th>banco_numeropostos</th>\n",
       "      <th>banco_ativo_carteira</th>\n",
       "      <th>banco_ativo_passivo</th>\n",
       "      <th>banco_ativo_captacoes</th>\n",
       "      <th>banco_ativo_patrimonio</th>\n",
       "      <th>banco_carteira_passivo</th>\n",
       "    </tr>\n",
       "  </thead>\n",
       "  <tbody>\n",
       "    <tr>\n",
       "      <th>banco_enc</th>\n",
       "      <td>1.000000</td>\n",
       "      <td>-0.532766</td>\n",
       "      <td>0.447746</td>\n",
       "      <td>0.075236</td>\n",
       "      <td>-0.516485</td>\n",
       "      <td>-0.444404</td>\n",
       "      <td>-0.516057</td>\n",
       "      <td>-0.515313</td>\n",
       "      <td>-0.550736</td>\n",
       "      <td>-0.154619</td>\n",
       "      <td>-0.527102</td>\n",
       "      <td>-0.515653</td>\n",
       "      <td>-0.395987</td>\n",
       "      <td>0.216522</td>\n",
       "      <td>0.173180</td>\n",
       "      <td>0.085373</td>\n",
       "      <td>0.490176</td>\n",
       "    </tr>\n",
       "    <tr>\n",
       "      <th>banco_b1</th>\n",
       "      <td>-0.532766</td>\n",
       "      <td>1.000000</td>\n",
       "      <td>-0.923967</td>\n",
       "      <td>-0.074246</td>\n",
       "      <td>0.858257</td>\n",
       "      <td>0.788242</td>\n",
       "      <td>0.854955</td>\n",
       "      <td>0.854562</td>\n",
       "      <td>0.830789</td>\n",
       "      <td>0.733292</td>\n",
       "      <td>0.909108</td>\n",
       "      <td>0.878072</td>\n",
       "      <td>0.537921</td>\n",
       "      <td>-0.294367</td>\n",
       "      <td>-0.226798</td>\n",
       "      <td>0.230219</td>\n",
       "      <td>-0.669508</td>\n",
       "    </tr>\n",
       "    <tr>\n",
       "      <th>banco_b2</th>\n",
       "      <td>0.447746</td>\n",
       "      <td>-0.923967</td>\n",
       "      <td>1.000000</td>\n",
       "      <td>-0.048411</td>\n",
       "      <td>-0.768582</td>\n",
       "      <td>-0.679683</td>\n",
       "      <td>-0.754886</td>\n",
       "      <td>-0.752924</td>\n",
       "      <td>-0.762391</td>\n",
       "      <td>-0.718387</td>\n",
       "      <td>-0.840101</td>\n",
       "      <td>-0.811309</td>\n",
       "      <td>-0.594165</td>\n",
       "      <td>0.096456</td>\n",
       "      <td>0.038595</td>\n",
       "      <td>-0.113488</td>\n",
       "      <td>0.638172</td>\n",
       "    </tr>\n",
       "    <tr>\n",
       "      <th>banco_b3</th>\n",
       "      <td>0.075236</td>\n",
       "      <td>-0.074246</td>\n",
       "      <td>-0.048411</td>\n",
       "      <td>1.000000</td>\n",
       "      <td>-0.115770</td>\n",
       "      <td>-0.251188</td>\n",
       "      <td>-0.110988</td>\n",
       "      <td>-0.119278</td>\n",
       "      <td>-0.159035</td>\n",
       "      <td>-0.067032</td>\n",
       "      <td>-0.079617</td>\n",
       "      <td>-0.065193</td>\n",
       "      <td>0.651952</td>\n",
       "      <td>-0.018025</td>\n",
       "      <td>0.089391</td>\n",
       "      <td>0.284931</td>\n",
       "      <td>-0.475047</td>\n",
       "    </tr>\n",
       "    <tr>\n",
       "      <th>banco_ativo</th>\n",
       "      <td>-0.516485</td>\n",
       "      <td>0.858257</td>\n",
       "      <td>-0.768582</td>\n",
       "      <td>-0.115770</td>\n",
       "      <td>1.000000</td>\n",
       "      <td>0.973998</td>\n",
       "      <td>0.998360</td>\n",
       "      <td>0.997361</td>\n",
       "      <td>0.981031</td>\n",
       "      <td>0.784405</td>\n",
       "      <td>0.959734</td>\n",
       "      <td>0.953875</td>\n",
       "      <td>0.453633</td>\n",
       "      <td>-0.385039</td>\n",
       "      <td>-0.296069</td>\n",
       "      <td>0.193882</td>\n",
       "      <td>-0.621366</td>\n",
       "    </tr>\n",
       "    <tr>\n",
       "      <th>banco_carteira</th>\n",
       "      <td>-0.444404</td>\n",
       "      <td>0.788242</td>\n",
       "      <td>-0.679683</td>\n",
       "      <td>-0.251188</td>\n",
       "      <td>0.973998</td>\n",
       "      <td>1.000000</td>\n",
       "      <td>0.973470</td>\n",
       "      <td>0.973936</td>\n",
       "      <td>0.952833</td>\n",
       "      <td>0.740434</td>\n",
       "      <td>0.912584</td>\n",
       "      <td>0.912680</td>\n",
       "      <td>0.249274</td>\n",
       "      <td>-0.392107</td>\n",
       "      <td>-0.320977</td>\n",
       "      <td>0.183471</td>\n",
       "      <td>-0.444345</td>\n",
       "    </tr>\n",
       "    <tr>\n",
       "      <th>banco_passivo</th>\n",
       "      <td>-0.516057</td>\n",
       "      <td>0.854955</td>\n",
       "      <td>-0.754886</td>\n",
       "      <td>-0.110988</td>\n",
       "      <td>0.998360</td>\n",
       "      <td>0.973470</td>\n",
       "      <td>1.000000</td>\n",
       "      <td>0.999410</td>\n",
       "      <td>0.973585</td>\n",
       "      <td>0.775316</td>\n",
       "      <td>0.954392</td>\n",
       "      <td>0.947651</td>\n",
       "      <td>0.451194</td>\n",
       "      <td>-0.437083</td>\n",
       "      <td>-0.346099</td>\n",
       "      <td>0.224979</td>\n",
       "      <td>-0.634789</td>\n",
       "    </tr>\n",
       "    <tr>\n",
       "      <th>banco_captacoes</th>\n",
       "      <td>-0.515313</td>\n",
       "      <td>0.854562</td>\n",
       "      <td>-0.752924</td>\n",
       "      <td>-0.119278</td>\n",
       "      <td>0.997361</td>\n",
       "      <td>0.973936</td>\n",
       "      <td>0.999410</td>\n",
       "      <td>1.000000</td>\n",
       "      <td>0.971967</td>\n",
       "      <td>0.769555</td>\n",
       "      <td>0.955277</td>\n",
       "      <td>0.948278</td>\n",
       "      <td>0.443518</td>\n",
       "      <td>-0.443408</td>\n",
       "      <td>-0.363655</td>\n",
       "      <td>0.227505</td>\n",
       "      <td>-0.630422</td>\n",
       "    </tr>\n",
       "    <tr>\n",
       "      <th>banco_patrimonio</th>\n",
       "      <td>-0.550736</td>\n",
       "      <td>0.830789</td>\n",
       "      <td>-0.762391</td>\n",
       "      <td>-0.159035</td>\n",
       "      <td>0.981031</td>\n",
       "      <td>0.952833</td>\n",
       "      <td>0.973585</td>\n",
       "      <td>0.971967</td>\n",
       "      <td>1.000000</td>\n",
       "      <td>0.793420</td>\n",
       "      <td>0.950461</td>\n",
       "      <td>0.950292</td>\n",
       "      <td>0.435220</td>\n",
       "      <td>-0.294014</td>\n",
       "      <td>-0.213387</td>\n",
       "      <td>0.002162</td>\n",
       "      <td>-0.580847</td>\n",
       "    </tr>\n",
       "    <tr>\n",
       "      <th>banco_lucroliquido</th>\n",
       "      <td>-0.154619</td>\n",
       "      <td>0.733292</td>\n",
       "      <td>-0.718387</td>\n",
       "      <td>-0.067032</td>\n",
       "      <td>0.784405</td>\n",
       "      <td>0.740434</td>\n",
       "      <td>0.775316</td>\n",
       "      <td>0.769555</td>\n",
       "      <td>0.793420</td>\n",
       "      <td>1.000000</td>\n",
       "      <td>0.755654</td>\n",
       "      <td>0.739969</td>\n",
       "      <td>0.438623</td>\n",
       "      <td>-0.182488</td>\n",
       "      <td>-0.078307</td>\n",
       "      <td>0.025071</td>\n",
       "      <td>-0.529737</td>\n",
       "    </tr>\n",
       "    <tr>\n",
       "      <th>banco_numagencias</th>\n",
       "      <td>-0.527102</td>\n",
       "      <td>0.909108</td>\n",
       "      <td>-0.840101</td>\n",
       "      <td>-0.079617</td>\n",
       "      <td>0.959734</td>\n",
       "      <td>0.912584</td>\n",
       "      <td>0.954392</td>\n",
       "      <td>0.955277</td>\n",
       "      <td>0.950461</td>\n",
       "      <td>0.755654</td>\n",
       "      <td>1.000000</td>\n",
       "      <td>0.993369</td>\n",
       "      <td>0.504618</td>\n",
       "      <td>-0.308252</td>\n",
       "      <td>-0.248370</td>\n",
       "      <td>0.144165</td>\n",
       "      <td>-0.641566</td>\n",
       "    </tr>\n",
       "    <tr>\n",
       "      <th>banco_numeropostos</th>\n",
       "      <td>-0.515653</td>\n",
       "      <td>0.878072</td>\n",
       "      <td>-0.811309</td>\n",
       "      <td>-0.065193</td>\n",
       "      <td>0.953875</td>\n",
       "      <td>0.912680</td>\n",
       "      <td>0.947651</td>\n",
       "      <td>0.948278</td>\n",
       "      <td>0.950292</td>\n",
       "      <td>0.739969</td>\n",
       "      <td>0.993369</td>\n",
       "      <td>1.000000</td>\n",
       "      <td>0.486623</td>\n",
       "      <td>-0.293353</td>\n",
       "      <td>-0.234116</td>\n",
       "      <td>0.116840</td>\n",
       "      <td>-0.615691</td>\n",
       "    </tr>\n",
       "    <tr>\n",
       "      <th>banco_ativo_carteira</th>\n",
       "      <td>-0.395987</td>\n",
       "      <td>0.537921</td>\n",
       "      <td>-0.594165</td>\n",
       "      <td>0.651952</td>\n",
       "      <td>0.453633</td>\n",
       "      <td>0.249274</td>\n",
       "      <td>0.451194</td>\n",
       "      <td>0.443518</td>\n",
       "      <td>0.435220</td>\n",
       "      <td>0.438623</td>\n",
       "      <td>0.504618</td>\n",
       "      <td>0.486623</td>\n",
       "      <td>1.000000</td>\n",
       "      <td>-0.143176</td>\n",
       "      <td>-0.019097</td>\n",
       "      <td>0.214874</td>\n",
       "      <td>-0.925332</td>\n",
       "    </tr>\n",
       "    <tr>\n",
       "      <th>banco_ativo_passivo</th>\n",
       "      <td>0.216522</td>\n",
       "      <td>-0.294367</td>\n",
       "      <td>0.096456</td>\n",
       "      <td>-0.018025</td>\n",
       "      <td>-0.385039</td>\n",
       "      <td>-0.392107</td>\n",
       "      <td>-0.437083</td>\n",
       "      <td>-0.443408</td>\n",
       "      <td>-0.294014</td>\n",
       "      <td>-0.182488</td>\n",
       "      <td>-0.308252</td>\n",
       "      <td>-0.293353</td>\n",
       "      <td>-0.143176</td>\n",
       "      <td>1.000000</td>\n",
       "      <td>0.934086</td>\n",
       "      <td>-0.530094</td>\n",
       "      <td>0.470699</td>\n",
       "    </tr>\n",
       "    <tr>\n",
       "      <th>banco_ativo_captacoes</th>\n",
       "      <td>0.173180</td>\n",
       "      <td>-0.226798</td>\n",
       "      <td>0.038595</td>\n",
       "      <td>0.089391</td>\n",
       "      <td>-0.296069</td>\n",
       "      <td>-0.320977</td>\n",
       "      <td>-0.346099</td>\n",
       "      <td>-0.363655</td>\n",
       "      <td>-0.213387</td>\n",
       "      <td>-0.078307</td>\n",
       "      <td>-0.248370</td>\n",
       "      <td>-0.234116</td>\n",
       "      <td>-0.019097</td>\n",
       "      <td>0.934086</td>\n",
       "      <td>1.000000</td>\n",
       "      <td>-0.468051</td>\n",
       "      <td>0.338845</td>\n",
       "    </tr>\n",
       "    <tr>\n",
       "      <th>banco_ativo_patrimonio</th>\n",
       "      <td>0.085373</td>\n",
       "      <td>0.230219</td>\n",
       "      <td>-0.113488</td>\n",
       "      <td>0.284931</td>\n",
       "      <td>0.193882</td>\n",
       "      <td>0.183471</td>\n",
       "      <td>0.224979</td>\n",
       "      <td>0.227505</td>\n",
       "      <td>0.002162</td>\n",
       "      <td>0.025071</td>\n",
       "      <td>0.144165</td>\n",
       "      <td>0.116840</td>\n",
       "      <td>0.214874</td>\n",
       "      <td>-0.530094</td>\n",
       "      <td>-0.468051</td>\n",
       "      <td>1.000000</td>\n",
       "      <td>-0.340045</td>\n",
       "    </tr>\n",
       "    <tr>\n",
       "      <th>banco_carteira_passivo</th>\n",
       "      <td>0.490176</td>\n",
       "      <td>-0.669508</td>\n",
       "      <td>0.638172</td>\n",
       "      <td>-0.475047</td>\n",
       "      <td>-0.621366</td>\n",
       "      <td>-0.444345</td>\n",
       "      <td>-0.634789</td>\n",
       "      <td>-0.630422</td>\n",
       "      <td>-0.580847</td>\n",
       "      <td>-0.529737</td>\n",
       "      <td>-0.641566</td>\n",
       "      <td>-0.615691</td>\n",
       "      <td>-0.925332</td>\n",
       "      <td>0.470699</td>\n",
       "      <td>0.338845</td>\n",
       "      <td>-0.340045</td>\n",
       "      <td>1.000000</td>\n",
       "    </tr>\n",
       "  </tbody>\n",
       "</table>\n",
       "</div>"
      ],
      "text/plain": [
       "                        banco_enc  banco_b1  banco_b2  banco_b3  banco_ativo  \\\n",
       "banco_enc                1.000000 -0.532766  0.447746  0.075236    -0.516485   \n",
       "banco_b1                -0.532766  1.000000 -0.923967 -0.074246     0.858257   \n",
       "banco_b2                 0.447746 -0.923967  1.000000 -0.048411    -0.768582   \n",
       "banco_b3                 0.075236 -0.074246 -0.048411  1.000000    -0.115770   \n",
       "banco_ativo             -0.516485  0.858257 -0.768582 -0.115770     1.000000   \n",
       "banco_carteira          -0.444404  0.788242 -0.679683 -0.251188     0.973998   \n",
       "banco_passivo           -0.516057  0.854955 -0.754886 -0.110988     0.998360   \n",
       "banco_captacoes         -0.515313  0.854562 -0.752924 -0.119278     0.997361   \n",
       "banco_patrimonio        -0.550736  0.830789 -0.762391 -0.159035     0.981031   \n",
       "banco_lucroliquido      -0.154619  0.733292 -0.718387 -0.067032     0.784405   \n",
       "banco_numagencias       -0.527102  0.909108 -0.840101 -0.079617     0.959734   \n",
       "banco_numeropostos      -0.515653  0.878072 -0.811309 -0.065193     0.953875   \n",
       "banco_ativo_carteira    -0.395987  0.537921 -0.594165  0.651952     0.453633   \n",
       "banco_ativo_passivo      0.216522 -0.294367  0.096456 -0.018025    -0.385039   \n",
       "banco_ativo_captacoes    0.173180 -0.226798  0.038595  0.089391    -0.296069   \n",
       "banco_ativo_patrimonio   0.085373  0.230219 -0.113488  0.284931     0.193882   \n",
       "banco_carteira_passivo   0.490176 -0.669508  0.638172 -0.475047    -0.621366   \n",
       "\n",
       "                        banco_carteira  banco_passivo  banco_captacoes  \\\n",
       "banco_enc                    -0.444404      -0.516057        -0.515313   \n",
       "banco_b1                      0.788242       0.854955         0.854562   \n",
       "banco_b2                     -0.679683      -0.754886        -0.752924   \n",
       "banco_b3                     -0.251188      -0.110988        -0.119278   \n",
       "banco_ativo                   0.973998       0.998360         0.997361   \n",
       "banco_carteira                1.000000       0.973470         0.973936   \n",
       "banco_passivo                 0.973470       1.000000         0.999410   \n",
       "banco_captacoes               0.973936       0.999410         1.000000   \n",
       "banco_patrimonio              0.952833       0.973585         0.971967   \n",
       "banco_lucroliquido            0.740434       0.775316         0.769555   \n",
       "banco_numagencias             0.912584       0.954392         0.955277   \n",
       "banco_numeropostos            0.912680       0.947651         0.948278   \n",
       "banco_ativo_carteira          0.249274       0.451194         0.443518   \n",
       "banco_ativo_passivo          -0.392107      -0.437083        -0.443408   \n",
       "banco_ativo_captacoes        -0.320977      -0.346099        -0.363655   \n",
       "banco_ativo_patrimonio        0.183471       0.224979         0.227505   \n",
       "banco_carteira_passivo       -0.444345      -0.634789        -0.630422   \n",
       "\n",
       "                        banco_patrimonio  banco_lucroliquido  \\\n",
       "banco_enc                      -0.550736           -0.154619   \n",
       "banco_b1                        0.830789            0.733292   \n",
       "banco_b2                       -0.762391           -0.718387   \n",
       "banco_b3                       -0.159035           -0.067032   \n",
       "banco_ativo                     0.981031            0.784405   \n",
       "banco_carteira                  0.952833            0.740434   \n",
       "banco_passivo                   0.973585            0.775316   \n",
       "banco_captacoes                 0.971967            0.769555   \n",
       "banco_patrimonio                1.000000            0.793420   \n",
       "banco_lucroliquido              0.793420            1.000000   \n",
       "banco_numagencias               0.950461            0.755654   \n",
       "banco_numeropostos              0.950292            0.739969   \n",
       "banco_ativo_carteira            0.435220            0.438623   \n",
       "banco_ativo_passivo            -0.294014           -0.182488   \n",
       "banco_ativo_captacoes          -0.213387           -0.078307   \n",
       "banco_ativo_patrimonio          0.002162            0.025071   \n",
       "banco_carteira_passivo         -0.580847           -0.529737   \n",
       "\n",
       "                        banco_numagencias  banco_numeropostos  \\\n",
       "banco_enc                       -0.527102           -0.515653   \n",
       "banco_b1                         0.909108            0.878072   \n",
       "banco_b2                        -0.840101           -0.811309   \n",
       "banco_b3                        -0.079617           -0.065193   \n",
       "banco_ativo                      0.959734            0.953875   \n",
       "banco_carteira                   0.912584            0.912680   \n",
       "banco_passivo                    0.954392            0.947651   \n",
       "banco_captacoes                  0.955277            0.948278   \n",
       "banco_patrimonio                 0.950461            0.950292   \n",
       "banco_lucroliquido               0.755654            0.739969   \n",
       "banco_numagencias                1.000000            0.993369   \n",
       "banco_numeropostos               0.993369            1.000000   \n",
       "banco_ativo_carteira             0.504618            0.486623   \n",
       "banco_ativo_passivo             -0.308252           -0.293353   \n",
       "banco_ativo_captacoes           -0.248370           -0.234116   \n",
       "banco_ativo_patrimonio           0.144165            0.116840   \n",
       "banco_carteira_passivo          -0.641566           -0.615691   \n",
       "\n",
       "                        banco_ativo_carteira  banco_ativo_passivo  \\\n",
       "banco_enc                          -0.395987             0.216522   \n",
       "banco_b1                            0.537921            -0.294367   \n",
       "banco_b2                           -0.594165             0.096456   \n",
       "banco_b3                            0.651952            -0.018025   \n",
       "banco_ativo                         0.453633            -0.385039   \n",
       "banco_carteira                      0.249274            -0.392107   \n",
       "banco_passivo                       0.451194            -0.437083   \n",
       "banco_captacoes                     0.443518            -0.443408   \n",
       "banco_patrimonio                    0.435220            -0.294014   \n",
       "banco_lucroliquido                  0.438623            -0.182488   \n",
       "banco_numagencias                   0.504618            -0.308252   \n",
       "banco_numeropostos                  0.486623            -0.293353   \n",
       "banco_ativo_carteira                1.000000            -0.143176   \n",
       "banco_ativo_passivo                -0.143176             1.000000   \n",
       "banco_ativo_captacoes              -0.019097             0.934086   \n",
       "banco_ativo_patrimonio              0.214874            -0.530094   \n",
       "banco_carteira_passivo             -0.925332             0.470699   \n",
       "\n",
       "                        banco_ativo_captacoes  banco_ativo_patrimonio  \\\n",
       "banco_enc                            0.173180                0.085373   \n",
       "banco_b1                            -0.226798                0.230219   \n",
       "banco_b2                             0.038595               -0.113488   \n",
       "banco_b3                             0.089391                0.284931   \n",
       "banco_ativo                         -0.296069                0.193882   \n",
       "banco_carteira                      -0.320977                0.183471   \n",
       "banco_passivo                       -0.346099                0.224979   \n",
       "banco_captacoes                     -0.363655                0.227505   \n",
       "banco_patrimonio                    -0.213387                0.002162   \n",
       "banco_lucroliquido                  -0.078307                0.025071   \n",
       "banco_numagencias                   -0.248370                0.144165   \n",
       "banco_numeropostos                  -0.234116                0.116840   \n",
       "banco_ativo_carteira                -0.019097                0.214874   \n",
       "banco_ativo_passivo                  0.934086               -0.530094   \n",
       "banco_ativo_captacoes                1.000000               -0.468051   \n",
       "banco_ativo_patrimonio              -0.468051                1.000000   \n",
       "banco_carteira_passivo               0.338845               -0.340045   \n",
       "\n",
       "                        banco_carteira_passivo  \n",
       "banco_enc                             0.490176  \n",
       "banco_b1                             -0.669508  \n",
       "banco_b2                              0.638172  \n",
       "banco_b3                             -0.475047  \n",
       "banco_ativo                          -0.621366  \n",
       "banco_carteira                       -0.444345  \n",
       "banco_passivo                        -0.634789  \n",
       "banco_captacoes                      -0.630422  \n",
       "banco_patrimonio                     -0.580847  \n",
       "banco_lucroliquido                   -0.529737  \n",
       "banco_numagencias                    -0.641566  \n",
       "banco_numeropostos                   -0.615691  \n",
       "banco_ativo_carteira                 -0.925332  \n",
       "banco_ativo_passivo                   0.470699  \n",
       "banco_ativo_captacoes                 0.338845  \n",
       "banco_ativo_patrimonio               -0.340045  \n",
       "banco_carteira_passivo                1.000000  "
      ]
     },
     "execution_count": 27,
     "metadata": {},
     "output_type": "execute_result"
    }
   ],
   "source": [
    "%%time\n",
    "spread.filter(regex='banco', axis=1).corr()"
   ]
  },
  {
   "cell_type": "code",
   "execution_count": 28,
   "metadata": {},
   "outputs": [
    {
     "name": "stdout",
     "output_type": "stream",
     "text": [
      "Wall time: 58 ms\n"
     ]
    },
    {
     "data": {
      "text/html": [
       "<div>\n",
       "<style scoped>\n",
       "    .dataframe tbody tr th:only-of-type {\n",
       "        vertical-align: middle;\n",
       "    }\n",
       "\n",
       "    .dataframe tbody tr th {\n",
       "        vertical-align: top;\n",
       "    }\n",
       "\n",
       "    .dataframe thead th {\n",
       "        text-align: right;\n",
       "    }\n",
       "</style>\n",
       "<table border=\"1\" class=\"dataframe\">\n",
       "  <thead>\n",
       "    <tr style=\"text-align: right;\">\n",
       "      <th></th>\n",
       "      <th>oper_valor</th>\n",
       "      <th>oper_spreadbndes</th>\n",
       "      <th>oper_juros</th>\n",
       "      <th>oper_amortizacao</th>\n",
       "      <th>oper_carencia</th>\n",
       "      <th>oper_valor_spreadbndes</th>\n",
       "      <th>oper_valor_juros</th>\n",
       "      <th>oper_valor_amortizacao</th>\n",
       "      <th>oper_valor_carencia</th>\n",
       "      <th>oper_spreadbndes_juros</th>\n",
       "      <th>oper_spreadbndes_amortizacao</th>\n",
       "      <th>oper_spreadbndes_carencia</th>\n",
       "      <th>oper_juros_amortizacao</th>\n",
       "      <th>oper_juros_carencia</th>\n",
       "      <th>oper_amortizacao_carencia</th>\n",
       "    </tr>\n",
       "  </thead>\n",
       "  <tbody>\n",
       "    <tr>\n",
       "      <th>oper_valor</th>\n",
       "      <td>1.000000</td>\n",
       "      <td>0.001894</td>\n",
       "      <td>-0.082998</td>\n",
       "      <td>-0.017999</td>\n",
       "      <td>0.119088</td>\n",
       "      <td>0.963103</td>\n",
       "      <td>0.442593</td>\n",
       "      <td>0.077965</td>\n",
       "      <td>0.171839</td>\n",
       "      <td>0.087102</td>\n",
       "      <td>-0.006925</td>\n",
       "      <td>-0.124685</td>\n",
       "      <td>-0.021884</td>\n",
       "      <td>-0.143618</td>\n",
       "      <td>-0.028519</td>\n",
       "    </tr>\n",
       "    <tr>\n",
       "      <th>oper_spreadbndes</th>\n",
       "      <td>0.001894</td>\n",
       "      <td>1.000000</td>\n",
       "      <td>0.439267</td>\n",
       "      <td>-0.280726</td>\n",
       "      <td>0.078473</td>\n",
       "      <td>-0.267308</td>\n",
       "      <td>-0.394568</td>\n",
       "      <td>0.287715</td>\n",
       "      <td>-0.045006</td>\n",
       "      <td>-0.340261</td>\n",
       "      <td>0.310018</td>\n",
       "      <td>0.037314</td>\n",
       "      <td>0.341931</td>\n",
       "      <td>0.212503</td>\n",
       "      <td>-0.299802</td>\n",
       "    </tr>\n",
       "    <tr>\n",
       "      <th>oper_juros</th>\n",
       "      <td>-0.082998</td>\n",
       "      <td>0.439267</td>\n",
       "      <td>1.000000</td>\n",
       "      <td>-0.468580</td>\n",
       "      <td>-0.037531</td>\n",
       "      <td>-0.198199</td>\n",
       "      <td>-0.930363</td>\n",
       "      <td>0.450964</td>\n",
       "      <td>0.066276</td>\n",
       "      <td>-0.994218</td>\n",
       "      <td>0.466535</td>\n",
       "      <td>0.128063</td>\n",
       "      <td>0.600958</td>\n",
       "      <td>0.635669</td>\n",
       "      <td>-0.430714</td>\n",
       "    </tr>\n",
       "    <tr>\n",
       "      <th>oper_amortizacao</th>\n",
       "      <td>-0.017999</td>\n",
       "      <td>-0.280726</td>\n",
       "      <td>-0.468580</td>\n",
       "      <td>1.000000</td>\n",
       "      <td>0.098544</td>\n",
       "      <td>0.058209</td>\n",
       "      <td>0.415019</td>\n",
       "      <td>-0.946958</td>\n",
       "      <td>-0.102671</td>\n",
       "      <td>0.456919</td>\n",
       "      <td>-0.948220</td>\n",
       "      <td>-0.121443</td>\n",
       "      <td>-0.941217</td>\n",
       "      <td>-0.340641</td>\n",
       "      <td>0.914893</td>\n",
       "    </tr>\n",
       "    <tr>\n",
       "      <th>oper_carencia</th>\n",
       "      <td>0.119088</td>\n",
       "      <td>0.078473</td>\n",
       "      <td>-0.037531</td>\n",
       "      <td>0.098544</td>\n",
       "      <td>1.000000</td>\n",
       "      <td>0.093635</td>\n",
       "      <td>0.077585</td>\n",
       "      <td>-0.098277</td>\n",
       "      <td>-0.879206</td>\n",
       "      <td>0.048665</td>\n",
       "      <td>-0.106100</td>\n",
       "      <td>-0.914776</td>\n",
       "      <td>-0.104875</td>\n",
       "      <td>-0.735148</td>\n",
       "      <td>-0.153872</td>\n",
       "    </tr>\n",
       "    <tr>\n",
       "      <th>oper_valor_spreadbndes</th>\n",
       "      <td>0.963103</td>\n",
       "      <td>-0.267308</td>\n",
       "      <td>-0.198199</td>\n",
       "      <td>0.058209</td>\n",
       "      <td>0.093635</td>\n",
       "      <td>1.000000</td>\n",
       "      <td>0.532680</td>\n",
       "      <td>-0.002305</td>\n",
       "      <td>0.177699</td>\n",
       "      <td>0.175508</td>\n",
       "      <td>-0.090110</td>\n",
       "      <td>-0.130190</td>\n",
       "      <td>-0.113113</td>\n",
       "      <td>-0.195584</td>\n",
       "      <td>0.053206</td>\n",
       "    </tr>\n",
       "    <tr>\n",
       "      <th>oper_valor_juros</th>\n",
       "      <td>0.442593</td>\n",
       "      <td>-0.394568</td>\n",
       "      <td>-0.930363</td>\n",
       "      <td>0.415019</td>\n",
       "      <td>0.077585</td>\n",
       "      <td>0.532680</td>\n",
       "      <td>1.000000</td>\n",
       "      <td>-0.377105</td>\n",
       "      <td>0.003584</td>\n",
       "      <td>0.926670</td>\n",
       "      <td>-0.422349</td>\n",
       "      <td>-0.161107</td>\n",
       "      <td>-0.548810</td>\n",
       "      <td>-0.624831</td>\n",
       "      <td>0.377076</td>\n",
       "    </tr>\n",
       "    <tr>\n",
       "      <th>oper_valor_amortizacao</th>\n",
       "      <td>0.077965</td>\n",
       "      <td>0.287715</td>\n",
       "      <td>0.450964</td>\n",
       "      <td>-0.946958</td>\n",
       "      <td>-0.098277</td>\n",
       "      <td>-0.002305</td>\n",
       "      <td>-0.377105</td>\n",
       "      <td>1.000000</td>\n",
       "      <td>0.133850</td>\n",
       "      <td>-0.437644</td>\n",
       "      <td>0.996137</td>\n",
       "      <td>0.135570</td>\n",
       "      <td>0.981189</td>\n",
       "      <td>0.341188</td>\n",
       "      <td>-0.958854</td>\n",
       "    </tr>\n",
       "    <tr>\n",
       "      <th>oper_valor_carencia</th>\n",
       "      <td>0.171839</td>\n",
       "      <td>-0.045006</td>\n",
       "      <td>0.066276</td>\n",
       "      <td>-0.102671</td>\n",
       "      <td>-0.879206</td>\n",
       "      <td>0.177699</td>\n",
       "      <td>0.003584</td>\n",
       "      <td>0.133850</td>\n",
       "      <td>1.000000</td>\n",
       "      <td>-0.074752</td>\n",
       "      <td>0.117701</td>\n",
       "      <td>0.952575</td>\n",
       "      <td>0.120064</td>\n",
       "      <td>0.778515</td>\n",
       "      <td>0.153003</td>\n",
       "    </tr>\n",
       "    <tr>\n",
       "      <th>oper_spreadbndes_juros</th>\n",
       "      <td>0.087102</td>\n",
       "      <td>-0.340261</td>\n",
       "      <td>-0.994218</td>\n",
       "      <td>0.456919</td>\n",
       "      <td>0.048665</td>\n",
       "      <td>0.175508</td>\n",
       "      <td>0.926670</td>\n",
       "      <td>-0.437644</td>\n",
       "      <td>-0.074752</td>\n",
       "      <td>1.000000</td>\n",
       "      <td>-0.451277</td>\n",
       "      <td>-0.129586</td>\n",
       "      <td>-0.588166</td>\n",
       "      <td>-0.639969</td>\n",
       "      <td>0.415003</td>\n",
       "    </tr>\n",
       "    <tr>\n",
       "      <th>oper_spreadbndes_amortizacao</th>\n",
       "      <td>-0.006925</td>\n",
       "      <td>0.310018</td>\n",
       "      <td>0.466535</td>\n",
       "      <td>-0.948220</td>\n",
       "      <td>-0.106100</td>\n",
       "      <td>-0.090110</td>\n",
       "      <td>-0.422349</td>\n",
       "      <td>0.996137</td>\n",
       "      <td>0.117701</td>\n",
       "      <td>-0.451277</td>\n",
       "      <td>1.000000</td>\n",
       "      <td>0.146451</td>\n",
       "      <td>0.987133</td>\n",
       "      <td>0.356976</td>\n",
       "      <td>-0.959628</td>\n",
       "    </tr>\n",
       "    <tr>\n",
       "      <th>oper_spreadbndes_carencia</th>\n",
       "      <td>-0.124685</td>\n",
       "      <td>0.037314</td>\n",
       "      <td>0.128063</td>\n",
       "      <td>-0.121443</td>\n",
       "      <td>-0.914776</td>\n",
       "      <td>-0.130190</td>\n",
       "      <td>-0.161107</td>\n",
       "      <td>0.135570</td>\n",
       "      <td>0.952575</td>\n",
       "      <td>-0.129586</td>\n",
       "      <td>0.146451</td>\n",
       "      <td>1.000000</td>\n",
       "      <td>0.155945</td>\n",
       "      <td>0.844853</td>\n",
       "      <td>0.137702</td>\n",
       "    </tr>\n",
       "    <tr>\n",
       "      <th>oper_juros_amortizacao</th>\n",
       "      <td>-0.021884</td>\n",
       "      <td>0.341931</td>\n",
       "      <td>0.600958</td>\n",
       "      <td>-0.941217</td>\n",
       "      <td>-0.104875</td>\n",
       "      <td>-0.113113</td>\n",
       "      <td>-0.548810</td>\n",
       "      <td>0.981189</td>\n",
       "      <td>0.120064</td>\n",
       "      <td>-0.588166</td>\n",
       "      <td>0.987133</td>\n",
       "      <td>0.155945</td>\n",
       "      <td>1.000000</td>\n",
       "      <td>0.438191</td>\n",
       "      <td>-0.944045</td>\n",
       "    </tr>\n",
       "    <tr>\n",
       "      <th>oper_juros_carencia</th>\n",
       "      <td>-0.143618</td>\n",
       "      <td>0.212503</td>\n",
       "      <td>0.635669</td>\n",
       "      <td>-0.340641</td>\n",
       "      <td>-0.735148</td>\n",
       "      <td>-0.195584</td>\n",
       "      <td>-0.624831</td>\n",
       "      <td>0.341188</td>\n",
       "      <td>0.778515</td>\n",
       "      <td>-0.639969</td>\n",
       "      <td>0.356976</td>\n",
       "      <td>0.844853</td>\n",
       "      <td>0.438191</td>\n",
       "      <td>1.000000</td>\n",
       "      <td>-0.117204</td>\n",
       "    </tr>\n",
       "    <tr>\n",
       "      <th>oper_amortizacao_carencia</th>\n",
       "      <td>-0.028519</td>\n",
       "      <td>-0.299802</td>\n",
       "      <td>-0.430714</td>\n",
       "      <td>0.914893</td>\n",
       "      <td>-0.153872</td>\n",
       "      <td>0.053206</td>\n",
       "      <td>0.377076</td>\n",
       "      <td>-0.958854</td>\n",
       "      <td>0.153003</td>\n",
       "      <td>0.415003</td>\n",
       "      <td>-0.959628</td>\n",
       "      <td>0.137702</td>\n",
       "      <td>-0.944045</td>\n",
       "      <td>-0.117204</td>\n",
       "      <td>1.000000</td>\n",
       "    </tr>\n",
       "  </tbody>\n",
       "</table>\n",
       "</div>"
      ],
      "text/plain": [
       "                              oper_valor  oper_spreadbndes  oper_juros  \\\n",
       "oper_valor                      1.000000          0.001894   -0.082998   \n",
       "oper_spreadbndes                0.001894          1.000000    0.439267   \n",
       "oper_juros                     -0.082998          0.439267    1.000000   \n",
       "oper_amortizacao               -0.017999         -0.280726   -0.468580   \n",
       "oper_carencia                   0.119088          0.078473   -0.037531   \n",
       "oper_valor_spreadbndes          0.963103         -0.267308   -0.198199   \n",
       "oper_valor_juros                0.442593         -0.394568   -0.930363   \n",
       "oper_valor_amortizacao          0.077965          0.287715    0.450964   \n",
       "oper_valor_carencia             0.171839         -0.045006    0.066276   \n",
       "oper_spreadbndes_juros          0.087102         -0.340261   -0.994218   \n",
       "oper_spreadbndes_amortizacao   -0.006925          0.310018    0.466535   \n",
       "oper_spreadbndes_carencia      -0.124685          0.037314    0.128063   \n",
       "oper_juros_amortizacao         -0.021884          0.341931    0.600958   \n",
       "oper_juros_carencia            -0.143618          0.212503    0.635669   \n",
       "oper_amortizacao_carencia      -0.028519         -0.299802   -0.430714   \n",
       "\n",
       "                              oper_amortizacao  oper_carencia  \\\n",
       "oper_valor                           -0.017999       0.119088   \n",
       "oper_spreadbndes                     -0.280726       0.078473   \n",
       "oper_juros                           -0.468580      -0.037531   \n",
       "oper_amortizacao                      1.000000       0.098544   \n",
       "oper_carencia                         0.098544       1.000000   \n",
       "oper_valor_spreadbndes                0.058209       0.093635   \n",
       "oper_valor_juros                      0.415019       0.077585   \n",
       "oper_valor_amortizacao               -0.946958      -0.098277   \n",
       "oper_valor_carencia                  -0.102671      -0.879206   \n",
       "oper_spreadbndes_juros                0.456919       0.048665   \n",
       "oper_spreadbndes_amortizacao         -0.948220      -0.106100   \n",
       "oper_spreadbndes_carencia            -0.121443      -0.914776   \n",
       "oper_juros_amortizacao               -0.941217      -0.104875   \n",
       "oper_juros_carencia                  -0.340641      -0.735148   \n",
       "oper_amortizacao_carencia             0.914893      -0.153872   \n",
       "\n",
       "                              oper_valor_spreadbndes  oper_valor_juros  \\\n",
       "oper_valor                                  0.963103          0.442593   \n",
       "oper_spreadbndes                           -0.267308         -0.394568   \n",
       "oper_juros                                 -0.198199         -0.930363   \n",
       "oper_amortizacao                            0.058209          0.415019   \n",
       "oper_carencia                               0.093635          0.077585   \n",
       "oper_valor_spreadbndes                      1.000000          0.532680   \n",
       "oper_valor_juros                            0.532680          1.000000   \n",
       "oper_valor_amortizacao                     -0.002305         -0.377105   \n",
       "oper_valor_carencia                         0.177699          0.003584   \n",
       "oper_spreadbndes_juros                      0.175508          0.926670   \n",
       "oper_spreadbndes_amortizacao               -0.090110         -0.422349   \n",
       "oper_spreadbndes_carencia                  -0.130190         -0.161107   \n",
       "oper_juros_amortizacao                     -0.113113         -0.548810   \n",
       "oper_juros_carencia                        -0.195584         -0.624831   \n",
       "oper_amortizacao_carencia                   0.053206          0.377076   \n",
       "\n",
       "                              oper_valor_amortizacao  oper_valor_carencia  \\\n",
       "oper_valor                                  0.077965             0.171839   \n",
       "oper_spreadbndes                            0.287715            -0.045006   \n",
       "oper_juros                                  0.450964             0.066276   \n",
       "oper_amortizacao                           -0.946958            -0.102671   \n",
       "oper_carencia                              -0.098277            -0.879206   \n",
       "oper_valor_spreadbndes                     -0.002305             0.177699   \n",
       "oper_valor_juros                           -0.377105             0.003584   \n",
       "oper_valor_amortizacao                      1.000000             0.133850   \n",
       "oper_valor_carencia                         0.133850             1.000000   \n",
       "oper_spreadbndes_juros                     -0.437644            -0.074752   \n",
       "oper_spreadbndes_amortizacao                0.996137             0.117701   \n",
       "oper_spreadbndes_carencia                   0.135570             0.952575   \n",
       "oper_juros_amortizacao                      0.981189             0.120064   \n",
       "oper_juros_carencia                         0.341188             0.778515   \n",
       "oper_amortizacao_carencia                  -0.958854             0.153003   \n",
       "\n",
       "                              oper_spreadbndes_juros  \\\n",
       "oper_valor                                  0.087102   \n",
       "oper_spreadbndes                           -0.340261   \n",
       "oper_juros                                 -0.994218   \n",
       "oper_amortizacao                            0.456919   \n",
       "oper_carencia                               0.048665   \n",
       "oper_valor_spreadbndes                      0.175508   \n",
       "oper_valor_juros                            0.926670   \n",
       "oper_valor_amortizacao                     -0.437644   \n",
       "oper_valor_carencia                        -0.074752   \n",
       "oper_spreadbndes_juros                      1.000000   \n",
       "oper_spreadbndes_amortizacao               -0.451277   \n",
       "oper_spreadbndes_carencia                  -0.129586   \n",
       "oper_juros_amortizacao                     -0.588166   \n",
       "oper_juros_carencia                        -0.639969   \n",
       "oper_amortizacao_carencia                   0.415003   \n",
       "\n",
       "                              oper_spreadbndes_amortizacao  \\\n",
       "oper_valor                                       -0.006925   \n",
       "oper_spreadbndes                                  0.310018   \n",
       "oper_juros                                        0.466535   \n",
       "oper_amortizacao                                 -0.948220   \n",
       "oper_carencia                                    -0.106100   \n",
       "oper_valor_spreadbndes                           -0.090110   \n",
       "oper_valor_juros                                 -0.422349   \n",
       "oper_valor_amortizacao                            0.996137   \n",
       "oper_valor_carencia                               0.117701   \n",
       "oper_spreadbndes_juros                           -0.451277   \n",
       "oper_spreadbndes_amortizacao                      1.000000   \n",
       "oper_spreadbndes_carencia                         0.146451   \n",
       "oper_juros_amortizacao                            0.987133   \n",
       "oper_juros_carencia                               0.356976   \n",
       "oper_amortizacao_carencia                        -0.959628   \n",
       "\n",
       "                              oper_spreadbndes_carencia  \\\n",
       "oper_valor                                    -0.124685   \n",
       "oper_spreadbndes                               0.037314   \n",
       "oper_juros                                     0.128063   \n",
       "oper_amortizacao                              -0.121443   \n",
       "oper_carencia                                 -0.914776   \n",
       "oper_valor_spreadbndes                        -0.130190   \n",
       "oper_valor_juros                              -0.161107   \n",
       "oper_valor_amortizacao                         0.135570   \n",
       "oper_valor_carencia                            0.952575   \n",
       "oper_spreadbndes_juros                        -0.129586   \n",
       "oper_spreadbndes_amortizacao                   0.146451   \n",
       "oper_spreadbndes_carencia                      1.000000   \n",
       "oper_juros_amortizacao                         0.155945   \n",
       "oper_juros_carencia                            0.844853   \n",
       "oper_amortizacao_carencia                      0.137702   \n",
       "\n",
       "                              oper_juros_amortizacao  oper_juros_carencia  \\\n",
       "oper_valor                                 -0.021884            -0.143618   \n",
       "oper_spreadbndes                            0.341931             0.212503   \n",
       "oper_juros                                  0.600958             0.635669   \n",
       "oper_amortizacao                           -0.941217            -0.340641   \n",
       "oper_carencia                              -0.104875            -0.735148   \n",
       "oper_valor_spreadbndes                     -0.113113            -0.195584   \n",
       "oper_valor_juros                           -0.548810            -0.624831   \n",
       "oper_valor_amortizacao                      0.981189             0.341188   \n",
       "oper_valor_carencia                         0.120064             0.778515   \n",
       "oper_spreadbndes_juros                     -0.588166            -0.639969   \n",
       "oper_spreadbndes_amortizacao                0.987133             0.356976   \n",
       "oper_spreadbndes_carencia                   0.155945             0.844853   \n",
       "oper_juros_amortizacao                      1.000000             0.438191   \n",
       "oper_juros_carencia                         0.438191             1.000000   \n",
       "oper_amortizacao_carencia                  -0.944045            -0.117204   \n",
       "\n",
       "                              oper_amortizacao_carencia  \n",
       "oper_valor                                    -0.028519  \n",
       "oper_spreadbndes                              -0.299802  \n",
       "oper_juros                                    -0.430714  \n",
       "oper_amortizacao                               0.914893  \n",
       "oper_carencia                                 -0.153872  \n",
       "oper_valor_spreadbndes                         0.053206  \n",
       "oper_valor_juros                               0.377076  \n",
       "oper_valor_amortizacao                        -0.958854  \n",
       "oper_valor_carencia                            0.153003  \n",
       "oper_spreadbndes_juros                         0.415003  \n",
       "oper_spreadbndes_amortizacao                  -0.959628  \n",
       "oper_spreadbndes_carencia                      0.137702  \n",
       "oper_juros_amortizacao                        -0.944045  \n",
       "oper_juros_carencia                           -0.117204  \n",
       "oper_amortizacao_carencia                      1.000000  "
      ]
     },
     "execution_count": 28,
     "metadata": {},
     "output_type": "execute_result"
    }
   ],
   "source": [
    "%%time\n",
    "spread.filter(regex='oper', axis=1).corr()"
   ]
  },
  {
   "cell_type": "markdown",
   "metadata": {},
   "source": [
    "<a name=\"partition\"></a>\n",
    "    \n",
    "## 1.4) Train/Test partition \n",
    "\n",
    "- ir para [Menu Principal](#navegacao)"
   ]
  },
  {
   "cell_type": "code",
   "execution_count": 29,
   "metadata": {},
   "outputs": [
    {
     "name": "stdout",
     "output_type": "stream",
     "text": [
      "Wall time: 999 µs\n"
     ]
    }
   ],
   "source": [
    "%%time\n",
    "files = spread.columns\n",
    "selected_files = files.str.contains('firma|oper|banco')\n",
    "features = files[selected_files]\n",
    "lista = list(features)\n",
    "#lista.remove('prazo_carencia')\n",
    "lista.sort()"
   ]
  },
  {
   "cell_type": "code",
   "execution_count": 30,
   "metadata": {},
   "outputs": [
    {
     "data": {
      "text/plain": [
       "['banco_ativo',\n",
       " 'banco_ativo_captacoes',\n",
       " 'banco_ativo_carteira',\n",
       " 'banco_ativo_passivo',\n",
       " 'banco_ativo_patrimonio',\n",
       " 'banco_b1',\n",
       " 'banco_b2',\n",
       " 'banco_b3',\n",
       " 'banco_captacoes',\n",
       " 'banco_carteira',\n",
       " 'banco_carteira_passivo',\n",
       " 'banco_enc',\n",
       " 'banco_lucroliquido',\n",
       " 'banco_numagencias',\n",
       " 'banco_numeropostos',\n",
       " 'banco_passivo',\n",
       " 'banco_patrimonio',\n",
       " 'firma_enc',\n",
       " 'firma_engen',\n",
       " 'firma_idade',\n",
       " 'firma_idade_engen',\n",
       " 'firma_idade_massa',\n",
       " 'firma_idade_po3gr',\n",
       " 'firma_massa',\n",
       " 'firma_massa_po3gr',\n",
       " 'firma_po3gr',\n",
       " 'firma_potot',\n",
       " 'firma_potot_idade',\n",
       " 'firma_potot_massa',\n",
       " 'firma_potot_po3gr',\n",
       " 'firma_rotat',\n",
       " 'firma_share',\n",
       " 'oper_amortizacao',\n",
       " 'oper_amortizacao_carencia',\n",
       " 'oper_carencia',\n",
       " 'oper_juros',\n",
       " 'oper_juros_amortizacao',\n",
       " 'oper_juros_carencia',\n",
       " 'oper_spreadbndes',\n",
       " 'oper_spreadbndes_amortizacao',\n",
       " 'oper_spreadbndes_carencia',\n",
       " 'oper_spreadbndes_juros',\n",
       " 'oper_valor',\n",
       " 'oper_valor_amortizacao',\n",
       " 'oper_valor_carencia',\n",
       " 'oper_valor_juros',\n",
       " 'oper_valor_spreadbndes']"
      ]
     },
     "execution_count": 30,
     "metadata": {},
     "output_type": "execute_result"
    }
   ],
   "source": [
    "lista"
   ]
  },
  {
   "cell_type": "code",
   "execution_count": 31,
   "metadata": {},
   "outputs": [],
   "source": [
    "from sklearn.preprocessing import StandardScaler, MinMaxScaler\n",
    "from sklearn.model_selection import RandomizedSearchCV, GridSearchCV\n",
    "from sklearn.metrics import r2_score, explained_variance_score, mean_absolute_error\n",
    "#from sklearn.experimental import enable_halving_search_cv \n",
    "#from sklearn.model_selection import HalvingRandomSearchCV, HalvingGridSearchCV\n",
    "\n",
    "X, y = spread[lista] , spread[['target']]\n",
    "\n",
    "Xmin_max = MinMaxScaler().fit_transform(X)\n",
    "ymin_max = MinMaxScaler().fit_transform(y)"
   ]
  },
  {
   "cell_type": "code",
   "execution_count": 32,
   "metadata": {},
   "outputs": [
    {
     "name": "stdout",
     "output_type": "stream",
     "text": [
      "0.24.2\n"
     ]
    }
   ],
   "source": [
    "import sklearn\n",
    "print(sklearn.__version__)"
   ]
  },
  {
   "cell_type": "code",
   "execution_count": 33,
   "metadata": {},
   "outputs": [],
   "source": [
    "from sklearn.model_selection import train_test_split\n",
    "from sklearn.model_selection import cross_val_score\n",
    "\n",
    "X_train, X_test, y_train, y_test = train_test_split(X , y , test_size=0.30)\n",
    "\n",
    "X_train0, X_test0, y_train0, y_test0 = train_test_split(Xmin_max , ymin_max , test_size=0.30)"
   ]
  },
  {
   "cell_type": "markdown",
   "metadata": {},
   "source": [
    "<a name=\"bayesian\"></a>\n",
    "\n",
    "# 2) Bayesian Optimization for Hyperparameters Tunning\n",
    "\n",
    "- 2.1 [Suport Vector Machine](#svm0)\n",
    "- 2.2 [Stochastic Gradient Descent](#sgd0)\n",
    "- 2.3 [Multi-Task Elastic-Net](#elastic0)\n",
    "- 2.4 [Least Angle Regression Model (LAR)](#LAR0)\n",
    "- 2.5 [Ridge Regression](#ridge0)\n",
    "- 2.6 [ElasticNet Regression](#ElasNet0)\n",
    "- 2.7 [Bayesian Ridge](#bayesian0)\n",
    "- 2.8 [Lasso Regression](#lasso0)\n",
    "- 2.9 [Multilayer Perceptron Regression](#mlp0)\n",
    "- 2.10 [Nearest Neighbors Regression](#nnr0)\n",
    "- 2.11 [Resumo dos resultados](#resumo_rs0)\n"
   ]
  },
  {
   "cell_type": "markdown",
   "metadata": {},
   "source": [
    "<a name=\"svm0\"></a>\n",
    "\n",
    "## 2.1) Suport Vector Machine\n",
    "\n",
    "- ir para [Menu Principal](#navegacao)"
   ]
  },
  {
   "cell_type": "code",
   "execution_count": null,
   "metadata": {},
   "outputs": [
    {
     "name": "stdout",
     "output_type": "stream",
     "text": [
      "|   iter    |  target   |     C     |   coef0   |  degree   |  epsilon  | shrinking |    tol    |\n",
      "-------------------------------------------------------------------------------------------------\n",
      "| \u001b[0m 1       \u001b[0m | \u001b[0m 0.03673 \u001b[0m | \u001b[0m 0.5531  \u001b[0m | \u001b[0m 3.212   \u001b[0m | \u001b[0m 1.116   \u001b[0m | \u001b[0m 1.689   \u001b[0m | \u001b[0m 0.4171  \u001b[0m | \u001b[0m 0.06452 \u001b[0m |\n",
      "| \u001b[0m 2       \u001b[0m | \u001b[0m 0.03141 \u001b[0m | \u001b[0m 3.377   \u001b[0m | \u001b[0m 0.2966  \u001b[0m | \u001b[0m 1.279   \u001b[0m | \u001b[0m 0.9797  \u001b[0m | \u001b[0m 0.1216  \u001b[0m | \u001b[0m 0.01626 \u001b[0m |\n",
      "| \u001b[0m 3       \u001b[0m | \u001b[0m-0.01109 \u001b[0m | \u001b[0m 0.1497  \u001b[0m | \u001b[0m 1.724   \u001b[0m | \u001b[0m 5.142   \u001b[0m | \u001b[0m 2.923   \u001b[0m | \u001b[0m 0.5044  \u001b[0m | \u001b[0m 0.04818 \u001b[0m |\n",
      "| \u001b[0m 4       \u001b[0m | \u001b[0m-0.02069 \u001b[0m | \u001b[0m 0.0222  \u001b[0m | \u001b[0m 0.9897  \u001b[0m | \u001b[0m 5.417   \u001b[0m | \u001b[0m 1.437   \u001b[0m | \u001b[0m 0.9876  \u001b[0m | \u001b[0m 0.1736  \u001b[0m |\n",
      "| \u001b[0m 5       \u001b[0m | \u001b[0m-0.000616\u001b[0m | \u001b[0m 1.881   \u001b[0m | \u001b[0m 2.203   \u001b[0m | \u001b[0m 2.33    \u001b[0m | \u001b[0m 0.6417  \u001b[0m | \u001b[0m 0.07226 \u001b[0m | \u001b[0m 0.06875 \u001b[0m |\n",
      "| \u001b[0m 6       \u001b[0m | \u001b[0m-0.05485 \u001b[0m | \u001b[0m 0.01    \u001b[0m | \u001b[0m 3.5     \u001b[0m | \u001b[0m 1.0     \u001b[0m | \u001b[0m 2.959   \u001b[0m | \u001b[0m 0.7427  \u001b[0m | \u001b[0m 0.01962 \u001b[0m |\n",
      "| \u001b[0m 7       \u001b[0m | \u001b[0m 0.02446 \u001b[0m | \u001b[0m 1.712   \u001b[0m | \u001b[0m 0.9828  \u001b[0m | \u001b[0m 5.586   \u001b[0m | \u001b[0m 1.286   \u001b[0m | \u001b[0m 0.7346  \u001b[0m | \u001b[0m 0.008679\u001b[0m |\n",
      "| \u001b[0m 8       \u001b[0m | \u001b[0m 0.03225 \u001b[0m | \u001b[0m 3.414   \u001b[0m | \u001b[0m 0.1098  \u001b[0m | \u001b[0m 1.246   \u001b[0m | \u001b[0m 1.1     \u001b[0m | \u001b[0m 0.2306  \u001b[0m | \u001b[0m 0.1645  \u001b[0m |\n",
      "| \u001b[0m 9       \u001b[0m | \u001b[0m 0.016   \u001b[0m | \u001b[0m 0.738   \u001b[0m | \u001b[0m 3.157   \u001b[0m | \u001b[0m 1.02    \u001b[0m | \u001b[0m 0.9695  \u001b[0m | \u001b[0m 0.2427  \u001b[0m | \u001b[0m 0.09877 \u001b[0m |\n",
      "| \u001b[95m 10      \u001b[0m | \u001b[95m 0.03753 \u001b[0m | \u001b[95m 0.829   \u001b[0m | \u001b[95m 2.672   \u001b[0m | \u001b[95m 1.617   \u001b[0m | \u001b[95m 1.67    \u001b[0m | \u001b[95m 0.5419  \u001b[0m | \u001b[95m 0.001   \u001b[0m |\n",
      "| \u001b[95m 11      \u001b[0m | \u001b[95m 0.05525 \u001b[0m | \u001b[95m 1.449   \u001b[0m | \u001b[95m 3.03    \u001b[0m | \u001b[95m 1.233   \u001b[0m | \u001b[95m 1.95    \u001b[0m | \u001b[95m 0.09094 \u001b[0m | \u001b[95m 0.001   \u001b[0m |\n",
      "| \u001b[0m 12      \u001b[0m | \u001b[0m 0.05223 \u001b[0m | \u001b[0m 1.837   \u001b[0m | \u001b[0m 2.979   \u001b[0m | \u001b[0m 1.0     \u001b[0m | \u001b[0m 1.878   \u001b[0m | \u001b[0m 0.867   \u001b[0m | \u001b[0m 0.001   \u001b[0m |\n",
      "| \u001b[95m 13      \u001b[0m | \u001b[95m 0.06078 \u001b[0m | \u001b[95m 2.15    \u001b[0m | \u001b[95m 2.257   \u001b[0m | \u001b[95m 1.0     \u001b[0m | \u001b[95m 2.376   \u001b[0m | \u001b[95m 0.1665  \u001b[0m | \u001b[95m 0.001   \u001b[0m |\n",
      "| \u001b[95m 14      \u001b[0m | \u001b[95m 0.06114 \u001b[0m | \u001b[95m 2.796   \u001b[0m | \u001b[95m 3.266   \u001b[0m | \u001b[95m 1.0     \u001b[0m | \u001b[95m 2.419   \u001b[0m | \u001b[95m 0.0     \u001b[0m | \u001b[95m 0.001   \u001b[0m |\n",
      "| \u001b[0m 15      \u001b[0m | \u001b[0m 0.04282 \u001b[0m | \u001b[0m 3.406   \u001b[0m | \u001b[0m 2.373   \u001b[0m | \u001b[0m 1.0     \u001b[0m | \u001b[0m 2.714   \u001b[0m | \u001b[0m 0.9061  \u001b[0m | \u001b[0m 0.2     \u001b[0m |\n",
      "| \u001b[0m 16      \u001b[0m | \u001b[0m-0.002666\u001b[0m | \u001b[0m 2.551   \u001b[0m | \u001b[0m 2.84    \u001b[0m | \u001b[0m 2.107   \u001b[0m | \u001b[0m 3.014   \u001b[0m | \u001b[0m 0.0     \u001b[0m | \u001b[0m 0.001   \u001b[0m |\n",
      "| \u001b[0m 17      \u001b[0m | \u001b[0m 0.03246 \u001b[0m | \u001b[0m 2.936   \u001b[0m | \u001b[0m 2.669   \u001b[0m | \u001b[0m 1.0     \u001b[0m | \u001b[0m 1.566   \u001b[0m | \u001b[0m 0.01633 \u001b[0m | \u001b[0m 0.2     \u001b[0m |\n",
      "| \u001b[95m 18      \u001b[0m | \u001b[95m 0.06221 \u001b[0m | \u001b[95m 2.006   \u001b[0m | \u001b[95m 1.336   \u001b[0m | \u001b[95m 1.0     \u001b[0m | \u001b[95m 2.314   \u001b[0m | \u001b[95m 1.0     \u001b[0m | \u001b[95m 0.001   \u001b[0m |\n",
      "| \u001b[0m 19      \u001b[0m | \u001b[0m 0.05136 \u001b[0m | \u001b[0m 1.528   \u001b[0m | \u001b[0m 0.8085  \u001b[0m | \u001b[0m 1.0     \u001b[0m | \u001b[0m 2.519   \u001b[0m | \u001b[0m 0.0     \u001b[0m | \u001b[0m 0.001   \u001b[0m |\n",
      "| \u001b[0m 20      \u001b[0m | \u001b[0m-0.01461 \u001b[0m | \u001b[0m 2.888   \u001b[0m | \u001b[0m 0.5352  \u001b[0m | \u001b[0m 1.097   \u001b[0m | \u001b[0m 3.089   \u001b[0m | \u001b[0m 0.5279  \u001b[0m | \u001b[0m 0.0975  \u001b[0m |\n",
      "| \u001b[0m 21      \u001b[0m | \u001b[0m 0.05728 \u001b[0m | \u001b[0m 1.255   \u001b[0m | \u001b[0m 1.73    \u001b[0m | \u001b[0m 1.144   \u001b[0m | \u001b[0m 2.013   \u001b[0m | \u001b[0m 0.3816  \u001b[0m | \u001b[0m 0.00373 \u001b[0m |\n",
      "| \u001b[0m 22      \u001b[0m | \u001b[0m 0.03627 \u001b[0m | \u001b[0m 1.165   \u001b[0m | \u001b[0m 0.524   \u001b[0m | \u001b[0m 1.0     \u001b[0m | \u001b[0m 1.612   \u001b[0m | \u001b[0m 1.0     \u001b[0m | \u001b[0m 0.001   \u001b[0m |\n",
      "| \u001b[0m 23      \u001b[0m | \u001b[0m-0.01473 \u001b[0m | \u001b[0m 0.06775 \u001b[0m | \u001b[0m 0.4484  \u001b[0m | \u001b[0m 1.0     \u001b[0m | \u001b[0m 2.88    \u001b[0m | \u001b[0m 0.0     \u001b[0m | \u001b[0m 0.001   \u001b[0m |\n",
      "| \u001b[95m 24      \u001b[0m | \u001b[95m 0.06591 \u001b[0m | \u001b[95m 3.131   \u001b[0m | \u001b[95m 3.5     \u001b[0m | \u001b[95m 1.0     \u001b[0m | \u001b[95m 2.261   \u001b[0m | \u001b[95m 1.0     \u001b[0m | \u001b[95m 0.001   \u001b[0m |\n",
      "| \u001b[0m 25      \u001b[0m | \u001b[0m-0.06386 \u001b[0m | \u001b[0m 3.109   \u001b[0m | \u001b[0m 3.406   \u001b[0m | \u001b[0m 1.036   \u001b[0m | \u001b[0m 3.311   \u001b[0m | \u001b[0m 0.7555  \u001b[0m | \u001b[0m 0.1278  \u001b[0m |\n",
      "| \u001b[0m 26      \u001b[0m | \u001b[0m 0.0482  \u001b[0m | \u001b[0m 2.695   \u001b[0m | \u001b[0m 3.5     \u001b[0m | \u001b[0m 1.0     \u001b[0m | \u001b[0m 1.788   \u001b[0m | \u001b[0m 0.591   \u001b[0m | \u001b[0m 0.001   \u001b[0m |\n",
      "| \u001b[0m 27      \u001b[0m | \u001b[0m 0.062   \u001b[0m | \u001b[0m 2.473   \u001b[0m | \u001b[0m 2.178   \u001b[0m | \u001b[0m 1.0     \u001b[0m | \u001b[0m 2.057   \u001b[0m | \u001b[0m 1.0     \u001b[0m | \u001b[0m 0.001   \u001b[0m |\n",
      "| \u001b[0m 28      \u001b[0m | \u001b[0m 0.05267 \u001b[0m | \u001b[0m 3.5     \u001b[0m | \u001b[0m 2.954   \u001b[0m | \u001b[0m 1.0     \u001b[0m | \u001b[0m 1.813   \u001b[0m | \u001b[0m 1.0     \u001b[0m | \u001b[0m 0.001   \u001b[0m |\n",
      "| \u001b[0m 29      \u001b[0m | \u001b[0m 0.04842 \u001b[0m | \u001b[0m 1.603   \u001b[0m | \u001b[0m 2.096   \u001b[0m | \u001b[0m 1.0     \u001b[0m | \u001b[0m 2.562   \u001b[0m | \u001b[0m 1.0     \u001b[0m | \u001b[0m 0.001   \u001b[0m |\n",
      "| \u001b[0m 30      \u001b[0m | \u001b[0m 0.04221 \u001b[0m | \u001b[0m 2.107   \u001b[0m | \u001b[0m 1.385   \u001b[0m | \u001b[0m 1.0     \u001b[0m | \u001b[0m 1.696   \u001b[0m | \u001b[0m 0.2798  \u001b[0m | \u001b[0m 0.001   \u001b[0m |\n",
      "| \u001b[0m 31      \u001b[0m | \u001b[0m 0.05449 \u001b[0m | \u001b[0m 1.647   \u001b[0m | \u001b[0m 1.489   \u001b[0m | \u001b[0m 1.768   \u001b[0m | \u001b[0m 1.964   \u001b[0m | \u001b[0m 0.9108  \u001b[0m | \u001b[0m 0.1389  \u001b[0m |\n",
      "| \u001b[0m 32      \u001b[0m | \u001b[0m 0.05765 \u001b[0m | \u001b[0m 3.441   \u001b[0m | \u001b[0m 3.471   \u001b[0m | \u001b[0m 2.084   \u001b[0m | \u001b[0m 1.892   \u001b[0m | \u001b[0m 0.907   \u001b[0m | \u001b[0m 0.049   \u001b[0m |\n",
      "| \u001b[0m 33      \u001b[0m | \u001b[0m 0.04056 \u001b[0m | \u001b[0m 1.538   \u001b[0m | \u001b[0m 1.581   \u001b[0m | \u001b[0m 1.737   \u001b[0m | \u001b[0m 2.613   \u001b[0m | \u001b[0m 0.0     \u001b[0m | \u001b[0m 0.2     \u001b[0m |\n",
      "| \u001b[0m 34      \u001b[0m | \u001b[0m 0.06168 \u001b[0m | \u001b[0m 3.5     \u001b[0m | \u001b[0m 3.5     \u001b[0m | \u001b[0m 1.4     \u001b[0m | \u001b[0m 1.959   \u001b[0m | \u001b[0m 0.0     \u001b[0m | \u001b[0m 0.001   \u001b[0m |\n"
     ]
    }
   ],
   "source": [
    "%%time\n",
    "from bayes_opt import BayesianOptimization\n",
    "from sklearn.svm import SVR\n",
    "from sklearn.svm import SVC\n",
    "\n",
    "def gbm_svm(coef0,C,epsilon,degree,tol,shrinking):\n",
    "    params_svm = {}\n",
    "    params_svm['coef0']     = coef0\n",
    "    params_svm['C']         = C\n",
    "    params_svm['epsilon']   = epsilon \n",
    "    params_svm['degree']    = round(degree)\n",
    "    params_svm['tol']       = tol\n",
    "    params_svm['shrinking'] = round(shrinking)\n",
    "    scores = cross_val_score( SVR(**params_svm), X_train, y_train, cv=3).mean()\n",
    "    score = scores.mean()\n",
    "    return score\n",
    "    \n",
    "# Run Bayesian Optimization\n",
    "params_svm = {\n",
    "  'epsilon'   : (0.01 ,3.5 ),\n",
    "  'coef0'     : (0.01 ,3.5 ),\n",
    "  'degree'    : (1    ,7   ),\n",
    "  'C'         : (0.01 ,3.5 ),\n",
    "  'tol'       : (0.001,0.2 ),\n",
    "  'shrinking' : (False,True) \n",
    "}\n",
    "\n",
    "\n",
    "svm0 = BayesianOptimization(gbm_svm, params_svm)\n",
    "\n",
    "svm0.maximize(init_points=10, n_iter=50, acq='ucb')"
   ]
  },
  {
   "cell_type": "code",
   "execution_count": 28,
   "metadata": {},
   "outputs": [
    {
     "data": {
      "text/plain": [
       "{'C': 0.8172990905637877,\n",
       " 'coef0': 0.5667243703919904,\n",
       " 'degree': 4.375290208671179,\n",
       " 'epsilon': 2.3717326421633635,\n",
       " 'shrinking': 0.2852664272834471,\n",
       " 'tol': 0.1461376611633345}"
      ]
     },
     "execution_count": 28,
     "metadata": {},
     "output_type": "execute_result"
    }
   ],
   "source": [
    "params_svm0 = svm0.max['params']\n",
    "params_svm0"
   ]
  },
  {
   "cell_type": "code",
   "execution_count": 25,
   "metadata": {},
   "outputs": [
    {
     "name": "stdout",
     "output_type": "stream",
     "text": [
      "CPU times: user 3min 16s, sys: 530 ms, total: 3min 16s\n",
      "Wall time: 3min 17s\n"
     ]
    }
   ],
   "source": [
    "%%time\n",
    "from bayes_opt import BayesianOptimization\n",
    "from sklearn.svm import SVR\n",
    "from sklearn.svm import SVC\n",
    "svm00= SVR(C=0.8173, coef0=0.5667, degree=4.3753, epsilon=2.37173, shrinking=0.2852664, tol= 0.14614) \n",
    "svm00.fit(X_train, y_train)"
   ]
  },
  {
   "cell_type": "code",
   "execution_count": 27,
   "metadata": {},
   "outputs": [
    {
     "name": "stdout",
     "output_type": "stream",
     "text": [
      "R2: 0.05688974211166664\n",
      "EVS 0.05868546521114004\n",
      "MAE 2.2241919204935745\n"
     ]
    }
   ],
   "source": [
    "from sklearn.metrics import r2_score, explained_variance_score, mean_absolute_error\n",
    "print(\"R2:\", r2_score(                 y_test ,svm00.predict(X_test)))\n",
    "print(\"EVS\", explained_variance_score( y_test ,svm00.predict(X_test)))\n",
    "print(\"MAE\", mean_absolute_error(      y_test ,svm00.predict(X_test)))"
   ]
  },
  {
   "cell_type": "code",
   "execution_count": null,
   "metadata": {},
   "outputs": [],
   "source": [
    "import pickle\n",
    "# Save to file in the current working directory\n",
    "with open(\"pickle/svm00.pkl\", 'wb') as file:\n",
    "    pickle.dump(svm00, file)"
   ]
  },
  {
   "cell_type": "markdown",
   "metadata": {},
   "source": [
    "<a name=\"sgd0\"></a>\n",
    "\n",
    "## 2.2) Stochastic Gradient Descent \n",
    "\n",
    "- ir para [Menu Principal](#navegacao)\n",
    "- ir para [Train/Test partition](#partition)\n",
    "- ir para [Baysian Optimization](#bayesian)\n",
    "- ir para [Random Search](#randomsearch)\n",
    "- ir para [Halving Random Serach](#halving)"
   ]
  },
  {
   "cell_type": "code",
   "execution_count": 29,
   "metadata": {},
   "outputs": [
    {
     "name": "stdout",
     "output_type": "stream",
     "text": [
      "|   iter    |  target   |   alpha   | early_... |  epsilon  |   eta0    | l1_ratio  |  power_t  |    tol    |\n",
      "-------------------------------------------------------------------------------------------------------------\n",
      "| \u001b[0m 1       \u001b[0m | \u001b[0m 0.0741  \u001b[0m | \u001b[0m 5.479   \u001b[0m | \u001b[0m 0.6701  \u001b[0m | \u001b[0m 0.5473  \u001b[0m | \u001b[0m 0.1295  \u001b[0m | \u001b[0m 0.1251  \u001b[0m | \u001b[0m 0.2132  \u001b[0m | \u001b[0m 0.6123  \u001b[0m |\n",
      "| \u001b[0m 2       \u001b[0m | \u001b[0m-141.3   \u001b[0m | \u001b[0m 8.575   \u001b[0m | \u001b[0m 0.1026  \u001b[0m | \u001b[0m 0.04378 \u001b[0m | \u001b[0m 0.9752  \u001b[0m | \u001b[0m 0.5991  \u001b[0m | \u001b[0m 0.9867  \u001b[0m | \u001b[0m 0.5813  \u001b[0m |\n",
      "| \u001b[95m 3       \u001b[0m | \u001b[95m 0.08372 \u001b[0m | \u001b[95m 4.126   \u001b[0m | \u001b[95m 0.5894  \u001b[0m | \u001b[95m 0.05489 \u001b[0m | \u001b[95m 0.3954  \u001b[0m | \u001b[95m 0.6866  \u001b[0m | \u001b[95m 0.3359  \u001b[0m | \u001b[95m 0.1702  \u001b[0m |\n",
      "| \u001b[0m 4       \u001b[0m | \u001b[0m 0.05401 \u001b[0m | \u001b[0m 6.764   \u001b[0m | \u001b[0m 0.6511  \u001b[0m | \u001b[0m 0.03897 \u001b[0m | \u001b[0m 0.5642  \u001b[0m | \u001b[0m 0.08227 \u001b[0m | \u001b[0m 0.4226  \u001b[0m | \u001b[0m 0.01225 \u001b[0m |\n",
      "| \u001b[0m 5       \u001b[0m | \u001b[0m 0.06959 \u001b[0m | \u001b[0m 8.313   \u001b[0m | \u001b[0m 0.951   \u001b[0m | \u001b[0m 0.8103  \u001b[0m | \u001b[0m 0.05788 \u001b[0m | \u001b[0m 0.181   \u001b[0m | \u001b[0m 0.6875  \u001b[0m | \u001b[0m 0.03982 \u001b[0m |\n",
      "| \u001b[0m 6       \u001b[0m | \u001b[0m 0.07028 \u001b[0m | \u001b[0m 8.411   \u001b[0m | \u001b[0m 0.01519 \u001b[0m | \u001b[0m 0.2135  \u001b[0m | \u001b[0m 0.13    \u001b[0m | \u001b[0m 0.2238  \u001b[0m | \u001b[0m 0.8146  \u001b[0m | \u001b[0m 0.5248  \u001b[0m |\n",
      "| \u001b[0m 7       \u001b[0m | \u001b[0m 0.05793 \u001b[0m | \u001b[0m 9.712   \u001b[0m | \u001b[0m 0.5531  \u001b[0m | \u001b[0m 0.05063 \u001b[0m | \u001b[0m 0.3979  \u001b[0m | \u001b[0m 0.6291  \u001b[0m | \u001b[0m 0.5009  \u001b[0m | \u001b[0m 0.8994  \u001b[0m |\n",
      "| \u001b[0m 8       \u001b[0m | \u001b[0m 0.06173 \u001b[0m | \u001b[0m 9.712   \u001b[0m | \u001b[0m 0.02323 \u001b[0m | \u001b[0m 0.6934  \u001b[0m | \u001b[0m 0.02085 \u001b[0m | \u001b[0m 0.4419  \u001b[0m | \u001b[0m 0.2419  \u001b[0m | \u001b[0m 0.9731  \u001b[0m |\n",
      "| \u001b[0m 9       \u001b[0m | \u001b[0m-0.8447  \u001b[0m | \u001b[0m 3.193   \u001b[0m | \u001b[0m 0.3729  \u001b[0m | \u001b[0m 0.3334  \u001b[0m | \u001b[0m 0.1963  \u001b[0m | \u001b[0m 0.7674  \u001b[0m | \u001b[0m 0.07118 \u001b[0m | \u001b[0m 0.2578  \u001b[0m |\n",
      "| \u001b[0m 10      \u001b[0m | \u001b[0m 0.07706 \u001b[0m | \u001b[0m 4.378   \u001b[0m | \u001b[0m 0.8722  \u001b[0m | \u001b[0m 0.2802  \u001b[0m | \u001b[0m 0.8111  \u001b[0m | \u001b[0m 0.2622  \u001b[0m | \u001b[0m 0.4353  \u001b[0m | \u001b[0m 0.09841 \u001b[0m |\n",
      "| \u001b[95m 11      \u001b[0m | \u001b[95m 0.111   \u001b[0m | \u001b[95m 3.187   \u001b[0m | \u001b[95m 0.0     \u001b[0m | \u001b[95m 0.4065  \u001b[0m | \u001b[95m 0.2892  \u001b[0m | \u001b[95m 0.9152  \u001b[0m | \u001b[95m 0.2189  \u001b[0m | \u001b[95m 0.2995  \u001b[0m |\n",
      "| \u001b[0m 12      \u001b[0m | \u001b[0m 0.06779 \u001b[0m | \u001b[0m 3.253   \u001b[0m | \u001b[0m 0.0     \u001b[0m | \u001b[0m 0.4438  \u001b[0m | \u001b[0m 0.1539  \u001b[0m | \u001b[0m 0.6877  \u001b[0m | \u001b[0m 0.1268  \u001b[0m | \u001b[0m 0.1244  \u001b[0m |\n",
      "| \u001b[0m 13      \u001b[0m | \u001b[0m-0.05249 \u001b[0m | \u001b[0m 7.458   \u001b[0m | \u001b[0m 0.0     \u001b[0m | \u001b[0m 0.5848  \u001b[0m | \u001b[0m 0.02286 \u001b[0m | \u001b[0m 0.0211  \u001b[0m | \u001b[0m 0.8541  \u001b[0m | \u001b[0m 0.06041 \u001b[0m |\n",
      "| \u001b[0m 14      \u001b[0m | \u001b[0m 0.03911 \u001b[0m | \u001b[0m 8.228   \u001b[0m | \u001b[0m 0.0     \u001b[0m | \u001b[0m 0.6915  \u001b[0m | \u001b[0m 0.005166\u001b[0m | \u001b[0m 0.06268 \u001b[0m | \u001b[0m 0.04065 \u001b[0m | \u001b[0m 0.4893  \u001b[0m |\n",
      "| \u001b[0m 15      \u001b[0m | \u001b[0m 0.06799 \u001b[0m | \u001b[0m 8.581   \u001b[0m | \u001b[0m 0.0     \u001b[0m | \u001b[0m 0.7848  \u001b[0m | \u001b[0m 0.1184  \u001b[0m | \u001b[0m 0.1592  \u001b[0m | \u001b[0m 0.7503  \u001b[0m | \u001b[0m 0.03078 \u001b[0m |\n",
      "| \u001b[0m 16      \u001b[0m | \u001b[0m 0.09384 \u001b[0m | \u001b[0m 5.532   \u001b[0m | \u001b[0m 0.0     \u001b[0m | \u001b[0m 0.5051  \u001b[0m | \u001b[0m 0.02826 \u001b[0m | \u001b[0m 0.08616 \u001b[0m | \u001b[0m 0.3959  \u001b[0m | \u001b[0m 0.4922  \u001b[0m |\n",
      "| \u001b[0m 17      \u001b[0m | \u001b[0m 0.04963 \u001b[0m | \u001b[0m 9.852   \u001b[0m | \u001b[0m 0.0     \u001b[0m | \u001b[0m 0.09218 \u001b[0m | \u001b[0m 0.3774  \u001b[0m | \u001b[0m 0.5875  \u001b[0m | \u001b[0m 0.3896  \u001b[0m | \u001b[0m 0.9377  \u001b[0m |\n",
      "| \u001b[0m 18      \u001b[0m | \u001b[0m 0.06222 \u001b[0m | \u001b[0m 7.072   \u001b[0m | \u001b[0m 0.0     \u001b[0m | \u001b[0m 0.9616  \u001b[0m | \u001b[0m 0.004597\u001b[0m | \u001b[0m 0.01177 \u001b[0m | \u001b[0m 0.05115 \u001b[0m | \u001b[0m 0.7204  \u001b[0m |\n",
      "| \u001b[95m 19      \u001b[0m | \u001b[95m 0.1276  \u001b[0m | \u001b[95m 3.705   \u001b[0m | \u001b[95m 0.0     \u001b[0m | \u001b[95m 0.9137  \u001b[0m | \u001b[95m 0.9779  \u001b[0m | \u001b[95m 0.8827  \u001b[0m | \u001b[95m 0.7406  \u001b[0m | \u001b[95m 0.4509  \u001b[0m |\n",
      "| \u001b[0m 20      \u001b[0m | \u001b[0m 0.08335 \u001b[0m | \u001b[0m 6.34    \u001b[0m | \u001b[0m 0.0     \u001b[0m | \u001b[0m 0.7632  \u001b[0m | \u001b[0m 0.2085  \u001b[0m | \u001b[0m 0.7116  \u001b[0m | \u001b[0m 0.9517  \u001b[0m | \u001b[0m 0.00873 \u001b[0m |\n",
      "| \u001b[0m 21      \u001b[0m | \u001b[0m 0.01205 \u001b[0m | \u001b[0m 5.858   \u001b[0m | \u001b[0m 0.0     \u001b[0m | \u001b[0m 0.1571  \u001b[0m | \u001b[0m 0.05323 \u001b[0m | \u001b[0m 0.6477  \u001b[0m | \u001b[0m 0.1475  \u001b[0m | \u001b[0m 0.9861  \u001b[0m |\n",
      "| \u001b[0m 22      \u001b[0m | \u001b[0m 0.09865 \u001b[0m | \u001b[0m 5.287   \u001b[0m | \u001b[0m 0.0     \u001b[0m | \u001b[0m 0.3472  \u001b[0m | \u001b[0m 0.9708  \u001b[0m | \u001b[0m 0.9841  \u001b[0m | \u001b[0m 0.7517  \u001b[0m | \u001b[0m 0.0125  \u001b[0m |\n",
      "| \u001b[0m 23      \u001b[0m | \u001b[0m 0.1107  \u001b[0m | \u001b[0m 4.536   \u001b[0m | \u001b[0m 0.0     \u001b[0m | \u001b[0m 0.8165  \u001b[0m | \u001b[0m 0.0363  \u001b[0m | \u001b[0m 0.9824  \u001b[0m | \u001b[0m 0.5152  \u001b[0m | \u001b[0m 0.9624  \u001b[0m |\n",
      "| \u001b[0m 24      \u001b[0m | \u001b[0m 0.03903 \u001b[0m | \u001b[0m 5.726   \u001b[0m | \u001b[0m 0.0     \u001b[0m | \u001b[0m 0.9542  \u001b[0m | \u001b[0m 0.9283  \u001b[0m | \u001b[0m 0.8055  \u001b[0m | \u001b[0m 0.8453  \u001b[0m | \u001b[0m 0.8834  \u001b[0m |\n",
      "| \u001b[0m 25      \u001b[0m | \u001b[0m 0.1083  \u001b[0m | \u001b[0m 4.328   \u001b[0m | \u001b[0m 0.0     \u001b[0m | \u001b[0m 0.2461  \u001b[0m | \u001b[0m 0.6208  \u001b[0m | \u001b[0m 0.1658  \u001b[0m | \u001b[0m 0.5317  \u001b[0m | \u001b[0m 0.1745  \u001b[0m |\n",
      "| \u001b[0m 26      \u001b[0m | \u001b[0m-0.352   \u001b[0m | \u001b[0m 3.529   \u001b[0m | \u001b[0m 0.0     \u001b[0m | \u001b[0m 0.8959  \u001b[0m | \u001b[0m 0.003455\u001b[0m | \u001b[0m 0.05275 \u001b[0m | \u001b[0m 0.9202  \u001b[0m | \u001b[0m 0.8391  \u001b[0m |\n",
      "| \u001b[0m 27      \u001b[0m | \u001b[0m-402.0   \u001b[0m | \u001b[0m 3.248   \u001b[0m | \u001b[0m 0.0     \u001b[0m | \u001b[0m 0.8603  \u001b[0m | \u001b[0m 0.6543  \u001b[0m | \u001b[0m 0.669   \u001b[0m | \u001b[0m 0.1233  \u001b[0m | \u001b[0m 0.4078  \u001b[0m |\n",
      "| \u001b[95m 28      \u001b[0m | \u001b[95m 0.1433  \u001b[0m | \u001b[95m 3.156   \u001b[0m | \u001b[95m 0.0     \u001b[0m | \u001b[95m 0.1556  \u001b[0m | \u001b[95m 0.06002 \u001b[0m | \u001b[95m 0.8728  \u001b[0m | \u001b[95m 0.4595  \u001b[0m | \u001b[95m 0.3441  \u001b[0m |\n",
      "| \u001b[0m 29      \u001b[0m | \u001b[0m-0.009324\u001b[0m | \u001b[0m 3.158   \u001b[0m | \u001b[0m 0.0     \u001b[0m | \u001b[0m 0.3618  \u001b[0m | \u001b[0m 0.1566  \u001b[0m | \u001b[0m 0.8509  \u001b[0m | \u001b[0m 0.1225  \u001b[0m | \u001b[0m 0.2026  \u001b[0m |\n",
      "| \u001b[0m 30      \u001b[0m | \u001b[0m 0.1126  \u001b[0m | \u001b[0m 4.457   \u001b[0m | \u001b[0m 0.0     \u001b[0m | \u001b[0m 0.1519  \u001b[0m | \u001b[0m 0.8473  \u001b[0m | \u001b[0m 0.2931  \u001b[0m | \u001b[0m 0.5836  \u001b[0m | \u001b[0m 0.7884  \u001b[0m |\n",
      "| \u001b[0m 31      \u001b[0m | \u001b[0m 0.09105 \u001b[0m | \u001b[0m 5.902   \u001b[0m | \u001b[0m 0.0     \u001b[0m | \u001b[0m 0.5019  \u001b[0m | \u001b[0m 0.08176 \u001b[0m | \u001b[0m 0.9597  \u001b[0m | \u001b[0m 0.6553  \u001b[0m | \u001b[0m 0.3612  \u001b[0m |\n",
      "| \u001b[0m 32      \u001b[0m | \u001b[0m 0.0616  \u001b[0m | \u001b[0m 5.641   \u001b[0m | \u001b[0m 0.0     \u001b[0m | \u001b[0m 0.6368  \u001b[0m | \u001b[0m 0.1644  \u001b[0m | \u001b[0m 0.6511  \u001b[0m | \u001b[0m 0.2534  \u001b[0m | \u001b[0m 0.7193  \u001b[0m |\n",
      "| \u001b[0m 33      \u001b[0m | \u001b[0m-9.941e+2\u001b[0m | \u001b[0m 2.753   \u001b[0m | \u001b[0m 0.0     \u001b[0m | \u001b[0m 0.8419  \u001b[0m | \u001b[0m 0.2556  \u001b[0m | \u001b[0m 0.3761  \u001b[0m | \u001b[0m 0.03218 \u001b[0m | \u001b[0m 0.9818  \u001b[0m |\n",
      "| \u001b[0m 34      \u001b[0m | \u001b[0m-2.451   \u001b[0m | \u001b[0m 3.749   \u001b[0m | \u001b[0m 0.0     \u001b[0m | \u001b[0m 0.8432  \u001b[0m | \u001b[0m 0.8542  \u001b[0m | \u001b[0m 0.9374  \u001b[0m | \u001b[0m 0.1914  \u001b[0m | \u001b[0m 0.02582 \u001b[0m |\n",
      "| \u001b[0m 35      \u001b[0m | \u001b[0m-0.0144  \u001b[0m | \u001b[0m 7.161   \u001b[0m | \u001b[0m 0.0     \u001b[0m | \u001b[0m 0.5716  \u001b[0m | \u001b[0m 0.4482  \u001b[0m | \u001b[0m 0.7124  \u001b[0m | \u001b[0m 0.314   \u001b[0m | \u001b[0m 0.02019 \u001b[0m |\n",
      "| \u001b[0m 36      \u001b[0m | \u001b[0m 0.1334  \u001b[0m | \u001b[0m 3.564   \u001b[0m | \u001b[0m 0.0     \u001b[0m | \u001b[0m 0.4996  \u001b[0m | \u001b[0m 0.8835  \u001b[0m | \u001b[0m 0.929   \u001b[0m | \u001b[0m 0.6919  \u001b[0m | \u001b[0m 0.8014  \u001b[0m |\n",
      "| \u001b[0m 37      \u001b[0m | \u001b[0m-6.229e+2\u001b[0m | \u001b[0m 6.83    \u001b[0m | \u001b[0m 0.0     \u001b[0m | \u001b[0m 0.6666  \u001b[0m | \u001b[0m 0.9712  \u001b[0m | \u001b[0m 0.5793  \u001b[0m | \u001b[0m 0.08312 \u001b[0m | \u001b[0m 0.1801  \u001b[0m |\n",
      "| \u001b[0m 38      \u001b[0m | \u001b[0m 0.07    \u001b[0m | \u001b[0m 7.489   \u001b[0m | \u001b[0m 0.0     \u001b[0m | \u001b[0m 0.7277  \u001b[0m | \u001b[0m 0.1261  \u001b[0m | \u001b[0m 0.6525  \u001b[0m | \u001b[0m 0.515   \u001b[0m | \u001b[0m 0.02353 \u001b[0m |\n",
      "| \u001b[0m 39      \u001b[0m | \u001b[0m 0.07515 \u001b[0m | \u001b[0m 7.348   \u001b[0m | \u001b[0m 0.0     \u001b[0m | \u001b[0m 0.08657 \u001b[0m | \u001b[0m 0.2459  \u001b[0m | \u001b[0m 0.8532  \u001b[0m | \u001b[0m 0.7423  \u001b[0m | \u001b[0m 0.1631  \u001b[0m |\n",
      "| \u001b[0m 40      \u001b[0m | \u001b[0m-1.304   \u001b[0m | \u001b[0m 1.558   \u001b[0m | \u001b[0m 0.0     \u001b[0m | \u001b[0m 0.4133  \u001b[0m | \u001b[0m 0.5704  \u001b[0m | \u001b[0m 0.9175  \u001b[0m | \u001b[0m 0.1298  \u001b[0m | \u001b[0m 0.477   \u001b[0m |\n",
      "=============================================================================================================\n",
      "CPU times: user 2min 41s, sys: 3min 19s, total: 6min 1s\n",
      "Wall time: 36.6 s\n"
     ]
    }
   ],
   "source": [
    "%%time\n",
    "from bayes_opt import BayesianOptimization\n",
    "from sklearn.linear_model import SGDRegressor\n",
    "\n",
    "def gbm_sgd(alpha, l1_ratio, epsilon, eta0, tol, power_t, early_stopping):\n",
    "    params_sgd = {}\n",
    "    params_sgd['alpha']          = alpha.mean()\n",
    "    params_sgd['l1_ratio']       = l1_ratio.mean()\n",
    "    params_sgd['epsilon']        = epsilon .mean()\n",
    "    params_sgd['eta0']           = eta0.mean()\n",
    "    params_sgd['tol']            = tol.mean()\n",
    "    params_sgd['power_t']        = power_t.mean()\n",
    "    params_sgd['early_stopping'] = bool(early_stopping.mean())\n",
    "    \n",
    "    scores = cross_val_score(SGDRegressor(**params_sgd,max_iter=1000), X_train0, y_train0.ravel(), cv=3).mean()\n",
    "    score = scores.mean()\n",
    "    return score\n",
    "    \n",
    "# Run Bayesian Optimization\n",
    "params_sgd = {\n",
    "    'alpha'          : (0.050 ,10.0 ),\n",
    "    'l1_ratio'       : (0.010 ,0.99 ),\n",
    "    'epsilon'        : (0.010 ,0.99 ),\n",
    "    'eta0'           : (0.001 ,0.99 ),\n",
    "    'power_t'        : (0.010 ,0.99 ),\n",
    "    'early_stopping' : (True  ,False),\n",
    "    'tol'            : (0.001 ,0.99 )\n",
    "}\n",
    "#Nova senha RH Marilia1!2@3#\n",
    "\n",
    "sgd0 = BayesianOptimization(gbm_sgd, params_sgd)\n",
    "\n",
    "sgd0.maximize(init_points=10, n_iter=30, acq='ucb')"
   ]
  },
  {
   "cell_type": "code",
   "execution_count": 30,
   "metadata": {},
   "outputs": [
    {
     "data": {
      "text/plain": [
       "{'alpha': 3.156269755184773,\n",
       " 'early_stopping': 0.0,\n",
       " 'epsilon': 0.15560487242834,\n",
       " 'eta0': 0.06001768654406315,\n",
       " 'l1_ratio': 0.872848897633387,\n",
       " 'power_t': 0.4595269389751513,\n",
       " 'tol': 0.3441389932404222}"
      ]
     },
     "execution_count": 30,
     "metadata": {},
     "output_type": "execute_result"
    }
   ],
   "source": [
    "params_sgd0 = sgd0.max['params']\n",
    "params_sgd0"
   ]
  },
  {
   "cell_type": "code",
   "execution_count": 68,
   "metadata": {},
   "outputs": [
    {
     "name": "stdout",
     "output_type": "stream",
     "text": [
      "CPU times: user 103 ms, sys: 0 ns, total: 103 ms\n",
      "Wall time: 100 ms\n"
     ]
    }
   ],
   "source": [
    "%%time\n",
    "from sklearn.linear_model import SGDRegressor\n",
    "sgd00= SGDRegressor(random_state=1, max_iter=1000, alpha=3.156269755184773, l1_ratio=0.872848897633387,\n",
    "                    epsilon=0.15560487242834, eta0=0.06001768654406315, power_t=0.4595269389751513, \n",
    "                    early_stopping=False, tol=0.3441389932404222)\n",
    "\n",
    "sgd00.fit(X_train0, y_train0)"
   ]
  },
  {
   "cell_type": "code",
   "execution_count": 69,
   "metadata": {},
   "outputs": [
    {
     "name": "stdout",
     "output_type": "stream",
     "text": [
      "R2: 0.1465717173919352\n",
      "EVS 0.14663557833907825\n",
      "MAE 0.11311702316890586\n"
     ]
    }
   ],
   "source": [
    "from sklearn.metrics import r2_score, explained_variance_score, mean_absolute_error\n",
    "print(\"R2:\", r2_score(                 y_test0 ,sgd00.predict(X_test0)))\n",
    "print(\"EVS\", explained_variance_score( y_test0 ,sgd00.predict(X_test0)))\n",
    "print(\"MAE\", mean_absolute_error(      y_test0 ,sgd00.predict(X_test0)))"
   ]
  },
  {
   "cell_type": "code",
   "execution_count": 72,
   "metadata": {},
   "outputs": [],
   "source": [
    "importance = sgd00.coef_"
   ]
  },
  {
   "cell_type": "code",
   "execution_count": 79,
   "metadata": {},
   "outputs": [],
   "source": [
    "#sgd00.get_params()\n",
    "#sgd00.average_intercept_"
   ]
  },
  {
   "cell_type": "code",
   "execution_count": 71,
   "metadata": {},
   "outputs": [
    {
     "ename": "AttributeError",
     "evalue": "'SGDRegressor' object has no attribute 'feature_importances_'",
     "output_type": "error",
     "traceback": [
      "\u001b[0;31m\u001b[0m",
      "\u001b[0;31mAttributeError\u001b[0mTraceback (most recent call last)",
      "\u001b[0;32m<ipython-input-71-276abc475990>\u001b[0m in \u001b[0;36m<module>\u001b[0;34m\u001b[0m\n\u001b[0;32m----> 1\u001b[0;31m \u001b[0mdataframe\u001b[0m\u001b[0;34m=\u001b[0m\u001b[0mpd\u001b[0m\u001b[0;34m.\u001b[0m\u001b[0mDataFrame\u001b[0m\u001b[0;34m(\u001b[0m\u001b[0msgd00\u001b[0m\u001b[0;34m.\u001b[0m\u001b[0mfeature_importances_\u001b[0m\u001b[0;34m,\u001b[0m \u001b[0mcolumns\u001b[0m\u001b[0;34m=\u001b[0m\u001b[0;34m[\u001b[0m\u001b[0;34m'feature_importances'\u001b[0m\u001b[0;34m]\u001b[0m\u001b[0;34m)\u001b[0m\u001b[0;34m\u001b[0m\u001b[0;34m\u001b[0m\u001b[0m\n\u001b[0m\u001b[1;32m      2\u001b[0m \u001b[0mdataframe\u001b[0m\u001b[0;34m[\u001b[0m\u001b[0;34m'features'\u001b[0m\u001b[0;34m]\u001b[0m \u001b[0;34m=\u001b[0m \u001b[0mlista\u001b[0m\u001b[0;34m\u001b[0m\u001b[0;34m\u001b[0m\u001b[0m\n\u001b[1;32m      3\u001b[0m \u001b[0mdataframe\u001b[0m\u001b[0;34m.\u001b[0m\u001b[0msort_values\u001b[0m\u001b[0;34m(\u001b[0m\u001b[0;34m'feature_importances'\u001b[0m\u001b[0;34m)\u001b[0m\u001b[0;34m\u001b[0m\u001b[0;34m\u001b[0m\u001b[0m\n",
      "\u001b[0;31mAttributeError\u001b[0m: 'SGDRegressor' object has no attribute 'feature_importances_'"
     ]
    }
   ],
   "source": [
    "dataframe=pd.DataFrame(sgd00.feature_importances_, columns=['feature_importances']) \n",
    "dataframe['features'] = lista\n",
    "dataframe.sort_values('feature_importances')"
   ]
  },
  {
   "cell_type": "code",
   "execution_count": null,
   "metadata": {},
   "outputs": [],
   "source": [
    "SGDRegressor.get"
   ]
  },
  {
   "cell_type": "markdown",
   "metadata": {},
   "source": [
    "<a name=\"elastic0\"></a>\n",
    "\n",
    "## 2.3) Multi-Task Elastic-Net\n",
    "\n",
    "- ir para [Menu Principal](#navegacao)\n",
    "- ir para [Train/Test partition](#partition)\n",
    "- ir para [Baysian Optimization](#bayesian)\n",
    "- ir para [Random Search](#randomsearch)\n",
    "- ir para [Halving Random Serach](#halving)"
   ]
  },
  {
   "cell_type": "code",
   "execution_count": null,
   "metadata": {},
   "outputs": [],
   "source": [
    "%%time\n",
    "from bayes_opt import BayesianOptimization\n",
    "from sklearn import linear_model\n",
    "\n",
    "#fit_intercept,normalize,warm_start  \n",
    "#params_elastic['fit_intercept']  = True\n",
    "#params_elastic['normalize']      = True\n",
    "#params_elastic['warm_start']     = True\n",
    "\n",
    "def gbm_elastic(alpha,l1_ratio):\n",
    "    params_elastic = {}\n",
    "    params_elastic['alpha']          = alpha\n",
    "    params_elastic['l1_ratio']       = l1_ratio \n",
    "    scores = cross_val_score( linear_model.MultiTaskElasticNet(**params_elastic,max_iter=900), \n",
    "                             X_train0, y_train0.ravel(), cv=3).mean()\n",
    "    score = scores.mean()\n",
    "    return score\n",
    "    \n",
    "# Run Bayesian Optimization\n",
    "params_elastic = {\n",
    "    'alpha'         : (10.00 ,0.001),\n",
    "    'l1_ratio'      : (0.999 ,0.001)\n",
    "}\n",
    "\n",
    "#'fit_intercept' : (0.010 ,0.99),\n",
    "#'normalize'     : (0.010 ,0.99),\n",
    "#'warm_start'    : (0.010 ,0.99),\n",
    "    \n",
    "mtask0 = BayesianOptimization(gbm_elastic, params_elastic)\n",
    "\n",
    "mtask0.maximize(init_points=10, n_iter=30, acq='ucb')"
   ]
  },
  {
   "cell_type": "code",
   "execution_count": null,
   "metadata": {},
   "outputs": [],
   "source": [
    "params_mtask0 = mtask0.max['params']\n",
    "params_mtask0"
   ]
  },
  {
   "cell_type": "code",
   "execution_count": null,
   "metadata": {},
   "outputs": [],
   "source": [
    "%%time\n",
    "mtask00 = linear_model.MultiTaskElasticNet(max_iter=800,random_state=1, n_jobs=20)\n",
    "mtask00.fit(X_train0, y_train0.ravel())"
   ]
  },
  {
   "cell_type": "code",
   "execution_count": null,
   "metadata": {},
   "outputs": [],
   "source": [
    "from sklearn.metrics import r2_score, explained_variance_score, mean_absolute_error\n",
    "print(\"R2:\", r2_score(                 y_test ,svm00.predict(X_test)))\n",
    "print(\"EVS\", explained_variance_score( y_test ,svm00.predict(X_test)))\n",
    "print(\"MAE\", mean_absolute_error(      y_test ,svm00.predict(X_test)))"
   ]
  },
  {
   "cell_type": "code",
   "execution_count": 34,
   "metadata": {},
   "outputs": [
    {
     "name": "stdout",
     "output_type": "stream",
     "text": [
      "1.3.3\n"
     ]
    }
   ],
   "source": [
    "\n",
    "# check xgboost version\n",
    "import xgboost\n",
    "print(xgboost.__version__)"
   ]
  },
  {
   "cell_type": "markdown",
   "metadata": {},
   "source": [
    "<a name=\"LAR0\"></a>\n",
    "\n",
    "## 2.4) Least Angle Regression Model (LAR)\n",
    "\n",
    "- ir para [Menu Principal](#navegacao)\n",
    "- ir para [Train/Test partition](#partition)\n",
    "- ir para [Baysian Optimization](#bayesian)\n",
    "- ir para [Random Search](#randomsearch)\n",
    "- ir para [Halving Random Serach](#halving)"
   ]
  },
  {
   "cell_type": "code",
   "execution_count": 37,
   "metadata": {},
   "outputs": [
    {
     "name": "stdout",
     "output_type": "stream",
     "text": [
      "|   iter    |  target   |   alpha   |  copy_X   |    eps    | fit_in... | fit_path  | normalize | positive  |\n",
      "-------------------------------------------------------------------------------------------------------------\n",
      "| \u001b[0m 1       \u001b[0m | \u001b[0m-6.297e-0\u001b[0m | \u001b[0m 9.958   \u001b[0m | \u001b[0m 0.9492  \u001b[0m | \u001b[0m 6.053   \u001b[0m | \u001b[0m 0.4397  \u001b[0m | \u001b[0m 0.7421  \u001b[0m | \u001b[0m 0.2016  \u001b[0m | \u001b[0m 0.2105  \u001b[0m |\n",
      "| \u001b[0m 2       \u001b[0m | \u001b[0m-6.297e-0\u001b[0m | \u001b[0m 6.75    \u001b[0m | \u001b[0m 0.414   \u001b[0m | \u001b[0m 16.05   \u001b[0m | \u001b[0m 0.5728  \u001b[0m | \u001b[0m 0.3626  \u001b[0m | \u001b[0m 0.1632  \u001b[0m | \u001b[0m 0.05534 \u001b[0m |\n",
      "| \u001b[0m 3       \u001b[0m | \u001b[0m-6.297e-0\u001b[0m | \u001b[0m 9.367   \u001b[0m | \u001b[0m 0.1659  \u001b[0m | \u001b[0m 59.56   \u001b[0m | \u001b[0m 0.6793  \u001b[0m | \u001b[0m 0.7293  \u001b[0m | \u001b[0m 0.9501  \u001b[0m | \u001b[0m 0.7056  \u001b[0m |\n",
      "| \u001b[0m 4       \u001b[0m | \u001b[0m-6.297e-0\u001b[0m | \u001b[0m 1.757   \u001b[0m | \u001b[0m 0.5311  \u001b[0m | \u001b[0m 68.23   \u001b[0m | \u001b[0m 0.1085  \u001b[0m | \u001b[0m 0.4901  \u001b[0m | \u001b[0m 0.6827  \u001b[0m | \u001b[0m 0.79    \u001b[0m |\n",
      "| \u001b[0m 5       \u001b[0m | \u001b[0m-6.297e-0\u001b[0m | \u001b[0m 5.377   \u001b[0m | \u001b[0m 0.2627  \u001b[0m | \u001b[0m 77.41   \u001b[0m | \u001b[0m 0.9312  \u001b[0m | \u001b[0m 0.9715  \u001b[0m | \u001b[0m 0.2101  \u001b[0m | \u001b[0m 0.7024  \u001b[0m |\n",
      "| \u001b[0m 6       \u001b[0m | \u001b[0m-6.297e-0\u001b[0m | \u001b[0m 2.46    \u001b[0m | \u001b[0m 0.7848  \u001b[0m | \u001b[0m 90.99   \u001b[0m | \u001b[0m 0.01882 \u001b[0m | \u001b[0m 0.9563  \u001b[0m | \u001b[0m 0.04494 \u001b[0m | \u001b[0m 0.6115  \u001b[0m |\n",
      "| \u001b[0m 7       \u001b[0m | \u001b[0m-6.297e-0\u001b[0m | \u001b[0m 9.767   \u001b[0m | \u001b[0m 0.1519  \u001b[0m | \u001b[0m 1.459   \u001b[0m | \u001b[0m 0.7934  \u001b[0m | \u001b[0m 0.2845  \u001b[0m | \u001b[0m 0.683   \u001b[0m | \u001b[0m 0.6532  \u001b[0m |\n",
      "| \u001b[0m 8       \u001b[0m | \u001b[0m-6.297e-0\u001b[0m | \u001b[0m 2.297   \u001b[0m | \u001b[0m 0.6433  \u001b[0m | \u001b[0m 18.67   \u001b[0m | \u001b[0m 0.9034  \u001b[0m | \u001b[0m 0.4672  \u001b[0m | \u001b[0m 0.8236  \u001b[0m | \u001b[0m 0.7288  \u001b[0m |\n",
      "| \u001b[0m 9       \u001b[0m | \u001b[0m-6.297e-0\u001b[0m | \u001b[0m 1.276   \u001b[0m | \u001b[0m 0.1419  \u001b[0m | \u001b[0m 19.59   \u001b[0m | \u001b[0m 0.2002  \u001b[0m | \u001b[0m 0.3622  \u001b[0m | \u001b[0m 0.08152 \u001b[0m | \u001b[0m 0.1963  \u001b[0m |\n",
      "| \u001b[0m 10      \u001b[0m | \u001b[0m-6.297e-0\u001b[0m | \u001b[0m 2.345   \u001b[0m | \u001b[0m 0.4875  \u001b[0m | \u001b[0m 66.74   \u001b[0m | \u001b[0m 0.05789 \u001b[0m | \u001b[0m 0.01148 \u001b[0m | \u001b[0m 0.01451 \u001b[0m | \u001b[0m 0.8389  \u001b[0m |\n",
      "| \u001b[0m 11      \u001b[0m | \u001b[0m-3.089   \u001b[0m | \u001b[0m 2.456   \u001b[0m | \u001b[0m 0.0     \u001b[0m | \u001b[0m 18.84   \u001b[0m | \u001b[0m 0.0     \u001b[0m | \u001b[0m 0.0     \u001b[0m | \u001b[0m 0.0     \u001b[0m | \u001b[0m 0.0     \u001b[0m |\n",
      "| \u001b[0m 12      \u001b[0m | \u001b[0m-3.089   \u001b[0m | \u001b[0m 2.431   \u001b[0m | \u001b[0m 0.0     \u001b[0m | \u001b[0m 18.7    \u001b[0m | \u001b[0m 0.0     \u001b[0m | \u001b[0m 0.0     \u001b[0m | \u001b[0m 0.0     \u001b[0m | \u001b[0m 0.0     \u001b[0m |\n",
      "| \u001b[0m 13      \u001b[0m | \u001b[0m-3.089   \u001b[0m | \u001b[0m 0.7347  \u001b[0m | \u001b[0m 0.0     \u001b[0m | \u001b[0m 19.91   \u001b[0m | \u001b[0m 0.0     \u001b[0m | \u001b[0m 0.0     \u001b[0m | \u001b[0m 0.0     \u001b[0m | \u001b[0m 0.0     \u001b[0m |\n",
      "| \u001b[0m 14      \u001b[0m | \u001b[0m-3.089   \u001b[0m | \u001b[0m 1.205   \u001b[0m | \u001b[0m 0.0     \u001b[0m | \u001b[0m 19.67   \u001b[0m | \u001b[0m 0.0     \u001b[0m | \u001b[0m 0.0     \u001b[0m | \u001b[0m 0.0     \u001b[0m | \u001b[0m 0.0     \u001b[0m |\n",
      "| \u001b[0m 15      \u001b[0m | \u001b[0m-3.089   \u001b[0m | \u001b[0m 3.801   \u001b[0m | \u001b[0m 0.0     \u001b[0m | \u001b[0m 96.52   \u001b[0m | \u001b[0m 0.0     \u001b[0m | \u001b[0m 0.0     \u001b[0m | \u001b[0m 0.0     \u001b[0m | \u001b[0m 0.0     \u001b[0m |\n",
      "| \u001b[0m 16      \u001b[0m | \u001b[0m-3.089   \u001b[0m | \u001b[0m 1.536   \u001b[0m | \u001b[0m 0.0     \u001b[0m | \u001b[0m 19.18   \u001b[0m | \u001b[0m 0.0     \u001b[0m | \u001b[0m 0.0     \u001b[0m | \u001b[0m 0.0     \u001b[0m | \u001b[0m 0.0     \u001b[0m |\n",
      "| \u001b[0m 17      \u001b[0m | \u001b[0m-3.089   \u001b[0m | \u001b[0m 1.368   \u001b[0m | \u001b[0m 0.0     \u001b[0m | \u001b[0m 19.62   \u001b[0m | \u001b[0m 0.0     \u001b[0m | \u001b[0m 0.0     \u001b[0m | \u001b[0m 0.0     \u001b[0m | \u001b[0m 0.0     \u001b[0m |\n",
      "| \u001b[0m 18      \u001b[0m | \u001b[0m-3.089   \u001b[0m | \u001b[0m 1.369   \u001b[0m | \u001b[0m 0.0     \u001b[0m | \u001b[0m 20.02   \u001b[0m | \u001b[0m 0.0     \u001b[0m | \u001b[0m 0.0     \u001b[0m | \u001b[0m 0.0     \u001b[0m | \u001b[0m 0.0     \u001b[0m |\n",
      "| \u001b[0m 19      \u001b[0m | \u001b[0m-3.089   \u001b[0m | \u001b[0m 1.021   \u001b[0m | \u001b[0m 0.0     \u001b[0m | \u001b[0m 19.28   \u001b[0m | \u001b[0m 0.0     \u001b[0m | \u001b[0m 0.0     \u001b[0m | \u001b[0m 0.0     \u001b[0m | \u001b[0m 0.0     \u001b[0m |\n",
      "| \u001b[0m 20      \u001b[0m | \u001b[0m-3.089   \u001b[0m | \u001b[0m 1.496   \u001b[0m | \u001b[0m 0.0     \u001b[0m | \u001b[0m 19.65   \u001b[0m | \u001b[0m 0.0     \u001b[0m | \u001b[0m 0.0     \u001b[0m | \u001b[0m 0.0     \u001b[0m | \u001b[0m 0.0     \u001b[0m |\n",
      "| \u001b[0m 21      \u001b[0m | \u001b[0m-3.089   \u001b[0m | \u001b[0m 1.505   \u001b[0m | \u001b[0m 0.0     \u001b[0m | \u001b[0m 19.37   \u001b[0m | \u001b[0m 0.0     \u001b[0m | \u001b[0m 0.0     \u001b[0m | \u001b[0m 0.0     \u001b[0m | \u001b[0m 0.0     \u001b[0m |\n",
      "| \u001b[0m 22      \u001b[0m | \u001b[0m-3.089   \u001b[0m | \u001b[0m 1.206   \u001b[0m | \u001b[0m 0.0     \u001b[0m | \u001b[0m 19.64   \u001b[0m | \u001b[0m 0.0     \u001b[0m | \u001b[0m 0.0     \u001b[0m | \u001b[0m 0.0     \u001b[0m | \u001b[0m 0.0     \u001b[0m |\n",
      "| \u001b[0m 23      \u001b[0m | \u001b[0m-3.089   \u001b[0m | \u001b[0m 1.953   \u001b[0m | \u001b[0m 0.0     \u001b[0m | \u001b[0m 19.71   \u001b[0m | \u001b[0m 0.0     \u001b[0m | \u001b[0m 0.0     \u001b[0m | \u001b[0m 0.0     \u001b[0m | \u001b[0m 0.0     \u001b[0m |\n",
      "| \u001b[0m 24      \u001b[0m | \u001b[0m-3.089   \u001b[0m | \u001b[0m 1.08    \u001b[0m | \u001b[0m 0.0     \u001b[0m | \u001b[0m 19.58   \u001b[0m | \u001b[0m 0.0     \u001b[0m | \u001b[0m 0.0     \u001b[0m | \u001b[0m 0.0     \u001b[0m | \u001b[0m 0.0     \u001b[0m |\n",
      "| \u001b[0m 25      \u001b[0m | \u001b[0m-3.089   \u001b[0m | \u001b[0m 0.8236  \u001b[0m | \u001b[0m 0.0     \u001b[0m | \u001b[0m 19.56   \u001b[0m | \u001b[0m 0.0     \u001b[0m | \u001b[0m 0.0     \u001b[0m | \u001b[0m 0.0     \u001b[0m | \u001b[0m 0.0     \u001b[0m |\n",
      "| \u001b[0m 26      \u001b[0m | \u001b[0m-3.089   \u001b[0m | \u001b[0m 1.255   \u001b[0m | \u001b[0m 0.0     \u001b[0m | \u001b[0m 19.73   \u001b[0m | \u001b[0m 0.0     \u001b[0m | \u001b[0m 0.0     \u001b[0m | \u001b[0m 0.0     \u001b[0m | \u001b[0m 0.0     \u001b[0m |\n",
      "| \u001b[0m 27      \u001b[0m | \u001b[0m-3.089   \u001b[0m | \u001b[0m 1.146   \u001b[0m | \u001b[0m 0.0     \u001b[0m | \u001b[0m 19.55   \u001b[0m | \u001b[0m 0.0     \u001b[0m | \u001b[0m 0.0     \u001b[0m | \u001b[0m 0.0     \u001b[0m | \u001b[0m 0.0     \u001b[0m |\n",
      "| \u001b[0m 28      \u001b[0m | \u001b[0m-3.089   \u001b[0m | \u001b[0m 1.264   \u001b[0m | \u001b[0m 0.0     \u001b[0m | \u001b[0m 20.2    \u001b[0m | \u001b[0m 0.0     \u001b[0m | \u001b[0m 0.0     \u001b[0m | \u001b[0m 0.0     \u001b[0m | \u001b[0m 0.0     \u001b[0m |\n",
      "| \u001b[0m 29      \u001b[0m | \u001b[0m-3.089   \u001b[0m | \u001b[0m 1.019   \u001b[0m | \u001b[0m 0.0     \u001b[0m | \u001b[0m 19.53   \u001b[0m | \u001b[0m 0.0     \u001b[0m | \u001b[0m 0.0     \u001b[0m | \u001b[0m 0.0     \u001b[0m | \u001b[0m 0.0     \u001b[0m |\n",
      "| \u001b[0m 30      \u001b[0m | \u001b[0m-3.089   \u001b[0m | \u001b[0m 1.14    \u001b[0m | \u001b[0m 0.0     \u001b[0m | \u001b[0m 20.08   \u001b[0m | \u001b[0m 0.0     \u001b[0m | \u001b[0m 0.0     \u001b[0m | \u001b[0m 0.0     \u001b[0m | \u001b[0m 0.0     \u001b[0m |\n",
      "| \u001b[0m 31      \u001b[0m | \u001b[0m-3.089   \u001b[0m | \u001b[0m 1.242   \u001b[0m | \u001b[0m 0.0     \u001b[0m | \u001b[0m 20.13   \u001b[0m | \u001b[0m 0.0     \u001b[0m | \u001b[0m 0.0     \u001b[0m | \u001b[0m 0.0     \u001b[0m | \u001b[0m 0.0     \u001b[0m |\n",
      "| \u001b[0m 32      \u001b[0m | \u001b[0m-3.089   \u001b[0m | \u001b[0m 0.9301  \u001b[0m | \u001b[0m 0.0     \u001b[0m | \u001b[0m 19.92   \u001b[0m | \u001b[0m 0.0     \u001b[0m | \u001b[0m 0.0     \u001b[0m | \u001b[0m 0.0     \u001b[0m | \u001b[0m 0.0     \u001b[0m |\n",
      "| \u001b[0m 33      \u001b[0m | \u001b[0m-3.089   \u001b[0m | \u001b[0m 1.228   \u001b[0m | \u001b[0m 0.0     \u001b[0m | \u001b[0m 19.7    \u001b[0m | \u001b[0m 0.0     \u001b[0m | \u001b[0m 0.0     \u001b[0m | \u001b[0m 0.0     \u001b[0m | \u001b[0m 0.0     \u001b[0m |\n",
      "| \u001b[0m 34      \u001b[0m | \u001b[0m-3.089   \u001b[0m | \u001b[0m 0.8486  \u001b[0m | \u001b[0m 0.0     \u001b[0m | \u001b[0m 19.53   \u001b[0m | \u001b[0m 0.0     \u001b[0m | \u001b[0m 0.0     \u001b[0m | \u001b[0m 0.0     \u001b[0m | \u001b[0m 0.0     \u001b[0m |\n",
      "| \u001b[0m 35      \u001b[0m | \u001b[0m-3.089   \u001b[0m | \u001b[0m 0.9413  \u001b[0m | \u001b[0m 0.0     \u001b[0m | \u001b[0m 19.87   \u001b[0m | \u001b[0m 0.0     \u001b[0m | \u001b[0m 0.0     \u001b[0m | \u001b[0m 0.0     \u001b[0m | \u001b[0m 0.0     \u001b[0m |\n",
      "| \u001b[0m 36      \u001b[0m | \u001b[0m-3.089   \u001b[0m | \u001b[0m 1.387   \u001b[0m | \u001b[0m 0.0     \u001b[0m | \u001b[0m 19.53   \u001b[0m | \u001b[0m 0.0     \u001b[0m | \u001b[0m 0.0     \u001b[0m | \u001b[0m 0.0     \u001b[0m | \u001b[0m 0.0     \u001b[0m |\n",
      "| \u001b[0m 37      \u001b[0m | \u001b[0m-3.089   \u001b[0m | \u001b[0m 1.576   \u001b[0m | \u001b[0m 0.0     \u001b[0m | \u001b[0m 19.52   \u001b[0m | \u001b[0m 0.0     \u001b[0m | \u001b[0m 0.0     \u001b[0m | \u001b[0m 0.0     \u001b[0m | \u001b[0m 0.0     \u001b[0m |\n",
      "| \u001b[0m 38      \u001b[0m | \u001b[0m-3.089   \u001b[0m | \u001b[0m 0.7927  \u001b[0m | \u001b[0m 0.0     \u001b[0m | \u001b[0m 19.42   \u001b[0m | \u001b[0m 0.0     \u001b[0m | \u001b[0m 0.0     \u001b[0m | \u001b[0m 0.0     \u001b[0m | \u001b[0m 0.0     \u001b[0m |\n",
      "| \u001b[0m 39      \u001b[0m | \u001b[0m-3.089   \u001b[0m | \u001b[0m 1.393   \u001b[0m | \u001b[0m 0.0     \u001b[0m | \u001b[0m 19.93   \u001b[0m | \u001b[0m 0.0     \u001b[0m | \u001b[0m 0.0     \u001b[0m | \u001b[0m 0.0     \u001b[0m | \u001b[0m 0.0     \u001b[0m |\n",
      "| \u001b[0m 40      \u001b[0m | \u001b[0m-3.089   \u001b[0m | \u001b[0m 1.363   \u001b[0m | \u001b[0m 0.0     \u001b[0m | \u001b[0m 19.25   \u001b[0m | \u001b[0m 0.0     \u001b[0m | \u001b[0m 0.0     \u001b[0m | \u001b[0m 0.0     \u001b[0m | \u001b[0m 0.0     \u001b[0m |\n",
      "=============================================================================================================\n",
      "CPU times: user 1min 27s, sys: 2min 7s, total: 3min 35s\n",
      "Wall time: 10.9 s\n"
     ]
    }
   ],
   "source": [
    "%%time\n",
    "from sklearn import linear_model\n",
    "\n",
    "\n",
    "def gbm_lars(alpha,fit_intercept,normalize,fit_path,eps,copy_X, positive):\n",
    "    params_lars = {}\n",
    "    params_lars['alpha']          = alpha\n",
    "    params_lars['fit_intercept']  = fit_intercept\n",
    "    params_lars['normalize']      = normalize \n",
    "    params_lars['fit_path']       = fit_path\n",
    "    params_lars['eps']            = eps \n",
    "    params_lars['copy_X']         = copy_X \n",
    "    params_lars['positive']       = positive \n",
    "    \n",
    "    scores = cross_val_score(linear_model.LassoLars(**params_lars,max_iter=800), \n",
    "                             X_train0, y_train0.ravel(), cv=3).mean()\n",
    "    score = scores.mean()\n",
    "    return score\n",
    "    \n",
    "# Run Bayesian Optimization\n",
    "params_lars = {\n",
    "    'alpha'         : (0.010 ,10.0),\n",
    "    'fit_intercept' : (True,False) ,\n",
    "    'normalize'     : (True,False) ,\n",
    "    'fit_path'      : (True,False) ,\n",
    "    'eps'           : (0.100 ,99.0),\n",
    "    'copy_X'        : (True,False) ,\n",
    "    'positive'      : (True,False) \n",
    "}\n",
    "\n",
    "\n",
    "lars0 = BayesianOptimization(gbm_lars, params_lars)\n",
    "\n",
    "lars0.maximize(init_points=10, n_iter=30, acq='ucb')"
   ]
  },
  {
   "cell_type": "code",
   "execution_count": 38,
   "metadata": {},
   "outputs": [
    {
     "data": {
      "text/plain": [
       "{'alpha': 9.957909242789702,\n",
       " 'copy_X': 0.9492126138746485,\n",
       " 'eps': 6.053286348208411,\n",
       " 'fit_intercept': 0.43967516680987495,\n",
       " 'fit_path': 0.7420691416692062,\n",
       " 'normalize': 0.20155510634876805,\n",
       " 'positive': 0.210502974508331}"
      ]
     },
     "execution_count": 38,
     "metadata": {},
     "output_type": "execute_result"
    }
   ],
   "source": [
    "params_lars0 = lars0.max['params']\n",
    "params_lars0"
   ]
  },
  {
   "cell_type": "code",
   "execution_count": 80,
   "metadata": {},
   "outputs": [
    {
     "name": "stdout",
     "output_type": "stream",
     "text": [
      "CPU times: user 95.8 ms, sys: 55.8 ms, total: 152 ms\n",
      "Wall time: 33.4 ms\n"
     ]
    }
   ],
   "source": [
    "%%time\n",
    "from sklearn import linear_model\n",
    "lars00 = linear_model.LassoLars(max_iter=800, random_state=1, alpha= 0.014875, copy_X=False, eps=73.28342263,\n",
    "                                fit_intercept= False, fit_path=False, normalize=False, positive=False)\n",
    "lars00.fit(X_train0, y_train0.ravel())"
   ]
  },
  {
   "cell_type": "code",
   "execution_count": 81,
   "metadata": {},
   "outputs": [
    {
     "name": "stdout",
     "output_type": "stream",
     "text": [
      "R2: 0.36947836589703864\n",
      "EVS 0.37686817702026687\n",
      "MAE 0.0942629446489631\n"
     ]
    }
   ],
   "source": [
    "from sklearn.metrics import r2_score, explained_variance_score, mean_absolute_error\n",
    "print(\"R2:\", r2_score(                 y_test0 ,lars00.predict(X_test0)))\n",
    "print(\"EVS\", explained_variance_score( y_test0 ,lars00.predict(X_test0)))\n",
    "print(\"MAE\", mean_absolute_error(      y_test0 ,lars00.predict(X_test0)))"
   ]
  },
  {
   "cell_type": "code",
   "execution_count": 90,
   "metadata": {},
   "outputs": [
    {
     "data": {
      "text/plain": [
       "47"
      ]
     },
     "execution_count": 90,
     "metadata": {},
     "output_type": "execute_result"
    }
   ],
   "source": [
    "#len(lars00.coef_[0])\n",
    "len(lista)"
   ]
  },
  {
   "cell_type": "code",
   "execution_count": 93,
   "metadata": {},
   "outputs": [
    {
     "data": {
      "text/html": [
       "<div>\n",
       "<style scoped>\n",
       "    .dataframe tbody tr th:only-of-type {\n",
       "        vertical-align: middle;\n",
       "    }\n",
       "\n",
       "    .dataframe tbody tr th {\n",
       "        vertical-align: top;\n",
       "    }\n",
       "\n",
       "    .dataframe thead th {\n",
       "        text-align: right;\n",
       "    }\n",
       "</style>\n",
       "<table border=\"1\" class=\"dataframe\">\n",
       "  <thead>\n",
       "    <tr style=\"text-align: right;\">\n",
       "      <th></th>\n",
       "      <th>feature_importances</th>\n",
       "      <th>features</th>\n",
       "    </tr>\n",
       "  </thead>\n",
       "  <tbody>\n",
       "    <tr>\n",
       "      <th>0</th>\n",
       "      <td>0.000000</td>\n",
       "      <td>banco_ativo</td>\n",
       "    </tr>\n",
       "    <tr>\n",
       "      <th>24</th>\n",
       "      <td>0.000000</td>\n",
       "      <td>firma_massa_po3gr</td>\n",
       "    </tr>\n",
       "    <tr>\n",
       "      <th>25</th>\n",
       "      <td>0.000000</td>\n",
       "      <td>firma_po3gr</td>\n",
       "    </tr>\n",
       "    <tr>\n",
       "      <th>26</th>\n",
       "      <td>0.000000</td>\n",
       "      <td>firma_potot</td>\n",
       "    </tr>\n",
       "    <tr>\n",
       "      <th>27</th>\n",
       "      <td>0.000000</td>\n",
       "      <td>firma_potot_idade</td>\n",
       "    </tr>\n",
       "    <tr>\n",
       "      <th>28</th>\n",
       "      <td>0.000000</td>\n",
       "      <td>firma_potot_massa</td>\n",
       "    </tr>\n",
       "    <tr>\n",
       "      <th>29</th>\n",
       "      <td>0.000000</td>\n",
       "      <td>firma_potot_po3gr</td>\n",
       "    </tr>\n",
       "    <tr>\n",
       "      <th>30</th>\n",
       "      <td>0.000000</td>\n",
       "      <td>firma_rotat</td>\n",
       "    </tr>\n",
       "    <tr>\n",
       "      <th>31</th>\n",
       "      <td>0.000000</td>\n",
       "      <td>firma_share</td>\n",
       "    </tr>\n",
       "    <tr>\n",
       "      <th>32</th>\n",
       "      <td>0.000000</td>\n",
       "      <td>oper_amortizacao</td>\n",
       "    </tr>\n",
       "    <tr>\n",
       "      <th>33</th>\n",
       "      <td>0.000000</td>\n",
       "      <td>oper_amortizacao_carencia</td>\n",
       "    </tr>\n",
       "    <tr>\n",
       "      <th>34</th>\n",
       "      <td>0.000000</td>\n",
       "      <td>oper_carencia</td>\n",
       "    </tr>\n",
       "    <tr>\n",
       "      <th>36</th>\n",
       "      <td>0.000000</td>\n",
       "      <td>oper_juros_amortizacao</td>\n",
       "    </tr>\n",
       "    <tr>\n",
       "      <th>38</th>\n",
       "      <td>0.000000</td>\n",
       "      <td>oper_spreadbndes</td>\n",
       "    </tr>\n",
       "    <tr>\n",
       "      <th>39</th>\n",
       "      <td>0.000000</td>\n",
       "      <td>oper_spreadbndes_amortizacao</td>\n",
       "    </tr>\n",
       "    <tr>\n",
       "      <th>40</th>\n",
       "      <td>0.000000</td>\n",
       "      <td>oper_spreadbndes_carencia</td>\n",
       "    </tr>\n",
       "    <tr>\n",
       "      <th>41</th>\n",
       "      <td>0.000000</td>\n",
       "      <td>oper_spreadbndes_juros</td>\n",
       "    </tr>\n",
       "    <tr>\n",
       "      <th>42</th>\n",
       "      <td>0.000000</td>\n",
       "      <td>oper_valor</td>\n",
       "    </tr>\n",
       "    <tr>\n",
       "      <th>43</th>\n",
       "      <td>0.000000</td>\n",
       "      <td>oper_valor_amortizacao</td>\n",
       "    </tr>\n",
       "    <tr>\n",
       "      <th>44</th>\n",
       "      <td>0.000000</td>\n",
       "      <td>oper_valor_carencia</td>\n",
       "    </tr>\n",
       "    <tr>\n",
       "      <th>45</th>\n",
       "      <td>0.000000</td>\n",
       "      <td>oper_valor_juros</td>\n",
       "    </tr>\n",
       "    <tr>\n",
       "      <th>22</th>\n",
       "      <td>0.000000</td>\n",
       "      <td>firma_idade_po3gr</td>\n",
       "    </tr>\n",
       "    <tr>\n",
       "      <th>23</th>\n",
       "      <td>0.000000</td>\n",
       "      <td>firma_massa</td>\n",
       "    </tr>\n",
       "    <tr>\n",
       "      <th>20</th>\n",
       "      <td>0.000000</td>\n",
       "      <td>firma_idade_engen</td>\n",
       "    </tr>\n",
       "    <tr>\n",
       "      <th>1</th>\n",
       "      <td>0.000000</td>\n",
       "      <td>banco_ativo_captacoes</td>\n",
       "    </tr>\n",
       "    <tr>\n",
       "      <th>2</th>\n",
       "      <td>0.000000</td>\n",
       "      <td>banco_ativo_carteira</td>\n",
       "    </tr>\n",
       "    <tr>\n",
       "      <th>3</th>\n",
       "      <td>0.000000</td>\n",
       "      <td>banco_ativo_passivo</td>\n",
       "    </tr>\n",
       "    <tr>\n",
       "      <th>4</th>\n",
       "      <td>0.000000</td>\n",
       "      <td>banco_ativo_patrimonio</td>\n",
       "    </tr>\n",
       "    <tr>\n",
       "      <th>6</th>\n",
       "      <td>0.000000</td>\n",
       "      <td>banco_b2</td>\n",
       "    </tr>\n",
       "    <tr>\n",
       "      <th>7</th>\n",
       "      <td>0.000000</td>\n",
       "      <td>banco_b3</td>\n",
       "    </tr>\n",
       "    <tr>\n",
       "      <th>8</th>\n",
       "      <td>0.000000</td>\n",
       "      <td>banco_captacoes</td>\n",
       "    </tr>\n",
       "    <tr>\n",
       "      <th>21</th>\n",
       "      <td>0.000000</td>\n",
       "      <td>firma_idade_massa</td>\n",
       "    </tr>\n",
       "    <tr>\n",
       "      <th>10</th>\n",
       "      <td>0.000000</td>\n",
       "      <td>banco_carteira_passivo</td>\n",
       "    </tr>\n",
       "    <tr>\n",
       "      <th>46</th>\n",
       "      <td>0.000000</td>\n",
       "      <td>oper_valor_spreadbndes</td>\n",
       "    </tr>\n",
       "    <tr>\n",
       "      <th>15</th>\n",
       "      <td>0.000000</td>\n",
       "      <td>banco_passivo</td>\n",
       "    </tr>\n",
       "    <tr>\n",
       "      <th>16</th>\n",
       "      <td>0.000000</td>\n",
       "      <td>banco_patrimonio</td>\n",
       "    </tr>\n",
       "    <tr>\n",
       "      <th>17</th>\n",
       "      <td>0.000000</td>\n",
       "      <td>firma_enc</td>\n",
       "    </tr>\n",
       "    <tr>\n",
       "      <th>18</th>\n",
       "      <td>0.000000</td>\n",
       "      <td>firma_engen</td>\n",
       "    </tr>\n",
       "    <tr>\n",
       "      <th>19</th>\n",
       "      <td>0.000000</td>\n",
       "      <td>firma_idade</td>\n",
       "    </tr>\n",
       "    <tr>\n",
       "      <th>13</th>\n",
       "      <td>0.004183</td>\n",
       "      <td>banco_numagencias</td>\n",
       "    </tr>\n",
       "    <tr>\n",
       "      <th>12</th>\n",
       "      <td>0.007210</td>\n",
       "      <td>banco_lucroliquido</td>\n",
       "    </tr>\n",
       "    <tr>\n",
       "      <th>5</th>\n",
       "      <td>0.007294</td>\n",
       "      <td>banco_b1</td>\n",
       "    </tr>\n",
       "    <tr>\n",
       "      <th>14</th>\n",
       "      <td>0.010268</td>\n",
       "      <td>banco_numeropostos</td>\n",
       "    </tr>\n",
       "    <tr>\n",
       "      <th>11</th>\n",
       "      <td>0.020040</td>\n",
       "      <td>banco_enc</td>\n",
       "    </tr>\n",
       "    <tr>\n",
       "      <th>37</th>\n",
       "      <td>0.020506</td>\n",
       "      <td>oper_juros_carencia</td>\n",
       "    </tr>\n",
       "    <tr>\n",
       "      <th>35</th>\n",
       "      <td>0.069062</td>\n",
       "      <td>oper_juros</td>\n",
       "    </tr>\n",
       "    <tr>\n",
       "      <th>9</th>\n",
       "      <td>0.249765</td>\n",
       "      <td>banco_carteira</td>\n",
       "    </tr>\n",
       "  </tbody>\n",
       "</table>\n",
       "</div>"
      ],
      "text/plain": [
       "    feature_importances                      features\n",
       "0              0.000000                   banco_ativo\n",
       "24             0.000000             firma_massa_po3gr\n",
       "25             0.000000                   firma_po3gr\n",
       "26             0.000000                   firma_potot\n",
       "27             0.000000             firma_potot_idade\n",
       "28             0.000000             firma_potot_massa\n",
       "29             0.000000             firma_potot_po3gr\n",
       "30             0.000000                   firma_rotat\n",
       "31             0.000000                   firma_share\n",
       "32             0.000000              oper_amortizacao\n",
       "33             0.000000     oper_amortizacao_carencia\n",
       "34             0.000000                 oper_carencia\n",
       "36             0.000000        oper_juros_amortizacao\n",
       "38             0.000000              oper_spreadbndes\n",
       "39             0.000000  oper_spreadbndes_amortizacao\n",
       "40             0.000000     oper_spreadbndes_carencia\n",
       "41             0.000000        oper_spreadbndes_juros\n",
       "42             0.000000                    oper_valor\n",
       "43             0.000000        oper_valor_amortizacao\n",
       "44             0.000000           oper_valor_carencia\n",
       "45             0.000000              oper_valor_juros\n",
       "22             0.000000             firma_idade_po3gr\n",
       "23             0.000000                   firma_massa\n",
       "20             0.000000             firma_idade_engen\n",
       "1              0.000000         banco_ativo_captacoes\n",
       "2              0.000000          banco_ativo_carteira\n",
       "3              0.000000           banco_ativo_passivo\n",
       "4              0.000000        banco_ativo_patrimonio\n",
       "6              0.000000                      banco_b2\n",
       "7              0.000000                      banco_b3\n",
       "8              0.000000               banco_captacoes\n",
       "21             0.000000             firma_idade_massa\n",
       "10             0.000000        banco_carteira_passivo\n",
       "46             0.000000        oper_valor_spreadbndes\n",
       "15             0.000000                 banco_passivo\n",
       "16             0.000000              banco_patrimonio\n",
       "17             0.000000                     firma_enc\n",
       "18             0.000000                   firma_engen\n",
       "19             0.000000                   firma_idade\n",
       "13             0.004183             banco_numagencias\n",
       "12             0.007210            banco_lucroliquido\n",
       "5              0.007294                      banco_b1\n",
       "14             0.010268            banco_numeropostos\n",
       "11             0.020040                     banco_enc\n",
       "37             0.020506           oper_juros_carencia\n",
       "35             0.069062                    oper_juros\n",
       "9              0.249765                banco_carteira"
      ]
     },
     "execution_count": 93,
     "metadata": {},
     "output_type": "execute_result"
    }
   ],
   "source": [
    "dataframe=pd.DataFrame(lars00.coef_[0], columns=['feature_importances']) \n",
    "dataframe['features'] = lista\n",
    "dataframe.sort_values('feature_importances')"
   ]
  },
  {
   "cell_type": "code",
   "execution_count": null,
   "metadata": {},
   "outputs": [],
   "source": [
    "space = dict()\n",
    "space['hidden_layer_sizes']  = [(100,50), (200,25), (25,100,25), (50,50,50), (75,50,75), (80,60,80)]\n",
    "space['activation']          = ['identity','logistic','tanh','relu']\n",
    "space['solver']              = ['lbfgs', 'sgd', 'adam']\n",
    "\n",
    "space['learning_rate']       = ['constant','invscaling','adaptive']\n",
    "space['learning_rate_init']  = [row/1000 for row in range(1,20,8)]\n",
    "\n",
    "space['tol']                 = [row/50000000 for row in range(1,1000,200)]\n",
    "\n",
    "space['nesterovs_momentum']  = [False,True]\n",
    "space['early_stopping']      = [False,True]\n",
    "space['warm_start']          = [False,True]"
   ]
  },
  {
   "cell_type": "markdown",
   "metadata": {},
   "source": [
    "<a name=\"mlp0\"></a>\n",
    "\n",
    "## 2.9) Multilayer Perceptron\n",
    "\n",
    "- ir para [Menu Principal](#navegacao)\n",
    "- ir para [Train/Test partition](#partition)\n",
    "- ir para [Baysian Optimization](#bayesian)\n",
    "- ir para [Halving Random Serach](#halving)"
   ]
  },
  {
   "cell_type": "code",
   "execution_count": 89,
   "metadata": {},
   "outputs": [
    {
     "name": "stdout",
     "output_type": "stream",
     "text": [
      "|   iter    |  target   |   alpha   |  beta_1   |  beta_2   |  epsilon  | momentum  |  power_t  |    tol    |\n",
      "-------------------------------------------------------------------------------------------------------------\n",
      "| \u001b[0m 1       \u001b[0m | \u001b[0m 0.9747  \u001b[0m | \u001b[0m 0.7339  \u001b[0m | \u001b[0m 0.6946  \u001b[0m | \u001b[0m 0.5838  \u001b[0m | \u001b[0m 0.7037  \u001b[0m | \u001b[0m 0.9614  \u001b[0m | \u001b[0m 6.844   \u001b[0m | \u001b[0m 2.903e-0\u001b[0m |\n",
      "| \u001b[0m 2       \u001b[0m | \u001b[0m 0.8965  \u001b[0m | \u001b[0m 0.09487 \u001b[0m | \u001b[0m 0.3719  \u001b[0m | \u001b[0m 0.9375  \u001b[0m | \u001b[0m 0.6686  \u001b[0m | \u001b[0m 0.8558  \u001b[0m | \u001b[0m 5.055   \u001b[0m | \u001b[0m 1.976e-0\u001b[0m |\n",
      "| \u001b[0m 3       \u001b[0m | \u001b[0m 0.9701  \u001b[0m | \u001b[0m 0.8036  \u001b[0m | \u001b[0m 0.971   \u001b[0m | \u001b[0m 0.05772 \u001b[0m | \u001b[0m 0.3774  \u001b[0m | \u001b[0m 0.5397  \u001b[0m | \u001b[0m 8.967   \u001b[0m | \u001b[0m 1.533e-0\u001b[0m |\n",
      "| \u001b[95m 4       \u001b[0m | \u001b[95m 0.9815  \u001b[0m | \u001b[95m 0.09038 \u001b[0m | \u001b[95m 0.9287  \u001b[0m | \u001b[95m 0.8397  \u001b[0m | \u001b[95m 0.1864  \u001b[0m | \u001b[95m 0.9622  \u001b[0m | \u001b[95m 2.024   \u001b[0m | \u001b[95m 9.153e-0\u001b[0m |\n",
      "| \u001b[0m 5       \u001b[0m | \u001b[0m 0.9729  \u001b[0m | \u001b[0m 0.6376  \u001b[0m | \u001b[0m 0.7507  \u001b[0m | \u001b[0m 0.4202  \u001b[0m | \u001b[0m 0.9246  \u001b[0m | \u001b[0m 0.5264  \u001b[0m | \u001b[0m 1.473   \u001b[0m | \u001b[0m 1.114e-0\u001b[0m |\n",
      "| \u001b[95m 6       \u001b[0m | \u001b[95m 0.9863  \u001b[0m | \u001b[95m 0.1605  \u001b[0m | \u001b[95m 0.2694  \u001b[0m | \u001b[95m 0.5937  \u001b[0m | \u001b[95m 0.3598  \u001b[0m | \u001b[95m 0.387   \u001b[0m | \u001b[95m 3.843   \u001b[0m | \u001b[95m 7.571e-0\u001b[0m |\n",
      "| \u001b[0m 7       \u001b[0m | \u001b[0m 0.98    \u001b[0m | \u001b[0m 0.6001  \u001b[0m | \u001b[0m 0.871   \u001b[0m | \u001b[0m 0.906   \u001b[0m | \u001b[0m 0.478   \u001b[0m | \u001b[0m 0.2696  \u001b[0m | \u001b[0m 6.017   \u001b[0m | \u001b[0m 1.287e-0\u001b[0m |\n",
      "| \u001b[0m 8       \u001b[0m | \u001b[0m 0.9702  \u001b[0m | \u001b[0m 0.8378  \u001b[0m | \u001b[0m 0.2042  \u001b[0m | \u001b[0m 0.5546  \u001b[0m | \u001b[0m 0.04867 \u001b[0m | \u001b[0m 0.7772  \u001b[0m | \u001b[0m 2.344   \u001b[0m | \u001b[0m 1.053e-0\u001b[0m |\n",
      "| \u001b[0m 9       \u001b[0m | \u001b[0m 0.9699  \u001b[0m | \u001b[0m 0.7092  \u001b[0m | \u001b[0m 0.1085  \u001b[0m | \u001b[0m 0.4631  \u001b[0m | \u001b[0m 0.9649  \u001b[0m | \u001b[0m 0.343   \u001b[0m | \u001b[0m 5.012   \u001b[0m | \u001b[0m 1.449e-0\u001b[0m |\n",
      "| \u001b[0m 10      \u001b[0m | \u001b[0m 0.9752  \u001b[0m | \u001b[0m 0.7071  \u001b[0m | \u001b[0m 0.1992  \u001b[0m | \u001b[0m 0.6641  \u001b[0m | \u001b[0m 0.2363  \u001b[0m | \u001b[0m 0.4457  \u001b[0m | \u001b[0m 2.164   \u001b[0m | \u001b[0m 1.003e-0\u001b[0m |\n",
      "| \u001b[0m 11      \u001b[0m | \u001b[0m 0.878   \u001b[0m | \u001b[0m 0.0001  \u001b[0m | \u001b[0m 0.0001  \u001b[0m | \u001b[0m 0.0001  \u001b[0m | \u001b[0m 0.0001  \u001b[0m | \u001b[0m 0.0001  \u001b[0m | \u001b[0m 0.0001  \u001b[0m | \u001b[0m 1.028e-0\u001b[0m |\n",
      "| \u001b[0m 12      \u001b[0m | \u001b[0m 0.8558  \u001b[0m | \u001b[0m 0.0001  \u001b[0m | \u001b[0m 0.0001  \u001b[0m | \u001b[0m 0.0001  \u001b[0m | \u001b[0m 0.0001  \u001b[0m | \u001b[0m 0.0001  \u001b[0m | \u001b[0m 0.0001  \u001b[0m | \u001b[0m 1.758e-0\u001b[0m |\n",
      "| \u001b[0m 13      \u001b[0m | \u001b[0m 0.8327  \u001b[0m | \u001b[0m 0.0001  \u001b[0m | \u001b[0m 0.0001  \u001b[0m | \u001b[0m 0.0001  \u001b[0m | \u001b[0m 0.0001  \u001b[0m | \u001b[0m 0.0001  \u001b[0m | \u001b[0m 0.0001  \u001b[0m | \u001b[0m 1.341e-0\u001b[0m |\n",
      "| \u001b[0m 14      \u001b[0m | \u001b[0m 0.9781  \u001b[0m | \u001b[0m 0.0001  \u001b[0m | \u001b[0m 0.0001  \u001b[0m | \u001b[0m 0.0001  \u001b[0m | \u001b[0m 0.0001  \u001b[0m | \u001b[0m 0.0001  \u001b[0m | \u001b[0m 0.0001  \u001b[0m | \u001b[0m 5.516e-0\u001b[0m |\n",
      "| \u001b[0m 15      \u001b[0m | \u001b[0m 0.9351  \u001b[0m | \u001b[0m 0.0001  \u001b[0m | \u001b[0m 0.0001  \u001b[0m | \u001b[0m 0.0001  \u001b[0m | \u001b[0m 0.0001  \u001b[0m | \u001b[0m 0.0001  \u001b[0m | \u001b[0m 0.0001  \u001b[0m | \u001b[0m 3.792e-0\u001b[0m |\n",
      "| \u001b[0m 16      \u001b[0m | \u001b[0m 0.9078  \u001b[0m | \u001b[0m 0.0001  \u001b[0m | \u001b[0m 0.0001  \u001b[0m | \u001b[0m 0.0001  \u001b[0m | \u001b[0m 0.0001  \u001b[0m | \u001b[0m 0.0001  \u001b[0m | \u001b[0m 0.0001  \u001b[0m | \u001b[0m 1.201e-0\u001b[0m |\n",
      "| \u001b[0m 17      \u001b[0m | \u001b[0m 0.9394  \u001b[0m | \u001b[0m 0.0001  \u001b[0m | \u001b[0m 0.0001  \u001b[0m | \u001b[0m 0.0001  \u001b[0m | \u001b[0m 0.0001  \u001b[0m | \u001b[0m 0.0001  \u001b[0m | \u001b[0m 0.0001  \u001b[0m | \u001b[0m 3.474e-0\u001b[0m |\n",
      "| \u001b[0m 18      \u001b[0m | \u001b[0m 0.9221  \u001b[0m | \u001b[0m 0.0001  \u001b[0m | \u001b[0m 0.0001  \u001b[0m | \u001b[0m 0.0001  \u001b[0m | \u001b[0m 0.0001  \u001b[0m | \u001b[0m 0.0001  \u001b[0m | \u001b[0m 0.0001  \u001b[0m | \u001b[0m 5.462e-0\u001b[0m |\n",
      "| \u001b[0m 19      \u001b[0m | \u001b[0m 0.8636  \u001b[0m | \u001b[0m 0.0001  \u001b[0m | \u001b[0m 0.0001  \u001b[0m | \u001b[0m 0.0001  \u001b[0m | \u001b[0m 0.0001  \u001b[0m | \u001b[0m 0.0001  \u001b[0m | \u001b[0m 0.0001  \u001b[0m | \u001b[0m 9.317e-0\u001b[0m |\n",
      "| \u001b[0m 20      \u001b[0m | \u001b[0m 0.8768  \u001b[0m | \u001b[0m 0.0001  \u001b[0m | \u001b[0m 0.0001  \u001b[0m | \u001b[0m 0.0001  \u001b[0m | \u001b[0m 0.0001  \u001b[0m | \u001b[0m 0.0001  \u001b[0m | \u001b[0m 0.0001  \u001b[0m | \u001b[0m 1.016e-0\u001b[0m |\n",
      "| \u001b[0m 21      \u001b[0m | \u001b[0m 0.8378  \u001b[0m | \u001b[0m 0.0001  \u001b[0m | \u001b[0m 0.0001  \u001b[0m | \u001b[0m 0.0001  \u001b[0m | \u001b[0m 0.0001  \u001b[0m | \u001b[0m 0.0001  \u001b[0m | \u001b[0m 0.0001  \u001b[0m | \u001b[0m 1.801e-0\u001b[0m |\n",
      "| \u001b[0m 22      \u001b[0m | \u001b[0m 0.8535  \u001b[0m | \u001b[0m 0.0001  \u001b[0m | \u001b[0m 0.0001  \u001b[0m | \u001b[0m 0.0001  \u001b[0m | \u001b[0m 0.0001  \u001b[0m | \u001b[0m 0.0001  \u001b[0m | \u001b[0m 0.0001  \u001b[0m | \u001b[0m 1.441e-0\u001b[0m |\n",
      "| \u001b[0m 23      \u001b[0m | \u001b[0m 0.9583  \u001b[0m | \u001b[0m 0.0001  \u001b[0m | \u001b[0m 0.0001  \u001b[0m | \u001b[0m 0.0001  \u001b[0m | \u001b[0m 0.0001  \u001b[0m | \u001b[0m 0.0001  \u001b[0m | \u001b[0m 0.0001  \u001b[0m | \u001b[0m 2.821e-0\u001b[0m |\n",
      "| \u001b[0m 24      \u001b[0m | \u001b[0m 0.8625  \u001b[0m | \u001b[0m 0.0001  \u001b[0m | \u001b[0m 0.0001  \u001b[0m | \u001b[0m 0.0001  \u001b[0m | \u001b[0m 0.0001  \u001b[0m | \u001b[0m 0.0001  \u001b[0m | \u001b[0m 0.0001  \u001b[0m | \u001b[0m 1.048e-0\u001b[0m |\n",
      "| \u001b[0m 25      \u001b[0m | \u001b[0m 0.8375  \u001b[0m | \u001b[0m 0.0001  \u001b[0m | \u001b[0m 0.0001  \u001b[0m | \u001b[0m 0.0001  \u001b[0m | \u001b[0m 0.0001  \u001b[0m | \u001b[0m 0.0001  \u001b[0m | \u001b[0m 0.0001  \u001b[0m | \u001b[0m 1.599e-0\u001b[0m |\n",
      "| \u001b[0m 26      \u001b[0m | \u001b[0m 0.8507  \u001b[0m | \u001b[0m 0.0001  \u001b[0m | \u001b[0m 0.0001  \u001b[0m | \u001b[0m 0.0001  \u001b[0m | \u001b[0m 0.0001  \u001b[0m | \u001b[0m 0.0001  \u001b[0m | \u001b[0m 0.0001  \u001b[0m | \u001b[0m 1.621e-0\u001b[0m |\n",
      "| \u001b[0m 27      \u001b[0m | \u001b[0m 0.8941  \u001b[0m | \u001b[0m 0.0001  \u001b[0m | \u001b[0m 0.0001  \u001b[0m | \u001b[0m 0.0001  \u001b[0m | \u001b[0m 0.0001  \u001b[0m | \u001b[0m 0.0001  \u001b[0m | \u001b[0m 0.0001  \u001b[0m | \u001b[0m 1.461e-0\u001b[0m |\n",
      "| \u001b[0m 28      \u001b[0m | \u001b[0m 0.8523  \u001b[0m | \u001b[0m 0.0001  \u001b[0m | \u001b[0m 0.0001  \u001b[0m | \u001b[0m 0.0001  \u001b[0m | \u001b[0m 0.0001  \u001b[0m | \u001b[0m 0.0001  \u001b[0m | \u001b[0m 0.0001  \u001b[0m | \u001b[0m 1.295e-0\u001b[0m |\n",
      "| \u001b[0m 29      \u001b[0m | \u001b[0m 0.9425  \u001b[0m | \u001b[0m 0.0001  \u001b[0m | \u001b[0m 0.0001  \u001b[0m | \u001b[0m 0.0001  \u001b[0m | \u001b[0m 0.0001  \u001b[0m | \u001b[0m 0.0001  \u001b[0m | \u001b[0m 0.0001  \u001b[0m | \u001b[0m 5.011e-0\u001b[0m |\n",
      "| \u001b[0m 30      \u001b[0m | \u001b[0m 0.9773  \u001b[0m | \u001b[0m 0.0001  \u001b[0m | \u001b[0m 0.0001  \u001b[0m | \u001b[0m 0.0001  \u001b[0m | \u001b[0m 0.0001  \u001b[0m | \u001b[0m 0.0001  \u001b[0m | \u001b[0m 0.0001  \u001b[0m | \u001b[0m 9.028e-0\u001b[0m |\n",
      "| \u001b[0m 31      \u001b[0m | \u001b[0m 0.9377  \u001b[0m | \u001b[0m 0.0001  \u001b[0m | \u001b[0m 0.0001  \u001b[0m | \u001b[0m 0.0001  \u001b[0m | \u001b[0m 0.0001  \u001b[0m | \u001b[0m 0.0001  \u001b[0m | \u001b[0m 0.0001  \u001b[0m | \u001b[0m 4.088e-0\u001b[0m |\n",
      "| \u001b[0m 32      \u001b[0m | \u001b[0m 0.9623  \u001b[0m | \u001b[0m 0.0001  \u001b[0m | \u001b[0m 0.0001  \u001b[0m | \u001b[0m 0.0001  \u001b[0m | \u001b[0m 0.0001  \u001b[0m | \u001b[0m 0.0001  \u001b[0m | \u001b[0m 0.0001  \u001b[0m | \u001b[0m 1.502e-0\u001b[0m |\n",
      "| \u001b[0m 33      \u001b[0m | \u001b[0m 0.8167  \u001b[0m | \u001b[0m 0.0001  \u001b[0m | \u001b[0m 0.0001  \u001b[0m | \u001b[0m 0.0001  \u001b[0m | \u001b[0m 0.0001  \u001b[0m | \u001b[0m 0.0001  \u001b[0m | \u001b[0m 0.0001  \u001b[0m | \u001b[0m 1.996e-0\u001b[0m |\n",
      "| \u001b[0m 34      \u001b[0m | \u001b[0m 0.8848  \u001b[0m | \u001b[0m 0.0001  \u001b[0m | \u001b[0m 0.0001  \u001b[0m | \u001b[0m 0.0001  \u001b[0m | \u001b[0m 0.0001  \u001b[0m | \u001b[0m 0.0001  \u001b[0m | \u001b[0m 0.0001  \u001b[0m | \u001b[0m 1.481e-0\u001b[0m |\n",
      "| \u001b[0m 35      \u001b[0m | \u001b[0m 0.8988  \u001b[0m | \u001b[0m 0.0001  \u001b[0m | \u001b[0m 0.0001  \u001b[0m | \u001b[0m 0.0001  \u001b[0m | \u001b[0m 0.0001  \u001b[0m | \u001b[0m 0.0001  \u001b[0m | \u001b[0m 0.0001  \u001b[0m | \u001b[0m 9.123e-0\u001b[0m |\n",
      "| \u001b[0m 36      \u001b[0m | \u001b[0m 0.8572  \u001b[0m | \u001b[0m 0.0001  \u001b[0m | \u001b[0m 0.0001  \u001b[0m | \u001b[0m 0.0001  \u001b[0m | \u001b[0m 0.0001  \u001b[0m | \u001b[0m 0.0001  \u001b[0m | \u001b[0m 0.0001  \u001b[0m | \u001b[0m 1.048e-0\u001b[0m |\n",
      "| \u001b[0m 37      \u001b[0m | \u001b[0m 0.957   \u001b[0m | \u001b[0m 0.0001  \u001b[0m | \u001b[0m 0.0001  \u001b[0m | \u001b[0m 0.0001  \u001b[0m | \u001b[0m 0.0001  \u001b[0m | \u001b[0m 0.0001  \u001b[0m | \u001b[0m 0.0001  \u001b[0m | \u001b[0m 4.141e-0\u001b[0m |\n",
      "| \u001b[0m 38      \u001b[0m | \u001b[0m 0.8217  \u001b[0m | \u001b[0m 0.0001  \u001b[0m | \u001b[0m 0.0001  \u001b[0m | \u001b[0m 0.0001  \u001b[0m | \u001b[0m 0.0001  \u001b[0m | \u001b[0m 0.0001  \u001b[0m | \u001b[0m 0.0001  \u001b[0m | \u001b[0m 1.321e-0\u001b[0m |\n",
      "| \u001b[0m 39      \u001b[0m | \u001b[0m 0.8554  \u001b[0m | \u001b[0m 0.0001  \u001b[0m | \u001b[0m 0.0001  \u001b[0m | \u001b[0m 0.0001  \u001b[0m | \u001b[0m 0.0001  \u001b[0m | \u001b[0m 0.0001  \u001b[0m | \u001b[0m 0.0001  \u001b[0m | \u001b[0m 1.495e-0\u001b[0m |\n",
      "| \u001b[0m 40      \u001b[0m | \u001b[0m 0.8615  \u001b[0m | \u001b[0m 0.0001  \u001b[0m | \u001b[0m 0.0001  \u001b[0m | \u001b[0m 0.0001  \u001b[0m | \u001b[0m 0.0001  \u001b[0m | \u001b[0m 0.0001  \u001b[0m | \u001b[0m 0.0001  \u001b[0m | \u001b[0m 1.241e-0\u001b[0m |\n",
      "=============================================================================================================\n",
      "CPU times: user 1d 12h 53min 43s, sys: 1d 21h 44min 58s, total: 3d 10h 38min 41s\n",
      "Wall time: 4h 8min 2s\n"
     ]
    }
   ],
   "source": [
    "%%time\n",
    "from sklearn.neural_network import MLPRegressor\n",
    "\n",
    "def gbm_mlp(alpha,power_t,momentum,beta_1,beta_2,epsilon,tol):\n",
    "    params_lars = {}\n",
    "    params_lars['alpha']             = alpha\n",
    "    params_lars['power_t']           = power_t \n",
    "    params_lars['momentum']          = momentum \n",
    "    params_lars['beta_1']            = beta_1 \n",
    "    params_lars['beta_2']            = beta_2 \n",
    "    params_lars['epsilon']           = epsilon \n",
    "    params_lars['tol']               = tol \n",
    "    \n",
    "    scores = cross_val_score(MLPRegressor(**params_lars,max_iter=800), X_train0, y_train0.ravel(), cv=3).mean()\n",
    "    score = scores.mean()\n",
    "    return score\n",
    "\n",
    "# Run Bayesian Optimization\n",
    "params_mlp = {\n",
    "    'tol'                 : (2e-08,2e-05),\n",
    "    'power_t'             : (9.999,0.0001),\n",
    "    'momentum'            : (0.999,0.0001),\n",
    "    'alpha'               : (0.999,0.0001),\n",
    "    'beta_1'              : (0.999,0.0001),\n",
    "    'beta_2'              : (0.999,0.0001),\n",
    "    'epsilon'             : (0.999,0.0001)\n",
    "}\n",
    "\n",
    "\n",
    "mlp0 = BayesianOptimization(gbm_mlp, params_mlp)\n",
    "\n",
    "mlp0.maximize(init_points=10, n_iter=30, acq='ucb')"
   ]
  },
  {
   "cell_type": "code",
   "execution_count": null,
   "metadata": {},
   "outputs": [],
   "source": [
    "params_mlp0 = mlp0.max['params']\n",
    "params_mlp0"
   ]
  },
  {
   "cell_type": "code",
   "execution_count": null,
   "metadata": {},
   "outputs": [],
   "source": [
    "%%time\n",
    "lars00 = MLPRegressor(**params_lars,max_iter=800)\n",
    "(max_iter=800, random_state=1, alpha= 0.014875, copy_X=False, eps=73.28342263,\n",
    "                                fit_intercept= False, fit_path=False, normalize=False, positive=False)\n",
    "lars00.fit(X_train0, y_train0.ravel())"
   ]
  },
  {
   "cell_type": "code",
   "execution_count": null,
   "metadata": {},
   "outputs": [],
   "source": [
    "from sklearn.metrics import r2_score, explained_variance_score, mean_absolute_error\n",
    "print(\"R2:\", r2_score(                 y_test0 ,mlp0.predict(X_test0)))\n",
    "print(\"EVS\", explained_variance_score( y_test0 ,mlp0.predict(X_test0)))\n",
    "print(\"MAE\", mean_absolute_error(      y_test0 ,mlp0.predict(X_test0)))"
   ]
  },
  {
   "cell_type": "markdown",
   "metadata": {},
   "source": [
    "<a name=\"feature0\"></a>\n",
    "\n",
    "## 2.10) Feature Importances\n",
    "\n",
    "- ir para [Menu Principal](#navegacao)\n",
    "- ir para [Train/Test partition](#partition)\n",
    "- ir para [Baysian Optimization](#bayesian)\n",
    "- ir para [Halving Random Serach](#halving)"
   ]
  },
  {
   "cell_type": "code",
   "execution_count": null,
   "metadata": {},
   "outputs": [],
   "source": [
    "dataframe=pd.DataFrame(model.feature_importances_, columns=['feature_importances']) "
   ]
  },
  {
   "cell_type": "code",
   "execution_count": null,
   "metadata": {},
   "outputs": [],
   "source": [
    "dataframe=pd.DataFrame(model.feature_importances_, columns=['feature_importances']) \n",
    "dataframe['features'] = lista\n",
    "dataframe.sort_values('feature_importances')"
   ]
  },
  {
   "cell_type": "markdown",
   "metadata": {},
   "source": [
    "<a name=\"randomsearch\"></a>\n",
    "\n",
    "# 3) Random Search for Hyperparameters\n",
    "\n",
    "- 3.1 [Extreme Learning Machine](#elm1)\n",
    "- 3.2 [Suport Vector Machine](#svm1)\n",
    "- 3.3 [Stochastic Gradient Descent](#sgd1)\n",
    "- 3.4 [Multi-Task Elastic-Net](#elastic1)\n",
    "- 3.5 [Least Angle Regression Model (LAR)](#LAR1)\n",
    "- 3.6 [Ridge Regression](#ridge1)\n",
    "- 3.7 [ElasticNet Regression](#ElasNet1)\n",
    "- 3.8 [Bayesian Ridge](#bayesian1)\n",
    "- 3.9 [Lasso Regression](#lasso1)\n",
    "- 3.10 [Multilayer Perceptron Regression](#mlp1)\n",
    "- 3.11 [Nearest Neighbors Regression](#nnr1)\n",
    "- 3.12 [Resumo dos resultados](#resumo_rs1)"
   ]
  },
  {
   "cell_type": "markdown",
   "metadata": {},
   "source": [
    "<a name=\"svm1\"></a>\n",
    "\n",
    "## 3.1) Suport Vector Machine\n",
    "\n",
    "- ir para [Menu Principal](#navegacao)\n",
    "- ir para [Train/Test partition](#partition)\n",
    "- ir para [Baysian Optimization](#bayesian)\n",
    "- ir para [Random Search](#randomsearch)\n",
    "- ir para [Halving Random Serach](#halving)\n"
   ]
  },
  {
   "cell_type": "code",
   "execution_count": 42,
   "metadata": {},
   "outputs": [
    {
     "ename": "KeyboardInterrupt",
     "evalue": "",
     "output_type": "error",
     "traceback": [
      "\u001b[0;31m\u001b[0m",
      "\u001b[0;31mKeyboardInterrupt\u001b[0mTraceback (most recent call last)",
      "\u001b[0;32m~/.local/lib/python3.6/site-packages/joblib/parallel.py\u001b[0m in \u001b[0;36mretrieve\u001b[0;34m(self)\u001b[0m\n\u001b[1;32m    932\u001b[0m                 \u001b[0;32mif\u001b[0m \u001b[0mgetattr\u001b[0m\u001b[0;34m(\u001b[0m\u001b[0mself\u001b[0m\u001b[0;34m.\u001b[0m\u001b[0m_backend\u001b[0m\u001b[0;34m,\u001b[0m \u001b[0;34m'supports_timeout'\u001b[0m\u001b[0;34m,\u001b[0m \u001b[0;32mFalse\u001b[0m\u001b[0;34m)\u001b[0m\u001b[0;34m:\u001b[0m\u001b[0;34m\u001b[0m\u001b[0;34m\u001b[0m\u001b[0m\n\u001b[0;32m--> 933\u001b[0;31m                     \u001b[0mself\u001b[0m\u001b[0;34m.\u001b[0m\u001b[0m_output\u001b[0m\u001b[0;34m.\u001b[0m\u001b[0mextend\u001b[0m\u001b[0;34m(\u001b[0m\u001b[0mjob\u001b[0m\u001b[0;34m.\u001b[0m\u001b[0mget\u001b[0m\u001b[0;34m(\u001b[0m\u001b[0mtimeout\u001b[0m\u001b[0;34m=\u001b[0m\u001b[0mself\u001b[0m\u001b[0;34m.\u001b[0m\u001b[0mtimeout\u001b[0m\u001b[0;34m)\u001b[0m\u001b[0;34m)\u001b[0m\u001b[0;34m\u001b[0m\u001b[0;34m\u001b[0m\u001b[0m\n\u001b[0m\u001b[1;32m    934\u001b[0m                 \u001b[0;32melse\u001b[0m\u001b[0;34m:\u001b[0m\u001b[0;34m\u001b[0m\u001b[0;34m\u001b[0m\u001b[0m\n",
      "\u001b[0;32m~/.local/lib/python3.6/site-packages/joblib/_parallel_backends.py\u001b[0m in \u001b[0;36mwrap_future_result\u001b[0;34m(future, timeout)\u001b[0m\n\u001b[1;32m    541\u001b[0m         \u001b[0;32mtry\u001b[0m\u001b[0;34m:\u001b[0m\u001b[0;34m\u001b[0m\u001b[0;34m\u001b[0m\u001b[0m\n\u001b[0;32m--> 542\u001b[0;31m             \u001b[0;32mreturn\u001b[0m \u001b[0mfuture\u001b[0m\u001b[0;34m.\u001b[0m\u001b[0mresult\u001b[0m\u001b[0;34m(\u001b[0m\u001b[0mtimeout\u001b[0m\u001b[0;34m=\u001b[0m\u001b[0mtimeout\u001b[0m\u001b[0;34m)\u001b[0m\u001b[0;34m\u001b[0m\u001b[0;34m\u001b[0m\u001b[0m\n\u001b[0m\u001b[1;32m    543\u001b[0m         \u001b[0;32mexcept\u001b[0m \u001b[0mCfTimeoutError\u001b[0m \u001b[0;32mas\u001b[0m \u001b[0me\u001b[0m\u001b[0;34m:\u001b[0m\u001b[0;34m\u001b[0m\u001b[0;34m\u001b[0m\u001b[0m\n",
      "\u001b[0;32m/opt/conda/lib/python3.6/concurrent/futures/_base.py\u001b[0m in \u001b[0;36mresult\u001b[0;34m(self, timeout)\u001b[0m\n\u001b[1;32m    426\u001b[0m \u001b[0;34m\u001b[0m\u001b[0m\n\u001b[0;32m--> 427\u001b[0;31m             \u001b[0mself\u001b[0m\u001b[0;34m.\u001b[0m\u001b[0m_condition\u001b[0m\u001b[0;34m.\u001b[0m\u001b[0mwait\u001b[0m\u001b[0;34m(\u001b[0m\u001b[0mtimeout\u001b[0m\u001b[0;34m)\u001b[0m\u001b[0;34m\u001b[0m\u001b[0;34m\u001b[0m\u001b[0m\n\u001b[0m\u001b[1;32m    428\u001b[0m \u001b[0;34m\u001b[0m\u001b[0m\n",
      "\u001b[0;32m/opt/conda/lib/python3.6/threading.py\u001b[0m in \u001b[0;36mwait\u001b[0;34m(self, timeout)\u001b[0m\n\u001b[1;32m    294\u001b[0m             \u001b[0;32mif\u001b[0m \u001b[0mtimeout\u001b[0m \u001b[0;32mis\u001b[0m \u001b[0;32mNone\u001b[0m\u001b[0;34m:\u001b[0m\u001b[0;34m\u001b[0m\u001b[0;34m\u001b[0m\u001b[0m\n\u001b[0;32m--> 295\u001b[0;31m                 \u001b[0mwaiter\u001b[0m\u001b[0;34m.\u001b[0m\u001b[0macquire\u001b[0m\u001b[0;34m(\u001b[0m\u001b[0;34m)\u001b[0m\u001b[0;34m\u001b[0m\u001b[0;34m\u001b[0m\u001b[0m\n\u001b[0m\u001b[1;32m    296\u001b[0m                 \u001b[0mgotit\u001b[0m \u001b[0;34m=\u001b[0m \u001b[0;32mTrue\u001b[0m\u001b[0;34m\u001b[0m\u001b[0;34m\u001b[0m\u001b[0m\n",
      "\u001b[0;31mKeyboardInterrupt\u001b[0m: ",
      "\nDuring handling of the above exception, another exception occurred:\n",
      "\u001b[0;31mKeyboardInterrupt\u001b[0mTraceback (most recent call last)",
      "\u001b[0;32m~/.local/lib/python3.6/site-packages/sklearn/model_selection/_search.py\u001b[0m in \u001b[0;36mfit\u001b[0;34m(self, X, y, groups, **fit_params)\u001b[0m\n\u001b[1;32m    735\u001b[0m \u001b[0;34m\u001b[0m\u001b[0m\n\u001b[0;32m--> 736\u001b[0;31m             \u001b[0mself\u001b[0m\u001b[0;34m.\u001b[0m\u001b[0m_run_search\u001b[0m\u001b[0;34m(\u001b[0m\u001b[0mevaluate_candidates\u001b[0m\u001b[0;34m)\u001b[0m\u001b[0;34m\u001b[0m\u001b[0;34m\u001b[0m\u001b[0m\n\u001b[0m\u001b[1;32m    737\u001b[0m \u001b[0;34m\u001b[0m\u001b[0m\n",
      "\u001b[0;32m~/.local/lib/python3.6/site-packages/sklearn/model_selection/_search.py\u001b[0m in \u001b[0;36m_run_search\u001b[0;34m(self, evaluate_candidates)\u001b[0m\n\u001b[1;32m   1530\u001b[0m             \u001b[0mself\u001b[0m\u001b[0;34m.\u001b[0m\u001b[0mparam_distributions\u001b[0m\u001b[0;34m,\u001b[0m \u001b[0mself\u001b[0m\u001b[0;34m.\u001b[0m\u001b[0mn_iter\u001b[0m\u001b[0;34m,\u001b[0m\u001b[0;34m\u001b[0m\u001b[0;34m\u001b[0m\u001b[0m\n\u001b[0;32m-> 1531\u001b[0;31m             random_state=self.random_state))\n\u001b[0m",
      "\u001b[0;32m~/.local/lib/python3.6/site-packages/sklearn/model_selection/_search.py\u001b[0m in \u001b[0;36mevaluate_candidates\u001b[0;34m(candidate_params)\u001b[0m\n\u001b[1;32m    714\u001b[0m                                in product(candidate_params,\n\u001b[0;32m--> 715\u001b[0;31m                                           cv.split(X, y, groups)))\n\u001b[0m\u001b[1;32m    716\u001b[0m \u001b[0;34m\u001b[0m\u001b[0m\n",
      "\u001b[0;32m~/.local/lib/python3.6/site-packages/joblib/parallel.py\u001b[0m in \u001b[0;36m__call__\u001b[0;34m(self, iterable)\u001b[0m\n\u001b[1;32m   1053\u001b[0m             \u001b[0;32mwith\u001b[0m \u001b[0mself\u001b[0m\u001b[0;34m.\u001b[0m\u001b[0m_backend\u001b[0m\u001b[0;34m.\u001b[0m\u001b[0mretrieval_context\u001b[0m\u001b[0;34m(\u001b[0m\u001b[0;34m)\u001b[0m\u001b[0;34m:\u001b[0m\u001b[0;34m\u001b[0m\u001b[0;34m\u001b[0m\u001b[0m\n\u001b[0;32m-> 1054\u001b[0;31m                 \u001b[0mself\u001b[0m\u001b[0;34m.\u001b[0m\u001b[0mretrieve\u001b[0m\u001b[0;34m(\u001b[0m\u001b[0;34m)\u001b[0m\u001b[0;34m\u001b[0m\u001b[0;34m\u001b[0m\u001b[0m\n\u001b[0m\u001b[1;32m   1055\u001b[0m             \u001b[0;31m# Make sure that we get a last message telling us we are done\u001b[0m\u001b[0;34m\u001b[0m\u001b[0;34m\u001b[0m\u001b[0;34m\u001b[0m\u001b[0m\n",
      "\u001b[0;32m~/.local/lib/python3.6/site-packages/joblib/parallel.py\u001b[0m in \u001b[0;36mretrieve\u001b[0;34m(self)\u001b[0m\n\u001b[1;32m    954\u001b[0m                     \u001b[0mensure_ready\u001b[0m \u001b[0;34m=\u001b[0m \u001b[0mself\u001b[0m\u001b[0;34m.\u001b[0m\u001b[0m_managed_backend\u001b[0m\u001b[0;34m\u001b[0m\u001b[0;34m\u001b[0m\u001b[0m\n\u001b[0;32m--> 955\u001b[0;31m                     \u001b[0mbackend\u001b[0m\u001b[0;34m.\u001b[0m\u001b[0mabort_everything\u001b[0m\u001b[0;34m(\u001b[0m\u001b[0mensure_ready\u001b[0m\u001b[0;34m=\u001b[0m\u001b[0mensure_ready\u001b[0m\u001b[0;34m)\u001b[0m\u001b[0;34m\u001b[0m\u001b[0;34m\u001b[0m\u001b[0m\n\u001b[0m\u001b[1;32m    956\u001b[0m                 \u001b[0;32mraise\u001b[0m\u001b[0;34m\u001b[0m\u001b[0;34m\u001b[0m\u001b[0m\n",
      "\u001b[0;32m~/.local/lib/python3.6/site-packages/joblib/_parallel_backends.py\u001b[0m in \u001b[0;36mabort_everything\u001b[0;34m(self, ensure_ready)\u001b[0m\n\u001b[1;32m    560\u001b[0m         \"\"\"\n\u001b[0;32m--> 561\u001b[0;31m         \u001b[0mself\u001b[0m\u001b[0;34m.\u001b[0m\u001b[0m_workers\u001b[0m\u001b[0;34m.\u001b[0m\u001b[0mterminate\u001b[0m\u001b[0;34m(\u001b[0m\u001b[0mkill_workers\u001b[0m\u001b[0;34m=\u001b[0m\u001b[0;32mTrue\u001b[0m\u001b[0;34m)\u001b[0m\u001b[0;34m\u001b[0m\u001b[0;34m\u001b[0m\u001b[0m\n\u001b[0m\u001b[1;32m    562\u001b[0m         \u001b[0mself\u001b[0m\u001b[0;34m.\u001b[0m\u001b[0m_workers\u001b[0m \u001b[0;34m=\u001b[0m \u001b[0;32mNone\u001b[0m\u001b[0;34m\u001b[0m\u001b[0;34m\u001b[0m\u001b[0m\n",
      "\u001b[0;32m~/.local/lib/python3.6/site-packages/joblib/executor.py\u001b[0m in \u001b[0;36mterminate\u001b[0;34m(self, kill_workers)\u001b[0m\n\u001b[1;32m     73\u001b[0m     \u001b[0;32mdef\u001b[0m \u001b[0mterminate\u001b[0m\u001b[0;34m(\u001b[0m\u001b[0mself\u001b[0m\u001b[0;34m,\u001b[0m \u001b[0mkill_workers\u001b[0m\u001b[0;34m=\u001b[0m\u001b[0;32mFalse\u001b[0m\u001b[0;34m)\u001b[0m\u001b[0;34m:\u001b[0m\u001b[0;34m\u001b[0m\u001b[0;34m\u001b[0m\u001b[0m\n\u001b[0;32m---> 74\u001b[0;31m         \u001b[0mself\u001b[0m\u001b[0;34m.\u001b[0m\u001b[0mshutdown\u001b[0m\u001b[0;34m(\u001b[0m\u001b[0mkill_workers\u001b[0m\u001b[0;34m=\u001b[0m\u001b[0mkill_workers\u001b[0m\u001b[0;34m)\u001b[0m\u001b[0;34m\u001b[0m\u001b[0;34m\u001b[0m\u001b[0m\n\u001b[0m\u001b[1;32m     75\u001b[0m         \u001b[0;32mif\u001b[0m \u001b[0mkill_workers\u001b[0m\u001b[0;34m:\u001b[0m\u001b[0;34m\u001b[0m\u001b[0;34m\u001b[0m\u001b[0m\n",
      "\u001b[0;32m~/.local/lib/python3.6/site-packages/joblib/externals/loky/process_executor.py\u001b[0m in \u001b[0;36mshutdown\u001b[0;34m(self, wait, kill_workers)\u001b[0m\n\u001b[1;32m   1170\u001b[0m         \u001b[0;32mif\u001b[0m \u001b[0mexecutor_manager_thread\u001b[0m \u001b[0;32mis\u001b[0m \u001b[0;32mnot\u001b[0m \u001b[0;32mNone\u001b[0m \u001b[0;32mand\u001b[0m \u001b[0mwait\u001b[0m\u001b[0;34m:\u001b[0m\u001b[0;34m\u001b[0m\u001b[0;34m\u001b[0m\u001b[0m\n\u001b[0;32m-> 1171\u001b[0;31m             \u001b[0mexecutor_manager_thread\u001b[0m\u001b[0;34m.\u001b[0m\u001b[0mjoin\u001b[0m\u001b[0;34m(\u001b[0m\u001b[0;34m)\u001b[0m\u001b[0;34m\u001b[0m\u001b[0;34m\u001b[0m\u001b[0m\n\u001b[0m\u001b[1;32m   1172\u001b[0m \u001b[0;34m\u001b[0m\u001b[0m\n",
      "\u001b[0;32m/opt/conda/lib/python3.6/threading.py\u001b[0m in \u001b[0;36mjoin\u001b[0;34m(self, timeout)\u001b[0m\n\u001b[1;32m   1055\u001b[0m         \u001b[0;32mif\u001b[0m \u001b[0mtimeout\u001b[0m \u001b[0;32mis\u001b[0m \u001b[0;32mNone\u001b[0m\u001b[0;34m:\u001b[0m\u001b[0;34m\u001b[0m\u001b[0;34m\u001b[0m\u001b[0m\n\u001b[0;32m-> 1056\u001b[0;31m             \u001b[0mself\u001b[0m\u001b[0;34m.\u001b[0m\u001b[0m_wait_for_tstate_lock\u001b[0m\u001b[0;34m(\u001b[0m\u001b[0;34m)\u001b[0m\u001b[0;34m\u001b[0m\u001b[0;34m\u001b[0m\u001b[0m\n\u001b[0m\u001b[1;32m   1057\u001b[0m         \u001b[0;32melse\u001b[0m\u001b[0;34m:\u001b[0m\u001b[0;34m\u001b[0m\u001b[0;34m\u001b[0m\u001b[0m\n",
      "\u001b[0;32m/opt/conda/lib/python3.6/threading.py\u001b[0m in \u001b[0;36m_wait_for_tstate_lock\u001b[0;34m(self, block, timeout)\u001b[0m\n\u001b[1;32m   1071\u001b[0m             \u001b[0;32massert\u001b[0m \u001b[0mself\u001b[0m\u001b[0;34m.\u001b[0m\u001b[0m_is_stopped\u001b[0m\u001b[0;34m\u001b[0m\u001b[0;34m\u001b[0m\u001b[0m\n\u001b[0;32m-> 1072\u001b[0;31m         \u001b[0;32melif\u001b[0m \u001b[0mlock\u001b[0m\u001b[0;34m.\u001b[0m\u001b[0macquire\u001b[0m\u001b[0;34m(\u001b[0m\u001b[0mblock\u001b[0m\u001b[0;34m,\u001b[0m \u001b[0mtimeout\u001b[0m\u001b[0;34m)\u001b[0m\u001b[0;34m:\u001b[0m\u001b[0;34m\u001b[0m\u001b[0;34m\u001b[0m\u001b[0m\n\u001b[0m\u001b[1;32m   1073\u001b[0m             \u001b[0mlock\u001b[0m\u001b[0;34m.\u001b[0m\u001b[0mrelease\u001b[0m\u001b[0;34m(\u001b[0m\u001b[0;34m)\u001b[0m\u001b[0;34m\u001b[0m\u001b[0;34m\u001b[0m\u001b[0m\n",
      "\u001b[0;31mKeyboardInterrupt\u001b[0m: ",
      "\nDuring handling of the above exception, another exception occurred:\n",
      "\u001b[0;31mKeyboardInterrupt\u001b[0mTraceback (most recent call last)",
      "\u001b[0;32m<timed exec>\u001b[0m in \u001b[0;36m<module>\u001b[0;34m\u001b[0m\n",
      "\u001b[0;32m~/.local/lib/python3.6/site-packages/sklearn/utils/validation.py\u001b[0m in \u001b[0;36minner_f\u001b[0;34m(*args, **kwargs)\u001b[0m\n\u001b[1;32m     71\u001b[0m                           FutureWarning)\n\u001b[1;32m     72\u001b[0m         \u001b[0mkwargs\u001b[0m\u001b[0;34m.\u001b[0m\u001b[0mupdate\u001b[0m\u001b[0;34m(\u001b[0m\u001b[0;34m{\u001b[0m\u001b[0mk\u001b[0m\u001b[0;34m:\u001b[0m \u001b[0marg\u001b[0m \u001b[0;32mfor\u001b[0m \u001b[0mk\u001b[0m\u001b[0;34m,\u001b[0m \u001b[0marg\u001b[0m \u001b[0;32min\u001b[0m \u001b[0mzip\u001b[0m\u001b[0;34m(\u001b[0m\u001b[0msig\u001b[0m\u001b[0;34m.\u001b[0m\u001b[0mparameters\u001b[0m\u001b[0;34m,\u001b[0m \u001b[0margs\u001b[0m\u001b[0;34m)\u001b[0m\u001b[0;34m}\u001b[0m\u001b[0;34m)\u001b[0m\u001b[0;34m\u001b[0m\u001b[0;34m\u001b[0m\u001b[0m\n\u001b[0;32m---> 73\u001b[0;31m         \u001b[0;32mreturn\u001b[0m \u001b[0mf\u001b[0m\u001b[0;34m(\u001b[0m\u001b[0;34m**\u001b[0m\u001b[0mkwargs\u001b[0m\u001b[0;34m)\u001b[0m\u001b[0;34m\u001b[0m\u001b[0;34m\u001b[0m\u001b[0m\n\u001b[0m\u001b[1;32m     74\u001b[0m     \u001b[0;32mreturn\u001b[0m \u001b[0minner_f\u001b[0m\u001b[0;34m\u001b[0m\u001b[0;34m\u001b[0m\u001b[0m\n\u001b[1;32m     75\u001b[0m \u001b[0;34m\u001b[0m\u001b[0m\n",
      "\u001b[0;32m~/.local/lib/python3.6/site-packages/sklearn/model_selection/_search.py\u001b[0m in \u001b[0;36mfit\u001b[0;34m(self, X, y, groups, **fit_params)\u001b[0m\n\u001b[1;32m    734\u001b[0m                 \u001b[0;32mreturn\u001b[0m \u001b[0mresults\u001b[0m\u001b[0;34m\u001b[0m\u001b[0;34m\u001b[0m\u001b[0m\n\u001b[1;32m    735\u001b[0m \u001b[0;34m\u001b[0m\u001b[0m\n\u001b[0;32m--> 736\u001b[0;31m             \u001b[0mself\u001b[0m\u001b[0;34m.\u001b[0m\u001b[0m_run_search\u001b[0m\u001b[0;34m(\u001b[0m\u001b[0mevaluate_candidates\u001b[0m\u001b[0;34m)\u001b[0m\u001b[0;34m\u001b[0m\u001b[0;34m\u001b[0m\u001b[0m\n\u001b[0m\u001b[1;32m    737\u001b[0m \u001b[0;34m\u001b[0m\u001b[0m\n\u001b[1;32m    738\u001b[0m         \u001b[0;31m# For multi-metric evaluation, store the best_index_, best_params_ and\u001b[0m\u001b[0;34m\u001b[0m\u001b[0;34m\u001b[0m\u001b[0;34m\u001b[0m\u001b[0m\n",
      "\u001b[0;32m~/.local/lib/python3.6/site-packages/joblib/parallel.py\u001b[0m in \u001b[0;36m__exit__\u001b[0;34m(self, exc_type, exc_value, traceback)\u001b[0m\n\u001b[1;32m    725\u001b[0m \u001b[0;34m\u001b[0m\u001b[0m\n\u001b[1;32m    726\u001b[0m     \u001b[0;32mdef\u001b[0m \u001b[0m__exit__\u001b[0m\u001b[0;34m(\u001b[0m\u001b[0mself\u001b[0m\u001b[0;34m,\u001b[0m \u001b[0mexc_type\u001b[0m\u001b[0;34m,\u001b[0m \u001b[0mexc_value\u001b[0m\u001b[0;34m,\u001b[0m \u001b[0mtraceback\u001b[0m\u001b[0;34m)\u001b[0m\u001b[0;34m:\u001b[0m\u001b[0;34m\u001b[0m\u001b[0;34m\u001b[0m\u001b[0m\n\u001b[0;32m--> 727\u001b[0;31m         \u001b[0mself\u001b[0m\u001b[0;34m.\u001b[0m\u001b[0m_terminate_backend\u001b[0m\u001b[0;34m(\u001b[0m\u001b[0;34m)\u001b[0m\u001b[0;34m\u001b[0m\u001b[0;34m\u001b[0m\u001b[0m\n\u001b[0m\u001b[1;32m    728\u001b[0m         \u001b[0mself\u001b[0m\u001b[0;34m.\u001b[0m\u001b[0m_managed_backend\u001b[0m \u001b[0;34m=\u001b[0m \u001b[0;32mFalse\u001b[0m\u001b[0;34m\u001b[0m\u001b[0;34m\u001b[0m\u001b[0m\n\u001b[1;32m    729\u001b[0m \u001b[0;34m\u001b[0m\u001b[0m\n",
      "\u001b[0;32m~/.local/lib/python3.6/site-packages/joblib/parallel.py\u001b[0m in \u001b[0;36m_terminate_backend\u001b[0;34m(self)\u001b[0m\n\u001b[1;32m    755\u001b[0m     \u001b[0;32mdef\u001b[0m \u001b[0m_terminate_backend\u001b[0m\u001b[0;34m(\u001b[0m\u001b[0mself\u001b[0m\u001b[0;34m)\u001b[0m\u001b[0;34m:\u001b[0m\u001b[0;34m\u001b[0m\u001b[0;34m\u001b[0m\u001b[0m\n\u001b[1;32m    756\u001b[0m         \u001b[0;32mif\u001b[0m \u001b[0mself\u001b[0m\u001b[0;34m.\u001b[0m\u001b[0m_backend\u001b[0m \u001b[0;32mis\u001b[0m \u001b[0;32mnot\u001b[0m \u001b[0;32mNone\u001b[0m\u001b[0;34m:\u001b[0m\u001b[0;34m\u001b[0m\u001b[0;34m\u001b[0m\u001b[0m\n\u001b[0;32m--> 757\u001b[0;31m             \u001b[0mself\u001b[0m\u001b[0;34m.\u001b[0m\u001b[0m_backend\u001b[0m\u001b[0;34m.\u001b[0m\u001b[0mterminate\u001b[0m\u001b[0;34m(\u001b[0m\u001b[0;34m)\u001b[0m\u001b[0;34m\u001b[0m\u001b[0;34m\u001b[0m\u001b[0m\n\u001b[0m\u001b[1;32m    758\u001b[0m \u001b[0;34m\u001b[0m\u001b[0m\n\u001b[1;32m    759\u001b[0m     \u001b[0;32mdef\u001b[0m \u001b[0m_dispatch\u001b[0m\u001b[0;34m(\u001b[0m\u001b[0mself\u001b[0m\u001b[0;34m,\u001b[0m \u001b[0mbatch\u001b[0m\u001b[0;34m)\u001b[0m\u001b[0;34m:\u001b[0m\u001b[0;34m\u001b[0m\u001b[0;34m\u001b[0m\u001b[0m\n",
      "\u001b[0;32m~/.local/lib/python3.6/site-packages/joblib/_parallel_backends.py\u001b[0m in \u001b[0;36mterminate\u001b[0;34m(self)\u001b[0m\n\u001b[1;32m    550\u001b[0m             \u001b[0;31m# created. This 'hack' requires a private, low-level operation.\u001b[0m\u001b[0;34m\u001b[0m\u001b[0;34m\u001b[0m\u001b[0;34m\u001b[0m\u001b[0m\n\u001b[1;32m    551\u001b[0m             self._workers._temp_folder_manager._unlink_temporary_resources(\n\u001b[0;32m--> 552\u001b[0;31m                 \u001b[0mcontext_id\u001b[0m\u001b[0;34m=\u001b[0m\u001b[0mself\u001b[0m\u001b[0;34m.\u001b[0m\u001b[0mparallel\u001b[0m\u001b[0;34m.\u001b[0m\u001b[0m_id\u001b[0m\u001b[0;34m\u001b[0m\u001b[0;34m\u001b[0m\u001b[0m\n\u001b[0m\u001b[1;32m    553\u001b[0m             )\n\u001b[1;32m    554\u001b[0m             \u001b[0mself\u001b[0m\u001b[0;34m.\u001b[0m\u001b[0m_workers\u001b[0m \u001b[0;34m=\u001b[0m \u001b[0;32mNone\u001b[0m\u001b[0;34m\u001b[0m\u001b[0;34m\u001b[0m\u001b[0m\n",
      "\u001b[0;32m~/.local/lib/python3.6/site-packages/joblib/_memmapping_reducer.py\u001b[0m in \u001b[0;36m_unlink_temporary_resources\u001b[0;34m(self, context_id)\u001b[0m\n\u001b[1;32m    626\u001b[0m                     )\n\u001b[1;32m    627\u001b[0m                 self._try_delete_folder(\n\u001b[0;32m--> 628\u001b[0;31m                     \u001b[0mallow_non_empty\u001b[0m\u001b[0;34m=\u001b[0m\u001b[0;32mFalse\u001b[0m\u001b[0;34m,\u001b[0m \u001b[0mcontext_id\u001b[0m\u001b[0;34m=\u001b[0m\u001b[0mcontext_id\u001b[0m\u001b[0;34m\u001b[0m\u001b[0;34m\u001b[0m\u001b[0m\n\u001b[0m\u001b[1;32m    629\u001b[0m                 )\n\u001b[1;32m    630\u001b[0m \u001b[0;34m\u001b[0m\u001b[0m\n",
      "\u001b[0;32m~/.local/lib/python3.6/site-packages/joblib/_memmapping_reducer.py\u001b[0m in \u001b[0;36m_try_delete_folder\u001b[0;34m(self, allow_non_empty, context_id)\u001b[0m\n\u001b[1;32m    653\u001b[0m             \u001b[0;32mtry\u001b[0m\u001b[0;34m:\u001b[0m\u001b[0;34m\u001b[0m\u001b[0;34m\u001b[0m\u001b[0m\n\u001b[1;32m    654\u001b[0m                 delete_folder(\n\u001b[0;32m--> 655\u001b[0;31m                     \u001b[0mtemp_folder\u001b[0m\u001b[0;34m,\u001b[0m \u001b[0mallow_non_empty\u001b[0m\u001b[0;34m=\u001b[0m\u001b[0mallow_non_empty\u001b[0m\u001b[0;34m\u001b[0m\u001b[0;34m\u001b[0m\u001b[0m\n\u001b[0m\u001b[1;32m    656\u001b[0m                 )\n\u001b[1;32m    657\u001b[0m                 \u001b[0;31m# Now that this folder is deleted, we can forget about it\u001b[0m\u001b[0;34m\u001b[0m\u001b[0;34m\u001b[0m\u001b[0;34m\u001b[0m\u001b[0m\n",
      "\u001b[0;32m~/.local/lib/python3.6/site-packages/joblib/disk.py\u001b[0m in \u001b[0;36mdelete_folder\u001b[0;34m(folder_path, onerror, allow_non_empty)\u001b[0m\n\u001b[1;32m    134\u001b[0m                         \u001b[0;31m# yet.\u001b[0m\u001b[0;34m\u001b[0m\u001b[0;34m\u001b[0m\u001b[0;34m\u001b[0m\u001b[0m\n\u001b[1;32m    135\u001b[0m                         \u001b[0;32mraise\u001b[0m\u001b[0;34m\u001b[0m\u001b[0;34m\u001b[0m\u001b[0m\n\u001b[0;32m--> 136\u001b[0;31m                 \u001b[0mtime\u001b[0m\u001b[0;34m.\u001b[0m\u001b[0msleep\u001b[0m\u001b[0;34m(\u001b[0m\u001b[0mRM_SUBDIRS_RETRY_TIME\u001b[0m\u001b[0;34m)\u001b[0m\u001b[0;34m\u001b[0m\u001b[0;34m\u001b[0m\u001b[0m\n\u001b[0m",
      "\u001b[0;31mKeyboardInterrupt\u001b[0m: "
     ]
    }
   ],
   "source": [
    "%%time\n",
    "from sklearn.svm import SVR\n",
    "from sklearn.svm import SVC\n",
    "\n",
    "# define search space\n",
    "space = dict()\n",
    "space['kernel']    = ['linear','poly','rbf','sigmoid']\n",
    "space['gamma']     = ['scale','auto']\n",
    "space['coef0']     = [row/50 for row in range(1,100,4)]\n",
    "space['C']         = [row/50 for row in range(1,100,4)]\n",
    "space['epsilon']   = [row/25 for row in range(5,25)]\n",
    "space['degree']    = [row/500 for row in range(1,250,5)]\n",
    "space['tol']       = [row/2000 for row in range(1,200,10)]\n",
    "space['shrinking'] = [True, False] \n",
    "\n",
    "svm = SVR()\n",
    "\n",
    "svm1= RandomizedSearchCV(svm, space ,  cv=3, random_state=1, n_iter=300, n_jobs=20)\n",
    "\n",
    "svm1.fit(X_train, y_train)"
   ]
  },
  {
   "cell_type": "code",
   "execution_count": 43,
   "metadata": {},
   "outputs": [
    {
     "ename": "AttributeError",
     "evalue": "'RandomizedSearchCV' object has no attribute 'best_score_'",
     "output_type": "error",
     "traceback": [
      "\u001b[0;31m\u001b[0m",
      "\u001b[0;31mAttributeError\u001b[0mTraceback (most recent call last)",
      "\u001b[0;32m<ipython-input-43-b28edf9f844b>\u001b[0m in \u001b[0;36m<module>\u001b[0;34m\u001b[0m\n\u001b[1;32m      1\u001b[0m \u001b[0;31m# summarize result\u001b[0m\u001b[0;34m\u001b[0m\u001b[0;34m\u001b[0m\u001b[0;34m\u001b[0m\u001b[0m\n\u001b[0;32m----> 2\u001b[0;31m \u001b[0mprint\u001b[0m\u001b[0;34m(\u001b[0m\u001b[0;34m'Best Score: %s'\u001b[0m \u001b[0;34m%\u001b[0m \u001b[0msvm1\u001b[0m\u001b[0;34m.\u001b[0m\u001b[0mbest_score_\u001b[0m\u001b[0;34m)\u001b[0m \u001b[0;31m#Best Score: 0.9352753839517703\u001b[0m\u001b[0;34m\u001b[0m\u001b[0;34m\u001b[0m\u001b[0m\n\u001b[0m\u001b[1;32m      3\u001b[0m \u001b[0mprint\u001b[0m\u001b[0;34m(\u001b[0m\u001b[0;34m'Best Hyperparameters: %s'\u001b[0m \u001b[0;34m%\u001b[0m \u001b[0msvm1\u001b[0m\u001b[0;34m.\u001b[0m\u001b[0mbest_params_\u001b[0m\u001b[0;34m)\u001b[0m\u001b[0;34m\u001b[0m\u001b[0;34m\u001b[0m\u001b[0m\n",
      "\u001b[0;31mAttributeError\u001b[0m: 'RandomizedSearchCV' object has no attribute 'best_score_'"
     ]
    }
   ],
   "source": [
    "# summarize result\n",
    "print('Best Score: %s' % svm1.best_score_) #Best Score: 0.9352753839517703\n",
    "print('Best Hyperparameters: %s' % svm1.best_params_)"
   ]
  },
  {
   "cell_type": "code",
   "execution_count": null,
   "metadata": {},
   "outputs": [],
   "source": [
    "from sklearn.metrics import r2_score, explained_variance_score, mean_absolute_error\n",
    "print(\"R2:\", r2_score(                 y_test0 ,svm1.predict(X_test0)))\n",
    "print(\"EVS\", explained_variance_score( y_test0 ,svm1.predict(X_test0)))\n",
    "print(\"MAE\", mean_absolute_error(      y_test0 ,svm1.predict(X_test0)))"
   ]
  },
  {
   "cell_type": "code",
   "execution_count": null,
   "metadata": {},
   "outputs": [],
   "source": [
    "import pickle\n",
    "# Save to file in the current working directory\n",
    "with open(\"pickle/svm0.pkl\", 'wb') as file:\n",
    "    pickle.dump(svm1, file)"
   ]
  },
  {
   "cell_type": "code",
   "execution_count": null,
   "metadata": {},
   "outputs": [],
   "source": []
  },
  {
   "cell_type": "code",
   "execution_count": null,
   "metadata": {},
   "outputs": [],
   "source": [
    "dataframe=pd.DataFrame(model.feature_importances_, columns=['feature_importances']) \n",
    "dataframe['features'] = lista\n",
    "dataframe.sort_values('feature_importances')"
   ]
  },
  {
   "cell_type": "markdown",
   "metadata": {},
   "source": [
    "<a name=\"sgd1\"></a>\n",
    "\n",
    "## 3.2) Stochastic Gradient Descent \n",
    "\n",
    "- ir para [Menu Principal](#navegacao)\n",
    "- ir para [Train/Test partition](#partition)\n",
    "- ir para [Baysian Optimization](#bayesian)\n",
    "- ir para [Random Search](#randomsearch)\n",
    "- ir para [Halving Random Serach](#halving)"
   ]
  },
  {
   "cell_type": "code",
   "execution_count": null,
   "metadata": {},
   "outputs": [],
   "source": [
    "%%time\n",
    "from sklearn.linear_model import SGDRegressor\n",
    "\n",
    "# define search space\n",
    "space = dict()\n",
    "space['alpha']          = [row/50 for row in range(40,500,25)]\n",
    "space['l1_ratio']       = [row/400 for row in range(20,100,4)] \n",
    "space['loss']           = ['squared_loss','huber','epsilon_insensitive','squared_epsilon_insensitive']\n",
    "space['penalty']        = ['l1','l2','elasticnet']\n",
    "space['learning_rate']  = ['invscaling','constant','optimal','adaptive']\n",
    "space['epsilon']        = [row/700 for row in range(10,200,20)]\n",
    "space['eta0']           = [row/1200 for row in range(1,200,10)]\n",
    "space['power_t']        = [row/600 for row in range(60,300,10)]\n",
    "space['early_stopping'] = [False,True]\n",
    "space['tol']            = [row/5000 for row in range(1,60,5)]\n",
    "\n",
    "sgd = SGDRegressor(max_iter=1000)\n",
    "\n",
    "sgd0 = RandomizedSearchCV(sgd, space, cv=3, random_state=666, n_iter=300, n_jobs=20)\n",
    "\n",
    "sgd0.fit(X_train0, y_train0.ravel())"
   ]
  },
  {
   "cell_type": "code",
   "execution_count": null,
   "metadata": {},
   "outputs": [],
   "source": [
    "# summarize result\n",
    "print('Best Score: %s' % sgd0.best_score_) \n",
    "print('Best Hyperparameters: %s' % sgd0.best_params_)"
   ]
  },
  {
   "cell_type": "code",
   "execution_count": null,
   "metadata": {},
   "outputs": [],
   "source": [
    "from sklearn.metrics import r2_score, explained_variance_score, mean_absolute_error\n",
    "\n",
    "print(\"R2:\", r2_score(                 y_test0.ravel(),sgd0.predict(X_test0)))\n",
    "print(\"EVS\", explained_variance_score( y_test0.ravel(),sgd0.predict(X_test0)))\n",
    "print(\"MAE\", mean_absolute_error(      y_test0.ravel(),sgd0.predict(X_test0)))"
   ]
  },
  {
   "cell_type": "code",
   "execution_count": null,
   "metadata": {},
   "outputs": [],
   "source": [
    "import pickle\n",
    "\n",
    "# Save to file in the current working directory\n",
    "with open(\"pickle/sgd0.pkl\", 'wb') as file:\n",
    "    pickle.dump(sgd0, file)"
   ]
  },
  {
   "cell_type": "markdown",
   "metadata": {},
   "source": [
    "<a name=\"elastic1\"></a>\n",
    "\n",
    "## 3.3) Multi-Task Elastic-Net\n",
    "\n",
    "- ir para [Menu Principal](#navegacao)\n",
    "- ir para [Train/Test partition](#partition)\n",
    "- ir para [Baysian Optimization](#bayesian)\n",
    "- ir para [Random Search](#randomsearch)\n",
    "- ir para [Halving Random Serach](#halving)"
   ]
  },
  {
   "cell_type": "code",
   "execution_count": 28,
   "metadata": {},
   "outputs": [
    {
     "name": "stdout",
     "output_type": "stream",
     "text": [
      "CPU times: user 56min 36s, sys: 1h 35min 21s, total: 2h 31min 58s\n",
      "Wall time: 17min 7s\n"
     ]
    }
   ],
   "source": [
    "%%time\n",
    "from sklearn import linear_model\n",
    "\n",
    "space = dict()\n",
    "space['alpha']         = [row/200 for row in range(1,1200,60)]\n",
    "space['l1_ratio']      = [row/30 for row in range(1,300,10)]\n",
    "space['fit_intercept'] = [False,True]\n",
    "space['normalize']     = [False,True]\n",
    "space['warm_start']    = [False,True]\n",
    "space['copy_X']        = [False,True]\n",
    "space['selection']     = ['cyclic','random']\n",
    "space['tol']           = [row/5000 for row in range(1,20,2)]\n",
    "\n",
    "mtask = linear_model.MultiTaskElasticNet(max_iter=800)\n",
    "\n",
    "mtask0 = RandomizedSearchCV(mtask, space, cv=3,  n_iter=300, random_state=1, n_jobs=20)\n",
    "\n",
    "mtask0.fit(X_train, y_train)"
   ]
  },
  {
   "cell_type": "code",
   "execution_count": 29,
   "metadata": {},
   "outputs": [
    {
     "name": "stdout",
     "output_type": "stream",
     "text": [
      "Best Score: 0.9909882517195915\n",
      "Best Hyperparameters: {'warm_start': True, 'tol': 0.0006, 'selection': 'cyclic', 'normalize': False, 'l1_ratio': 1.0333333333333334, 'fit_intercept': False, 'copy_X': False, 'alpha': 0.005}\n"
     ]
    }
   ],
   "source": [
    "# summarize result\n",
    "print('Best Score: %s' % mtask0.best_score_)\n",
    "print('Best Hyperparameters: %s' % mtask0.best_params_)"
   ]
  },
  {
   "cell_type": "code",
   "execution_count": 30,
   "metadata": {},
   "outputs": [
    {
     "name": "stdout",
     "output_type": "stream",
     "text": [
      "R2: 0.9908510042915026\n",
      "EVS 0.9908510161021391\n",
      "MAE 0.2233163826291033\n"
     ]
    }
   ],
   "source": [
    "from sklearn.metrics import r2_score, explained_variance_score, mean_absolute_error\n",
    "\n",
    "print(\"R2:\", r2_score(                 y_test,mtask0.predict(X_test)))\n",
    "print(\"EVS\", explained_variance_score( y_test,mtask0.predict(X_test)))\n",
    "print(\"MAE\", mean_absolute_error(      y_test,mtask0.predict(X_test)))"
   ]
  },
  {
   "cell_type": "code",
   "execution_count": 31,
   "metadata": {},
   "outputs": [
    {
     "data": {
      "text/plain": [
       "MultiTaskElasticNet(alpha=0.005, copy_X=False, fit_intercept=False,\n",
       "                    l1_ratio=1.0333333333333334, max_iter=800, tol=0.0006,\n",
       "                    warm_start=True)"
      ]
     },
     "execution_count": 31,
     "metadata": {},
     "output_type": "execute_result"
    }
   ],
   "source": [
    "mtask00 = linear_model.MultiTaskElasticNet(max_iter=800, warm_start=True, tol=0.0006, selection='cyclic',normalize=False,\n",
    "                                           l1_ratio=1.0333333333333334, fit_intercept=False, copy_X=False, alpha=0.005)\n",
    "\n",
    "\n",
    "mtask00.fit(X_train, y_train)"
   ]
  },
  {
   "cell_type": "code",
   "execution_count": 32,
   "metadata": {},
   "outputs": [],
   "source": [
    "import pickle\n",
    "# Save to file in the current working directory\n",
    "with open(\"pickle/mtask00.pkl\", 'wb') as file:\n",
    "    pickle.dump(mtask00, file)"
   ]
  },
  {
   "cell_type": "code",
   "execution_count": 35,
   "metadata": {},
   "outputs": [
    {
     "ename": "AttributeError",
     "evalue": "'MultiTaskElasticNet' object has no attribute 'feature_importances_'",
     "output_type": "error",
     "traceback": [
      "\u001b[0;31m\u001b[0m",
      "\u001b[0;31mAttributeError\u001b[0mTraceback (most recent call last)",
      "\u001b[0;32m<ipython-input-35-bc07f5c24426>\u001b[0m in \u001b[0;36m<module>\u001b[0;34m\u001b[0m\n\u001b[0;32m----> 1\u001b[0;31m \u001b[0mdataframe\u001b[0m\u001b[0;34m=\u001b[0m\u001b[0mpd\u001b[0m\u001b[0;34m.\u001b[0m\u001b[0mDataFrame\u001b[0m\u001b[0;34m(\u001b[0m\u001b[0mmtask00\u001b[0m\u001b[0;34m.\u001b[0m\u001b[0mfeature_importances_\u001b[0m\u001b[0;34m,\u001b[0m \u001b[0mcolumns\u001b[0m\u001b[0;34m=\u001b[0m\u001b[0;34m[\u001b[0m\u001b[0;34m'feature_importances'\u001b[0m\u001b[0;34m]\u001b[0m\u001b[0;34m)\u001b[0m\u001b[0;34m\u001b[0m\u001b[0;34m\u001b[0m\u001b[0m\n\u001b[0m\u001b[1;32m      2\u001b[0m \u001b[0mdataframe\u001b[0m\u001b[0;34m[\u001b[0m\u001b[0;34m'features'\u001b[0m\u001b[0;34m]\u001b[0m \u001b[0;34m=\u001b[0m \u001b[0mlista\u001b[0m\u001b[0;34m\u001b[0m\u001b[0;34m\u001b[0m\u001b[0m\n\u001b[1;32m      3\u001b[0m \u001b[0mdataframe\u001b[0m\u001b[0;34m.\u001b[0m\u001b[0msort_values\u001b[0m\u001b[0;34m(\u001b[0m\u001b[0;34m'feature_importances'\u001b[0m\u001b[0;34m)\u001b[0m\u001b[0;34m\u001b[0m\u001b[0;34m\u001b[0m\u001b[0m\n",
      "\u001b[0;31mAttributeError\u001b[0m: 'MultiTaskElasticNet' object has no attribute 'feature_importances_'"
     ]
    }
   ],
   "source": [
    "dataframe=pd.DataFrame(mtask00.feature_importances_, columns=['feature_importances']) \n",
    "dataframe['features'] = lista\n",
    "dataframe.sort_values('feature_importances')"
   ]
  },
  {
   "cell_type": "markdown",
   "metadata": {},
   "source": [
    "<a name=\"LAR1\"></a>\n",
    "\n",
    "## 3.4) Least Angle Regression Model (LAR)\n",
    "\n",
    "- ir para [Menu Principal](#navegacao)\n",
    "- ir para [Train/Test partition](#partition)\n",
    "- ir para [Baysian Optimization](#bayesian)\n",
    "- ir para [Random Search](#randomsearch)\n",
    "- ir para [Halving Random Serach](#halving)"
   ]
  },
  {
   "cell_type": "code",
   "execution_count": 36,
   "metadata": {},
   "outputs": [
    {
     "name": "stdout",
     "output_type": "stream",
     "text": [
      "CPU times: user 17.8 s, sys: 399 ms, total: 18.2 s\n",
      "Wall time: 41.6 s\n"
     ]
    }
   ],
   "source": [
    "%%time\n",
    "from sklearn import linear_model\n",
    "\n",
    "space = dict()\n",
    "space['alpha']          = [row/300 for row in range(1,900,10)]\n",
    "space['fit_intercept']  = [False,True]\n",
    "space['fit_path']       = [False,True]\n",
    "space['normalize']      = [False,True]\n",
    "space['copy_X']         = [False,True]\n",
    "space['positive']       = [False,True]\n",
    "space['eps']            = [row/100 for row in range(1000,10000,100)]\n",
    "\n",
    "lars = linear_model.LassoLars()\n",
    "\n",
    "lars0 = RandomizedSearchCV(lars, space, cv=3,  n_iter=300, random_state=666, n_jobs=20)\n",
    "\n",
    "lars0.fit(X_train, y_train)"
   ]
  },
  {
   "cell_type": "code",
   "execution_count": 37,
   "metadata": {},
   "outputs": [
    {
     "name": "stdout",
     "output_type": "stream",
     "text": [
      "Best Score: 0.9909092927498436\n",
      "Best Hyperparameters: {'positive': False, 'normalize': True, 'fit_path': False, 'fit_intercept': False, 'eps': 22.0, 'copy_X': False, 'alpha': 0.03666666666666667}\n"
     ]
    }
   ],
   "source": [
    "# summarize result\n",
    "print('Best Score: %s' % lars0.best_score_) #Best Score: 0.9471256547797681\n",
    "print('Best Hyperparameters: %s' % lars0.best_params_)"
   ]
  },
  {
   "cell_type": "code",
   "execution_count": 38,
   "metadata": {},
   "outputs": [
    {
     "name": "stdout",
     "output_type": "stream",
     "text": [
      "R2: 0.990748285663413\n",
      "EVS 0.9907485154304116\n",
      "MAE 0.2277757851876471\n"
     ]
    }
   ],
   "source": [
    "from sklearn.metrics import r2_score, explained_variance_score, mean_absolute_error\n",
    "print(\"R2:\", r2_score(                 y_test,lars0.predict(X_test)))\n",
    "print(\"EVS\", explained_variance_score( y_test,lars0.predict(X_test)))\n",
    "print(\"MAE\", mean_absolute_error(      y_test,lars0.predict(X_test)))"
   ]
  },
  {
   "cell_type": "code",
   "execution_count": 39,
   "metadata": {},
   "outputs": [],
   "source": [
    "lars00 = linear_model.LassoLars(max_iter=800, positive=False, normalize=True, fit_path=False,\n",
    "                                fit_intercept= False, eps= 22.0, copy_X= False, alpha= 0.0366667)\n",
    "    \n",
    "lars00.fit(X_train, y_train)\n",
    "import pickle\n",
    "# Save to file in the current working directory\n",
    "with open(\"pickle/lars00.pkl\", 'wb') as file:\n",
    "    pickle.dump(lars00, file)"
   ]
  },
  {
   "cell_type": "code",
   "execution_count": 41,
   "metadata": {},
   "outputs": [
    {
     "ename": "AttributeError",
     "evalue": "'LassoLars' object has no attribute 'feature_importances_'",
     "output_type": "error",
     "traceback": [
      "\u001b[0;31m\u001b[0m",
      "\u001b[0;31mAttributeError\u001b[0mTraceback (most recent call last)",
      "\u001b[0;32m<ipython-input-41-937f441df6d7>\u001b[0m in \u001b[0;36m<module>\u001b[0;34m\u001b[0m\n\u001b[0;32m----> 1\u001b[0;31m \u001b[0mdataframe\u001b[0m\u001b[0;34m=\u001b[0m\u001b[0mpd\u001b[0m\u001b[0;34m.\u001b[0m\u001b[0mDataFrame\u001b[0m\u001b[0;34m(\u001b[0m\u001b[0mlars00\u001b[0m\u001b[0;34m.\u001b[0m\u001b[0mfeature_importances_\u001b[0m\u001b[0;34m,\u001b[0m \u001b[0mcolumns\u001b[0m\u001b[0;34m=\u001b[0m\u001b[0;34m[\u001b[0m\u001b[0;34m'feature_importances'\u001b[0m\u001b[0;34m]\u001b[0m\u001b[0;34m)\u001b[0m\u001b[0;34m\u001b[0m\u001b[0;34m\u001b[0m\u001b[0m\n\u001b[0m\u001b[1;32m      2\u001b[0m \u001b[0mdataframe\u001b[0m\u001b[0;34m[\u001b[0m\u001b[0;34m'features'\u001b[0m\u001b[0;34m]\u001b[0m \u001b[0;34m=\u001b[0m \u001b[0mlista\u001b[0m\u001b[0;34m\u001b[0m\u001b[0;34m\u001b[0m\u001b[0m\n\u001b[1;32m      3\u001b[0m \u001b[0mdataframe\u001b[0m\u001b[0;34m.\u001b[0m\u001b[0msort_values\u001b[0m\u001b[0;34m(\u001b[0m\u001b[0;34m'feature_importances'\u001b[0m\u001b[0;34m)\u001b[0m\u001b[0;34m\u001b[0m\u001b[0;34m\u001b[0m\u001b[0m\n",
      "\u001b[0;31mAttributeError\u001b[0m: 'LassoLars' object has no attribute 'feature_importances_'"
     ]
    }
   ],
   "source": [
    "dataframe=pd.DataFrame(lars00.feature_importances_, columns=['feature_importances']) \n",
    "dataframe['features'] = lista\n",
    "dataframe.sort_values('feature_importances')"
   ]
  },
  {
   "cell_type": "code",
   "execution_count": null,
   "metadata": {},
   "outputs": [],
   "source": [
    "lars00.n_features_in_"
   ]
  },
  {
   "cell_type": "markdown",
   "metadata": {},
   "source": [
    "<a name=\"ridge1\"></a>\n",
    "\n",
    "## 3.5) Ridge Regression\n",
    "\n",
    "- ir para [Menu Principal](#navegacao)\n",
    "- ir para [Train/Test partition](#partition)\n",
    "- ir para [Baysian Optimization](#bayesian)\n",
    "- ir para [Random Search](#randomsearch)\n",
    "- ir para [Halving Random Serach](#halving)"
   ]
  },
  {
   "cell_type": "code",
   "execution_count": null,
   "metadata": {},
   "outputs": [],
   "source": [
    "%%time\n",
    "from sklearn.linear_model import Ridge\n",
    "  \n",
    "space = dict()\n",
    "space['alpha']         = [row/500 for row in range(8,100,5)]\n",
    "space['copy_X']        = [False,True]\n",
    "space['fit_intercept'] = [False,True]\n",
    "space['normalize']     = [False,True]\n",
    "space['solver']        = ['auto','svd','cholesky','lsqr','sparse_cg']\n",
    "space['tol']           = [row/100000 for row in range(1,1000,10)]\n",
    "\n",
    "ridge = Ridge()\n",
    "\n",
    "ridge0 = RandomizedSearchCV(ridge, space, cv=3,  n_iter=300 , random_state=666, n_jobs=20)\n",
    "\n",
    "ridge0.fit(X_train, y_train)"
   ]
  },
  {
   "cell_type": "code",
   "execution_count": null,
   "metadata": {},
   "outputs": [],
   "source": [
    "# summarize result\n",
    "print('Best Score: %s' % ridge0.best_score_) #Best Score: 0.9917155408859822\n",
    "print('Best Hyperparameters: %s' % ridge0.best_params_)"
   ]
  },
  {
   "cell_type": "code",
   "execution_count": null,
   "metadata": {},
   "outputs": [],
   "source": [
    "from sklearn.metrics import r2_score, explained_variance_score, mean_absolute_error\n",
    "\n",
    "print(\"R2:\", r2_score(                 y_test, ridge0.predict(X_test)))\n",
    "print(\"EVS\", explained_variance_score( y_test, ridge0.predict(X_test)))\n",
    "print(\"MAE\", mean_absolute_error(      y_test, ridge0.predict(X_test)))"
   ]
  },
  {
   "cell_type": "code",
   "execution_count": null,
   "metadata": {},
   "outputs": [],
   "source": [
    "import pickle\n",
    "\n",
    "# Save to file in the current working directory\n",
    "with open(\"pickle/ridge0.pkl\", 'wb') as file:\n",
    "    pickle.dump(ridge0, file)"
   ]
  },
  {
   "cell_type": "markdown",
   "metadata": {},
   "source": [
    "<a name=\"ElasNet1\"></a>\n",
    "\n",
    "## 3.6) ElasticNet Regression\n",
    "\n",
    "- ir para [Menu Principal](#navegacao)\n",
    "- ir para [Train/Test partition](#partition)\n",
    "- ir para [Baysian Optimization](#bayesian)\n",
    "- ir para [Random Search](#randomsearch)\n",
    "- ir para [Halving Random Serach](#halving)"
   ]
  },
  {
   "cell_type": "code",
   "execution_count": null,
   "metadata": {},
   "outputs": [],
   "source": [
    "%%time\n",
    "from sklearn.linear_model import ElasticNet\n",
    "\n",
    "space = dict()\n",
    "space['alpha']         = [row/500 for row in range(1,500,5)]\n",
    "space['l1_ratio']      = [row/250 for row in range(5,1000,10)]\n",
    "space['fit_intercept'] = [False,True]\n",
    "space['normalize']     = [False,True]\n",
    "space['precompute']    = [False,True]\n",
    "space['copy_X']        = [False,True]\n",
    "space['warm_start']    = [False,True]\n",
    "space['positive']      = [False,True]\n",
    "space['selection']     = ['cyclic','random']\n",
    "space['tol']           = [row/10000 for row in range(10,10000,10)]\n",
    "\n",
    "elastic = ElasticNet()\n",
    "\n",
    "elastic0 = RandomizedSearchCV(elastic, space, cv=3,  n_iter=300, random_state=666, n_jobs=20)\n",
    "\n",
    "elastic0.fit(X_train0, y_train0)"
   ]
  },
  {
   "cell_type": "code",
   "execution_count": null,
   "metadata": {},
   "outputs": [],
   "source": [
    "# summarize result\n",
    "print('Best Score: %s' % elastic0.best_score_) #Best Score: 0.6300884516001556\n",
    "print('Best Hyperparameters: %s' % elastic0.best_params_)"
   ]
  },
  {
   "cell_type": "code",
   "execution_count": null,
   "metadata": {},
   "outputs": [],
   "source": [
    "from sklearn.metrics import r2_score, explained_variance_score, mean_absolute_error\n",
    "\n",
    "print(\"R2:\", r2_score(                 y_test0, elastic0.predict(X_test0)))\n",
    "print(\"EVS\", explained_variance_score( y_test0, elastic0.predict(X_test0)))\n",
    "print(\"MAE\", mean_absolute_error(      y_test0, elastic0.predict(X_test0)))"
   ]
  },
  {
   "cell_type": "code",
   "execution_count": null,
   "metadata": {},
   "outputs": [],
   "source": [
    "import pickle\n",
    "\n",
    "# Save to file in the current working directory\n",
    "with open(\"pickle/elastic0.pkl\", 'wb') as file:\n",
    "    pickle.dump(elastic0, file)"
   ]
  },
  {
   "cell_type": "markdown",
   "metadata": {},
   "source": [
    "<a name=\"bayesian1\"></a>\n",
    "\n",
    "## 3.7) Bayesian Ridge Regression\n",
    "\n",
    "- ir para [Menu Principal](#navegacao)\n",
    "- ir para [Train/Test partition](#partition)\n",
    "- ir para [Baysian Optimization](#bayesian)\n",
    "- ir para [Random Search](#randomsearch)\n",
    "- ir para [Halving Random Serach](#halving)"
   ]
  },
  {
   "cell_type": "code",
   "execution_count": null,
   "metadata": {},
   "outputs": [],
   "source": [
    "%%time\n",
    "from sklearn.linear_model import BayesianRidge\n",
    "\n",
    "space = dict()\n",
    "space['alpha_1']        = [row/40000000 for row in range(1,2000,50)]\n",
    "space['alpha_2']        = [row/40000000 for row in range(1,2000,50)]\n",
    "space['lambda_1']       = [row/40000000 for row in range(1,2000,50)]\n",
    "space['lambda_2']       = [row/40000000 for row in range(1,2000,50)]\n",
    "space['compute_score']  = [False,True]\n",
    "space['copy_X']         = [False,True]\n",
    "space['fit_intercept']  = [False,True]\n",
    "space['normalize']      = [False,True]\n",
    "space['tol']            = [row/5000 for row in range(1,100,5)]\n",
    "\n",
    "bayes = BayesianRidge(n_iter=800)\n",
    "\n",
    "bayes0 = RandomizedSearchCV(bayes, space, cv=3,  n_iter=300, random_state=666, n_jobs=20)\n",
    "\n",
    "bayes0.fit(X_train0, y_train0.ravel())\n"
   ]
  },
  {
   "cell_type": "code",
   "execution_count": null,
   "metadata": {},
   "outputs": [],
   "source": [
    "# summarize result\n",
    "print('Best Score: %s' % bayes0.best_score_)\n",
    "print('Best Hyperparameters: %s' % bayes0.best_params_)"
   ]
  },
  {
   "cell_type": "code",
   "execution_count": null,
   "metadata": {},
   "outputs": [],
   "source": [
    "from sklearn.metrics import r2_score, explained_variance_score, mean_absolute_error\n",
    "\n",
    "print(\"R2:\", r2_score(                 y_test0, bayes0.predict(X_test0)))\n",
    "print(\"EVS\", explained_variance_score( y_test0, bayes0.predict(X_test0)))\n",
    "print(\"MAE\", mean_absolute_error(      y_test0, bayes0.predict(X_test0)))"
   ]
  },
  {
   "cell_type": "code",
   "execution_count": null,
   "metadata": {},
   "outputs": [],
   "source": [
    "import pickle\n",
    "\n",
    "# Save to file in the current working directory\n",
    "with open(\"pickle/bayes0.pkl\", 'wb') as file:\n",
    "    pickle.dump(bayes0, file)"
   ]
  },
  {
   "cell_type": "markdown",
   "metadata": {},
   "source": [
    "<a name=\"lasso1\"></a>\n",
    "\n",
    "## 3.8) Lasso Regression\n",
    "\n",
    "- ir para [Menu Principal](#navegacao)\n",
    "- ir para [Train/Test partition](#partition)\n",
    "- ir para [Baysian Optimization](#bayesian)\n",
    "- ir para [Random Search](#randomsearch)\n",
    "- ir para [Halving Random Serach](#halving)"
   ]
  },
  {
   "cell_type": "code",
   "execution_count": null,
   "metadata": {},
   "outputs": [],
   "source": [
    "%%time\n",
    "from sklearn.linear_model import Lasso\n",
    "\n",
    "space = dict()\n",
    "space['alpha']         = [row/1000 for row in range(10,100,5)]\n",
    "space['copy_X']        = [False,True]\n",
    "space['fit_intercept'] = [False,True]\n",
    "space['normalize']     = [False,True]\n",
    "space['precompute']    = [False,True]\n",
    "space['positive']      = [False,True]\n",
    "space['selection']     = ['cyclic','random']\n",
    "space['tol']           = [row/1000000 for row in range(100,10000,10)]\n",
    "\n",
    "lasso = Lasso()\n",
    "\n",
    "lasso0 = RandomizedSearchCV(lasso, space, cv=3, n_iter=300, random_state=666, n_jobs=20)\n",
    "\n",
    "lasso0.fit(X_train0, y_train0)"
   ]
  },
  {
   "cell_type": "code",
   "execution_count": null,
   "metadata": {},
   "outputs": [],
   "source": [
    "# summarize result\n",
    "print('Best Score: %s' % lasso0.best_score_) #Best Score: 0.8776039138486295\n",
    "print('Best Hyperparameters: %s' % lasso0.best_params_) "
   ]
  },
  {
   "cell_type": "code",
   "execution_count": null,
   "metadata": {},
   "outputs": [],
   "source": [
    "from sklearn.metrics import r2_score, explained_variance_score, mean_absolute_error\n",
    "\n",
    "print(\"R2:\", r2_score(                 y_test0, lasso0.predict(X_test0)))\n",
    "print(\"EVS\", explained_variance_score( y_test0, lasso0.predict(X_test0)))\n",
    "print(\"MAE\", mean_absolute_error(      y_test0, lasso0.predict(X_test0)))"
   ]
  },
  {
   "cell_type": "code",
   "execution_count": null,
   "metadata": {},
   "outputs": [],
   "source": [
    "import pickle\n",
    "\n",
    "# Save to file in the current working directory\n",
    "with open(\"pickle/lasso0.pkl\", 'wb') as file:\n",
    "    pickle.dump(lasso0, file)"
   ]
  },
  {
   "cell_type": "markdown",
   "metadata": {},
   "source": [
    "<a name=\"mlp1\"></a>\n",
    "\n",
    "## 3.9) Multilayer Perceptron\n",
    "\n",
    "- ir para [Menu Principal](#navegacao)\n",
    "- ir para [Train/Test partition](#partition)\n",
    "- ir para [Baysian Optimization](#bayesian)\n",
    "- ir para [Random Search](#randomsearch)\n",
    "- ir para [Halving Random Serach](#halving)"
   ]
  },
  {
   "cell_type": "code",
   "execution_count": null,
   "metadata": {},
   "outputs": [],
   "source": [
    "%%time\n",
    "from sklearn.neural_network import MLPRegressor\n",
    "\n",
    "space = dict()\n",
    "space['hidden_layer_sizes']  = [(100,50), (200,25), (25,100,25), (50,50,50), (75,50,75), (80,60,80)]\n",
    "space['activation']          = ['identity','logistic','tanh','relu']\n",
    "space['solver']              = ['lbfgs', 'sgd', 'adam']\n",
    "space['alpha']               = [row/200 for row in range(1,100,10)]\n",
    "space['learning_rate']       = ['constant','invscaling','adaptive']\n",
    "space['learning_rate_init']  = [row/1000 for row in range(1,20,8)]\n",
    "space['warm_start']          = [False,True]\n",
    "space['power_t']             = [row/50 for row in range(1,200,20)]\n",
    "space['tol']                 = [row/50000000 for row in range(1,1000,200)]\n",
    "space['momentum']            = [row/200 for row in range(1,100,10)]\n",
    "space['nesterovs_momentum']  = [False,True]\n",
    "space['early_stopping']      = [False,True]\n",
    "space['beta_1']              = [row/200 for row in range(1,20,6)]\n",
    "space['beta_2']              = [row/200 for row in range(1,20,6)]\n",
    "space['epsilon']             = [row/200 for row in range(1,20,6)]\n",
    "    \n",
    "mpl = MLPRegressor(max_iter=1000)\n",
    "\n",
    "mpl0 = RandomizedSearchCV(mpl, space, cv=3,  n_iter=300, random_state=666, n_jobs=20)\n",
    "\n",
    "mpl0.fit(X_train0, y_train0.ravel())"
   ]
  },
  {
   "cell_type": "code",
   "execution_count": null,
   "metadata": {},
   "outputs": [],
   "source": [
    "# summarize result\n",
    "print('Best Score: %s' % mpl0.best_score_) #Best Score: 0.9550165534562787\n",
    "print('Best Hyperparameters: %s' % mpl0.best_params_)"
   ]
  },
  {
   "cell_type": "code",
   "execution_count": null,
   "metadata": {},
   "outputs": [],
   "source": [
    "from sklearn.metrics import r2_score, explained_variance_score, mean_absolute_error\n",
    "\n",
    "print(\"R2:\", r2_score(                 y_test0, mpl0.predict(X_test0)))\n",
    "print(\"EVS\", explained_variance_score( y_test0, mpl0.predict(X_test0)))\n",
    "print(\"MAE\", mean_absolute_error(      y_test0, mpl0.predict(X_test0)))"
   ]
  },
  {
   "cell_type": "code",
   "execution_count": null,
   "metadata": {},
   "outputs": [],
   "source": [
    "import pickle\n",
    "\n",
    "# Save to file in the current working directory\n",
    "with open(\"pickle/mpl0.pkl\", 'wb') as file:\n",
    "    pickle.dump(mpl0, file)"
   ]
  },
  {
   "cell_type": "markdown",
   "metadata": {},
   "source": [
    "<a name=\"nnr1\"></a>\n",
    "\n",
    "## 3.10) Nearest Neighbors Regression\n",
    "\n",
    "- ir para [Menu Principal](#navegacao)\n",
    "- ir para [Train/Test partition](#partition)\n",
    "- ir para [Baysian Optimization](#bayesian)\n",
    "- ir para [Random Search](#randomsearch)\n",
    "- ir para [Halving Random Serach](#halving)"
   ]
  },
  {
   "cell_type": "code",
   "execution_count": null,
   "metadata": {},
   "outputs": [],
   "source": [
    "%%time\n",
    "from sklearn.neighbors import KNeighborsRegressor\n",
    "\n",
    "space = dict()\n",
    "space['n_neighbors'] = [row for row in range(4,7)]\n",
    "space['weights']     = ['uniform', 'distance']\n",
    "space['algorithm']   = ['auto', 'ball_tree', 'kd_tree', 'brute']\n",
    "space['leaf_size']   = [row for row in range(5,30)]\n",
    "space['p']           = [row for row in range(2,7)]\n",
    "\n",
    "knn = KNeighborsRegressor()\n",
    "\n",
    "knn0 = RandomizedSearchCV(knn, space, cv=3, random_state=666, n_iter=300, n_jobs=20)\n",
    "\n",
    "knn0.fit(X_train0, y_train0)"
   ]
  },
  {
   "cell_type": "code",
   "execution_count": null,
   "metadata": {},
   "outputs": [],
   "source": [
    "# summarize result\n",
    "print('Best Score: %s' % knn0.best_score_)\n",
    "print('Best Hyperparameters: %s' % knn0.best_params_)"
   ]
  },
  {
   "cell_type": "code",
   "execution_count": null,
   "metadata": {},
   "outputs": [],
   "source": [
    "from sklearn.metrics import r2_score, explained_variance_score, mean_absolute_error\n",
    "\n",
    "print(\"R2:\", r2_score(                 y_test0, knn0.predict(X_test0)))\n",
    "print(\"EVS\", explained_variance_score( y_test0, knn0.predict(X_test0)))\n",
    "print(\"MAE\", mean_absolute_error(      y_test0, knn0.predict(X_test0)))"
   ]
  },
  {
   "cell_type": "code",
   "execution_count": null,
   "metadata": {},
   "outputs": [],
   "source": [
    "import pickle\n",
    "\n",
    "# Save to file in the current working directory\n",
    "with open(\"pickle/knn0.pkl\", 'wb') as file:\n",
    "    pickle.dump(knn0, file)"
   ]
  },
  {
   "cell_type": "markdown",
   "metadata": {},
   "source": [
    "<a name=\"resumo_rs1\"></a>\n",
    "\n",
    "## 3.11) Resumo dos resultados\n",
    "\n",
    "- ir para [Menu Principal](#navegacao)\n",
    "- ir para [Train/Test partition](#partition)\n",
    "- ir para [Baysian Optimization](#bayesian)\n",
    "- ir para [Random Search](#randomsearch)\n",
    "- ir para [Halving Random Serach](#halving)"
   ]
  },
  {
   "cell_type": "code",
   "execution_count": null,
   "metadata": {},
   "outputs": [],
   "source": [
    "R2_svm      = r2_score(                 y_test0 ,svm0.predict(X_test0))\n",
    "EVS_svm     = explained_variance_score( y_test0 ,svm0.predict(X_test0))\n",
    "MAE_svm     = mean_absolute_error(      y_test0 ,svm0.predict(X_test0))\n",
    "\n",
    "R2_sgd      = r2_score(                 y_test0 ,sgd0.predict(X_test0))\n",
    "EVS_sgd     = explained_variance_score( y_test0 ,sgd0.predict(X_test0))\n",
    "MAE_sgd     = mean_absolute_error(      y_test0 ,sgd0.predict(X_test0))\n",
    "\n",
    "R2_mtask    = r2_score(                 y_test  ,mtask0.predict(X_test))\n",
    "EVS_mtask   = explained_variance_score( y_test  ,mtask0.predict(X_test))\n",
    "MAE_mtask   = mean_absolute_error(      y_test  ,mtask0.predict(X_test))\n",
    "\n",
    "R2_lars     = r2_score(                 y_test  ,lars0.predict(X_test))\n",
    "EVS_lars    = explained_variance_score( y_test  ,lars0.predict(X_test))\n",
    "MAE_lars    = mean_absolute_error(      y_test  ,lars0.predict(X_test))\n",
    "\n",
    "R2_ridge    = r2_score(                 y_test  ,ridge0.predict(X_test))\n",
    "EVS_ridge   = explained_variance_score( y_test  ,ridge0.predict(X_test))\n",
    "MAE_ridge   = mean_absolute_error(      y_test  ,ridge0.predict(X_test))\n",
    "\n",
    "R2_elastic  = r2_score(                 y_test0 ,elastic0.predict(X_test0))\n",
    "EVS_elastic = explained_variance_score( y_test0 ,elastic0.predict(X_test0))\n",
    "MAE_elastic = mean_absolute_error(      y_test0 ,elastic0.predict(X_test0))\n",
    "\n",
    "R2_bayes    = r2_score(                 y_test0 ,bayes0.predict(X_test0))\n",
    "EVS_bayes   = explained_variance_score( y_test0 ,bayes0.predict(X_test0))\n",
    "MAE_bayes   = mean_absolute_error(      y_test0 ,bayes0.predict(X_test0))\n",
    "\n",
    "R2_lasso    = r2_score(                 y_test0 ,lasso0.predict(X_test0))\n",
    "EVS_lasso   = explained_variance_score( y_test0 ,lasso0.predict(X_test0))\n",
    "MAE_lasso   = mean_absolute_error(      y_test0 ,lasso0.predict(X_test0))\n",
    "\n",
    "R2_mpl      = r2_score(                 y_test0 ,mpl0.predict(X_test0))\n",
    "EVS_mpl     = explained_variance_score( y_test0 ,mpl0.predict(X_test0))\n",
    "MAE_mpl     = mean_absolute_error(      y_test0 ,mpl0.predict(X_test0))\n",
    "\n",
    "R2_knn      = r2_score(                 y_test0 ,knn0.predict(X_test0))\n",
    "EVS_knn     = explained_variance_score( y_test0 ,knn0.predict(X_test0))\n",
    "MAE_knn     = mean_absolute_error(      y_test0 ,knn0.predict(X_test0))"
   ]
  },
  {
   "cell_type": "code",
   "execution_count": null,
   "metadata": {},
   "outputs": [],
   "source": [
    "RSQ = [R2_svm , R2_sgd , R2_mtask , R2_lars , R2_lasso , R2_ridge , R2_elastic  , R2_bayes , R2_mpl , R2_knn]\n",
    "EVS = [EVS_svm, EVS_sgd, EVS_mtask, EVS_lars, EVS_lasso, EVS_ridge, EVS_elastic , EVS_bayes, EVS_mpl, EVS_knn]\n",
    "MAE = [MAE_svm, MAE_sgd, MAE_mtask, MAE_lars, MAE_lasso, MAE_ridge, MAE_elastic , MAE_bayes, MAE_mpl, MAE_knn]\n",
    "MOD = ['SVM'  , 'SGD'  , 'MTASK'  , 'LARS'  , 'Lasso'  , 'Ridge'  ,'Elastic Net', 'Bayes'  , 'MLP'  , 'KNN']\n",
    "BHY = [ svm0.best_params_ , sgd0.best_params_, mtask0.best_params_, lars0.best_params_, lasso0.best_params_,\n",
    "        ridge0.best_params_, elastic0.best_params_, bayes0.best_params_, mpl0.best_params_, knn0.best_params_]"
   ]
  },
  {
   "cell_type": "code",
   "execution_count": null,
   "metadata": {},
   "outputs": [],
   "source": [
    "resumo_rs = {'Mod' : MOD,\n",
    "             'R2'  : RSQ,\n",
    "             'EVS' : EVS,\n",
    "             'MAE' : MAE,\n",
    "             'BHY' : BHY }"
   ]
  },
  {
   "cell_type": "code",
   "execution_count": null,
   "metadata": {},
   "outputs": [],
   "source": [
    "pd_resumo_rlv0 = pd.DataFrame(data=resumo_rs)\n",
    "pd_resumo_rlv0"
   ]
  },
  {
   "cell_type": "code",
   "execution_count": null,
   "metadata": {},
   "outputs": [],
   "source": [
    "pd_resumo_rlv0.to_csv('pd_resumo_rlv0.csv')"
   ]
  },
  {
   "cell_type": "markdown",
   "metadata": {},
   "source": [
    "<a name=\"halving\"></a>\n",
    "\n",
    "# 4) Halving Random Serach Tunning\n",
    "\n",
    "- 4.1 [Suport Vector Machine](#svm2)\n",
    "- 4.2 [Stochastic Gradient Descent](#sgd2)\n",
    "- 4.3 [Multi-Task Elastic-Net](#elastic2)\n",
    "- 4.4 [Least Angle Regression Model (LAR)](#LAR2)\n",
    "- 4.5 [Ridge Regression](#ridge2)\n",
    "- 4.6 [ElasticNet Regression](#ElasNet2)\n",
    "- 4.7 [Bayesian Ridge](#bayesian2)\n",
    "- 4.8 [Lasso Regression](#lasso2)\n",
    "- 4.9 [Multilayer Perceptron Regression](#mlp2)\n",
    "- 4.10 [Nearest Neighbors Regression](#nnr2)\n",
    "- 4.11 [Resumo dos resultados](#resumo_rs2)"
   ]
  },
  {
   "cell_type": "markdown",
   "metadata": {},
   "source": [
    "<a name=\"svm2\"></a>\n",
    "\n",
    "## 4.1) Suport Vector Machine\n",
    "\n",
    "- ir para [Menu Principal](#navegacao)\n",
    "- ir para [Train/Test partition](#partition)\n",
    "- ir para [Baysian Optimization](#bayesian)\n",
    "- ir para [Halving Random Serach](#halving)"
   ]
  },
  {
   "cell_type": "code",
   "execution_count": null,
   "metadata": {},
   "outputs": [],
   "source": [
    "%%time\n",
    "from sklearn.svm import SVR\n",
    "\n",
    "# define search space\n",
    "space = dict()\n",
    "space = dict()\n",
    "space['kernel']    = ['linear','poly','rbf','sigmoid']\n",
    "space['gamma']     = ['scale','auto']\n",
    "space['coef0']     = [row/50 for row in range(1,100,4)]\n",
    "space['C']         = [row/50 for row in range(1,100,4)]\n",
    "space['epsilon']   = [row/25 for row in range(5,25)]\n",
    "space['degree']    = [row/500 for row in range(1,250,5)]\n",
    "space['tol']       = [row/2000 for row in range(1,200,10)]\n",
    "space['shrinking'] = [True, False] \n",
    "\n",
    "svm  = SVR()\n",
    "\n",
    "svm1 = HalvingRandomSearchCV(svm, space, n_candidates=300, random_state=666, cv=3, \n",
    "                             max_resources=600, factor=3, n_jobs=20, scoring='f1')\n",
    "\n",
    "svm1.fit(X_train, y_train)\n",
    "#4min 3s"
   ]
  },
  {
   "cell_type": "code",
   "execution_count": null,
   "metadata": {},
   "outputs": [],
   "source": [
    "# summarize result\n",
    "print('Best Score: %s' % svm1.best_score_)\n",
    "print('Best Hyperparameters: %s' % svm1.best_params_)"
   ]
  },
  {
   "cell_type": "code",
   "execution_count": null,
   "metadata": {},
   "outputs": [],
   "source": [
    "%%time\n",
    "svm1= SVR(C= 3.2633, coef0 = 0.8874, degree= 1.6077, epsilon= 2.21599, shrinking=False, tol= 0.00825) \n",
    "svm1.fit(X_train, y_train)"
   ]
  },
  {
   "cell_type": "code",
   "execution_count": null,
   "metadata": {},
   "outputs": [],
   "source": [
    "from sklearn.metrics import r2_score, explained_variance_score, mean_absolute_error\n",
    "print(\"R2:\", r2_score(                 y_test0, svm1.predict(X_test0)))\n",
    "print(\"EVS\", explained_variance_score( y_test0, svm1.predict(X_test0)))\n",
    "print(\"MAE\", mean_absolute_error(      y_test0, svm1.predict(X_test0)))"
   ]
  },
  {
   "cell_type": "code",
   "execution_count": null,
   "metadata": {},
   "outputs": [],
   "source": [
    "# Save to file in the current working directory\n",
    "with open(\"pickle/svm1.pkl\", 'wb') as file:\n",
    "    pickle.dump(svm1, file)"
   ]
  },
  {
   "cell_type": "markdown",
   "metadata": {},
   "source": [
    "<a name=\"sgd2\"></a>\n",
    "\n",
    "## 4.2) Stochastic Gradient Descent \n",
    "\n",
    "- ir para [Menu Principal](#navegacao)\n",
    "- ir para [Train/Test partition](#partition)\n",
    "- ir para [Baysian Optimization](#bayesian)\n",
    "- ir para [Random Search](#randomsearch)\n",
    "- ir para [Halving Random Serach](#halving)"
   ]
  },
  {
   "cell_type": "code",
   "execution_count": null,
   "metadata": {},
   "outputs": [],
   "source": [
    "%%time\n",
    "from sklearn.linear_model import SGDRegressor\n",
    "\n",
    "# define search space\n",
    "space = dict()\n",
    "space['alpha']          = [row/50 for row in range(40,500,10)]\n",
    "space['l1_ratio']       = [row/400 for row in range(20,100,8)] \n",
    "space['loss']           = ['squared_loss']\n",
    "space['penalty']        = ['l2']\n",
    "space['learning_rate']  = ['invscaling']\n",
    "space['epsilon']        = [row/700 for row in range(10,200,10)]\n",
    "space['eta0']           = [row/1200 for row in range(1,200,10)]\n",
    "space['power_t']        = [row/600 for row in range(60,300,10)]\n",
    "space['early_stopping'] = [False]\n",
    "space['tol']            = [row/5000 for row in range(1,60,20)]\n",
    "\n",
    "sgd = SGDRegressor(max_iter=1500)\n",
    "\n",
    "sgd1 = HalvingRandomSearchCV(sgd, space, n_candidates=300, random_state=666, cv=3, max_resources=1000, \n",
    "                             factor=3, n_jobs=20, scoring='f1')\n",
    "\n",
    "\n",
    "sgd1.fit(X_train0, y_train0.ravel())"
   ]
  },
  {
   "cell_type": "code",
   "execution_count": null,
   "metadata": {},
   "outputs": [],
   "source": [
    "# summarize result\n",
    "print('Best Score: %s' % sgd1.best_score_)\n",
    "print('Best Hyperparameters: %s' % sgd1.best_params_)"
   ]
  },
  {
   "cell_type": "code",
   "execution_count": null,
   "metadata": {},
   "outputs": [],
   "source": [
    "%%time\n",
    "svm1= SVR(C= 3.2633, coef0 = 0.8874, degree= 1.6077, epsilon= 2.21599, shrinking=False, tol= 0.00825) \n",
    "svm1.fit(X_train, y_train)"
   ]
  },
  {
   "cell_type": "code",
   "execution_count": null,
   "metadata": {},
   "outputs": [],
   "source": [
    "from sklearn.metrics import r2_score, explained_variance_score, mean_absolute_error\n",
    "\n",
    "print(\"R2:\", r2_score(                 y_test0, sgd1.predict(X_test0)))\n",
    "print(\"EVS\", explained_variance_score( y_test0, sgd1.predict(X_test0)))\n",
    "print(\"MAE\", mean_absolute_error(      y_test0, sgd1.predict(X_test0)))"
   ]
  },
  {
   "cell_type": "code",
   "execution_count": null,
   "metadata": {},
   "outputs": [],
   "source": [
    "# Save to file in the current working directory\n",
    "with open(\"pickle/sgd1.pkl\", 'wb') as file:\n",
    "    pickle.dump(sgd1, file)"
   ]
  },
  {
   "cell_type": "markdown",
   "metadata": {},
   "source": [
    "<a name=\"elastic2\"></a>\n",
    "\n",
    "## 4.3) Multi-Task Elastic-Net\n",
    "\n",
    "- ir para [Menu Principal](#navegacao)\n",
    "- ir para [Train/Test partition](#partition)\n",
    "- ir para [Baysian Optimization](#bayesian)\n",
    "- ir para [Random Search](#randomsearch)\n",
    "- ir para [Halving Random Serach](#halving)"
   ]
  },
  {
   "cell_type": "code",
   "execution_count": null,
   "metadata": {},
   "outputs": [],
   "source": [
    "%%time\n",
    "from sklearn import linear_model\n",
    "\n",
    "space = dict()\n",
    "space['alpha']         = [row/200 for row in range(1,1200,60)]\n",
    "space['l1_ratio']      = [row/30 for row in range(1,300,10)]\n",
    "space['fit_intercept'] = [False,True]\n",
    "space['normalize']     = [False,True]\n",
    "space['warm_start']    = [False,True]\n",
    "space['copy_X']        = [False,True]\n",
    "space['selection']     = ['cyclic','random']\n",
    "space['tol']           = [row/5000 for row in range(1,20,2)]\n",
    "\n",
    "\n",
    "mtask = linear_model.MultiTaskElasticNet(max_iter=800)\n",
    "\n",
    "mtask1 = HalvingRandomSearchCV(mtask, space, n_candidates=300, random_state=666, cv=3, max_resources=1000, \n",
    "                             factor=3, n_jobs=20, scoring='f1')\n",
    "\n",
    "mtask1.fit(X_train, y_train)"
   ]
  },
  {
   "cell_type": "code",
   "execution_count": null,
   "metadata": {},
   "outputs": [],
   "source": [
    "# summarize result\n",
    "print('Best Score: %s' % mtask1.best_score_)\n",
    "print('Best Hyperparameters: %s' % mtask1.best_params_)"
   ]
  },
  {
   "cell_type": "code",
   "execution_count": null,
   "metadata": {},
   "outputs": [],
   "source": [
    "from sklearn.metrics import r2_score, explained_variance_score, mean_absolute_error\n",
    "\n",
    "print(\"R2:\", r2_score(                 y_test,mtask1.predict(X_test)))\n",
    "print(\"EVS\", explained_variance_score( y_test,mtask1.predict(X_test)))\n",
    "print(\"MAE\", mean_absolute_error(      y_test,mtask1.predict(X_test)))"
   ]
  },
  {
   "cell_type": "code",
   "execution_count": null,
   "metadata": {},
   "outputs": [],
   "source": [
    "# Save to file in the current working directory\n",
    "with open(\"pickle/mtask1.pkl\", 'wb') as file:\n",
    "    pickle.dump(mtask1, file)"
   ]
  },
  {
   "cell_type": "markdown",
   "metadata": {},
   "source": [
    "<a name=\"LAR2\"></a>\n",
    "\n",
    "## 4.4) Least Angle Regression Model (LAR)\n",
    "\n",
    "- ir para [Menu Principal](#navegacao)\n",
    "- ir para [Train/Test partition](#partition)\n",
    "- ir para [Baysian Optimization](#bayesian)\n",
    "- ir para [Random Search](#randomsearch)\n",
    "- ir para [Halving Random Serach](#halving)"
   ]
  },
  {
   "cell_type": "code",
   "execution_count": null,
   "metadata": {},
   "outputs": [],
   "source": [
    "linear_model.LassoLars().get_params().keys()"
   ]
  },
  {
   "cell_type": "code",
   "execution_count": null,
   "metadata": {},
   "outputs": [],
   "source": [
    "%%time\n",
    "from sklearn import linear_model\n",
    "\n",
    "space = dict()\n",
    "space['alpha']          = [row/300 for row in range(1,900,10)]\n",
    "space['fit_intercept']  = [False,True]\n",
    "space['fit_path']       = [False,True]\n",
    "space['normalize']      = [False,True]\n",
    "space['copy_X']         = [False,True]\n",
    "space['positive']       = [False,True]\n",
    "space['eps']            = [row/100 for row in range(1000,10000,100)]\n",
    "\n",
    "\n",
    "lars = linear_model.LassoLars()\n",
    "\n",
    "lars1 = HalvingRandomSearchCV(mtask, space, n_candidates=300, random_state=666, cv=3, max_resources=1000, \n",
    "                             factor=3, n_jobs=20, scoring='f1')\n",
    "\n",
    "lars1.fit(X_train, y_train)"
   ]
  },
  {
   "cell_type": "code",
   "execution_count": null,
   "metadata": {},
   "outputs": [],
   "source": [
    "# summarize result\n",
    "print('Best Score: %s' % lars1.best_score_)\n",
    "print('Best Hyperparameters: %s' % lars1.best_params_)"
   ]
  },
  {
   "cell_type": "code",
   "execution_count": null,
   "metadata": {},
   "outputs": [],
   "source": [
    "from sklearn.metrics import r2_score, explained_variance_score, mean_absolute_error\n",
    "\n",
    "print(\"R2:\", r2_score(                 y_test,lars1.predict(X_test)))\n",
    "print(\"EVS\", explained_variance_score( y_test,lars1.predict(X_test)))\n",
    "print(\"MAE\", mean_absolute_error(      y_test,lars1.predict(X_test)))"
   ]
  },
  {
   "cell_type": "code",
   "execution_count": null,
   "metadata": {},
   "outputs": [],
   "source": [
    "# Save to file in the current working directory\n",
    "with open(\"pickle/lars1.pkl\", 'wb') as file:\n",
    "    pickle.dump(lars1, file)"
   ]
  },
  {
   "cell_type": "markdown",
   "metadata": {},
   "source": [
    "<a name=\"ridge2\"></a>\n",
    "\n",
    "## 4.5) Ridge Regression\n",
    "\n",
    "- ir para [Menu Principal](#navegacao)\n",
    "- ir para [Train/Test partition](#partition)\n",
    "- ir para [Baysian Optimization](#bayesian)\n",
    "- ir para [Random Search](#randomsearch)\n",
    "- ir para [Halving Random Serach](#halving)"
   ]
  },
  {
   "cell_type": "code",
   "execution_count": null,
   "metadata": {},
   "outputs": [],
   "source": [
    "%%time\n",
    "from sklearn.linear_model import Ridge\n",
    "space = dict()\n",
    "space['alpha']         = [row/500 for row in range(8,100,5)]\n",
    "space['copy_X']        = [False,True]\n",
    "space['fit_intercept'] = [False,True]\n",
    "space['normalize']     = [False,True]\n",
    "space['solver']        = ['auto','svd','cholesky','lsqr','sparse_cg']\n",
    "space['tol']           = [row/100000 for row in range(1,1000,10)]\n",
    "\n",
    "ridge = Ridge()\n",
    "\n",
    "ridge1 = HalvingRandomSearchCV(ridge, space, n_candidates=300, random_state=666, cv=3, factor=3, n_jobs=20, scoring='f1')\n",
    "\n",
    "ridge1.fit(X_train, y_train)"
   ]
  },
  {
   "cell_type": "code",
   "execution_count": null,
   "metadata": {},
   "outputs": [],
   "source": [
    "# summarize result\n",
    "print('Best Score: %s' % ridge1.best_score_)\n",
    "print('Best Hyperparameters: %s' % ridge1.best_params_)"
   ]
  },
  {
   "cell_type": "code",
   "execution_count": null,
   "metadata": {},
   "outputs": [],
   "source": [
    "from sklearn.metrics import r2_score, explained_variance_score, mean_absolute_error\n",
    "\n",
    "print(\"R2:\", r2_score(                 y_test, ridge1.predict(X_test)))\n",
    "print(\"EVS\", explained_variance_score( y_test, ridge1.predict(X_test)))\n",
    "print(\"MAE\", mean_absolute_error(      y_test, ridge1.predict(X_test)))"
   ]
  },
  {
   "cell_type": "code",
   "execution_count": null,
   "metadata": {},
   "outputs": [],
   "source": [
    "# Save to file in the current working directory\n",
    "with open(\"pickle/ridge1.pkl\", 'wb') as file:\n",
    "    pickle.dump(ridge1, file)"
   ]
  },
  {
   "cell_type": "markdown",
   "metadata": {},
   "source": [
    "<a name=\"ElasNet2\"></a>\n",
    "\n",
    "## 4.6) ElasticNet Regression\n",
    "\n",
    "- ir para [Menu Principal](#navegacao)\n",
    "- ir para [Train/Test partition](#partition)\n",
    "- ir para [Baysian Optimization](#bayesian)\n",
    "- ir para [Random Search](#randomsearch)\n",
    "- ir para [Halving Random Serach](#halving)\n",
    "\n"
   ]
  },
  {
   "cell_type": "code",
   "execution_count": null,
   "metadata": {},
   "outputs": [],
   "source": [
    "%%time\n",
    "from sklearn.linear_model import ElasticNet\n",
    "\n",
    "space = dict()\n",
    "space['alpha']         = [row/500 for row in range(1,500,5)]\n",
    "space['l1_ratio']      = [row/250 for row in range(5,1000,10)]\n",
    "space['fit_intercept'] = [False,True]\n",
    "space['normalize']     = [False,True]\n",
    "space['precompute']    = [False,True]\n",
    "space['copy_X']        = [False,True]\n",
    "space['warm_start']    = [False,True]\n",
    "space['positive']      = [False,True]\n",
    "space['selection']     = ['cyclic','random']\n",
    "space['tol']           = [row/10000 for row in range(10,10000,10)]\n",
    "\n",
    "elastic = ElasticNet()\n",
    "\n",
    "elastic1 = HalvingRandomSearchCV(elastic, space, n_candidates=300, random_state=666, cv=3, factor=3, n_jobs=20, scoring='f1')\n",
    "\n",
    "elastic1.fit(X_train, y_train)"
   ]
  },
  {
   "cell_type": "code",
   "execution_count": null,
   "metadata": {},
   "outputs": [],
   "source": [
    "# summarize result\n",
    "print('Best Score: %s' % elastic1.best_score_)\n",
    "print('Best Hyperparameters: %s' % elastic1.best_params_)"
   ]
  },
  {
   "cell_type": "code",
   "execution_count": null,
   "metadata": {},
   "outputs": [],
   "source": [
    "# summarize result\n",
    "print('Best Score: %s' % elastic1.best_score_)\n",
    "print('Best Hyperparameters: %s' % elastic1.best_params_)"
   ]
  },
  {
   "cell_type": "code",
   "execution_count": null,
   "metadata": {},
   "outputs": [],
   "source": [
    "# Save to file in the current working directory\n",
    "with open(\"pickle/elastic1.pkl\", 'wb') as file:\n",
    "    pickle.dump(elastic1, file)"
   ]
  },
  {
   "cell_type": "markdown",
   "metadata": {},
   "source": [
    "<a name=\"bayesian2\"></a>\n",
    "\n",
    "## 4.7) Bayesian Ridge Regression\n",
    "\n",
    "- ir para [Menu Principal](#navegacao)\n",
    "- ir para [Train/Test partition](#partition)\n",
    "- ir para [Baysian Optimization](#bayesian)\n",
    "- ir para [Random Search](#randomsearch)\n",
    "- ir para [Halving Random Serach](#halving)\n"
   ]
  },
  {
   "cell_type": "code",
   "execution_count": null,
   "metadata": {},
   "outputs": [],
   "source": [
    "%%time   \n",
    "from sklearn.linear_model import BayesianRidge\n",
    "\n",
    "space = dict()\n",
    "space['alpha_1']        = [row/40000000 for row in range(1,2000,100)]\n",
    "space['alpha_2']        = [row/40000000 for row in range(1,2000,100)]\n",
    "space['lambda_1']       = [row/40000000 for row in range(1,2000,100)]\n",
    "space['lambda_2']       = [row/40000000 for row in range(1,2000,100)]\n",
    "space['compute_score']  = [False]\n",
    "space['copy_X']         = [True]\n",
    "space['fit_intercept']  = [True]\n",
    "space['normalize']      = [False]\n",
    "space['tol']            = [row/5000 for row in range(1,100,10)]\n",
    "\n",
    "bayes = BayesianRidge()\n",
    "\n",
    "bayes1 = HalvingRandomSearchCV(bayes, space, n_candidates = 300 , max_resources=50, \n",
    "                               random_state=666, cv=3, factor=3, n_jobs=20 , scoring='f1')\n",
    "bayes1.fit(X_train, y_train.values.ravel())"
   ]
  },
  {
   "cell_type": "code",
   "execution_count": null,
   "metadata": {},
   "outputs": [],
   "source": [
    "# summarize result\n",
    "print('Best Score: %s' % bayes1.best_score_)\n",
    "print('Best Hyperparameters: %s' % bayes1.best_params_)"
   ]
  },
  {
   "cell_type": "code",
   "execution_count": null,
   "metadata": {},
   "outputs": [],
   "source": [
    "from sklearn.metrics import r2_score, explained_variance_score, mean_absolute_error\n",
    "\n",
    "print(\"R2:\", r2_score(                 y_test, bayes1.predict(X_test)))\n",
    "print(\"EVS\", explained_variance_score( y_test, bayes1.predict(X_test)))\n",
    "print(\"MAE\", mean_absolute_error(      y_test, bayes1.predict(X_test)))"
   ]
  },
  {
   "cell_type": "code",
   "execution_count": null,
   "metadata": {},
   "outputs": [],
   "source": [
    "# Save to file in the current working directory\n",
    "with open(\"pickle/bayes1.pkl\", 'wb') as file:\n",
    "    pickle.dump(bayes1, file)"
   ]
  },
  {
   "cell_type": "markdown",
   "metadata": {},
   "source": [
    "<a name=\"lasso2\"></a>\n",
    "\n",
    "## 4.8) Lasso Regression\n",
    "\n",
    "- ir para [Menu Principal](#navegacao)\n",
    "- ir para [Train/Test partition](#partition)\n",
    "- ir para [Baysian Optimization](#bayesian)\n",
    "- ir para [Random Search](#randomsearch)\n",
    "- ir para [Halving Random Serach](#halving)\n",
    "\n"
   ]
  },
  {
   "cell_type": "code",
   "execution_count": null,
   "metadata": {},
   "outputs": [],
   "source": [
    "%%time\n",
    "from sklearn.linear_model import Lasso\n",
    "\n",
    "space = dict()\n",
    "space['alpha']         = [row/1000 for row in range(10,100,5)]\n",
    "space['copy_X']        = [False,True]\n",
    "space['fit_intercept'] = [False,True]\n",
    "space['normalize']     = [False,True]\n",
    "space['precompute']    = [False,True]\n",
    "space['positive']      = [False,True]\n",
    "space['selection']     = ['cyclic','random']\n",
    "space['tol']           = [row/1000000 for row in range(100,10000,10)]\n",
    "\n",
    "\n",
    "lasso = Lasso()\n",
    "\n",
    "lasso1 = HalvingRandomSearchCV(lasso, space, n_candidates = 300 , max_resources=50, \n",
    "                               random_state=666, cv=3, factor=3, n_jobs=20 , scoring='f1')\n",
    "\n",
    "lasso1.fit(X_train, y_train.values.ravel())"
   ]
  },
  {
   "cell_type": "code",
   "execution_count": null,
   "metadata": {},
   "outputs": [],
   "source": [
    "# summarize result\n",
    "print('Best Score: %s' % lasso1.best_score_)\n",
    "print('Best Hyperparameters: %s' % lasso1.best_params_)"
   ]
  },
  {
   "cell_type": "code",
   "execution_count": null,
   "metadata": {},
   "outputs": [],
   "source": [
    "from sklearn.metrics import r2_score, explained_variance_score, mean_absolute_error\n",
    "\n",
    "print(\"R2:\", r2_score(                 y_test, lasso1.predict(X_test)))\n",
    "print(\"EVS\", explained_variance_score( y_test, lasso1.predict(X_test)))\n",
    "print(\"MAE\", mean_absolute_error(      y_test, lasso1.predict(X_test)))"
   ]
  },
  {
   "cell_type": "code",
   "execution_count": null,
   "metadata": {},
   "outputs": [],
   "source": [
    "# Save to file in the current working directory\n",
    "with open(\"pickle/lasso1.pkl\", 'wb') as file:\n",
    "    pickle.dump(lasso1, file)"
   ]
  },
  {
   "cell_type": "markdown",
   "metadata": {},
   "source": [
    "<a name=\"mlp2\"></a>\n",
    "\n",
    "## 4.9) Multilayer Perceptron\n",
    "\n",
    "- ir para [Menu Principal](#navegacao)\n",
    "- ir para [Train/Test partition](#partition)\n",
    "- ir para [Baysian Optimization](#bayesian)\n",
    "- ir para [Random Search](#randomsearch)\n",
    "- ir para [Halving Random Serach](#halving)\n",
    "\n"
   ]
  },
  {
   "cell_type": "code",
   "execution_count": null,
   "metadata": {},
   "outputs": [],
   "source": [
    "%%time\n",
    "from sklearn.neural_network import MLPRegressor\n",
    "\n",
    "space = dict()\n",
    "space['hidden_layer_sizes']  = [(100,50), (25,100,25), (75,50,75)]\n",
    "space['activation']          = ['identity','logistic','tanh','relu']\n",
    "space['solver']              = ['lbfgs', 'sgd', 'adam']\n",
    "space['alpha']               = [row/200 for row in range(1,100,20)]\n",
    "space['learning_rate']       = ['constant','invscaling','adaptive']\n",
    "space['learning_rate_init']  = [row/1000 for row in range(1,20,10)]\n",
    "space['warm_start']          = [False]\n",
    "space['power_t']             = [row/50 for row in range(1,200,40)]\n",
    "space['tol']                 = [row/50000000 for row in range(1,1000,400)]\n",
    "space['momentum']            = [row/200 for row in range(1,100,20)]\n",
    "space['nesterovs_momentum']  = [True]\n",
    "space['early_stopping']      = [False]\n",
    "space['beta_1']              = [row/200 for row in range(1,20,12)]\n",
    "space['beta_2']              = [row/200 for row in range(1,20,12)]\n",
    "space['epsilon']             = [row/200 for row in range(1,20,12)]\n",
    "    \n",
    "mpl = MLPRegressor(max_iter=1200)\n",
    "\n",
    "mpl1 = HalvingRandomSearchCV(mpl, space, n_candidates = 300 , max_resources=50, \n",
    "                               random_state=666, cv=3, factor=3, n_jobs=20 , scoring='f1')\n",
    "\n",
    "mpl1.fit(X_train0, y_train0.ravel())"
   ]
  },
  {
   "cell_type": "code",
   "execution_count": null,
   "metadata": {},
   "outputs": [],
   "source": [
    "# summarize result\n",
    "print('Best Score: %s' % mpl1.best_score_)\n",
    "print('Best Hyperparameters: %s' % mpl1.best_params_)"
   ]
  },
  {
   "cell_type": "code",
   "execution_count": null,
   "metadata": {},
   "outputs": [],
   "source": [
    "from sklearn.metrics import r2_score, explained_variance_score, mean_absolute_error\n",
    "\n",
    "print(\"R2:\", r2_score(                 y_test0, mpl1.predict(X_test0)))\n",
    "print(\"EVS\", explained_variance_score( y_test0, mpl1.predict(X_test0)))\n",
    "print(\"MAE\", mean_absolute_error(      y_test0, mpl1.predict(X_test0)))"
   ]
  },
  {
   "cell_type": "code",
   "execution_count": null,
   "metadata": {},
   "outputs": [],
   "source": [
    "# Save to file in the current working directory\n",
    "with open(\"pickle/mpl1.pkl\", 'wb') as file:\n",
    "    pickle.dump(mpl1, file)"
   ]
  },
  {
   "cell_type": "markdown",
   "metadata": {},
   "source": [
    "<a name=\"nnr2\"></a>\n",
    "\n",
    "## 4.10) Nearest Neighbors Regression\n",
    "\n",
    "- ir para [Menu Principal](#navegacao)\n",
    "- ir para [Train/Test partition](#partition)\n",
    "- ir para [Baysian Optimization](#bayesian)\n",
    "- ir para [Random Search](#randomsearch)\n",
    "- ir para [Halving Random Serach](#halving)\n"
   ]
  },
  {
   "cell_type": "code",
   "execution_count": null,
   "metadata": {},
   "outputs": [],
   "source": [
    "%%time\n",
    "from sklearn.neighbors import KNeighborsRegressor\n",
    "\n",
    "space = dict()\n",
    "space['n_neighbors'] = [row for row in range(4,10,2)]\n",
    "space['weights']     = ['uniform', 'distance']\n",
    "space['algorithm']   = ['auto', 'ball_tree', 'kd_tree', 'brute']\n",
    "space['leaf_size']   = [row for row in range(10,50,2)]\n",
    "space['p']           = [row for row in range(2,8,2)]\n",
    "    \n",
    "knn = KNeighborsRegressor()\n",
    "\n",
    "knn1 = HalvingRandomSearchCV(knn, space, n_candidates = 300 , max_resources=50, \n",
    "                               random_state=666, cv=3, factor=3, n_jobs=20 , scoring='f1')\n",
    "\n",
    "knn1.fit(X_train, y_train)"
   ]
  },
  {
   "cell_type": "code",
   "execution_count": null,
   "metadata": {},
   "outputs": [],
   "source": [
    "# summarize result\n",
    "print('Best Score: %s' % knn1.best_score_)\n",
    "print('Best Hyperparameters: %s' % knn1.best_params_)"
   ]
  },
  {
   "cell_type": "code",
   "execution_count": null,
   "metadata": {},
   "outputs": [],
   "source": [
    "from sklearn.metrics import r2_score, explained_variance_score, mean_absolute_error\n",
    "\n",
    "print(\"R2:\", r2_score(                 y_test, knn1.predict(X_test)))\n",
    "print(\"EVS\", explained_variance_score( y_test, knn1.predict(X_test)))\n",
    "print(\"MAE\", mean_absolute_error(      y_test, knn1.predict(X_test)))"
   ]
  },
  {
   "cell_type": "code",
   "execution_count": null,
   "metadata": {},
   "outputs": [],
   "source": [
    "# Save to file in the current working directory\n",
    "with open(\"pickle/knn1.pkl\", 'wb') as file:\n",
    "    pickle.dump(knn1, file)"
   ]
  },
  {
   "cell_type": "markdown",
   "metadata": {},
   "source": [
    "<a name=\"resumo_rs2\"></a>\n",
    "\n",
    "## 4.11) Resumo dos resultados\n",
    "\n",
    "- ir para [Menu Principal](#navegacao)\n",
    "- ir para [Train/Test partition](#partition)\n",
    "- ir para [Baysian Optimization](#bayesian)\n",
    "- ir para [Random Search](#randomsearch)\n",
    "- ir para [Halving Random Serach](#halving)\n"
   ]
  },
  {
   "cell_type": "code",
   "execution_count": null,
   "metadata": {},
   "outputs": [],
   "source": [
    "R2_mpl      = r2_score(                 y_test0, mpl1.predict(X_test0))\n",
    "EVS_mpl     = explained_variance_score( y_test0, mpl1.predict(X_test0))\n",
    "MAE_mpl     = mean_absolute_error(      y_test0, mpl1.predict(X_test0))\n",
    "\n",
    "R2_lasso    = r2_score(                 y_test0, lasso1.predict(X_test0))\n",
    "EVS_lasso   = explained_variance_score( y_test0, lasso1.predict(X_test0))\n",
    "MAE_lasso   = mean_absolute_error(      y_test0, lasso1.predict(X_test0))\n",
    "\n",
    "R2_bayes    = r2_score(                 y_test0, bayes1.predict(X_test0))\n",
    "EVS_bayes   = explained_variance_score( y_test0, bayes1.predict(X_test0))\n",
    "MAE_bayes   = mean_absolute_error(      y_test0, bayes1.predict(X_test0))\n",
    "\n",
    "R2_elastic  = r2_score(                 y_test0, elastic1.predict(X_test0))\n",
    "EVS_elastic = explained_variance_score( y_test0, elastic1.predict(X_test0))\n",
    "MAE_elastic = mean_absolute_error(      y_test0, elastic1.predict(X_test0))\n",
    "\n",
    "R2_ridge    = r2_score(                 y_test , ridge1.predict(X_test))\n",
    "EVS_ridge   = explained_variance_score( y_test , ridge1.predict(X_test))\n",
    "MAE_ridge   = mean_absolute_error(      y_test , ridge1.predict(X_test))\n",
    "\n",
    "R2_lars     = r2_score(                 y_test ,lars1.predict(X_test))\n",
    "EVS_lars    = explained_variance_score( y_test ,lars1.predict(X_test))\n",
    "MAE_lars    = mean_absolute_error(      y_test ,lars1.predict(X_test))\n",
    "\n",
    "R2_sgd      = r2_score(                 y_test ,sgd1.predict(X_test))\n",
    "EVS_sgd     = explained_variance_score( y_test ,sgd1.predict(X_test))\n",
    "MAE_sgd     = mean_absolute_error(      y_test ,sgd1.predict(X_test))\n",
    "\n",
    "R2_svm      = r2_score(                 y_test0 ,svm1.predict(X_test0))\n",
    "EVS_svm     = explained_variance_score( y_test0 ,svm1.predict(X_test0))\n",
    "MAE_svm     = mean_absolute_error(      y_test0 ,svm1.predict(X_test0))\n",
    "\n",
    "R2_knn      = r2_score(                 y_test0, knn1.predict(X_test0))\n",
    "EVS_knn     = explained_variance_score( y_test0, knn1.predict(X_test0))\n",
    "MAE_knn     = mean_absolute_error(      y_test0, knn1.predict(X_test0))"
   ]
  },
  {
   "cell_type": "code",
   "execution_count": null,
   "metadata": {},
   "outputs": [],
   "source": [
    "RSQ = [R2_mpl , R2_lasso , R2_bayes , R2_elastic   , R2_ridge  , R2_lars  , R2_sgd , R2_svm , R2_knn]\n",
    "EVS = [EVS_mpl, EVS_lasso, EVS_bayes, EVS_elastic  , EVS_ridge , EVS_lars , EVS_sgd, EVS_svm, EVS_knn]\n",
    "MAE = [MAE_mpl, MAE_lasso, MAE_bayes, MAE_elastic  , MAE_ridge , MAE_lars , MAE_sgd, MAE_svm, MAE_knn]\n",
    "MOD = ['MLP'  , 'Lasso'  , 'Bayes'  ,'Elastic Net' , 'Ridge'   , 'LARS'   , 'SGD'  ,'SVM Reg', 'KNN']\n",
    "BHY = [ mpl1.best_params_ ,lasso1.best_params_  ,bayes1.best_params_  ,elastic1.best_params_ ,\n",
    "        ridge1.best_params_ ,lars1.best_params_ ,sgd1.best_params_  ,svm1.best_params_ , knn1.best_params_]"
   ]
  },
  {
   "cell_type": "code",
   "execution_count": null,
   "metadata": {},
   "outputs": [],
   "source": [
    "resumo_gs = {'Mod' : MOD, \n",
    "             'R2'  : RSQ, \n",
    "             'EVS' : EVS, \n",
    "             'MAE' : MAE,\n",
    "             'BHY' : BHY}"
   ]
  },
  {
   "cell_type": "code",
   "execution_count": null,
   "metadata": {},
   "outputs": [],
   "source": [
    "pd_resumo_rlv1 = pd.DataFrame(data=resumo_gs)\n",
    "pd_resumo_rlv1"
   ]
  },
  {
   "cell_type": "code",
   "execution_count": null,
   "metadata": {},
   "outputs": [],
   "source": [
    "pd_resumo_rlv1.to_csv('pd_resumo_rlv1.csv')"
   ]
  },
  {
   "cell_type": "code",
   "execution_count": null,
   "metadata": {},
   "outputs": [],
   "source": []
  }
 ],
 "metadata": {
  "kernelspec": {
   "display_name": "base",
   "language": "python",
   "name": "python3"
  },
  "language_info": {
   "codemirror_mode": {
    "name": "ipython",
    "version": 3
   },
   "file_extension": ".py",
   "mimetype": "text/x-python",
   "name": "python",
   "nbconvert_exporter": "python",
   "pygments_lexer": "ipython3",
   "version": "3.9.12 (main, Apr  4 2022, 05:22:27) [MSC v.1916 64 bit (AMD64)]"
  },
  "vscode": {
   "interpreter": {
    "hash": "97f28f4894611546401e0c3c8e499f90f47ec6335deb0fe1a09d45e7cb8699c5"
   }
  }
 },
 "nbformat": 4,
 "nbformat_minor": 2
}
